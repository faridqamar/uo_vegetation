{
 "cells": [
  {
   "cell_type": "code",
   "execution_count": 3,
   "metadata": {},
   "outputs": [],
   "source": [
    "import pickle"
   ]
  },
  {
   "cell_type": "code",
   "execution_count": 21,
   "metadata": {},
   "outputs": [],
   "source": [
    "cmap = {0:[0,0.32549,0.62353,1], 1:[0.93333,0.9098,0.77255,1], 2:[0,0.61961,0.45098,1],  3:[0.33725,0.70588,0.91373,1],\n",
    "        4:[0,0,0,1], 5:[1,0.82353,0,1], 6:[0.90196,0.62353,0,1], 7:[0.83529,0.36863,0,1],\n",
    "        8:[0.8,0.47451,0.65490,1]}"
   ]
  },
  {
   "cell_type": "code",
   "execution_count": 58,
   "metadata": {},
   "outputs": [],
   "source": [
    "import matplotlib.pyplot as plt\n",
    "import matplotlib.patches as mpatches\n",
    "%matplotlib inline\n",
    "\n",
    "labels = ['Sky', 'Clouds','Vegetation', 'Water', 'Built',\n",
    "          'Windows', 'Roads', 'Cars', 'Metal']\n",
    "\n",
    "colors = [[0,0.32549,0.62353,1], [0.93333,0.9098,0.77255,1], [0,0.61961,0.45098,1],  [0.33725,0.70588,0.91373,1],\n",
    "        [0,0,0,1], [1,0.82353,0,1], [0.90196,0.62353,0,1], [0.83529,0.36863,0,1], [0.8,0.47451,0.65490,1]]\n",
    "\n",
    "patches = [\n",
    "    mpatches.Patch(color=color, label=label)\n",
    "    for label, color in zip(labels, colors)]"
   ]
  },
  {
   "cell_type": "code",
   "execution_count": 14,
   "metadata": {},
   "outputs": [],
   "source": [
    "#model1_108_108\n",
    "\n",
    "file = open(\"./plots/CNN_spatial_train_108_6_108_predict_map.pickle\", \"rb\")\n",
    "predictCube_model1_108_108 = pickle.load(file)"
   ]
  },
  {
   "cell_type": "code",
   "execution_count": 11,
   "metadata": {},
   "outputs": [],
   "source": [
    "#model2_108_108\n",
    "\n",
    "file = open(\"./plots/CNN_change_params_spatial_train_108_6_108_predict_map.pickle\", \"rb\")\n",
    "predictCube_model2_108_108 = pickle.load(file)"
   ]
  },
  {
   "cell_type": "markdown",
   "metadata": {},
   "source": [
    "## Plot Model 1 & 2 Train on 108 Test on All (figure 8)"
   ]
  },
  {
   "cell_type": "code",
   "execution_count": 15,
   "metadata": {},
   "outputs": [],
   "source": [
    "#model1_108_000\n",
    "\n",
    "file = open(\"./plots/CNN_spatial_train_108_9_000_predict_map.pickle\", \"rb\")\n",
    "predictCube_model1_108_000 = pickle.load(file)"
   ]
  },
  {
   "cell_type": "code",
   "execution_count": 12,
   "metadata": {},
   "outputs": [],
   "source": [
    "#model2_108_000\n",
    "\n",
    "file = open(\"./plots/CNN_change_params_spatial_train_108_9_000_predict_map.pickle\", \"rb\")\n",
    "predictCube_model2_108_000 = pickle.load(file)"
   ]
  },
  {
   "cell_type": "code",
   "execution_count": 16,
   "metadata": {},
   "outputs": [],
   "source": [
    "#model1_108_north\n",
    "\n",
    "file = open(\"./plots/CNN_spatial_train_108_11_north_predict_map.pickle\", \"rb\")\n",
    "predictCube_model1_108_north = pickle.load(file)"
   ]
  },
  {
   "cell_type": "code",
   "execution_count": 13,
   "metadata": {},
   "outputs": [],
   "source": [
    "#model2_108_north\n",
    "\n",
    "file = open(\"./plots/CNN_change_params_spatial_train_108_11_north_predict_map.pickle\", \"rb\")\n",
    "predictCube_model2_108_north = pickle.load(file)"
   ]
  },
  {
   "cell_type": "code",
   "execution_count": 22,
   "metadata": {},
   "outputs": [],
   "source": [
    "array_M1_108 = np.array([[cmap[i] for i in j] for j in predictCube_model1_108_108])\n",
    "array_M1_000 = np.array([[cmap[i] for i in j] for j in predictCube_model1_108_000])\n",
    "array_M1_nor = np.array([[cmap[i] for i in j] for j in predictCube_model1_108_north])\n",
    "array_M2_108 = np.array([[cmap[i] for i in j] for j in predictCube_model2_108_108])\n",
    "array_M2_000 = np.array([[cmap[i] for i in j] for j in predictCube_model2_108_000])\n",
    "array_M2_nor = np.array([[cmap[i] for i in j] for j in predictCube_model2_108_north])"
   ]
  },
  {
   "cell_type": "code",
   "execution_count": null,
   "metadata": {},
   "outputs": [],
   "source": [
    "plt.rcParams['font.family'] = 'DejaVu Sans'\n",
    "plt.rcParams['axes.labelweight'] = 'normal'\n",
    "plt.rcParams['text.color'] = 'black'\n",
    "plt.rcParams['axes.labelcolor'] = 'black'\n",
    "plt.rcParams['xtick.color'] = 'black'\n",
    "plt.rcParams['ytick.color'] = 'black'\n",
    "\n",
    "#fig, ((ax1, ax2), (ax3, ax4)) = plt.subplots(2, 2, figsize=(24, 20), dpi=300)\n",
    "fig = plt.figure(figsize=(48,30), dpi=300)\n",
    "gridsize=(12,25)\n",
    "ax0 = plt.subplot2grid(gridsize, (0,0), colspan=25, rowspan=1)\n",
    "ax1 = plt.subplot2grid(gridsize, (1,0), colspan=12, rowspan=6)\n",
    "ax12 = plt.subplot2grid(gridsize, (1,12), colspan=1, rowspan=6)\n",
    "ax2 = plt.subplot2grid(gridsize, (1,13), colspan=12, rowspan=6)\n",
    "ax3 = plt.subplot2grid(gridsize, (7,0), colspan=12, rowspan=5)\n",
    "ax34 = plt.subplot2grid(gridsize, (7,12), colspan=1, rowspan=5)\n",
    "ax4 = plt.subplot2grid(gridsize, (7,13), colspan=12, rowspan=5)\n",
    "\n",
    "ax0.legend(patches, labels, loc='upper center', frameon=True, mode=\"expand\", ncol=18\n",
    "           , facecolor='white', edgecolor='black', framealpha=1, fontsize=42)\n",
    "ax0.axis('off')\n",
    "ax12.axis('off')\n",
    "ax34.axis('off')\n",
    "\n",
    "\n",
    "ax1.imshow(array_M1_000, aspect=0.5)\n",
    "ax1.axis('off')\n",
    "ax1.set_title('Model 1 - Scene 1-b - mF1=0.49', loc='left', fontsize=42)\n",
    "\n",
    "ax2.imshow(array_M2_000, aspect=0.5)\n",
    "ax2.axis('off')\n",
    "ax2.set_title('Model 2 - Scene 1-b - mF1=0.53', loc='right', fontsize=42)\n",
    "\n",
    "ax3.imshow(array_M1_nor, aspect=0.35)\n",
    "ax3.axis('off')\n",
    "ax3.set_title('Model 1 - Scene 2 - mF1=0.36', loc='left', fontsize=42)\n",
    "\n",
    "ax4.imshow(array_M2_nor, aspect=0.35)\n",
    "ax4.axis('off')\n",
    "ax4.set_title('Model 2 - Scene 2 - mF1=0.37', loc='right', fontsize=42)\n",
    "\n",
    "plt.tight_layout()\n",
    "plt.show()\n",
    "fig.savefig(\"./plots/CNN_M1_M2_train_108_predict_map.png\", bbox_inches='tight', dpi=300)"
   ]
  },
  {
   "cell_type": "code",
   "execution_count": null,
   "metadata": {},
   "outputs": [],
   "source": [
    "fig, ((ax1, ax2), (ax3, ax4), (ax5, ax6)) = plt.subplots(3, 2, figsize=(26, 20), dpi=300)\n",
    "ax1.imshow(array_M1_108, aspect=0.5)\n",
    "ax1.axis('off')\n",
    "ax1.set_title('Model 1 - Scene 1-a - mF1=0.85', loc='left')\n",
    "\n",
    "ax2.imshow(array_M2_108, aspect=0.5)\n",
    "ax2.axis('off')\n",
    "ax2.set_title('Model 2 - Scene 1-a - mF1=0.95', loc='right')\n",
    "\n",
    "ax3.imshow(array_M1_000, aspect=0.5)\n",
    "ax3.axis('off')\n",
    "ax3.set_title('Model 1 - Scene 1-b - mF1=0.92', loc='left')\n",
    "\n",
    "ax4.imshow(array_M2_000, aspect=0.5)\n",
    "ax4.axis('off')\n",
    "ax4.set_title('Model 2 - Scene 1-b - mF1=0.92', loc='right')\n",
    "\n",
    "ax5.imshow(array_M1_nor, aspect=0.35)\n",
    "ax5.axis('off')\n",
    "ax5.set_title('Model 1 - Scene 2 - mF1=0.77', loc='left')\n",
    "\n",
    "ax6.imshow(array_M2_nor, aspect=0.35)\n",
    "ax6.axis('off')\n",
    "ax6.set_title('Model 2 - Scene 2 - mF1=0.85', loc='right')\n",
    "\n",
    "plt.tight_layout()\n",
    "plt.show()"
   ]
  },
  {
   "cell_type": "code",
   "execution_count": null,
   "metadata": {},
   "outputs": [],
   "source": []
  },
  {
   "cell_type": "code",
   "execution_count": null,
   "metadata": {},
   "outputs": [],
   "source": []
  }
 ],
 "metadata": {
  "kernelspec": {
   "display_name": "Python 3",
   "language": "python",
   "name": "python3"
  },
  "language_info": {
   "codemirror_mode": {
    "name": "ipython",
    "version": 3
   },
   "file_extension": ".py",
   "mimetype": "text/x-python",
   "name": "python",
   "nbconvert_exporter": "python",
   "pygments_lexer": "ipython3",
   "version": "3.7.4"
  }
 },
 "nbformat": 4,
 "nbformat_minor": 2
}
