{
 "cells": [
  {
   "cell_type": "code",
   "execution_count": 1,
   "metadata": {},
   "outputs": [],
   "source": [
    "import glob\n",
    "import numpy as np\n",
    "import hyss_util as hu\n",
    "from datetime import datetime\n",
    "from sklearn.model_selection import train_test_split\n",
    "from plotting import set_defaults\n",
    "import pandas as pd\n",
    "from pandas.plotting import scatter_matrix\n",
    "from scipy import stats\n",
    "import random\n",
    "import matplotlib.pyplot as plt\n",
    "import matplotlib.patches as patches\n",
    "%matplotlib inline"
   ]
  },
  {
   "cell_type": "code",
   "execution_count": 2,
   "metadata": {},
   "outputs": [],
   "source": [
    "# -- set the types\n",
    "\n",
    "kind = \"veg\"\n",
    "comp = \"bld\""
   ]
  },
  {
   "cell_type": "code",
   "execution_count": 3,
   "metadata": {},
   "outputs": [
    {
     "name": "stdout",
     "output_type": "stream",
     "text": [
      "reading and parsing ../../../image_files/veg_00000.hdr...\n"
     ]
    }
   ],
   "source": [
    "# -- get wavelengths\n",
    "waves = hu.read_header(\"../../../image_files/veg_00000.hdr\")[\"waves\"]\n",
    "\n",
    "# -- define good scans\n",
    "good = np.array([int(i) for i in np.load(\"../../../gdobler_output/output/good_scans.npy\")])"
   ]
  },
  {
   "cell_type": "code",
   "execution_count": 5,
   "metadata": {},
   "outputs": [
    {
     "name": "stdout",
     "output_type": "stream",
     "text": [
      "getting bld spectra...\n"
     ]
    }
   ],
   "source": [
    "# -- load comparison set from bld\n",
    "print(\"getting {0} spectra...\".format(comp))\n",
    "#try:\n",
    "#    blds_left = np.load(\"../../../gdobler_output/output/blds_left.npy\")\n",
    "#except:\n",
    "blds = np.array([np.load(i) for i in\n",
    "                sorted(glob.glob(\"../../../gdobler_output/output/{0}_specs/{0}_specs_avg*.npy\"\\\n",
    "                                .format(comp)))])\n",
    "blds = blds[good]\n",
    "# np.save(\"../../../gdobler_output/output/blds_left.npy\",blds)"
   ]
  },
  {
   "cell_type": "code",
   "execution_count": 6,
   "metadata": {},
   "outputs": [
    {
     "data": {
      "text/plain": [
       "(1102, 848)"
      ]
     },
     "execution_count": 6,
     "metadata": {},
     "output_type": "execute_result"
    }
   ],
   "source": [
    "blds.shape"
   ]
  },
  {
   "cell_type": "code",
   "execution_count": 34,
   "metadata": {},
   "outputs": [],
   "source": [
    "# -- get vegetation spectra\n",
    "#print(\"getting {0} spectra...\".format(kind))\n",
    "#if kind==\"veg\":\n",
    "#    vegs = np.load(\"../../../gdobler_output/output/veg_patch_specs.npy\")\n",
    "#else:\n",
    "#    vegs = np.array([np.load(i) for i in\n",
    "#                 sorted(glob.glob(\"../../../gdobler_output/output/\" + \n",
    "#                                  \"{0}_specs/{0}_specs_*.npy\".format(kind)))])\n",
    "#    vegs = vegs[good]"
   ]
  },
  {
   "cell_type": "code",
   "execution_count": 26,
   "metadata": {},
   "outputs": [],
   "source": [
    "vegs = {}\n",
    "i = 0\n",
    "for npy in sorted(glob.glob(\"../../../gdobler_output/output/{0}_specs/{0}_specs_*.npy\".format(kind))):\n",
    "    #if i != \"../../../gdobler_output/output/{0}_specs/{0}_specs_00000.npy\".format(kind):\n",
    "    #    vegs_i = np.array([np.load(i)])\n",
    "    #    vegs = np.append(vegs, vegs_i, axis=0)\n",
    "    vegs[i] = np.array([np.load(npy)])\n",
    "    i += 1"
   ]
  },
  {
   "cell_type": "code",
   "execution_count": 38,
   "metadata": {},
   "outputs": [],
   "source": [
    "vegs = {k:vegs[k] for k in good if k in vegs}"
   ]
  },
  {
   "cell_type": "code",
   "execution_count": 46,
   "metadata": {},
   "outputs": [],
   "source": [
    "def normalize_spectra(specs):\n",
    "    ms, bs = [], []\n",
    "    for ii in range(specs.shape[0]):\n",
    "        m = specs[0].mean()/specs[ii].mean()\n",
    "        b = 0.0\n",
    "        ms.append(m)\n",
    "        bs.append(b)\n",
    "        \n",
    "    ms   = np.array(ms)\n",
    "    bs   = np.array(bs)\n",
    "    norm = specs*ms[:,np.newaxis] + bs[:,np.newaxis]\n",
    "    rat  = norm/norm[0]\n",
    "    return rat"
   ]
  },
  {
   "cell_type": "code",
   "execution_count": 49,
   "metadata": {},
   "outputs": [],
   "source": [
    "# -- normalize spectra\n",
    "\n",
    "#vrat = normalize_spectra(vegs)\n",
    "brat = normalize_spectra(blds)"
   ]
  },
  {
   "cell_type": "code",
   "execution_count": 51,
   "metadata": {},
   "outputs": [
    {
     "data": {
      "text/plain": [
       "(1102, 848)"
      ]
     },
     "execution_count": 51,
     "metadata": {},
     "output_type": "execute_result"
    }
   ],
   "source": [
    "brat.shape"
   ]
  },
  {
   "cell_type": "code",
   "execution_count": null,
   "metadata": {},
   "outputs": [],
   "source": [
    "print(vrat.shape, brat.shape)"
   ]
  },
  {
   "cell_type": "code",
   "execution_count": 55,
   "metadata": {},
   "outputs": [
    {
     "data": {
      "text/plain": [
       "(1102, 848)"
      ]
     },
     "execution_count": 55,
     "metadata": {},
     "output_type": "execute_result"
    }
   ],
   "source": [
    "blds.shape"
   ]
  },
  {
   "cell_type": "code",
   "execution_count": null,
   "metadata": {},
   "outputs": [],
   "source": [
    "# -- take the ratio of ratios\n",
    "D_vrat = vrat/brat   # vegetation to buildings\n",
    "print(D_vrat.shape)\n",
    "\n",
    "# -- normalize differential ratios\n",
    "#Dn_vrat = stats.zscore(D_vrat)"
   ]
  },
  {
   "cell_type": "markdown",
   "metadata": {},
   "source": [
    "#### Get air quality data"
   ]
  },
  {
   "cell_type": "code",
   "execution_count": null,
   "metadata": {},
   "outputs": [],
   "source": [
    "# -- get some ancillary data\n",
    "sc     = pd.read_csv(\"../../../gdobler_output/output/scan_conditions.csv\")\n",
    "sc_sub = sc[sc.filename.isin([\"veg_{0:05}.raw\".format(i) for i in good])]\n",
    "\n",
    "temps = sc_sub.temperature.values\n",
    "humid = sc_sub.humidity.values\n",
    "pm25  = sc_sub.pm25.values\n",
    "o3    = sc_sub.o3.values\n",
    "secs  = []\n",
    "for stime in sc_sub.time.values:\n",
    "    yr, mo, dy, tm = stime.split()\n",
    "    stime_fmt      = \"{0} {1} {2:02} {3}:00\".format(yr,mo,int(dy),tm)\n",
    "    obs_dt         = datetime.strptime(stime_fmt,\"%Y %b %d %H:%M:%S\")\n",
    "    secs.append(float(obs_dt.strftime(\"%s\")))\n",
    "secs = np.array(secs)"
   ]
  },
  {
   "cell_type": "code",
   "execution_count": null,
   "metadata": {},
   "outputs": [],
   "source": [
    "opth = pd.DataFrame({'$O_3$': o3, '$PM_{2.5}$': pm25, 'Temperature': temps, 'Humidity':humid})\n",
    "opth.describe()"
   ]
  },
  {
   "cell_type": "code",
   "execution_count": null,
   "metadata": {},
   "outputs": [],
   "source": [
    "plt.rcParams['font.size'] = 10\n",
    "#fig, ax = plt.subplots(figsize=[10,10])\n",
    "mtx = scatter_matrix(opth, alpha=0.6, figsize=(8,8), diagonal='hist')\n",
    "plt.suptitle(\"Air Quality Scatter Matrix\", y=0.95, fontsize=20)\n",
    "#plt.savefig(\"../farid_output/air_quality_scatter_matrix.pdf\", dpi=300)\n",
    "#plt.savefig(\"../farid_output/air_quality_scatter_matrix.png\", dpi=300)"
   ]
  },
  {
   "cell_type": "code",
   "execution_count": null,
   "metadata": {},
   "outputs": [],
   "source": [
    "#normalize air quality arrays\n",
    "\n",
    "o3 = stats.zscore(o3)\n",
    "pm25 = stats.zscore(pm25)\n",
    "temps = stats.zscore(temps)\n",
    "humid = stats.zscore(humid)\n",
    "\n",
    "aq_opth = np.vstack((o3, pm25, temps, humid)).T\n",
    "print(aq_opth.shape)"
   ]
  },
  {
   "cell_type": "code",
   "execution_count": null,
   "metadata": {},
   "outputs": [],
   "source": [
    "# create air quality array\n",
    "\n",
    "aq_opth = np.vstack((o3, pm25, temps, humid)).T\n",
    "print(aq_opth.shape)"
   ]
  },
  {
   "cell_type": "markdown",
   "metadata": {},
   "source": [
    "### Split data into train/test sets"
   ]
  },
  {
   "cell_type": "code",
   "execution_count": null,
   "metadata": {},
   "outputs": [],
   "source": [
    "Dtrain, Dtest, aqtrain, aqtest = train_test_split(D_vrat, aq_opth, test_size=0.2)"
   ]
  },
  {
   "cell_type": "markdown",
   "metadata": {},
   "source": [
    "---\n",
    "\n",
    "## CNN"
   ]
  },
  {
   "cell_type": "code",
   "execution_count": null,
   "metadata": {},
   "outputs": [],
   "source": [
    "import tensorflow as tf\n",
    "from tensorflow import keras\n",
    "from tensorflow.python.keras import layers"
   ]
  },
  {
   "cell_type": "code",
   "execution_count": null,
   "metadata": {},
   "outputs": [],
   "source": [
    "def CNN_model(in_dim, out_dim, filtersize=50):\n",
    "    Inputs = keras.Input(shape=(in_dim, 1), name=\"input_diffratio\")\n",
    "    \n",
    "    Conv1D_1 = layers.Conv1D(16, kernel_size=(filtersize), padding=\"same\", activation=\"relu\")(Inputs)\n",
    "    MaxPool_1 = layers.MaxPooling1D((2), strides=2)(Conv1D_1)\n",
    "    Conv1D_2 = layers.Conv1D(32, kernel_size=(filtersize), padding=\"same\", activation=\"relu\")(MaxPool_1)\n",
    "    MaxPool_2 = layers.MaxPooling1D((2), strides=2)(Conv1D_2)\n",
    "    \n",
    "    #Flatten = layers.Flatten()(MaxPool_2)\n",
    "    Dropout = layers.Dropout(0.5)(MaxPool_2)\n",
    "    Flatten = layers.Flatten()(Dropout)\n",
    "    \n",
    "    Dense = layers.Dense(512, activation=\"relu\")(Flatten)\n",
    "    Outputs = layers.Dense(out_dim)(Dense)\n",
    "    \n",
    "    model = keras.Model(inputs=[Inputs], outputs=[Outputs])\n",
    "    \n",
    "    return model"
   ]
  },
  {
   "cell_type": "code",
   "execution_count": null,
   "metadata": {},
   "outputs": [],
   "source": [
    "def plot_loss_history(model):\n",
    "    f, ((ax1, ax2)) = plt.subplots(1,2,figsize=(10,4))\n",
    "    ax1.plot(model.history['loss'])\n",
    "    ax1.plot(model.history['val_loss'])\n",
    "    ax1.set_title('CNN Model Loss')\n",
    "    ax1.set_ylabel('loss')\n",
    "    ax1.set_xlabel('epoch')\n",
    "    ax1.locator_params(nbins=13, axis='x')\n",
    "    ax1.legend(['train', 'test'])\n",
    "    ax2.plot(model.history['loss'])\n",
    "    ax2.plot(model.history['val_loss'])\n",
    "    ax2.set_title('CNN Model Log(loss)')\n",
    "    ax2.set_ylabel('log(loss)')\n",
    "    ax2.set_xlabel('epoch')\n",
    "    ax2.locator_params(nbins=13, axis='x')\n",
    "    ax2.legend(['train', 'test'])\n",
    "    ax2.set_yscale('log')\n",
    "    plt.show()"
   ]
  },
  {
   "cell_type": "code",
   "execution_count": null,
   "metadata": {},
   "outputs": [],
   "source": [
    "in_dim = D_vrat.shape[1]\n",
    "out_dim = aq_opth.shape[1]\n",
    "cnn = CNN_model(in_dim, out_dim, filtersize=50)\n",
    "cnn.compile(optimizer=\"adam\", loss=\"mse\")"
   ]
  },
  {
   "cell_type": "code",
   "execution_count": null,
   "metadata": {},
   "outputs": [],
   "source": [
    "cnn.summary()"
   ]
  },
  {
   "cell_type": "code",
   "execution_count": null,
   "metadata": {},
   "outputs": [],
   "source": [
    "Dtrain_1 = Dtrain.reshape(Dtrain.shape[0], Dtrain.shape[1], 1)\n",
    "Dtest_1 = Dtest.reshape(Dtest.shape[0], Dtest.shape[1], 1)"
   ]
  },
  {
   "cell_type": "code",
   "execution_count": null,
   "metadata": {
    "scrolled": true
   },
   "outputs": [],
   "source": [
    "cnn1 = CNN_model(in_dim, out_dim, filtersize=50)\n",
    "cnn1.compile(optimizer=\"adam\", loss=\"mse\")\n",
    "CNNmodel1 = cnn1.fit(Dtrain_1, aqtrain, validation_data=(Dtest_1, aqtest),\n",
    "                  epochs=1000, batch_size=120)"
   ]
  },
  {
   "cell_type": "code",
   "execution_count": null,
   "metadata": {},
   "outputs": [],
   "source": [
    "plot_loss_history(CNNmodel1)"
   ]
  },
  {
   "cell_type": "code",
   "execution_count": null,
   "metadata": {
    "scrolled": true
   },
   "outputs": [],
   "source": [
    "cnn = CNN_model(in_dim, out_dim, filtersize=50)\n",
    "cnn.compile(optimizer=\"adam\", loss=\"mse\")\n",
    "CNNmodel = cnn.fit(Dtrain_1, aqtrain, validation_data=(Dtest_1, aqtest),\n",
    "                  epochs=350, batch_size=120)"
   ]
  },
  {
   "cell_type": "code",
   "execution_count": null,
   "metadata": {},
   "outputs": [],
   "source": [
    "# model MSE on training and testing sets\n",
    "\n",
    "train_mse = cnn.evaluate(Dtrain_1, aqtrain)\n",
    "test_mse = cnn.evaluate(Dtest_1, aqtest)\n",
    "\n",
    "print(train_mse, test_mse)"
   ]
  },
  {
   "cell_type": "markdown",
   "metadata": {},
   "source": [
    "### Predict Air Quality for training and Testing Sets"
   ]
  },
  {
   "cell_type": "code",
   "execution_count": null,
   "metadata": {},
   "outputs": [],
   "source": [
    "import time\n",
    "start_time = time.time()\n",
    "\n",
    "aqtrain_pred = cnn.predict(Dtrain_1)\n",
    "aqtest_pred = cnn.predict(Dtest_1)\n",
    "\n",
    "elapsed_time = time.time() - start_time\n",
    "print(time.strftime(\"%H:%M:%S\", time.gmtime(elapsed_time)))"
   ]
  },
  {
   "cell_type": "code",
   "execution_count": null,
   "metadata": {},
   "outputs": [],
   "source": [
    "print(aqtrain.shape)\n",
    "print(aqtest.shape)"
   ]
  },
  {
   "cell_type": "code",
   "execution_count": null,
   "metadata": {},
   "outputs": [],
   "source": [
    "fig, axes = plt.subplots(aq_opth.shape[1], 2, figsize=(13, 13), sharex=True)\n",
    "labels = [r'$O_3$', r'$PM_{2.5}$', 'Temps', 'Humidity']\n",
    "\n",
    "axes[0,0].set_title('Training: Data vs Model')\n",
    "for i in range(aq_opth.shape[1]):\n",
    "    axes[i,0].plot(aqtrain[:,i], color=\"darkred\",lw=1, label=\"data\")\n",
    "    axes[i,0].plot(aqtrain_pred[:,i], color=\"dodgerblue\",lw=1, label=\"model\")\n",
    "    axes[i,0].set_ylabel(labels[i])\n",
    "    axes[i,0].legend(loc='lower left')\n",
    "    axes[i,0].set_xlabel(\"scan\")\n",
    "    axes[i,0].set_xlim(0, aqtrain.shape[0])\n",
    "\n",
    "axes[0,1].set_title('Training: Data - Model')\n",
    "for i in range(aq_opth.shape[1]):\n",
    "    axes[i,1].plot(aqtrain[:,i] - aqtrain_pred[:,i], color=\"black\",lw=1)\n",
    "    #axes[i,1].plot(aqtrain_pred[:,i], color=\"dodgerblue\",lw=1, label=\"model\")\n",
    "    axes[i,1].set_ylabel(labels[i])\n",
    "    #axes[i,1].legend(loc='lower left')\n",
    "    axes[i,1].set_xlabel(\"scan\")\n",
    "    axes[i,1].set_xlim(0, aqtrain.shape[0])\n",
    "    \n",
    "plt.show()"
   ]
  },
  {
   "cell_type": "code",
   "execution_count": null,
   "metadata": {},
   "outputs": [],
   "source": [
    "fig, axes = plt.subplots(aq_opth.shape[1], 2, figsize=(13, 13), sharex=True)\n",
    "labels = [r'$O_3$', r'$PM_{2.5}$', 'Temps', 'Humidity']\n",
    "\n",
    "axes[0,0].set_title('Testing: Data vs Model')\n",
    "for i in range(aq_opth.shape[1]):\n",
    "    axes[i,0].plot(aqtest[:,i], color=\"darkred\",lw=1, label=\"data\")\n",
    "    axes[i,0].plot(aqtest_pred[:,i], color=\"dodgerblue\",lw=1, label=\"model\")\n",
    "    axes[i,0].set_ylabel(labels[i])\n",
    "    axes[i,0].legend(loc='lower left')\n",
    "    axes[i,0].set_xlabel(\"scan\")\n",
    "    axes[i,0].set_xlim(0, aqtest.shape[0])\n",
    "\n",
    "axes[0,1].set_title('Testing: Data - Model')\n",
    "for i in range(aq_opth.shape[1]):\n",
    "    axes[i,1].plot(aqtest[:,i] - aqtest_pred[:,i], color=\"black\",lw=1)\n",
    "    #axes[i,1].plot(aqtrain_pred[:,i], color=\"dodgerblue\",lw=1, label=\"model\")\n",
    "    axes[i,1].set_ylabel(labels[i])\n",
    "    #axes[i,1].legend(loc='lower left')\n",
    "    axes[i,1].set_xlabel(\"scan\")\n",
    "    axes[i,1].set_xlim(0, aqtest.shape[0])\n",
    "    \n",
    "plt.show()"
   ]
  },
  {
   "cell_type": "code",
   "execution_count": null,
   "metadata": {},
   "outputs": [],
   "source": [
    "fig, ax = plt.subplots(aq_opth.shape[1], 1, figsize=(5, 20), sharex=True)\n",
    "labels = [r'$O_3$', r'$PM_{2.5}$', 'Temps', 'Humidity']\n",
    "\n",
    "for i in range(aq_opth.shape[1]):\n",
    "    ax[i].set_title(labels[i])\n",
    "    ax[i].plot(aqtrain[:,i], aqtrain[:,i], color='black', lw=0.5)\n",
    "    ax[i].scatter(aqtrain[:,i], aqtrain_pred[:,i], c=\"blue\", alpha=0.2, label=\"train\")\n",
    "    ax[i].scatter(aqtest[:,i], aqtest_pred[:,i], c=\"green\", alpha=0.5, label=\"test\")\n",
    "    ax[i].set_ylabel('predicted')\n",
    "    ax[i].set_xlabel('measured')\n",
    "    ax[i].legend(loc='upper left')\n",
    "    \n",
    "plt.show()"
   ]
  },
  {
   "cell_type": "code",
   "execution_count": null,
   "metadata": {},
   "outputs": [],
   "source": [
    "from sklearn.metrics import r2_score\n",
    "\n",
    "print('Coefficient of Determination (R^2)')\n",
    "print('Overall R^2:')\n",
    "print('Training: {0:5.3f}  -  Testing: {1:5.3f} '.format(r2_score(aqtrain, aqtrain_pred, \n",
    "                                                                  multioutput='variance_weighted'),\n",
    "                                                         r2_score(aqtest, aqtest_pred, \n",
    "                                                                  multioutput='variance_weighted')))\n",
    "labels = ['O3:', 'PM2.5:', 'Temperatures:', 'Humidity:']\n",
    "for i in range(aqtrain.shape[1]):\n",
    "    print()\n",
    "    print(labels[i])\n",
    "    print('Training: {0:5.3f}  -  Testing: {1:5.3f} '.format(r2_score(aqtrain[:,i], aqtrain_pred[:,i], \n",
    "                                                                  multioutput='variance_weighted'),\n",
    "                                                         r2_score(aqtest[:,i], aqtest_pred[:,i], \n",
    "                                                                  multioutput='variance_weighted')))"
   ]
  },
  {
   "cell_type": "markdown",
   "metadata": {},
   "source": [
    "---\n",
    "\n",
    "# Smoothing Air Quality"
   ]
  },
  {
   "cell_type": "code",
   "execution_count": null,
   "metadata": {},
   "outputs": [],
   "source": [
    "# -- get some ancillary data\n",
    "sc     = pd.read_csv(\"../../../gdobler_output/output/scan_conditions.csv\")"
   ]
  },
  {
   "cell_type": "code",
   "execution_count": null,
   "metadata": {},
   "outputs": [],
   "source": [
    "DateTime = []\n",
    "Date = []\n",
    "Time = []\n",
    "for stime in sc.time.values:\n",
    "    yr, mo, dy, tm = stime.split()\n",
    "    stime_fmt = \"{0} {1} {2:02} {3}:00\".format(yr,mo,int(dy),tm)\n",
    "    obs_dt = datetime.strptime(stime_fmt,\"%Y %b %d %H:%M:%S\")\n",
    "    DateTime.append(obs_dt)\n",
    "    Date.append(datetime.date(obs_dt))\n",
    "    Time.append(datetime.time(obs_dt))\n",
    "    \n",
    "sc['DateTime'] = DateTime\n",
    "sc['Date'] = Date\n",
    "sc['Time'] = Time"
   ]
  },
  {
   "cell_type": "code",
   "execution_count": null,
   "metadata": {},
   "outputs": [],
   "source": [
    "sc.head()"
   ]
  },
  {
   "cell_type": "code",
   "execution_count": null,
   "metadata": {},
   "outputs": [],
   "source": [
    "sc.groupby('Date')['Date'].count()"
   ]
  },
  {
   "cell_type": "code",
   "execution_count": null,
   "metadata": {},
   "outputs": [],
   "source": [
    "sc.Date.count()"
   ]
  },
  {
   "cell_type": "code",
   "execution_count": null,
   "metadata": {},
   "outputs": [],
   "source": [
    "days=[sc.DateTime[0]]\n",
    "for i in range(sc.Date.count()-1):\n",
    "    if sc.Date[i] != sc.Date[i+1]:\n",
    "        days.append(sc.DateTime[i+1])\n",
    "\n",
    "print(days)"
   ]
  },
  {
   "cell_type": "code",
   "execution_count": null,
   "metadata": {},
   "outputs": [],
   "source": [
    "fig, ((ax1,ax2),(ax3,ax4)) = plt.subplots(2,2, figsize=(14,8))\n",
    "ax1.plot(sc['o3'])\n",
    "ax1.set_title('O3')\n",
    "ax2.plot(sc['pm25'])\n",
    "ax2.set_title('PM2.5')\n",
    "ax3.plot(sc['temperature'])\n",
    "ax3.set_title('Temperature')\n",
    "ax4.plot(sc['humidity'])\n",
    "ax4.set_title('humidity')\n",
    "\n",
    "plt.show()"
   ]
  },
  {
   "cell_type": "code",
   "execution_count": null,
   "metadata": {},
   "outputs": [],
   "source": [
    "fig, ((ax1,ax2),(ax3,ax4)) = plt.subplots(2,2, figsize=(14,8))\n",
    "\n",
    "ax1.plot(sc['DateTime'], sc['o3'])\n",
    "ax1.set_ylim(ax1.get_ylim())\n",
    "ax1.set_title('O3')\n",
    "ax1.vlines(days, 0, 1, colors='r', linestyle='dotted')\n",
    "\n",
    "ax2.plot(sc['DateTime'], sc['pm25'])\n",
    "ax2.set_ylim(ax2.get_ylim())\n",
    "ax2.set_title('PM2.5')\n",
    "ax2.vlines(days, -5, 20, colors='r', linestyle='dotted')\n",
    "\n",
    "ax3.plot(sc['DateTime'], sc['temperature'])\n",
    "ax3.set_ylim(ax3.get_ylim())\n",
    "ax3.set_title('Temperature')\n",
    "ax3.vlines(days, 0, 100, colors='r', linestyle='dotted')\n",
    "\n",
    "ax4.plot(sc['DateTime'], sc['humidity'])\n",
    "ax4.set_ylim(ax4.get_ylim())\n",
    "ax4.set_title('humidity')\n",
    "ax4.vlines(days, -5, 120, colors='r', linestyle='dotted')\n",
    "\n",
    "plt.show()"
   ]
  },
  {
   "cell_type": "code",
   "execution_count": null,
   "metadata": {},
   "outputs": [],
   "source": [
    "from scipy.ndimage import gaussian_filter1d\n",
    "\n",
    "gO3 = np.array([])\n",
    "gPM25 = np.array([])\n",
    "gTemps = np.array([])\n",
    "gHumid = np.array([])\n",
    "for d in range(len(list(sc.groupby('Date')))):\n",
    "    oz = list(sc.groupby('Date')['o3'])[d][1]\n",
    "    gaussO = gaussian_filter1d(oz, 5)\n",
    "    gO3 = np.append(gO3,gaussO)\n",
    "    \n",
    "    pm = list(sc.groupby('Date')['pm25'])[d][1]\n",
    "    gaussP = gaussian_filter1d(pm, 5)\n",
    "    gPM25 = np.append(gPM25,gaussP)\n",
    "    \n",
    "    temps = list(sc.groupby('Date')['temperature'])[d][1]\n",
    "    gaussT = gaussian_filter1d(temps, 5)\n",
    "    gTemps = np.append(gTemps,gaussT)\n",
    "    \n",
    "    hums = list(sc.groupby('Date')['humidity'])[d][1]\n",
    "    gaussH = gaussian_filter1d(hums, 5)\n",
    "    gHumid = np.append(gHumid,gaussH)"
   ]
  },
  {
   "cell_type": "code",
   "execution_count": null,
   "metadata": {},
   "outputs": [],
   "source": [
    "sc['gO3'] = gO3\n",
    "sc['gPM25'] = gPM25\n",
    "sc['gTemps'] = gTemps\n",
    "sc['gHumid'] = gHumid"
   ]
  },
  {
   "cell_type": "code",
   "execution_count": null,
   "metadata": {},
   "outputs": [],
   "source": [
    "fig, ((ax1,ax2),(ax3,ax4)) = plt.subplots(2,2, figsize=(14,8))\n",
    "ax1.plot(sc['gO3'])\n",
    "ax1.set_title('O3')\n",
    "ax2.plot(sc['gPM25'])\n",
    "ax2.set_title('PM2.5')\n",
    "ax3.plot(sc['gTemps'])\n",
    "ax3.set_title('Temperature')\n",
    "ax4.plot(sc['gHumid'])\n",
    "ax4.set_title('humidity')\n",
    "\n",
    "plt.show()"
   ]
  },
  {
   "cell_type": "code",
   "execution_count": null,
   "metadata": {},
   "outputs": [],
   "source": [
    "fig, ((ax1,ax2),(ax3,ax4)) = plt.subplots(2,2, figsize=(14,8))\n",
    "ax1.plot(sc['DateTime'], sc['gO3'])\n",
    "ax1.set_ylim(ax1.get_ylim())\n",
    "ax1.set_title('O3')\n",
    "ax1.vlines(days, 0, 1, colors='r', linestyle='dotted')\n",
    "\n",
    "ax2.plot(sc['DateTime'], sc['gPM25'])\n",
    "ax2.set_ylim(ax2.get_ylim())\n",
    "ax2.set_title('PM2.5')\n",
    "ax2.vlines(days, -5, 20, colors='r', linestyle='dotted')\n",
    "\n",
    "ax3.plot(sc['DateTime'], sc['gTemps'])\n",
    "ax3.set_ylim(ax3.get_ylim())\n",
    "ax3.set_title('Temperature')\n",
    "ax3.vlines(days, 0, 100, colors='r', linestyle='dotted')\n",
    "\n",
    "ax4.plot(sc['DateTime'], sc['gHumid'])\n",
    "ax4.set_ylim(ax4.get_ylim())\n",
    "ax4.set_title('humidity')\n",
    "ax4.vlines(days, -5, 120, colors='r', linestyle='dotted')\n",
    "\n",
    "plt.show()"
   ]
  },
  {
   "cell_type": "code",
   "execution_count": null,
   "metadata": {},
   "outputs": [],
   "source": [
    "sc_sub = sc[sc.filename.isin([\"veg_{0:05}.raw\".format(i) for i in good])]\n",
    "\n",
    "temps = sc_sub.gTemps.values\n",
    "humid = sc_sub.gHumid.values\n",
    "pm25  = sc_sub.gPM25.values\n",
    "o3    = sc_sub.gO3.values"
   ]
  },
  {
   "cell_type": "code",
   "execution_count": null,
   "metadata": {},
   "outputs": [],
   "source": [
    "opth = pd.DataFrame({'$O_3$': o3, '$PM_{2.5}$': pm25, 'Temperature': temps, 'Humidity':humid})\n",
    "opth.describe()"
   ]
  },
  {
   "cell_type": "code",
   "execution_count": null,
   "metadata": {},
   "outputs": [],
   "source": [
    "plt.rcParams['font.size'] = 10\n",
    "#fig, ax = plt.subplots(figsize=[10,10])\n",
    "mtx = scatter_matrix(opth, alpha=0.6, figsize=(8,8), diagonal='hist')\n",
    "plt.suptitle(\"Air Quality Scatter Matrix\", y=0.95, fontsize=20)\n",
    "#plt.savefig(\"../farid_output/air_quality_scatter_matrix.pdf\", dpi=300)\n",
    "#plt.savefig(\"../farid_output/air_quality_scatter_matrix.png\", dpi=300)"
   ]
  },
  {
   "cell_type": "code",
   "execution_count": null,
   "metadata": {},
   "outputs": [],
   "source": [
    "#normalize air quality arrays\n",
    "\n",
    "o3 = stats.zscore(o3)\n",
    "pm25 = stats.zscore(pm25)\n",
    "temps = stats.zscore(temps)\n",
    "humid = stats.zscore(humid)\n",
    "\n",
    "aq_opth = np.vstack((o3, pm25, temps, humid)).T\n",
    "print(aq_opth.shape)"
   ]
  },
  {
   "cell_type": "code",
   "execution_count": null,
   "metadata": {},
   "outputs": [],
   "source": [
    "# create air quality array\n",
    "\n",
    "aq_opth = np.vstack((o3, pm25, temps, humid)).T\n",
    "print(aq_opth.shape)"
   ]
  },
  {
   "cell_type": "markdown",
   "metadata": {},
   "source": [
    "### Split data into train/test sets"
   ]
  },
  {
   "cell_type": "code",
   "execution_count": null,
   "metadata": {},
   "outputs": [],
   "source": [
    "Dtrain, Dtest, aqtrain, aqtest = train_test_split(D_vrat, aq_opth, test_size=0.2)"
   ]
  },
  {
   "cell_type": "markdown",
   "metadata": {},
   "source": [
    "---\n",
    "\n",
    "## CNN"
   ]
  },
  {
   "cell_type": "code",
   "execution_count": null,
   "metadata": {},
   "outputs": [],
   "source": [
    "in_dim = D_vrat.shape[1]\n",
    "out_dim = aq_opth.shape[1]\n",
    "cnn = CNN_model(in_dim, out_dim, filtersize=50)\n",
    "cnn.compile(optimizer=\"adam\", loss=\"mse\")"
   ]
  },
  {
   "cell_type": "code",
   "execution_count": null,
   "metadata": {},
   "outputs": [],
   "source": [
    "Dtrain_1 = Dtrain.reshape(Dtrain.shape[0], Dtrain.shape[1], 1)\n",
    "Dtest_1 = Dtest.reshape(Dtest.shape[0], Dtest.shape[1], 1)"
   ]
  },
  {
   "cell_type": "code",
   "execution_count": null,
   "metadata": {
    "scrolled": true
   },
   "outputs": [],
   "source": [
    "cnn1 = CNN_model(in_dim, out_dim, filtersize=50)\n",
    "cnn1.compile(optimizer=\"adam\", loss=\"mse\")\n",
    "CNNmodel1 = cnn1.fit(Dtrain_1, aqtrain, validation_data=(Dtest_1, aqtest),\n",
    "                  epochs=1000, batch_size=120)"
   ]
  },
  {
   "cell_type": "code",
   "execution_count": null,
   "metadata": {},
   "outputs": [],
   "source": [
    "plot_loss_history(CNNmodel1)"
   ]
  },
  {
   "cell_type": "code",
   "execution_count": null,
   "metadata": {
    "scrolled": true
   },
   "outputs": [],
   "source": [
    "cnn = CNN_model(in_dim, out_dim, filtersize=50)\n",
    "cnn.compile(optimizer=\"adam\", loss=\"mse\")\n",
    "CNNmodel = cnn.fit(Dtrain_1, aqtrain, validation_data=(Dtest_1, aqtest),\n",
    "                  epochs=500, batch_size=120)"
   ]
  },
  {
   "cell_type": "code",
   "execution_count": null,
   "metadata": {},
   "outputs": [],
   "source": [
    "# model MSE on training and testing sets\n",
    "\n",
    "train_mse = cnn.evaluate(Dtrain_1, aqtrain)\n",
    "test_mse = cnn.evaluate(Dtest_1, aqtest)\n",
    "\n",
    "print(train_mse, test_mse)"
   ]
  },
  {
   "cell_type": "markdown",
   "metadata": {},
   "source": [
    "### Predict Air Quality for training and Testing Sets"
   ]
  },
  {
   "cell_type": "code",
   "execution_count": null,
   "metadata": {},
   "outputs": [],
   "source": [
    "import time\n",
    "start_time = time.time()\n",
    "\n",
    "aqtrain_pred = cnn.predict(Dtrain_1)\n",
    "aqtest_pred = cnn.predict(Dtest_1)\n",
    "\n",
    "elapsed_time = time.time() - start_time\n",
    "print(time.strftime(\"%H:%M:%S\", time.gmtime(elapsed_time)))"
   ]
  },
  {
   "cell_type": "code",
   "execution_count": null,
   "metadata": {},
   "outputs": [],
   "source": [
    "fig, axes = plt.subplots(aq_opth.shape[1], 2, figsize=(13, 13), sharex=True)\n",
    "labels = [r'$O_3$', r'$PM_{2.5}$', 'Temps', 'Humidity']\n",
    "\n",
    "axes[0,0].set_title('Training: Data vs Model')\n",
    "for i in range(aq_opth.shape[1]):\n",
    "    axes[i,0].plot(aqtrain[:,i], color=\"darkred\",lw=1, label=\"data\")\n",
    "    axes[i,0].plot(aqtrain_pred[:,i], color=\"dodgerblue\",lw=1, label=\"model\")\n",
    "    axes[i,0].set_ylabel(labels[i])\n",
    "    axes[i,0].legend(loc='lower left')\n",
    "    axes[i,0].set_xlabel(\"scan\")\n",
    "    axes[i,0].set_xlim(0, aqtrain.shape[0])\n",
    "\n",
    "axes[0,1].set_title('Training: Data - Model')\n",
    "for i in range(aq_opth.shape[1]):\n",
    "    axes[i,1].plot(aqtrain[:,i] - aqtrain_pred[:,i], color=\"black\",lw=1)\n",
    "    #axes[i,1].plot(aqtrain_pred[:,i], color=\"dodgerblue\",lw=1, label=\"model\")\n",
    "    axes[i,1].set_ylabel(labels[i])\n",
    "    #axes[i,1].legend(loc='lower left')\n",
    "    axes[i,1].set_xlabel(\"scan\")\n",
    "    axes[i,1].set_xlim(0, aqtrain.shape[0])\n",
    "    \n",
    "plt.show()"
   ]
  },
  {
   "cell_type": "code",
   "execution_count": null,
   "metadata": {},
   "outputs": [],
   "source": [
    "fig, axes = plt.subplots(aq_opth.shape[1], 2, figsize=(13, 13), sharex=True)\n",
    "labels = [r'$O_3$', r'$PM_{2.5}$', 'Temps', 'Humidity']\n",
    "\n",
    "axes[0,0].set_title('Testing: Data vs Model')\n",
    "for i in range(aq_opth.shape[1]):\n",
    "    axes[i,0].plot(aqtest[:,i], color=\"darkred\",lw=1, label=\"data\")\n",
    "    axes[i,0].plot(aqtest_pred[:,i], color=\"dodgerblue\",lw=1, label=\"model\")\n",
    "    axes[i,0].set_ylabel(labels[i])\n",
    "    axes[i,0].legend(loc='lower left')\n",
    "    axes[i,0].set_xlabel(\"scan\")\n",
    "    axes[i,0].set_xlim(0, aqtest.shape[0])\n",
    "\n",
    "axes[0,1].set_title('Testing: Data - Model')\n",
    "for i in range(aq_opth.shape[1]):\n",
    "    axes[i,1].plot(aqtest[:,i] - aqtest_pred[:,i], color=\"black\",lw=1)\n",
    "    #axes[i,1].plot(aqtrain_pred[:,i], color=\"dodgerblue\",lw=1, label=\"model\")\n",
    "    axes[i,1].set_ylabel(labels[i])\n",
    "    #axes[i,1].legend(loc='lower left')\n",
    "    axes[i,1].set_xlabel(\"scan\")\n",
    "    axes[i,1].set_xlim(0, aqtest.shape[0])\n",
    "    \n",
    "plt.show()"
   ]
  },
  {
   "cell_type": "code",
   "execution_count": null,
   "metadata": {},
   "outputs": [],
   "source": [
    "fig, ax = plt.subplots(aq_opth.shape[1], 1, figsize=(5, 20), sharex=True)\n",
    "labels = [r'$O_3$', r'$PM_{2.5}$', 'Temps', 'Humidity']\n",
    "\n",
    "for i in range(aq_opth.shape[1]):\n",
    "    ax[i].set_title(labels[i])\n",
    "    ax[i].plot(aqtrain[:,i], aqtrain[:,i], color='black', lw=0.5)\n",
    "    ax[i].scatter(aqtrain[:,i], aqtrain_pred[:,i], c=\"blue\", alpha=0.2, label=\"train\")\n",
    "    ax[i].scatter(aqtest[:,i], aqtest_pred[:,i], c=\"green\", alpha=0.5, label=\"test\")\n",
    "    ax[i].set_ylabel('predicted')\n",
    "    ax[i].set_xlabel('measured')\n",
    "    ax[i].legend(loc='upper left')\n",
    "    \n",
    "plt.show()"
   ]
  },
  {
   "cell_type": "code",
   "execution_count": null,
   "metadata": {},
   "outputs": [],
   "source": [
    "from sklearn.metrics import r2_score\n",
    "\n",
    "print('Coefficient of Determination (R^2)')\n",
    "print('Overall R^2:')\n",
    "print('Training: {0:5.3f}  -  Testing: {1:5.3f} '.format(r2_score(aqtrain, aqtrain_pred, \n",
    "                                                                  multioutput='variance_weighted'),\n",
    "                                                         r2_score(aqtest, aqtest_pred, \n",
    "                                                                  multioutput='variance_weighted')))\n",
    "labels = ['O3:', 'PM2.5:', 'Temperatures:', 'Humidity:']\n",
    "for i in range(aqtrain.shape[1]):\n",
    "    print()\n",
    "    print(labels[i])\n",
    "    print('Training: {0:5.3f}  -  Testing: {1:5.3f} '.format(r2_score(aqtrain[:,i], aqtrain_pred[:,i], \n",
    "                                                                  multioutput='variance_weighted'),\n",
    "                                                         r2_score(aqtest[:,i], aqtest_pred[:,i], \n",
    "                                                                  multioutput='variance_weighted')))"
   ]
  },
  {
   "cell_type": "code",
   "execution_count": null,
   "metadata": {},
   "outputs": [],
   "source": []
  },
  {
   "cell_type": "code",
   "execution_count": null,
   "metadata": {},
   "outputs": [],
   "source": []
  },
  {
   "cell_type": "code",
   "execution_count": null,
   "metadata": {},
   "outputs": [],
   "source": []
  },
  {
   "cell_type": "code",
   "execution_count": null,
   "metadata": {},
   "outputs": [],
   "source": []
  }
 ],
 "metadata": {
  "kernelspec": {
   "display_name": "Python 3",
   "language": "python",
   "name": "python3"
  },
  "language_info": {
   "codemirror_mode": {
    "name": "ipython",
    "version": 3
   },
   "file_extension": ".py",
   "mimetype": "text/x-python",
   "name": "python",
   "nbconvert_exporter": "python",
   "pygments_lexer": "ipython3",
   "version": "3.6.8"
  }
 },
 "nbformat": 4,
 "nbformat_minor": 2
}
