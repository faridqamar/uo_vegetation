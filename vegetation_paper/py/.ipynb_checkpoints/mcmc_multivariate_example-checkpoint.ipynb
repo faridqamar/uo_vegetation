{
 "cells": [
  {
   "cell_type": "markdown",
   "metadata": {},
   "source": [
    "### Two predictor variables (x,y)\n",
    "### one outcome variable (z)\n",
    "### relation:\n",
    "$Z_n = \\alpha + \\beta_x x_n + \\beta_y y_n + \\epsilon$\n",
    "where \n",
    "$\\epsilon$ is a Gaussian noise term."
   ]
  },
  {
   "cell_type": "code",
   "execution_count": 1,
   "metadata": {},
   "outputs": [],
   "source": [
    "from numpy import *\n",
    "Nobs = 20\n",
    "x_true = random.uniform(0,10, size=Nobs)\n",
    "y_true = random.uniform(-1,1, size=Nobs)\n",
    "alpha_true = 0.5\n",
    "beta_x_true = 1.0\n",
    "beta_y_true = 10.0\n",
    "eps_true = 0.5\n",
    "z_true = alpha_true + beta_x_true*x_true + beta_y_true*y_true\n",
    "z_obs = z_true + random.normal(0, eps_true, size=Nobs)"
   ]
  },
  {
   "cell_type": "code",
   "execution_count": 3,
   "metadata": {},
   "outputs": [
    {
     "data": {
      "text/plain": [
       "Text(0, 0.5, 'Z')"
      ]
     },
     "execution_count": 3,
     "metadata": {},
     "output_type": "execute_result"
    },
    {
     "data": {
      "image/png": "[encoded data removed]",
      "text/plain": [
       "<Figure size 864x432 with 4 Axes>"
      ]
     },
     "metadata": {
      "needs_background": "light"
     },
     "output_type": "display_data"
    }
   ],
   "source": [
    "from matplotlib import pyplot as plt\n",
    "%matplotlib inline\n",
    "\n",
    "plt.figure(figsize=(12,6))\n",
    "plt.subplot(1,2,1)\n",
    "plt.scatter(x_true, z_obs, c=y_true, marker='o')\n",
    "plt.colorbar()\n",
    "plt.xlabel('X')\n",
    "plt.ylabel('Z')\n",
    "plt.subplot(1,2,2)\n",
    "plt.scatter(y_true, z_obs, c=x_true, marker='o')\n",
    "plt.colorbar()\n",
    "plt.xlabel('Y')\n",
    "plt.ylabel('Z')"
   ]
  },
  {
   "cell_type": "code",
   "execution_count": 4,
   "metadata": {},
   "outputs": [],
   "source": [
    "# in emcee we have to write the entire probability function ourselves\n",
    "\n",
    "# log-prior function\n",
    "def lnprior(p):\n",
    "    # The parameters are stored as a vector of values, so unpack them\n",
    "    alpha,betax,betay,eps = p\n",
    "    # We're using only uniform priors, and only eps has a lower bound\n",
    "    if eps <= 0:\n",
    "        return -inf\n",
    "    return 0\n",
    "\n",
    "# log-likelihood function\n",
    "def lnlike(p, x, y, z):\n",
    "    alpha,betax,betay,eps = p\n",
    "    model = alpha + betax*x + betay*y\n",
    "    # the likelihood is sum of the lot of normal distributions\n",
    "    denom = power(eps,2)\n",
    "    lp = -0.5*sum(power((z - model),2)/denom + log(denom) + log(2*pi))\n",
    "    return lp\n",
    "\n",
    "# log-proabability function\n",
    "def lnprob(p, x, y, z):\n",
    "    lp = lnprior(p)\n",
    "    if not isfinite(lp):\n",
    "        return -inf\n",
    "    return lp + lnlike(p, x, y, z)"
   ]
  },
  {
   "cell_type": "code",
   "execution_count": null,
   "metadata": {},
   "outputs": [],
   "source": [
    "# finding the maximum likelihood using scipy's optimize module\n",
    "\n",
    "finding the maximum likelihood using scipy's optimize module"
   ]
  },
  {
   "cell_type": "code",
   "execution_count": null,
   "metadata": {},
   "outputs": [],
   "source": []
  },
  {
   "cell_type": "code",
   "execution_count": null,
   "metadata": {},
   "outputs": [],
   "source": []
  },
  {
   "cell_type": "code",
   "execution_count": null,
   "metadata": {},
   "outputs": [],
   "source": []
  },
  {
   "cell_type": "code",
   "execution_count": null,
   "metadata": {},
   "outputs": [],
   "source": []
  },
  {
   "cell_type": "code",
   "execution_count": null,
   "metadata": {},
   "outputs": [],
   "source": []
  },
  {
   "cell_type": "code",
   "execution_count": null,
   "metadata": {},
   "outputs": [],
   "source": []
  },
  {
   "cell_type": "code",
   "execution_count": null,
   "metadata": {},
   "outputs": [],
   "source": []
  },
  {
   "cell_type": "code",
   "execution_count": null,
   "metadata": {},
   "outputs": [],
   "source": []
  },
  {
   "cell_type": "code",
   "execution_count": null,
   "metadata": {},
   "outputs": [],
   "source": []
  },
  {
   "cell_type": "code",
   "execution_count": null,
   "metadata": {},
   "outputs": [],
   "source": []
  },
  {
   "cell_type": "code",
   "execution_count": null,
   "metadata": {},
   "outputs": [],
   "source": []
  }
 ],
 "metadata": {
  "kernelspec": {
   "display_name": "Python 3",
   "language": "python",
   "name": "python3"
  },
  "language_info": {
   "codemirror_mode": {
    "name": "ipython",
    "version": 3
   },
   "file_extension": ".py",
   "mimetype": "text/x-python",
   "name": "python",
   "nbconvert_exporter": "python",
   "pygments_lexer": "ipython3",
   "version": "3.7.4"
  }
 },
 "nbformat": 4,
 "nbformat_minor": 2
}
