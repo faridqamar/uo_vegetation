{
 "cells": [
  {
   "cell_type": "markdown",
   "metadata": {},
   "source": [
    "## Hyperspectral Image Segmentation by Gradient Boosting Classifier \n",
    "\n",
    "### standardized spectra at full resolution without spatial dimension\n",
    "\n",
    "---"
   ]
  },
  {
   "cell_type": "code",
   "execution_count": 1,
   "metadata": {},
   "outputs": [],
   "source": [
    "# -- here are functions that generate a class that memory maps the raw data \n",
    "#    cube.  After executing this cell, the syntax is:\n",
    "#    fname = \"[path to data]/foo.raw\"\n",
    "#    cube = read_hyper(fname)\n",
    "\n",
    "import os\n",
    "import numpy as np\n",
    "\n",
    "def read_header(hdrfile, verbose=True):\n",
    "    \"\"\"\n",
    "    Read a Middleton header file.\n",
    "\n",
    "    Parameters\n",
    "    ----------\n",
    "    hdrfile : str\n",
    "        Name of header file.\n",
    "    verbose : bool, optional\n",
    "        If True, alert the user.\n",
    "\n",
    "    Returns\n",
    "    -------\n",
    "    dict : dict\n",
    "        A dictionary continaing the number of rows, columns, and wavelengths\n",
    "        as well as an array of band centers.\n",
    "    \"\"\"\n",
    "\n",
    "    # -- alert\n",
    "    if verbose:\n",
    "        print(\"reading and parsing {0}...\".format(hdrfile))\n",
    "\n",
    "    # -- open the file and read in the records\n",
    "    recs = [rec for rec in open(hdrfile)]\n",
    "\n",
    "    # -- parse for samples, lines, bands, and the start of the wavelengths\n",
    "    for irec, rec in enumerate(recs):\n",
    "        if 'samples' in rec:\n",
    "            samples = int(rec.split(\"=\")[1])\n",
    "        elif 'lines' in rec:\n",
    "            lines = int(rec.split(\"=\")[1])\n",
    "        elif 'bands' in rec:\n",
    "            bands = int(rec.split(\"=\")[1])\n",
    "        elif \"Wavelength\" in rec:\n",
    "            w0ind = irec+1\n",
    "\n",
    "    # -- parse for the wavelengths\n",
    "    waves = np.array([float(rec.split(\",\")[0]) for rec in \n",
    "                      recs[w0ind:w0ind+bands]])\n",
    "\n",
    "    # -- return a dictionary\n",
    "    return {\"nrow\":samples, \"ncol\":lines, \"nwav\":bands, \"waves\":waves}\n",
    "\n",
    "\n",
    "def read_raw(rawfile, shape, hyper=False, verbose=True):\n",
    "    \"\"\"\n",
    "    Read a Middleton raw file.\n",
    "\n",
    "    Parameters\n",
    "    ----------\n",
    "    rawfile : str\n",
    "        The name of the raw file.\n",
    "    shape : tuple\n",
    "        The output shape of the data cube (nwav, nrow, ncol).\n",
    "    hyper : bool, optional\n",
    "        Set this flag to read a hyperspectral image.\n",
    "    verbose : bool, optional\n",
    "        Alert the user.\n",
    "\n",
    "    Returns\n",
    "    -------\n",
    "    memmap : memmap\n",
    "        A numpy memmap of the datacube.\n",
    "    \"\"\"\n",
    "\n",
    "    # -- alert\n",
    "    if verbose:\n",
    "        print(\"reading {0}...\".format(rawfile))\n",
    "\n",
    "    # -- read either broadband or hyperspectral image\n",
    "    if hyper:\n",
    "        return np.memmap(rawfile, np.uint16, mode=\"r\") \\\n",
    "            .reshape(shape[2], shape[0], shape[1])[:, :, ::-1] \\\n",
    "            .transpose(1, 2, 0)\n",
    "    else:\n",
    "        return np.memmap(rawfile, np.uint8, mode=\"r\") \\\n",
    "            .reshape(shape[1], shape[2], shape[0])[:, :, ::-1]\n",
    "\n",
    "\n",
    "def read_hyper(fpath, fname=None, full=True):\n",
    "    \"\"\"\n",
    "    Read a full hyperspectral scan (raw and header file).\n",
    "\n",
    "    Parameters\n",
    "    ----------\n",
    "    fpath : str\n",
    "        Either the full name+path of the raw file or the path of the raw file.\n",
    "        If the latter, fname must be supplied.\n",
    "    fname : str, optional\n",
    "        The name of the raw file (required if fpath is set to a path).\n",
    "    full : bool, optional\n",
    "        If True, output a class containing data and supplementary information.\n",
    "        If False, output only the data.\n",
    "\n",
    "    Returns\n",
    "    -------\n",
    "    output or memmap : class or memmap\n",
    "        If full is True, a class containing data plus supplementary \n",
    "        information.  If full is False, a memmap array of the data.\n",
    "    \"\"\"\n",
    "\n",
    "    # -- set up the file names\n",
    "    if fname is not None:\n",
    "        fpath = os.path.join(fpath, fname)\n",
    "\n",
    "    # -- read the header\n",
    "    hdr = read_header(fpath.replace(\"raw\", \"hdr\"))\n",
    "    sh  = (hdr[\"nwav\"], hdr[\"nrow\"], hdr[\"ncol\"])\n",
    "\n",
    "    # -- if desired, only output data cube\n",
    "    if not full:\n",
    "        return read_raw(fpath, sh, hyper=True)\n",
    "\n",
    "    # -- output full structure\n",
    "    class output():\n",
    "        def __init__(self, fpath):\n",
    "            self.filename = fpath\n",
    "            self.data     = read_raw(fpath, sh, hyper=True)\n",
    "            self.waves    = hdr[\"waves\"]\n",
    "            self.nwav     = sh[0]\n",
    "            self.nrow     = sh[1]\n",
    "            self.ncol     = sh[2]\n",
    "\n",
    "    return output(fpath)"
   ]
  },
  {
   "cell_type": "code",
   "execution_count": 2,
   "metadata": {},
   "outputs": [],
   "source": [
    "def kmeans_test_dictionary(labels, test, k):\n",
    "    import collections, numpy\n",
    "    \n",
    "    unique_test, counts_test = numpy.unique(labels[test[:,0], test[:,1]], return_counts=True)\n",
    "    counts_test_norm = (counts_test/test.shape[0])*100\n",
    "    test_dict = dict(zip(unique_test, counts_test))\n",
    "    test_dict_norm = dict(zip(unique_test, counts_test_norm))\n",
    "    \n",
    "    for i in range(0, k):\n",
    "        if test_dict.get(i) is None: test_dict[i] = 0\n",
    "        if test_dict_norm.get(i) is None: test_dict_norm[i] = 0\n",
    "    \n",
    "    return test_dict, test_dict_norm"
   ]
  },
  {
   "cell_type": "code",
   "execution_count": 3,
   "metadata": {},
   "outputs": [],
   "source": [
    "def kmeans_test_dataframe(sky_dict,\n",
    "                          clouds_dict,\n",
    "                          veg_dict,\n",
    "                          wtr_dict,\n",
    "                          blt_dict,\n",
    "                          windows_dict,\n",
    "                          rds_dict,\n",
    "                          cars_dict,\n",
    "                          mtl_dict\n",
    "                         ):\n",
    "    import pandas as pd\n",
    "    \n",
    "    pixel_names = ['sky', 'clouds', 'vegetation', 'water', 'built',\n",
    "                  'windows', 'roads', 'cars', 'metal']\n",
    "    df_test = pd.DataFrame([sky_dict,\n",
    "                            clouds_dict,\n",
    "                            veg_dict,\n",
    "                            wtr_dict,\n",
    "                            blt_dict,\n",
    "                            windows_dict,\n",
    "                            rds_dict,\n",
    "                            cars_dict,\n",
    "                            mtl_dict], index=pixel_names)\n",
    "    df_test = df_test.transpose()\n",
    "    \n",
    "    return df_test"
   ]
  },
  {
   "cell_type": "code",
   "execution_count": 4,
   "metadata": {},
   "outputs": [],
   "source": [
    "def plot_confusion_matrix(df_test, norm=True):\n",
    "    import numpy as np\n",
    "    import matplotlib.pyplot as plt\n",
    "    %matplotlib inline\n",
    "    \n",
    "    cm = np.array([df_test['sky'].values,\n",
    "                   df_test['clouds'].values,\n",
    "                   df_test['vegetation'].values,\n",
    "                   df_test['water'].values,\n",
    "                   df_test['built'].values,\n",
    "                   df_test['windows'].values,\n",
    "                   df_test['roads'].values,\n",
    "                   df_test['cars'].values,\n",
    "                   df_test['metal'].values])\n",
    "    classes = ['sky', 'clouds', 'vegetation', 'water', 'built', 'windows', 'roads', \n",
    "              'cars', 'metal']\n",
    "    \n",
    "    fig, ax = plt.subplots()\n",
    "    im = ax.imshow(cm, interpolation='nearest', cmap=plt.cm.Blues)\n",
    "    ax.figure.colorbar(im, ax=ax)\n",
    "    if norm:\n",
    "        title='Normalized Confusion Matrix'\n",
    "        fmt='.2f'\n",
    "    else:\n",
    "        title='Confusion Matrix'\n",
    "        fmt='d'\n",
    "    ax.set(xticks=np.arange(cm.shape[1]),\n",
    "          yticks=np.arange(cm.shape[0]),\n",
    "          xticklabels=np.arange(0,cm.shape[1]).astype(str), \n",
    "          yticklabels=classes,\n",
    "          title=title,\n",
    "          ylabel='True Label',\n",
    "          xlabel='Predicted Label')\n",
    "    #plt.setp(ax.get_xticklabels(), rotation=45, ha=\"right\",\n",
    "    #        rotation_mode=\"anchor\")\n",
    "    thresh = cm.max()/2\n",
    "    for i in range(cm.shape[0]):\n",
    "        for j in range(cm.shape[1]):\n",
    "            ax.text(j, i, format(cm[i,j], fmt),\n",
    "                   ha=\"center\", va=\"center\",\n",
    "                   color=\"white\" if cm[i,j] > thresh else \"black\")\n",
    "    fig.tight_layout()\n",
    "    plt.show()"
   ]
  },
  {
   "cell_type": "code",
   "execution_count": 5,
   "metadata": {},
   "outputs": [],
   "source": [
    "def plot_test_result(df_Test):\n",
    "    import matplotlib.pyplot as plt\n",
    "    %matplotlib inline\n",
    "    \n",
    "    df_test = df_Test.transpose()\n",
    "    ax = df_test.plot.bar(rot=0, stacked=True, colormap='tab20b')\n",
    "                          #color=['tab:blue', 'tab:green', 'tab:gray'])\n",
    "    plt.xlabel('Actual Class')\n",
    "    plt.ylabel('%of Test Pixels')\n",
    "    plt.title('Error in Prediction')\n",
    "    plt.legend(bbox_to_anchor=(1,1), loc=2, borderaxespad=1.0, prop={'size':11})\n",
    "    plt.show()"
   ]
  },
  {
   "cell_type": "code",
   "execution_count": 6,
   "metadata": {},
   "outputs": [],
   "source": [
    "def point_from_string(text):\n",
    "    \n",
    "    items = text.strip(\"\\n\").split(\" \")\n",
    "    rind = int(items[0])\n",
    "    cind = int(items[1])\n",
    "    \n",
    "    return rind, cind"
   ]
  },
  {
   "cell_type": "code",
   "execution_count": 7,
   "metadata": {},
   "outputs": [],
   "source": [
    "def coords(row, col):\n",
    "    return np.array(list(np.ndindex((row, col)))).reshape(row, col, 2)"
   ]
  },
  {
   "cell_type": "markdown",
   "metadata": {},
   "source": [
    "---\n",
    "### Classes:\n",
    "1. Sky\n",
    "2. Clouds\n",
    "3. Water\n",
    "4. Vegetation\n",
    "5. Buildings (concrete structures)\n",
    "6. Windows\n",
    "7. Roads\n",
    "8. Cars\n",
    "9. Metal Structures\n",
    "---\n"
   ]
  },
  {
   "cell_type": "markdown",
   "metadata": {},
   "source": [
    "## GBDT on veg_00108 (South Facing @ ~2pm)"
   ]
  },
  {
   "cell_type": "code",
   "execution_count": 8,
   "metadata": {},
   "outputs": [
    {
     "name": "stdout",
     "output_type": "stream",
     "text": [
      "reading and parsing ../../image_files/veg_00108.hdr...\n",
      "reading ../../image_files/veg_00108.raw...\n"
     ]
    }
   ],
   "source": [
    "fname = \"../../image_files/veg_00108.raw\"\n",
    "cube = read_hyper(fname)"
   ]
  },
  {
   "cell_type": "code",
   "execution_count": 9,
   "metadata": {},
   "outputs": [
    {
     "name": "stdout",
     "output_type": "stream",
     "text": [
      "(848, 1600, 1600)\n"
     ]
    }
   ],
   "source": [
    "cube_sub = cube.data[:, :, :].astype(float)\n",
    "print(cube_sub.shape)"
   ]
  },
  {
   "cell_type": "code",
   "execution_count": 10,
   "metadata": {},
   "outputs": [
    {
     "name": "stdout",
     "output_type": "stream",
     "text": [
      "(2560000, 848)\n"
     ]
    }
   ],
   "source": [
    "cube_reshaped = cube_sub.transpose(1, 2, 0).reshape((cube_sub.shape[1] * cube_sub.shape[2]), cube_sub.shape[0])\n",
    "print(cube_reshaped.shape)"
   ]
  },
  {
   "cell_type": "code",
   "execution_count": 11,
   "metadata": {},
   "outputs": [],
   "source": [
    "cube_standard = (cube_reshaped - cube_reshaped.mean(1, keepdims=True)) / cube_reshaped.std(1, keepdims=True)"
   ]
  },
  {
   "cell_type": "code",
   "execution_count": 12,
   "metadata": {},
   "outputs": [],
   "source": [
    "cube_std_reshaped = cube_standard.reshape(cube_sub.shape[1], cube_sub.shape[2], cube_sub.shape[0])"
   ]
  },
  {
   "cell_type": "code",
   "execution_count": 13,
   "metadata": {},
   "outputs": [
    {
     "data": {
      "image/png": "[encoded data removed]",
      "text/plain": [
       "<Figure size 720x720 with 1 Axes>"
      ]
     },
     "metadata": {
      "needs_background": "light"
     },
     "output_type": "display_data"
    }
   ],
   "source": [
    "cube_norm = (cube_reshaped - cube_reshaped.min()) / (cube_reshaped.max() - cube_reshaped.min())\n",
    "\n",
    "import matplotlib.pyplot as plt\n",
    "%matplotlib inline\n",
    "\n",
    "red_ind = (np.abs(cube.waves - 650.0)).argmin()\n",
    "green_ind = (np.abs(cube.waves - 550.0)).argmin()\n",
    "blue_ind = (np.abs(cube.waves - 450.0)).argmin()\n",
    "\n",
    "cube_reshaped2 = cube_norm.reshape(cube_sub.shape[1], cube_sub.shape[2], cube_sub.shape[0])\n",
    "cube_scene = cube_reshaped2[:, :, [red_ind, green_ind, blue_ind]]\n",
    "fig, ax = plt.subplots(figsize=(10,10))\n",
    "plt.title('veg_00108 RGB Image')\n",
    "ax.imshow(cube_scene, aspect=0.5)\n",
    "plt.show()"
   ]
  },
  {
   "cell_type": "markdown",
   "metadata": {},
   "source": [
    "#### Reading manually classified set for training and testing"
   ]
  },
  {
   "cell_type": "code",
   "execution_count": 14,
   "metadata": {},
   "outputs": [
    {
     "name": "stdout",
     "output_type": "stream",
     "text": [
      "sky:         (300, 2)\n",
      "clouds:      (500, 2)\n",
      "vegetation:  (600, 2)\n",
      "water:       (50, 2)\n",
      "buildings:   (1020, 2)\n",
      "windows:     (500, 2)\n",
      "road:        (30, 2)\n",
      "cars:        (100, 2)\n",
      "metal:       (100, 2)\n"
     ]
    }
   ],
   "source": [
    "# read manually selected coordinates files\n",
    "\n",
    "#sky coordinates\n",
    "sky_file = open(\"../manual_classified_pixels/1_sky_coordinates_108.txt\", \"r\")\n",
    "sky_coords = sky_file.readlines()\n",
    "sky_file.close()\n",
    "sky_coords = np.array([point_from_string(line) for line in sky_coords])\n",
    "print(\"sky:        \", sky_coords.shape)\n",
    "\n",
    "#clouds coordinates\n",
    "clouds_file = open(\"../manual_classified_pixels/2_clouds_coordinates_108.txt\", \"r\")\n",
    "clouds_coords = clouds_file.readlines()\n",
    "clouds_file.close()\n",
    "clouds_coords = np.array([point_from_string(line) for line in clouds_coords])\n",
    "print(\"clouds:     \", clouds_coords.shape)\n",
    "\n",
    "#vegetation coordinates\n",
    "veg_file = open(\"../manual_classified_pixels/3_vegetation_coordinates_108.txt\", \"r\")\n",
    "veg_coords = veg_file.readlines()\n",
    "veg_file.close()\n",
    "veg_coords = np.array([point_from_string(line) for line in veg_coords])\n",
    "print(\"vegetation: \", veg_coords.shape)\n",
    "\n",
    "#water coordinates\n",
    "wtr_file = open(\"../manual_classified_pixels/4_water_coordinates_108.txt\", \"r\")\n",
    "wtr_coords = wtr_file.readlines()\n",
    "wtr_file.close()\n",
    "wtr_coords = np.array([point_from_string(line) for line in wtr_coords])\n",
    "print(\"water:      \", wtr_coords.shape)\n",
    "\n",
    "#buildings coordinates\n",
    "blt_file = open(\"../manual_classified_pixels/5_buildings_coordinates_108.txt\", \"r\")\n",
    "blt_coords = blt_file.readlines()\n",
    "blt_file.close()\n",
    "blt_coords = np.array([point_from_string(line) for line in blt_coords])\n",
    "print(\"buildings:  \", blt_coords.shape)\n",
    "\n",
    "#windows coordinates\n",
    "windows_file = open(\"../manual_classified_pixels/6_windows_coordinates_108.txt\", \"r\")\n",
    "windows_coords = windows_file.readlines()\n",
    "windows_file.close()\n",
    "windows_coords = np.array([point_from_string(line) for line in windows_coords])\n",
    "print(\"windows:    \", windows_coords.shape)\n",
    "\n",
    "#roads coordinates\n",
    "rds_file = open(\"../manual_classified_pixels/7_roads_coordinates_108.txt\", \"r\")\n",
    "rds_coords = rds_file.readlines()\n",
    "rds_file.close()\n",
    "rds_coords = np.array([point_from_string(line) for line in rds_coords])\n",
    "print(\"road:       \", rds_coords.shape)\n",
    "\n",
    "#cars coordinates\n",
    "cars_file = open(\"../manual_classified_pixels/8_cars_coordinates_108.txt\", \"r\")\n",
    "cars_coords = cars_file.readlines()\n",
    "cars_file.close()\n",
    "cars_coords = np.array([point_from_string(line) for line in cars_coords])\n",
    "print(\"cars:       \", cars_coords.shape)\n",
    "\n",
    "#metal coordinates\n",
    "mtl_file = open(\"../manual_classified_pixels/9_metal_coordinates_108.txt\", \"r\")\n",
    "mtl_coords = mtl_file.readlines()\n",
    "mtl_file.close()\n",
    "mtl_coords = np.array([point_from_string(line) for line in mtl_coords])\n",
    "print(\"metal:      \", mtl_coords.shape)"
   ]
  },
  {
   "cell_type": "markdown",
   "metadata": {},
   "source": [
    "#### split classified pixels into 80% training and 20% testing sets"
   ]
  },
  {
   "cell_type": "code",
   "execution_count": 15,
   "metadata": {},
   "outputs": [
    {
     "name": "stdout",
     "output_type": "stream",
     "text": [
      "sky 240 60\n",
      "clouds 400 100\n",
      "vegetation 480 120\n",
      "water 40 10\n",
      "built 816 204\n",
      "windows 400 100\n",
      "roads 24 6\n",
      "cars 80 20\n",
      "metal 80 20\n"
     ]
    }
   ],
   "source": [
    "import random\n",
    "\n",
    "# sky coordinates\n",
    "sky_ind = np.arange(sky_coords.shape[0])\n",
    "random.Random(3).shuffle(sky_ind)\n",
    "lim_ind = int(len(sky_ind)*0.8)\n",
    "sky_train_ind = sky_ind[:lim_ind]\n",
    "sky_test_ind = sky_ind[lim_ind:]\n",
    "print(\"sky %d %d\" % (len(sky_train_ind), len(sky_test_ind)))\n",
    "\n",
    "# clouds coordinates\n",
    "clouds_ind = np.arange(clouds_coords.shape[0])\n",
    "random.Random(3).shuffle(clouds_ind)\n",
    "lim_ind = int(len(clouds_ind)*0.8)\n",
    "clouds_train_ind = clouds_ind[:lim_ind]\n",
    "clouds_test_ind = clouds_ind[lim_ind:]\n",
    "print(\"clouds %d %d\" % (len(clouds_train_ind), len(clouds_test_ind)))\n",
    "\n",
    "# vegetation coordinates\n",
    "veg_ind = np.arange(veg_coords.shape[0])\n",
    "random.Random(3).shuffle(veg_ind)\n",
    "lim_ind = int(len(veg_ind)*0.8)\n",
    "veg_train_ind = veg_ind[:lim_ind]\n",
    "veg_test_ind = veg_ind[lim_ind:]\n",
    "print(\"vegetation %d %d\" % (len(veg_train_ind), len(veg_test_ind)))\n",
    "\n",
    "# water coordinates\n",
    "wtr_ind = np.arange(wtr_coords.shape[0])\n",
    "random.Random(3).shuffle(wtr_ind)\n",
    "lim_ind = int(len(wtr_ind)*0.8)\n",
    "wtr_train_ind = wtr_ind[:lim_ind]\n",
    "wtr_test_ind = wtr_ind[lim_ind:]\n",
    "print(\"water %d %d\" % (len(wtr_train_ind), len(wtr_test_ind)))\n",
    "\n",
    "# built coordinates\n",
    "blt_ind = np.arange(blt_coords.shape[0])\n",
    "random.Random(3).shuffle(blt_ind)\n",
    "lim_ind = int(len(blt_ind)*0.8)\n",
    "blt_train_ind = blt_ind[:lim_ind]\n",
    "blt_test_ind = blt_ind[lim_ind:]\n",
    "print(\"built %d %d\" % (len(blt_train_ind), len(blt_test_ind)))\n",
    "\n",
    "# windows coordinates\n",
    "windows_ind = np.arange(windows_coords.shape[0])\n",
    "random.Random(3).shuffle(windows_ind)\n",
    "lim_ind = int(len(windows_ind)*0.8)\n",
    "windows_train_ind = windows_ind[:lim_ind]\n",
    "windows_test_ind = windows_ind[lim_ind:]\n",
    "print(\"windows %d %d\" % (len(windows_train_ind), len(windows_test_ind)))\n",
    "\n",
    "# roads coordinates\n",
    "rds_ind = np.arange(rds_coords.shape[0])\n",
    "random.Random(3).shuffle(rds_ind)\n",
    "lim_ind = int(len(rds_ind)*0.8)\n",
    "rds_train_ind = rds_ind[:lim_ind]\n",
    "rds_test_ind = rds_ind[lim_ind:]\n",
    "print(\"roads %d %d\" % (len(rds_train_ind), len(rds_test_ind)))\n",
    "\n",
    "# cars coordinates\n",
    "cars_ind = np.arange(cars_coords.shape[0])\n",
    "random.Random(3).shuffle(cars_ind)\n",
    "lim_ind = int(len(cars_ind)*0.8)\n",
    "cars_train_ind = cars_ind[:lim_ind]\n",
    "cars_test_ind = cars_ind[lim_ind:]\n",
    "print(\"cars %d %d\" % (len(cars_train_ind), len(cars_test_ind)))\n",
    "\n",
    "# metal coordinates\n",
    "mtl_ind = np.arange(mtl_coords.shape[0])\n",
    "random.Random(3).shuffle(mtl_ind)\n",
    "lim_ind = int(len(mtl_ind)*0.8)\n",
    "mtl_train_ind = mtl_ind[:lim_ind]\n",
    "mtl_test_ind = mtl_ind[lim_ind:]\n",
    "print(\"metal %d %d\" % (len(mtl_train_ind), len(mtl_test_ind)))"
   ]
  },
  {
   "cell_type": "code",
   "execution_count": 16,
   "metadata": {},
   "outputs": [
    {
     "name": "stdout",
     "output_type": "stream",
     "text": [
      "sky  (240, 848) (60, 848)\n",
      "clouds  (400, 848) (100, 848)\n",
      "vegetation  (480, 848) (120, 848)\n",
      "water  (40, 848) (10, 848)\n",
      "built  (816, 848) (204, 848)\n",
      "windows  (400, 848) (100, 848)\n",
      "roads  (24, 848) (6, 848)\n",
      "cars  (80, 848) (20, 848)\n",
      "metal  (80, 848) (20, 848)\n"
     ]
    }
   ],
   "source": [
    "cube_sky_train = cube_std_reshaped[sky_coords[sky_train_ind[:], 0], sky_coords[sky_train_ind[:], 1], :]\n",
    "cube_sky_test = cube_std_reshaped[sky_coords[sky_test_ind[:], 0], sky_coords[sky_test_ind[:], 1], :]\n",
    "print(\"sky \", cube_sky_train.shape, cube_sky_test.shape)\n",
    "\n",
    "cube_clouds_train = cube_std_reshaped[clouds_coords[clouds_train_ind[:], 0], clouds_coords[clouds_train_ind[:], 1], :]\n",
    "cube_clouds_test = cube_std_reshaped[clouds_coords[clouds_test_ind[:], 0], clouds_coords[clouds_test_ind[:], 1], :]\n",
    "print(\"clouds \", cube_clouds_train.shape, cube_clouds_test.shape)\n",
    "\n",
    "cube_veg_train = cube_std_reshaped[veg_coords[veg_train_ind[:], 0], veg_coords[veg_train_ind[:], 1], :]\n",
    "cube_veg_test = cube_std_reshaped[veg_coords[veg_test_ind[:], 0], veg_coords[veg_test_ind[:], 1], :]\n",
    "print(\"vegetation \", cube_veg_train.shape, cube_veg_test.shape)\n",
    "\n",
    "cube_wtr_train = cube_std_reshaped[wtr_coords[wtr_train_ind[:], 0], wtr_coords[wtr_train_ind[:], 1], :]\n",
    "cube_wtr_test = cube_std_reshaped[wtr_coords[wtr_test_ind[:], 0], wtr_coords[wtr_test_ind[:], 1], :]\n",
    "print(\"water \", cube_wtr_train.shape, cube_wtr_test.shape)\n",
    "\n",
    "cube_blt_train = cube_std_reshaped[blt_coords[blt_train_ind[:], 0], blt_coords[blt_train_ind[:], 1], :]\n",
    "cube_blt_test = cube_std_reshaped[blt_coords[blt_test_ind[:], 0], blt_coords[blt_test_ind[:], 1], :]\n",
    "print(\"built \", cube_blt_train.shape, cube_blt_test.shape)\n",
    "\n",
    "cube_windows_train = cube_std_reshaped[windows_coords[windows_train_ind[:], 0], windows_coords[windows_train_ind[:], 1], :]\n",
    "cube_windows_test = cube_std_reshaped[windows_coords[windows_test_ind[:], 0], windows_coords[windows_test_ind[:], 1], :]\n",
    "print(\"windows \", cube_windows_train.shape, cube_windows_test.shape)\n",
    "\n",
    "cube_rds_train = cube_std_reshaped[rds_coords[rds_train_ind[:], 0], rds_coords[rds_train_ind[:], 1], :]\n",
    "cube_rds_test = cube_std_reshaped[rds_coords[rds_test_ind[:], 0], rds_coords[rds_test_ind[:], 1], :]\n",
    "print(\"roads \", cube_rds_train.shape, cube_rds_test.shape)\n",
    "\n",
    "cube_cars_train = cube_std_reshaped[cars_coords[cars_train_ind[:], 0], cars_coords[cars_train_ind[:], 1], :]\n",
    "cube_cars_test = cube_std_reshaped[cars_coords[cars_test_ind[:], 0], cars_coords[cars_test_ind[:], 1], :]\n",
    "print(\"cars \", cube_cars_train.shape, cube_cars_test.shape)\n",
    "\n",
    "cube_mtl_train = cube_std_reshaped[mtl_coords[mtl_train_ind[:], 0], mtl_coords[mtl_train_ind[:], 1], :]\n",
    "cube_mtl_test = cube_std_reshaped[mtl_coords[mtl_test_ind[:], 0], mtl_coords[mtl_test_ind[:], 1], :]\n",
    "print(\"metal \", cube_mtl_train.shape, cube_mtl_test.shape)"
   ]
  },
  {
   "cell_type": "code",
   "execution_count": 17,
   "metadata": {},
   "outputs": [
    {
     "name": "stdout",
     "output_type": "stream",
     "text": [
      "(2560, 848)\n",
      "(640, 848)\n"
     ]
    }
   ],
   "source": [
    "# concatenate training and testing sets and create index arrays\n",
    "\n",
    "cube_train = np.concatenate((cube_sky_train, cube_clouds_train, cube_veg_train, cube_wtr_train, cube_blt_train,\n",
    "                            cube_windows_train, cube_rds_train, cube_cars_train, cube_mtl_train), axis=0)\n",
    "cube_train_labels = [0]*cube_sky_train.shape[0] + [1]*cube_clouds_train.shape[0] \\\n",
    "                    + [2]*cube_veg_train.shape[0] + [3]*cube_wtr_train.shape[0] \\\n",
    "                    + [4]*cube_blt_train.shape[0] + [5]*cube_windows_train.shape[0] \\\n",
    "                    + [6]*cube_rds_train.shape[0] + [7]*cube_cars_train.shape[0] + [8]*cube_mtl_train.shape[0]\n",
    "\n",
    "print(cube_train.shape)\n",
    "\n",
    "cube_test = np.concatenate((cube_sky_test, cube_clouds_test, cube_veg_test, cube_wtr_test, cube_blt_test,\n",
    "                            cube_windows_test, cube_rds_test, cube_cars_test, cube_mtl_test), axis=0)\n",
    "cube_test_labels = [0]*cube_sky_test.shape[0] + [1]*cube_clouds_test.shape[0] \\\n",
    "                    + [2]*cube_veg_test.shape[0] + [3]*cube_wtr_test.shape[0] \\\n",
    "                    + [4]*cube_blt_test.shape[0] + [5]*cube_windows_test.shape[0] \\\n",
    "                    + [6]*cube_rds_test.shape[0] + [7]*cube_cars_test.shape[0] + [8]*cube_mtl_test.shape[0]\n",
    "\n",
    "print(cube_test.shape)"
   ]
  },
  {
   "cell_type": "markdown",
   "metadata": {},
   "source": [
    "### Train GBC"
   ]
  },
  {
   "cell_type": "code",
   "execution_count": 18,
   "metadata": {},
   "outputs": [],
   "source": [
    "from sklearn.ensemble import GradientBoostingClassifier"
   ]
  },
  {
   "cell_type": "code",
   "execution_count": null,
   "metadata": {},
   "outputs": [
    {
     "name": "stdout",
     "output_type": "stream",
     "text": [
      "Max Depth:  2\n",
      "Accuracy score (training): 0.998\n",
      "Accuracy score (testing): 0.917\n",
      "00:01:39\n",
      "Max Depth:  3\n",
      "Accuracy score (training): 1.000\n",
      "Accuracy score (testing): 0.919\n",
      "00:02:24\n",
      "Max Depth:  5\n",
      "Accuracy score (training): 1.000\n",
      "Accuracy score (testing): 0.927\n",
      "00:03:31\n",
      "Max Depth:  10\n",
      "Accuracy score (training): 1.000\n",
      "Accuracy score (testing): 0.903\n",
      "00:03:03\n",
      "Max Depth:  15\n",
      "Accuracy score (training): 1.000\n",
      "Accuracy score (testing): 0.902\n",
      "00:03:02\n"
     ]
    }
   ],
   "source": [
    "# find best max_depth\n",
    "\n",
    "mx_dpth = [2,3,5,10,15,20]\n",
    "\n",
    "import time\n",
    "\n",
    "for max_depth in mx_dpth:\n",
    "    start_time = time.time()\n",
    "    gbc = GradientBoostingClassifier(n_estimators=100, learning_rate=0.1, max_depth=max_depth, random_state=2)\n",
    "    gbc.fit(cube_train, cube_train_labels)\n",
    "\n",
    "    print(\"Max Depth: \", max_depth)\n",
    "    print(\"Accuracy score (training): {0:.3f}\".format(gbc.score(cube_train, cube_train_labels)))\n",
    "    print(\"Accuracy score (testing): {0:.3f}\".format(gbc.score(cube_test, cube_test_labels)))\n",
    "    \n",
    "    elapsed_time = time.time() - start_time\n",
    "    print(time.strftime(\"%H:%M:%S\", time.gmtime(elapsed_time)))"
   ]
  },
  {
   "cell_type": "code",
   "execution_count": null,
   "metadata": {},
   "outputs": [],
   "source": [
    "# find best learning rate\n",
    "\n",
    "lrn_rt = [0.05, 0.1, 0.25, 0.5, 0.75, 1.0]\n",
    "\n",
    "import time\n",
    "\n",
    "for learning_rate in lrn_rt:\n",
    "    start_time = time.time()\n",
    "    gbc = GradientBoostingClassifier(n_estimators=100, learning_rate=learning_rate, max_depth=5, random_state=2)\n",
    "    gbc.fit(cube_train, cube_train_labels)\n",
    "\n",
    "    print(\"Learning Rate: \", learning_rate)\n",
    "    print(\"Accuracy score (training): {0:.3f}\".format(gbc.score(cube_train, cube_train_labels)))\n",
    "    print(\"Accuracy score (testing): {0:.3f}\".format(gbc.score(cube_test, cube_test_labels)))\n",
    "    \n",
    "    elapsed_time = time.time() - start_time\n",
    "    print(time.strftime(\"%H:%M:%S\", time.gmtime(elapsed_time)))"
   ]
  },
  {
   "cell_type": "code",
   "execution_count": null,
   "metadata": {},
   "outputs": [],
   "source": [
    "from sklearn.ensemble import GradientBoostingClassifier\n",
    "\n",
    "gbc = GradientBoostingClassifier(n_estimators=100, learning_rate=0.1, max_depth=5, random_state=2)"
   ]
  },
  {
   "cell_type": "code",
   "execution_count": null,
   "metadata": {},
   "outputs": [],
   "source": [
    "#cube_train_full = np.concatenate((cube_train, cube_test), axis=0)\n",
    "#cube_train_full_labels = cube_train_labels + cube_test_labels\n",
    "\n",
    "#print(cube_train_full.shape, len(cube_train_full_labels))"
   ]
  },
  {
   "cell_type": "code",
   "execution_count": null,
   "metadata": {},
   "outputs": [],
   "source": [
    "import time\n",
    "start_time = time.time()\n",
    "\n",
    "GBCmodel = gbc.fit(cube_train, cube_train_labels)\n",
    "\n",
    "elapsed_time = time.time() - start_time\n",
    "print(time.strftime(\"%H:%M:%S\", time.gmtime(elapsed_time)))"
   ]
  },
  {
   "cell_type": "code",
   "execution_count": null,
   "metadata": {},
   "outputs": [],
   "source": [
    "# classify entire binned cube\n",
    "import time\n",
    "start_time = time.time()\n",
    "\n",
    "predictCube = GBCmodel.predict(cube_standard)\n",
    "\n",
    "elapsed_time = time.time() - start_time\n",
    "print(time.strftime(\"%H:%M:%S\", time.gmtime(elapsed_time)))"
   ]
  },
  {
   "cell_type": "code",
   "execution_count": null,
   "metadata": {},
   "outputs": [],
   "source": [
    "predictCube_reshape = predictCube.reshape(cube_std_reshaped.shape[0], cube_std_reshaped.shape[1])"
   ]
  },
  {
   "cell_type": "code",
   "execution_count": null,
   "metadata": {},
   "outputs": [],
   "source": [
    "import matplotlib.pyplot as plt\n",
    "import matplotlib.colors as ListedColorMap\n",
    "import matplotlib.patches as mpatches\n",
    "from matplotlib.ticker import NullFormatter\n",
    "%matplotlib inline\n",
    "\n",
    "cmap = {0:[0,0.32549,0.62353,1], 1:[0.93333,0.9098,0.77255,1], 2:[0,0.61961,0.45098,1],  3:[0.33725,0.70588,0.91373,1],\n",
    "        4:[0,0,0,1], 5:[1,0.82353,0,1], 6:[0.90196,0.62353,0,1], 7:[0.83529,0.36863,0,1],\n",
    "        8:[0.8,0.47451,0.65490,1]}\n",
    "labels = {0:'sky', 1:'clouds', 2:'vegetation', 3:'water', 4:'built',\n",
    "          5:'windows', 6:'roads', 7:'cars', 8:'metal'}\n",
    "arrayShow = np.array([[cmap[i] for i in j] for j in predictCube_reshape])\n",
    "patches = [mpatches.Patch(color=cmap[i], label=labels[i]) for i in cmap]\n",
    "\n",
    "fig = plt.figure(figsize=(15,15))\n",
    "ax = fig.add_axes([0.1,0.1,0.9,0.9])\n",
    "ax.tick_params(labelsize=10)\n",
    "ax.imshow(arrayShow, aspect=0.5)\n",
    "lgd = ax.legend(handles=patches, bbox_to_anchor=(1,0.75), loc='upper left', borderaxespad=1.0, prop={'size':10}, ncol=1)\n",
    "plt.show()\n",
    "#fig.savefig(\"./plots/GBDT_wo_spatial_train_108_1_108_predict_map.png\", bbox_extra_artists=(lgd,), bbox_inches='tight')"
   ]
  },
  {
   "cell_type": "code",
   "execution_count": null,
   "metadata": {},
   "outputs": [],
   "source": [
    "import matplotlib.pyplot as plt\n",
    "import matplotlib.colors as ListedColorMap\n",
    "import matplotlib.patches as mpatches\n",
    "from matplotlib.ticker import NullFormatter\n",
    "%matplotlib inline\n",
    "\n",
    "cmap = {0:[0,0.32549,0.62353,1], 1:[0.93333,0.9098,0.77255,1], 2:[0,0.61961,0.45098,1],  3:[0.33725,0.70588,0.91373,1],\n",
    "        4:[0,0,0,1], 5:[1,0.82353,0,1], 6:[0.90196,0.62353,0,1], 7:[0.83529,0.36863,0,1],\n",
    "        8:[0.8,0.47451,0.65490,1]}\n",
    "labels = {0:'sky', 1:'clouds', 2:'vegetation', 3:'water', 4:'built',\n",
    "          5:'windows', 6:'roads', 7:'cars', 8:'metal'}\n",
    "arrayShow = np.array([[cmap[i] for i in j] for j in predictCube_reshape])\n",
    "patches = [mpatches.Patch(color=cmap[i], label=labels[i]) for i in cmap]\n",
    "\n",
    "fig = plt.figure(figsize=(15,15))\n",
    "#ax = fig.add_axes([0.1,0.1,0.9,0.9])\n",
    "#ax.tick_params(labelsize=10)\n",
    "plt.imshow(arrayShow, aspect=0.5)\n",
    "#lgd = ax.legend(handles=patches, bbox_to_anchor=(1,0.75), loc='upper left', borderaxespad=1.0, prop={'size':10}, ncol=1)\n",
    "plt.axis('off')\n",
    "plt.show()\n",
    "fig.savefig(\"./plots/GBDT_train_108_test_108_predict_map.png\", bbox_inches='tight')"
   ]
  },
  {
   "cell_type": "code",
   "execution_count": null,
   "metadata": {},
   "outputs": [],
   "source": [
    "import pickle\n",
    "pickle.dump(predictCube_reshape, open(\"./plots/GBDT_train_108_test_108_predict_map.pickle\", \"wb\"))"
   ]
  },
  {
   "cell_type": "code",
   "execution_count": null,
   "metadata": {
    "scrolled": false
   },
   "outputs": [],
   "source": [
    "# feature importances\n",
    "\n",
    "importances = GBCmodel.feature_importances_\n",
    "wavelengths = cube.waves\n",
    "notzero = np.where(importances > 0)\n",
    "plt.figure(figsize = (20,5))\n",
    "plt.step(wavelengths, importances)\n",
    "plt.title(\"Feature Importances\")\n",
    "plt.xlabel(\"wavelengths\")\n",
    "plt.show()\n",
    "f.savefig(\"./plots/GBDT_train_108_test_108_feature_importances.png\")"
   ]
  },
  {
   "cell_type": "code",
   "execution_count": null,
   "metadata": {},
   "outputs": [],
   "source": [
    "import pickle\n",
    "pickle.dump(importances, open(\"./plots/GBDT_train_108_test_108_feature_importances.pickle\", \"wb\"))"
   ]
  },
  {
   "cell_type": "markdown",
   "metadata": {},
   "source": [
    "### Evaluation Metrics (veg_00108)"
   ]
  },
  {
   "cell_type": "code",
   "execution_count": null,
   "metadata": {},
   "outputs": [],
   "source": [
    "labels_pred_sky = predictCube_reshape[sky_coords[sky_test_ind[:], 0], sky_coords[sky_test_ind[:], 1]]\n",
    "labels_pred_clouds = predictCube_reshape[clouds_coords[clouds_test_ind[:], 0], clouds_coords[clouds_test_ind[:],1]]\n",
    "labels_pred_veg = predictCube_reshape[veg_coords[veg_test_ind[:],0], veg_coords[veg_test_ind[:],1]]\n",
    "labels_pred_wtr = predictCube_reshape[wtr_coords[wtr_test_ind[:],0], wtr_coords[wtr_test_ind[:],1]]\n",
    "labels_pred_blt = predictCube_reshape[blt_coords[blt_test_ind[:],0], blt_coords[blt_test_ind[:],1]]\n",
    "labels_pred_windows = predictCube_reshape[windows_coords[windows_test_ind[:],0], windows_coords[windows_test_ind[:],1]]\n",
    "labels_pred_rds = predictCube_reshape[rds_coords[rds_test_ind[:],0], rds_coords[rds_test_ind[:],1]]\n",
    "labels_pred_cars = predictCube_reshape[cars_coords[cars_test_ind[:],0], cars_coords[cars_test_ind[:],1]]\n",
    "labels_pred_mtl = predictCube_reshape[mtl_coords[mtl_test_ind[:],0], mtl_coords[mtl_test_ind[:],1]]\n",
    "\n",
    "labels_pred = np.concatenate((labels_pred_sky, labels_pred_clouds, labels_pred_veg, labels_pred_wtr, \n",
    "                             labels_pred_blt, labels_pred_windows, labels_pred_rds, labels_pred_cars, labels_pred_mtl))"
   ]
  },
  {
   "cell_type": "code",
   "execution_count": null,
   "metadata": {},
   "outputs": [],
   "source": [
    "labels_true_sky = np.full(len(sky_test_ind), 0)\n",
    "labels_true_clouds = np.full(len(clouds_test_ind), 1)\n",
    "labels_true_veg = np.full(len(veg_test_ind), 2)\n",
    "labels_true_wtr = np.full(len(wtr_test_ind), 3)\n",
    "labels_true_blt = np.full(len(blt_test_ind), 4)\n",
    "labels_true_windows = np.full(len(windows_test_ind), 5)\n",
    "labels_true_rds = np.full(len(rds_test_ind), 6)\n",
    "labels_true_cars = np.full(len(cars_test_ind), 7)\n",
    "labels_true_mtl = np.full(len(mtl_test_ind), 8)\n",
    "\n",
    "labels_true = np.concatenate((labels_true_sky, labels_true_clouds, labels_true_veg, labels_true_wtr, \n",
    "                             labels_true_blt, labels_true_windows, labels_true_rds, labels_true_cars, labels_true_mtl))"
   ]
  },
  {
   "cell_type": "code",
   "execution_count": null,
   "metadata": {},
   "outputs": [],
   "source": [
    "print(labels_pred.shape)\n",
    "print(labels_true.shape)"
   ]
  },
  {
   "cell_type": "code",
   "execution_count": null,
   "metadata": {},
   "outputs": [],
   "source": [
    "from sklearn import metrics\n",
    "\n",
    "print(\"Confusion Matrix\")\n",
    "print(metrics.confusion_matrix(labels_true, labels_pred))\n",
    "\n",
    "print(\"\")\n",
    "print(\"Accuracy Score\")\n",
    "print(metrics.accuracy_score(labels_true, labels_pred))\n",
    "\n",
    "target_names = ['sky', 'clouds', 'vegetation', 'water', 'built', 'windows', 'roads', 'cars', 'metal']\n",
    "print(\"\")\n",
    "print(\"Classification Report\")\n",
    "print(metrics.classification_report(labels_true, labels_pred, target_names=target_names))"
   ]
  },
  {
   "cell_type": "code",
   "execution_count": null,
   "metadata": {},
   "outputs": [],
   "source": [
    "f = open(\"./metrics/GBDT_train_108_test_108_metrics.txt\", \"w\")\n",
    "f.write(\"Confusion Matrix\")\n",
    "f.write('\\n')\n",
    "f.write(str(metrics.confusion_matrix(labels_true, labels_pred)))\n",
    "f.write('\\n')\n",
    "f.write('\\n')\n",
    "f.write(\"Accuracy Score\")\n",
    "f.write('\\n')\n",
    "f.write(str(metrics.accuracy_score(labels_true, labels_pred)))\n",
    "target_names = ['sky', 'clouds', 'vegetation', 'water', 'built', 'windows', 'roads', 'cars', 'metal']\n",
    "f.write('\\n')\n",
    "f.write('\\n')\n",
    "f.write(\"Classification Report\")\n",
    "f.write('\\n')\n",
    "f.write(metrics.classification_report(labels_true, labels_pred, target_names=target_names))\n",
    "f.close()"
   ]
  },
  {
   "cell_type": "markdown",
   "metadata": {},
   "source": [
    "---\n",
    "## GBDT on veg_00000 (South Facing @ ~6pm)"
   ]
  },
  {
   "cell_type": "code",
   "execution_count": null,
   "metadata": {},
   "outputs": [],
   "source": [
    "fname0 = \"../../image_files/veg_00000.raw\"\n",
    "cube0 = read_hyper(fname0)"
   ]
  },
  {
   "cell_type": "code",
   "execution_count": null,
   "metadata": {},
   "outputs": [],
   "source": [
    "cube_sub0 = cube0.data[:, :, :].astype(float)\n",
    "print(cube_sub0.shape)"
   ]
  },
  {
   "cell_type": "code",
   "execution_count": null,
   "metadata": {},
   "outputs": [],
   "source": [
    "cube_reshaped0 = cube_sub0.transpose(1, 2, 0).reshape((cube_sub0.shape[1] * cube_sub0.shape[2]), cube_sub0.shape[0])\n",
    "print(cube_reshaped0.shape)"
   ]
  },
  {
   "cell_type": "code",
   "execution_count": null,
   "metadata": {},
   "outputs": [],
   "source": [
    "cube_standard0 = (cube_reshaped0 - cube_reshaped0.mean(1, keepdims=True)) / cube_reshaped0.std(1, keepdims=True)"
   ]
  },
  {
   "cell_type": "code",
   "execution_count": null,
   "metadata": {},
   "outputs": [],
   "source": [
    "cube_std_reshaped0 = cube_standard0.reshape(cube_sub0.shape[1], cube_sub0.shape[2], cube_sub0.shape[0])"
   ]
  },
  {
   "cell_type": "code",
   "execution_count": null,
   "metadata": {},
   "outputs": [],
   "source": [
    "cube_norm0 = (cube_reshaped0 - cube_reshaped0.min()) / (cube_reshaped0.max() - cube_reshaped0.min())\n",
    "\n",
    "import matplotlib.pyplot as plt\n",
    "%matplotlib inline\n",
    "\n",
    "red_ind0 = (np.abs(cube0.waves - 650.0)).argmin()\n",
    "green_ind0 = (np.abs(cube0.waves - 550.0)).argmin()\n",
    "blue_ind0 = (np.abs(cube0.waves - 450.0)).argmin()\n",
    "\n",
    "cube_reshaped02 = cube_norm0.reshape(cube_sub0.shape[1], cube_sub0.shape[2], cube_sub0.shape[0])\n",
    "cube_scene0 = cube_reshaped02[:, :, [red_ind0, green_ind0, blue_ind0]]\n",
    "fig, ax = plt.subplots(figsize=(10,10))\n",
    "plt.title('veg_00000 RGB Image')\n",
    "ax.imshow(cube_scene0, aspect=0.5)\n",
    "plt.show()"
   ]
  },
  {
   "cell_type": "markdown",
   "metadata": {},
   "source": [
    "### Reading manually classified set for training and testing"
   ]
  },
  {
   "cell_type": "code",
   "execution_count": null,
   "metadata": {},
   "outputs": [],
   "source": [
    "# read manually selected coordinates files\n",
    "\n",
    "#sky coordinates\n",
    "sky_file0 = open(\"../manual_classified_pixels/1_sky_coordinates_000.txt\", \"r\")\n",
    "sky_coords0 = sky_file0.readlines()\n",
    "sky_file0.close()\n",
    "sky_coords0 = np.array([point_from_string(line) for line in sky_coords0])\n",
    "print(\"sky:        \", sky_coords0.shape)\n",
    "\n",
    "#clouds coordinates\n",
    "clouds_file0 = open(\"../manual_classified_pixels/2_clouds_coordinates_000.txt\", \"r\")\n",
    "clouds_coords0 = clouds_file0.readlines()\n",
    "clouds_file0.close()\n",
    "clouds_coords0 = np.array([point_from_string(line) for line in clouds_coords0])\n",
    "print(\"clouds:     \", clouds_coords0.shape)\n",
    "\n",
    "#vegetation coordinates\n",
    "veg_file0 = open(\"../manual_classified_pixels/3_vegetation_coordinates_000.txt\", \"r\")\n",
    "veg_coords0 = veg_file0.readlines()\n",
    "veg_file0.close()\n",
    "veg_coords0 = np.array([point_from_string(line) for line in veg_coords0])\n",
    "print(\"vegetation: \", veg_coords0.shape)\n",
    "\n",
    "#water coordinates\n",
    "wtr_file0 = open(\"../manual_classified_pixels/4_water_coordinates_000.txt\", \"r\")\n",
    "wtr_coords0 = wtr_file0.readlines()\n",
    "wtr_file0.close()\n",
    "wtr_coords0 = np.array([point_from_string(line) for line in wtr_coords0])\n",
    "print(\"water:      \", wtr_coords0.shape)\n",
    "\n",
    "#buildings coordinates\n",
    "blt_file0 = open(\"../manual_classified_pixels/5_buildings_coordinates_000.txt\", \"r\")\n",
    "blt_coords0 = blt_file0.readlines()\n",
    "blt_file0.close()\n",
    "blt_coords0 = np.array([point_from_string(line) for line in blt_coords0])\n",
    "print(\"buildings:  \", blt_coords0.shape)\n",
    "\n",
    "#windows coordinates\n",
    "windows_file0 = open(\"../manual_classified_pixels/6_windows_coordinates_000.txt\", \"r\")\n",
    "windows_coords0 = windows_file0.readlines()\n",
    "windows_file0.close()\n",
    "windows_coords0 = np.array([point_from_string(line) for line in windows_coords0])\n",
    "print(\"windows:    \", windows_coords0.shape)\n",
    "\n",
    "#roads coordinates\n",
    "rds_file0 = open(\"../manual_classified_pixels/7_roads_coordinates_000.txt\", \"r\")\n",
    "rds_coords0 = rds_file0.readlines()\n",
    "rds_file0.close()\n",
    "rds_coords0 = np.array([point_from_string(line) for line in rds_coords0])\n",
    "print(\"road:       \", rds_coords0.shape)\n",
    "\n",
    "#cars coordinates\n",
    "cars_file0 = open(\"../manual_classified_pixels/8_cars_coordinates_000.txt\", \"r\")\n",
    "cars_coords0 = cars_file0.readlines()\n",
    "cars_file0.close()\n",
    "cars_coords0 = np.array([point_from_string(line) for line in cars_coords0])\n",
    "print(\"cars:       \", cars_coords0.shape)\n",
    "\n",
    "#metal coordinates\n",
    "mtl_file0 = open(\"../manual_classified_pixels/9_metal_coordinates_000.txt\", \"r\")\n",
    "mtl_coords0 = mtl_file0.readlines()\n",
    "mtl_file0.close()\n",
    "mtl_coords0 = np.array([point_from_string(line) for line in mtl_coords0])\n",
    "print(\"metal:      \", mtl_coords0.shape)"
   ]
  },
  {
   "cell_type": "markdown",
   "metadata": {},
   "source": [
    "### split classified pixels into 80% training and 20% testing"
   ]
  },
  {
   "cell_type": "code",
   "execution_count": null,
   "metadata": {},
   "outputs": [],
   "source": [
    "import random\n",
    "\n",
    "# sky coordinates\n",
    "sky_ind0 = np.arange(sky_coords0.shape[0])\n",
    "random.Random(3).shuffle(sky_ind0)\n",
    "lim_ind = int(len(sky_ind0)*0.8)\n",
    "sky_train_ind0 = sky_ind0[:lim_ind]\n",
    "sky_test_ind0 = sky_ind0[lim_ind:]\n",
    "print(\"sky %d %d\" % (len(sky_train_ind0), len(sky_test_ind0)))\n",
    "\n",
    "# clouds coordinates\n",
    "clouds_ind0 = np.arange(clouds_coords0.shape[0])\n",
    "random.Random(3).shuffle(clouds_ind0)\n",
    "lim_ind = int(len(clouds_ind0)*0.8)\n",
    "clouds_train_ind0 = clouds_ind0[:lim_ind]\n",
    "clouds_test_ind0 = clouds_ind0[lim_ind:]\n",
    "print(\"clouds %d %d\" % (len(clouds_train_ind0), len(clouds_test_ind0)))\n",
    "\n",
    "# vegetation coordinates\n",
    "veg_ind0 = np.arange(veg_coords0.shape[0])\n",
    "random.Random(3).shuffle(veg_ind0)\n",
    "lim_ind = int(len(veg_ind0)*0.8)\n",
    "veg_train_ind0 = veg_ind0[:lim_ind]\n",
    "veg_test_ind0 = veg_ind0[lim_ind:]\n",
    "print(\"vegetation %d %d\" % (len(veg_train_ind0), len(veg_test_ind0)))\n",
    "\n",
    "# water coordinates\n",
    "#wtr_ind0 = np.arange(wtr_coords0.shape[0])\n",
    "#random.Random(3).shuffle(wtr_ind0)\n",
    "#lim_ind = int(len(wtr_ind0)*0.8)\n",
    "#wtr_train_ind0 = wtr_ind[:lim_ind]\n",
    "#wtr_test_ind0 = wtr_ind[lim_ind:]\n",
    "#print(\"water %d %d\" % (len(wtr_train_ind0), len(wtr_test_ind0)))\n",
    "\n",
    "# built coordinates\n",
    "blt_ind0 = np.arange(blt_coords0.shape[0])\n",
    "random.Random(3).shuffle(blt_ind0)\n",
    "lim_ind = int(len(blt_ind0)*0.8)\n",
    "blt_train_ind0 = blt_ind0[:lim_ind]\n",
    "blt_test_ind0 = blt_ind0[lim_ind:]\n",
    "print(\"built %d %d\" % (len(blt_train_ind0), len(blt_test_ind0)))\n",
    "\n",
    "# windows coordinates\n",
    "windows_ind0 = np.arange(windows_coords0.shape[0])\n",
    "random.Random(3).shuffle(windows_ind0)\n",
    "lim_ind = int(len(windows_ind0)*0.8)\n",
    "windows_train_ind0 = windows_ind0[:lim_ind]\n",
    "windows_test_ind0 = windows_ind0[lim_ind:]\n",
    "print(\"windows %d %d\" % (len(windows_train_ind0), len(windows_test_ind0)))\n",
    "\n",
    "# roads coordinates\n",
    "rds_ind0 = np.arange(rds_coords0.shape[0])\n",
    "random.Random(3).shuffle(rds_ind0)\n",
    "lim_ind = int(len(rds_ind0)*0.8)\n",
    "rds_train_ind0 = rds_ind0[:lim_ind]\n",
    "rds_test_ind0 = rds_ind0[lim_ind:]\n",
    "print(\"roads %d %d\" % (len(rds_train_ind0), len(rds_test_ind0)))\n",
    "\n",
    "# cars coordinates\n",
    "cars_ind0 = np.arange(cars_coords0.shape[0])\n",
    "random.Random(3).shuffle(cars_ind0)\n",
    "lim_ind = int(len(cars_ind0)*0.8)\n",
    "cars_train_ind0 = cars_ind0[:lim_ind]\n",
    "cars_test_ind0 = cars_ind0[lim_ind:]\n",
    "print(\"cars %d %d\" % (len(cars_train_ind0), len(cars_test_ind0)))\n",
    "\n",
    "# metal coordinates\n",
    "mtl_ind0 = np.arange(mtl_coords0.shape[0])\n",
    "random.Random(3).shuffle(mtl_ind0)\n",
    "lim_ind = int(len(mtl_ind0)*0.8)\n",
    "mtl_train_ind0 = mtl_ind0[:lim_ind]\n",
    "mtl_test_ind0 = mtl_ind0[lim_ind:]\n",
    "print(\"metal %d %d\" % (len(mtl_train_ind0), len(mtl_test_ind0)))"
   ]
  },
  {
   "cell_type": "code",
   "execution_count": null,
   "metadata": {},
   "outputs": [],
   "source": [
    "cube_sky_train0 = cube_std_reshaped0[sky_coords0[sky_train_ind0[:], 0], sky_coords0[sky_train_ind0[:], 1], :]\n",
    "cube_sky_test0 = cube_std_reshaped0[sky_coords0[sky_test_ind0[:], 0], sky_coords0[sky_test_ind0[:], 1], :]\n",
    "print(\"sky \", cube_sky_train0.shape, cube_sky_test0.shape)\n",
    "\n",
    "cube_clouds_train0 = cube_std_reshaped0[clouds_coords0[clouds_train_ind0[:], 0], clouds_coords0[clouds_train_ind0[:], 1], :]\n",
    "cube_clouds_test0 = cube_std_reshaped0[clouds_coords0[clouds_test_ind0[:], 0], clouds_coords0[clouds_test_ind0[:], 1], :]\n",
    "print(\"clouds \", cube_clouds_train0.shape, cube_clouds_test0.shape)\n",
    "\n",
    "cube_veg_train0 = cube_std_reshaped0[veg_coords0[veg_train_ind0[:], 0], veg_coords0[veg_train_ind0[:], 1], :]\n",
    "cube_veg_test0 = cube_std_reshaped0[veg_coords0[veg_test_ind0[:], 0], veg_coords0[veg_test_ind0[:], 1], :]\n",
    "print(\"vegetation \", cube_veg_train0.shape, cube_veg_test0.shape)\n",
    "\n",
    "#cube_wtr_train0 = cube_std_reshaped0[wtr_coords0[wtr_train_ind0[:], 0], wtr_coords0[wtr_train_ind0[:], 1], :]\n",
    "#cube_wtr_test0 = cube_std_reshaped0[wtr_coords0[wtr_test_ind0[:], 0], wtr_coords0[wtr_test_ind0[:], 1], :]\n",
    "#print(\"water \", cube_wtr_train0.shape, cube_wtr_test0.shape)\n",
    "\n",
    "cube_blt_train0 = cube_std_reshaped0[blt_coords0[blt_train_ind0[:], 0], blt_coords0[blt_train_ind0[:], 1], :]\n",
    "cube_blt_test0 = cube_std_reshaped0[blt_coords0[blt_test_ind0[:], 0], blt_coords0[blt_test_ind0[:], 1], :]\n",
    "print(\"built \", cube_blt_train0.shape, cube_blt_test0.shape)\n",
    "\n",
    "cube_windows_train0 = cube_std_reshaped0[windows_coords0[windows_train_ind0[:], 0], windows_coords0[windows_train_ind0[:], 1], :]\n",
    "cube_windows_test0 = cube_std_reshaped0[windows_coords0[windows_test_ind0[:], 0], windows_coords0[windows_test_ind0[:], 1], :]\n",
    "print(\"windows \", cube_windows_train0.shape, cube_windows_test0.shape)\n",
    "\n",
    "cube_rds_train0 = cube_std_reshaped0[rds_coords0[rds_train_ind0[:], 0], rds_coords0[rds_train_ind0[:], 1], :]\n",
    "cube_rds_test0 = cube_std_reshaped0[rds_coords0[rds_test_ind0[:], 0], rds_coords0[rds_test_ind0[:], 1], :]\n",
    "print(\"roads \", cube_rds_train0.shape, cube_rds_test0.shape)\n",
    "\n",
    "cube_cars_train0 = cube_std_reshaped0[cars_coords0[cars_train_ind0[:], 0], cars_coords0[cars_train_ind0[:], 1], :]\n",
    "cube_cars_test0 = cube_std_reshaped0[cars_coords0[cars_test_ind0[:], 0], cars_coords0[cars_test_ind0[:], 1], :]\n",
    "print(\"cars \", cube_cars_train0.shape, cube_cars_test0.shape)\n",
    "\n",
    "cube_mtl_train0 = cube_std_reshaped0[mtl_coords0[mtl_train_ind0[:], 0], mtl_coords0[mtl_train_ind0[:], 1], :]\n",
    "cube_mtl_test0 = cube_std_reshaped0[mtl_coords0[mtl_test_ind0[:], 0], mtl_coords0[mtl_test_ind0[:], 1], :]\n",
    "print(\"metal \", cube_mtl_train0.shape, cube_mtl_test0.shape)"
   ]
  },
  {
   "cell_type": "code",
   "execution_count": null,
   "metadata": {},
   "outputs": [],
   "source": [
    "# concatenate training and testing sets and create index arrays\n",
    "\n",
    "cube_train0 = np.concatenate((cube_sky_train0, cube_clouds_train0, cube_veg_train0, cube_blt_train0,\n",
    "                            cube_windows_train0, cube_rds_train0, cube_cars_train0, cube_mtl_train0), axis=0)\n",
    "cube_train_labels0 = [0]*cube_sky_train0.shape[0] + [1]*cube_clouds_train0.shape[0] \\\n",
    "                    + [2]*cube_veg_train0.shape[0] + [4]*cube_blt_train0.shape[0] \\\n",
    "                    + [5]*cube_windows_train0.shape[0] + [6]*cube_rds_train0.shape[0] \\\n",
    "                    + [7]*cube_cars_train0.shape[0] + [8]*cube_mtl_train0.shape[0]\n",
    "\n",
    "print(cube_train0.shape)\n",
    "\n",
    "cube_test0 = np.concatenate((cube_sky_test0, cube_clouds_test0, cube_veg_test0, cube_blt_test0,\n",
    "                            cube_windows_test0, cube_rds_test0, cube_cars_test0, cube_mtl_test0), axis=0)\n",
    "cube_test_labels0 = [0]*cube_sky_test0.shape[0] + [1]*cube_clouds_test0.shape[0] \\\n",
    "                    + [2]*cube_veg_test0.shape[0] + [4]*cube_blt_test0.shape[0] \\\n",
    "                    + [5]*cube_windows_test0.shape[0] + [6]*cube_rds_test0.shape[0] \\\n",
    "                    + [7]*cube_cars_test0.shape[0] + [8]*cube_mtl_test0.shape[0]\n",
    "\n",
    "print(cube_test0.shape)"
   ]
  },
  {
   "cell_type": "markdown",
   "metadata": {},
   "source": [
    "## Train GBC"
   ]
  },
  {
   "cell_type": "code",
   "execution_count": null,
   "metadata": {},
   "outputs": [],
   "source": [
    "from sklearn.ensemble import GradientBoostingClassifier"
   ]
  },
  {
   "cell_type": "code",
   "execution_count": null,
   "metadata": {},
   "outputs": [],
   "source": [
    "# find best max_depth\n",
    "\n",
    "mx_dpth = [2,3,5,10,15,20]\n",
    "\n",
    "import time\n",
    "\n",
    "for max_depth in mx_dpth:\n",
    "    start_time = time.time()\n",
    "    gbc = GradientBoostingClassifier(n_estimators=100, learning_rate=0.1, max_depth=max_depth, random_state=2)\n",
    "    gbc.fit(cube_train0, cube_train_labels0)\n",
    "\n",
    "    print(\"Max Depth: \", max_depth)\n",
    "    print(\"Accuracy score (training): {0:.3f}\".format(gbc.score(cube_train0, cube_train_labels0)))\n",
    "    print(\"Accuracy score (testing): {0:.3f}\".format(gbc.score(cube_test0, cube_test_labels0)))\n",
    "    \n",
    "    elapsed_time = time.time() - start_time\n",
    "    print(time.strftime(\"%H:%M:%S\", time.gmtime(elapsed_time)))"
   ]
  },
  {
   "cell_type": "code",
   "execution_count": null,
   "metadata": {},
   "outputs": [],
   "source": [
    "# find best learning rate\n",
    "\n",
    "lrn_rt = [0.05, 0.1, 0.25, 0.5, 0.75, 1.0]\n",
    "\n",
    "import time\n",
    "\n",
    "for learning_rate in lrn_rt:\n",
    "    start_time = time.time()\n",
    "    gbc = GradientBoostingClassifier(n_estimators=100, learning_rate=learning_rate, max_depth=5, random_state=2)\n",
    "    gbc.fit(cube_train0, cube_train_labels0)\n",
    "\n",
    "    print(\"Learning Rate: \", learning_rate)\n",
    "    print(\"Accuracy score (training): {0:.3f}\".format(gbc.score(cube_train0, cube_train_labels0)))\n",
    "    print(\"Accuracy score (testing): {0:.3f}\".format(gbc.score(cube_test0, cube_test_labels0)))\n",
    "    \n",
    "    elapsed_time = time.time() - start_time\n",
    "    print(time.strftime(\"%H:%M:%S\", time.gmtime(elapsed_time)))"
   ]
  },
  {
   "cell_type": "code",
   "execution_count": null,
   "metadata": {},
   "outputs": [],
   "source": [
    "from sklearn.ensemble import GradientBoostingClassifier\n",
    "\n",
    "gbc = GradientBoostingClassifier(n_estimators=100, learning_rate=0.1, max_depth=5, random_state=2)"
   ]
  },
  {
   "cell_type": "code",
   "execution_count": null,
   "metadata": {},
   "outputs": [],
   "source": [
    "import time\n",
    "start_time = time.time()\n",
    "\n",
    "GBCmodel = gbc.fit(cube_train0, cube_train_labels0)\n",
    "\n",
    "elapsed_time = time.time() - start_time\n",
    "print(time.strftime(\"%H:%M:%S\", time.gmtime(elapsed_time)))"
   ]
  },
  {
   "cell_type": "code",
   "execution_count": null,
   "metadata": {},
   "outputs": [],
   "source": [
    "import time\n",
    "start_time = time.time()\n",
    "\n",
    "predictCube0 = GBCmodel.predict(cube_standard0)\n",
    "\n",
    "elapsed_time = time.time() - start_time\n",
    "print(time.strftime(\"%H:%M:%S\", time.gmtime(elapsed_time)))"
   ]
  },
  {
   "cell_type": "code",
   "execution_count": null,
   "metadata": {},
   "outputs": [],
   "source": [
    "predictCube_reshape0 = predictCube0.reshape(cube_sub0.shape[1], cube_sub0.shape[2])"
   ]
  },
  {
   "cell_type": "code",
   "execution_count": null,
   "metadata": {},
   "outputs": [],
   "source": [
    "import matplotlib.pyplot as plt\n",
    "import matplotlib.colors as ListedColorMap\n",
    "import matplotlib.patches as mpatches\n",
    "from matplotlib.ticker import NullFormatter\n",
    "%matplotlib inline\n",
    "\n",
    "cmap = {0:[0,0.32549,0.62353,1], 1:[0.93333,0.9098,0.77255,1], 2:[0,0.61961,0.45098,1],  3:[0.33725,0.70588,0.91373,1],\n",
    "        4:[0,0,0,1], 5:[1,0.82353,0,1], 6:[0.90196,0.62353,0,1], 7:[0.83529,0.36863,0,1],\n",
    "        8:[0.8,0.47451,0.65490,1]}\n",
    "labels = {0:'sky', 1:'clouds', 2:'vegetation', 3:'water', 4:'built',\n",
    "          5:'windows', 6:'roads', 7:'cars', 8:'metal'}\n",
    "arrayShow = np.array([[cmap[i] for i in j] for j in predictCube_reshape0])\n",
    "patches = [mpatches.Patch(color=cmap[i], label=labels[i]) for i in cmap]\n",
    "\n",
    "fig = plt.figure(figsize=(15,15))\n",
    "ax = fig.add_axes([0.1,0.1,0.9,0.9])\n",
    "ax.tick_params(labelsize=10)\n",
    "ax.imshow(arrayShow, aspect=0.5)\n",
    "lgd = ax.legend(handles=patches, bbox_to_anchor=(1,0.75), loc='upper left', borderaxespad=1.0, prop={'size':10}, ncol=1)\n",
    "plt.show()\n",
    "#fig.savefig(\"./plots/GBDT_wo_spatial_train_108_4_000_predict_map.png\", bbox_extra_artists=(lgd,), bbox_inches='tight')"
   ]
  },
  {
   "cell_type": "code",
   "execution_count": null,
   "metadata": {},
   "outputs": [],
   "source": [
    "import matplotlib.pyplot as plt\n",
    "import matplotlib.colors as ListedColorMap\n",
    "import matplotlib.patches as mpatches\n",
    "from matplotlib.ticker import NullFormatter\n",
    "%matplotlib inline\n",
    "\n",
    "cmap = {0:[0,0.32549,0.62353,1], 1:[0.93333,0.9098,0.77255,1], 2:[0,0.61961,0.45098,1],  3:[0.33725,0.70588,0.91373,1],\n",
    "        4:[0,0,0,1], 5:[1,0.82353,0,1], 6:[0.90196,0.62353,0,1], 7:[0.83529,0.36863,0,1],\n",
    "        8:[0.8,0.47451,0.65490,1]}\n",
    "labels = {0:'sky', 1:'clouds', 2:'vegetation', 3:'water', 4:'built',\n",
    "          5:'windows', 6:'roads', 7:'cars', 8:'metal'}\n",
    "arrayShow = np.array([[cmap[i] for i in j] for j in predictCube_reshape0])\n",
    "patches = [mpatches.Patch(color=cmap[i], label=labels[i]) for i in cmap]\n",
    "\n",
    "fig = plt.figure(figsize=(15,15))\n",
    "#ax = fig.add_axes([0.1,0.1,0.9,0.9])\n",
    "#ax.tick_params(labelsize=10)\n",
    "plt.imshow(arrayShow, aspect=0.5)\n",
    "#lgd = ax.legend(handles=patches, bbox_to_anchor=(1,0.75), loc='upper left', borderaxespad=1.0, prop={'size':10}, ncol=1)\n",
    "plt.axis('off')\n",
    "plt.show()\n",
    "fig.savefig(\"./plots/GBDT_train_000_test_000_predict_map.png\", bbox_inches='tight')"
   ]
  },
  {
   "cell_type": "code",
   "execution_count": null,
   "metadata": {},
   "outputs": [],
   "source": [
    "import pickle\n",
    "pickle.dump(predictCube_reshape0, open(\"./plots/GBDT_train_000_test_000_predict_map.pickle\", \"wb\"))"
   ]
  },
  {
   "cell_type": "code",
   "execution_count": null,
   "metadata": {},
   "outputs": [],
   "source": [
    "# feature importances\n",
    "\n",
    "importances = GBCmodel.feature_importances_\n",
    "wavelengths = cube0.waves\n",
    "notzero = np.where(importances > 0)\n",
    "plt.figure(figsize = (20,5))\n",
    "plt.step(wavelengths, importances)\n",
    "plt.title(\"Feature Importances\")\n",
    "plt.xlabel(\"wavelengths\")\n",
    "plt.show()\n",
    "f.savefig(\"./plots/GBDT_train_000_test_000_feature_importances.png\")"
   ]
  },
  {
   "cell_type": "code",
   "execution_count": null,
   "metadata": {},
   "outputs": [],
   "source": [
    "import pickle\n",
    "pickle.dump(predictCube_reshape0, open(\"./plots/GBDT_train_000_test_000_feature_importances.pickle\", \"wb\"))"
   ]
  },
  {
   "cell_type": "markdown",
   "metadata": {},
   "source": [
    "### Evaluation Metrics (veg_00000)"
   ]
  },
  {
   "cell_type": "code",
   "execution_count": null,
   "metadata": {},
   "outputs": [],
   "source": [
    "wtr_coords0=np.array([[0,0]])"
   ]
  },
  {
   "cell_type": "code",
   "execution_count": null,
   "metadata": {},
   "outputs": [],
   "source": [
    "labels0_pred_sky = predictCube_reshape0[sky_coords0[:,0], sky_coords0[:,1]]\n",
    "labels0_pred_clouds = predictCube_reshape0[clouds_coords0[:,0], clouds_coords0[:,1]]\n",
    "labels0_pred_veg = predictCube_reshape0[veg_coords0[:,0], veg_coords0[:,1]]\n",
    "#labels0_pred_wtr = predictCube_reshape0[wtr_coords0[:,0], wtr_coords0[:,1]]\n",
    "labels0_pred_blt = predictCube_reshape0[blt_coords0[:,0], blt_coords0[:,1]]\n",
    "labels0_pred_windows = predictCube_reshape0[windows_coords0[:,0], windows_coords0[:,1]]\n",
    "labels0_pred_rds = predictCube_reshape0[rds_coords0[:,0], rds_coords0[:,1]]\n",
    "labels0_pred_cars = predictCube_reshape0[cars_coords0[:,0], cars_coords0[:,1]]\n",
    "labels0_pred_mtl = predictCube_reshape0[mtl_coords0[:,0], mtl_coords0[:,1]]\n",
    "\n",
    "labels0_pred = np.concatenate((labels0_pred_sky, labels0_pred_clouds, labels0_pred_veg, labels0_pred_wtr, \n",
    "                             labels0_pred_blt, labels0_pred_windows, labels0_pred_rds, labels0_pred_cars, labels0_pred_mtl))"
   ]
  },
  {
   "cell_type": "code",
   "execution_count": null,
   "metadata": {},
   "outputs": [],
   "source": [
    "labels0_true_sky = np.full((sky_coords0.shape[0]), 0)\n",
    "labels0_true_clouds = np.full((clouds_coords0.shape[0]), 1)\n",
    "labels0_true_veg = np.full((veg_coords0.shape[0]), 2)\n",
    "#labels0_true_wtr = np.full((wtr_coords0.shape[0]), 3)\n",
    "labels0_true_blt = np.full((blt_coords0.shape[0]), 4)\n",
    "labels0_true_windows = np.full((windows_coords0.shape[0]), 5)\n",
    "labels0_true_rds = np.full((rds_coords0.shape[0]), 6)\n",
    "labels0_true_cars = np.full((cars_coords0.shape[0]), 7)\n",
    "labels0_true_mtl = np.full((mtl_coords0.shape[0]), 8)\n",
    "\n",
    "labels0_true = np.concatenate((labels0_true_sky, labels0_true_clouds, labels0_true_veg, labels0_true_wtr, \n",
    "                             labels0_true_blt, labels0_true_windows, labels0_true_rds, labels0_true_cars, labels0_true_mtl))"
   ]
  },
  {
   "cell_type": "code",
   "execution_count": null,
   "metadata": {},
   "outputs": [],
   "source": [
    "print(labels0_pred.shape)\n",
    "print(labels0_true.shape)"
   ]
  },
  {
   "cell_type": "code",
   "execution_count": null,
   "metadata": {},
   "outputs": [],
   "source": [
    "from sklearn import metrics\n",
    "\n",
    "print(\"Confusion Matrix\")\n",
    "print(metrics.confusion_matrix(labels0_true, labels0_pred))\n",
    "\n",
    "print(\"\")\n",
    "print(\"Accuracy Score\")\n",
    "print(metrics.accuracy_score(labels0_true, labels0_pred))\n",
    "\n",
    "target_names = ['sky', 'clouds', 'vegetation', 'built', 'windows', 'roads', 'cars', 'metal']\n",
    "print(\"\")\n",
    "print(\"Classification Report\")\n",
    "print(metrics.classification_report(labels0_true, labels0_pred, target_names=target_names))"
   ]
  },
  {
   "cell_type": "code",
   "execution_count": null,
   "metadata": {},
   "outputs": [],
   "source": [
    "f = open(\"./metrics/GBDT_train_000_test_000_metrics.txt\", \"w\")\n",
    "f.write(\"Confusion Matrix\")\n",
    "f.write('\\n')\n",
    "f.write(str(metrics.confusion_matrix(labels0_true, labels0_pred)))\n",
    "f.write('\\n')\n",
    "f.write('\\n')\n",
    "f.write(\"Accuracy Score\")\n",
    "f.write('\\n')\n",
    "f.write(str(metrics.accuracy_score(labels0_true, labels0_pred)))\n",
    "target_names = ['sky', 'clouds', 'vegetation', 'water', 'built', 'windows', 'roads', 'cars', 'metal']\n",
    "f.write('\\n')\n",
    "f.write('\\n')\n",
    "f.write(\"Classification Report\")\n",
    "f.write('\\n')\n",
    "f.write(metrics.classification_report(labels0_true, labels0_pred, target_names=target_names))\n",
    "f.close()"
   ]
  },
  {
   "cell_type": "markdown",
   "metadata": {},
   "source": [
    "---\n",
    "## GBDT on North Facing Image"
   ]
  },
  {
   "cell_type": "code",
   "execution_count": null,
   "metadata": {},
   "outputs": [],
   "source": [
    "fname_north = \"../../image_files/scan1_slow_roof_VNIR.raw\"\n",
    "cube_north = read_hyper(fname_north)"
   ]
  },
  {
   "cell_type": "code",
   "execution_count": null,
   "metadata": {},
   "outputs": [],
   "source": [
    "cube_sub_north = cube_north.data[:, :, :].astype(float)\n",
    "print(cube_sub_north.shape)"
   ]
  },
  {
   "cell_type": "code",
   "execution_count": null,
   "metadata": {},
   "outputs": [],
   "source": [
    "cube_reshaped_north = cube_sub_north.transpose(1, 2, 0).reshape((cube_sub_north.shape[1] * cube_sub_north.shape[2]), cube_sub_north.shape[0])\n",
    "print(cube_reshaped_north.shape)"
   ]
  },
  {
   "cell_type": "code",
   "execution_count": null,
   "metadata": {},
   "outputs": [],
   "source": [
    "cube_norm_north = (cube_reshaped_north - cube_reshaped_north.min()) / (cube_reshaped_north.max() - cube_reshaped_north.min())\n",
    "\n",
    "import matplotlib.pyplot as plt\n",
    "%matplotlib inline\n",
    "\n",
    "red_ind_n = (np.abs(cube_north.waves - 650.0)).argmin()\n",
    "green_ind_n = (np.abs(cube_north.waves - 550.0)).argmin()\n",
    "blue_ind_n = (np.abs(cube_north.waves - 450.0)).argmin()\n",
    "\n",
    "cube_reshaped_north2 = cube_norm_north.reshape(cube_sub_north.shape[1], cube_sub_north.shape[2], cube_sub_north.shape[0])\n",
    "cube_scene_north = cube_reshaped_north2[:, :, [red_ind_n, green_ind_n, blue_ind_n]]\n",
    "fig, ax = plt.subplots(figsize=(10,10))\n",
    "plt.title('North Facing RGB Image')\n",
    "ax.imshow(cube_scene_north, aspect=0.4)\n",
    "plt.show()"
   ]
  },
  {
   "cell_type": "code",
   "execution_count": null,
   "metadata": {},
   "outputs": [],
   "source": [
    "cube_standard_north = (cube_reshaped_north - cube_reshaped_north.mean(1, keepdims=True)) / cube_reshaped_north.std(1, keepdims=True)\n",
    "cube_reshaped_north = cube_standard_north"
   ]
  },
  {
   "cell_type": "code",
   "execution_count": null,
   "metadata": {},
   "outputs": [],
   "source": [
    "print(len(cube.waves))\n",
    "print(min(cube.waves), max(cube.waves))\n",
    "print()\n",
    "print(len(cube_north.waves))\n",
    "print(min(cube_north.waves), max(cube_north.waves))"
   ]
  },
  {
   "cell_type": "code",
   "execution_count": null,
   "metadata": {},
   "outputs": [],
   "source": [
    "# interpolating an extrapolating the north facing scene\n",
    "\n",
    "from scipy.interpolate import interp1d\n",
    "\n",
    "interp_hsi = interp1d(cube_north.waves, cube_reshaped_north, axis=1, fill_value=\"extrapolate\")\n",
    "northri = interp_hsi(cube.waves)"
   ]
  },
  {
   "cell_type": "code",
   "execution_count": null,
   "metadata": {},
   "outputs": [],
   "source": [
    "fig, ax = plt.subplots(figsize=(12,5))\n",
    "ax.plot(cube_north.waves, cube_reshaped_north[1000, :], \".\", color=\"r\")\n",
    "ax.plot(cube.waves, northri[1000, :], 'o', ms=3, color=\"b\")\n",
    "ax.plot(cube_north.waves, cube_reshaped_north[1000, :], \".\", ms=3, color=\"y\")"
   ]
  },
  {
   "cell_type": "code",
   "execution_count": null,
   "metadata": {},
   "outputs": [],
   "source": [
    "print(cube_standard_north.shape)\n",
    "print(northri.shape)\n",
    "cube_standard_north = northri\n",
    "print(cube_standard_north.shape)"
   ]
  },
  {
   "cell_type": "code",
   "execution_count": null,
   "metadata": {},
   "outputs": [],
   "source": [
    "cube_std_reshapedn = cube_standard_north.reshape(cube_sub_north.shape[1], cube_sub_north.shape[2], cube_sub.shape[0])"
   ]
  },
  {
   "cell_type": "markdown",
   "metadata": {},
   "source": [
    "### Reading manually classified set for training and testing"
   ]
  },
  {
   "cell_type": "code",
   "execution_count": null,
   "metadata": {},
   "outputs": [],
   "source": [
    "# read manually selected coordinates files\n",
    "\n",
    "#sky coordinates\n",
    "sky_filen = open(\"../manual_classified_pixels/1_sky_coordinates_north.txt\", \"r\")\n",
    "sky_coordsn = sky_filen.readlines()\n",
    "sky_filen.close()\n",
    "sky_coordsn = np.array([point_from_string(line) for line in sky_coordsn])\n",
    "print(\"sky:        \", sky_coordsn.shape)\n",
    "\n",
    "#clouds coordinates\n",
    "clouds_filen = open(\"../manual_classified_pixels/2_clouds_coordinates_north.txt\", \"r\")\n",
    "clouds_coordsn = clouds_filen.readlines()\n",
    "clouds_filen.close()\n",
    "clouds_coordsn = np.array([point_from_string(line) for line in clouds_coordsn])\n",
    "print(\"clouds:     \", clouds_coordsn.shape)\n",
    "\n",
    "#vegetation coordinates\n",
    "veg_filen = open(\"../manual_classified_pixels/3_vegetation_coordinates_north.txt\", \"r\")\n",
    "veg_coordsn = veg_filen.readlines()\n",
    "veg_filen.close()\n",
    "veg_coordsn = np.array([point_from_string(line) for line in veg_coordsn])\n",
    "print(\"vegetation: \", veg_coordsn.shape)\n",
    "\n",
    "#water coordinates\n",
    "wtr_filen = open(\"../manual_classified_pixels/4_water_coordinates_north.txt\", \"r\")\n",
    "wtr_coordsn = wtr_filen.readlines()\n",
    "wtr_filen.close()\n",
    "wtr_coordsn = np.array([point_from_string(line) for line in wtr_coordsn])\n",
    "print(\"water:      \", wtr_coordsn.shape)\n",
    "\n",
    "#buildings coordinates\n",
    "blt_filen = open(\"../manual_classified_pixels/5_buildings_coordinates_north.txt\", \"r\")\n",
    "blt_coordsn = blt_filen.readlines()\n",
    "blt_filen.close()\n",
    "blt_coordsn = np.array([point_from_string(line) for line in blt_coordsn])\n",
    "print(\"buildings:  \", blt_coordsn.shape)\n",
    "\n",
    "#windows coordinates\n",
    "windows_filen = open(\"../manual_classified_pixels/6_windows_coordinates_north.txt\", \"r\")\n",
    "windows_coordsn = windows_filen.readlines()\n",
    "windows_filen.close()\n",
    "windows_coordsn = np.array([point_from_string(line) for line in windows_coordsn])\n",
    "print(\"windows:    \", windows_coordsn.shape)\n",
    "\n",
    "#roads coordinates\n",
    "rds_filen = open(\"../manual_classified_pixels/7_roads_coordinates_north.txt\", \"r\")\n",
    "rds_coordsn = rds_filen.readlines()\n",
    "rds_filen.close()\n",
    "rds_coordsn = np.array([point_from_string(line) for line in rds_coordsn])\n",
    "print(\"road:       \", rds_coordsn.shape)\n",
    "\n",
    "#cars coordinates\n",
    "cars_filen = open(\"../manual_classified_pixels/8_cars_coordinates_north.txt\", \"r\")\n",
    "cars_coordsn = cars_filen.readlines()\n",
    "cars_filen.close()\n",
    "cars_coordsn = np.array([point_from_string(line) for line in cars_coordsn])\n",
    "print(\"cars:       \", cars_coordsn.shape)\n",
    "\n",
    "#metal coordinates\n",
    "mtl_filen = open(\"../manual_classified_pixels/9_metal_coordinates_north.txt\", \"r\")\n",
    "mtl_coordsn = mtl_filen.readlines()\n",
    "mtl_filen.close()\n",
    "mtl_coordsn = np.array([point_from_string(line) for line in mtl_coordsn])\n",
    "print(\"metal:      \", mtl_coordsn.shape)"
   ]
  },
  {
   "cell_type": "markdown",
   "metadata": {},
   "source": [
    "### split classified pixels into 80% training and 20% testing"
   ]
  },
  {
   "cell_type": "code",
   "execution_count": null,
   "metadata": {},
   "outputs": [],
   "source": [
    "import random\n",
    "\n",
    "# sky coordinates\n",
    "sky_indn = np.arange(sky_coordsn.shape[0])\n",
    "random.Random(3).shuffle(sky_indn)\n",
    "lim_ind = int(len(sky_indn)*0.8)\n",
    "sky_train_indn = sky_indn[:lim_ind]\n",
    "sky_test_indn = sky_indn[lim_ind:]\n",
    "print(\"sky %d %d\" % (len(sky_train_indn), len(sky_test_indn)))\n",
    "\n",
    "# clouds coordinates\n",
    "clouds_indn = np.arange(clouds_coordsn.shape[0])\n",
    "random.Random(3).shuffle(clouds_indn)\n",
    "lim_ind = int(len(clouds_indn)*0.8)\n",
    "clouds_train_indn = clouds_indn[:lim_ind]\n",
    "clouds_test_indn = clouds_indn[lim_ind:]\n",
    "print(\"clouds %d %d\" % (len(clouds_train_indn), len(clouds_test_indn)))\n",
    "\n",
    "# vegetation coordinates\n",
    "veg_indn = np.arange(veg_coordsn.shape[0])\n",
    "random.Random(3).shuffle(veg_indn)\n",
    "lim_ind = int(len(veg_indn)*0.8)\n",
    "veg_train_indn = veg_indn[:lim_ind]\n",
    "veg_test_indn = veg_indn[lim_ind:]\n",
    "print(\"vegetation %d %d\" % (len(veg_train_indn), len(veg_test_indn)))\n",
    "\n",
    "# water coordinates\n",
    "wtr_indn = np.arange(wtr_coordsn.shape[0])\n",
    "random.Random(3).shuffle(wtr_indn)\n",
    "lim_ind = int(len(wtr_indn)*0.8)\n",
    "wtr_train_indn = wtr_indn[:lim_ind]\n",
    "wtr_test_indn = wtr_indn[lim_ind:]\n",
    "print(\"water %d %d\" % (len(wtr_train_indn), len(wtr_test_indn)))\n",
    "\n",
    "# built coordinates\n",
    "blt_indn = np.arange(blt_coordsn.shape[0])\n",
    "random.Random(3).shuffle(blt_indn)\n",
    "lim_ind = int(len(blt_indn)*0.8)\n",
    "blt_train_indn = blt_indn[:lim_ind]\n",
    "blt_test_indn = blt_indn[lim_ind:]\n",
    "print(\"built %d %d\" % (len(blt_train_indn), len(blt_test_indn)))\n",
    "\n",
    "# windows coordinates\n",
    "windows_indn = np.arange(windows_coordsn.shape[0])\n",
    "random.Random(3).shuffle(windows_indn)\n",
    "lim_ind = int(len(windows_indn)*0.8)\n",
    "windows_train_indn = windows_indn[:lim_ind]\n",
    "windows_test_indn = windows_indn[lim_ind:]\n",
    "print(\"windows %d %d\" % (len(windows_train_indn), len(windows_test_indn)))\n",
    "\n",
    "# roads coordinates\n",
    "rds_indn = np.arange(rds_coordsn.shape[0])\n",
    "random.Random(3).shuffle(rds_indn)\n",
    "lim_ind = int(len(rds_indn)*0.8)\n",
    "rds_train_indn = rds_indn[:lim_ind]\n",
    "rds_test_indn = rds_indn[lim_ind:]\n",
    "print(\"roads %d %d\" % (len(rds_train_indn), len(rds_test_indn)))\n",
    "\n",
    "# cars coordinates\n",
    "cars_indn = np.arange(cars_coordsn.shape[0])\n",
    "random.Random(3).shuffle(cars_indn)\n",
    "lim_ind = int(len(cars_indn)*0.8)\n",
    "cars_train_indn = cars_indn[:lim_ind]\n",
    "cars_test_indn = cars_indn[lim_ind:]\n",
    "print(\"cars %d %d\" % (len(cars_train_indn), len(cars_test_indn)))\n",
    "\n",
    "# metal coordinates\n",
    "mtl_indn = np.arange(mtl_coordsn.shape[0])\n",
    "random.Random(3).shuffle(mtl_indn)\n",
    "lim_ind = int(len(mtl_indn)*0.8)\n",
    "mtl_train_indn = mtl_indn[:lim_ind]\n",
    "mtl_test_indn = mtl_indn[lim_ind:]\n",
    "print(\"metal %d %d\" % (len(mtl_train_indn), len(mtl_test_indn)))"
   ]
  },
  {
   "cell_type": "code",
   "execution_count": null,
   "metadata": {},
   "outputs": [],
   "source": [
    "cube_sky_trainn = cube_std_reshapedn[sky_coordsn[sky_train_indn[:], 0], sky_coordsn[sky_train_indn[:], 1], :]\n",
    "cube_sky_testn = cube_std_reshapedn[sky_coordsn[sky_test_indn[:], 0], sky_coordsn[sky_test_indn[:], 1], :]\n",
    "print(\"sky \", cube_sky_trainn.shape, cube_sky_testn.shape)\n",
    "\n",
    "cube_clouds_trainn = cube_std_reshapedn[clouds_coordsn[clouds_train_indn[:], 0], clouds_coordsn[clouds_train_indn[:], 1], :]\n",
    "cube_clouds_testn = cube_std_reshapedn[clouds_coordsn[clouds_test_indn[:], 0], clouds_coordsn[clouds_test_indn[:], 1], :]\n",
    "print(\"clouds \", cube_clouds_trainn.shape, cube_clouds_testn.shape)\n",
    "\n",
    "cube_veg_trainn = cube_std_reshapedn[veg_coordsn[veg_train_indn[:], 0], veg_coordsn[veg_train_indn[:], 1], :]\n",
    "cube_veg_testn = cube_std_reshapedn[veg_coordsn[veg_test_indn[:], 0], veg_coordsn[veg_test_indn[:], 1], :]\n",
    "print(\"vegetation \", cube_veg_trainn.shape, cube_veg_testn.shape)\n",
    "\n",
    "cube_wtr_trainn = cube_std_reshapedn[wtr_coordsn[wtr_train_indn[:], 0], wtr_coordsn[wtr_train_indn[:], 1], :]\n",
    "cube_wtr_testn = cube_std_reshapedn[wtr_coordsn[wtr_test_indn[:], 0], wtr_coordsn[wtr_test_indn[:], 1], :]\n",
    "print(\"water \", cube_wtr_trainn.shape, cube_wtr_testn.shape)\n",
    "\n",
    "cube_blt_trainn = cube_std_reshapedn[blt_coordsn[blt_train_indn[:], 0], blt_coordsn[blt_train_indn[:], 1], :]\n",
    "cube_blt_testn = cube_std_reshapedn[blt_coordsn[blt_test_indn[:], 0], blt_coordsn[blt_test_indn[:], 1], :]\n",
    "print(\"built \", cube_blt_trainn.shape, cube_blt_testn.shape)\n",
    "\n",
    "cube_windows_trainn = cube_std_reshapedn[windows_coordsn[windows_train_indn[:], 0], windows_coordsn[windows_train_indn[:], 1], :]\n",
    "cube_windows_testn = cube_std_reshapedn[windows_coordsn[windows_test_indn[:], 0], windows_coordsn[windows_test_indn[:], 1], :]\n",
    "print(\"windows \", cube_windows_trainn.shape, cube_windows_testn.shape)\n",
    "\n",
    "cube_rds_trainn = cube_std_reshapedn[rds_coordsn[rds_train_indn[:], 0], rds_coordsn[rds_train_indn[:], 1], :]\n",
    "cube_rds_testn = cube_std_reshapedn[rds_coordsn[rds_test_indn[:], 0], rds_coordsn[rds_test_indn[:], 1], :]\n",
    "print(\"roads \", cube_rds_trainn.shape, cube_rds_testn.shape)\n",
    "\n",
    "cube_cars_trainn = cube_std_reshapedn[cars_coordsn[cars_train_indn[:], 0], cars_coordsn[cars_train_indn[:], 1], :]\n",
    "cube_cars_testn = cube_std_reshapedn[cars_coordsn[cars_test_indn[:], 0], cars_coordsn[cars_test_indn[:], 1], :]\n",
    "print(\"cars \", cube_cars_trainn.shape, cube_cars_testn.shape)\n",
    "\n",
    "cube_mtl_trainn = cube_std_reshapedn[mtl_coordsn[mtl_train_indn[:], 0], mtl_coordsn[mtl_train_indn[:], 1], :]\n",
    "cube_mtl_testn = cube_std_reshapedn[mtl_coordsn[mtl_test_indn[:], 0], mtl_coordsn[mtl_test_indn[:], 1], :]\n",
    "print(\"metal \", cube_mtl_trainn.shape, cube_mtl_testn.shape)"
   ]
  },
  {
   "cell_type": "code",
   "execution_count": null,
   "metadata": {},
   "outputs": [],
   "source": [
    "# concatenate training and testing sets and create index arrays\n",
    "\n",
    "cube_trainn = np.concatenate((cube_sky_trainn, cube_clouds_trainn, cube_veg_trainn, cube_wtr_trainn, cube_blt_trainn, \n",
    "                            cube_windows_trainn, cube_rds_trainn, cube_cars_trainn, cube_mtl_trainn), axis=0)\n",
    "cube_train_labelsn = [0]*cube_sky_trainn.shape[0] + [1]*cube_clouds_trainn.shape[0] \\\n",
    "                    + [2]*cube_veg_trainn.shape[0] + [3]*cube_wtr_trainn.shape[0] + [4]*cube_blt_trainn.shape[0] \\\n",
    "                    + [5]*cube_windows_trainn.shape[0] + [6]*cube_rds_trainn.shape[0] \\\n",
    "                    + [7]*cube_cars_trainn.shape[0] + [8]*cube_mtl_trainn.shape[0]\n",
    "\n",
    "print(cube_trainn.shape)\n",
    "\n",
    "cube_testn = np.concatenate((cube_sky_testn, cube_clouds_testn, cube_veg_testn, cube_wtr_testn, cube_blt_testn, \n",
    "                            cube_windows_testn, cube_rds_testn, cube_cars_testn, cube_mtl_testn), axis=0)\n",
    "cube_test_labelsn = [0]*cube_sky_testn.shape[0] + [1]*cube_clouds_testn.shape[0] \\\n",
    "                    + [2]*cube_veg_testn.shape[0] + [3]*cube_wtr_testn.shape[0] + [4]*cube_blt_testn.shape[0] \\\n",
    "                    + [5]*cube_windows_testn.shape[0] + [6]*cube_rds_testn.shape[0] \\\n",
    "                    + [7]*cube_cars_testn.shape[0] + [8]*cube_mtl_testn.shape[0]\n",
    "\n",
    "print(cube_testn.shape)"
   ]
  },
  {
   "cell_type": "markdown",
   "metadata": {},
   "source": [
    "### Train GBDT"
   ]
  },
  {
   "cell_type": "code",
   "execution_count": null,
   "metadata": {},
   "outputs": [],
   "source": [
    "from sklearn.ensemble import GradientBoostingClassifier"
   ]
  },
  {
   "cell_type": "code",
   "execution_count": null,
   "metadata": {},
   "outputs": [],
   "source": [
    "# find best max_depth\n",
    "\n",
    "mx_dpth = [2,3,5,10,15,20]\n",
    "\n",
    "import time\n",
    "\n",
    "for max_depth in mx_dpth:\n",
    "    start_time = time.time()\n",
    "    gbc = GradientBoostingClassifier(n_estimators=100, learning_rate=0.1, max_depth=max_depth, random_state=2)\n",
    "    gbc.fit(cube_trainn, cube_train_labelsn)\n",
    "\n",
    "    print(\"Max Depth: \", max_depth)\n",
    "    print(\"Accuracy score (training): {0:.3f}\".format(gbc.score(cube_trainn, cube_train_labelsn)))\n",
    "    print(\"Accuracy score (testing): {0:.3f}\".format(gbc.score(cube_testn, cube_test_labelsn)))\n",
    "    \n",
    "    elapsed_time = time.time() - start_time\n",
    "    print(time.strftime(\"%H:%M:%S\", time.gmtime(elapsed_time)))"
   ]
  },
  {
   "cell_type": "code",
   "execution_count": null,
   "metadata": {},
   "outputs": [],
   "source": [
    "# find best learning rate\n",
    "\n",
    "lrn_rt = [0.05, 0.1, 0.25, 0.5, 0.75, 1.0]\n",
    "\n",
    "import time\n",
    "\n",
    "for learning_rate in lrn_rt:\n",
    "    start_time = time.time()\n",
    "    gbc = GradientBoostingClassifier(n_estimators=100, learning_rate=learning_rate, max_depth=5, random_state=2)\n",
    "    gbc.fit(cube_trainn, cube_train_labelsn)\n",
    "\n",
    "    print(\"Learning Rate: \", learning_rate)\n",
    "    print(\"Accuracy score (training): {0:.3f}\".format(gbc.score(cube_trainn, cube_train_labelsn)))\n",
    "    print(\"Accuracy score (testing): {0:.3f}\".format(gbc.score(cube_testn, cube_test_labelsn)))\n",
    "    \n",
    "    elapsed_time = time.time() - start_time\n",
    "    print(time.strftime(\"%H:%M:%S\", time.gmtime(elapsed_time)))"
   ]
  },
  {
   "cell_type": "code",
   "execution_count": null,
   "metadata": {},
   "outputs": [],
   "source": [
    "from sklearn.ensemble import GradientBoostingClassifier\n",
    "\n",
    "gbc = GradientBoostingClassifier(n_estimators=100, learning_rate=0.1, max_depth=5, random_state=2)"
   ]
  },
  {
   "cell_type": "code",
   "execution_count": null,
   "metadata": {},
   "outputs": [],
   "source": [
    "import time\n",
    "start_time = time.time()\n",
    "\n",
    "GBCmodel = gbc.fit(cube_trainn, cube_train_labelsn)\n",
    "\n",
    "elapsed_time = time.time() - start_time\n",
    "print(time.strftime(\"%H:%M:%S\", time.gmtime(elapsed_time)))"
   ]
  },
  {
   "cell_type": "code",
   "execution_count": null,
   "metadata": {},
   "outputs": [],
   "source": [
    "import time\n",
    "start_time = time.time()\n",
    "\n",
    "predictCuben = GBCmodel.predict(cube_standard_north)\n",
    "\n",
    "elapsed_time = time.time() - start_time\n",
    "print(time.strftime(\"%H:%M:%S\", time.gmtime(elapsed_time)))"
   ]
  },
  {
   "cell_type": "code",
   "execution_count": null,
   "metadata": {},
   "outputs": [],
   "source": [
    "predictCube_reshapen = predictCuben.reshape(cube_sub_north.shape[1], cube_sub_north.shape[2])"
   ]
  },
  {
   "cell_type": "code",
   "execution_count": null,
   "metadata": {},
   "outputs": [],
   "source": [
    "import matplotlib.pyplot as plt\n",
    "import matplotlib.colors as ListedColorMap\n",
    "import matplotlib.patches as mpatches\n",
    "from matplotlib.ticker import NullFormatter\n",
    "%matplotlib inline\n",
    "\n",
    "cmap = {0:[0,0.32549,0.62353,1], 1:[0.93333,0.9098,0.77255,1], 2:[0,0.61961,0.45098,1],  3:[0.33725,0.70588,0.91373,1],\n",
    "        4:[0,0,0,1], 5:[1,0.82353,0,1], 6:[0.90196,0.62353,0,1], 7:[0.83529,0.36863,0,1],\n",
    "        8:[0.8,0.47451,0.65490,1]}\n",
    "labels = {0:'sky', 1:'clouds', 2:'vegetation', 3:'water', 4:'built',\n",
    "          5:'windows', 6:'roads', 7:'cars', 8:'metal'}\n",
    "arrayShow = np.array([[cmap[i] for i in j] for j in predictCube_reshapen])\n",
    "patches = [mpatches.Patch(color=cmap[i], label=labels[i]) for i in cmap]\n",
    "\n",
    "fig = plt.figure(figsize=(15,15))\n",
    "ax = fig.add_axes([0.1,0.1,0.9,0.9])\n",
    "ax.tick_params(labelsize=10)\n",
    "ax.imshow(arrayShow, aspect=0.4)\n",
    "lgd = ax.legend(handles=patches, bbox_to_anchor=(1,0.75), loc='upper left', borderaxespad=1.0, prop={'size':10}, ncol=1)\n",
    "plt.show()\n",
    "#fig.savefig(\"./plots/GBDT_wo_spatial_train_108_6_north_predict_map.png\", bbox_extra_artists=(lgd,), bbox_inches='tight')"
   ]
  },
  {
   "cell_type": "code",
   "execution_count": null,
   "metadata": {},
   "outputs": [],
   "source": [
    "import matplotlib.pyplot as plt\n",
    "import matplotlib.colors as ListedColorMap\n",
    "import matplotlib.patches as mpatches\n",
    "from matplotlib.ticker import NullFormatter\n",
    "%matplotlib inline\n",
    "\n",
    "cmap = {0:[0,0.32549,0.62353,1], 1:[0.93333,0.9098,0.77255,1], 2:[0,0.61961,0.45098,1],  3:[0.33725,0.70588,0.91373,1],\n",
    "        4:[0,0,0,1], 5:[1,0.82353,0,1], 6:[0.90196,0.62353,0,1], 7:[0.83529,0.36863,0,1],\n",
    "        8:[0.8,0.47451,0.65490,1]}\n",
    "labels = {0:'sky', 1:'clouds', 2:'vegetation', 3:'water', 4:'built',\n",
    "          5:'windows', 6:'roads', 7:'cars', 8:'metal'}\n",
    "arrayShow = np.array([[cmap[i] for i in j] for j in predictCube_reshapen])\n",
    "patches = [mpatches.Patch(color=cmap[i], label=labels[i]) for i in cmap]\n",
    "\n",
    "fig = plt.figure(figsize=(15,15))\n",
    "#ax = fig.add_axes([0.1,0.1,0.9,0.9])\n",
    "#ax.tick_params(labelsize=10)\n",
    "plt.imshow(arrayShow, aspect=0.4)\n",
    "#lgd = ax.legend(handles=patches, bbox_to_anchor=(1,0.75), loc='upper left', borderaxespad=1.0, prop={'size':10}, ncol=1)\n",
    "plt.axis('off')\n",
    "plt.show()\n",
    "fig.savefig(\"./plots/GBDT_train_north_test_north_predict_map.png\", bbox_inches='tight')"
   ]
  },
  {
   "cell_type": "code",
   "execution_count": null,
   "metadata": {},
   "outputs": [],
   "source": [
    "import pickle\n",
    "pickle.dump(predictCube_reshapen, open(\"./plots/GBDT_train_north_test_north_predict_map.pickle\", \"wb\"))"
   ]
  },
  {
   "cell_type": "code",
   "execution_count": null,
   "metadata": {},
   "outputs": [],
   "source": [
    "# feature importances\n",
    "\n",
    "importances = GBCmodel.feature_importances_\n",
    "wavelengths = cube.waves\n",
    "notzero = np.where(importances > 0)\n",
    "plt.figure(figsize = (20,5))\n",
    "plt.step(wavelengths, importances)\n",
    "plt.title(\"Feature Importances\")\n",
    "plt.xlabel(\"wavelengths\")\n",
    "plt.show()\n",
    "f.savefig(\"./plots/GBDT_train_north_test_north_feature_importances.png\")"
   ]
  },
  {
   "cell_type": "code",
   "execution_count": null,
   "metadata": {},
   "outputs": [],
   "source": [
    "import pickle\n",
    "pickle.dump(predictCube_reshapen, open(\"./plots/GBDT_train_north_test_north_feature_importances.pickle\", \"wb\"))"
   ]
  },
  {
   "cell_type": "markdown",
   "metadata": {},
   "source": [
    "### Evaluation Metrics (north facing)"
   ]
  },
  {
   "cell_type": "code",
   "execution_count": null,
   "metadata": {},
   "outputs": [],
   "source": [
    "labelsn_pred_sky = predictCube_reshapen[sky_coordsn[:,0], sky_coordsn[:,1]]\n",
    "labelsn_pred_clouds = predictCube_reshapen[clouds_coordsn[:,0], clouds_coordsn[:,1]]\n",
    "labelsn_pred_veg = predictCube_reshapen[veg_coordsn[:,0], veg_coordsn[:,1]]\n",
    "labelsn_pred_wtr = predictCube_reshapen[wtr_coordsn[:,0], wtr_coordsn[:,1]]\n",
    "labelsn_pred_blt = predictCube_reshapen[blt_coordsn[:,0], blt_coordsn[:,1]]\n",
    "labelsn_pred_windows = predictCube_reshapen[windows_coordsn[:,0], windows_coordsn[:,1]]\n",
    "labelsn_pred_rds = predictCube_reshapen[rds_coordsn[:,0], rds_coordsn[:,1]]\n",
    "labelsn_pred_cars = predictCube_reshapen[cars_coordsn[:,0], cars_coordsn[:,1]]\n",
    "labelsn_pred_mtl = predictCube_reshapen[mtl_coordsn[:,0], mtl_coordsn[:,1]]\n",
    "\n",
    "labelsn_pred = np.concatenate((labelsn_pred_sky, labelsn_pred_clouds, labelsn_pred_veg, labelsn_pred_wtr, \n",
    "                             labelsn_pred_blt, labelsn_pred_windows, labelsn_pred_rds, labelsn_pred_cars, labelsn_pred_mtl))"
   ]
  },
  {
   "cell_type": "code",
   "execution_count": null,
   "metadata": {},
   "outputs": [],
   "source": [
    "labelsn_true_sky = np.full((sky_coordsn.shape[0]), 0)\n",
    "labelsn_true_clouds = np.full((clouds_coordsn.shape[0]), 1)\n",
    "labelsn_true_veg = np.full((veg_coordsn.shape[0]), 2)\n",
    "labelsn_true_wtr = np.full((wtr_coordsn.shape[0]), 3)\n",
    "labelsn_true_blt = np.full((blt_coordsn.shape[0]), 4)\n",
    "labelsn_true_windows = np.full((windows_coordsn.shape[0]), 5)\n",
    "labelsn_true_rds = np.full((rds_coordsn.shape[0]), 6)\n",
    "labelsn_true_cars = np.full((cars_coordsn.shape[0]), 7)\n",
    "labelsn_true_mtl = np.full((mtl_coordsn.shape[0]), 8)\n",
    "\n",
    "labelsn_true = np.concatenate((labelsn_true_sky, labelsn_true_clouds, labelsn_true_veg, labelsn_true_wtr, \n",
    "                             labelsn_true_blt, labelsn_true_windows, labelsn_true_rds, labelsn_true_cars, labelsn_true_mtl))"
   ]
  },
  {
   "cell_type": "code",
   "execution_count": null,
   "metadata": {},
   "outputs": [],
   "source": [
    "print(labelsn_pred.shape)\n",
    "print(labelsn_true.shape)"
   ]
  },
  {
   "cell_type": "code",
   "execution_count": null,
   "metadata": {},
   "outputs": [],
   "source": [
    "from sklearn import metrics\n",
    "\n",
    "print(\"Confusion Matrix\")\n",
    "print(metrics.confusion_matrix(labelsn_true, labelsn_pred))\n",
    "\n",
    "print(\"\")\n",
    "print(\"Accuracy Score\")\n",
    "print(metrics.accuracy_score(labelsn_true, labelsn_pred))\n",
    "\n",
    "target_names = ['sky', 'clouds', 'vegetation', 'water', 'built', 'windows', 'roads', 'cars', 'metal']\n",
    "print(\"\")\n",
    "print(\"Classification Report\")\n",
    "print(metrics.classification_report(labelsn_true, labelsn_pred, target_names=target_names))"
   ]
  },
  {
   "cell_type": "code",
   "execution_count": null,
   "metadata": {},
   "outputs": [],
   "source": [
    "f = open(\"./metrics/GBDT_train_north_test_north_metrics.txt\", \"w\")\n",
    "f.write(\"Confusion Matrix\")\n",
    "f.write('\\n')\n",
    "f.write(str(metrics.confusion_matrix(labelsn_true, labelsn_pred)))\n",
    "f.write('\\n')\n",
    "f.write('\\n')\n",
    "f.write(\"Accuracy Score\")\n",
    "f.write('\\n')\n",
    "f.write(str(metrics.accuracy_score(labelsn_true, labelsn_pred)))\n",
    "target_names = ['sky', 'clouds', 'vegetation', 'water', 'built', 'windows', 'roads', 'cars', 'metal']\n",
    "f.write('\\n')\n",
    "f.write('\\n')\n",
    "f.write(\"Classification Report\")\n",
    "f.write('\\n')\n",
    "f.write(metrics.classification_report(labelsn_true, labelsn_pred, target_names=target_names))\n",
    "f.close()"
   ]
  },
  {
   "cell_type": "code",
   "execution_count": null,
   "metadata": {},
   "outputs": [],
   "source": []
  },
  {
   "cell_type": "code",
   "execution_count": null,
   "metadata": {},
   "outputs": [],
   "source": []
  }
 ],
 "metadata": {
  "kernelspec": {
   "display_name": "Python 3",
   "language": "python",
   "name": "python3"
  },
  "language_info": {
   "codemirror_mode": {
    "name": "ipython",
    "version": 3
   },
   "file_extension": ".py",
   "mimetype": "text/x-python",
   "name": "python",
   "nbconvert_exporter": "python",
   "pygments_lexer": "ipython3",
   "version": "3.6.8"
  }
 },
 "nbformat": 4,
 "nbformat_minor": 2
}
