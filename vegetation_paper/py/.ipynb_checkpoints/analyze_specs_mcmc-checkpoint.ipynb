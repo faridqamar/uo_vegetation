{
 "cells": [
  {
   "cell_type": "code",
   "execution_count": 16,
   "metadata": {},
   "outputs": [],
   "source": [
    "import glob\n",
    "import numpy as np\n",
    "import hyss_util as hu\n",
    "from datetime import datetime\n",
    "from sklearn.decomposition import PCA, FactorAnalysis, FastICA\n",
    "from plotting import set_defaults\n",
    "import pandas as pd\n",
    "import matplotlib.pyplot as plt\n",
    "%matplotlib inline"
   ]
  },
  {
   "cell_type": "code",
   "execution_count": 3,
   "metadata": {},
   "outputs": [],
   "source": [
    "# -- set the types\n",
    "\n",
    "kind = \"veg\"\n",
    "comp = \"new\"\n",
    "runpca = False\n",
    "runfan = False\n",
    "runica = False\n",
    "getndvi = True"
   ]
  },
  {
   "cell_type": "code",
   "execution_count": 4,
   "metadata": {},
   "outputs": [
    {
     "name": "stdout",
     "output_type": "stream",
     "text": [
      "reading and parsing ../../../image_files/veg_00000.hdr...\n"
     ]
    }
   ],
   "source": [
    "# -- get wavelengths\n",
    "waves = hu.read_header(\"../../../image_files/veg_00000.hdr\")[\"waves\"]\n",
    "\n",
    "# -- define good scans\n",
    "good = np.array([int(i) for i in np.load(\"../../../gdobler_output/output/good_scans.npy\")])"
   ]
  },
  {
   "cell_type": "code",
   "execution_count": 5,
   "metadata": {},
   "outputs": [
    {
     "name": "stdout",
     "output_type": "stream",
     "text": [
      "getting new spectra...\n"
     ]
    }
   ],
   "source": [
    "# -- load the comparison set\n",
    "print(\"getting {0} spectra...\".format(comp))\n",
    "blds = np.array([np.load(i) for i in\n",
    "                 sorted(glob.glob(\"../../../gdobler_output/output/{0}_specs/{0}_specs_avg*.npy\"\\\n",
    "                                      .format(comp)))])\n",
    "blds = blds[good]"
   ]
  },
  {
   "cell_type": "code",
   "execution_count": 6,
   "metadata": {},
   "outputs": [],
   "source": [
    "# -- normalize spectra\n",
    "ms, bs = [], []\n",
    "for ii in range(blds.shape[0]):\n",
    "    # m, b = np.polyfit(blds[ii,:100],blds[0,:100],1)\n",
    "    # m, b = np.polyfit(blds[ii],blds[0],1)\n",
    "    m = blds[0].mean()/blds[ii].mean()\n",
    "    b = 0.0\n",
    "    ms.append(m)\n",
    "    bs.append(b)\n",
    "\n",
    "ms   = np.array(ms)\n",
    "bs   = np.array(bs)\n",
    "norm = blds*ms[:,np.newaxis] + bs[:,np.newaxis]\n",
    "rat  = norm/norm[0]"
   ]
  },
  {
   "cell_type": "code",
   "execution_count": 7,
   "metadata": {},
   "outputs": [
    {
     "name": "stdout",
     "output_type": "stream",
     "text": [
      "getting veg spectra...\n"
     ]
    }
   ],
   "source": [
    "# -- get vegetation spectra\n",
    "print(\"getting {0} spectra...\".format(kind))\n",
    "if kind==\"veg\":\n",
    "    vegs = np.load(\"../../../gdobler_output/output/veg_patch_specs.npy\")\n",
    "else:\n",
    "    vegs = np.array([np.load(i) for i in\n",
    "                     sorted(glob.glob(\"../../../gdobler_output/output/\" + \n",
    "                                      \"{0}_specs/{0}_specs_avg*.npy\" \\\n",
    "                                      .format(kind)))])\n",
    "    vegs = vegs[good]"
   ]
  },
  {
   "cell_type": "code",
   "execution_count": 8,
   "metadata": {},
   "outputs": [],
   "source": [
    "# -- normalize spectra\n",
    "ss, os = [], []\n",
    "for ii in range(vegs.shape[0]):\n",
    "    # s, o = np.polyfit(vegs[ii,:100],vegs[0,:100],1)\n",
    "    # s, o = np.polyfit(vegs[ii],vegs[0],1)\n",
    "    s = vegs[0].mean()/vegs[ii].mean()\n",
    "    o = 0.0\n",
    "    ss.append(s)\n",
    "    os.append(o)\n",
    "\n",
    "ss    = np.array(ss)\n",
    "os    = np.array(os)\n",
    "vnorm = vegs*ss[:,np.newaxis] + os[:,np.newaxis]\n",
    "vrat  = vnorm/vnorm[0]"
   ]
  },
  {
   "cell_type": "code",
   "execution_count": 9,
   "metadata": {},
   "outputs": [],
   "source": [
    "# -- take the ratio of ratios\n",
    "brat = vrat/rat"
   ]
  },
  {
   "cell_type": "code",
   "execution_count": 10,
   "metadata": {},
   "outputs": [],
   "source": [
    "# -- get some ancillary data\n",
    "sc     = pd.read_csv(\"../../../gdobler_output/output/scan_conditions.csv\")\n",
    "sc_sub = sc[sc.filename.isin([\"veg_{0:05}.raw\".format(i) for i in good])]\n",
    "\n",
    "temps = sc_sub.temperature.values\n",
    "humid = sc_sub.humidity.values\n",
    "pm25  = sc_sub.pm25.values\n",
    "o3    = sc_sub.o3.values\n",
    "secs  = []\n",
    "for stime in sc_sub.time.values:\n",
    "    yr, mo, dy, tm = stime.split()\n",
    "    stime_fmt      = \"{0} {1} {2:02} {3}:00\".format(yr,mo,int(dy),tm)\n",
    "    obs_dt         = datetime.strptime(stime_fmt,\"%Y %b %d %H:%M:%S\")\n",
    "    secs.append(float(obs_dt.strftime(\"%s\")))\n",
    "secs = np.array(secs)"
   ]
  },
  {
   "cell_type": "code",
   "execution_count": 11,
   "metadata": {},
   "outputs": [],
   "source": [
    "# -- PCA\n",
    "if runpca:\n",
    "    print(\"running PCA...\")\n",
    "    pca = PCA(n_components=6)\n",
    "    pca.fit(vrat/rat)\n",
    "    pamps = pca.transform(vrat/rat)\n",
    "\n",
    "# -- Factor Analysis\n",
    "if runfan:\n",
    "    print(\"running Factor Analysis...\")\n",
    "    fan = FactorAnalysis(n_components=6)\n",
    "    fan.fit(vrat/rat)\n",
    "    famps = fan.transform(vrat/rat)\n",
    "\n",
    "# -- ICA\n",
    "if runica:\n",
    "    print(\"running ICA...\")\n",
    "    ica = FastICA(n_components=6)\n",
    "    ica.fit(vrat/rat)\n",
    "    iamps = ica.transform(vrat/rat)"
   ]
  },
  {
   "cell_type": "code",
   "execution_count": 12,
   "metadata": {},
   "outputs": [
    {
     "name": "stdout",
     "output_type": "stream",
     "text": [
      "calculating NDVI...\n",
      "  getting sky spectra...\n",
      "  getting reflectance...\n",
      "  generating NDVI...\n"
     ]
    },
    {
     "name": "stderr",
     "output_type": "stream",
     "text": [
      "/usr/local/lib/python3.6/site-packages/ipykernel_launcher.py:8: RuntimeWarning: divide by zero encountered in true_divide\n",
      "  \n",
      "/usr/local/lib/python3.6/site-packages/ipykernel_launcher.py:8: RuntimeWarning: invalid value encountered in true_divide\n",
      "  \n"
     ]
    }
   ],
   "source": [
    "# -- get NDVI\n",
    "if getndvi:\n",
    "    print(\"calculating NDVI...\")\n",
    "    print(\"  getting sky spectra...\")\n",
    "    flist   = sorted(glob.glob(\"../../../gdobler_output/output/sky_specs/*.npy\"))\n",
    "    skys    = np.array([np.load(i) for i in flist])[good]\n",
    "    print(\"  getting reflectance...\")\n",
    "    ref     = (vegs - vegs.min(1,keepdims=True))/ \\\n",
    "        (skys-skys.min(1,keepdims=True))\n",
    "    ind_ir  = np.argmin(np.abs(waves-860.))\n",
    "    ind_vis = np.argmin(np.abs(waves-670.))\n",
    "    print(\"  generating NDVI...\")\n",
    "    ndvi    = (ref[:,ind_ir]-ref[:,ind_vis]) / \\\n",
    "        (ref[:,ind_ir]+ref[:,ind_vis])"
   ]
  },
  {
   "cell_type": "markdown",
   "metadata": {},
   "source": [
    "## Linear Least Squares - no errors"
   ]
  },
  {
   "cell_type": "code",
   "execution_count": 14,
   "metadata": {},
   "outputs": [],
   "source": [
    "brightness = brat[:,500]/brat[:,-1]\n",
    "templates  = np.vstack([o3,pm25,temps,humid,np.ones_like(o3)]).T\n",
    "ind  = np.arange(len(brightness))\n",
    "sol  = np.linalg.lstsq(templates[ind],brightness[ind], rcond=None)\n",
    "pred = np.dot(templates[ind],sol[0])"
   ]
  },
  {
   "cell_type": "code",
   "execution_count": 15,
   "metadata": {},
   "outputs": [
    {
     "name": "stdout",
     "output_type": "stream",
     "text": [
      "sol =  (array([ 1.57925507e+00, -8.70778400e-03,  6.28846794e-03, -1.40824696e-03,\n",
      "        7.97202669e-01]), array([30.34580005]), 5, array([2.95897872e+03, 8.06150599e+02, 1.03971329e+02, 3.26939561e+00,\n",
      "       2.67971129e-01]))\n",
      "r2  =  [0.27087302]\n"
     ]
    }
   ],
   "source": [
    "# coefficient of determination r2\n",
    "#rsq  = 1.0-((brightness-pred)**2).sum() / \\\n",
    "#     ((brightness-brightness.mean())**2).sum()\n",
    "r2   = 1 - sol[1] / (len(brightness) * brightness.var())\n",
    "print(\"sol = \", sol)\n",
    "#print(\"rsq = \", rsq)\n",
    "print(\"r2  = \", r2)"
   ]
  },
  {
   "cell_type": "code",
   "execution_count": 17,
   "metadata": {},
   "outputs": [
    {
     "data": {
      "image/png": "[encoded data removed]",
      "text/plain": [
       "<Figure size 468x252 with 1 Axes>"
      ]
     },
     "metadata": {
      "needs_background": "light"
     },
     "output_type": "display_data"
    }
   ],
   "source": [
    "fig, ax = plt.subplots(figsize=[6.5,3.5])\n",
    "fig.subplots_adjust(0.125,0.15,0.95,0.9)\n",
    "linb, = ax.plot(brightness,color=\"darkred\",lw=1)\n",
    "linp, = ax.plot(pred,color=\"dodgerblue\",lw=2)\n",
    "ax.set_ylim(0,2.5)\n",
    "ax.set_xlim(0,pred.size)\n",
    "ax.set_xlabel(\"scan number\")\n",
    "#ax.set_ylabel(r'$\\langle D(\\lambda,t) \\rangle_{\\lambda}$')\n",
    "ax.set_ylabel(r'$D(\\lambda=0.75\\mu$m$)/D(\\lambda=1.0\\mu$m$)$')\n",
    "ax.legend([linb,linp],[\"data\",\"model\"],loc=\"upper left\",fontsize=12)\n",
    "plt.show()"
   ]
  },
  {
   "cell_type": "markdown",
   "metadata": {},
   "source": [
    "## Maximum Likelihood Estimation"
   ]
  },
  {
   "cell_type": "code",
   "execution_count": 32,
   "metadata": {},
   "outputs": [
    {
     "name": "stdout",
     "output_type": "stream",
     "text": [
      "error in brightness =  0.15106653600091366\n"
     ]
    }
   ],
   "source": [
    "# -- obtaining uncertainty for brightness\n",
    "brightness = brat[:,500]/brat[:,-1]\n",
    "diff = brightness[1:] - brightness[:-1]\n",
    "berr = diff.std()/np.sqrt(2.0)\n",
    "print(\"error in brightness = \", berr)"
   ]
  },
  {
   "cell_type": "code",
   "execution_count": 33,
   "metadata": {},
   "outputs": [
    {
     "name": "stdout",
     "output_type": "stream",
     "text": [
      "errors in air qaulity =  [2.50960907e-03 7.69473073e-01 1.30383320e+00 2.97720678e+00\n",
      " 0.00000000e+00]\n"
     ]
    }
   ],
   "source": [
    "# -- obtaining uncertainty for air quality\n",
    "templates  = np.vstack([o3,pm25,temps,humid,np.ones_like(o3)]).T\n",
    "diff_air = templates[1:] - templates[:-1]\n",
    "air_err = diff_air.std(0)/np.sqrt(2.0)\n",
    "print(\"errors in air qaulity = \", air_err)"
   ]
  },
  {
   "cell_type": "code",
   "execution_count": 34,
   "metadata": {},
   "outputs": [],
   "source": [
    "brightness_err = np.full(brightness.shape, berr)\n",
    "o3err = np.full(brightness.shape, air_err[0])\n",
    "pm25err = np.full(brightness.shape, air_err[1])\n",
    "temperr = np.full(brightness.shape, air_err[2])\n",
    "humiderr = np.full(brightness.shape, air_err[3])\n",
    "alphaerr = np.full(brightness.shape, air_err[4])\n",
    "terr = np.vstack([o3err,pm25err,temperr,humiderr,alphaerr]).T"
   ]
  },
  {
   "cell_type": "code",
   "execution_count": 57,
   "metadata": {},
   "outputs": [],
   "source": [
    "# -- define log_likelihood function\n",
    "\n",
    "def log_likelihood(theta, o3, pm25, temps, humid, y, yerr):\n",
    "    beta_o3, beta_pm25, beta_temps, beta_humid, alpha, log_f = theta\n",
    "    model = beta_o3 * o3 + beta_pm25 * pm25 + beta_temps * temps + beta_humid * humid + alpha\n",
    "    sigma2 = yerr ** 2 + model ** 2 * np.exp(2 * log_f)\n",
    "    return -0.5 * np.sum((y - model) ** 2 / sigma2 + np.log(sigma2))\n"
   ]
  },
  {
   "cell_type": "code",
   "execution_count": 90,
   "metadata": {},
   "outputs": [],
   "source": [
    "# -- numerical optimum of likelihood function\n",
    "\n",
    "from scipy.optimize import minimize\n",
    "\n",
    "np.random.seed(314)\n",
    "nll = lambda *args: -log_likelihood(*args)\n",
    "initial = np.append(sol[0], 1.0)\n",
    "soln = minimize(nll, initial, args=(templates[:,0], templates[:,1], templates[:,2], \n",
    "                                    templates[:,3], brightness, brightness_err))\n",
    "beta_o3_ml, beta_pm25_ml, beta_temps_ml, beta_humid_ml, alpha_ml, log_f_ml = soln.x"
   ]
  },
  {
   "cell_type": "code",
   "execution_count": 92,
   "metadata": {},
   "outputs": [
    {
     "name": "stdout",
     "output_type": "stream",
     "text": [
      "Maximum likelihood estimates:\n",
      "beta_o3 = 1.55731\n",
      "beta_pm25 = -0.00923\n",
      "beta_temps = 0.00667\n",
      "beta_humid = -0.00131\n",
      "alpha = 0.76943\n",
      "f = 0.06347\n"
     ]
    }
   ],
   "source": [
    "print(\"Maximum likelihood estimates:\")\n",
    "print(\"beta_o3 = {0:.5f}\".format(beta_o3_ml))\n",
    "print(\"beta_pm25 = {0:.5f}\".format(beta_pm25_ml))\n",
    "print(\"beta_temps = {0:.5f}\".format(beta_temps_ml))\n",
    "print(\"beta_humid = {0:.5f}\".format(beta_humid_ml))\n",
    "print(\"alpha = {0:.5f}\".format(alpha_ml))\n",
    "print(\"f = {0:.5f}\".format(np.exp(log_f_ml)))"
   ]
  },
  {
   "cell_type": "markdown",
   "metadata": {},
   "source": [
    "## MCMC"
   ]
  },
  {
   "cell_type": "code",
   "execution_count": null,
   "metadata": {},
   "outputs": [],
   "source": []
  },
  {
   "cell_type": "code",
   "execution_count": null,
   "metadata": {},
   "outputs": [],
   "source": []
  },
  {
   "cell_type": "code",
   "execution_count": null,
   "metadata": {},
   "outputs": [],
   "source": []
  },
  {
   "cell_type": "code",
   "execution_count": null,
   "metadata": {},
   "outputs": [],
   "source": []
  },
  {
   "cell_type": "code",
   "execution_count": null,
   "metadata": {},
   "outputs": [],
   "source": []
  },
  {
   "cell_type": "code",
   "execution_count": null,
   "metadata": {},
   "outputs": [],
   "source": []
  },
  {
   "cell_type": "code",
   "execution_count": null,
   "metadata": {},
   "outputs": [],
   "source": []
  },
  {
   "cell_type": "code",
   "execution_count": null,
   "metadata": {},
   "outputs": [],
   "source": []
  },
  {
   "cell_type": "code",
   "execution_count": null,
   "metadata": {},
   "outputs": [],
   "source": []
  }
 ],
 "metadata": {
  "kernelspec": {
   "display_name": "Python 3",
   "language": "python",
   "name": "python3"
  },
  "language_info": {
   "codemirror_mode": {
    "name": "ipython",
    "version": 3
   },
   "file_extension": ".py",
   "mimetype": "text/x-python",
   "name": "python",
   "nbconvert_exporter": "python",
   "pygments_lexer": "ipython3",
   "version": "3.6.8"
  }
 },
 "nbformat": 4,
 "nbformat_minor": 2
}
