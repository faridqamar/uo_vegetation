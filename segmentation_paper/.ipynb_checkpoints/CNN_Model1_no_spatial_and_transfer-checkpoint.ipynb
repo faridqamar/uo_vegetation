{
 "cells": [
  {
   "cell_type": "markdown",
   "metadata": {},
   "source": [
    "## Hyperspectral Image Segmentation by Convolutional Neural Network \n",
    "\n",
    "### standardized spectra at full resolution with spatial dimension included\n",
    "\n",
    "### training on each image separately\n",
    "\n",
    "---"
   ]
  },
  {
   "cell_type": "code",
   "execution_count": 1,
   "metadata": {},
   "outputs": [],
   "source": [
    "# -- here are functions that generate a class that memory maps the raw data \n",
    "#    cube.  After executing this cell, the syntax is:\n",
    "#    fname = \"[path to data]/foo.raw\"\n",
    "#    cube = read_hyper(fname)\n",
    "\n",
    "import os\n",
    "import numpy as np\n",
    "\n",
    "def read_header(hdrfile, verbose=True):\n",
    "    \"\"\"\n",
    "    Read a Middleton header file.\n",
    "\n",
    "    Parameters\n",
    "    ----------\n",
    "    hdrfile : str\n",
    "        Name of header file.\n",
    "    verbose : bool, optional\n",
    "        If True, alert the user.\n",
    "\n",
    "    Returns\n",
    "    -------\n",
    "    dict : dict\n",
    "        A dictionary continaing the number of rows, columns, and wavelengths\n",
    "        as well as an array of band centers.\n",
    "    \"\"\"\n",
    "\n",
    "    # -- alert\n",
    "    if verbose:\n",
    "        print(\"reading and parsing {0}...\".format(hdrfile))\n",
    "\n",
    "    # -- open the file and read in the records\n",
    "    recs = [rec for rec in open(hdrfile)]\n",
    "\n",
    "    # -- parse for samples, lines, bands, and the start of the wavelengths\n",
    "    for irec, rec in enumerate(recs):\n",
    "        if 'samples' in rec:\n",
    "            samples = int(rec.split(\"=\")[1])\n",
    "        elif 'lines' in rec:\n",
    "            lines = int(rec.split(\"=\")[1])\n",
    "        elif 'bands' in rec:\n",
    "            bands = int(rec.split(\"=\")[1])\n",
    "        elif \"Wavelength\" in rec:\n",
    "            w0ind = irec+1\n",
    "\n",
    "    # -- parse for the wavelengths\n",
    "    waves = np.array([float(rec.split(\",\")[0]) for rec in \n",
    "                      recs[w0ind:w0ind+bands]])\n",
    "\n",
    "    # -- return a dictionary\n",
    "    return {\"nrow\":samples, \"ncol\":lines, \"nwav\":bands, \"waves\":waves}\n",
    "\n",
    "\n",
    "def read_raw(rawfile, shape, hyper=False, verbose=True):\n",
    "    \"\"\"\n",
    "    Read a Middleton raw file.\n",
    "\n",
    "    Parameters\n",
    "    ----------\n",
    "    rawfile : str\n",
    "        The name of the raw file.\n",
    "    shape : tuple\n",
    "        The output shape of the data cube (nwav, nrow, ncol).\n",
    "    hyper : bool, optional\n",
    "        Set this flag to read a hyperspectral image.\n",
    "    verbose : bool, optional\n",
    "        Alert the user.\n",
    "\n",
    "    Returns\n",
    "    -------\n",
    "    memmap : memmap\n",
    "        A numpy memmap of the datacube.\n",
    "    \"\"\"\n",
    "\n",
    "    # -- alert\n",
    "    if verbose:\n",
    "        print(\"reading {0}...\".format(rawfile))\n",
    "\n",
    "    # -- read either broadband or hyperspectral image\n",
    "    if hyper:\n",
    "        return np.memmap(rawfile, np.uint16, mode=\"r\") \\\n",
    "            .reshape(shape[2], shape[0], shape[1])[:, :, ::-1] \\\n",
    "            .transpose(1, 2, 0)\n",
    "    else:\n",
    "        return np.memmap(rawfile, np.uint8, mode=\"r\") \\\n",
    "            .reshape(shape[1], shape[2], shape[0])[:, :, ::-1]\n",
    "\n",
    "\n",
    "def read_hyper(fpath, fname=None, full=True):\n",
    "    \"\"\"\n",
    "    Read a full hyperspectral scan (raw and header file).\n",
    "\n",
    "    Parameters\n",
    "    ----------\n",
    "    fpath : str\n",
    "        Either the full name+path of the raw file or the path of the raw file.\n",
    "        If the latter, fname must be supplied.\n",
    "    fname : str, optional\n",
    "        The name of the raw file (required if fpath is set to a path).\n",
    "    full : bool, optional\n",
    "        If True, output a class containing data and supplementary information.\n",
    "        If False, output only the data.\n",
    "\n",
    "    Returns\n",
    "    -------\n",
    "    output or memmap : class or memmap\n",
    "        If full is True, a class containing data plus supplementary \n",
    "        information.  If full is False, a memmap array of the data.\n",
    "    \"\"\"\n",
    "\n",
    "    # -- set up the file names\n",
    "    if fname is not None:\n",
    "        fpath = os.path.join(fpath, fname)\n",
    "\n",
    "    # -- read the header\n",
    "    hdr = read_header(fpath.replace(\"raw\", \"hdr\"))\n",
    "    sh  = (hdr[\"nwav\"], hdr[\"nrow\"], hdr[\"ncol\"])\n",
    "\n",
    "    # -- if desired, only output data cube\n",
    "    if not full:\n",
    "        return read_raw(fpath, sh, hyper=True)\n",
    "\n",
    "    # -- output full structure\n",
    "    class output():\n",
    "        def __init__(self, fpath):\n",
    "            self.filename = fpath\n",
    "            self.data     = read_raw(fpath, sh, hyper=True)\n",
    "            self.waves    = hdr[\"waves\"]\n",
    "            self.nwav     = sh[0]\n",
    "            self.nrow     = sh[1]\n",
    "            self.ncol     = sh[2]\n",
    "\n",
    "    return output(fpath)"
   ]
  },
  {
   "cell_type": "code",
   "execution_count": 2,
   "metadata": {},
   "outputs": [],
   "source": [
    "def kmeans_test_dictionary(labels, test, k):\n",
    "    import collections, numpy\n",
    "    \n",
    "    unique_test, counts_test = numpy.unique(labels[test[:,0], test[:,1]], return_counts=True)\n",
    "    counts_test_norm = (counts_test/test.shape[0])*100\n",
    "    test_dict = dict(zip(unique_test, counts_test))\n",
    "    test_dict_norm = dict(zip(unique_test, counts_test_norm))\n",
    "    \n",
    "    for i in range(0, k):\n",
    "        if test_dict.get(i) is None: test_dict[i] = 0\n",
    "        if test_dict_norm.get(i) is None: test_dict_norm[i] = 0\n",
    "    \n",
    "    return test_dict, test_dict_norm"
   ]
  },
  {
   "cell_type": "code",
   "execution_count": 3,
   "metadata": {},
   "outputs": [],
   "source": [
    "def kmeans_test_dataframe(sky_dict,\n",
    "                          clouds_dict,\n",
    "                          veg_dict,\n",
    "                          wtr_dict,\n",
    "                          blt_dict,\n",
    "                          windows_dict,\n",
    "                          rds_dict,\n",
    "                          cars_dict,\n",
    "                          mtl_dict\n",
    "                         ):\n",
    "    import pandas as pd\n",
    "    \n",
    "    pixel_names = ['sky', 'clouds', 'vegetation', 'water', 'built',\n",
    "                  'windows', 'roads', 'cars', 'metal']\n",
    "    df_test = pd.DataFrame([sky_dict,\n",
    "                            clouds_dict,\n",
    "                            veg_dict,\n",
    "                            wtr_dict,\n",
    "                            blt_dict,\n",
    "                            windows_dict,\n",
    "                            rds_dict,\n",
    "                            cars_dict,\n",
    "                            mtl_dict], index=pixel_names)\n",
    "    df_test = df_test.transpose()\n",
    "    \n",
    "    return df_test"
   ]
  },
  {
   "cell_type": "code",
   "execution_count": 4,
   "metadata": {},
   "outputs": [],
   "source": [
    "def plot_confusion_matrix(df_test, norm=True):\n",
    "    import numpy as np\n",
    "    import matplotlib.pyplot as plt\n",
    "    %matplotlib inline\n",
    "    \n",
    "    cm = np.array([df_test['sky'].values,\n",
    "                   df_test['clouds'].values,\n",
    "                   df_test['vegetation'].values,\n",
    "                   df_test['water'].values,\n",
    "                   df_test['built'].values,\n",
    "                   df_test['windows'].values,\n",
    "                   df_test['roads'].values,\n",
    "                   df_test['cars'].values,\n",
    "                   df_test['metal'].values])\n",
    "    classes = ['sky', 'clouds', 'vegetation', 'water', 'built', 'windows', 'roads', \n",
    "              'cars', 'metal']\n",
    "    \n",
    "    fig, ax = plt.subplots()\n",
    "    im = ax.imshow(cm, interpolation='nearest', cmap=plt.cm.Blues)\n",
    "    ax.figure.colorbar(im, ax=ax)\n",
    "    if norm:\n",
    "        title='Normalized Confusion Matrix'\n",
    "        fmt='.2f'\n",
    "    else:\n",
    "        title='Confusion Matrix'\n",
    "        fmt='d'\n",
    "    ax.set(xticks=np.arange(cm.shape[1]),\n",
    "          yticks=np.arange(cm.shape[0]),\n",
    "          xticklabels=np.arange(0,cm.shape[1]).astype(str), \n",
    "          yticklabels=classes,\n",
    "          title=title,\n",
    "          ylabel='True Label',\n",
    "          xlabel='Predicted Label')\n",
    "    #plt.setp(ax.get_xticklabels(), rotation=45, ha=\"right\",\n",
    "    #        rotation_mode=\"anchor\")\n",
    "    thresh = cm.max()/2\n",
    "    for i in range(cm.shape[0]):\n",
    "        for j in range(cm.shape[1]):\n",
    "            ax.text(j, i, format(cm[i,j], fmt),\n",
    "                   ha=\"center\", va=\"center\",\n",
    "                   color=\"white\" if cm[i,j] > thresh else \"black\")\n",
    "    fig.tight_layout()\n",
    "    plt.show()"
   ]
  },
  {
   "cell_type": "code",
   "execution_count": 5,
   "metadata": {},
   "outputs": [],
   "source": [
    "def plot_test_result(df_Test):\n",
    "    import matplotlib.pyplot as plt\n",
    "    %matplotlib inline\n",
    "    \n",
    "    df_test = df_Test.transpose()\n",
    "    ax = df_test.plot.bar(rot=0, stacked=True, colormap='tab20b')\n",
    "                          #color=['tab:blue', 'tab:green', 'tab:gray'])\n",
    "    plt.xlabel('Actual Class')\n",
    "    plt.ylabel('%of Test Pixels')\n",
    "    plt.title('Error in Prediction')\n",
    "    plt.legend(bbox_to_anchor=(1,1), loc=2, borderaxespad=1.0, prop={'size':11})\n",
    "    plt.show()"
   ]
  },
  {
   "cell_type": "code",
   "execution_count": 6,
   "metadata": {},
   "outputs": [],
   "source": [
    "def point_from_string(text):\n",
    "    \n",
    "    items = text.strip(\"\\n\").split(\" \")\n",
    "    rind = int(items[0])\n",
    "    cind = int(items[1])\n",
    "    \n",
    "    return rind, cind"
   ]
  },
  {
   "cell_type": "code",
   "execution_count": 7,
   "metadata": {},
   "outputs": [],
   "source": [
    "def coords(row, col):\n",
    "    return np.array(list(np.ndindex((row, col)))).reshape(row, col, 2)"
   ]
  },
  {
   "cell_type": "code",
   "execution_count": 8,
   "metadata": {},
   "outputs": [],
   "source": [
    "def read_labelled_coordinates(kind, scan):\n",
    "    file = open(\"../manual_classified_pixels/{0}_coordinates_{1}.txt\".format(kind, scan), \"r\")\n",
    "    coords = file.readlines()\n",
    "    file.close()\n",
    "    coords = np.array([point_from_string(line) for line in coords])\n",
    "    print(\"{0}: {1}\".format(kind,coords.shape))\n",
    "    \n",
    "    return coords"
   ]
  },
  {
   "cell_type": "code",
   "execution_count": 9,
   "metadata": {},
   "outputs": [],
   "source": [
    "import random\n",
    "\n",
    "def split_train_test_indices(coords, seed, trrat, kind):\n",
    "    ind = np.arange(coords.shape[0])\n",
    "    random.Random(seed).shuffle(ind)\n",
    "    lim_ind = int(len(ind)*trrat)\n",
    "    train_ind = ind[:lim_ind]\n",
    "    test_ind = ind[lim_ind:]\n",
    "    \n",
    "    print(\"{0}: {1} {2}\".format(kind, len(train_ind), len(test_ind)))\n",
    "    \n",
    "    return train_ind, test_ind"
   ]
  },
  {
   "cell_type": "code",
   "execution_count": 10,
   "metadata": {},
   "outputs": [],
   "source": [
    "import tensorflow as tf\n",
    "from tensorflow import keras\n",
    "from tensorflow.keras import layers\n",
    "\n",
    "def CNN_Model(nwaves):\n",
    "    Inputs_1 = keras.Input(shape=(nwaves, 1), name=\"spectra\")\n",
    "    Conv1D_1 = layers.Conv1D(32, kernel_size=(5), padding=\"same\", activation=\"relu\")(Inputs_1)\n",
    "    MaxPool_1 = layers.MaxPooling1D((2), strides=2)(Conv1D_1)\n",
    "    Conv1D_2 = layers.Conv1D(64, kernel_size=(5), padding=\"same\", activation=\"relu\")(MaxPool_1)\n",
    "    MaxPool_2 = layers.MaxPooling1D((2), strides=2)(Conv1D_2)\n",
    "    Dropout_1 = layers.Dropout(0.5)(MaxPool_2)\n",
    "    Flatten_1 = layers.Flatten()(Dropout_1)\n",
    "    Dense_1 = layers.Dense(1024, activation=\"relu\")(Flatten_1)\n",
    "    Output = layers.Dense(9, activation=\"softmax\")(Dense_1)\n",
    "\n",
    "    model = keras.Model(inputs=[Inputs_1],\n",
    "                        outputs=[Output],)\n",
    "    \n",
    "    return model"
   ]
  },
  {
   "cell_type": "code",
   "execution_count": 11,
   "metadata": {},
   "outputs": [],
   "source": [
    "import matplotlib.pyplot as plt\n",
    "%matplotlib inline\n",
    "\n",
    "def plot_loss_history(model):\n",
    "    f, ((ax1, ax2), (ax3, ax4)) = plt.subplots(2,2, figsize=(12, 10))\n",
    "    ax1.plot(model.history['loss'])\n",
    "    ax1.plot(model.history['val_loss'])\n",
    "    ax1.set_title('CNN Model Loss')\n",
    "    ax1.set_ylabel('loss')\n",
    "    ax1.set_xlabel('epoch')\n",
    "    ax1.locator_params(nbins=13, axis='x')\n",
    "    ax1.legend(['train', 'test'], loc='center right')\n",
    "    ax2.plot(model.history['accuracy'])\n",
    "    ax2.plot(model.history['val_accuracy'])\n",
    "    ax2.set_title('CNN Model Accuracy')\n",
    "    ax2.set_ylabel('accuracy')\n",
    "    ax2.set_xlabel('epoch')\n",
    "    ax2.locator_params(nbins=12, axis='x')\n",
    "    ax2.legend(['train', 'test'], loc='center right')\n",
    "    ax3.plot(model.history['loss'])\n",
    "    ax3.plot(model.history['val_loss'])\n",
    "    ax3.set_ylabel('log(loss)')\n",
    "    ax3.set_xlabel('epoch')\n",
    "    ax3.locator_params(nbins=13, axis='x')\n",
    "    ax3.legend(['train', 'test'], loc='center right')\n",
    "    ax3.set_yscale('log')\n",
    "    ax4.plot(model.history['accuracy'])\n",
    "    ax4.plot(model.history['val_accuracy'])\n",
    "    ax4.set_ylabel('log(accuracy)')\n",
    "    ax4.set_xlabel('epoch')\n",
    "    ax4.locator_params(nbins=12, axis='x')\n",
    "    ax4.legend(['train', 'test'], loc='center right')\n",
    "    ax4.set_yscale('log')\n",
    "    plt.show()"
   ]
  },
  {
   "cell_type": "markdown",
   "metadata": {},
   "source": [
    "---\n",
    "### Classes:\n",
    "1. Sky\n",
    "2. Clouds\n",
    "3. Water\n",
    "4. Vegetation\n",
    "5. Buildings (concrete structures)\n",
    "6. Windows\n",
    "7. Roads\n",
    "8. Cars\n",
    "9. Metal Structures\n",
    "---\n"
   ]
  },
  {
   "cell_type": "markdown",
   "metadata": {},
   "source": [
    "---\n",
    "## CNN trained on veg_00000 (Scene 1-b South Facing @ ~6pm)"
   ]
  },
  {
   "cell_type": "code",
   "execution_count": 12,
   "metadata": {},
   "outputs": [
    {
     "name": "stdout",
     "output_type": "stream",
     "text": [
      "reading and parsing ../../image_files/veg_00000.hdr...\n",
      "reading ../../image_files/veg_00000.raw...\n"
     ]
    }
   ],
   "source": [
    "fname0 = \"../../image_files/veg_00000.raw\"\n",
    "cube0 = read_hyper(fname0)"
   ]
  },
  {
   "cell_type": "code",
   "execution_count": 13,
   "metadata": {},
   "outputs": [
    {
     "name": "stdout",
     "output_type": "stream",
     "text": [
      "(848, 1600, 1600)\n"
     ]
    }
   ],
   "source": [
    "cube_sub0 = cube0.data[:, :, :].astype(float)\n",
    "print(cube_sub0.shape)"
   ]
  },
  {
   "cell_type": "code",
   "execution_count": 14,
   "metadata": {},
   "outputs": [
    {
     "name": "stdout",
     "output_type": "stream",
     "text": [
      "(2560000, 848)\n"
     ]
    }
   ],
   "source": [
    "cube_reshaped0 = cube_sub0.transpose(1, 2, 0).reshape((cube_sub0.shape[1] * cube_sub0.shape[2]), cube_sub0.shape[0])\n",
    "print(cube_reshaped0.shape)"
   ]
  },
  {
   "cell_type": "code",
   "execution_count": null,
   "metadata": {},
   "outputs": [],
   "source": [
    "cube_norm0 = (cube_reshaped0 - cube_reshaped0.min()) / (cube_reshaped0.max() - cube_reshaped0.min())\n",
    "\n",
    "import matplotlib.pyplot as plt\n",
    "%matplotlib inline\n",
    "\n",
    "red_ind0 = (np.abs(cube0.waves - 650.0)).argmin()\n",
    "green_ind0 = (np.abs(cube0.waves - 550.0)).argmin()\n",
    "blue_ind0 = (np.abs(cube0.waves - 450.0)).argmin()\n",
    "\n",
    "cube_reshaped02 = cube_norm0.reshape(cube_sub0.shape[1], cube_sub0.shape[2], cube_sub0.shape[0])\n",
    "cube_scene0 = cube_reshaped02[:, :, [red_ind0, green_ind0, blue_ind0]]\n",
    "fig, ax = plt.subplots(figsize=(10,10))\n",
    "plt.title('veg_00000 RGB Image')\n",
    "ax.imshow(cube_scene0, aspect=0.5)\n",
    "plt.show()"
   ]
  },
  {
   "cell_type": "code",
   "execution_count": 15,
   "metadata": {},
   "outputs": [
    {
     "name": "stdout",
     "output_type": "stream",
     "text": [
      "(2560000, 848)\n"
     ]
    }
   ],
   "source": [
    "cube_standard0 = (cube_reshaped0 - cube_reshaped0.mean(1, keepdims=True)) / cube_reshaped0.std(1, keepdims=True)\n",
    "print(cube_standard0.shape)"
   ]
  },
  {
   "cell_type": "markdown",
   "metadata": {},
   "source": [
    "#### Reading manually classified set for training and testing"
   ]
  },
  {
   "cell_type": "code",
   "execution_count": 12,
   "metadata": {},
   "outputs": [
    {
     "name": "stdout",
     "output_type": "stream",
     "text": [
      "1_sky: (400, 2)\n",
      "2_clouds: (500, 2)\n",
      "3_vegetation: (610, 2)\n",
      "4_water: (0,)\n",
      "5_buildings: (1200, 2)\n",
      "6_windows: (500, 2)\n",
      "7_roads: (60, 2)\n",
      "8_cars: (55, 2)\n",
      "9_metal: (230, 2)\n"
     ]
    }
   ],
   "source": [
    "sky_coords0 = read_labelled_coordinates(\"1_sky\", \"000\")\n",
    "clouds_coords0 = read_labelled_coordinates(\"2_clouds\", \"000\")\n",
    "veg_coords0 = read_labelled_coordinates(\"3_vegetation\", \"000\")\n",
    "wtr_coords0 = read_labelled_coordinates(\"4_water\", \"000\")\n",
    "blt_coords0 = read_labelled_coordinates(\"5_buildings\", \"000\")\n",
    "windows_coords0 = read_labelled_coordinates(\"6_windows\", \"000\")\n",
    "rds_coords0 = read_labelled_coordinates(\"7_roads\", \"000\")\n",
    "cars_coords0 = read_labelled_coordinates(\"8_cars\", \"000\")\n",
    "mtl_coords0 = read_labelled_coordinates(\"9_metal\", \"000\")"
   ]
  },
  {
   "cell_type": "markdown",
   "metadata": {},
   "source": [
    "#### split classified pixels into 80% training and 20% testing sets"
   ]
  },
  {
   "cell_type": "code",
   "execution_count": 17,
   "metadata": {},
   "outputs": [
    {
     "name": "stdout",
     "output_type": "stream",
     "text": [
      "sky: 320 80\n",
      "clouds: 400 100\n",
      "veg: 488 122\n",
      "blt: 960 240\n",
      "windows: 400 100\n",
      "rds: 48 12\n",
      "cars: 44 11\n",
      "mtl: 184 46\n"
     ]
    }
   ],
   "source": [
    "trrat = 0.8\n",
    "sky_train_ind0, sky_test_ind0 = split_train_test_indices(sky_coords0, 10, trrat, \"sky\")\n",
    "clouds_train_ind0, clouds_test_ind0 = split_train_test_indices(clouds_coords0, 20, trrat, \"clouds\")\n",
    "veg_train_ind0, veg_test_ind0 = split_train_test_indices(veg_coords0, 30, trrat, \"veg\")\n",
    "#wtr_train_ind0, wtr_test_ind0 = split_train_test_indices(wtr_coords0, 40, trrat, \"wtr\")\n",
    "blt_train_ind0, blt_test_ind0 = split_train_test_indices(blt_coords0, 50, trrat, \"blt\")\n",
    "windows_train_ind0, windows_test_ind0 = split_train_test_indices(windows_coords0, 60, trrat, \"windows\")\n",
    "rds_train_ind0, rds_test_ind0 = split_train_test_indices(rds_coords0, 70, trrat, \"rds\")\n",
    "cars_train_ind0, cars_test_ind0 = split_train_test_indices(cars_coords0, 80, trrat, \"cars\")\n",
    "mtl_train_ind0, mtl_test_ind0 = split_train_test_indices(mtl_coords0, 90, trrat, \"mtl\")"
   ]
  },
  {
   "cell_type": "code",
   "execution_count": 18,
   "metadata": {},
   "outputs": [
    {
     "name": "stdout",
     "output_type": "stream",
     "text": [
      "(1600, 1600, 848)\n"
     ]
    }
   ],
   "source": [
    "cube_std0_3d = cube_standard0.reshape(cube_sub0.shape[1], cube_sub0.shape[2], cube_sub0.shape[0])\n",
    "print(cube_std0_3d.shape)"
   ]
  },
  {
   "cell_type": "code",
   "execution_count": 19,
   "metadata": {},
   "outputs": [
    {
     "name": "stdout",
     "output_type": "stream",
     "text": [
      "sky  (320, 848) (80, 848)\n",
      "clouds  (400, 848) (100, 848)\n",
      "vegetation  (488, 848) (122, 848)\n",
      "built  (960, 848) (240, 848)\n",
      "windows  (400, 848) (100, 848)\n",
      "roads  (48, 848) (12, 848)\n",
      "cars  (44, 848) (11, 848)\n",
      "metal  (184, 848) (46, 848)\n"
     ]
    }
   ],
   "source": [
    "cube_sky_train0 = cube_std0_3d[sky_coords0[sky_train_ind0[:], 0], sky_coords0[sky_train_ind0[:], 1], :]\n",
    "cube_sky_test0 = cube_std0_3d[sky_coords0[sky_test_ind0[:], 0], sky_coords0[sky_test_ind0[:], 1], :]\n",
    "print(\"sky \", cube_sky_train0.shape, cube_sky_test0.shape)\n",
    "\n",
    "cube_clouds_train0 = cube_std0_3d[clouds_coords0[clouds_train_ind0[:], 0], clouds_coords0[clouds_train_ind0[:], 1], :]\n",
    "cube_clouds_test0 = cube_std0_3d[clouds_coords0[clouds_test_ind0[:], 0], clouds_coords0[clouds_test_ind0[:], 1], :]\n",
    "print(\"clouds \", cube_clouds_train0.shape, cube_clouds_test0.shape)\n",
    "\n",
    "cube_veg_train0 = cube_std0_3d[veg_coords0[veg_train_ind0[:], 0], veg_coords0[veg_train_ind0[:], 1], :]\n",
    "cube_veg_test0 = cube_std0_3d[veg_coords0[veg_test_ind0[:], 0], veg_coords0[veg_test_ind0[:], 1], :]\n",
    "print(\"vegetation \", cube_veg_train0.shape, cube_veg_test0.shape)\n",
    "\n",
    "#cube_wtr_train0 = cube_std0_3d[wtr_coords0[wtr_train_ind0[:], 0], wtr_coords0[wtr_train_ind0[:], 1], :]\n",
    "#cube_wtr_test0 = cube_std0_3d[wtr_coords0[wtr_test_ind0[:], 0], wtr_coords0[wtr_test_ind0[:], 1], :]\n",
    "#print(\"water \", cube_wtr_train0.shape, cube_wtr_test0.shape)\n",
    "\n",
    "cube_blt_train0 = cube_std0_3d[blt_coords0[blt_train_ind0[:], 0], blt_coords0[blt_train_ind0[:], 1], :]\n",
    "cube_blt_test0 = cube_std0_3d[blt_coords0[blt_test_ind0[:], 0], blt_coords0[blt_test_ind0[:], 1], :]\n",
    "print(\"built \", cube_blt_train0.shape, cube_blt_test0.shape)\n",
    "\n",
    "cube_windows_train0 = cube_std0_3d[windows_coords0[windows_train_ind0[:],0], windows_coords0[windows_train_ind0[:],1],:]\n",
    "cube_windows_test0 = cube_std0_3d[windows_coords0[windows_test_ind0[:], 0], windows_coords0[windows_test_ind0[:], 1], :]\n",
    "print(\"windows \", cube_windows_train0.shape, cube_windows_test0.shape)\n",
    "\n",
    "cube_rds_train0 = cube_std0_3d[rds_coords0[rds_train_ind0[:], 0], rds_coords0[rds_train_ind0[:], 1], :]\n",
    "cube_rds_test0 = cube_std0_3d[rds_coords0[rds_test_ind0[:], 0], rds_coords0[rds_test_ind0[:], 1], :]\n",
    "print(\"roads \", cube_rds_train0.shape, cube_rds_test0.shape)\n",
    "\n",
    "cube_cars_train0 = cube_std0_3d[cars_coords0[cars_train_ind0[:], 0], cars_coords0[cars_train_ind0[:], 1], :]\n",
    "cube_cars_test0 = cube_std0_3d[cars_coords0[cars_test_ind0[:], 0], cars_coords0[cars_test_ind0[:], 1], :]\n",
    "print(\"cars \", cube_cars_train0.shape, cube_cars_test0.shape)\n",
    "\n",
    "cube_mtl_train0 = cube_std0_3d[mtl_coords0[mtl_train_ind0[:], 0], mtl_coords0[mtl_train_ind0[:], 1], :]\n",
    "cube_mtl_test0 = cube_std0_3d[mtl_coords0[mtl_test_ind0[:], 0], mtl_coords0[mtl_test_ind0[:], 1], :]\n",
    "print(\"metal \", cube_mtl_train0.shape, cube_mtl_test0.shape)"
   ]
  },
  {
   "cell_type": "code",
   "execution_count": 20,
   "metadata": {},
   "outputs": [],
   "source": [
    "cube_train0 = np.concatenate((cube_sky_train0, cube_clouds_train0, cube_veg_train0, cube_blt_train0,\n",
    "                             cube_windows_train0, cube_rds_train0, cube_cars_train0, cube_mtl_train0), axis=0)\n",
    "cube_train_labels0 = [0]*cube_sky_train0.shape[0] + [1]*cube_clouds_train0.shape[0] \\\n",
    "                + [2]*cube_veg_train0.shape[0] + [4]*cube_blt_train0.shape[0] \\\n",
    "                + [5]*cube_windows_train0.shape[0] + [6]*cube_rds_train0.shape[0] \\\n",
    "                + [7]*cube_cars_train0.shape[0] + [8]*cube_mtl_train0.shape[0]\n",
    "\n",
    "cube_test0 = np.concatenate((cube_sky_test0, cube_clouds_test0, cube_veg_test0, cube_blt_test0,\n",
    "                             cube_windows_test0, cube_rds_test0, cube_cars_test0, cube_mtl_test0), axis=0)\n",
    "cube_test_labels0 = [0]*cube_sky_test0.shape[0] + [1]*cube_clouds_test0.shape[0] \\\n",
    "                + [2]*cube_veg_test0.shape[0] + [4]*cube_blt_test0.shape[0] \\\n",
    "                + [5]*cube_windows_test0.shape[0] + [6]*cube_rds_test0.shape[0] \\\n",
    "                + [7]*cube_cars_test0.shape[0] + [8]*cube_mtl_test0.shape[0]"
   ]
  },
  {
   "cell_type": "code",
   "execution_count": 21,
   "metadata": {},
   "outputs": [
    {
     "name": "stdout",
     "output_type": "stream",
     "text": [
      "(2844, 848) (2844,)\n",
      "(711, 848) (711,)\n"
     ]
    }
   ],
   "source": [
    "cube_train_labels0 = np.array(cube_train_labels0)\n",
    "cube_test_labels0 = np.array(cube_test_labels0)\n",
    "\n",
    "print(cube_train0.shape, cube_train_labels0.shape)\n",
    "print(cube_test0.shape, cube_test_labels0.shape)"
   ]
  },
  {
   "cell_type": "markdown",
   "metadata": {},
   "source": [
    "### Train CNN"
   ]
  },
  {
   "cell_type": "code",
   "execution_count": null,
   "metadata": {},
   "outputs": [],
   "source": [
    "cnn0 = CNN_Model(cube_std0_3d.shape[2])\n",
    "cnn0.compile(optimizer=\"adam\", loss=\"sparse_categorical_crossentropy\",\n",
    "             metrics=[\"accuracy\"])"
   ]
  },
  {
   "cell_type": "code",
   "execution_count": 22,
   "metadata": {
    "scrolled": false
   },
   "outputs": [],
   "source": [
    "#keras.utils.plot_model(cnn0, show_shapes=True)\n",
    "#cnn0.summary()\n",
    "\n",
    "cube_train02 = cube_train0.reshape(cube_train0.shape[0], cube_train0.shape[1], 1)\n",
    "cube_test02 = cube_test0.reshape(cube_test0.shape[0], cube_test0.shape[1], 1)"
   ]
  },
  {
   "cell_type": "code",
   "execution_count": null,
   "metadata": {
    "scrolled": true
   },
   "outputs": [],
   "source": [
    "CNNmodel0 = cnn0.fit({\"spectra\":cube_train02}, cube_train_labels0, \n",
    "                     validation_data=({\"spectra\":cube_test02}, cube_test_labels0),\n",
    "                     epochs=200, batch_size=512)"
   ]
  },
  {
   "cell_type": "code",
   "execution_count": null,
   "metadata": {},
   "outputs": [],
   "source": [
    "plot_loss_history(CNNmodel0)"
   ]
  },
  {
   "cell_type": "code",
   "execution_count": null,
   "metadata": {
    "scrolled": true
   },
   "outputs": [],
   "source": [
    "CNNmodel0 = cnn0.fit({\"spectra\":cube_train02}, cube_train_labels0, \n",
    "                     validation_data=({\"spectra\":cube_test02}, cube_test_labels0),\n",
    "                     epochs=60, batch_size=512)"
   ]
  },
  {
   "cell_type": "code",
   "execution_count": null,
   "metadata": {},
   "outputs": [],
   "source": [
    "# model accuracy on training and testing sets\n",
    "\n",
    "train_loss, train_acc = cnn0.evaluate({\"spectra\":cube_train02}, cube_train_labels0)\n",
    "test_loss, test_acc = cnn0.evaluate({\"spectra\":cube_test02}, cube_test_labels0)\n",
    "\n",
    "print(train_acc, test_acc)"
   ]
  },
  {
   "cell_type": "markdown",
   "metadata": {},
   "source": [
    "### Predict pixel classification on veg_00000"
   ]
  },
  {
   "cell_type": "code",
   "execution_count": 23,
   "metadata": {},
   "outputs": [
    {
     "name": "stdout",
     "output_type": "stream",
     "text": [
      "(2560000, 848, 1)\n"
     ]
    }
   ],
   "source": [
    "cube_standard0_1 = cube_standard0.reshape(cube_standard0.shape[0], cube_standard0.shape[1], 1)\n",
    "print(cube_standard0_1.shape)"
   ]
  },
  {
   "cell_type": "code",
   "execution_count": null,
   "metadata": {},
   "outputs": [],
   "source": [
    "# classify entire binned cube\n",
    "import time\n",
    "start_time = time.time()\n",
    "\n",
    "probCube0 = cnn0.predict({\"spectra\":cube_standard0_1})\n",
    "\n",
    "elapsed_time = time.time() - start_time\n",
    "print(time.strftime(\"%H:%M:%S\", time.gmtime(elapsed_time)))"
   ]
  },
  {
   "cell_type": "code",
   "execution_count": null,
   "metadata": {},
   "outputs": [],
   "source": [
    "predictCube0 = probCube0.argmax(axis=-1)"
   ]
  },
  {
   "cell_type": "code",
   "execution_count": null,
   "metadata": {},
   "outputs": [],
   "source": [
    "predictCube_reshape0 = predictCube0.reshape(cube_sub0.shape[1], cube_sub0.shape[2])"
   ]
  },
  {
   "cell_type": "code",
   "execution_count": null,
   "metadata": {},
   "outputs": [],
   "source": [
    "import matplotlib.pyplot as plt\n",
    "import matplotlib.colors as ListedColorMap\n",
    "import matplotlib.patches as mpatches\n",
    "from matplotlib.ticker import NullFormatter\n",
    "%matplotlib inline\n",
    "\n",
    "cmap = {0:[0,0.32549,0.62353,1], 1:[0.93333,0.9098,0.77255,1], 2:[0,0.61961,0.45098,1],  3:[0.33725,0.70588,0.91373,1],\n",
    "        4:[0,0,0,1], 5:[1,0.82353,0,1], 6:[0.90196,0.62353,0,1], 7:[0.83529,0.36863,0,1],\n",
    "        8:[0.8,0.47451,0.65490,1]}\n",
    "labels = {0:'sky', 1:'clouds', 2:'vegetation', 3:'water', 4:'built',\n",
    "          5:'windows', 6:'roads', 7:'cars', 8:'metal'}\n",
    "arrayShow = np.array([[cmap[i] for i in j] for j in predictCube_reshape0])\n",
    "patches = [mpatches.Patch(color=cmap[i], label=labels[i]) for i in cmap]\n",
    "\n",
    "fig = plt.figure(figsize=(15,15))\n",
    "ax = fig.add_axes([0.1,0.1,0.9,0.9])\n",
    "ax.tick_params(labelsize=10)\n",
    "ax.imshow(arrayShow, aspect=0.5)\n",
    "lgd = ax.legend(handles=patches, bbox_to_anchor=(1,0.75), loc='upper left', borderaxespad=1.0, prop={'size':10}, ncol=1)\n",
    "plt.show()\n",
    "#fig.savefig(\"./plots/CNN_change_params_spatial_train_all_3_000_predict_map.png\", \n",
    "#bbox_extra_artists=(lgd,), bbox_inches='tight')"
   ]
  },
  {
   "cell_type": "code",
   "execution_count": null,
   "metadata": {},
   "outputs": [],
   "source": [
    "import matplotlib.pyplot as plt\n",
    "import matplotlib.colors as ListedColorMap\n",
    "import matplotlib.patches as mpatches\n",
    "from matplotlib.ticker import NullFormatter\n",
    "%matplotlib inline\n",
    "\n",
    "cmap = {0:[0,0.32549,0.62353,1], 1:[0.93333,0.9098,0.77255,1], 2:[0,0.61961,0.45098,1],  3:[0.33725,0.70588,0.91373,1],\n",
    "        4:[0,0,0,1], 5:[1,0.82353,0,1], 6:[0.90196,0.62353,0,1], 7:[0.83529,0.36863,0,1],\n",
    "        8:[0.8,0.47451,0.65490,1]}\n",
    "labels = {0:'sky', 1:'clouds', 2:'vegetation', 3:'water', 4:'built',\n",
    "          5:'windows', 6:'roads', 7:'cars', 8:'metal'}\n",
    "arrayShow = np.array([[cmap[i] for i in j] for j in predictCube_reshape0])\n",
    "patches = [mpatches.Patch(color=cmap[i], label=labels[i]) for i in cmap]\n",
    "\n",
    "fig = plt.figure(figsize=(15,15))\n",
    "#ax = fig.add_axes([0.1,0.1,0.9,0.9])\n",
    "#ax.tick_params(labelsize=10)\n",
    "plt.imshow(arrayShow, aspect=0.5)\n",
    "#lgd = ax.legend(handles=patches, bbox_to_anchor=(1,0.75), loc='upper left', borderaxespad=1.0, prop={'size':10}, ncol=1)\n",
    "plt.axis('off')\n",
    "plt.show()\n",
    "fig.savefig(\"./plots/CNN_Model1_no_spatial_train_000_test_000_predict_map.png\", bbox_inches='tight', dpi=300)"
   ]
  },
  {
   "cell_type": "code",
   "execution_count": null,
   "metadata": {},
   "outputs": [],
   "source": [
    "import pickle\n",
    "pickle.dump(predictCube_reshape0, open(\"./plots/CNN_Model1_no_spatial_train_000_test_000_predict_map.pickle\", \"wb\"))"
   ]
  },
  {
   "cell_type": "code",
   "execution_count": null,
   "metadata": {},
   "outputs": [],
   "source": [
    "wtr_coords0=np.array([[0,0]])"
   ]
  },
  {
   "cell_type": "markdown",
   "metadata": {},
   "source": [
    "### Evaluation Metrics (veg_00000)"
   ]
  },
  {
   "cell_type": "code",
   "execution_count": null,
   "metadata": {},
   "outputs": [],
   "source": [
    "labels0_pred_sky = predictCube_reshape0[sky_coords0[sky_test_ind0[:], 0], sky_coords0[sky_test_ind0[:], 1]]\n",
    "labels0_pred_clouds = predictCube_reshape0[clouds_coords0[clouds_test_ind0[:], 0], clouds_coords0[clouds_test_ind0[:],1]]\n",
    "labels0_pred_veg = predictCube_reshape0[veg_coords0[veg_test_ind0[:],0], veg_coords0[veg_test_ind0[:],1]]\n",
    "#labels0_pred_wtr = predictCube_reshape0[wtr_coords0[wtr_test_ind0[:],0], wtr_coords0[wtr_test_ind0[:],1]]\n",
    "labels0_pred_blt = predictCube_reshape0[blt_coords0[blt_test_ind0[:],0], blt_coords0[blt_test_ind0[:],1]]\n",
    "labels0_pred_windows = predictCube_reshape0[windows_coords0[windows_test_ind0[:],0], windows_coords0[windows_test_ind0[:],1]]\n",
    "labels0_pred_rds = predictCube_reshape0[rds_coords0[rds_test_ind0[:],0], rds_coords0[rds_test_ind0[:],1]]\n",
    "labels0_pred_cars = predictCube_reshape0[cars_coords0[cars_test_ind0[:],0], cars_coords0[cars_test_ind0[:],1]]\n",
    "labels0_pred_mtl = predictCube_reshape0[mtl_coords0[mtl_test_ind0[:],0], mtl_coords0[mtl_test_ind0[:],1]]\n",
    "\n",
    "labels0_pred = np.concatenate((labels0_pred_sky, labels0_pred_clouds, labels0_pred_veg, #labels0_pred_wtr, \n",
    "                             labels0_pred_blt, labels0_pred_windows, labels0_pred_rds, \n",
    "                               labels0_pred_cars, labels0_pred_mtl))"
   ]
  },
  {
   "cell_type": "code",
   "execution_count": null,
   "metadata": {},
   "outputs": [],
   "source": [
    "labels0_true_sky = np.full(len(sky_test_ind0), 0)\n",
    "labels0_true_clouds = np.full(len(clouds_test_ind0), 1)\n",
    "labels0_true_veg = np.full(len(veg_test_ind0), 2)\n",
    "#labels0_true_wtr = np.full(len(wtr_test_ind0), 3)\n",
    "labels0_true_blt = np.full(len(blt_test_ind0), 4)\n",
    "labels0_true_windows = np.full(len(windows_test_ind0), 5)\n",
    "labels0_true_rds = np.full(len(rds_test_ind0), 6)\n",
    "labels0_true_cars = np.full(len(cars_test_ind0), 7)\n",
    "labels0_true_mtl = np.full(len(mtl_test_ind0), 8)\n",
    "\n",
    "labels0_true = np.concatenate((labels0_true_sky, labels0_true_clouds, labels0_true_veg, #labels0_true_wtr, \n",
    "                             labels0_true_blt, labels0_true_windows, labels0_true_rds, labels0_true_cars, labels0_true_mtl))"
   ]
  },
  {
   "cell_type": "code",
   "execution_count": null,
   "metadata": {},
   "outputs": [],
   "source": [
    "print(labels0_pred.shape)\n",
    "print(labels0_true.shape)"
   ]
  },
  {
   "cell_type": "code",
   "execution_count": null,
   "metadata": {},
   "outputs": [],
   "source": [
    "from sklearn import metrics\n",
    "\n",
    "print(\"Confusion Matrix\")\n",
    "print(metrics.confusion_matrix(labels0_true, labels0_pred))\n",
    "\n",
    "print(\"\")\n",
    "print(\"Accuracy Score\")\n",
    "print(metrics.accuracy_score(labels0_true, labels0_pred))\n",
    "\n",
    "target_names = ['sky', 'clouds', 'vegetation', 'built', 'windows', 'roads', 'cars', 'metal']\n",
    "print(\"\")\n",
    "print(\"Classification Report\")\n",
    "print(metrics.classification_report(labels0_true, labels0_pred, target_names=target_names))"
   ]
  },
  {
   "cell_type": "code",
   "execution_count": null,
   "metadata": {},
   "outputs": [],
   "source": [
    "f = open(\"./metrics/CNN_Model1_no_spatial_train_000_test_000_metrics.txt\", \"w\")\n",
    "f.write(\"Confusion Matrix\")\n",
    "f.write('\\n')\n",
    "f.write(str(metrics.confusion_matrix(labels0_true, labels0_pred)))\n",
    "f.write('\\n')\n",
    "f.write('\\n')\n",
    "f.write(\"Accuracy Score\")\n",
    "f.write('\\n')\n",
    "f.write(str(metrics.accuracy_score(labels0_true, labels0_pred)))\n",
    "target_names = ['sky', 'clouds', 'vegetation', 'built', 'windows', 'roads', 'cars', 'metal']\n",
    "f.write('\\n')\n",
    "f.write('\\n')\n",
    "f.write(\"Classification Report\")\n",
    "f.write('\\n')\n",
    "f.write(metrics.classification_report(labels0_true, labels0_pred, target_names=target_names))\n",
    "f.close()"
   ]
  },
  {
   "cell_type": "markdown",
   "metadata": {},
   "source": [
    "---\n",
    "## CNN trained on North Facing Image"
   ]
  },
  {
   "cell_type": "code",
   "execution_count": 24,
   "metadata": {},
   "outputs": [
    {
     "name": "stdout",
     "output_type": "stream",
     "text": [
      "reading and parsing ../../image_files/scan1_slow_roof_VNIR.hdr...\n",
      "reading ../../image_files/scan1_slow_roof_VNIR.raw...\n"
     ]
    }
   ],
   "source": [
    "fname_north = \"../../image_files/scan1_slow_roof_VNIR.raw\"\n",
    "cube_north = read_hyper(fname_north)"
   ]
  },
  {
   "cell_type": "code",
   "execution_count": 25,
   "metadata": {},
   "outputs": [
    {
     "name": "stdout",
     "output_type": "stream",
     "text": [
      "(872, 1600, 1247)\n"
     ]
    }
   ],
   "source": [
    "cube_sub_north = cube_north.data[:, :, :].astype(float)\n",
    "print(cube_sub_north.shape)"
   ]
  },
  {
   "cell_type": "code",
   "execution_count": 26,
   "metadata": {},
   "outputs": [
    {
     "name": "stdout",
     "output_type": "stream",
     "text": [
      "(1995200, 872)\n"
     ]
    }
   ],
   "source": [
    "cube_reshaped_north = cube_sub_north.transpose(1, 2, 0).reshape((cube_sub_north.shape[1] * cube_sub_north.shape[2]), cube_sub_north.shape[0])\n",
    "print(cube_reshaped_north.shape)"
   ]
  },
  {
   "cell_type": "code",
   "execution_count": null,
   "metadata": {},
   "outputs": [],
   "source": [
    "cube_norm_north = (cube_reshaped_north - cube_reshaped_north.min()) / (cube_reshaped_north.max() - cube_reshaped_north.min())\n",
    "\n",
    "import matplotlib.pyplot as plt\n",
    "%matplotlib inline\n",
    "\n",
    "red_ind_n = (np.abs(cube_north.waves - 650.0)).argmin()\n",
    "green_ind_n = (np.abs(cube_north.waves - 550.0)).argmin()\n",
    "blue_ind_n = (np.abs(cube_north.waves - 450.0)).argmin()\n",
    "\n",
    "cube_reshaped_north2 = cube_norm_north.reshape(cube_sub_north.shape[1], cube_sub_north.shape[2], cube_sub_north.shape[0])\n",
    "cube_scene_north = cube_reshaped_north2[:, :, [red_ind_n, green_ind_n, blue_ind_n]]\n",
    "fig, ax = plt.subplots(figsize=(10,10))\n",
    "plt.title('North Facing RGB Image')\n",
    "ax.imshow(cube_scene_north, aspect=0.4)\n",
    "plt.show()"
   ]
  },
  {
   "cell_type": "code",
   "execution_count": 27,
   "metadata": {},
   "outputs": [
    {
     "name": "stdout",
     "output_type": "stream",
     "text": [
      "(1995200, 872)\n"
     ]
    }
   ],
   "source": [
    "cube_standard_north = (cube_reshaped_north - cube_reshaped_north.mean(1, keepdims=True)) / cube_reshaped_north.std(1, keepdims=True)\n",
    "print(cube_standard_north.shape)"
   ]
  },
  {
   "cell_type": "markdown",
   "metadata": {},
   "source": [
    "#### Reading manually classified set for training and testing"
   ]
  },
  {
   "cell_type": "code",
   "execution_count": 13,
   "metadata": {},
   "outputs": [
    {
     "name": "stdout",
     "output_type": "stream",
     "text": [
      "1_sky: (300, 2)\n",
      "2_clouds: (200, 2)\n",
      "3_vegetation: (700, 2)\n",
      "4_water: (620, 2)\n",
      "5_buildings: (1600, 2)\n",
      "6_windows: (600, 2)\n",
      "7_roads: (250, 2)\n",
      "8_cars: (250, 2)\n",
      "9_metal: (185, 2)\n"
     ]
    }
   ],
   "source": [
    "sky_coordsn = read_labelled_coordinates(\"1_sky\", \"north\")\n",
    "clouds_coordsn = read_labelled_coordinates(\"2_clouds\", \"north\")\n",
    "veg_coordsn = read_labelled_coordinates(\"3_vegetation\", \"north\")\n",
    "wtr_coordsn = read_labelled_coordinates(\"4_water\", \"north\")\n",
    "blt_coordsn = read_labelled_coordinates(\"5_buildings\", \"north\")\n",
    "windows_coordsn = read_labelled_coordinates(\"6_windows\", \"north\")\n",
    "rds_coordsn = read_labelled_coordinates(\"7_roads\", \"north\")\n",
    "cars_coordsn = read_labelled_coordinates(\"8_cars\", \"north\")\n",
    "mtl_coordsn = read_labelled_coordinates(\"9_metal\", \"north\")"
   ]
  },
  {
   "cell_type": "markdown",
   "metadata": {},
   "source": [
    "#### split classified pixels into 80% training and 20% testing sets"
   ]
  },
  {
   "cell_type": "code",
   "execution_count": 29,
   "metadata": {},
   "outputs": [
    {
     "name": "stdout",
     "output_type": "stream",
     "text": [
      "sky: 240 60\n",
      "clouds: 160 40\n",
      "veg: 560 140\n",
      "wtr: 496 124\n",
      "blt: 1280 320\n",
      "windows: 480 120\n",
      "rds: 200 50\n",
      "cars: 200 50\n",
      "mtl: 148 37\n"
     ]
    }
   ],
   "source": [
    "trrat = 0.8\n",
    "sky_train_indn, sky_test_indn = split_train_test_indices(sky_coordsn, 100, trrat, \"sky\")\n",
    "clouds_train_indn, clouds_test_indn = split_train_test_indices(clouds_coordsn, 200, trrat, \"clouds\")\n",
    "veg_train_indn, veg_test_indn = split_train_test_indices(veg_coordsn, 300, trrat, \"veg\")\n",
    "wtr_train_indn, wtr_test_indn = split_train_test_indices(wtr_coordsn, 400, trrat, \"wtr\")\n",
    "blt_train_indn, blt_test_indn = split_train_test_indices(blt_coordsn, 500, trrat, \"blt\")\n",
    "windows_train_indn, windows_test_indn = split_train_test_indices(windows_coordsn, 600, trrat, \"windows\")\n",
    "rds_train_indn, rds_test_indn = split_train_test_indices(rds_coordsn, 700, trrat, \"rds\")\n",
    "cars_train_indn, cars_test_indn = split_train_test_indices(cars_coordsn, 800, trrat, \"cars\")\n",
    "mtl_train_indn, mtl_test_indn = split_train_test_indices(mtl_coordsn, 900, trrat, \"mtl\")"
   ]
  },
  {
   "cell_type": "code",
   "execution_count": 30,
   "metadata": {},
   "outputs": [
    {
     "name": "stdout",
     "output_type": "stream",
     "text": [
      "(1600, 1247, 872)\n"
     ]
    }
   ],
   "source": [
    "cube_stdn_3d = cube_standard_north.reshape(cube_sub_north.shape[1], cube_sub_north.shape[2], cube_sub_north.shape[0])\n",
    "print(cube_stdn_3d.shape)"
   ]
  },
  {
   "cell_type": "code",
   "execution_count": 31,
   "metadata": {},
   "outputs": [
    {
     "name": "stdout",
     "output_type": "stream",
     "text": [
      "sky  (240, 872) (60, 872)\n",
      "clouds  (160, 872) (40, 872)\n",
      "vegetation  (560, 872) (140, 872)\n",
      "water  (496, 872) (124, 872)\n",
      "built  (1280, 872) (320, 872)\n",
      "windows  (480, 872) (120, 872)\n",
      "roads  (200, 872) (50, 872)\n",
      "cars  (200, 872) (50, 872)\n",
      "metal  (148, 872) (37, 872)\n"
     ]
    }
   ],
   "source": [
    "cube_sky_trainn = cube_stdn_3d[sky_coordsn[sky_train_indn[:], 0], sky_coordsn[sky_train_indn[:], 1], :]\n",
    "cube_sky_testn = cube_stdn_3d[sky_coordsn[sky_test_indn[:], 0], sky_coordsn[sky_test_indn[:], 1], :]\n",
    "print(\"sky \", cube_sky_trainn.shape, cube_sky_testn.shape)\n",
    "\n",
    "cube_clouds_trainn = cube_stdn_3d[clouds_coordsn[clouds_train_indn[:], 0], clouds_coordsn[clouds_train_indn[:], 1], :]\n",
    "cube_clouds_testn = cube_stdn_3d[clouds_coordsn[clouds_test_indn[:], 0], clouds_coordsn[clouds_test_indn[:], 1], :]\n",
    "print(\"clouds \", cube_clouds_trainn.shape, cube_clouds_testn.shape)\n",
    "\n",
    "cube_veg_trainn = cube_stdn_3d[veg_coordsn[veg_train_indn[:], 0], veg_coordsn[veg_train_indn[:], 1], :]\n",
    "cube_veg_testn = cube_stdn_3d[veg_coordsn[veg_test_indn[:], 0], veg_coordsn[veg_test_indn[:], 1], :]\n",
    "print(\"vegetation \", cube_veg_trainn.shape, cube_veg_testn.shape)\n",
    "\n",
    "cube_wtr_trainn = cube_stdn_3d[wtr_coordsn[wtr_train_indn[:], 0], wtr_coordsn[wtr_train_indn[:], 1], :]\n",
    "cube_wtr_testn = cube_stdn_3d[wtr_coordsn[wtr_test_indn[:], 0], wtr_coordsn[wtr_test_indn[:], 1], :]\n",
    "print(\"water \", cube_wtr_trainn.shape, cube_wtr_testn.shape)\n",
    "\n",
    "cube_blt_trainn = cube_stdn_3d[blt_coordsn[blt_train_indn[:], 0], blt_coordsn[blt_train_indn[:], 1], :]\n",
    "cube_blt_testn = cube_stdn_3d[blt_coordsn[blt_test_indn[:], 0], blt_coordsn[blt_test_indn[:], 1], :]\n",
    "print(\"built \", cube_blt_trainn.shape, cube_blt_testn.shape)\n",
    "\n",
    "cube_windows_trainn = cube_stdn_3d[windows_coordsn[windows_train_indn[:],0], windows_coordsn[windows_train_indn[:],1],:]\n",
    "cube_windows_testn = cube_stdn_3d[windows_coordsn[windows_test_indn[:], 0], windows_coordsn[windows_test_indn[:], 1], :]\n",
    "print(\"windows \", cube_windows_trainn.shape, cube_windows_testn.shape)\n",
    "\n",
    "cube_rds_trainn = cube_stdn_3d[rds_coordsn[rds_train_indn[:], 0], rds_coordsn[rds_train_indn[:], 1], :]\n",
    "cube_rds_testn = cube_stdn_3d[rds_coordsn[rds_test_indn[:], 0], rds_coordsn[rds_test_indn[:], 1], :]\n",
    "print(\"roads \", cube_rds_trainn.shape, cube_rds_testn.shape)\n",
    "\n",
    "cube_cars_trainn = cube_stdn_3d[cars_coordsn[cars_train_indn[:], 0], cars_coordsn[cars_train_indn[:], 1], :]\n",
    "cube_cars_testn = cube_stdn_3d[cars_coordsn[cars_test_indn[:], 0], cars_coordsn[cars_test_indn[:], 1], :]\n",
    "print(\"cars \", cube_cars_trainn.shape, cube_cars_testn.shape)\n",
    "\n",
    "cube_mtl_trainn = cube_stdn_3d[mtl_coordsn[mtl_train_indn[:], 0], mtl_coordsn[mtl_train_indn[:], 1], :]\n",
    "cube_mtl_testn = cube_stdn_3d[mtl_coordsn[mtl_test_indn[:], 0], mtl_coordsn[mtl_test_indn[:], 1], :]\n",
    "print(\"metal \", cube_mtl_trainn.shape, cube_mtl_testn.shape)"
   ]
  },
  {
   "cell_type": "code",
   "execution_count": 32,
   "metadata": {},
   "outputs": [],
   "source": [
    "# concatenate training and testing sets and create index arrays\n",
    "\n",
    "cube_trainn = np.concatenate((cube_sky_trainn, cube_clouds_trainn, cube_veg_trainn, cube_wtr_trainn, cube_blt_trainn, \n",
    "                            cube_windows_trainn, cube_rds_trainn, cube_cars_trainn, cube_mtl_trainn), axis=0)\n",
    "cube_train_labelsn = [0]*cube_sky_trainn.shape[0] + [1]*cube_clouds_trainn.shape[0] \\\n",
    "                    + [2]*cube_veg_trainn.shape[0] + [3]*cube_wtr_trainn.shape[0] + [4]*cube_blt_trainn.shape[0] \\\n",
    "                    + [5]*cube_windows_trainn.shape[0] + [6]*cube_rds_trainn.shape[0] \\\n",
    "                    + [7]*cube_cars_trainn.shape[0] + [8]*cube_mtl_trainn.shape[0]\n",
    "\n",
    "cube_testn = np.concatenate((cube_sky_testn, cube_clouds_testn, cube_veg_testn, cube_wtr_testn, cube_blt_testn, \n",
    "                            cube_windows_testn, cube_rds_testn, cube_cars_testn, cube_mtl_testn), axis=0)\n",
    "cube_test_labelsn = [0]*cube_sky_testn.shape[0] + [1]*cube_clouds_testn.shape[0] \\\n",
    "                    + [2]*cube_veg_testn.shape[0] + [3]*cube_wtr_testn.shape[0] + [4]*cube_blt_testn.shape[0] \\\n",
    "                    + [5]*cube_windows_testn.shape[0] + [6]*cube_rds_testn.shape[0] \\\n",
    "                    + [7]*cube_cars_testn.shape[0] + [8]*cube_mtl_testn.shape[0]"
   ]
  },
  {
   "cell_type": "code",
   "execution_count": 33,
   "metadata": {},
   "outputs": [
    {
     "name": "stdout",
     "output_type": "stream",
     "text": [
      "(3764, 872) (3764,)\n",
      "(941, 872) (941,)\n"
     ]
    }
   ],
   "source": [
    "cube_train_labelsn = np.array(cube_train_labelsn)\n",
    "cube_test_labelsn = np.array(cube_test_labelsn)\n",
    "\n",
    "print(cube_trainn.shape, cube_train_labelsn.shape)\n",
    "print(cube_testn.shape, cube_test_labelsn.shape)"
   ]
  },
  {
   "cell_type": "markdown",
   "metadata": {},
   "source": [
    "#### Train CNN"
   ]
  },
  {
   "cell_type": "code",
   "execution_count": null,
   "metadata": {},
   "outputs": [],
   "source": [
    "cnnn = CNN_Model(cube_stdn_3d.shape[2])\n",
    "cnnn.compile(optimizer=\"adam\", loss=\"sparse_categorical_crossentropy\",\n",
    "             metrics=[\"accuracy\"])"
   ]
  },
  {
   "cell_type": "code",
   "execution_count": 34,
   "metadata": {},
   "outputs": [],
   "source": [
    "#keras.utils.plot_model(cnnn, show_shapes=True)\n",
    "#cnnn.summary()\n",
    "\n",
    "cube_trainn2 = cube_trainn.reshape(cube_trainn.shape[0], cube_trainn.shape[1], 1)\n",
    "cube_testn2 = cube_testn.reshape(cube_testn.shape[0], cube_testn.shape[1], 1)"
   ]
  },
  {
   "cell_type": "code",
   "execution_count": null,
   "metadata": {
    "scrolled": true
   },
   "outputs": [],
   "source": [
    "CNNmodeln = cnnn.fit({\"spectra\":cube_trainn2}, cube_train_labelsn, \n",
    "                     validation_data=({\"spectra\":cube_testn2}, cube_test_labelsn),\n",
    "                     epochs=200, batch_size=512)"
   ]
  },
  {
   "cell_type": "code",
   "execution_count": null,
   "metadata": {},
   "outputs": [],
   "source": [
    "plot_loss_history(CNNmodeln)"
   ]
  },
  {
   "cell_type": "code",
   "execution_count": null,
   "metadata": {
    "scrolled": true
   },
   "outputs": [],
   "source": [
    "CNNmodeln = cnnn.fit({\"spectra\":cube_trainn2}, cube_train_labelsn, \n",
    "                     validation_data=({\"spectra\":cube_testn2}, cube_test_labelsn),\n",
    "                     epochs=60, batch_size=512)"
   ]
  },
  {
   "cell_type": "code",
   "execution_count": null,
   "metadata": {},
   "outputs": [],
   "source": [
    "# model accuracy on training and testing sets\n",
    "\n",
    "train_loss, train_acc = cnnn.evaluate({\"spectra\":cube_trainn2}, cube_train_labelsn)\n",
    "test_loss, test_acc = cnnn.evaluate({\"spectra\":cube_testn2}, cube_test_labelsn)\n",
    "\n",
    "print(train_acc, test_acc)"
   ]
  },
  {
   "cell_type": "markdown",
   "metadata": {},
   "source": [
    "### Predict pixel classification on north facing image"
   ]
  },
  {
   "cell_type": "code",
   "execution_count": 35,
   "metadata": {},
   "outputs": [
    {
     "name": "stdout",
     "output_type": "stream",
     "text": [
      "(1995200, 872, 1)\n"
     ]
    }
   ],
   "source": [
    "cube_standardn_1 = cube_standard_north.reshape(cube_standard_north.shape[0], cube_standard_north.shape[1], 1)\n",
    "print(cube_standardn_1.shape)"
   ]
  },
  {
   "cell_type": "code",
   "execution_count": null,
   "metadata": {},
   "outputs": [],
   "source": [
    "# classify entire binned cube\n",
    "import time\n",
    "start_time = time.time()\n",
    "\n",
    "probCuben = cnnn.predict({\"spectra\":cube_standardn_1})\n",
    "\n",
    "elapsed_time = time.time() - start_time\n",
    "print(time.strftime(\"%H:%M:%S\", time.gmtime(elapsed_time)))"
   ]
  },
  {
   "cell_type": "code",
   "execution_count": null,
   "metadata": {},
   "outputs": [],
   "source": [
    "predictCuben = probCuben.argmax(axis=-1)"
   ]
  },
  {
   "cell_type": "code",
   "execution_count": null,
   "metadata": {},
   "outputs": [],
   "source": [
    "predictCube_reshapen = predictCuben.reshape(cube_sub_north.shape[1], cube_sub_north.shape[2])"
   ]
  },
  {
   "cell_type": "code",
   "execution_count": null,
   "metadata": {},
   "outputs": [],
   "source": [
    "import matplotlib.pyplot as plt\n",
    "import matplotlib.colors as ListedColorMap\n",
    "import matplotlib.patches as mpatches\n",
    "from matplotlib.ticker import NullFormatter\n",
    "%matplotlib inline\n",
    "\n",
    "cmap = {0:[0,0.32549,0.62353,1], 1:[0.93333,0.9098,0.77255,1], 2:[0,0.61961,0.45098,1],  3:[0.33725,0.70588,0.91373,1],\n",
    "        4:[0,0,0,1], 5:[1,0.82353,0,1], 6:[0.90196,0.62353,0,1], 7:[0.83529,0.36863,0,1],\n",
    "        8:[0.8,0.47451,0.65490,1]}\n",
    "labels = {0:'sky', 1:'clouds', 2:'vegetation', 3:'water', 4:'built',\n",
    "          5:'windows', 6:'roads', 7:'cars', 8:'metal'}\n",
    "arrayShow = np.array([[cmap[i] for i in j] for j in predictCube_reshapen])\n",
    "patches = [mpatches.Patch(color=cmap[i], label=labels[i]) for i in cmap]\n",
    "\n",
    "fig = plt.figure(figsize=(15,15))\n",
    "ax = fig.add_axes([0.1,0.1,0.9,0.9])\n",
    "ax.tick_params(labelsize=10)\n",
    "ax.imshow(arrayShow, aspect=0.4)\n",
    "lgd = ax.legend(handles=patches, bbox_to_anchor=(1,0.75), loc='upper left', borderaxespad=1.0, prop={'size':10}, ncol=1)\n",
    "plt.show()\n",
    "#fig.savefig(\"./plots/CNN_change_params_spatial_train_all_5_north_predict_map.png\", bbox_extra_artists=(lgd,), bbox_inches='tight')"
   ]
  },
  {
   "cell_type": "code",
   "execution_count": null,
   "metadata": {},
   "outputs": [],
   "source": [
    "import matplotlib.pyplot as plt\n",
    "import matplotlib.colors as ListedColorMap\n",
    "import matplotlib.patches as mpatches\n",
    "from matplotlib.ticker import NullFormatter\n",
    "%matplotlib inline\n",
    "\n",
    "cmap = {0:[0,0.32549,0.62353,1], 1:[0.93333,0.9098,0.77255,1], 2:[0,0.61961,0.45098,1],  3:[0.33725,0.70588,0.91373,1],\n",
    "        4:[0,0,0,1], 5:[1,0.82353,0,1], 6:[0.90196,0.62353,0,1], 7:[0.83529,0.36863,0,1],\n",
    "        8:[0.8,0.47451,0.65490,1]}\n",
    "labels = {0:'sky', 1:'clouds', 2:'vegetation', 3:'water', 4:'built',\n",
    "          5:'windows', 6:'roads', 7:'cars', 8:'metal'}\n",
    "arrayShow = np.array([[cmap[i] for i in j] for j in predictCube_reshapen])\n",
    "patches = [mpatches.Patch(color=cmap[i], label=labels[i]) for i in cmap]\n",
    "\n",
    "fig = plt.figure(figsize=(15,15))\n",
    "#ax = fig.add_axes([0.1,0.1,0.9,0.9])\n",
    "#ax.tick_params(labelsize=10)\n",
    "plt.imshow(arrayShow, aspect=0.4)\n",
    "#lgd = ax.legend(handles=patches, bbox_to_anchor=(1,0.75), loc='upper left', borderaxespad=1.0, prop={'size':10}, ncol=1)\n",
    "plt.axis('off')\n",
    "plt.show()\n",
    "fig.savefig(\"./plots/CNN_Model1_no_spatial_train_north_test_north_predict_map.png\", bbox_inches='tight', dpi=300)"
   ]
  },
  {
   "cell_type": "code",
   "execution_count": null,
   "metadata": {},
   "outputs": [],
   "source": [
    "import pickle\n",
    "pickle.dump(predictCube_reshapen, open(\"./plots/CNN_Model1_no_spatial_train_north_test_north_predict_map.pickle\", \"wb\"))"
   ]
  },
  {
   "cell_type": "markdown",
   "metadata": {},
   "source": [
    "### Evaluation Metrics (north facing)"
   ]
  },
  {
   "cell_type": "code",
   "execution_count": null,
   "metadata": {},
   "outputs": [],
   "source": [
    "labelsn_pred_sky = predictCube_reshapen[sky_coordsn[sky_test_indn[:], 0], sky_coordsn[sky_test_indn[:], 1]]\n",
    "labelsn_pred_clouds = predictCube_reshapen[clouds_coordsn[clouds_test_indn[:], 0], clouds_coordsn[clouds_test_indn[:],1]]\n",
    "labelsn_pred_veg = predictCube_reshapen[veg_coordsn[veg_test_indn[:],0], veg_coordsn[veg_test_indn[:],1]]\n",
    "labelsn_pred_wtr = predictCube_reshapen[wtr_coordsn[wtr_test_indn[:],0], wtr_coordsn[wtr_test_indn[:],1]]\n",
    "labelsn_pred_blt = predictCube_reshapen[blt_coordsn[blt_test_indn[:],0], blt_coordsn[blt_test_indn[:],1]]\n",
    "labelsn_pred_windows = predictCube_reshapen[windows_coordsn[windows_test_indn[:],0], windows_coordsn[windows_test_indn[:],1]]\n",
    "labelsn_pred_rds = predictCube_reshapen[rds_coordsn[rds_test_indn[:],0], rds_coordsn[rds_test_indn[:],1]]\n",
    "labelsn_pred_cars = predictCube_reshapen[cars_coordsn[cars_test_indn[:],0], cars_coordsn[cars_test_indn[:],1]]\n",
    "labelsn_pred_mtl = predictCube_reshapen[mtl_coordsn[mtl_test_indn[:],0], mtl_coordsn[mtl_test_indn[:],1]]\n",
    "\n",
    "labelsn_pred = np.concatenate((labelsn_pred_sky, labelsn_pred_clouds, labelsn_pred_veg, labelsn_pred_wtr, \n",
    "                             labelsn_pred_blt, labelsn_pred_windows, labelsn_pred_rds, labelsn_pred_cars, labelsn_pred_mtl))"
   ]
  },
  {
   "cell_type": "code",
   "execution_count": null,
   "metadata": {},
   "outputs": [],
   "source": [
    "labelsn_true_sky = np.full(len(sky_test_indn), 0)\n",
    "labelsn_true_clouds = np.full(len(clouds_test_indn), 1)\n",
    "labelsn_true_veg = np.full(len(veg_test_indn), 2)\n",
    "labelsn_true_wtr = np.full(len(wtr_test_indn), 3)\n",
    "labelsn_true_blt = np.full(len(blt_test_indn), 4)\n",
    "labelsn_true_windows = np.full(len(windows_test_indn), 5)\n",
    "labelsn_true_rds = np.full(len(rds_test_indn), 6)\n",
    "labelsn_true_cars = np.full(len(cars_test_indn), 7)\n",
    "labelsn_true_mtl = np.full(len(mtl_test_indn), 8)\n",
    "\n",
    "labelsn_true = np.concatenate((labelsn_true_sky, labelsn_true_clouds, labelsn_true_veg, labelsn_true_wtr, \n",
    "                             labelsn_true_blt, labelsn_true_windows, labelsn_true_rds, labelsn_true_cars, labelsn_true_mtl))"
   ]
  },
  {
   "cell_type": "code",
   "execution_count": null,
   "metadata": {},
   "outputs": [],
   "source": [
    "print(labelsn_pred.shape)\n",
    "print(labelsn_true.shape)"
   ]
  },
  {
   "cell_type": "code",
   "execution_count": null,
   "metadata": {},
   "outputs": [],
   "source": [
    "from sklearn import metrics\n",
    "\n",
    "print(\"Confusion Matrix\")\n",
    "print(metrics.confusion_matrix(labelsn_true, labelsn_pred))\n",
    "\n",
    "print(\"\")\n",
    "print(\"Accuracy Score\")\n",
    "print(metrics.accuracy_score(labelsn_true, labelsn_pred))\n",
    "\n",
    "target_names = ['sky', 'clouds', 'vegetation', 'water', 'built', 'windows', 'roads', 'cars', 'metal']\n",
    "print(\"\")\n",
    "print(\"Classification Report\")\n",
    "print(metrics.classification_report(labelsn_true, labelsn_pred, target_names=target_names))"
   ]
  },
  {
   "cell_type": "code",
   "execution_count": null,
   "metadata": {},
   "outputs": [],
   "source": [
    "f = open(\"./metrics/CNN_Model1_no_spatial_train_north_test_north_metrics.txt\", \"w\")\n",
    "f.write(\"Confusion Matrix\")\n",
    "f.write('\\n')\n",
    "f.write(str(metrics.confusion_matrix(labelsn_true, labelsn_pred)))\n",
    "f.write('\\n')\n",
    "f.write('\\n')\n",
    "f.write(\"Accuracy Score\")\n",
    "f.write('\\n')\n",
    "f.write(str(metrics.accuracy_score(labelsn_true, labelsn_pred)))\n",
    "target_names = ['sky', 'clouds', 'vegetation', 'water', 'built', 'windows', 'roads', 'cars', 'metal']\n",
    "f.write('\\n')\n",
    "f.write('\\n')\n",
    "f.write(\"Classification Report\")\n",
    "f.write('\\n')\n",
    "f.write(metrics.classification_report(labelsn_true, labelsn_pred, target_names=target_names))\n",
    "f.close()"
   ]
  },
  {
   "cell_type": "markdown",
   "metadata": {},
   "source": [
    "## CNN on veg_00108 (South Facing @ ~2pm)"
   ]
  },
  {
   "cell_type": "code",
   "execution_count": 36,
   "metadata": {},
   "outputs": [
    {
     "name": "stdout",
     "output_type": "stream",
     "text": [
      "reading and parsing ../../image_files/veg_00108.hdr...\n",
      "reading ../../image_files/veg_00108.raw...\n"
     ]
    }
   ],
   "source": [
    "fname = \"../../image_files/veg_00108.raw\"\n",
    "cube = read_hyper(fname)"
   ]
  },
  {
   "cell_type": "code",
   "execution_count": 37,
   "metadata": {},
   "outputs": [
    {
     "name": "stdout",
     "output_type": "stream",
     "text": [
      "(848, 1600, 1600)\n"
     ]
    }
   ],
   "source": [
    "cube_sub = cube.data[:, :, :].astype(float)\n",
    "print(cube_sub.shape)"
   ]
  },
  {
   "cell_type": "code",
   "execution_count": 38,
   "metadata": {},
   "outputs": [
    {
     "name": "stdout",
     "output_type": "stream",
     "text": [
      "(2560000, 848)\n"
     ]
    }
   ],
   "source": [
    "cube_reshaped = cube_sub.transpose(1, 2, 0).reshape((cube_sub.shape[1] * cube_sub.shape[2]), cube_sub.shape[0])\n",
    "print(cube_reshaped.shape)"
   ]
  },
  {
   "cell_type": "code",
   "execution_count": null,
   "metadata": {},
   "outputs": [],
   "source": [
    "cube_norm = (cube_reshaped - cube_reshaped.min()) / (cube_reshaped.max() - cube_reshaped.min())\n",
    "\n",
    "import matplotlib.pyplot as plt\n",
    "%matplotlib inline\n",
    "\n",
    "red_ind = (np.abs(cube.waves - 650.0)).argmin()\n",
    "green_ind = (np.abs(cube.waves - 550.0)).argmin()\n",
    "blue_ind = (np.abs(cube.waves - 450.0)).argmin()\n",
    "\n",
    "cube_reshaped2 = cube_norm.reshape(cube_sub.shape[1], cube_sub.shape[2], cube_sub.shape[0])\n",
    "cube_scene = cube_reshaped2[:, :, [red_ind, green_ind, blue_ind]]\n",
    "fig, ax = plt.subplots(figsize=(10,10))\n",
    "plt.title('veg_00108 RGB Image')\n",
    "ax.imshow(cube_scene, aspect=0.5)\n",
    "plt.show()"
   ]
  },
  {
   "cell_type": "code",
   "execution_count": 39,
   "metadata": {},
   "outputs": [
    {
     "name": "stdout",
     "output_type": "stream",
     "text": [
      "(2560000, 848)\n"
     ]
    }
   ],
   "source": [
    "cube_standard = (cube_reshaped - cube_reshaped.mean(1, keepdims=True)) / cube_reshaped.std(1, keepdims=True)\n",
    "print(cube_standard.shape)"
   ]
  },
  {
   "cell_type": "markdown",
   "metadata": {},
   "source": [
    "#### Reading manually classified set for training and testing"
   ]
  },
  {
   "cell_type": "code",
   "execution_count": 40,
   "metadata": {},
   "outputs": [
    {
     "name": "stdout",
     "output_type": "stream",
     "text": [
      "1_sky: (300, 2)\n",
      "2_clouds: (500, 2)\n",
      "3_vegetation: (600, 2)\n",
      "4_water: (50, 2)\n",
      "5_buildings: (1020, 2)\n",
      "6_windows: (500, 2)\n",
      "7_roads: (30, 2)\n",
      "8_cars: (100, 2)\n",
      "9_metal: (100, 2)\n"
     ]
    }
   ],
   "source": [
    "sky_coords = read_labelled_coordinates(\"1_sky\", \"108\")\n",
    "clouds_coords = read_labelled_coordinates(\"2_clouds\", \"108\")\n",
    "veg_coords = read_labelled_coordinates(\"3_vegetation\", \"108\")\n",
    "wtr_coords = read_labelled_coordinates(\"4_water\", \"108\")\n",
    "blt_coords = read_labelled_coordinates(\"5_buildings\", \"108\")\n",
    "windows_coords = read_labelled_coordinates(\"6_windows\", \"108\")\n",
    "rds_coords = read_labelled_coordinates(\"7_roads\", \"108\")\n",
    "cars_coords = read_labelled_coordinates(\"8_cars\", \"108\")\n",
    "mtl_coords = read_labelled_coordinates(\"9_metal\", \"108\")"
   ]
  },
  {
   "cell_type": "markdown",
   "metadata": {},
   "source": [
    "#### split classified pixels into 80% training and 20% testing sets"
   ]
  },
  {
   "cell_type": "code",
   "execution_count": 41,
   "metadata": {},
   "outputs": [
    {
     "name": "stdout",
     "output_type": "stream",
     "text": [
      "sky: 240 60\n",
      "clouds: 400 100\n",
      "veg: 480 120\n",
      "wtr: 40 10\n",
      "blt: 816 204\n",
      "windows: 400 100\n",
      "rds: 24 6\n",
      "cars: 80 20\n",
      "mtl: 80 20\n"
     ]
    }
   ],
   "source": [
    "trrat = 0.8\n",
    "sky_train_ind, sky_test_ind = split_train_test_indices(sky_coords, 0, trrat, \"sky\")\n",
    "clouds_train_ind, clouds_test_ind = split_train_test_indices(clouds_coords, 1, trrat, \"clouds\")\n",
    "veg_train_ind, veg_test_ind = split_train_test_indices(veg_coords, 2, trrat, \"veg\")\n",
    "wtr_train_ind, wtr_test_ind = split_train_test_indices(wtr_coords, 3, trrat, \"wtr\")\n",
    "blt_train_ind, blt_test_ind = split_train_test_indices(blt_coords, 4, trrat, \"blt\")\n",
    "windows_train_ind, windows_test_ind = split_train_test_indices(windows_coords, 5, trrat, \"windows\")\n",
    "rds_train_ind, rds_test_ind = split_train_test_indices(rds_coords, 6, trrat, \"rds\")\n",
    "cars_train_ind, cars_test_ind = split_train_test_indices(cars_coords, 7, trrat, \"cars\")\n",
    "mtl_train_ind, mtl_test_ind = split_train_test_indices(mtl_coords, 8, trrat, \"mtl\")"
   ]
  },
  {
   "cell_type": "code",
   "execution_count": 42,
   "metadata": {},
   "outputs": [
    {
     "name": "stdout",
     "output_type": "stream",
     "text": [
      "(1600, 1600, 848)\n"
     ]
    }
   ],
   "source": [
    "cube_std_3d = cube_standard.reshape(cube_sub.shape[1], cube_sub.shape[2], cube_sub.shape[0])\n",
    "print(cube_std_3d.shape)"
   ]
  },
  {
   "cell_type": "code",
   "execution_count": 43,
   "metadata": {},
   "outputs": [
    {
     "name": "stdout",
     "output_type": "stream",
     "text": [
      "sky  (240, 848) (60, 848)\n",
      "clouds  (400, 848) (100, 848)\n",
      "vegetation  (480, 848) (120, 848)\n",
      "water  (40, 848) (10, 848)\n",
      "built  (816, 848) (204, 848)\n",
      "windows  (400, 848) (100, 848)\n",
      "roads  (24, 848) (6, 848)\n",
      "cars  (80, 848) (20, 848)\n",
      "metal  (80, 848) (20, 848)\n"
     ]
    }
   ],
   "source": [
    "cube_sky_train = cube_std_3d[sky_coords[sky_train_ind[:], 0], sky_coords[sky_train_ind[:], 1], :]\n",
    "cube_sky_test = cube_std_3d[sky_coords[sky_test_ind[:], 0], sky_coords[sky_test_ind[:], 1], :]\n",
    "print(\"sky \", cube_sky_train.shape, cube_sky_test.shape)\n",
    "\n",
    "cube_clouds_train = cube_std_3d[clouds_coords[clouds_train_ind[:], 0], clouds_coords[clouds_train_ind[:], 1], :]\n",
    "cube_clouds_test = cube_std_3d[clouds_coords[clouds_test_ind[:], 0], clouds_coords[clouds_test_ind[:], 1], :]\n",
    "print(\"clouds \", cube_clouds_train.shape, cube_clouds_test.shape)\n",
    "\n",
    "cube_veg_train = cube_std_3d[veg_coords[veg_train_ind[:], 0], veg_coords[veg_train_ind[:], 1], :]\n",
    "cube_veg_test = cube_std_3d[veg_coords[veg_test_ind[:], 0], veg_coords[veg_test_ind[:], 1], :]\n",
    "print(\"vegetation \", cube_veg_train.shape, cube_veg_test.shape)\n",
    "\n",
    "cube_wtr_train = cube_std_3d[wtr_coords[wtr_train_ind[:], 0], wtr_coords[wtr_train_ind[:], 1], :]\n",
    "cube_wtr_test = cube_std_3d[wtr_coords[wtr_test_ind[:], 0], wtr_coords[wtr_test_ind[:], 1], :]\n",
    "print(\"water \", cube_wtr_train.shape, cube_wtr_test.shape)\n",
    "\n",
    "cube_blt_train = cube_std_3d[blt_coords[blt_train_ind[:], 0], blt_coords[blt_train_ind[:], 1], :]\n",
    "cube_blt_test = cube_std_3d[blt_coords[blt_test_ind[:], 0], blt_coords[blt_test_ind[:], 1], :]\n",
    "print(\"built \", cube_blt_train.shape, cube_blt_test.shape)\n",
    "\n",
    "cube_windows_train = cube_std_3d[windows_coords[windows_train_ind[:],0], windows_coords[windows_train_ind[:],1],:]\n",
    "cube_windows_test = cube_std_3d[windows_coords[windows_test_ind[:], 0], windows_coords[windows_test_ind[:], 1], :]\n",
    "print(\"windows \", cube_windows_train.shape, cube_windows_test.shape)\n",
    "\n",
    "cube_rds_train = cube_std_3d[rds_coords[rds_train_ind[:], 0], rds_coords[rds_train_ind[:], 1], :]\n",
    "cube_rds_test = cube_std_3d[rds_coords[rds_test_ind[:], 0], rds_coords[rds_test_ind[:], 1], :]\n",
    "print(\"roads \", cube_rds_train.shape, cube_rds_test.shape)\n",
    "\n",
    "cube_cars_train = cube_std_3d[cars_coords[cars_train_ind[:], 0], cars_coords[cars_train_ind[:], 1], :]\n",
    "cube_cars_test = cube_std_3d[cars_coords[cars_test_ind[:], 0], cars_coords[cars_test_ind[:], 1], :]\n",
    "print(\"cars \", cube_cars_train.shape, cube_cars_test.shape)\n",
    "\n",
    "cube_mtl_train = cube_std_3d[mtl_coords[mtl_train_ind[:], 0], mtl_coords[mtl_train_ind[:], 1], :]\n",
    "cube_mtl_test = cube_std_3d[mtl_coords[mtl_test_ind[:], 0], mtl_coords[mtl_test_ind[:], 1], :]\n",
    "print(\"metal \", cube_mtl_train.shape, cube_mtl_test.shape)"
   ]
  },
  {
   "cell_type": "code",
   "execution_count": 44,
   "metadata": {},
   "outputs": [],
   "source": [
    "# concatenate training and testing sets and create index arrays\n",
    "\n",
    "cube_train = np.concatenate((cube_sky_train, cube_clouds_train, cube_veg_train, cube_wtr_train, cube_blt_train,\n",
    "                            cube_windows_train, cube_rds_train, cube_cars_train, cube_mtl_train), axis=0)\n",
    "cube_train_labels = [0]*cube_sky_train.shape[0] + [1]*cube_clouds_train.shape[0] \\\n",
    "                    + [2]*cube_veg_train.shape[0] + [3]*cube_wtr_train.shape[0] \\\n",
    "                    + [4]*cube_blt_train.shape[0] + [5]*cube_windows_train.shape[0] \\\n",
    "                    + [6]*cube_rds_train.shape[0] + [7]*cube_cars_train.shape[0] + [8]*cube_mtl_train.shape[0]\n",
    "\n",
    "cube_test = np.concatenate((cube_sky_test, cube_clouds_test, cube_veg_test, cube_wtr_test, cube_blt_test,\n",
    "                            cube_windows_test, cube_rds_test, cube_cars_test, cube_mtl_test), axis=0)\n",
    "cube_test_labels = [0]*cube_sky_test.shape[0] + [1]*cube_clouds_test.shape[0] \\\n",
    "                    + [2]*cube_veg_test.shape[0] + [3]*cube_wtr_test.shape[0] \\\n",
    "                    + [4]*cube_blt_test.shape[0] + [5]*cube_windows_test.shape[0] \\\n",
    "                    + [6]*cube_rds_test.shape[0] + [7]*cube_cars_test.shape[0] + [8]*cube_mtl_test.shape[0]"
   ]
  },
  {
   "cell_type": "code",
   "execution_count": 45,
   "metadata": {},
   "outputs": [
    {
     "name": "stdout",
     "output_type": "stream",
     "text": [
      "(2560, 848) (2560,)\n",
      "(640, 848) (640,)\n"
     ]
    }
   ],
   "source": [
    "cube_train_labels = np.array(cube_train_labels)\n",
    "cube_test_labels = np.array(cube_test_labels)\n",
    "\n",
    "print(cube_train.shape, cube_train_labels.shape)\n",
    "print(cube_test.shape, cube_test_labels.shape)"
   ]
  },
  {
   "cell_type": "markdown",
   "metadata": {},
   "source": [
    "### Train CNN"
   ]
  },
  {
   "cell_type": "code",
   "execution_count": 46,
   "metadata": {},
   "outputs": [],
   "source": [
    "cnn = CNN_Model(cube_std_3d.shape[2])\n",
    "cnn.compile(optimizer=\"adam\", loss=\"sparse_categorical_crossentropy\",\n",
    "             metrics=[\"accuracy\"])"
   ]
  },
  {
   "cell_type": "code",
   "execution_count": 47,
   "metadata": {},
   "outputs": [],
   "source": [
    "#keras.utils.plot_model(cnn, show_shapes=True)\n",
    "#cnn.summary()\n",
    "\n",
    "cube_train2 = cube_train.reshape(cube_train.shape[0], cube_train.shape[1], 1)\n",
    "cube_test2 = cube_test.reshape(cube_test.shape[0], cube_test.shape[1], 1)"
   ]
  },
  {
   "cell_type": "code",
   "execution_count": 48,
   "metadata": {
    "scrolled": true
   },
   "outputs": [
    {
     "name": "stdout",
     "output_type": "stream",
     "text": [
      "Epoch 1/200\n",
      "5/5 [==============================] - 1s 277ms/step - loss: 3.0447 - accuracy: 0.3613 - val_loss: 1.7290 - val_accuracy: 0.4156\n",
      "Epoch 2/200\n",
      "5/5 [==============================] - 1s 227ms/step - loss: 1.3349 - accuracy: 0.5258 - val_loss: 1.2106 - val_accuracy: 0.5141\n",
      "Epoch 3/200\n",
      "5/5 [==============================] - 1s 232ms/step - loss: 1.1269 - accuracy: 0.6598 - val_loss: 0.9581 - val_accuracy: 0.7750\n",
      "Epoch 4/200\n",
      "5/5 [==============================] - 1s 227ms/step - loss: 0.8899 - accuracy: 0.7543 - val_loss: 0.7920 - val_accuracy: 0.7625\n",
      "Epoch 5/200\n",
      "5/5 [==============================] - 2s 329ms/step - loss: 0.7540 - accuracy: 0.7855 - val_loss: 0.6624 - val_accuracy: 0.7766\n",
      "Epoch 6/200\n",
      "5/5 [==============================] - 1s 257ms/step - loss: 0.6356 - accuracy: 0.7965 - val_loss: 0.5681 - val_accuracy: 0.8687\n",
      "Epoch 7/200\n",
      "5/5 [==============================] - 1s 250ms/step - loss: 0.5556 - accuracy: 0.8609 - val_loss: 0.5103 - val_accuracy: 0.8719\n",
      "Epoch 8/200\n",
      "5/5 [==============================] - 1s 228ms/step - loss: 0.4926 - accuracy: 0.8652 - val_loss: 0.4588 - val_accuracy: 0.8734\n",
      "Epoch 9/200\n",
      "5/5 [==============================] - 1s 254ms/step - loss: 0.4473 - accuracy: 0.8738 - val_loss: 0.4201 - val_accuracy: 0.8906\n",
      "Epoch 10/200\n",
      "5/5 [==============================] - 1s 261ms/step - loss: 0.4188 - accuracy: 0.8766 - val_loss: 0.4099 - val_accuracy: 0.8781\n",
      "Epoch 11/200\n",
      "5/5 [==============================] - 1s 266ms/step - loss: 0.3947 - accuracy: 0.8824 - val_loss: 0.3790 - val_accuracy: 0.8953\n",
      "Epoch 12/200\n",
      "5/5 [==============================] - 1s 243ms/step - loss: 0.3771 - accuracy: 0.8863 - val_loss: 0.3659 - val_accuracy: 0.8969\n",
      "Epoch 13/200\n",
      "5/5 [==============================] - 1s 242ms/step - loss: 0.3483 - accuracy: 0.8918 - val_loss: 0.3486 - val_accuracy: 0.8969\n",
      "Epoch 14/200\n",
      "5/5 [==============================] - 1s 238ms/step - loss: 0.3362 - accuracy: 0.8953 - val_loss: 0.3403 - val_accuracy: 0.8969\n",
      "Epoch 15/200\n",
      "5/5 [==============================] - 1s 225ms/step - loss: 0.3370 - accuracy: 0.8914 - val_loss: 0.3284 - val_accuracy: 0.9000\n",
      "Epoch 16/200\n",
      "5/5 [==============================] - 1s 276ms/step - loss: 0.3161 - accuracy: 0.8953 - val_loss: 0.3209 - val_accuracy: 0.9000\n",
      "Epoch 17/200\n",
      "5/5 [==============================] - 1s 234ms/step - loss: 0.3122 - accuracy: 0.9016 - val_loss: 0.3388 - val_accuracy: 0.9016\n",
      "Epoch 18/200\n",
      "5/5 [==============================] - 1s 249ms/step - loss: 0.3064 - accuracy: 0.9035 - val_loss: 0.3052 - val_accuracy: 0.9000\n",
      "Epoch 19/200\n",
      "5/5 [==============================] - 1s 235ms/step - loss: 0.2927 - accuracy: 0.8996 - val_loss: 0.3062 - val_accuracy: 0.9031\n",
      "Epoch 20/200\n",
      "5/5 [==============================] - 1s 234ms/step - loss: 0.2912 - accuracy: 0.9004 - val_loss: 0.3004 - val_accuracy: 0.9062\n",
      "Epoch 21/200\n",
      "5/5 [==============================] - 1s 224ms/step - loss: 0.2838 - accuracy: 0.9082 - val_loss: 0.2936 - val_accuracy: 0.9000\n",
      "Epoch 22/200\n",
      "5/5 [==============================] - 1s 233ms/step - loss: 0.2756 - accuracy: 0.9121 - val_loss: 0.3128 - val_accuracy: 0.9031\n",
      "Epoch 23/200\n",
      "5/5 [==============================] - 1s 228ms/step - loss: 0.2862 - accuracy: 0.9078 - val_loss: 0.2915 - val_accuracy: 0.9141\n",
      "Epoch 24/200\n",
      "5/5 [==============================] - 1s 237ms/step - loss: 0.2734 - accuracy: 0.9133 - val_loss: 0.2916 - val_accuracy: 0.9094\n",
      "Epoch 25/200\n",
      "5/5 [==============================] - 1s 253ms/step - loss: 0.2530 - accuracy: 0.9105 - val_loss: 0.2867 - val_accuracy: 0.8844\n",
      "Epoch 26/200\n",
      "5/5 [==============================] - 1s 216ms/step - loss: 0.2456 - accuracy: 0.9168 - val_loss: 0.2727 - val_accuracy: 0.9125\n",
      "Epoch 27/200\n",
      "5/5 [==============================] - 1s 221ms/step - loss: 0.2421 - accuracy: 0.9191 - val_loss: 0.2616 - val_accuracy: 0.8969\n",
      "Epoch 28/200\n",
      "5/5 [==============================] - 1s 239ms/step - loss: 0.2268 - accuracy: 0.9195 - val_loss: 0.2703 - val_accuracy: 0.9047\n",
      "Epoch 29/200\n",
      "5/5 [==============================] - 1s 230ms/step - loss: 0.2471 - accuracy: 0.9160 - val_loss: 0.2502 - val_accuracy: 0.9062\n",
      "Epoch 30/200\n",
      "5/5 [==============================] - 1s 240ms/step - loss: 0.2258 - accuracy: 0.9258 - val_loss: 0.2451 - val_accuracy: 0.9125\n",
      "Epoch 31/200\n",
      "5/5 [==============================] - 1s 244ms/step - loss: 0.2354 - accuracy: 0.9211 - val_loss: 0.2399 - val_accuracy: 0.9094\n",
      "Epoch 32/200\n",
      "5/5 [==============================] - 1s 260ms/step - loss: 0.2096 - accuracy: 0.9312 - val_loss: 0.2344 - val_accuracy: 0.9141\n",
      "Epoch 33/200\n",
      "5/5 [==============================] - 1s 255ms/step - loss: 0.2070 - accuracy: 0.9293 - val_loss: 0.2379 - val_accuracy: 0.9062\n",
      "Epoch 34/200\n",
      "5/5 [==============================] - 1s 253ms/step - loss: 0.2134 - accuracy: 0.9305 - val_loss: 0.2392 - val_accuracy: 0.9062\n",
      "Epoch 35/200\n",
      "5/5 [==============================] - 1s 263ms/step - loss: 0.1952 - accuracy: 0.9270 - val_loss: 0.2273 - val_accuracy: 0.9109\n",
      "Epoch 36/200\n",
      "5/5 [==============================] - 1s 247ms/step - loss: 0.1965 - accuracy: 0.9359 - val_loss: 0.2277 - val_accuracy: 0.9094\n",
      "Epoch 37/200\n",
      "5/5 [==============================] - 1s 254ms/step - loss: 0.1890 - accuracy: 0.9355 - val_loss: 0.2231 - val_accuracy: 0.9141\n",
      "Epoch 38/200\n",
      "5/5 [==============================] - 1s 230ms/step - loss: 0.1847 - accuracy: 0.9348 - val_loss: 0.2304 - val_accuracy: 0.9187\n",
      "Epoch 39/200\n",
      "5/5 [==============================] - 1s 228ms/step - loss: 0.1845 - accuracy: 0.9395 - val_loss: 0.2177 - val_accuracy: 0.9297\n",
      "Epoch 40/200\n",
      "5/5 [==============================] - 1s 240ms/step - loss: 0.1768 - accuracy: 0.9352 - val_loss: 0.2169 - val_accuracy: 0.9187\n",
      "Epoch 41/200\n",
      "5/5 [==============================] - 1s 260ms/step - loss: 0.1785 - accuracy: 0.9418 - val_loss: 0.2127 - val_accuracy: 0.9125\n",
      "Epoch 42/200\n",
      "5/5 [==============================] - 1s 233ms/step - loss: 0.1684 - accuracy: 0.9363 - val_loss: 0.2089 - val_accuracy: 0.9281\n",
      "Epoch 43/200\n",
      "5/5 [==============================] - 1s 246ms/step - loss: 0.1803 - accuracy: 0.9395 - val_loss: 0.2184 - val_accuracy: 0.9234\n",
      "Epoch 44/200\n",
      "5/5 [==============================] - 1s 217ms/step - loss: 0.1693 - accuracy: 0.9457 - val_loss: 0.2472 - val_accuracy: 0.9250\n",
      "Epoch 45/200\n",
      "5/5 [==============================] - 1s 223ms/step - loss: 0.1723 - accuracy: 0.9406 - val_loss: 0.2037 - val_accuracy: 0.9328\n",
      "Epoch 46/200\n",
      "5/5 [==============================] - 1s 232ms/step - loss: 0.1602 - accuracy: 0.9508 - val_loss: 0.2025 - val_accuracy: 0.9328\n",
      "Epoch 47/200\n",
      "5/5 [==============================] - 1s 238ms/step - loss: 0.1607 - accuracy: 0.9418 - val_loss: 0.2032 - val_accuracy: 0.9250\n",
      "Epoch 48/200\n",
      "5/5 [==============================] - 1s 229ms/step - loss: 0.1558 - accuracy: 0.9449 - val_loss: 0.2198 - val_accuracy: 0.9359\n",
      "Epoch 49/200\n",
      "5/5 [==============================] - 1s 233ms/step - loss: 0.1607 - accuracy: 0.9445 - val_loss: 0.2140 - val_accuracy: 0.9172\n",
      "Epoch 50/200\n",
      "5/5 [==============================] - 1s 229ms/step - loss: 0.1531 - accuracy: 0.9473 - val_loss: 0.2077 - val_accuracy: 0.9266\n",
      "Epoch 51/200\n",
      "5/5 [==============================] - 1s 238ms/step - loss: 0.1513 - accuracy: 0.9453 - val_loss: 0.1923 - val_accuracy: 0.9328\n",
      "Epoch 52/200\n",
      "5/5 [==============================] - 1s 232ms/step - loss: 0.1482 - accuracy: 0.9504 - val_loss: 0.1994 - val_accuracy: 0.9312\n",
      "Epoch 53/200\n",
      "5/5 [==============================] - 1s 263ms/step - loss: 0.1476 - accuracy: 0.9496 - val_loss: 0.1967 - val_accuracy: 0.9234\n",
      "Epoch 54/200\n",
      "5/5 [==============================] - 1s 231ms/step - loss: 0.1485 - accuracy: 0.9496 - val_loss: 0.2091 - val_accuracy: 0.9328\n",
      "Epoch 55/200\n",
      "5/5 [==============================] - 1s 241ms/step - loss: 0.1511 - accuracy: 0.9469 - val_loss: 0.2015 - val_accuracy: 0.9375\n",
      "Epoch 56/200\n",
      "5/5 [==============================] - 1s 230ms/step - loss: 0.1410 - accuracy: 0.9520 - val_loss: 0.2019 - val_accuracy: 0.9266\n",
      "Epoch 57/200\n",
      "5/5 [==============================] - 1s 234ms/step - loss: 0.1394 - accuracy: 0.9547 - val_loss: 0.2086 - val_accuracy: 0.9281\n",
      "Epoch 58/200\n",
      "5/5 [==============================] - 1s 233ms/step - loss: 0.1358 - accuracy: 0.9508 - val_loss: 0.1878 - val_accuracy: 0.9391\n"
     ]
    },
    {
     "name": "stdout",
     "output_type": "stream",
     "text": [
      "Epoch 59/200\n",
      "5/5 [==============================] - 1s 251ms/step - loss: 0.1308 - accuracy: 0.9551 - val_loss: 0.2040 - val_accuracy: 0.9203\n",
      "Epoch 60/200\n",
      "5/5 [==============================] - 1s 240ms/step - loss: 0.1293 - accuracy: 0.9582 - val_loss: 0.2024 - val_accuracy: 0.9266\n",
      "Epoch 61/200\n",
      "5/5 [==============================] - 1s 235ms/step - loss: 0.1394 - accuracy: 0.9563 - val_loss: 0.1993 - val_accuracy: 0.9203\n",
      "Epoch 62/200\n",
      "5/5 [==============================] - 1s 235ms/step - loss: 0.1388 - accuracy: 0.9508 - val_loss: 0.2075 - val_accuracy: 0.9203\n",
      "Epoch 63/200\n",
      "5/5 [==============================] - 1s 228ms/step - loss: 0.1229 - accuracy: 0.9613 - val_loss: 0.2028 - val_accuracy: 0.9187\n",
      "Epoch 64/200\n",
      "5/5 [==============================] - 1s 246ms/step - loss: 0.1337 - accuracy: 0.9563 - val_loss: 0.1795 - val_accuracy: 0.9375\n",
      "Epoch 65/200\n",
      "5/5 [==============================] - 1s 250ms/step - loss: 0.1202 - accuracy: 0.9570 - val_loss: 0.1984 - val_accuracy: 0.9391\n",
      "Epoch 66/200\n",
      "5/5 [==============================] - 1s 233ms/step - loss: 0.1313 - accuracy: 0.9578 - val_loss: 0.1831 - val_accuracy: 0.9422\n",
      "Epoch 67/200\n",
      "5/5 [==============================] - 1s 238ms/step - loss: 0.1190 - accuracy: 0.9605 - val_loss: 0.1998 - val_accuracy: 0.9375\n",
      "Epoch 68/200\n",
      "5/5 [==============================] - 1s 232ms/step - loss: 0.1130 - accuracy: 0.9660 - val_loss: 0.1871 - val_accuracy: 0.9328\n",
      "Epoch 69/200\n",
      "5/5 [==============================] - 1s 229ms/step - loss: 0.1088 - accuracy: 0.9625 - val_loss: 0.1841 - val_accuracy: 0.9344\n",
      "Epoch 70/200\n",
      "5/5 [==============================] - 1s 235ms/step - loss: 0.1048 - accuracy: 0.9676 - val_loss: 0.1865 - val_accuracy: 0.9281\n",
      "Epoch 71/200\n",
      "5/5 [==============================] - 1s 254ms/step - loss: 0.1123 - accuracy: 0.9609 - val_loss: 0.1779 - val_accuracy: 0.9328\n",
      "Epoch 72/200\n",
      "5/5 [==============================] - 1s 227ms/step - loss: 0.1014 - accuracy: 0.9664 - val_loss: 0.1842 - val_accuracy: 0.9375\n",
      "Epoch 73/200\n",
      "5/5 [==============================] - 1s 241ms/step - loss: 0.1036 - accuracy: 0.9652 - val_loss: 0.1779 - val_accuracy: 0.9375\n",
      "Epoch 74/200\n",
      "5/5 [==============================] - 1s 237ms/step - loss: 0.0987 - accuracy: 0.9645 - val_loss: 0.1764 - val_accuracy: 0.9344\n",
      "Epoch 75/200\n",
      "5/5 [==============================] - 1s 234ms/step - loss: 0.1030 - accuracy: 0.9629 - val_loss: 0.1796 - val_accuracy: 0.9375\n",
      "Epoch 76/200\n",
      "5/5 [==============================] - 1s 231ms/step - loss: 0.1003 - accuracy: 0.9648 - val_loss: 0.1678 - val_accuracy: 0.9453\n",
      "Epoch 77/200\n",
      "5/5 [==============================] - 1s 256ms/step - loss: 0.0930 - accuracy: 0.9730 - val_loss: 0.1804 - val_accuracy: 0.9266\n",
      "Epoch 78/200\n",
      "5/5 [==============================] - 1s 223ms/step - loss: 0.0908 - accuracy: 0.9727 - val_loss: 0.1757 - val_accuracy: 0.9312\n",
      "Epoch 79/200\n",
      "5/5 [==============================] - 1s 237ms/step - loss: 0.0878 - accuracy: 0.9738 - val_loss: 0.1805 - val_accuracy: 0.9375\n",
      "Epoch 80/200\n",
      "5/5 [==============================] - 1s 238ms/step - loss: 0.0975 - accuracy: 0.9652 - val_loss: 0.1859 - val_accuracy: 0.9250\n",
      "Epoch 81/200\n",
      "5/5 [==============================] - 1s 235ms/step - loss: 0.0967 - accuracy: 0.9637 - val_loss: 0.1819 - val_accuracy: 0.9281\n",
      "Epoch 82/200\n",
      "5/5 [==============================] - 1s 236ms/step - loss: 0.0907 - accuracy: 0.9738 - val_loss: 0.1831 - val_accuracy: 0.9328\n",
      "Epoch 83/200\n",
      "5/5 [==============================] - 1s 253ms/step - loss: 0.0983 - accuracy: 0.9648 - val_loss: 0.1767 - val_accuracy: 0.9391\n",
      "Epoch 84/200\n",
      "5/5 [==============================] - 1s 242ms/step - loss: 0.0871 - accuracy: 0.9699 - val_loss: 0.1658 - val_accuracy: 0.9406\n",
      "Epoch 85/200\n",
      "5/5 [==============================] - 1s 232ms/step - loss: 0.0867 - accuracy: 0.9719 - val_loss: 0.1821 - val_accuracy: 0.9406\n",
      "Epoch 86/200\n",
      "5/5 [==============================] - 1s 233ms/step - loss: 0.0906 - accuracy: 0.9707 - val_loss: 0.1834 - val_accuracy: 0.9281\n",
      "Epoch 87/200\n",
      "5/5 [==============================] - 1s 228ms/step - loss: 0.0793 - accuracy: 0.9723 - val_loss: 0.1647 - val_accuracy: 0.9422\n",
      "Epoch 88/200\n",
      "5/5 [==============================] - 1s 218ms/step - loss: 0.0748 - accuracy: 0.9805 - val_loss: 0.1793 - val_accuracy: 0.9328\n",
      "Epoch 89/200\n",
      "5/5 [==============================] - 1s 243ms/step - loss: 0.0758 - accuracy: 0.9781 - val_loss: 0.1811 - val_accuracy: 0.9344\n",
      "Epoch 90/200\n",
      "5/5 [==============================] - 1s 228ms/step - loss: 0.0900 - accuracy: 0.9707 - val_loss: 0.1772 - val_accuracy: 0.9422\n",
      "Epoch 91/200\n",
      "5/5 [==============================] - 1s 223ms/step - loss: 0.0867 - accuracy: 0.9703 - val_loss: 0.1736 - val_accuracy: 0.9438\n",
      "Epoch 92/200\n",
      "5/5 [==============================] - 1s 244ms/step - loss: 0.0866 - accuracy: 0.9715 - val_loss: 0.1800 - val_accuracy: 0.9328\n",
      "Epoch 93/200\n",
      "5/5 [==============================] - 1s 242ms/step - loss: 0.0815 - accuracy: 0.9730 - val_loss: 0.1977 - val_accuracy: 0.9297\n",
      "Epoch 94/200\n",
      "5/5 [==============================] - 1s 222ms/step - loss: 0.0915 - accuracy: 0.9688 - val_loss: 0.1810 - val_accuracy: 0.9375\n",
      "Epoch 95/200\n",
      "5/5 [==============================] - 1s 237ms/step - loss: 0.0817 - accuracy: 0.9719 - val_loss: 0.1673 - val_accuracy: 0.9422\n",
      "Epoch 96/200\n",
      "5/5 [==============================] - 1s 217ms/step - loss: 0.0706 - accuracy: 0.9805 - val_loss: 0.1816 - val_accuracy: 0.9312\n",
      "Epoch 97/200\n",
      "5/5 [==============================] - 1s 228ms/step - loss: 0.0785 - accuracy: 0.9758 - val_loss: 0.1812 - val_accuracy: 0.9359\n",
      "Epoch 98/200\n",
      "5/5 [==============================] - 1s 225ms/step - loss: 0.0704 - accuracy: 0.9801 - val_loss: 0.1680 - val_accuracy: 0.9484\n",
      "Epoch 99/200\n",
      "5/5 [==============================] - 1s 223ms/step - loss: 0.0639 - accuracy: 0.9824 - val_loss: 0.1795 - val_accuracy: 0.9391\n",
      "Epoch 100/200\n",
      "5/5 [==============================] - 1s 215ms/step - loss: 0.0733 - accuracy: 0.9766 - val_loss: 0.1674 - val_accuracy: 0.9453\n",
      "Epoch 101/200\n",
      "5/5 [==============================] - 1s 242ms/step - loss: 0.0710 - accuracy: 0.9770 - val_loss: 0.1726 - val_accuracy: 0.9359\n",
      "Epoch 102/200\n",
      "5/5 [==============================] - 1s 245ms/step - loss: 0.0698 - accuracy: 0.9793 - val_loss: 0.1957 - val_accuracy: 0.9281\n",
      "Epoch 103/200\n",
      "5/5 [==============================] - 1s 242ms/step - loss: 0.0643 - accuracy: 0.9812 - val_loss: 0.1882 - val_accuracy: 0.9328\n",
      "Epoch 104/200\n",
      "5/5 [==============================] - 3s 622ms/step - loss: 0.0620 - accuracy: 0.9809 - val_loss: 0.1735 - val_accuracy: 0.9438\n",
      "Epoch 105/200\n",
      "5/5 [==============================] - 1s 234ms/step - loss: 0.0699 - accuracy: 0.9793 - val_loss: 0.1736 - val_accuracy: 0.9438\n",
      "Epoch 106/200\n",
      "5/5 [==============================] - 1s 221ms/step - loss: 0.0677 - accuracy: 0.9801 - val_loss: 0.1811 - val_accuracy: 0.9438\n",
      "Epoch 107/200\n",
      "5/5 [==============================] - 1s 239ms/step - loss: 0.0620 - accuracy: 0.9809 - val_loss: 0.1751 - val_accuracy: 0.9406\n",
      "Epoch 108/200\n",
      "5/5 [==============================] - 1s 212ms/step - loss: 0.0526 - accuracy: 0.9848 - val_loss: 0.1794 - val_accuracy: 0.9391\n",
      "Epoch 109/200\n",
      "5/5 [==============================] - 1s 236ms/step - loss: 0.0667 - accuracy: 0.9785 - val_loss: 0.1828 - val_accuracy: 0.9422\n",
      "Epoch 110/200\n",
      "5/5 [==============================] - 1s 252ms/step - loss: 0.0573 - accuracy: 0.9816 - val_loss: 0.1699 - val_accuracy: 0.9438\n",
      "Epoch 111/200\n",
      "5/5 [==============================] - 1s 239ms/step - loss: 0.0564 - accuracy: 0.9824 - val_loss: 0.1680 - val_accuracy: 0.9469\n",
      "Epoch 112/200\n",
      "5/5 [==============================] - 1s 221ms/step - loss: 0.0485 - accuracy: 0.9863 - val_loss: 0.1670 - val_accuracy: 0.9422\n",
      "Epoch 113/200\n",
      "5/5 [==============================] - 1s 230ms/step - loss: 0.0462 - accuracy: 0.9871 - val_loss: 0.1752 - val_accuracy: 0.9375\n",
      "Epoch 114/200\n",
      "5/5 [==============================] - 1s 224ms/step - loss: 0.0479 - accuracy: 0.9887 - val_loss: 0.1961 - val_accuracy: 0.9312\n",
      "Epoch 115/200\n",
      "5/5 [==============================] - 1s 234ms/step - loss: 0.0516 - accuracy: 0.9836 - val_loss: 0.1741 - val_accuracy: 0.9406\n",
      "Epoch 116/200\n",
      "5/5 [==============================] - 1s 245ms/step - loss: 0.0419 - accuracy: 0.9871 - val_loss: 0.1673 - val_accuracy: 0.9516\n",
      "Epoch 117/200\n",
      "5/5 [==============================] - 1s 218ms/step - loss: 0.0449 - accuracy: 0.9867 - val_loss: 0.1932 - val_accuracy: 0.9375\n",
      "Epoch 118/200\n",
      "5/5 [==============================] - 1s 218ms/step - loss: 0.0513 - accuracy: 0.9820 - val_loss: 0.1677 - val_accuracy: 0.9422\n",
      "Epoch 119/200\n",
      "5/5 [==============================] - 1s 227ms/step - loss: 0.0474 - accuracy: 0.9871 - val_loss: 0.1886 - val_accuracy: 0.9359\n",
      "Epoch 120/200\n",
      "5/5 [==============================] - 1s 219ms/step - loss: 0.0474 - accuracy: 0.9871 - val_loss: 0.1755 - val_accuracy: 0.9375\n",
      "Epoch 121/200\n",
      "5/5 [==============================] - 1s 243ms/step - loss: 0.0444 - accuracy: 0.9875 - val_loss: 0.1694 - val_accuracy: 0.9375\n",
      "Epoch 122/200\n",
      "5/5 [==============================] - 1s 245ms/step - loss: 0.0426 - accuracy: 0.9863 - val_loss: 0.1749 - val_accuracy: 0.9453\n",
      "Epoch 123/200\n",
      "5/5 [==============================] - 1s 220ms/step - loss: 0.0441 - accuracy: 0.9887 - val_loss: 0.1675 - val_accuracy: 0.9422\n",
      "Epoch 124/200\n",
      "5/5 [==============================] - 1s 222ms/step - loss: 0.0446 - accuracy: 0.9867 - val_loss: 0.1706 - val_accuracy: 0.9406\n",
      "Epoch 125/200\n",
      "5/5 [==============================] - 1s 236ms/step - loss: 0.0383 - accuracy: 0.9895 - val_loss: 0.1671 - val_accuracy: 0.9453\n",
      "Epoch 126/200\n",
      "5/5 [==============================] - 1s 245ms/step - loss: 0.0353 - accuracy: 0.9930 - val_loss: 0.1747 - val_accuracy: 0.9406\n",
      "Epoch 127/200\n",
      "5/5 [==============================] - 1s 234ms/step - loss: 0.0426 - accuracy: 0.9867 - val_loss: 0.1832 - val_accuracy: 0.9438\n",
      "Epoch 128/200\n",
      "5/5 [==============================] - 1s 237ms/step - loss: 0.0433 - accuracy: 0.9855 - val_loss: 0.1946 - val_accuracy: 0.9375\n",
      "Epoch 129/200\n",
      "5/5 [==============================] - 1s 235ms/step - loss: 0.0398 - accuracy: 0.9871 - val_loss: 0.1785 - val_accuracy: 0.9375\n",
      "Epoch 130/200\n",
      "5/5 [==============================] - 1s 228ms/step - loss: 0.0393 - accuracy: 0.9891 - val_loss: 0.1832 - val_accuracy: 0.9359\n",
      "Epoch 131/200\n",
      "5/5 [==============================] - 1s 243ms/step - loss: 0.0401 - accuracy: 0.9879 - val_loss: 0.1841 - val_accuracy: 0.9391\n",
      "Epoch 132/200\n",
      "5/5 [==============================] - 1s 260ms/step - loss: 0.0463 - accuracy: 0.9832 - val_loss: 0.1795 - val_accuracy: 0.9406\n",
      "Epoch 133/200\n",
      "5/5 [==============================] - 1s 223ms/step - loss: 0.0399 - accuracy: 0.9879 - val_loss: 0.1692 - val_accuracy: 0.9453\n",
      "Epoch 134/200\n",
      "5/5 [==============================] - 1s 229ms/step - loss: 0.0399 - accuracy: 0.9883 - val_loss: 0.1832 - val_accuracy: 0.9422\n",
      "Epoch 135/200\n",
      "5/5 [==============================] - 1s 242ms/step - loss: 0.0344 - accuracy: 0.9906 - val_loss: 0.1791 - val_accuracy: 0.9453\n",
      "Epoch 136/200\n",
      "5/5 [==============================] - 1s 229ms/step - loss: 0.0346 - accuracy: 0.9898 - val_loss: 0.1960 - val_accuracy: 0.9391\n",
      "Epoch 137/200\n",
      "5/5 [==============================] - 1s 228ms/step - loss: 0.0425 - accuracy: 0.9852 - val_loss: 0.1909 - val_accuracy: 0.9406\n",
      "Epoch 138/200\n",
      "5/5 [==============================] - 1s 262ms/step - loss: 0.0338 - accuracy: 0.9910 - val_loss: 0.1734 - val_accuracy: 0.9422\n",
      "Epoch 139/200\n",
      "5/5 [==============================] - 1s 229ms/step - loss: 0.0307 - accuracy: 0.9914 - val_loss: 0.1770 - val_accuracy: 0.9406\n",
      "Epoch 140/200\n",
      "5/5 [==============================] - 1s 240ms/step - loss: 0.0305 - accuracy: 0.9910 - val_loss: 0.1902 - val_accuracy: 0.9391\n",
      "Epoch 141/200\n",
      "5/5 [==============================] - 1s 245ms/step - loss: 0.0295 - accuracy: 0.9930 - val_loss: 0.1769 - val_accuracy: 0.9453\n",
      "Epoch 142/200\n",
      "5/5 [==============================] - 1s 217ms/step - loss: 0.0306 - accuracy: 0.9930 - val_loss: 0.1897 - val_accuracy: 0.9391\n",
      "Epoch 143/200\n",
      "5/5 [==============================] - 1s 228ms/step - loss: 0.0321 - accuracy: 0.9895 - val_loss: 0.1969 - val_accuracy: 0.9391\n",
      "Epoch 144/200\n",
      "5/5 [==============================] - 1s 263ms/step - loss: 0.0278 - accuracy: 0.9930 - val_loss: 0.1868 - val_accuracy: 0.9391\n",
      "Epoch 145/200\n",
      "5/5 [==============================] - 1s 226ms/step - loss: 0.0308 - accuracy: 0.9902 - val_loss: 0.1831 - val_accuracy: 0.9469\n",
      "Epoch 146/200\n",
      "5/5 [==============================] - 1s 238ms/step - loss: 0.0319 - accuracy: 0.9930 - val_loss: 0.1984 - val_accuracy: 0.9375\n",
      "Epoch 147/200\n",
      "5/5 [==============================] - 1s 238ms/step - loss: 0.0324 - accuracy: 0.9914 - val_loss: 0.1891 - val_accuracy: 0.9422\n",
      "Epoch 148/200\n",
      "5/5 [==============================] - 1s 227ms/step - loss: 0.0302 - accuracy: 0.9914 - val_loss: 0.1733 - val_accuracy: 0.9438\n",
      "Epoch 149/200\n",
      "5/5 [==============================] - 1s 252ms/step - loss: 0.0305 - accuracy: 0.9906 - val_loss: 0.1962 - val_accuracy: 0.9359\n",
      "Epoch 150/200\n",
      "5/5 [==============================] - 1s 232ms/step - loss: 0.0350 - accuracy: 0.9875 - val_loss: 0.1752 - val_accuracy: 0.9531\n",
      "Epoch 151/200\n",
      "5/5 [==============================] - 1s 229ms/step - loss: 0.0311 - accuracy: 0.9898 - val_loss: 0.1751 - val_accuracy: 0.9438\n",
      "Epoch 152/200\n",
      "5/5 [==============================] - 1s 233ms/step - loss: 0.0291 - accuracy: 0.9922 - val_loss: 0.2102 - val_accuracy: 0.9312\n",
      "Epoch 153/200\n",
      "5/5 [==============================] - 1s 244ms/step - loss: 0.0307 - accuracy: 0.9910 - val_loss: 0.2212 - val_accuracy: 0.9312\n",
      "Epoch 154/200\n",
      "5/5 [==============================] - 1s 235ms/step - loss: 0.0331 - accuracy: 0.9914 - val_loss: 0.1924 - val_accuracy: 0.9375\n",
      "Epoch 155/200\n",
      "5/5 [==============================] - 1s 226ms/step - loss: 0.0260 - accuracy: 0.9922 - val_loss: 0.1657 - val_accuracy: 0.9500\n",
      "Epoch 156/200\n",
      "5/5 [==============================] - 1s 229ms/step - loss: 0.0263 - accuracy: 0.9934 - val_loss: 0.1914 - val_accuracy: 0.9438\n",
      "Epoch 157/200\n",
      "5/5 [==============================] - 1s 239ms/step - loss: 0.0214 - accuracy: 0.9937 - val_loss: 0.1926 - val_accuracy: 0.9375\n",
      "Epoch 158/200\n",
      "5/5 [==============================] - 1s 237ms/step - loss: 0.0229 - accuracy: 0.9937 - val_loss: 0.1835 - val_accuracy: 0.9484\n",
      "Epoch 159/200\n",
      "5/5 [==============================] - 1s 252ms/step - loss: 0.0206 - accuracy: 0.9965 - val_loss: 0.1929 - val_accuracy: 0.9406\n",
      "Epoch 160/200\n",
      "5/5 [==============================] - 1s 229ms/step - loss: 0.0207 - accuracy: 0.9953 - val_loss: 0.1876 - val_accuracy: 0.9453\n",
      "Epoch 161/200\n",
      "5/5 [==============================] - 1s 219ms/step - loss: 0.0271 - accuracy: 0.9918 - val_loss: 0.1825 - val_accuracy: 0.9469\n",
      "Epoch 162/200\n",
      "5/5 [==============================] - 1s 229ms/step - loss: 0.0271 - accuracy: 0.9914 - val_loss: 0.1807 - val_accuracy: 0.9438\n",
      "Epoch 163/200\n",
      "5/5 [==============================] - 1s 235ms/step - loss: 0.0258 - accuracy: 0.9937 - val_loss: 0.1937 - val_accuracy: 0.9422\n",
      "Epoch 164/200\n",
      "5/5 [==============================] - 1s 248ms/step - loss: 0.0266 - accuracy: 0.9918 - val_loss: 0.1962 - val_accuracy: 0.9453\n",
      "Epoch 165/200\n",
      "5/5 [==============================] - 1s 242ms/step - loss: 0.0203 - accuracy: 0.9945 - val_loss: 0.1789 - val_accuracy: 0.9484\n",
      "Epoch 166/200\n",
      "5/5 [==============================] - 1s 235ms/step - loss: 0.0239 - accuracy: 0.9957 - val_loss: 0.1848 - val_accuracy: 0.9453\n",
      "Epoch 167/200\n",
      "5/5 [==============================] - 1s 221ms/step - loss: 0.0230 - accuracy: 0.9957 - val_loss: 0.1938 - val_accuracy: 0.9422\n",
      "Epoch 168/200\n",
      "5/5 [==============================] - 1s 236ms/step - loss: 0.0206 - accuracy: 0.9957 - val_loss: 0.2014 - val_accuracy: 0.9406\n",
      "Epoch 169/200\n",
      "5/5 [==============================] - 1s 236ms/step - loss: 0.0179 - accuracy: 0.9965 - val_loss: 0.1812 - val_accuracy: 0.9469\n",
      "Epoch 170/200\n",
      "5/5 [==============================] - 1s 247ms/step - loss: 0.0191 - accuracy: 0.9957 - val_loss: 0.1860 - val_accuracy: 0.9438\n",
      "Epoch 171/200\n",
      "5/5 [==============================] - 1s 240ms/step - loss: 0.0188 - accuracy: 0.9953 - val_loss: 0.2061 - val_accuracy: 0.9391\n",
      "Epoch 172/200\n",
      "5/5 [==============================] - 1s 241ms/step - loss: 0.0229 - accuracy: 0.9937 - val_loss: 0.2088 - val_accuracy: 0.9422\n",
      "Epoch 173/200\n"
     ]
    },
    {
     "name": "stdout",
     "output_type": "stream",
     "text": [
      "5/5 [==============================] - 1s 229ms/step - loss: 0.0282 - accuracy: 0.9918 - val_loss: 0.2028 - val_accuracy: 0.9391\n",
      "Epoch 174/200\n",
      "5/5 [==============================] - 1s 263ms/step - loss: 0.0253 - accuracy: 0.9922 - val_loss: 0.2202 - val_accuracy: 0.9375\n",
      "Epoch 175/200\n",
      "5/5 [==============================] - 1s 230ms/step - loss: 0.0260 - accuracy: 0.9914 - val_loss: 0.1984 - val_accuracy: 0.9375\n",
      "Epoch 176/200\n",
      "5/5 [==============================] - 1s 239ms/step - loss: 0.0227 - accuracy: 0.9926 - val_loss: 0.1927 - val_accuracy: 0.9438\n",
      "Epoch 177/200\n",
      "5/5 [==============================] - 1s 262ms/step - loss: 0.0172 - accuracy: 0.9953 - val_loss: 0.1929 - val_accuracy: 0.9469\n",
      "Epoch 178/200\n",
      "5/5 [==============================] - 1s 239ms/step - loss: 0.0205 - accuracy: 0.9949 - val_loss: 0.1931 - val_accuracy: 0.9406\n",
      "Epoch 179/200\n",
      "5/5 [==============================] - 1s 221ms/step - loss: 0.0155 - accuracy: 0.9973 - val_loss: 0.1988 - val_accuracy: 0.9422\n",
      "Epoch 180/200\n",
      "5/5 [==============================] - 1s 263ms/step - loss: 0.0164 - accuracy: 0.9969 - val_loss: 0.1956 - val_accuracy: 0.9406\n",
      "Epoch 181/200\n",
      "5/5 [==============================] - 1s 233ms/step - loss: 0.0151 - accuracy: 0.9969 - val_loss: 0.2009 - val_accuracy: 0.9406\n",
      "Epoch 182/200\n",
      "5/5 [==============================] - 1s 231ms/step - loss: 0.0160 - accuracy: 0.9973 - val_loss: 0.1987 - val_accuracy: 0.9438\n",
      "Epoch 183/200\n",
      "5/5 [==============================] - 1s 242ms/step - loss: 0.0172 - accuracy: 0.9961 - val_loss: 0.1935 - val_accuracy: 0.9484\n",
      "Epoch 184/200\n",
      "5/5 [==============================] - 1s 235ms/step - loss: 0.0149 - accuracy: 0.9980 - val_loss: 0.2162 - val_accuracy: 0.9391\n",
      "Epoch 185/200\n",
      "5/5 [==============================] - 1s 214ms/step - loss: 0.0192 - accuracy: 0.9941 - val_loss: 0.2097 - val_accuracy: 0.9406\n",
      "Epoch 186/200\n",
      "5/5 [==============================] - 1s 256ms/step - loss: 0.0200 - accuracy: 0.9941 - val_loss: 0.2161 - val_accuracy: 0.9391\n",
      "Epoch 187/200\n",
      "5/5 [==============================] - 1s 226ms/step - loss: 0.0195 - accuracy: 0.9945 - val_loss: 0.1951 - val_accuracy: 0.9438\n",
      "Epoch 188/200\n",
      "5/5 [==============================] - 1s 244ms/step - loss: 0.0204 - accuracy: 0.9941 - val_loss: 0.2042 - val_accuracy: 0.9422\n",
      "Epoch 189/200\n",
      "5/5 [==============================] - 1s 255ms/step - loss: 0.0205 - accuracy: 0.9941 - val_loss: 0.1913 - val_accuracy: 0.9406\n",
      "Epoch 190/200\n",
      "5/5 [==============================] - 1s 237ms/step - loss: 0.0180 - accuracy: 0.9957 - val_loss: 0.1937 - val_accuracy: 0.9438\n",
      "Epoch 191/200\n",
      "5/5 [==============================] - 1s 236ms/step - loss: 0.0184 - accuracy: 0.9949 - val_loss: 0.2085 - val_accuracy: 0.9391\n",
      "Epoch 192/200\n",
      "5/5 [==============================] - 1s 239ms/step - loss: 0.0145 - accuracy: 0.9965 - val_loss: 0.2022 - val_accuracy: 0.9469\n",
      "Epoch 193/200\n",
      "5/5 [==============================] - 1s 226ms/step - loss: 0.0193 - accuracy: 0.9934 - val_loss: 0.2128 - val_accuracy: 0.9391\n",
      "Epoch 194/200\n",
      "5/5 [==============================] - 1s 229ms/step - loss: 0.0159 - accuracy: 0.9953 - val_loss: 0.2013 - val_accuracy: 0.9438\n",
      "Epoch 195/200\n",
      "5/5 [==============================] - 1s 239ms/step - loss: 0.0129 - accuracy: 0.9977 - val_loss: 0.1991 - val_accuracy: 0.9438\n",
      "Epoch 196/200\n",
      "5/5 [==============================] - 1s 243ms/step - loss: 0.0140 - accuracy: 0.9969 - val_loss: 0.2123 - val_accuracy: 0.9453\n",
      "Epoch 197/200\n",
      "5/5 [==============================] - 1s 214ms/step - loss: 0.0145 - accuracy: 0.9965 - val_loss: 0.2176 - val_accuracy: 0.9391\n",
      "Epoch 198/200\n",
      "5/5 [==============================] - 1s 272ms/step - loss: 0.0173 - accuracy: 0.9949 - val_loss: 0.2090 - val_accuracy: 0.9406\n",
      "Epoch 199/200\n",
      "5/5 [==============================] - 1s 221ms/step - loss: 0.0128 - accuracy: 0.9965 - val_loss: 0.2043 - val_accuracy: 0.9453\n",
      "Epoch 200/200\n",
      "5/5 [==============================] - 1s 235ms/step - loss: 0.0099 - accuracy: 0.9988 - val_loss: 0.2030 - val_accuracy: 0.9453\n"
     ]
    }
   ],
   "source": [
    "CNNmodel = cnn.fit({\"spectra\":cube_train2}, cube_train_labels, \n",
    "                     validation_data=({\"spectra\":cube_test2}, cube_test_labels),\n",
    "                     epochs=200, batch_size=512)"
   ]
  },
  {
   "cell_type": "code",
   "execution_count": 49,
   "metadata": {},
   "outputs": [
    {
     "data": {
      "image/png": "[encoded data removed]",
      "text/plain": [
       "<Figure size 864x720 with 4 Axes>"
      ]
     },
     "metadata": {
      "needs_background": "light"
     },
     "output_type": "display_data"
    }
   ],
   "source": [
    "plot_loss_history(CNNmodel)"
   ]
  },
  {
   "cell_type": "code",
   "execution_count": 67,
   "metadata": {
    "scrolled": true
   },
   "outputs": [
    {
     "name": "stdout",
     "output_type": "stream",
     "text": [
      "Epoch 1/20\n",
      "5/5 [==============================] - 1s 251ms/step - loss: 2.1867 - accuracy: 0.3469 - val_loss: 1.4475 - val_accuracy: 0.5312\n",
      "Epoch 2/20\n",
      "5/5 [==============================] - 1s 211ms/step - loss: 1.2202 - accuracy: 0.6496 - val_loss: 1.0242 - val_accuracy: 0.6969\n",
      "Epoch 3/20\n",
      "5/5 [==============================] - 1s 238ms/step - loss: 0.9353 - accuracy: 0.7258 - val_loss: 0.8099 - val_accuracy: 0.8266\n",
      "Epoch 4/20\n",
      "5/5 [==============================] - 1s 219ms/step - loss: 0.7668 - accuracy: 0.7738 - val_loss: 0.6746 - val_accuracy: 0.7703\n",
      "Epoch 5/20\n",
      "5/5 [==============================] - 1s 202ms/step - loss: 0.6465 - accuracy: 0.8262 - val_loss: 0.5785 - val_accuracy: 0.8234\n",
      "Epoch 6/20\n",
      "5/5 [==============================] - 1s 235ms/step - loss: 0.5595 - accuracy: 0.8398 - val_loss: 0.5027 - val_accuracy: 0.8734\n",
      "Epoch 7/20\n",
      "5/5 [==============================] - 1s 251ms/step - loss: 0.4931 - accuracy: 0.8684 - val_loss: 0.4547 - val_accuracy: 0.8766\n",
      "Epoch 8/20\n",
      "5/5 [==============================] - 1s 212ms/step - loss: 0.4603 - accuracy: 0.8617 - val_loss: 0.4374 - val_accuracy: 0.8844\n",
      "Epoch 9/20\n",
      "5/5 [==============================] - 1s 238ms/step - loss: 0.4201 - accuracy: 0.8727 - val_loss: 0.4222 - val_accuracy: 0.8844\n",
      "Epoch 10/20\n",
      "5/5 [==============================] - 1s 249ms/step - loss: 0.4103 - accuracy: 0.8813 - val_loss: 0.3980 - val_accuracy: 0.8938\n",
      "Epoch 11/20\n",
      "5/5 [==============================] - 1s 221ms/step - loss: 0.3935 - accuracy: 0.8828 - val_loss: 0.4024 - val_accuracy: 0.8938\n",
      "Epoch 12/20\n",
      "5/5 [==============================] - 1s 206ms/step - loss: 0.3826 - accuracy: 0.8883 - val_loss: 0.3743 - val_accuracy: 0.8875\n",
      "Epoch 13/20\n",
      "5/5 [==============================] - 1s 233ms/step - loss: 0.3483 - accuracy: 0.8945 - val_loss: 0.3409 - val_accuracy: 0.8969\n",
      "Epoch 14/20\n",
      "5/5 [==============================] - 1s 242ms/step - loss: 0.3296 - accuracy: 0.8977 - val_loss: 0.3371 - val_accuracy: 0.9047\n",
      "Epoch 15/20\n",
      "5/5 [==============================] - 1s 226ms/step - loss: 0.3224 - accuracy: 0.8953 - val_loss: 0.3520 - val_accuracy: 0.8813\n",
      "Epoch 16/20\n",
      "5/5 [==============================] - 1s 210ms/step - loss: 0.3263 - accuracy: 0.8938 - val_loss: 0.3153 - val_accuracy: 0.9016\n",
      "Epoch 17/20\n",
      "5/5 [==============================] - 1s 235ms/step - loss: 0.3047 - accuracy: 0.8980 - val_loss: 0.3057 - val_accuracy: 0.9062\n",
      "Epoch 18/20\n",
      "5/5 [==============================] - 1s 209ms/step - loss: 0.2926 - accuracy: 0.9035 - val_loss: 0.3001 - val_accuracy: 0.8984\n",
      "Epoch 19/20\n",
      "5/5 [==============================] - 1s 194ms/step - loss: 0.2827 - accuracy: 0.9082 - val_loss: 0.3136 - val_accuracy: 0.9062\n",
      "Epoch 20/20\n",
      "5/5 [==============================] - 1s 228ms/step - loss: 0.2850 - accuracy: 0.9086 - val_loss: 0.2864 - val_accuracy: 0.8984\n"
     ]
    }
   ],
   "source": [
    "cnn = CNN_Model(cube_std_3d.shape[2])\n",
    "cnn.compile(optimizer=\"adam\", loss=\"sparse_categorical_crossentropy\",\n",
    "             metrics=[\"accuracy\"])\n",
    "CNNmodel = cnn.fit({\"spectra\":cube_train2}, cube_train_labels, \n",
    "                     validation_data=({\"spectra\":cube_test2}, cube_test_labels),\n",
    "                     epochs=20, batch_size=512)"
   ]
  },
  {
   "cell_type": "code",
   "execution_count": 68,
   "metadata": {},
   "outputs": [
    {
     "name": "stdout",
     "output_type": "stream",
     "text": [
      "80/80 [==============================] - 1s 11ms/step - loss: 0.2571 - accuracy: 0.9062\n",
      "20/20 [==============================] - 0s 11ms/step - loss: 0.2864 - accuracy: 0.8984\n",
      "0.90625 0.8984375\n"
     ]
    }
   ],
   "source": [
    "# model accuracy on training and testing sets\n",
    "\n",
    "train_loss, train_acc = cnn.evaluate({\"spectra\":cube_train2}, cube_train_labels)\n",
    "test_loss, test_acc = cnn.evaluate({\"spectra\":cube_test2}, cube_test_labels)\n",
    "\n",
    "print(train_acc, test_acc)"
   ]
  },
  {
   "cell_type": "markdown",
   "metadata": {},
   "source": [
    "### Predict pixel classification on veg_00108"
   ]
  },
  {
   "cell_type": "code",
   "execution_count": 69,
   "metadata": {},
   "outputs": [
    {
     "name": "stdout",
     "output_type": "stream",
     "text": [
      "(2560000, 848, 1)\n"
     ]
    }
   ],
   "source": [
    "cube_standard_1 = cube_standard.reshape(cube_standard.shape[0], cube_standard.shape[1], 1)\n",
    "print(cube_standard_1.shape)"
   ]
  },
  {
   "cell_type": "code",
   "execution_count": 70,
   "metadata": {},
   "outputs": [
    {
     "name": "stdout",
     "output_type": "stream",
     "text": [
      "00:12:44\n"
     ]
    }
   ],
   "source": [
    "# classify entire binned cube\n",
    "import time\n",
    "start_time = time.time()\n",
    "\n",
    "probCube = cnn.predict({\"spectra\":cube_standard_1})\n",
    "\n",
    "elapsed_time = time.time() - start_time\n",
    "print(time.strftime(\"%H:%M:%S\", time.gmtime(elapsed_time)))"
   ]
  },
  {
   "cell_type": "code",
   "execution_count": 71,
   "metadata": {},
   "outputs": [],
   "source": [
    "predictCube = probCube.argmax(axis=-1)"
   ]
  },
  {
   "cell_type": "code",
   "execution_count": 72,
   "metadata": {},
   "outputs": [],
   "source": [
    "predictCube_reshape = predictCube.reshape(cube_sub.shape[1], cube_sub.shape[2])"
   ]
  },
  {
   "cell_type": "code",
   "execution_count": 73,
   "metadata": {},
   "outputs": [
    {
     "data": {
      "image/png": "[encoded data removed]",
      "text/plain": [
       "<Figure size 1080x1080 with 1 Axes>"
      ]
     },
     "metadata": {
      "needs_background": "light"
     },
     "output_type": "display_data"
    }
   ],
   "source": [
    "import matplotlib.pyplot as plt\n",
    "import matplotlib.colors as ListedColorMap\n",
    "import matplotlib.patches as mpatches\n",
    "from matplotlib.ticker import NullFormatter\n",
    "%matplotlib inline\n",
    "\n",
    "cmap = {0:[0,0.32549,0.62353,1], 1:[0.93333,0.9098,0.77255,1], 2:[0,0.61961,0.45098,1],  3:[0.33725,0.70588,0.91373,1],\n",
    "        4:[0,0,0,1], 5:[1,0.82353,0,1], 6:[0.90196,0.62353,0,1], 7:[0.83529,0.36863,0,1],\n",
    "        8:[0.8,0.47451,0.65490,1]}\n",
    "labels = {0:'sky', 1:'clouds', 2:'vegetation', 3:'water', 4:'built',\n",
    "          5:'windows', 6:'roads', 7:'cars', 8:'metal'}\n",
    "arrayShow = np.array([[cmap[i] for i in j] for j in predictCube_reshape])\n",
    "patches = [mpatches.Patch(color=cmap[i], label=labels[i]) for i in cmap]\n",
    "\n",
    "fig = plt.figure(figsize=(15,15))\n",
    "ax = fig.add_axes([0.1,0.1,0.9,0.9])\n",
    "ax.tick_params(labelsize=10)\n",
    "ax.imshow(arrayShow, aspect=0.5)\n",
    "lgd = ax.legend(handles=patches, bbox_to_anchor=(1,0.75), loc='upper left', borderaxespad=1.0, prop={'size':10}, ncol=1)\n",
    "plt.show()\n",
    "#fig.savefig(\"./plots/CNN_change_params_spatial_train_all_1_108_predict_map.png\", bbox_extra_artists=(lgd,), bbox_inches='tight')"
   ]
  },
  {
   "cell_type": "code",
   "execution_count": 74,
   "metadata": {},
   "outputs": [
    {
     "data": {
      "image/png": "[encoded data removed]",
      "text/plain": [
       "<Figure size 1080x1080 with 1 Axes>"
      ]
     },
     "metadata": {
      "needs_background": "light"
     },
     "output_type": "display_data"
    }
   ],
   "source": [
    "import matplotlib.pyplot as plt\n",
    "import matplotlib.colors as ListedColorMap\n",
    "import matplotlib.patches as mpatches\n",
    "from matplotlib.ticker import NullFormatter\n",
    "%matplotlib inline\n",
    "\n",
    "cmap = {0:[0,0.32549,0.62353,1], 1:[0.93333,0.9098,0.77255,1], 2:[0,0.61961,0.45098,1],  3:[0.33725,0.70588,0.91373,1],\n",
    "        4:[0,0,0,1], 5:[1,0.82353,0,1], 6:[0.90196,0.62353,0,1], 7:[0.83529,0.36863,0,1],\n",
    "        8:[0.8,0.47451,0.65490,1]}\n",
    "labels = {0:'sky', 1:'clouds', 2:'vegetation', 3:'water', 4:'built',\n",
    "          5:'windows', 6:'roads', 7:'cars', 8:'metal'}\n",
    "arrayShow = np.array([[cmap[i] for i in j] for j in predictCube_reshape])\n",
    "patches = [mpatches.Patch(color=cmap[i], label=labels[i]) for i in cmap]\n",
    "\n",
    "fig = plt.figure(figsize=(15,15))\n",
    "#ax = fig.add_axes([0.1,0.1,0.9,0.9])\n",
    "#ax.tick_params(labelsize=10)\n",
    "plt.imshow(arrayShow, aspect=0.5)\n",
    "#lgd = ax.legend(handles=patches, bbox_to_anchor=(1,0.75), loc='upper left', borderaxespad=1.0, prop={'size':10}, ncol=1)\n",
    "plt.axis('off')\n",
    "plt.show()\n",
    "fig.savefig(\"./plots/CNN_Model1_no_spatial_train_108_test_108_predict_map.png\", bbox_inches='tight')"
   ]
  },
  {
   "cell_type": "code",
   "execution_count": 75,
   "metadata": {},
   "outputs": [],
   "source": [
    "import pickle\n",
    "pickle.dump(predictCube_reshape, open(\"./plots/CNN_Model1_no_spatial_train_108_test_108_predict_map.pickle\", \"wb\"))"
   ]
  },
  {
   "cell_type": "markdown",
   "metadata": {},
   "source": [
    "### Evaluation Metrics (veg_00108)"
   ]
  },
  {
   "cell_type": "code",
   "execution_count": 76,
   "metadata": {},
   "outputs": [],
   "source": [
    "labels_pred_sky = predictCube_reshape[sky_coords[sky_test_ind[:], 0], sky_coords[sky_test_ind[:], 1]]\n",
    "labels_pred_clouds = predictCube_reshape[clouds_coords[clouds_test_ind[:], 0], clouds_coords[clouds_test_ind[:],1]]\n",
    "labels_pred_veg = predictCube_reshape[veg_coords[veg_test_ind[:],0], veg_coords[veg_test_ind[:],1]]\n",
    "labels_pred_wtr = predictCube_reshape[wtr_coords[wtr_test_ind[:],0], wtr_coords[wtr_test_ind[:],1]]\n",
    "labels_pred_blt = predictCube_reshape[blt_coords[blt_test_ind[:],0], blt_coords[blt_test_ind[:],1]]\n",
    "labels_pred_windows = predictCube_reshape[windows_coords[windows_test_ind[:],0], windows_coords[windows_test_ind[:],1]]\n",
    "labels_pred_rds = predictCube_reshape[rds_coords[rds_test_ind[:],0], rds_coords[rds_test_ind[:],1]]\n",
    "labels_pred_cars = predictCube_reshape[cars_coords[cars_test_ind[:],0], cars_coords[cars_test_ind[:],1]]\n",
    "labels_pred_mtl = predictCube_reshape[mtl_coords[mtl_test_ind[:],0], mtl_coords[mtl_test_ind[:],1]]\n",
    "\n",
    "labels_pred = np.concatenate((labels_pred_sky, labels_pred_clouds, labels_pred_veg, labels_pred_wtr, \n",
    "                             labels_pred_blt, labels_pred_windows, labels_pred_rds, labels_pred_cars, labels_pred_mtl))"
   ]
  },
  {
   "cell_type": "code",
   "execution_count": 77,
   "metadata": {},
   "outputs": [],
   "source": [
    "labels_true_sky = np.full(len(sky_test_ind), 0)\n",
    "labels_true_clouds = np.full(len(clouds_test_ind), 1)\n",
    "labels_true_veg = np.full(len(veg_test_ind), 2)\n",
    "labels_true_wtr = np.full(len(wtr_test_ind), 3)\n",
    "labels_true_blt = np.full(len(blt_test_ind), 4)\n",
    "labels_true_windows = np.full(len(windows_test_ind), 5)\n",
    "labels_true_rds = np.full(len(rds_test_ind), 6)\n",
    "labels_true_cars = np.full(len(cars_test_ind), 7)\n",
    "labels_true_mtl = np.full(len(mtl_test_ind), 8)\n",
    "\n",
    "labels_true = np.concatenate((labels_true_sky, labels_true_clouds, labels_true_veg, labels_true_wtr, \n",
    "                             labels_true_blt, labels_true_windows, labels_true_rds, labels_true_cars, labels_true_mtl))"
   ]
  },
  {
   "cell_type": "code",
   "execution_count": 78,
   "metadata": {},
   "outputs": [
    {
     "name": "stdout",
     "output_type": "stream",
     "text": [
      "(640,)\n",
      "(640,)\n"
     ]
    }
   ],
   "source": [
    "print(labels_pred.shape)\n",
    "print(labels_true.shape)"
   ]
  },
  {
   "cell_type": "code",
   "execution_count": 79,
   "metadata": {},
   "outputs": [
    {
     "name": "stdout",
     "output_type": "stream",
     "text": [
      "Confusion Matrix\n",
      "[[ 60   0   0   0   0   0   0   0   0]\n",
      " [  0 100   0   0   0   0   0   0   0]\n",
      " [  0   0 118   0   2   0   0   0   0]\n",
      " [  0   0   0   7   3   0   0   0   0]\n",
      " [  0   0   0   0 196   8   0   0   0]\n",
      " [  0   0   0   0   7  93   0   0   0]\n",
      " [  0   0   0   0   6   0   0   0   0]\n",
      " [  2   0   0   0  12   6   0   0   0]\n",
      " [  0   0   0   0  18   1   0   0   1]]\n",
      "\n",
      "Accuracy Score\n",
      "0.8984375\n",
      "\n",
      "Classification Report\n",
      "             precision    recall  f1-score   support\n",
      "\n",
      "        sky       0.97      1.00      0.98        60\n",
      "     clouds       1.00      1.00      1.00       100\n",
      " vegetation       1.00      0.98      0.99       120\n",
      "      water       1.00      0.70      0.82        10\n",
      "      built       0.80      0.96      0.88       204\n",
      "    windows       0.86      0.93      0.89       100\n",
      "      roads       0.00      0.00      0.00         6\n",
      "       cars       0.00      0.00      0.00        20\n",
      "      metal       1.00      0.05      0.10        20\n",
      "\n",
      "avg / total       0.87      0.90      0.87       640\n",
      "\n"
     ]
    },
    {
     "name": "stderr",
     "output_type": "stream",
     "text": [
      "/usr/local/lib/python3.6/site-packages/sklearn/metrics/classification.py:1135: UndefinedMetricWarning: Precision and F-score are ill-defined and being set to 0.0 in labels with no predicted samples.\n",
      "  'precision', 'predicted', average, warn_for)\n"
     ]
    }
   ],
   "source": [
    "from sklearn import metrics\n",
    "\n",
    "print(\"Confusion Matrix\")\n",
    "print(metrics.confusion_matrix(labels_true, labels_pred))\n",
    "\n",
    "print(\"\")\n",
    "print(\"Accuracy Score\")\n",
    "print(metrics.accuracy_score(labels_true, labels_pred))\n",
    "\n",
    "target_names = ['sky', 'clouds', 'vegetation', 'water', 'built', 'windows', 'roads', 'cars', 'metal']\n",
    "print(\"\")\n",
    "print(\"Classification Report\")\n",
    "print(metrics.classification_report(labels_true, labels_pred, target_names=target_names))"
   ]
  },
  {
   "cell_type": "code",
   "execution_count": 80,
   "metadata": {},
   "outputs": [
    {
     "name": "stderr",
     "output_type": "stream",
     "text": [
      "/usr/local/lib/python3.6/site-packages/sklearn/metrics/classification.py:1135: UndefinedMetricWarning: Precision and F-score are ill-defined and being set to 0.0 in labels with no predicted samples.\n",
      "  'precision', 'predicted', average, warn_for)\n"
     ]
    }
   ],
   "source": [
    "f = open(\"./metrics/CNN_Model1_no_spatial_train_108_test_108_metrics.txt\", \"w\")\n",
    "f.write(\"Confusion Matrix\")\n",
    "f.write('\\n')\n",
    "f.write(str(metrics.confusion_matrix(labels_true, labels_pred)))\n",
    "f.write('\\n')\n",
    "f.write('\\n')\n",
    "f.write(\"Accuracy Score\")\n",
    "f.write('\\n')\n",
    "f.write(str(metrics.accuracy_score(labels_true, labels_pred)))\n",
    "target_names = ['sky', 'clouds', 'vegetation', 'water', 'built', 'windows', 'roads', 'cars', 'metal']\n",
    "f.write('\\n')\n",
    "f.write('\\n')\n",
    "f.write(\"Classification Report\")\n",
    "f.write('\\n')\n",
    "f.write(metrics.classification_report(labels_true, labels_pred, target_names=target_names))\n",
    "f.close()"
   ]
  },
  {
   "cell_type": "markdown",
   "metadata": {},
   "source": [
    "### Transfer to predict on veg_00000"
   ]
  },
  {
   "cell_type": "code",
   "execution_count": 81,
   "metadata": {},
   "outputs": [
    {
     "name": "stdout",
     "output_type": "stream",
     "text": [
      "00:13:16\n"
     ]
    }
   ],
   "source": [
    "# classify entire binned cube\n",
    "import time\n",
    "start_time = time.time()\n",
    "\n",
    "probCube0 = cnn.predict({\"spectra\":cube_standard0_1})\n",
    "\n",
    "elapsed_time = time.time() - start_time\n",
    "print(time.strftime(\"%H:%M:%S\", time.gmtime(elapsed_time)))"
   ]
  },
  {
   "cell_type": "code",
   "execution_count": 82,
   "metadata": {},
   "outputs": [],
   "source": [
    "predictCube0 = probCube0.argmax(axis=-1)"
   ]
  },
  {
   "cell_type": "code",
   "execution_count": 83,
   "metadata": {},
   "outputs": [],
   "source": [
    "predictCube_reshape0 = predictCube0.reshape(cube_sub0.shape[1], cube_sub0.shape[2])"
   ]
  },
  {
   "cell_type": "code",
   "execution_count": 84,
   "metadata": {},
   "outputs": [
    {
     "data": {
      "image/png": "[encoded data removed]",
      "text/plain": [
       "<Figure size 1080x1080 with 1 Axes>"
      ]
     },
     "metadata": {
      "needs_background": "light"
     },
     "output_type": "display_data"
    }
   ],
   "source": [
    "import matplotlib.pyplot as plt\n",
    "import matplotlib.colors as ListedColorMap\n",
    "import matplotlib.patches as mpatches\n",
    "from matplotlib.ticker import NullFormatter\n",
    "%matplotlib inline\n",
    "\n",
    "cmap = {0:[0,0.32549,0.62353,1], 1:[0.93333,0.9098,0.77255,1], 2:[0,0.61961,0.45098,1],  3:[0.33725,0.70588,0.91373,1],\n",
    "        4:[0,0,0,1], 5:[1,0.82353,0,1], 6:[0.90196,0.62353,0,1], 7:[0.83529,0.36863,0,1],\n",
    "        8:[0.8,0.47451,0.65490,1]}\n",
    "labels = {0:'sky', 1:'clouds', 2:'vegetation', 3:'water', 4:'built',\n",
    "          5:'windows', 6:'roads', 7:'cars', 8:'metal'}\n",
    "arrayShow = np.array([[cmap[i] for i in j] for j in predictCube_reshape0])\n",
    "patches = [mpatches.Patch(color=cmap[i], label=labels[i]) for i in cmap]\n",
    "\n",
    "fig = plt.figure(figsize=(15,15))\n",
    "ax = fig.add_axes([0.1,0.1,0.9,0.9])\n",
    "ax.tick_params(labelsize=10)\n",
    "ax.imshow(arrayShow, aspect=0.5)\n",
    "lgd = ax.legend(handles=patches, bbox_to_anchor=(1,0.75), loc='upper left', borderaxespad=1.0, prop={'size':10}, ncol=1)\n",
    "plt.show()\n",
    "#fig.savefig(\"./plots/CNN_change_params_spatial_train_all_3_000_predict_map.png\", \n",
    "#bbox_extra_artists=(lgd,), bbox_inches='tight')"
   ]
  },
  {
   "cell_type": "code",
   "execution_count": 85,
   "metadata": {},
   "outputs": [
    {
     "data": {
      "image/png": "[encoded data removed]",
      "text/plain": [
       "<Figure size 1080x1080 with 1 Axes>"
      ]
     },
     "metadata": {
      "needs_background": "light"
     },
     "output_type": "display_data"
    }
   ],
   "source": [
    "import matplotlib.pyplot as plt\n",
    "import matplotlib.colors as ListedColorMap\n",
    "import matplotlib.patches as mpatches\n",
    "from matplotlib.ticker import NullFormatter\n",
    "%matplotlib inline\n",
    "\n",
    "cmap = {0:[0,0.32549,0.62353,1], 1:[0.93333,0.9098,0.77255,1], 2:[0,0.61961,0.45098,1],  3:[0.33725,0.70588,0.91373,1],\n",
    "        4:[0,0,0,1], 5:[1,0.82353,0,1], 6:[0.90196,0.62353,0,1], 7:[0.83529,0.36863,0,1],\n",
    "        8:[0.8,0.47451,0.65490,1]}\n",
    "labels = {0:'sky', 1:'clouds', 2:'vegetation', 3:'water', 4:'built',\n",
    "          5:'windows', 6:'roads', 7:'cars', 8:'metal'}\n",
    "arrayShow = np.array([[cmap[i] for i in j] for j in predictCube_reshape0])\n",
    "patches = [mpatches.Patch(color=cmap[i], label=labels[i]) for i in cmap]\n",
    "\n",
    "fig = plt.figure(figsize=(15,15))\n",
    "#ax = fig.add_axes([0.1,0.1,0.9,0.9])\n",
    "#ax.tick_params(labelsize=10)\n",
    "plt.imshow(arrayShow, aspect=0.5)\n",
    "#lgd = ax.legend(handles=patches, bbox_to_anchor=(1,0.75), loc='upper left', borderaxespad=1.0, prop={'size':10}, ncol=1)\n",
    "plt.axis('off')\n",
    "plt.show()\n",
    "fig.savefig(\"./plots/CNN_Model1_no_spatial_train_108_test_000_predict_map.png\", bbox_inches='tight', dpi=300)"
   ]
  },
  {
   "cell_type": "code",
   "execution_count": 86,
   "metadata": {},
   "outputs": [],
   "source": [
    "import pickle\n",
    "pickle.dump(predictCube_reshape0, open(\"./plots/CNN_Model1_no_spatial_train_108_test_000_predict_map.pickle\", \"wb\"))"
   ]
  },
  {
   "cell_type": "code",
   "execution_count": 14,
   "metadata": {},
   "outputs": [],
   "source": [
    "import pickle\n",
    "file = open(\"./plots/CNN_Model1_no_spatial_train_108_test_000_predict_map.pickle\", \"rb\")\n",
    "predictCube_reshape0 = pickle.load(file)"
   ]
  },
  {
   "cell_type": "code",
   "execution_count": 15,
   "metadata": {},
   "outputs": [],
   "source": [
    "wtr_coords0=np.array([[0,0]])"
   ]
  },
  {
   "cell_type": "markdown",
   "metadata": {},
   "source": [
    "### Evaluation Metrics (108 transferred to 000)"
   ]
  },
  {
   "cell_type": "code",
   "execution_count": 16,
   "metadata": {},
   "outputs": [],
   "source": [
    "labels0_pred_sky = predictCube_reshape0[sky_coords0[:, 0], sky_coords0[:, 1]]\n",
    "labels0_pred_clouds = predictCube_reshape0[clouds_coords0[:, 0], clouds_coords0[:,1]]\n",
    "labels0_pred_veg = predictCube_reshape0[veg_coords0[:,0], veg_coords0[:,1]]\n",
    "labels0_pred_wtr = predictCube_reshape0[wtr_coords0[:,0], wtr_coords0[:,1]]\n",
    "labels0_pred_blt = predictCube_reshape0[blt_coords0[:,0], blt_coords0[:,1]]\n",
    "labels0_pred_windows = predictCube_reshape0[windows_coords0[:,0], windows_coords0[:,1]]\n",
    "labels0_pred_rds = predictCube_reshape0[rds_coords0[:,0], rds_coords0[:,1]]\n",
    "labels0_pred_cars = predictCube_reshape0[cars_coords0[:,0], cars_coords0[:,1]]\n",
    "labels0_pred_mtl = predictCube_reshape0[mtl_coords0[:,0], mtl_coords0[:,1]]\n",
    "\n",
    "labels0_pred = np.concatenate((labels0_pred_sky, labels0_pred_clouds, labels0_pred_veg, labels0_pred_wtr, \n",
    "                             labels0_pred_blt, labels0_pred_windows, labels0_pred_rds, \n",
    "                               labels0_pred_cars, labels0_pred_mtl))"
   ]
  },
  {
   "cell_type": "code",
   "execution_count": 17,
   "metadata": {},
   "outputs": [],
   "source": [
    "labels0_true_sky = np.full((sky_coords0.shape[0]), 0)\n",
    "labels0_true_clouds = np.full((clouds_coords0.shape[0]), 1)\n",
    "labels0_true_veg = np.full((veg_coords0.shape[0]), 2)\n",
    "labels0_true_wtr = np.full((wtr_coords0.shape[0]), 3)\n",
    "labels0_true_blt = np.full((blt_coords0.shape[0]), 4)\n",
    "labels0_true_windows = np.full((windows_coords0.shape[0]), 5)\n",
    "labels0_true_rds = np.full((rds_coords0.shape[0]), 6)\n",
    "labels0_true_cars = np.full((cars_coords0.shape[0]), 7)\n",
    "labels0_true_mtl = np.full((mtl_coords0.shape[0]), 8)\n",
    "\n",
    "labels0_true = np.concatenate((labels0_true_sky, labels0_true_clouds, labels0_true_veg, labels0_true_wtr, \n",
    "                             labels0_true_blt, labels0_true_windows, labels0_true_rds, labels0_true_cars, labels0_true_mtl))"
   ]
  },
  {
   "cell_type": "code",
   "execution_count": 18,
   "metadata": {},
   "outputs": [
    {
     "name": "stdout",
     "output_type": "stream",
     "text": [
      "(3556,)\n",
      "(3556,)\n"
     ]
    }
   ],
   "source": [
    "print(labels0_pred.shape)\n",
    "print(labels0_true.shape)"
   ]
  },
  {
   "cell_type": "code",
   "execution_count": 19,
   "metadata": {},
   "outputs": [
    {
     "name": "stdout",
     "output_type": "stream",
     "text": [
      "Confusion Matrix\n",
      "[[   0    0    0  400    0    0    0    0    0]\n",
      " [ 386    3    0    5  106    0    0    0    0]\n",
      " [   0    0  565    0   45    0    0    0    0]\n",
      " [   0    0    0    1    0    0    0    0    0]\n",
      " [   0    0    7    0 1136   54    0    0    3]\n",
      " [   0    0   13    0  248  234    0    0    5]\n",
      " [   0    0    0    0    0   60    0    0    0]\n",
      " [   0    0    0    0    4   50    0    1    0]\n",
      " [   0    0    0    0  159   43    0    0   28]]\n",
      "\n",
      "Accuracy Score\n",
      "0.5534308211473565\n",
      "\n",
      "Classification Report\n",
      "             precision    recall  f1-score   support\n",
      "\n",
      "        sky       0.00      0.00      0.00       400\n",
      "     clouds       1.00      0.01      0.01       500\n",
      " vegetation       0.97      0.93      0.95       610\n",
      "      built       0.00      1.00      0.00         1\n",
      "    windows       0.67      0.95      0.78      1200\n",
      "      roads       0.53      0.47      0.50       500\n",
      "       cars       0.00      0.00      0.00        60\n",
      "      metal       1.00      0.02      0.04        55\n",
      "\n",
      "avg / total       0.67      0.55      0.51      3556\n",
      "\n"
     ]
    },
    {
     "name": "stderr",
     "output_type": "stream",
     "text": [
      "/usr/local/lib/python3.6/site-packages/sklearn/metrics/classification.py:1428: UserWarning: labels size, 9, does not match size of target_names, 8\n",
      "  .format(len(labels), len(target_names))\n",
      "/usr/local/lib/python3.6/site-packages/sklearn/metrics/classification.py:1135: UndefinedMetricWarning: Precision and F-score are ill-defined and being set to 0.0 in labels with no predicted samples.\n",
      "  'precision', 'predicted', average, warn_for)\n"
     ]
    }
   ],
   "source": [
    "from sklearn import metrics\n",
    "\n",
    "print(\"Confusion Matrix\")\n",
    "print(metrics.confusion_matrix(labels0_true, labels0_pred))\n",
    "\n",
    "print(\"\")\n",
    "print(\"Accuracy Score\")\n",
    "print(metrics.accuracy_score(labels0_true, labels0_pred))\n",
    "\n",
    "target_names = ['sky', 'clouds', 'vegetation', 'built', 'windows', 'roads', 'cars', 'metal']\n",
    "print(\"\")\n",
    "print(\"Classification Report\")\n",
    "print(metrics.classification_report(labels0_true, labels0_pred, target_names=target_names))"
   ]
  },
  {
   "cell_type": "code",
   "execution_count": 20,
   "metadata": {},
   "outputs": [
    {
     "name": "stderr",
     "output_type": "stream",
     "text": [
      "/usr/local/lib/python3.6/site-packages/sklearn/metrics/classification.py:1428: UserWarning: labels size, 9, does not match size of target_names, 8\n",
      "  .format(len(labels), len(target_names))\n",
      "/usr/local/lib/python3.6/site-packages/sklearn/metrics/classification.py:1135: UndefinedMetricWarning: Precision and F-score are ill-defined and being set to 0.0 in labels with no predicted samples.\n",
      "  'precision', 'predicted', average, warn_for)\n"
     ]
    }
   ],
   "source": [
    "f = open(\"./metrics/CNN_Model1_no_spatial_train_108_test_000_metrics.txt\", \"w\")\n",
    "f.write(\"Confusion Matrix\")\n",
    "f.write('\\n')\n",
    "f.write(str(metrics.confusion_matrix(labels0_true, labels0_pred)))\n",
    "f.write('\\n')\n",
    "f.write('\\n')\n",
    "f.write(\"Accuracy Score\")\n",
    "f.write('\\n')\n",
    "f.write(str(metrics.accuracy_score(labels0_true, labels0_pred)))\n",
    "target_names = ['sky', 'clouds', 'vegetation', 'built', 'windows', 'roads', 'cars', 'metal']\n",
    "f.write('\\n')\n",
    "f.write('\\n')\n",
    "f.write(\"Classification Report\")\n",
    "f.write('\\n')\n",
    "f.write(metrics.classification_report(labels0_true, labels0_pred, target_names=target_names))\n",
    "f.close()"
   ]
  },
  {
   "cell_type": "markdown",
   "metadata": {},
   "source": [
    "### Transfer to predict on North facing"
   ]
  },
  {
   "cell_type": "markdown",
   "metadata": {},
   "source": [
    "#### extrapolate north to fit same nwaves as 108"
   ]
  },
  {
   "cell_type": "code",
   "execution_count": 93,
   "metadata": {},
   "outputs": [],
   "source": [
    "from scipy.interpolate import interp1d\n",
    "\n",
    "interp_hsi = interp1d(cube_north.waves, cube_standard_north, axis=1, fill_value=\"extrapolate\")\n",
    "northri = interp_hsi(cube.waves)"
   ]
  },
  {
   "cell_type": "code",
   "execution_count": 94,
   "metadata": {},
   "outputs": [
    {
     "data": {
      "text/plain": [
       "[<matplotlib.lines.Line2D at 0x7f2b8c14c048>]"
      ]
     },
     "execution_count": 94,
     "metadata": {},
     "output_type": "execute_result"
    },
    {
     "data": {
      "image/png": "[encoded data removed]",
      "text/plain": [
       "<Figure size 864x360 with 1 Axes>"
      ]
     },
     "metadata": {
      "needs_background": "light"
     },
     "output_type": "display_data"
    }
   ],
   "source": [
    "fig, ax = plt.subplots(figsize=(12,5))\n",
    "ax.plot(cube_north.waves, cube_standard_north[1000, :], \".\", color=\"r\")\n",
    "ax.plot(cube.waves, northri[1000,:], 'o', ms=3, color=\"b\")\n",
    "ax.plot(cube_north.waves, cube_standard_north[1000,:], \".\", ms=3, color=\"y\")"
   ]
  },
  {
   "cell_type": "code",
   "execution_count": 98,
   "metadata": {},
   "outputs": [
    {
     "name": "stdout",
     "output_type": "stream",
     "text": [
      "(1995200, 848)\n",
      "(1995200, 848, 1)\n"
     ]
    }
   ],
   "source": [
    "print(northri.shape)\n",
    "northri_1 = northri.reshape(northri.shape[0], northri.shape[1], 1)\n",
    "print(northri_1.shape)"
   ]
  },
  {
   "cell_type": "code",
   "execution_count": 99,
   "metadata": {},
   "outputs": [
    {
     "name": "stdout",
     "output_type": "stream",
     "text": [
      "00:12:34\n"
     ]
    }
   ],
   "source": [
    "# classify entire binned cube\n",
    "import time\n",
    "start_time = time.time()\n",
    "\n",
    "probCuben = cnn.predict({\"spectra\":northri_1})\n",
    "\n",
    "elapsed_time = time.time() - start_time\n",
    "print(time.strftime(\"%H:%M:%S\", time.gmtime(elapsed_time)))"
   ]
  },
  {
   "cell_type": "code",
   "execution_count": 100,
   "metadata": {},
   "outputs": [],
   "source": [
    "predictCuben = probCuben.argmax(axis=-1)"
   ]
  },
  {
   "cell_type": "code",
   "execution_count": 101,
   "metadata": {},
   "outputs": [],
   "source": [
    "predictCube_reshapen = predictCuben.reshape(cube_sub_north.shape[1], cube_sub_north.shape[2])"
   ]
  },
  {
   "cell_type": "code",
   "execution_count": 102,
   "metadata": {},
   "outputs": [
    {
     "data": {
      "image/png": "[encoded data removed]",
      "text/plain": [
       "<Figure size 1080x1080 with 1 Axes>"
      ]
     },
     "metadata": {
      "needs_background": "light"
     },
     "output_type": "display_data"
    }
   ],
   "source": [
    "import matplotlib.pyplot as plt\n",
    "import matplotlib.colors as ListedColorMap\n",
    "import matplotlib.patches as mpatches\n",
    "from matplotlib.ticker import NullFormatter\n",
    "%matplotlib inline\n",
    "\n",
    "cmap = {0:[0,0.32549,0.62353,1], 1:[0.93333,0.9098,0.77255,1], 2:[0,0.61961,0.45098,1],  3:[0.33725,0.70588,0.91373,1],\n",
    "        4:[0,0,0,1], 5:[1,0.82353,0,1], 6:[0.90196,0.62353,0,1], 7:[0.83529,0.36863,0,1],\n",
    "        8:[0.8,0.47451,0.65490,1]}\n",
    "labels = {0:'sky', 1:'clouds', 2:'vegetation', 3:'water', 4:'built',\n",
    "          5:'windows', 6:'roads', 7:'cars', 8:'metal'}\n",
    "arrayShow = np.array([[cmap[i] for i in j] for j in predictCube_reshapen])\n",
    "patches = [mpatches.Patch(color=cmap[i], label=labels[i]) for i in cmap]\n",
    "\n",
    "fig = plt.figure(figsize=(15,15))\n",
    "ax = fig.add_axes([0.1,0.1,0.9,0.9])\n",
    "ax.tick_params(labelsize=10)\n",
    "ax.imshow(arrayShow, aspect=0.4)\n",
    "lgd = ax.legend(handles=patches, bbox_to_anchor=(1,0.75), loc='upper left', borderaxespad=1.0, prop={'size':10}, ncol=1)\n",
    "plt.show()\n",
    "#fig.savefig(\"./plots/CNN_change_params_spatial_train_all_5_north_predict_map.png\", bbox_extra_artists=(lgd,), bbox_inches='tight')"
   ]
  },
  {
   "cell_type": "code",
   "execution_count": 103,
   "metadata": {},
   "outputs": [
    {
     "data": {
      "image/png": "[encoded data removed]",
      "text/plain": [
       "<Figure size 1080x1080 with 1 Axes>"
      ]
     },
     "metadata": {
      "needs_background": "light"
     },
     "output_type": "display_data"
    }
   ],
   "source": [
    "import matplotlib.pyplot as plt\n",
    "import matplotlib.colors as ListedColorMap\n",
    "import matplotlib.patches as mpatches\n",
    "from matplotlib.ticker import NullFormatter\n",
    "%matplotlib inline\n",
    "\n",
    "cmap = {0:[0,0.32549,0.62353,1], 1:[0.93333,0.9098,0.77255,1], 2:[0,0.61961,0.45098,1],  3:[0.33725,0.70588,0.91373,1],\n",
    "        4:[0,0,0,1], 5:[1,0.82353,0,1], 6:[0.90196,0.62353,0,1], 7:[0.83529,0.36863,0,1],\n",
    "        8:[0.8,0.47451,0.65490,1]}\n",
    "labels = {0:'sky', 1:'clouds', 2:'vegetation', 3:'water', 4:'built',\n",
    "          5:'windows', 6:'roads', 7:'cars', 8:'metal'}\n",
    "arrayShow = np.array([[cmap[i] for i in j] for j in predictCube_reshapen])\n",
    "patches = [mpatches.Patch(color=cmap[i], label=labels[i]) for i in cmap]\n",
    "\n",
    "fig = plt.figure(figsize=(15,15))\n",
    "#ax = fig.add_axes([0.1,0.1,0.9,0.9])\n",
    "#ax.tick_params(labelsize=10)\n",
    "plt.imshow(arrayShow, aspect=0.4)\n",
    "#lgd = ax.legend(handles=patches, bbox_to_anchor=(1,0.75), loc='upper left', borderaxespad=1.0, prop={'size':10}, ncol=1)\n",
    "plt.axis('off')\n",
    "plt.show()\n",
    "fig.savefig(\"./plots/CNN_Model1_no_spatial_train_108_test_north_predict_map.png\", bbox_inches='tight', dpi=300)"
   ]
  },
  {
   "cell_type": "code",
   "execution_count": 104,
   "metadata": {},
   "outputs": [],
   "source": [
    "import pickle\n",
    "pickle.dump(predictCube_reshapen, open(\"./plots/CNN_Model1_no_spatial_train_108_test_north_predict_map.pickle\", \"wb\"))"
   ]
  },
  {
   "cell_type": "code",
   "execution_count": 21,
   "metadata": {},
   "outputs": [],
   "source": [
    "import pickle\n",
    "file = open(\"./plots/CNN_Model1_no_spatial_train_108_test_north_predict_map.pickle\", \"rb\")\n",
    "predictCube_reshapen = pickle.load(file)"
   ]
  },
  {
   "cell_type": "markdown",
   "metadata": {},
   "source": [
    "### Evaluation Metrics (108 transferred to North)"
   ]
  },
  {
   "cell_type": "code",
   "execution_count": 22,
   "metadata": {},
   "outputs": [],
   "source": [
    "labelsn_pred_sky = predictCube_reshapen[sky_coordsn[:, 0], sky_coordsn[:, 1]]\n",
    "labelsn_pred_clouds = predictCube_reshapen[clouds_coordsn[:, 0], clouds_coordsn[:,1]]\n",
    "labelsn_pred_veg = predictCube_reshapen[veg_coordsn[:,0], veg_coordsn[:,1]]\n",
    "labelsn_pred_wtr = predictCube_reshapen[wtr_coordsn[:,0], wtr_coordsn[:,1]]\n",
    "labelsn_pred_blt = predictCube_reshapen[blt_coordsn[:,0], blt_coordsn[:,1]]\n",
    "labelsn_pred_windows = predictCube_reshapen[windows_coordsn[:,0], windows_coordsn[:,1]]\n",
    "labelsn_pred_rds = predictCube_reshapen[rds_coordsn[:,0], rds_coordsn[:,1]]\n",
    "labelsn_pred_cars = predictCube_reshapen[cars_coordsn[:,0], cars_coordsn[:,1]]\n",
    "labelsn_pred_mtl = predictCube_reshapen[mtl_coordsn[:,0], mtl_coordsn[:,1]]\n",
    "\n",
    "labelsn_pred = np.concatenate((labelsn_pred_sky, labelsn_pred_clouds, labelsn_pred_veg, labelsn_pred_wtr, \n",
    "                             labelsn_pred_blt, labelsn_pred_windows, labelsn_pred_rds, labelsn_pred_cars, labelsn_pred_mtl))"
   ]
  },
  {
   "cell_type": "code",
   "execution_count": 23,
   "metadata": {},
   "outputs": [],
   "source": [
    "labelsn_true_sky = np.full((sky_coordsn.shape[0]), 0)\n",
    "labelsn_true_clouds = np.full((clouds_coordsn.shape[0]), 1)\n",
    "labelsn_true_veg = np.full((veg_coordsn.shape[0]), 2)\n",
    "labelsn_true_wtr = np.full((wtr_coordsn.shape[0]), 3)\n",
    "labelsn_true_blt = np.full((blt_coordsn.shape[0]), 4)\n",
    "labelsn_true_windows = np.full((windows_coordsn.shape[0]), 5)\n",
    "labelsn_true_rds = np.full((rds_coordsn.shape[0]), 6)\n",
    "labelsn_true_cars = np.full((cars_coordsn.shape[0]), 7)\n",
    "labelsn_true_mtl = np.full((mtl_coordsn.shape[0]), 8)\n",
    "\n",
    "labelsn_true = np.concatenate((labelsn_true_sky, labelsn_true_clouds, labelsn_true_veg, labelsn_true_wtr, \n",
    "                             labelsn_true_blt, labelsn_true_windows, labelsn_true_rds, labelsn_true_cars, labelsn_true_mtl))"
   ]
  },
  {
   "cell_type": "code",
   "execution_count": 24,
   "metadata": {},
   "outputs": [
    {
     "name": "stdout",
     "output_type": "stream",
     "text": [
      "(4705,)\n",
      "(4705,)\n"
     ]
    }
   ],
   "source": [
    "print(labelsn_pred.shape)\n",
    "print(labelsn_true.shape)"
   ]
  },
  {
   "cell_type": "code",
   "execution_count": 25,
   "metadata": {},
   "outputs": [
    {
     "name": "stdout",
     "output_type": "stream",
     "text": [
      "Confusion Matrix\n",
      "[[  0   0   0   0 300   0   0   0   0]\n",
      " [  0   0   0   0 200   0   0   0   0]\n",
      " [  0   0 697   0   0   3   0   0   0]\n",
      " [  0   0   7   0 613   0   0   0   0]\n",
      " [  0   0 350   0 810 440   0   0   0]\n",
      " [  0   0  34   0 318 246   0   0   2]\n",
      " [  0   0  10   0  64 176   0   0   0]\n",
      " [  0   0  27   0 101 116   0   1   5]\n",
      " [  0   0  14   0 153  18   0   0   0]]\n",
      "\n",
      "Accuracy Score\n",
      "0.37279489904357066\n",
      "\n",
      "Classification Report\n",
      "             precision    recall  f1-score   support\n",
      "\n",
      "        sky       0.00      0.00      0.00       300\n",
      "     clouds       0.00      0.00      0.00       200\n",
      " vegetation       0.61      1.00      0.76       700\n",
      "      water       0.00      0.00      0.00       620\n",
      "      built       0.32      0.51      0.39      1600\n",
      "    windows       0.25      0.41      0.31       600\n",
      "      roads       0.00      0.00      0.00       250\n",
      "       cars       1.00      0.00      0.01       250\n",
      "      metal       0.00      0.00      0.00       185\n",
      "\n",
      "avg / total       0.28      0.37      0.28      4705\n",
      "\n"
     ]
    },
    {
     "name": "stderr",
     "output_type": "stream",
     "text": [
      "/usr/local/lib/python3.6/site-packages/sklearn/metrics/classification.py:1135: UndefinedMetricWarning: Precision and F-score are ill-defined and being set to 0.0 in labels with no predicted samples.\n",
      "  'precision', 'predicted', average, warn_for)\n"
     ]
    }
   ],
   "source": [
    "from sklearn import metrics\n",
    "\n",
    "print(\"Confusion Matrix\")\n",
    "print(metrics.confusion_matrix(labelsn_true, labelsn_pred))\n",
    "\n",
    "print(\"\")\n",
    "print(\"Accuracy Score\")\n",
    "print(metrics.accuracy_score(labelsn_true, labelsn_pred))\n",
    "\n",
    "target_names = ['sky', 'clouds', 'vegetation', 'water', 'built', 'windows', 'roads', 'cars', 'metal']\n",
    "print(\"\")\n",
    "print(\"Classification Report\")\n",
    "print(metrics.classification_report(labelsn_true, labelsn_pred, target_names=target_names))"
   ]
  },
  {
   "cell_type": "code",
   "execution_count": 26,
   "metadata": {},
   "outputs": [
    {
     "name": "stderr",
     "output_type": "stream",
     "text": [
      "/usr/local/lib/python3.6/site-packages/sklearn/metrics/classification.py:1135: UndefinedMetricWarning: Precision and F-score are ill-defined and being set to 0.0 in labels with no predicted samples.\n",
      "  'precision', 'predicted', average, warn_for)\n"
     ]
    }
   ],
   "source": [
    "f = open(\"./metrics/CNN_Model1_no_spatial_train_108_test_north_metrics.txt\", \"w\")\n",
    "f.write(\"Confusion Matrix\")\n",
    "f.write('\\n')\n",
    "f.write(str(metrics.confusion_matrix(labelsn_true, labelsn_pred)))\n",
    "f.write('\\n')\n",
    "f.write('\\n')\n",
    "f.write(\"Accuracy Score\")\n",
    "f.write('\\n')\n",
    "f.write(str(metrics.accuracy_score(labelsn_true, labelsn_pred)))\n",
    "target_names = ['sky', 'clouds', 'vegetation', 'water', 'built', 'windows', 'roads', 'cars', 'metal']\n",
    "f.write('\\n')\n",
    "f.write('\\n')\n",
    "f.write(\"Classification Report\")\n",
    "f.write('\\n')\n",
    "f.write(metrics.classification_report(labelsn_true, labelsn_pred, target_names=target_names))\n",
    "f.close()"
   ]
  },
  {
   "cell_type": "code",
   "execution_count": null,
   "metadata": {},
   "outputs": [],
   "source": []
  },
  {
   "cell_type": "code",
   "execution_count": null,
   "metadata": {},
   "outputs": [],
   "source": []
  }
 ],
 "metadata": {
  "kernelspec": {
   "display_name": "Python 3",
   "language": "python",
   "name": "python3"
  },
  "language_info": {
   "codemirror_mode": {
    "name": "ipython",
    "version": 3
   },
   "file_extension": ".py",
   "mimetype": "text/x-python",
   "name": "python",
   "nbconvert_exporter": "python",
   "pygments_lexer": "ipython3",
   "version": "3.6.8"
  }
 },
 "nbformat": 4,
 "nbformat_minor": 2
}
