{
 "cells": [
  {
   "cell_type": "code",
   "execution_count": null,
   "metadata": {},
   "outputs": [],
   "source": [
    "import glob\n",
    "import numpy as np\n",
    "import hyss_util as hu\n",
    "from datetime import datetime\n",
    "from sklearn.decomposition import PCA, FactorAnalysis, FastICA\n",
    "from sklearn.model_selection import train_test_split\n",
    "from plotting import set_defaults\n",
    "import pandas as pd\n",
    "from pandas.plotting import scatter_matrix\n",
    "from scipy import stats\n",
    "from scipy.optimize import minimize\n",
    "import statsmodels.formula.api as sm\n",
    "import random\n",
    "import emcee\n",
    "import corner\n",
    "from IPython.display import display, Math\n",
    "import matplotlib.pyplot as plt\n",
    "%matplotlib inline"
   ]
  },
  {
   "cell_type": "code",
   "execution_count": null,
   "metadata": {},
   "outputs": [],
   "source": [
    "# -- set the types\n",
    "\n",
    "kind = \"veg\"\n",
    "comp = \"bld\"\n",
    "runpca = False\n",
    "runfan = False\n",
    "runica = False\n",
    "getndvi = False"
   ]
  },
  {
   "cell_type": "code",
   "execution_count": null,
   "metadata": {},
   "outputs": [],
   "source": [
    "# -- get wavelengths\n",
    "waves = hu.read_header(\"../../../image_files/veg_00000.hdr\")[\"waves\"]\n",
    "\n",
    "# -- define good scans\n",
    "good = np.array([int(i) for i in np.load(\"../../../gdobler_output/output/good_scans.npy\")])"
   ]
  },
  {
   "cell_type": "code",
   "execution_count": null,
   "metadata": {},
   "outputs": [],
   "source": [
    "def normalize_spectra(specs):\n",
    "    ms, bs = [], []\n",
    "    for ii in range(specs.shape[0]):\n",
    "        m = specs[0].mean()/specs[ii].mean()\n",
    "        b = 0.0\n",
    "        ms.append(m)\n",
    "        bs.append(b)\n",
    "        \n",
    "    ms   = np.array(ms)\n",
    "    bs   = np.array(bs)\n",
    "    norm = specs*ms[:,np.newaxis] + bs[:,np.newaxis]\n",
    "    rat  = norm/norm[0]\n",
    "    return rat"
   ]
  },
  {
   "cell_type": "code",
   "execution_count": null,
   "metadata": {},
   "outputs": [],
   "source": [
    "# -- load comparison set from bld (left box)\n",
    "print(\"getting {0} spectra...\".format(comp))\n",
    "try:\n",
    "    blds_left = np.load(\"../../../gdobler_output/output/blds_left.npy\")\n",
    "except:\n",
    "    blds_left = np.array([np.load(i)[:,:,:78].mean(-1).mean(-1) for i in\n",
    "                    sorted(glob.glob(\"../../../gdobler_output/output/{0}_specs/{0}_specs*.npy\"\\\n",
    "                                    .format(comp))) if \"_avg\" not in i])\n",
    "    blds_left = blds_left[good]\n",
    "    # np.save(\"../../../gdobler_output/output/blds_left.npy\",blds)"
   ]
  },
  {
   "cell_type": "code",
   "execution_count": null,
   "metadata": {},
   "outputs": [],
   "source": [
    "# -- normalize spectra\n",
    "#ms, bs = [], []\n",
    "#for ii in range(blds_left.shape[0]):\n",
    "#    # m, b = np.polyfit(blds[ii,:100],blds[0,:100],1)\n",
    "#    # m, b = np.polyfit(blds[ii],blds[0],1)\n",
    "#    m = blds_left[0].mean()/blds_left[ii].mean()\n",
    "#    b = 0.0\n",
    "#    ms.append(m)\n",
    "#    bs.append(b)\n",
    "\n",
    "#ms   = np.array(ms)\n",
    "#bs   = np.array(bs)\n",
    "#norm = blds_left*ms[:,np.newaxis] + bs[:,np.newaxis]\n",
    "#rat  = norm/norm[0]\n",
    "\n",
    "lbrat = normalize_spectra(blds_left)"
   ]
  },
  {
   "cell_type": "code",
   "execution_count": null,
   "metadata": {},
   "outputs": [],
   "source": [
    "# -- get vegetation spectra\n",
    "print(\"getting {0} spectra...\".format(kind))\n",
    "if kind==\"veg\":\n",
    "    vegs = np.load(\"../../../gdobler_output/output/veg_patch_specs.npy\")\n",
    "else:\n",
    "    vegs = np.array([np.load(i) for i in\n",
    "                     sorted(glob.glob(\"../../../gdobler_output/output/\" + \n",
    "                                      \"{0}_specs/{0}_specs_avg*.npy\" \\\n",
    "                                      .format(kind)))])\n",
    "    vegs = vegs[good]"
   ]
  },
  {
   "cell_type": "code",
   "execution_count": null,
   "metadata": {},
   "outputs": [],
   "source": [
    "# -- normalize spectra\n",
    "#ss, os = [], []\n",
    "#for ii in range(vegs.shape[0]):\n",
    "#    # s, o = np.polyfit(vegs[ii,:100],vegs[0,:100],1)\n",
    "#    # s, o = np.polyfit(vegs[ii],vegs[0],1)\n",
    "#    s = vegs[0].mean()/vegs[ii].mean()\n",
    "#    o = 0.0\n",
    "#    ss.append(s)\n",
    "#    os.append(o)\n",
    "\n",
    "#ss    = np.array(ss)\n",
    "#os    = np.array(os)\n",
    "#vnorm = vegs*ss[:,np.newaxis] + os[:,np.newaxis]\n",
    "#vrat  = vnorm/vnorm[0]\n",
    "\n",
    "vrat = normalize_spectra(vegs)"
   ]
  },
  {
   "cell_type": "code",
   "execution_count": null,
   "metadata": {},
   "outputs": [],
   "source": [
    "# -- get comparison spectra from right building\n",
    "print(\"getting {0} spectra...\".format(comp))\n",
    "try:\n",
    "    blds_right = np.load(\"../../../gdobler_output/output/blds_right.npy\")\n",
    "except:\n",
    "    blds_right = np.array([np.load(i)[:,:,78:].mean(-1).mean(-1) for i in\n",
    "                     sorted(glob.glob(\"../../../gdobler_output/output/{0}_specs/{0}_specs*.npy\"\\\n",
    "                                          .format(comp))) if \"_avg\" not in i])\n",
    "    blds_right = blds_right[good]\n",
    "    # np.save(\"../../../gdobler_output/output/blds_right.npy\",vegs)"
   ]
  },
  {
   "cell_type": "code",
   "execution_count": null,
   "metadata": {},
   "outputs": [],
   "source": [
    "# -- normalize spectra\n",
    "#ss, os = [], []\n",
    "#for ii in range(vegs.shape[0]):\n",
    "#    # s, o = np.polyfit(vegs[ii,:100],vegs[0,:100],1)\n",
    "#    # s, o = np.polyfit(vegs[ii],vegs[0],1)\n",
    "#    s = blds_right[0].mean()/blds_right[ii].mean()\n",
    "#    o = 0.0\n",
    "#    ss.append(s)\n",
    "#    os.append(o)\n",
    "\n",
    "#ss    = np.array(ss)\n",
    "#os    = np.array(os)\n",
    "#vnorm = blds_right*ss[:,np.newaxis] + os[:,np.newaxis]\n",
    "#vrat  = vnorm/vnorm[0]\n",
    "\n",
    "rbrat = normalize_spectra(blds_right)"
   ]
  },
  {
   "cell_type": "code",
   "execution_count": null,
   "metadata": {},
   "outputs": [],
   "source": [
    "# -- take the ratio of ratios\n",
    "D_vrat = vrat/lbrat   # vegetation to left buildings\n",
    "D_brat = rbrat/lbrat  # right buildings to left buildings"
   ]
  },
  {
   "cell_type": "markdown",
   "metadata": {},
   "source": [
    "#### Normalize and plot air quality"
   ]
  },
  {
   "cell_type": "code",
   "execution_count": null,
   "metadata": {},
   "outputs": [],
   "source": [
    "# -- get some ancillary data\n",
    "sc     = pd.read_csv(\"../../../gdobler_output/output/scan_conditions.csv\")\n",
    "sc_sub = sc[sc.filename.isin([\"veg_{0:05}.raw\".format(i) for i in good])]\n",
    "\n",
    "temps = sc_sub.temperature.values\n",
    "humid = sc_sub.humidity.values\n",
    "pm25  = sc_sub.pm25.values\n",
    "o3    = sc_sub.o3.values\n",
    "secs  = []\n",
    "for stime in sc_sub.time.values:\n",
    "    yr, mo, dy, tm = stime.split()\n",
    "    stime_fmt      = \"{0} {1} {2:02} {3}:00\".format(yr,mo,int(dy),tm)\n",
    "    obs_dt         = datetime.strptime(stime_fmt,\"%Y %b %d %H:%M:%S\")\n",
    "    secs.append(float(obs_dt.strftime(\"%s\")))\n",
    "secs = np.array(secs)"
   ]
  },
  {
   "cell_type": "code",
   "execution_count": null,
   "metadata": {},
   "outputs": [],
   "source": [
    "# create air quality arrays\n",
    "\n",
    "#normalize air quality arrays\n",
    "\n",
    "o3 = stats.zscore(o3)\n",
    "pm25 = stats.zscore(pm25)\n",
    "temps = stats.zscore(temps)\n",
    "humid = stats.zscore(humid)\n",
    "\n",
    "aq_opth1  = np.vstack([o3,pm25,temps,humid,np.ones_like(o3)]).T\n",
    "aq_pth1 = np.vstack([pm25,temps,humid,np.ones_like(o3)]).T\n",
    "aq_op1 = np.vstack([o3,pm25,np.ones_like(o3)]).T"
   ]
  },
  {
   "cell_type": "code",
   "execution_count": null,
   "metadata": {},
   "outputs": [],
   "source": [
    "opth = pd.DataFrame({'O3': o3, 'PM2.5': pm25, 'Temp': temps, 'Humidity':humid})\n",
    "opth.describe()"
   ]
  },
  {
   "cell_type": "code",
   "execution_count": null,
   "metadata": {},
   "outputs": [],
   "source": [
    "scatter_matrix(opth, alpha=0.6, figsize=(10,10), diagonal='hist')\n",
    "plt.show()"
   ]
  },
  {
   "cell_type": "code",
   "execution_count": null,
   "metadata": {},
   "outputs": [],
   "source": [
    "fig, ((ax1, ax2), (ax3, ax4)) = plt.subplots(2, 2, figsize=(9,12))\n",
    "\n",
    "ax1.plot(o3,color=\"darkred\",lw=1)\n",
    "#ax1.set_xlabel(\"scan number\")\n",
    "ax1.set_ylabel('normalized O3')\n",
    "ax1.set_title('O3')\n",
    "\n",
    "ax2.plot(pm25,color=\"darkred\",lw=1)\n",
    "#ax2.set_xlabel(\"scan number\")\n",
    "ax2.set_ylabel('normalized PM2.5')\n",
    "ax2.set_title('PM2.5')\n",
    "\n",
    "ax3.plot(temps,color=\"darkred\",lw=1)\n",
    "ax.set_xlabel(\"scan number\")\n",
    "ax3.set_ylabel('normalized Temps')\n",
    "ax3.set_title('Temperature')\n",
    "\n",
    "ax4.plot(humid,color=\"darkred\",lw=1)\n",
    "ax4.set_xlabel(\"scan number\")\n",
    "ax4.set_ylabel('normalized Humidity')\n",
    "ax4.set_title('Humidity')\n",
    "\n",
    "plt.show()"
   ]
  },
  {
   "cell_type": "code",
   "execution_count": null,
   "metadata": {},
   "outputs": [],
   "source": [
    "fig = plt.subplots(figsize=[10,3])\n",
    "lino, = plt.plot(o3, color=\"yellow\", lw=1)\n",
    "linp, = plt.plot(pm25, color=\"black\", lw=1)\n",
    "lint, = plt.plot(temps, color=\"red\", lw=1)\n",
    "linh, = plt.plot(humid, color=\"blue\", lw=1)\n",
    "plt.title(\"Air quality variables\")\n",
    "plt.xlabel(\"scan number\")\n",
    "plt.ylabel(\"normalized AQ\")\n",
    "plt.legend([lino,linp,lint,linh], [\"O3\",\"PM2.5\",\"Temp\",\"Humid\"], loc=\"upper left\", fontsize=12)\n",
    "plt.show()"
   ]
  },
  {
   "cell_type": "markdown",
   "metadata": {},
   "source": [
    "## (1)  D(750) / D(1000)   --||vs||--   O3, PM2.5, Temps, Humid (ALL)\n",
    "\n",
    "$brightness = w_{O3} * O_3 + w_{PM25} * PM2.5 + w_{T} * Temp + w_{H} * Humid + b + \\epsilon$\n",
    "\n",
    "$\\epsilon$ is a Gaussian noise term such that:\n",
    "\n",
    "observed = true + random.normal(0, $\\epsilon$, number_of_observations)"
   ]
  },
  {
   "cell_type": "code",
   "execution_count": null,
   "metadata": {},
   "outputs": [],
   "source": [
    "aq_opth1  = np.vstack([o3,pm25,temps,humid,np.ones_like(o3)]).T"
   ]
  },
  {
   "cell_type": "markdown",
   "metadata": {},
   "source": [
    "### Linear Least Squares - no errors"
   ]
  },
  {
   "cell_type": "code",
   "execution_count": null,
   "metadata": {},
   "outputs": [],
   "source": [
    "print(waves[500], waves[-150])\n",
    "print(waves[430], waves[570])\n",
    "\n",
    "ind_ir  = np.argmin(np.abs(waves-860.))\n",
    "ind_vis = np.argmin(np.abs(waves-670.))"
   ]
  },
  {
   "cell_type": "code",
   "execution_count": null,
   "metadata": {},
   "outputs": [],
   "source": [
    "# calculate differential ratios\n",
    "# D(750)/D(1000)\n",
    "\n",
    "D_veg = D_vrat[:,500] / D_vrat[:,-1]\n",
    "D_bld = D_brat[:,500] / D_brat[:,-1]"
   ]
  },
  {
   "cell_type": "code",
   "execution_count": null,
   "metadata": {},
   "outputs": [],
   "source": [
    "# normalize differential ratios\n",
    "\n",
    "D_veg = stats.zscore(D_veg)\n",
    "D_bld = stats.zscore(D_bld)"
   ]
  },
  {
   "cell_type": "code",
   "execution_count": null,
   "metadata": {},
   "outputs": [],
   "source": [
    "ind  = np.arange(len(D_veg))\n",
    "solv  = np.linalg.lstsq(aq_opth1[ind], D_veg[ind], rcond=None)\n",
    "predv = np.dot(aq_opth1[ind], solv[0])\n",
    "\n",
    "# coefficient of determination r2\n",
    "#rsq  = 1.0-((brightness-pred)**2).sum() / \\\n",
    "#     ((brightness-brightness.mean())**2).sum()\n",
    "r2   = 1 - solv[1] / (len(D_veg) * D_veg.var())\n",
    "print(\"sol = \", solv)\n",
    "#print(\"rsq = \", rsq)\n",
    "print(\"r2  = \", r2)"
   ]
  },
  {
   "cell_type": "code",
   "execution_count": null,
   "metadata": {},
   "outputs": [],
   "source": [
    "ind  = np.arange(len(D_bld))\n",
    "solb  = np.linalg.lstsq(aq_opth1[ind], D_bld[ind], rcond=None)\n",
    "predb = np.dot(aq_opth1[ind], solb[0])\n",
    "\n",
    "# coefficient of determination r2\n",
    "#rsq  = 1.0-((brightness-pred)**2).sum() / \\\n",
    "#     ((brightness-brightness.mean())**2).sum()\n",
    "r2   = 1 - solb[1] / (len(D_bld) * D_bld.var())\n",
    "print(\"sol = \", solb)\n",
    "#print(\"rsq = \", rsq)\n",
    "print(\"r2  = \", r2)"
   ]
  },
  {
   "cell_type": "code",
   "execution_count": null,
   "metadata": {},
   "outputs": [],
   "source": [
    "fig, ((ax1, ax2)) = plt.subplots(1, 2, figsize=(4,12))\n",
    "\n",
    "ax1.plot(D_veg,color=\"darkred\",lw=1)\n",
    "ax1.plot(predv,color=\"dodgerblue\",lw=2)\n",
    "ax1.set_ylim(-4,4)\n",
    "ax1.set_xlim(0,predv.size)\n",
    "ax1.set_xlabel(\"scan number\")\n",
    "#ax1.set_ylabel(r'$D(\\lambda=0.75\\mu$m$)/D(\\lambda=1.0\\mu$m$)$')\n",
    "ax1.set_ylabel(r'$D_{750}/D_{1000}$')\n",
    "ax1.set_title('Vegetation')\n",
    "\n",
    "ax2.plot(D_bld,color=\"darkred\",lw=1)\n",
    "ax2.plot(predb,color=\"dodgerblue\",lw=2)\n",
    "ax2.set_ylim(-4,4)\n",
    "ax2.set_xlim(0,predb.size)\n",
    "ax2.set_xlabel(\"scan number\")\n",
    "ax2.set_ylabel(r'$D_{750}/D_{1000}$')\n",
    "ax2.set_title('Buildings')\n",
    "\n",
    "plt.show()"
   ]
  },
  {
   "cell_type": "markdown",
   "metadata": {},
   "source": [
    "### Maximum Likelihood Estimation with brightness"
   ]
  },
  {
   "cell_type": "code",
   "execution_count": null,
   "metadata": {},
   "outputs": [],
   "source": [
    "def log_prior(theta):\n",
    "    beta_o3, beta_pm25, beta_temps, beta_humid, alpha, eps = theta\n",
    "    if eps <= 0:\n",
    "        return -np.inf\n",
    "    return 0.0\n",
    "\n",
    "def log_likelihood(theta, o3, pm25, temps, humid, y):\n",
    "    beta_o3, beta_pm25, beta_temps, beta_humid, alpha, eps = theta\n",
    "    model = beta_o3 * o3 + beta_pm25 * pm25 + beta_temps * temps + beta_humid * humid + alpha\n",
    "    denom = eps ** 2\n",
    "    lp = -0.5 * sum(((y - model) ** 2) / denom + np.log(denom) + np.log(2 * np.pi))\n",
    "    return lp\n",
    "\n",
    "def log_probability(theta, o3, pm25, temps, humid, y):\n",
    "    lp = log_prior(theta)\n",
    "    if not np.isfinite(lp):\n",
    "        return -np.inf\n",
    "    return lp + log_likelihood(theta, o3, pm25, temps, humid, y)"
   ]
  },
  {
   "cell_type": "code",
   "execution_count": null,
   "metadata": {},
   "outputs": [],
   "source": [
    "# -- obtaining uncertainty for brightness\n",
    "\n",
    "diffv = D_veg[1:] - D_veg[:-1]\n",
    "verr = diffv.std()/np.sqrt(2.0)\n",
    "print(\"error in vegetation brightness = \", verr)\n",
    "\n",
    "diffb = D_bld[1:] - D_bld[:-1]\n",
    "berr = diffb.std()/np.sqrt(2.0)\n",
    "print(\"error in building brightness = \", berr)"
   ]
  },
  {
   "cell_type": "code",
   "execution_count": null,
   "metadata": {},
   "outputs": [],
   "source": [
    "# -- obtaining uncertainty for air quality\n",
    "\n",
    "templates  = np.vstack([o3,pm25,temps,humid,np.ones_like(o3)]).T\n",
    "diff_air = templates[1:] - templates[:-1]\n",
    "air_err = diff_air.std(0)/np.sqrt(2.0)\n",
    "print(\"errors in air qaulity = \", air_err)"
   ]
  },
  {
   "cell_type": "code",
   "execution_count": null,
   "metadata": {},
   "outputs": [],
   "source": [
    "# -- numerical optimum of likelihood function\n",
    "\n",
    "np.random.seed(314)\n",
    "nll = lambda *args: -log_likelihood(*args)\n",
    "initialv = np.append(solv[0], verr)\n",
    "resultv = minimize(nll, initialv, args=(aq_opth1[:,0], aq_opth1[:,1], aq_opth1[:,2], \n",
    "                                    aq_opth1[:,3], D_veg))\n",
    "beta_o3_v, beta_pm25_v, beta_temps_v, beta_humid_v, alpha_v, epsilon_v = resultv.x\n",
    "\n",
    "print(\"Maximum likelihood estimates for Vegetation:\")\n",
    "print(\"w_o3    =  {0:.5f}\".format(beta_o3_v))\n",
    "print(\"w_pm25  = {0:.5f}\".format(beta_pm25_v))\n",
    "print(\"w_temps = {0:.5f}\".format(beta_temps_v))\n",
    "print(\"w_humid =  {0:.5f}\".format(beta_humid_v))\n",
    "print(\"b       =  {0:.5f}\".format(alpha_v))\n",
    "print(\"e       =  {0:.5f}\".format(epsilon_v))\n",
    "\n",
    "np.random.seed(413)\n",
    "nll = lambda *args: -log_likelihood(*args)\n",
    "initialb = np.append(solb[0], berr)\n",
    "resultb = minimize(nll, initialb, args=(aq_opth1[:,0], aq_opth1[:,1], aq_opth1[:,2], \n",
    "                                    aq_opth1[:,3], D_bld))\n",
    "beta_o3_b, beta_pm25_b, beta_temps_b, beta_humid_b, alpha_b, epsilon_b = resultb.x\n",
    "print(\"Maximum likelihood estimates for Buildings:\")\n",
    "print(\"w_o3    =  {0:.5f}\".format(beta_o3_b))\n",
    "print(\"w_pm25  = {0:.5f}\".format(beta_pm25_b))\n",
    "print(\"w_temps = {0:.5f}\".format(beta_temps_b))\n",
    "print(\"w_humid =  {0:.5f}\".format(beta_humid_b))\n",
    "print(\"b       =  {0:.5f}\".format(alpha_b))\n",
    "print(\"e       =  {0:.5f}\".format(epsilon_b))"
   ]
  },
  {
   "cell_type": "markdown",
   "metadata": {},
   "source": [
    "### MCMC"
   ]
  },
  {
   "cell_type": "code",
   "execution_count": null,
   "metadata": {},
   "outputs": [],
   "source": [
    "nwalkers, ndim = 50, 6\n",
    "pv0 = resultv.x + 1e-4 * np.random.randn(nwalkers, ndim)\n",
    "pb0 = resultb.x + 1e-4 * np.random.randn(nwalkers, ndim)"
   ]
  },
  {
   "cell_type": "code",
   "execution_count": null,
   "metadata": {},
   "outputs": [],
   "source": [
    "# -- **Vegetation**\n",
    "# -- Sample the distribution using emcee\n",
    "# -- start by initializing the walkers in a small Gaussian ball around the maximum likelihood result\n",
    "# -- then run 5000 steps of MCMC\n",
    "\n",
    "import emcee\n",
    "\n",
    "samplerv = emcee.EnsembleSampler(nwalkers, ndim, log_probability, \n",
    "                                args=(aq_opth1[:,0], aq_opth1[:,1],\n",
    "                                      aq_opth1[:,2], aq_opth1[:,3], D_veg))\n",
    "posv, probv, statev = samplerv.run_mcmc(pv0, 5000)"
   ]
  },
  {
   "cell_type": "code",
   "execution_count": null,
   "metadata": {},
   "outputs": [],
   "source": [
    "# -- **Buildings**\n",
    "# -- Sample the distribution using emcee\n",
    "# -- start by initializing the walkers in a small Gaussian ball around the maximum likelihood result\n",
    "# -- then run 5000 steps of MCMC\n",
    "\n",
    "import emcee\n",
    "\n",
    "samplerb = emcee.EnsembleSampler(nwalkers, ndim, log_probability, \n",
    "                                args=(aq_opth1[:,0], aq_opth1[:,1],\n",
    "                                      aq_opth1[:,2], aq_opth1[:,3], D_bld))\n",
    "posb, probb, stateb = samplerb.run_mcmc(pb0, 5000)"
   ]
  },
  {
   "cell_type": "code",
   "execution_count": null,
   "metadata": {},
   "outputs": [],
   "source": [
    "fig, axes = plt.subplots(ndim, 2, figsize=(10, 13), sharex=True)\n",
    "labels = [r'$w_{O_3}$', r'$w_{PM2.5}$', r'$w_{temps}$', r'$w_{humid}$', r'$b$', r'$\\epsilon$']\n",
    "samplesv = samplerv.get_chain()\n",
    "samplesb = samplerb.get_chain()\n",
    "for i in range(ndim):\n",
    "    ax = axes[i, 0]\n",
    "    ax.plot(samplesv[:, :, i], \"k\", alpha=0.3)\n",
    "    ax.set_xlim(0, len(samplesv))\n",
    "    ax.set_ylabel(labels[i])\n",
    "    ax.yaxis.set_label_coords(-0.1, 0.5)\n",
    "\n",
    "for i in range(ndim):\n",
    "    ax = axes[i, 1]\n",
    "    ax.plot(samplesb[:, :, i], \"k\", alpha=0.3)\n",
    "    ax.set_xlim(0, len(samplesb))\n",
    "    ax.set_ylabel(labels[i])\n",
    "    ax.yaxis.set_label_coords(-0.1, 0.5)\n",
    "    \n",
    "axes[-1,0].set_xlabel(\"step number\")\n",
    "axes[-1,1].set_xlabel(\"step number\")\n",
    "axes[0,0].set_title(\"Vegetation\")\n",
    "axes[0,1].set_title(\"Buildings\")\n",
    "plt.show()"
   ]
  },
  {
   "cell_type": "code",
   "execution_count": null,
   "metadata": {},
   "outputs": [],
   "source": [
    "tau = samplerv.get_autocorr_time()\n",
    "print(tau)\n",
    "tau = samplerb.get_autocorr_time()\n",
    "print(tau)"
   ]
  },
  {
   "cell_type": "code",
   "execution_count": null,
   "metadata": {},
   "outputs": [],
   "source": [
    "# -- discard initial 200 steps (~3 x tau)\n",
    "# -- thin by 30 (about half the autocorrelation time)\n",
    "# -- flatten chain\n",
    "\n",
    "flat_samplesv = samplerv.get_chain(discard=200, thin=30, flat=True)\n",
    "print(flat_samplesv.shape)\n",
    "flat_samplesb = samplerb.get_chain(discard=200, thin=30, flat=True)\n",
    "print(flat_samplesb.shape)"
   ]
  },
  {
   "cell_type": "code",
   "execution_count": null,
   "metadata": {},
   "outputs": [],
   "source": [
    "fig = corner.corner(flat_samplesv, labels=labels, truths=np.median(flat_samplesv, axis=0))\n",
    "plt.title(\"Vegetation\")"
   ]
  },
  {
   "cell_type": "code",
   "execution_count": null,
   "metadata": {},
   "outputs": [],
   "source": [
    "fig = corner.corner(flat_samplesb, labels=labels, truths=np.median(flat_samplesb, axis=0))\n",
    "plt.title(\"Buildings\")"
   ]
  },
  {
   "cell_type": "code",
   "execution_count": null,
   "metadata": {},
   "outputs": [],
   "source": [
    "from IPython.display import display, Math\n",
    "\n",
    "labels = [\"w_{O_3}\", \"w_{PM2.5}\", \"w_{temps}\", \"w_{humid}\", \"b\", \"\\epsilon\"]\n",
    "Print(\"Vegetation\")\n",
    "for i in range(ndim):\n",
    "    mcmc = np.percentile(flat_samplesv[:,i], [16, 50, 84])\n",
    "    q = np.diff(mcmc)\n",
    "    txt = \"\\mathrm{{{3}}} = {0:.4f}_{{-{1:.4f}}}^{{{2:.4f}}}\"\n",
    "    txt = txt.format(mcmc[1], q[0], q[1], labels[i])\n",
    "    display(Math(txt))\n",
    "\n",
    "print(\"\")\n",
    "Print(\"Buildings\")\n",
    "for i in range(ndim):\n",
    "    mcmc = np.percentile(flat_samplesb[:,i], [16, 50, 84])\n",
    "    q = np.diff(mcmc)\n",
    "    txt = \"\\mathrm{{{3}}} = {0:.4f}_{{-{1:.4f}}}^{{{2:.4f}}}\"\n",
    "    txt = txt.format(mcmc[1], q[0], q[1], labels[i])\n",
    "    display(Math(txt))"
   ]
  },
  {
   "cell_type": "code",
   "execution_count": null,
   "metadata": {},
   "outputs": [],
   "source": [
    "fig, ((ax1,ax2)) = plt.subplots(1, 2, figsize=[10,3])\n",
    "linb, = ax1.plot(D_veg,color=\"darkred\",lw=1)\n",
    "inds = np.random.randint(len(flat_samplesv), size=800)\n",
    "for ind in inds:\n",
    "    sample = flat_samplesv[ind]\n",
    "    linp, = ax1.plot(np.dot(aq_opth1, sample[:5]), color=\"dodgerblue\", lw=0.3)\n",
    "ax1.set_ylim(-4, 4)\n",
    "ax1.set_xlim(0,predv.size)\n",
    "ax1.set_xlabel(\"scan number\")\n",
    "ax1.set_ylabel(r'$D_{750} / D_{1000}$')\n",
    "ax1.set_legend([linb,linp],[\"data\",\"model\"],loc=\"upper left\",fontsize=12)\n",
    "\n",
    "linb, = ax2.plot(D_bld,color=\"darkred\",lw=1)\n",
    "inds = np.random.randint(len(flat_samplesb), size=800)\n",
    "for ind in inds:\n",
    "    sample = flat_samplesb[ind]\n",
    "    linp, = ax2.plot(np.dot(aq_opth1, sample[:5]), color=\"dodgerblue\", lw=0.3)\n",
    "ax2.set_ylim(-4, 4)\n",
    "ax2.set_xlim(0,predb.size)\n",
    "ax2.set_title(\"Buildings\")\n",
    "ax2.set_xlabel(\"scan number\")\n",
    "ax2.set_ylabel(r'$D_{750} / D_{1000}$')\n",
    "ax2.set_legend([linb,linp],[\"data\",\"model\"],loc=\"upper left\",fontsize=12)\n",
    "\n",
    "plt.show()"
   ]
  },
  {
   "cell_type": "code",
   "execution_count": null,
   "metadata": {},
   "outputs": [],
   "source": [
    "# Getting 50th percentile values to use for prediction, and 16th and 84th differences for uncertainty\n",
    "mvals_v = np.zeros(ndim)\n",
    "err_vals_v = np.zeros(ndim)\n",
    "for i in range(ndim):\n",
    "    mcmc = np.percentile(flat_samplesv[:,i], [16, 50, 84])\n",
    "    q = np.diff(mcmc)\n",
    "    mvals_v[i] = mcmc[1]\n",
    "    err_vals_v[i] = (abs(q[0]) + abs(q[1])) / 2\n",
    "print(mvals_v)\n",
    "print(err_vals_v)\n",
    "\n",
    "mvals_b = np.zeros(ndim)\n",
    "err_vals_b = np.zeros(ndim)\n",
    "for i in range(ndim):\n",
    "    mcmc = np.percentile(flat_samplesb[:,i], [16, 50, 84])\n",
    "    q = np.diff(mcmc)\n",
    "    mvals_b[i] = mcmc[1]\n",
    "    err_vals_b[i] = (abs(q[0]) + abs(q[1])) / 2\n",
    "print(mvals_b)\n",
    "print(err_vals_b)"
   ]
  },
  {
   "cell_type": "code",
   "execution_count": null,
   "metadata": {},
   "outputs": [],
   "source": [
    "# calculate prediction and uncertainty\n",
    "def err_mult(m, merr, x, xerr):\n",
    "    err = abs(m * x) * np.sqrt((merr/m)**2 + (xerr/x)**2)\n",
    "    return err\n",
    "\n",
    "pred_v = np.dot(aq_opth1, mvals_v[:5])\n",
    "pred_v_err = np.zeros(pred_v.shape)\n",
    "for i in range(aq_opth1.shape[0]):\n",
    "    mO_err = err_mult(mvals_v[0], err_vals_v[0], aq_opth1[i,0], air_err[0])\n",
    "    mp_err = err_mult(mvals_v[1], err_vals_v[1], aq_opth1[i,1], air_err[1])\n",
    "    mt_err = err_mult(mvals_v[2], err_vals_v[2], aq_opth1[i,2], air_err[2])\n",
    "    mh_err = err_mult(mvals_v[3], err_vals_v[3], aq_opth1[i,3], air_err[3])\n",
    "    pred_v_err[i] = np.linalg.norm(np.array([mO_err, mp_err, mt_err, mh_err, err_vals_v[4]]))\n",
    "    \n",
    "pred_b = np.dot(aq_opth1, mvals_b[:5])\n",
    "pred_b_err = np.zeros(pred_b.shape)\n",
    "for i in range(aq_opth1.shape[0]):\n",
    "    mO_err = err_mult(mvals_b[0], err_vals_b[0], aq_opth1[i,0], air_err[0])\n",
    "    mp_err = err_mult(mvals_b[1], err_vals_b[1], aq_opth1[i,1], air_err[1])\n",
    "    mt_err = err_mult(mvals_b[2], err_vals_b[2], aq_opth1[i,2], air_err[2])\n",
    "    mh_err = err_mult(mvals_b[3], err_vals_b[3], aq_opth1[i,3], air_err[3])\n",
    "    pred_b_err[i] = np.linalg.norm(np.array([mO_err, mp_err, mt_err, mh_err, err_vals_b[4]]))"
   ]
  },
  {
   "cell_type": "code",
   "execution_count": null,
   "metadata": {},
   "outputs": [],
   "source": [
    "fig, ((ax1, ax2)) = plt.subplots(1, 2, figsize=[5, 5])\n",
    "linetr = ax1.errorbar(D_veg, pred_v, xerr=np.full(D_veg.shape, verr), \n",
    "                      yerr=pred_v_err, fmt='.', color=\"darkred\", alpha=0.2)\n",
    "linlin, = ax1.plot(D_veg, D_veg, color=\"dodgerblue\", lw=0.5)\n",
    "ax1.set_xlabel('measured')\n",
    "ax1.set_ylabel('predicted')\n",
    "ax1.set_title('Vegetation')\n",
    "#ax1.set_ylim(-1,1)\n",
    "#ax[i].legend([linetr,linete], ['training set', 'testing set'], loc='upper left')\n",
    "\n",
    "linetr = ax2.errorbar(D_bld, pred_b, xerr=np.full(D_bld.shape, berr), \n",
    "                      yerr=pred_b_err, fmt='.', color=\"darkred\", alpha=0.2)\n",
    "linlin, = ax2.plot(D_bld, D_bld, color=\"dodgerblue\", lw=0.5)\n",
    "ax2.set_xlabel('measured')\n",
    "ax2.set_ylabel('predicted')\n",
    "ax2.set_title('Buildings')\n",
    "#ax2.set_ylim(-1,1)\n",
    "\n",
    "plt.show()"
   ]
  },
  {
   "cell_type": "markdown",
   "metadata": {},
   "source": [
    "#### reduced chi-squared per degree of freedom"
   ]
  },
  {
   "cell_type": "code",
   "execution_count": null,
   "metadata": {},
   "outputs": [],
   "source": [
    "def redchisqg(ydata, ymod, deg=2, sd=None):\n",
    "    if np.any(sd == None):\n",
    "        chisq = np.sum( (ydata-ymod)**2 )\n",
    "    else:\n",
    "        chisq = np.sum( ((ydata - ymod) / sd)**2 )\n",
    "    \n",
    "    # Number of degrees of freedom assuming 2 free parameters\n",
    "    nu = ydata.size - deg\n",
    "    \n",
    "    return chisq/nu"
   ]
  },
  {
   "cell_type": "code",
   "execution_count": null,
   "metadata": {},
   "outputs": [],
   "source": [
    "# -- standard deviation of each scan from spread of samples\n",
    "\n",
    "veg_solns = np.zeros((flat_samplesv.shape[0], len(D_veg)))\n",
    "for i in range(flat_samplesv.shape[0]):\n",
    "    sample = flat_samplesv[i]\n",
    "    veg_solns[i] = np.dot(aq_opth1, sample[:5])\n",
    "\n",
    "stddev_veg = np.std(veg_solns, axis=0, ddof=1)"
   ]
  },
  {
   "cell_type": "code",
   "execution_count": null,
   "metadata": {},
   "outputs": [],
   "source": [
    "bld_solns = np.zeros((flat_samplesb.shape[0], len(D_bld)))\n",
    "for i in range(flat_samplesb.shape[0]):\n",
    "    sample = flat_samplesb[i]\n",
    "    bld_solns[i] = np.dot(aq_opth1, sample[:5])\n",
    "\n",
    "stddev_bld = np.std(bld_solns, axis=0, ddof=1)"
   ]
  },
  {
   "cell_type": "code",
   "execution_count": null,
   "metadata": {},
   "outputs": [],
   "source": [
    "chisq_v_opth = redchisqg(D_veg, pred_v, deg=ndim-1, sd=stddev_veg)\n",
    "chisq_b_opth = redchisqg(D_bld, pred_b, deg=ndim-1, sd=stddev_bld)\n",
    "\n",
    "print(\"Vegetation chi^2/dof = \", chisq_v_opth)\n",
    "print(\"Buildings chi^2/dof  = \", chisq_b_opth)"
   ]
  },
  {
   "cell_type": "markdown",
   "metadata": {},
   "source": [
    "### OLS to obtain log-likelihood scores and p-values"
   ]
  },
  {
   "cell_type": "code",
   "execution_count": null,
   "metadata": {},
   "outputs": [],
   "source": [
    "b_opth = pd.DataFrame({'D_veg': D_veg, 'D_bld': D_bld, 'o3': o3,\n",
    "          'pm25': pm25, 'temps': temps, 'humid':humid})\n",
    "b_opth.describe()"
   ]
  },
  {
   "cell_type": "code",
   "execution_count": null,
   "metadata": {},
   "outputs": [],
   "source": [
    "# build models\n",
    "modelv = sm.ols('D_veg ~ o3 + pm25 + temps + humid', data=b_opth)\n",
    "modelb = sm.ols('D_bld ~ o3 + pm25 + temps + humid', data=b_opth)\n",
    "\n",
    "# fit models to the data\n",
    "resultv_opth = modelv.fit()\n",
    "resultb_opth = modelb.fit()"
   ]
  },
  {
   "cell_type": "code",
   "execution_count": null,
   "metadata": {},
   "outputs": [],
   "source": [
    "# summarize model result\n",
    "print(\"Vegetation Model\")\n",
    "resultv_opth.summary()"
   ]
  },
  {
   "cell_type": "code",
   "execution_count": null,
   "metadata": {},
   "outputs": [],
   "source": [
    "# summarize model result\n",
    "print(\"Buildings Model\")\n",
    "resultb_opth.summary()"
   ]
  },
  {
   "cell_type": "code",
   "execution_count": null,
   "metadata": {},
   "outputs": [],
   "source": []
  },
  {
   "cell_type": "code",
   "execution_count": null,
   "metadata": {},
   "outputs": [],
   "source": []
  },
  {
   "cell_type": "code",
   "execution_count": null,
   "metadata": {},
   "outputs": [],
   "source": []
  },
  {
   "cell_type": "code",
   "execution_count": null,
   "metadata": {},
   "outputs": [],
   "source": []
  },
  {
   "cell_type": "code",
   "execution_count": null,
   "metadata": {},
   "outputs": [],
   "source": []
  }
 ],
 "metadata": {
  "kernelspec": {
   "display_name": "Python 3",
   "language": "python",
   "name": "python3"
  },
  "language_info": {
   "codemirror_mode": {
    "name": "ipython",
    "version": 3
   },
   "file_extension": ".py",
   "mimetype": "text/x-python",
   "name": "python",
   "nbconvert_exporter": "python",
   "pygments_lexer": "ipython3",
   "version": "3.7.4"
  }
 },
 "nbformat": 4,
 "nbformat_minor": 2
}
