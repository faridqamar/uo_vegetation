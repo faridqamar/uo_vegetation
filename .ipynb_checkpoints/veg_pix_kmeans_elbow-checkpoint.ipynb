{
 "cells": [
  {
   "cell_type": "markdown",
   "metadata": {},
   "source": [
    "## KMeans Clustering of Hyperspectral Vegetation (standardized spectra)\n",
    "\n",
    "---"
   ]
  },
  {
   "cell_type": "code",
   "execution_count": 1,
   "metadata": {},
   "outputs": [],
   "source": [
    "# -- here are functions that generate a class that memory maps the raw data \n",
    "#    cube.  After executing this cell, the syntax is:\n",
    "#    fname = \"[path to data]/foo.raw\"\n",
    "#    cube = read_hyper(fname)\n",
    "\n",
    "import os\n",
    "import numpy as np\n",
    "\n",
    "def read_header(hdrfile, verbose=True):\n",
    "    \"\"\"\n",
    "    Read a Middleton header file.\n",
    "\n",
    "    Parameters\n",
    "    ----------\n",
    "    hdrfile : str\n",
    "        Name of header file.\n",
    "    verbose : bool, optional\n",
    "        If True, alert the user.\n",
    "\n",
    "    Returns\n",
    "    -------\n",
    "    dict : dict\n",
    "        A dictionary continaing the number of rows, columns, and wavelengths\n",
    "        as well as an array of band centers.\n",
    "    \"\"\"\n",
    "\n",
    "    # -- alert\n",
    "    if verbose:\n",
    "        print(\"reading and parsing {0}...\".format(hdrfile))\n",
    "\n",
    "    # -- open the file and read in the records\n",
    "    recs = [rec for rec in open(hdrfile)]\n",
    "\n",
    "    # -- parse for samples, lines, bands, and the start of the wavelengths\n",
    "    for irec, rec in enumerate(recs):\n",
    "        if 'samples' in rec:\n",
    "            samples = int(rec.split(\"=\")[1])\n",
    "        elif 'lines' in rec:\n",
    "            lines = int(rec.split(\"=\")[1])\n",
    "        elif 'bands' in rec:\n",
    "            bands = int(rec.split(\"=\")[1])\n",
    "        elif \"Wavelength\" in rec:\n",
    "            w0ind = irec+1\n",
    "\n",
    "    # -- parse for the wavelengths\n",
    "    waves = np.array([float(rec.split(\",\")[0]) for rec in \n",
    "                      recs[w0ind:w0ind+bands]])\n",
    "\n",
    "    # -- return a dictionary\n",
    "    return {\"nrow\":samples, \"ncol\":lines, \"nwav\":bands, \"waves\":waves}\n",
    "\n",
    "\n",
    "def read_raw(rawfile, shape, hyper=False, verbose=True):\n",
    "    \"\"\"\n",
    "    Read a Middleton raw file.\n",
    "\n",
    "    Parameters\n",
    "    ----------\n",
    "    rawfile : str\n",
    "        The name of the raw file.\n",
    "    shape : tuple\n",
    "        The output shape of the data cube (nwav, nrow, ncol).\n",
    "    hyper : bool, optional\n",
    "        Set this flag to read a hyperspectral image.\n",
    "    verbose : bool, optional\n",
    "        Alert the user.\n",
    "\n",
    "    Returns\n",
    "    -------\n",
    "    memmap : memmap\n",
    "        A numpy memmap of the datacube.\n",
    "    \"\"\"\n",
    "\n",
    "    # -- alert\n",
    "    if verbose:\n",
    "        print(\"reading {0}...\".format(rawfile))\n",
    "\n",
    "    # -- read either broadband or hyperspectral image\n",
    "    if hyper:\n",
    "        return np.memmap(rawfile, np.uint16, mode=\"r\") \\\n",
    "            .reshape(shape[2], shape[0], shape[1])[:, :, ::-1] \\\n",
    "            .transpose(1, 2, 0)\n",
    "    else:\n",
    "        return np.memmap(rawfile, np.uint8, mode=\"r\") \\\n",
    "            .reshape(shape[1], shape[2], shape[0])[:, :, ::-1]\n",
    "\n",
    "\n",
    "def read_hyper(fpath, fname=None, full=True):\n",
    "    \"\"\"\n",
    "    Read a full hyperspectral scan (raw and header file).\n",
    "\n",
    "    Parameters\n",
    "    ----------\n",
    "    fpath : str\n",
    "        Either the full name+path of the raw file or the path of the raw file.\n",
    "        If the latter, fname must be supplied.\n",
    "    fname : str, optional\n",
    "        The name of the raw file (required if fpath is set to a path).\n",
    "    full : bool, optional\n",
    "        If True, output a class containing data and supplementary information.\n",
    "        If False, output only the data.\n",
    "\n",
    "    Returns\n",
    "    -------\n",
    "    output or memmap : class or memmap\n",
    "        If full is True, a class containing data plus supplementary \n",
    "        information.  If full is False, a memmap array of the data.\n",
    "    \"\"\"\n",
    "\n",
    "    # -- set up the file names\n",
    "    if fname is not None:\n",
    "        fpath = os.path.join(fpath, fname)\n",
    "\n",
    "    # -- read the header\n",
    "    hdr = read_header(fpath.replace(\"raw\", \"hdr\"))\n",
    "    sh  = (hdr[\"nwav\"], hdr[\"nrow\"], hdr[\"ncol\"])\n",
    "\n",
    "    # -- if desired, only output data cube\n",
    "    if not full:\n",
    "        return read_raw(fpath, sh, hyper=True)\n",
    "\n",
    "    # -- output full structure\n",
    "    class output():\n",
    "        def __init__(self, fpath):\n",
    "            self.filename = fpath\n",
    "            self.data     = read_raw(fpath, sh, hyper=True)\n",
    "            self.waves    = hdr[\"waves\"]\n",
    "            self.nwav     = sh[0]\n",
    "            self.nrow     = sh[1]\n",
    "            self.ncol     = sh[2]\n",
    "\n",
    "    return output(fpath)"
   ]
  },
  {
   "cell_type": "code",
   "execution_count": 2,
   "metadata": {},
   "outputs": [
    {
     "name": "stdout",
     "output_type": "stream",
     "text": [
      "reading and parsing ../image_files/veg_00108.hdr...\n",
      "reading ../image_files/veg_00108.raw...\n"
     ]
    }
   ],
   "source": [
    "fname = \"../image_files/veg_00108.raw\"\n",
    "cube = read_hyper(fname)"
   ]
  },
  {
   "cell_type": "code",
   "execution_count": 3,
   "metadata": {},
   "outputs": [
    {
     "name": "stdout",
     "output_type": "stream",
     "text": [
      "(848, 1600, 1600)\n"
     ]
    }
   ],
   "source": [
    "cube_sub = cube.data[:, :, :].astype(float)\n",
    "print(cube_sub.shape)"
   ]
  },
  {
   "cell_type": "code",
   "execution_count": 4,
   "metadata": {},
   "outputs": [
    {
     "name": "stdout",
     "output_type": "stream",
     "text": [
      "(2560000, 848)\n"
     ]
    }
   ],
   "source": [
    "cube_reshaped = cube_sub.transpose(1, 2, 0).reshape((cube_sub.shape[1] * cube_sub.shape[2]), cube_sub.shape[0])\n",
    "print(cube_reshaped.shape)"
   ]
  },
  {
   "cell_type": "code",
   "execution_count": 5,
   "metadata": {},
   "outputs": [],
   "source": [
    "cube_standard = (cube_reshaped - cube_reshaped.mean(1, keepdims=True)) / cube_reshaped.std(1, keepdims=True)"
   ]
  },
  {
   "cell_type": "code",
   "execution_count": 6,
   "metadata": {},
   "outputs": [
    {
     "name": "stdout",
     "output_type": "stream",
     "text": [
      "3 3.531490009839444 74.851309299469\n",
      "4 3.1062371400601325 70.94362545013428\n",
      "5 2.810081824432819 76.03131055831909\n",
      "6 2.785879805494279 71.47176122665405\n",
      "7 2.4330607389465517 75.42350125312805\n",
      "8 2.3260218406339654 76.26253414154053\n",
      "9 2.1743076961004424 116.38357305526733\n",
      "10 2.52305571094139 75.95963096618652\n",
      "11 2.1462453965217474 77.05825710296631\n",
      "12 2.1205186736558046 76.61423945426941\n",
      "13 1.972681321166124 134.19770288467407\n",
      "14 2.0181821090589374 121.26089334487915\n",
      "15 1.9085473910040862 91.84510517120361\n",
      "16 1.9598377536742548 78.96720170974731\n",
      "17 1.8537489613803984 219.54764676094055\n",
      "18 1.8509989688082409 86.00219106674194\n",
      "19 2.0466428646737853 81.23504042625427\n",
      "20 1.7989511645247414 158.22995686531067\n"
     ]
    }
   ],
   "source": [
    "from sklearn.cluster import MiniBatchKMeans\n",
    "from scipy.spatial.distance import cdist\n",
    "import time\n",
    "\n",
    "distortions = []\n",
    "elapsed_time = []\n",
    "K = range(3, 21)\n",
    "\n",
    "for knum in K:\n",
    "    start_time = time.time()\n",
    "    kmeansModel = MiniBatchKMeans(n_clusters = knum, batch_size=20)\n",
    "    kmeansModel.fit(cube_standard)\n",
    "    elapsed_time.append(time.time() - start_time)\n",
    "    distortions.append(np.sum(np.min(cdist(cube_standard, kmeansModel.cluster_centers_, 'euclidean'), axis=1)) / cube_standard.shape[0])\n",
    "    print(knum, distortions[knum-3], elapsed_time[knum-3])"
   ]
  },
  {
   "cell_type": "code",
   "execution_count": 8,
   "metadata": {},
   "outputs": [
    {
     "data": {
      "image/png": "[encoded data removed]",
      "text/plain": [
       "<Figure size 432x288 with 1 Axes>"
      ]
     },
     "metadata": {
      "needs_background": "light"
     },
     "output_type": "display_data"
    }
   ],
   "source": [
    "import matplotlib.pyplot as plt\n",
    "%matplotlib inline\n",
    "\n",
    "fig, ax1 = plt.subplots()\n",
    "color = 'tab:blue'\n",
    "ax1.set_xlabel('k')\n",
    "ax1.set_ylabel('k-means distortions', color=color)\n",
    "ax1.plot(K, distortions, 'D-', color=color)\n",
    "ax1.tick_params(axis='y', labelcolor='black')\n",
    "\n",
    "#ax2 = ax1.twinx()\n",
    "\n",
    "#color = 'tab:orange'\n",
    "#ax2.set_ylabel('fit time (seconds)', color=color)\n",
    "#ax2.plot(K, elapsed_time, 'o--', color=color)\n",
    "#ax2.tick_params(axis='y', labelcolor=color)\n",
    "\n",
    "plt.grid(True)\n",
    "plt.xticks(np.arange(min(K)-1, max(K)+1, 1.0))\n",
    "fig.tight_layout()\n",
    "plt.show()\n",
    "fig.savefig(\"./output/plots/9_kmeans_elbow_standardized.png\")"
   ]
  },
  {
   "cell_type": "code",
   "execution_count": 9,
   "metadata": {},
   "outputs": [],
   "source": [
    "cube_wo_median = cube_standard - np.median(cube_standard, axis=1, keepdims=True)"
   ]
  },
  {
   "cell_type": "code",
   "execution_count": 10,
   "metadata": {},
   "outputs": [
    {
     "name": "stdout",
     "output_type": "stream",
     "text": [
      "3 5.286346984026628 76.01833152770996\n",
      "4 4.120457759286314 86.92291903495789\n",
      "5 3.886577307478443 74.00555562973022\n",
      "6 3.4553339358256823 77.28130912780762\n",
      "7 3.5796344381790863 76.33872032165527\n",
      "8 3.0190093240113596 76.08591675758362\n",
      "9 2.8434994495578745 79.04603338241577\n",
      "10 2.775177535276459 77.43374562263489\n",
      "11 2.899713321491336 77.98128128051758\n",
      "12 2.55667502497065 267.33671379089355\n",
      "13 2.463914347379507 147.20498299598694\n",
      "14 2.404116918964667 156.65641236305237\n",
      "15 2.5472843503158846 79.93043112754822\n",
      "16 2.3094359005214744 83.38764905929565\n",
      "17 2.4845283788524624 83.11038303375244\n",
      "18 2.2085688987295584 175.31383633613586\n",
      "19 2.199999319984092 89.51362872123718\n",
      "20 2.3658600541499823 81.76110601425171\n"
     ]
    }
   ],
   "source": [
    "from sklearn.cluster import MiniBatchKMeans\n",
    "from scipy.spatial.distance import cdist\n",
    "import time\n",
    "\n",
    "distortions = []\n",
    "elapsed_time = []\n",
    "K = range(3, 21)\n",
    "\n",
    "for knum in K:\n",
    "    start_time = time.time()\n",
    "    kmeansModel = MiniBatchKMeans(n_clusters = knum, batch_size=20)\n",
    "    kmeansModel.fit(cube_wo_median)\n",
    "    elapsed_time.append(time.time() - start_time)\n",
    "    distortions.append(np.sum(np.min(cdist(cube_wo_median, kmeansModel.cluster_centers_, 'euclidean'), axis=1)) / cube_wo_median.shape[0])\n",
    "    print(knum, distortions[knum-3], elapsed_time[knum-3])"
   ]
  },
  {
   "cell_type": "code",
   "execution_count": 11,
   "metadata": {},
   "outputs": [
    {
     "data": {
      "image/png": "[encoded data removed]",
      "text/plain": [
       "<Figure size 432x288 with 1 Axes>"
      ]
     },
     "metadata": {
      "needs_background": "light"
     },
     "output_type": "display_data"
    }
   ],
   "source": [
    "import matplotlib.pyplot as plt\n",
    "%matplotlib inline\n",
    "\n",
    "fig, ax1 = plt.subplots()\n",
    "color = 'tab:blue'\n",
    "ax1.set_xlabel('k')\n",
    "ax1.set_ylabel('k-means distortions', color=color)\n",
    "ax1.plot(K, distortions, 'D-', color=color)\n",
    "ax1.tick_params(axis='y', labelcolor='black')\n",
    "\n",
    "#ax2 = ax1.twinx()\n",
    "\n",
    "#color = 'tab:orange'\n",
    "#ax2.set_ylabel('fit time (seconds)', color=color)\n",
    "#ax2.plot(K, elapsed_time, 'o--', color=color)\n",
    "#ax2.tick_params(axis='y', labelcolor=color)\n",
    "\n",
    "plt.grid(True)\n",
    "plt.xticks(np.arange(min(K)-1, max(K)+1, 1.0))\n",
    "fig.tight_layout()\n",
    "plt.show()\n",
    "fig.savefig(\"./output/plots/10_kmeans_elbow_standardized_without_median.png\")"
   ]
  },
  {
   "cell_type": "code",
   "execution_count": 12,
   "metadata": {},
   "outputs": [
    {
     "name": "stdout",
     "output_type": "stream",
     "text": [
      "(848,) (848, 1600, 1600)\n"
     ]
    },
    {
     "data": {
      "text/plain": [
       "[<matplotlib.lines.Line2D at 0x7f63d47e9438>]"
      ]
     },
     "execution_count": 12,
     "metadata": {},
     "output_type": "execute_result"
    },
    {
     "data": {
      "image/png": "[encoded data removed]",
      "text/plain": [
       "<Figure size 432x288 with 1 Axes>"
      ]
     },
     "metadata": {
      "needs_background": "light"
     },
     "output_type": "display_data"
    }
   ],
   "source": [
    "import matplotlib.pyplot as plt\n",
    "%matplotlib inline\n",
    "\n",
    "avg_sky_spectrum = cube_sub[:, :400].mean((1,2))\n",
    "min_sky_spectrum = min(avg_sky_spectrum)\n",
    "avg_sky_spectrum = avg_sky_spectrum - min_sky_spectrum\n",
    "\n",
    "print(avg_sky_spectrum.shape, cube_sub.shape)\n",
    "plt.plot(cube.waves, avg_sky_spectrum)"
   ]
  },
  {
   "cell_type": "code",
   "execution_count": 13,
   "metadata": {},
   "outputs": [
    {
     "name": "stdout",
     "output_type": "stream",
     "text": [
      "(848, 1600, 1600)\n",
      "(2560000, 848)\n"
     ]
    }
   ],
   "source": [
    "reflectance = np.divide(cube_sub, avg_sky_spectrum[:, None, None], out=np.zeros_like(cube_sub), where=avg_sky_spectrum[:, None, None]!=0)\n",
    "print(reflectance.shape)\n",
    "reflectance_reshaped = reflectance.transpose(1,2,0).reshape((reflectance.shape[1]*reflectance.shape[2]), reflectance.shape[0])\n",
    "print(reflectance_reshaped.shape)"
   ]
  },
  {
   "cell_type": "code",
   "execution_count": 14,
   "metadata": {},
   "outputs": [],
   "source": [
    "index_cut = (np.abs(cube.waves - 850.0)).argmin()\n",
    "reflectance_sub = reflectance_reshaped[:, :index_cut]"
   ]
  },
  {
   "cell_type": "code",
   "execution_count": 15,
   "metadata": {},
   "outputs": [
    {
     "name": "stdout",
     "output_type": "stream",
     "text": [
      "3 2.3693609284308943 89.80728530883789\n",
      "4 1.9440394788276987 87.91709637641907\n",
      "5 1.6072018515136473 91.78677201271057\n",
      "6 1.5305659957556432 96.58497500419617\n",
      "7 1.320780644367803 101.07630848884583\n",
      "8 1.2942539966224866 90.44232296943665\n",
      "9 1.1714189971109656 147.6896026134491\n",
      "10 1.117214822397055 134.45685172080994\n",
      "11 1.067575059149865 92.50870394706726\n",
      "12 1.0677819804341693 90.37575626373291\n",
      "13 0.9517795633423888 203.66095685958862\n",
      "14 0.9336677238779605 204.84957933425903\n",
      "15 0.8981992691892831 150.09468126296997\n",
      "16 0.9321140221674634 94.43160486221313\n",
      "17 0.9067803987624047 95.52083468437195\n",
      "18 0.9061733334651739 94.00901412963867\n",
      "19 0.8330345871149472 170.2246539592743\n",
      "20 0.8121187022778142 161.80469942092896\n"
     ]
    }
   ],
   "source": [
    "from sklearn.cluster import MiniBatchKMeans\n",
    "from scipy.spatial.distance import cdist\n",
    "import time\n",
    "\n",
    "distortions = []\n",
    "elapsed_time = []\n",
    "K = range(3, 21)\n",
    "\n",
    "for knum in K:\n",
    "    start_time = time.time()\n",
    "    kmeansModel = MiniBatchKMeans(n_clusters = knum, batch_size=20)\n",
    "    kmeansModel.fit(reflectance_sub)\n",
    "    elapsed_time.append(time.time() - start_time)\n",
    "    distortions.append(np.sum(np.min(cdist(reflectance_sub, kmeansModel.cluster_centers_, 'euclidean'), axis=1)) / reflectance_sub.shape[0])\n",
    "    print(knum, distortions[knum-3], elapsed_time[knum-3])"
   ]
  },
  {
   "cell_type": "code",
   "execution_count": 16,
   "metadata": {},
   "outputs": [
    {
     "data": {
      "image/png": "[encoded data removed]",
      "text/plain": [
       "<Figure size 432x288 with 1 Axes>"
      ]
     },
     "metadata": {
      "needs_background": "light"
     },
     "output_type": "display_data"
    }
   ],
   "source": [
    "import matplotlib.pyplot as plt\n",
    "%matplotlib inline\n",
    "\n",
    "fig, ax1 = plt.subplots()\n",
    "color = 'tab:blue'\n",
    "ax1.set_xlabel('k')\n",
    "ax1.set_ylabel('k-means distortions', color=color)\n",
    "ax1.plot(K, distortions, 'D-', color=color)\n",
    "ax1.tick_params(axis='y', labelcolor='black')\n",
    "\n",
    "#ax2 = ax1.twinx()\n",
    "\n",
    "#color = 'tab:orange'\n",
    "#ax2.set_ylabel('fit time (seconds)', color=color)\n",
    "#ax2.plot(K, elapsed_time, 'o--', color=color)\n",
    "#ax2.tick_params(axis='y', labelcolor=color)\n",
    "\n",
    "plt.grid(True)\n",
    "plt.xticks(np.arange(min(K)-1, max(K)+1, 1.0))\n",
    "fig.tight_layout()\n",
    "plt.show()\n",
    "fig.savefig(\"./output/plots/11_kmeans_elbow_reflectance.png\")"
   ]
  },
  {
   "cell_type": "code",
   "execution_count": null,
   "metadata": {},
   "outputs": [],
   "source": []
  }
 ],
 "metadata": {
  "kernelspec": {
   "display_name": "Python 3",
   "language": "python",
   "name": "python3"
  },
  "language_info": {
   "codemirror_mode": {
    "name": "ipython",
    "version": 3
   },
   "file_extension": ".py",
   "mimetype": "text/x-python",
   "name": "python",
   "nbconvert_exporter": "python",
   "pygments_lexer": "ipython3",
   "version": "3.6.8"
  }
 },
 "nbformat": 4,
 "nbformat_minor": 2
}
