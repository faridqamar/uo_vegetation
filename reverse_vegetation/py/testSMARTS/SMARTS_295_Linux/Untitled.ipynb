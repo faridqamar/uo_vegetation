{
 "cells": [
  {
   "cell_type": "code",
   "execution_count": 1,
   "metadata": {},
   "outputs": [],
   "source": [
    "import time"
   ]
  },
  {
   "cell_type": "code",
   "execution_count": 6,
   "metadata": {},
   "outputs": [
    {
     "name": "stdout",
     "output_type": "stream",
     "text": [
      "rm: cannot remove 'smarts295.out.txt': No such file or directory\n",
      "rm: cannot remove 'smarts295.scn.txt': No such file or directory\n",
      "rm: cannot remove 'smarts295.ext.txt': No such file or directory\n",
      "<_io.TextIOWrapper name='./smarts295.inp.txt' mode='r' encoding='UTF-8'>\n",
      "\n",
      "***********************************\n",
      " Welcome to SMARTS, version 2.9.5!              \n",
      "***********************************\n",
      "Total CPU time:   0.044 sec\n",
      "Note: The following floating-point exceptions are signalling: IEEE_UNDERFLOW_FLAG IEEE_DENORMAL\n",
      "<_io.TextIOWrapper name='./smarts295.inp.txt' mode='r' encoding='UTF-8'>\n",
      "\n",
      "***********************************\n",
      " Welcome to SMARTS, version 2.9.5!              \n",
      "***********************************\n",
      "Total CPU time:   0.044 sec\n",
      "Note: The following floating-point exceptions are signalling: IEEE_UNDERFLOW_FLAG IEEE_DENORMAL\n",
      "<_io.TextIOWrapper name='./smarts295.inp.txt' mode='r' encoding='UTF-8'>\n",
      "\n",
      "***********************************\n",
      " Welcome to SMARTS, version 2.9.5!              \n",
      "***********************************\n",
      "Total CPU time:   0.032 sec\n",
      "Note: The following floating-point exceptions are signalling: IEEE_UNDERFLOW_FLAG IEEE_DENORMAL\n",
      "<_io.TextIOWrapper name='./smarts295.inp.txt' mode='r' encoding='UTF-8'>\n",
      "\n",
      "***********************************\n",
      " Welcome to SMARTS, version 2.9.5!              \n",
      "***********************************\n",
      "Total CPU time:   0.028 sec\n",
      "Note: The following floating-point exceptions are signalling: IEEE_UNDERFLOW_FLAG IEEE_DENORMAL\n",
      "<_io.TextIOWrapper name='./smarts295.inp.txt' mode='r' encoding='UTF-8'>\n",
      "\n",
      "***********************************\n",
      " Welcome to SMARTS, version 2.9.5!              \n",
      "***********************************\n",
      "Total CPU time:   0.044 sec\n",
      "Note: The following floating-point exceptions are signalling: IEEE_UNDERFLOW_FLAG IEEE_DENORMAL\n",
      "<_io.TextIOWrapper name='./smarts295.inp.txt' mode='r' encoding='UTF-8'>\n",
      "\n",
      "***********************************\n",
      " Welcome to SMARTS, version 2.9.5!              \n",
      "***********************************\n",
      "Total CPU time:   0.044 sec\n",
      "Note: The following floating-point exceptions are signalling: IEEE_UNDERFLOW_FLAG IEEE_DENORMAL\n",
      "<_io.TextIOWrapper name='./smarts295.inp.txt' mode='r' encoding='UTF-8'>\n",
      "\n",
      "***********************************\n",
      " Welcome to SMARTS, version 2.9.5!              \n",
      "***********************************\n",
      "Total CPU time:   0.044 sec\n",
      "Note: The following floating-point exceptions are signalling: IEEE_UNDERFLOW_FLAG IEEE_DENORMAL\n",
      "<_io.TextIOWrapper name='./smarts295.inp.txt' mode='r' encoding='UTF-8'>\n",
      "\n",
      "***********************************\n",
      " Welcome to SMARTS, version 2.9.5!              \n",
      "***********************************\n",
      "Total CPU time:   0.044 sec\n",
      "Note: The following floating-point exceptions are signalling: IEEE_UNDERFLOW_FLAG IEEE_DENORMAL\n",
      "<_io.TextIOWrapper name='./smarts295.inp.txt' mode='r' encoding='UTF-8'>\n",
      "\n",
      "***********************************\n",
      " Welcome to SMARTS, version 2.9.5!              \n",
      "***********************************\n",
      "Total CPU time:   0.028 sec\n",
      "Note: The following floating-point exceptions are signalling: IEEE_UNDERFLOW_FLAG IEEE_DENORMAL\n",
      "<_io.TextIOWrapper name='./smarts295.inp.txt' mode='r' encoding='UTF-8'>\n",
      "\n",
      "***********************************\n",
      " Welcome to SMARTS, version 2.9.5!              \n",
      "***********************************\n",
      "Total CPU time:   0.044 sec\n",
      "Note: The following floating-point exceptions are signalling: IEEE_UNDERFLOW_FLAG IEEE_DENORMAL\n",
      "0.3104705357551575\n"
     ]
    }
   ],
   "source": [
    "\n",
    "start_time = time.time()\n",
    "for i in range(10):\n",
    "    !rm smarts295.out.txt\n",
    "    !rm smarts295.scn.txt\n",
    "    !rm smarts295.ext.txt\n",
    "\n",
    "    fs = open('./smarts295.inp.txt','r')\n",
    "    print(fs)\n",
    "    fs.close()\n",
    "\n",
    "    !./smarts295.exe\n",
    "\n",
    "elapsed_time = time.time() - start_time\n",
    "print(elapsed_time/10)"
   ]
  },
  {
   "cell_type": "code",
   "execution_count": null,
   "metadata": {},
   "outputs": [],
   "source": []
  }
 ],
 "metadata": {
  "kernelspec": {
   "display_name": "Python 3",
   "language": "python",
   "name": "python3"
  },
  "language_info": {
   "codemirror_mode": {
    "name": "ipython",
    "version": 3
   },
   "file_extension": ".py",
   "mimetype": "text/x-python",
   "name": "python",
   "nbconvert_exporter": "python",
   "pygments_lexer": "ipython3",
   "version": "3.6.8"
  }
 },
 "nbformat": 4,
 "nbformat_minor": 2
}
