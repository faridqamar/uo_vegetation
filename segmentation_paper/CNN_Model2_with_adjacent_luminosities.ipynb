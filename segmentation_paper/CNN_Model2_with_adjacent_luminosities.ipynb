{
 "cells": [
  {
   "cell_type": "markdown",
   "metadata": {},
   "source": [
    "## Hyperspectral Image Segmentation by Convolutional Neural Network \n",
    "\n",
    "### standardized spectra at full resolution \n",
    "### with spatial dimension included\n",
    "### with neighboring luminosities also included\n",
    "\n",
    "### training on each image separately\n",
    "\n",
    "---"
   ]
  },
  {
   "cell_type": "code",
   "execution_count": 1,
   "metadata": {},
   "outputs": [],
   "source": [
    "# -- here are functions that generate a class that memory maps the raw data \n",
    "#    cube.  After executing this cell, the syntax is:\n",
    "#    fname = \"[path to data]/foo.raw\"\n",
    "#    cube = read_hyper(fname)\n",
    "\n",
    "import os\n",
    "import numpy as np\n",
    "\n",
    "def read_header(hdrfile, verbose=True):\n",
    "    \"\"\"\n",
    "    Read a Middleton header file.\n",
    "\n",
    "    Parameters\n",
    "    ----------\n",
    "    hdrfile : str\n",
    "        Name of header file.\n",
    "    verbose : bool, optional\n",
    "        If True, alert the user.\n",
    "\n",
    "    Returns\n",
    "    -------\n",
    "    dict : dict\n",
    "        A dictionary continaing the number of rows, columns, and wavelengths\n",
    "        as well as an array of band centers.\n",
    "    \"\"\"\n",
    "\n",
    "    # -- alert\n",
    "    if verbose:\n",
    "        print(\"reading and parsing {0}...\".format(hdrfile))\n",
    "\n",
    "    # -- open the file and read in the records\n",
    "    recs = [rec for rec in open(hdrfile)]\n",
    "\n",
    "    # -- parse for samples, lines, bands, and the start of the wavelengths\n",
    "    for irec, rec in enumerate(recs):\n",
    "        if 'samples' in rec:\n",
    "            samples = int(rec.split(\"=\")[1])\n",
    "        elif 'lines' in rec:\n",
    "            lines = int(rec.split(\"=\")[1])\n",
    "        elif 'bands' in rec:\n",
    "            bands = int(rec.split(\"=\")[1])\n",
    "        elif \"Wavelength\" in rec:\n",
    "            w0ind = irec+1\n",
    "\n",
    "    # -- parse for the wavelengths\n",
    "    waves = np.array([float(rec.split(\",\")[0]) for rec in \n",
    "                      recs[w0ind:w0ind+bands]])\n",
    "\n",
    "    # -- return a dictionary\n",
    "    return {\"nrow\":samples, \"ncol\":lines, \"nwav\":bands, \"waves\":waves}\n",
    "\n",
    "\n",
    "def read_raw(rawfile, shape, hyper=False, verbose=True):\n",
    "    \"\"\"\n",
    "    Read a Middleton raw file.\n",
    "\n",
    "    Parameters\n",
    "    ----------\n",
    "    rawfile : str\n",
    "        The name of the raw file.\n",
    "    shape : tuple\n",
    "        The output shape of the data cube (nwav, nrow, ncol).\n",
    "    hyper : bool, optional\n",
    "        Set this flag to read a hyperspectral image.\n",
    "    verbose : bool, optional\n",
    "        Alert the user.\n",
    "\n",
    "    Returns\n",
    "    -------\n",
    "    memmap : memmap\n",
    "        A numpy memmap of the datacube.\n",
    "    \"\"\"\n",
    "\n",
    "    # -- alert\n",
    "    if verbose:\n",
    "        print(\"reading {0}...\".format(rawfile))\n",
    "\n",
    "    # -- read either broadband or hyperspectral image\n",
    "    if hyper:\n",
    "        return np.memmap(rawfile, np.uint16, mode=\"r\") \\\n",
    "            .reshape(shape[2], shape[0], shape[1])[:, :, ::-1] \\\n",
    "            .transpose(1, 2, 0)\n",
    "    else:\n",
    "        return np.memmap(rawfile, np.uint8, mode=\"r\") \\\n",
    "            .reshape(shape[1], shape[2], shape[0])[:, :, ::-1]\n",
    "\n",
    "\n",
    "def read_hyper(fpath, fname=None, full=True):\n",
    "    \"\"\"\n",
    "    Read a full hyperspectral scan (raw and header file).\n",
    "\n",
    "    Parameters\n",
    "    ----------\n",
    "    fpath : str\n",
    "        Either the full name+path of the raw file or the path of the raw file.\n",
    "        If the latter, fname must be supplied.\n",
    "    fname : str, optional\n",
    "        The name of the raw file (required if fpath is set to a path).\n",
    "    full : bool, optional\n",
    "        If True, output a class containing data and supplementary information.\n",
    "        If False, output only the data.\n",
    "\n",
    "    Returns\n",
    "    -------\n",
    "    output or memmap : class or memmap\n",
    "        If full is True, a class containing data plus supplementary \n",
    "        information.  If full is False, a memmap array of the data.\n",
    "    \"\"\"\n",
    "\n",
    "    # -- set up the file names\n",
    "    if fname is not None:\n",
    "        fpath = os.path.join(fpath, fname)\n",
    "\n",
    "    # -- read the header\n",
    "    hdr = read_header(fpath.replace(\"raw\", \"hdr\"))\n",
    "    sh  = (hdr[\"nwav\"], hdr[\"nrow\"], hdr[\"ncol\"])\n",
    "\n",
    "    # -- if desired, only output data cube\n",
    "    if not full:\n",
    "        return read_raw(fpath, sh, hyper=True)\n",
    "\n",
    "    # -- output full structure\n",
    "    class output():\n",
    "        def __init__(self, fpath):\n",
    "            self.filename = fpath\n",
    "            self.data     = read_raw(fpath, sh, hyper=True)\n",
    "            self.waves    = hdr[\"waves\"]\n",
    "            self.nwav     = sh[0]\n",
    "            self.nrow     = sh[1]\n",
    "            self.ncol     = sh[2]\n",
    "\n",
    "    return output(fpath)"
   ]
  },
  {
   "cell_type": "code",
   "execution_count": 2,
   "metadata": {},
   "outputs": [],
   "source": [
    "def kmeans_test_dictionary(labels, test, k):\n",
    "    import collections, numpy\n",
    "    \n",
    "    unique_test, counts_test = numpy.unique(labels[test[:,0], test[:,1]], return_counts=True)\n",
    "    counts_test_norm = (counts_test/test.shape[0])*100\n",
    "    test_dict = dict(zip(unique_test, counts_test))\n",
    "    test_dict_norm = dict(zip(unique_test, counts_test_norm))\n",
    "    \n",
    "    for i in range(0, k):\n",
    "        if test_dict.get(i) is None: test_dict[i] = 0\n",
    "        if test_dict_norm.get(i) is None: test_dict_norm[i] = 0\n",
    "    \n",
    "    return test_dict, test_dict_norm"
   ]
  },
  {
   "cell_type": "code",
   "execution_count": 3,
   "metadata": {},
   "outputs": [],
   "source": [
    "def kmeans_test_dataframe(sky_dict,\n",
    "                          clouds_dict,\n",
    "                          veg_dict,\n",
    "                          wtr_dict,\n",
    "                          blt_dict,\n",
    "                          windows_dict,\n",
    "                          rds_dict,\n",
    "                          cars_dict,\n",
    "                          mtl_dict\n",
    "                         ):\n",
    "    import pandas as pd\n",
    "    \n",
    "    pixel_names = ['sky', 'clouds', 'vegetation', 'water', 'built',\n",
    "                  'windows', 'roads', 'cars', 'metal']\n",
    "    df_test = pd.DataFrame([sky_dict,\n",
    "                            clouds_dict,\n",
    "                            veg_dict,\n",
    "                            wtr_dict,\n",
    "                            blt_dict,\n",
    "                            windows_dict,\n",
    "                            rds_dict,\n",
    "                            cars_dict,\n",
    "                            mtl_dict], index=pixel_names)\n",
    "    df_test = df_test.transpose()\n",
    "    \n",
    "    return df_test"
   ]
  },
  {
   "cell_type": "code",
   "execution_count": 4,
   "metadata": {},
   "outputs": [],
   "source": [
    "def plot_confusion_matrix(df_test, norm=True):\n",
    "    import numpy as np\n",
    "    import matplotlib.pyplot as plt\n",
    "    %matplotlib inline\n",
    "    \n",
    "    cm = np.array([df_test['sky'].values,\n",
    "                   df_test['clouds'].values,\n",
    "                   df_test['vegetation'].values,\n",
    "                   df_test['water'].values,\n",
    "                   df_test['built'].values,\n",
    "                   df_test['windows'].values,\n",
    "                   df_test['roads'].values,\n",
    "                   df_test['cars'].values,\n",
    "                   df_test['metal'].values])\n",
    "    classes = ['sky', 'clouds', 'vegetation', 'water', 'built', 'windows', 'roads', \n",
    "              'cars', 'metal']\n",
    "    \n",
    "    fig, ax = plt.subplots()\n",
    "    im = ax.imshow(cm, interpolation='nearest', cmap=plt.cm.Blues)\n",
    "    ax.figure.colorbar(im, ax=ax)\n",
    "    if norm:\n",
    "        title='Normalized Confusion Matrix'\n",
    "        fmt='.2f'\n",
    "    else:\n",
    "        title='Confusion Matrix'\n",
    "        fmt='d'\n",
    "    ax.set(xticks=np.arange(cm.shape[1]),\n",
    "          yticks=np.arange(cm.shape[0]),\n",
    "          xticklabels=np.arange(0,cm.shape[1]).astype(str), \n",
    "          yticklabels=classes,\n",
    "          title=title,\n",
    "          ylabel='True Label',\n",
    "          xlabel='Predicted Label')\n",
    "    #plt.setp(ax.get_xticklabels(), rotation=45, ha=\"right\",\n",
    "    #        rotation_mode=\"anchor\")\n",
    "    thresh = cm.max()/2\n",
    "    for i in range(cm.shape[0]):\n",
    "        for j in range(cm.shape[1]):\n",
    "            ax.text(j, i, format(cm[i,j], fmt),\n",
    "                   ha=\"center\", va=\"center\",\n",
    "                   color=\"white\" if cm[i,j] > thresh else \"black\")\n",
    "    fig.tight_layout()\n",
    "    plt.show()"
   ]
  },
  {
   "cell_type": "code",
   "execution_count": 5,
   "metadata": {},
   "outputs": [],
   "source": [
    "def plot_test_result(df_Test):\n",
    "    import matplotlib.pyplot as plt\n",
    "    %matplotlib inline\n",
    "    \n",
    "    df_test = df_Test.transpose()\n",
    "    ax = df_test.plot.bar(rot=0, stacked=True, colormap='tab20b')\n",
    "                          #color=['tab:blue', 'tab:green', 'tab:gray'])\n",
    "    plt.xlabel('Actual Class')\n",
    "    plt.ylabel('%of Test Pixels')\n",
    "    plt.title('Error in Prediction')\n",
    "    plt.legend(bbox_to_anchor=(1,1), loc=2, borderaxespad=1.0, prop={'size':11})\n",
    "    plt.show()"
   ]
  },
  {
   "cell_type": "code",
   "execution_count": 6,
   "metadata": {},
   "outputs": [],
   "source": [
    "def point_from_string(text):\n",
    "    \n",
    "    items = text.strip(\"\\n\").split(\" \")\n",
    "    rind = int(items[0])\n",
    "    cind = int(items[1])\n",
    "    \n",
    "    return rind, cind"
   ]
  },
  {
   "cell_type": "code",
   "execution_count": 7,
   "metadata": {},
   "outputs": [],
   "source": [
    "def coords(row, col):\n",
    "    return np.array(list(np.ndindex((row, col)))).reshape(row, col, 2)"
   ]
  },
  {
   "cell_type": "code",
   "execution_count": 8,
   "metadata": {},
   "outputs": [],
   "source": [
    "def read_labelled_coordinates(kind, scan):\n",
    "    file = open(\"../manual_classified_pixels/{0}_coordinates_{1}.txt\".format(kind, scan), \"r\")\n",
    "    coords = file.readlines()\n",
    "    file.close()\n",
    "    coords = np.array([point_from_string(line) for line in coords])\n",
    "    print(\"{0}: {1}\".format(kind,coords.shape))\n",
    "    \n",
    "    return coords"
   ]
  },
  {
   "cell_type": "code",
   "execution_count": 9,
   "metadata": {},
   "outputs": [],
   "source": [
    "import random\n",
    "\n",
    "def split_train_test_indices(coords, seed, trrat, kind):\n",
    "    ind = np.arange(coords.shape[0])\n",
    "    random.Random(seed).shuffle(ind)\n",
    "    lim_ind = int(len(ind)*trrat)\n",
    "    train_ind = ind[:lim_ind]\n",
    "    test_ind = ind[lim_ind:]\n",
    "    \n",
    "    print(\"{0}: {1} {2}\".format(kind, len(train_ind), len(test_ind)))\n",
    "    \n",
    "    return train_ind, test_ind"
   ]
  },
  {
   "cell_type": "code",
   "execution_count": 10,
   "metadata": {},
   "outputs": [],
   "source": [
    "import tensorflow as tf\n",
    "from tensorflow import keras\n",
    "from tensorflow.python.keras import layers\n",
    "\n",
    "def CNN_Model(nwaves):\n",
    "    Inputs_1 = keras.Input(shape=(nwaves, 1), name=\"spectra\")\n",
    "    Conv1D_1 = layers.Conv1D(16, kernel_size=(50), padding=\"same\", activation=\"relu\")(Inputs_1)\n",
    "    MaxPool_1 = layers.MaxPooling1D((2), strides=2)(Conv1D_1)\n",
    "    Conv1D_2 = layers.Conv1D(32, kernel_size=(50), padding=\"same\", activation=\"relu\")(MaxPool_1)\n",
    "    MaxPool_2 = layers.MaxPooling1D((2), strides=2)(Conv1D_2)\n",
    "    Dropout_1 = layers.Dropout(0.5)(MaxPool_2)\n",
    "    Flatten_1 = layers.Flatten()(Dropout_1)\n",
    "\n",
    "    Inputs_2 = keras.Input(shape=(2,), name=\"spatial\")\n",
    "    Inputs_3 = keras.Input(shape=(121,), name=\"lums\")\n",
    "    Concat = layers.concatenate([Flatten_1, Inputs_2, Inputs_3])\n",
    "    Dense_1 = layers.Dense(512, activation=\"relu\")(Concat)\n",
    "    Output = layers.Dense(9, activation=\"softmax\")(Dense_1)\n",
    "\n",
    "    model = keras.Model(inputs=[Inputs_1, Inputs_2, Inputs_3],\n",
    "                        outputs=[Output],)\n",
    "    \n",
    "    return model"
   ]
  },
  {
   "cell_type": "code",
   "execution_count": 11,
   "metadata": {},
   "outputs": [],
   "source": [
    "import matplotlib.pyplot as plt\n",
    "%matplotlib inline\n",
    "\n",
    "def plot_loss_history(model):\n",
    "    f, ((ax1, ax2), (ax3, ax4)) = plt.subplots(2,2, figsize=(12, 10))\n",
    "    ax1.plot(model.history['loss'])\n",
    "    ax1.plot(model.history['val_loss'])\n",
    "    ax1.set_title('CNN Model Loss')\n",
    "    ax1.set_ylabel('loss')\n",
    "    ax1.set_xlabel('epoch')\n",
    "    ax1.locator_params(nbins=13, axis='x')\n",
    "    ax1.legend(['train', 'test'], loc='center right')\n",
    "    ax2.plot(model.history['acc'])\n",
    "    ax2.plot(model.history['val_acc'])\n",
    "    ax2.set_title('CNN Model Accuracy')\n",
    "    ax2.set_ylabel('accuracy')\n",
    "    ax2.set_xlabel('epoch')\n",
    "    ax2.locator_params(nbins=12, axis='x')\n",
    "    ax2.legend(['train', 'test'], loc='center right')\n",
    "    ax3.plot(model.history['loss'])\n",
    "    ax3.plot(model.history['val_loss'])\n",
    "    ax3.set_ylabel('log(loss)')\n",
    "    ax3.set_xlabel('epoch')\n",
    "    ax3.locator_params(nbins=13, axis='x')\n",
    "    ax3.legend(['train', 'test'], loc='center right')\n",
    "    ax3.set_yscale('log')\n",
    "    ax4.plot(model.history['acc'])\n",
    "    ax4.plot(model.history['val_acc'])\n",
    "    ax4.set_ylabel('log(accuracy)')\n",
    "    ax4.set_xlabel('epoch')\n",
    "    ax4.locator_params(nbins=12, axis='x')\n",
    "    ax4.legend(['train', 'test'], loc='center right')\n",
    "    ax4.set_yscale('log')\n",
    "    plt.show()"
   ]
  },
  {
   "cell_type": "markdown",
   "metadata": {},
   "source": [
    "---\n",
    "### Classes:\n",
    "1. Sky\n",
    "2. Clouds\n",
    "3. Water\n",
    "4. Vegetation\n",
    "5. Buildings (concrete structures)\n",
    "6. Windows\n",
    "7. Roads\n",
    "8. Cars\n",
    "9. Metal Structures\n",
    "---\n"
   ]
  },
  {
   "cell_type": "markdown",
   "metadata": {},
   "source": [
    "## CNN on veg_00108 (South Facing @ ~2pm)"
   ]
  },
  {
   "cell_type": "code",
   "execution_count": 12,
   "metadata": {},
   "outputs": [
    {
     "name": "stdout",
     "output_type": "stream",
     "text": [
      "reading and parsing ../../image_files/veg_00108.hdr...\n",
      "reading ../../image_files/veg_00108.raw...\n"
     ]
    }
   ],
   "source": [
    "fname = \"../../image_files/veg_00108.raw\"\n",
    "cube = read_hyper(fname)"
   ]
  },
  {
   "cell_type": "code",
   "execution_count": 13,
   "metadata": {},
   "outputs": [
    {
     "name": "stdout",
     "output_type": "stream",
     "text": [
      "(848, 1600, 1600)\n"
     ]
    }
   ],
   "source": [
    "cube_sub = cube.data[:, :, :].astype(float)\n",
    "print(cube_sub.shape)"
   ]
  },
  {
   "cell_type": "code",
   "execution_count": 14,
   "metadata": {},
   "outputs": [
    {
     "name": "stdout",
     "output_type": "stream",
     "text": [
      "(2560000, 848)\n"
     ]
    }
   ],
   "source": [
    "cube_reshaped = cube_sub.transpose(1, 2, 0).reshape((cube_sub.shape[1] * cube_sub.shape[2]), cube_sub.shape[0])\n",
    "print(cube_reshaped.shape)"
   ]
  },
  {
   "cell_type": "code",
   "execution_count": 15,
   "metadata": {},
   "outputs": [
    {
     "data": {
      "image/png": "[encoded data removed]",
      "text/plain": [
       "<Figure size 720x720 with 1 Axes>"
      ]
     },
     "metadata": {
      "needs_background": "light"
     },
     "output_type": "display_data"
    }
   ],
   "source": [
    "cube_norm = (cube_reshaped - cube_reshaped.min()) / (cube_reshaped.max() - cube_reshaped.min())\n",
    "\n",
    "import matplotlib.pyplot as plt\n",
    "%matplotlib inline\n",
    "\n",
    "red_ind = (np.abs(cube.waves - 650.0)).argmin()\n",
    "green_ind = (np.abs(cube.waves - 550.0)).argmin()\n",
    "blue_ind = (np.abs(cube.waves - 450.0)).argmin()\n",
    "\n",
    "cube_reshaped2 = cube_norm.reshape(cube_sub.shape[1], cube_sub.shape[2], cube_sub.shape[0])\n",
    "cube_scene = cube_reshaped2[:, :, [red_ind, green_ind, blue_ind]]\n",
    "fig, ax = plt.subplots(figsize=(10,10))\n",
    "plt.title('veg_00108 RGB Image')\n",
    "ax.imshow(cube_scene, aspect=0.5)\n",
    "plt.show()"
   ]
  },
  {
   "cell_type": "code",
   "execution_count": 15,
   "metadata": {},
   "outputs": [
    {
     "name": "stdout",
     "output_type": "stream",
     "text": [
      "(2560000, 848)\n"
     ]
    }
   ],
   "source": [
    "cube_standard = (cube_reshaped - cube_reshaped.mean(1, keepdims=True)) / cube_reshaped.std(1, keepdims=True)\n",
    "print(cube_standard.shape)"
   ]
  },
  {
   "cell_type": "markdown",
   "metadata": {},
   "source": [
    "#### Reading manually classified set for training and testing"
   ]
  },
  {
   "cell_type": "code",
   "execution_count": 16,
   "metadata": {},
   "outputs": [
    {
     "name": "stdout",
     "output_type": "stream",
     "text": [
      "1_sky: (300, 2)\n",
      "2_clouds: (500, 2)\n",
      "3_vegetation: (600, 2)\n",
      "4_water: (50, 2)\n",
      "5_buildings: (1020, 2)\n",
      "6_windows: (500, 2)\n",
      "7_roads: (30, 2)\n",
      "8_cars: (100, 2)\n",
      "9_metal: (100, 2)\n"
     ]
    }
   ],
   "source": [
    "sky_coords = read_labelled_coordinates(\"1_sky\", \"108\")\n",
    "clouds_coords = read_labelled_coordinates(\"2_clouds\", \"108\")\n",
    "veg_coords = read_labelled_coordinates(\"3_vegetation\", \"108\")\n",
    "wtr_coords = read_labelled_coordinates(\"4_water\", \"108\")\n",
    "blt_coords = read_labelled_coordinates(\"5_buildings\", \"108\")\n",
    "windows_coords = read_labelled_coordinates(\"6_windows\", \"108\")\n",
    "rds_coords = read_labelled_coordinates(\"7_roads\", \"108\")\n",
    "cars_coords = read_labelled_coordinates(\"8_cars\", \"108\")\n",
    "mtl_coords = read_labelled_coordinates(\"9_metal\", \"108\")"
   ]
  },
  {
   "cell_type": "code",
   "execution_count": 17,
   "metadata": {},
   "outputs": [],
   "source": [
    "# create position array and normalize\n",
    "\n",
    "xy = coords(cube_sub.shape[1], cube_sub.shape[2])\n",
    "xy = xy/xy.max()"
   ]
  },
  {
   "cell_type": "markdown",
   "metadata": {},
   "source": [
    "#### Calculating Luminosities for the image"
   ]
  },
  {
   "cell_type": "code",
   "execution_count": 18,
   "metadata": {},
   "outputs": [
    {
     "data": {
      "text/plain": [
       "(848,)"
      ]
     },
     "execution_count": 18,
     "metadata": {},
     "output_type": "execute_result"
    }
   ],
   "source": [
    "xwaves = np.array(cube.waves)\n",
    "xwaves.shape"
   ]
  },
  {
   "cell_type": "code",
   "execution_count": 24,
   "metadata": {},
   "outputs": [],
   "source": [
    "from numpy import trapz\n",
    "lums = np.zeros(cube_reshaped.shape[0])\n",
    "for i in range(cube_reshaped.shape[0]):\n",
    "    lums[i] = trapz(cube_reshaped[i,:], xwaves)\n",
    "\n",
    "#from scipy.integrate import simps\n",
    "#lums = simps(cube_reshaped, cube.waves, axis=-1)"
   ]
  },
  {
   "cell_type": "code",
   "execution_count": 25,
   "metadata": {},
   "outputs": [],
   "source": [
    "lums = (lums - lums.min()) / (lums.max() - lums.min())"
   ]
  },
  {
   "cell_type": "code",
   "execution_count": 26,
   "metadata": {},
   "outputs": [
    {
     "name": "stdout",
     "output_type": "stream",
     "text": [
      "(2560000,)\n",
      "(1600, 1600)\n"
     ]
    }
   ],
   "source": [
    "print(lums.shape)\n",
    "lums_2d = lums.reshape(cube_sub.shape[1], cube_sub.shape[2])\n",
    "print(lums_2d.shape)"
   ]
  },
  {
   "cell_type": "code",
   "execution_count": 27,
   "metadata": {},
   "outputs": [
    {
     "name": "stdout",
     "output_type": "stream",
     "text": [
      "(1600, 1600, 11, 11)\n"
     ]
    }
   ],
   "source": [
    "lums_grid = np.zeros(shape=(cube_sub.shape[1], cube_sub.shape[2], 11, 11))\n",
    "print(lums_grid.shape)"
   ]
  },
  {
   "cell_type": "code",
   "execution_count": 28,
   "metadata": {},
   "outputs": [],
   "source": [
    "import itertools\n",
    "for row, col in itertools.product(np.arange(cube_sub.shape[1]), np.arange(cube_sub.shape[2])):\n",
    "    i = 0\n",
    "    for adjrow in np.arange(row-5, row+6):\n",
    "        if adjrow in np.arange(cube_sub.shape[1]):\n",
    "            j = 0\n",
    "            for adjcol in np.arange(col-5, col+6):\n",
    "                if adjcol in np.arange(cube_sub.shape[2]):\n",
    "                    lums_grid[row,col,i,j] = lums_2d[adjrow,adjcol]\n",
    "                j +=1 \n",
    "        i += 1"
   ]
  },
  {
   "cell_type": "markdown",
   "metadata": {},
   "source": [
    "#### split classified pixels into 80% training and 20% testing sets"
   ]
  },
  {
   "cell_type": "code",
   "execution_count": 29,
   "metadata": {},
   "outputs": [
    {
     "name": "stdout",
     "output_type": "stream",
     "text": [
      "sky: 240 60\n",
      "clouds: 400 100\n",
      "veg: 480 120\n",
      "wtr: 40 10\n",
      "blt: 816 204\n",
      "windows: 400 100\n",
      "rds: 24 6\n",
      "cars: 80 20\n",
      "mtl: 80 20\n"
     ]
    }
   ],
   "source": [
    "trrat = 0.8\n",
    "sky_train_ind, sky_test_ind = split_train_test_indices(sky_coords, 0, trrat, \"sky\")\n",
    "clouds_train_ind, clouds_test_ind = split_train_test_indices(clouds_coords, 1, trrat, \"clouds\")\n",
    "veg_train_ind, veg_test_ind = split_train_test_indices(veg_coords, 2, trrat, \"veg\")\n",
    "wtr_train_ind, wtr_test_ind = split_train_test_indices(wtr_coords, 3, trrat, \"wtr\")\n",
    "blt_train_ind, blt_test_ind = split_train_test_indices(blt_coords, 4, trrat, \"blt\")\n",
    "windows_train_ind, windows_test_ind = split_train_test_indices(windows_coords, 5, trrat, \"windows\")\n",
    "rds_train_ind, rds_test_ind = split_train_test_indices(rds_coords, 6, trrat, \"rds\")\n",
    "cars_train_ind, cars_test_ind = split_train_test_indices(cars_coords, 7, trrat, \"cars\")\n",
    "mtl_train_ind, mtl_test_ind = split_train_test_indices(mtl_coords, 8, trrat, \"mtl\")"
   ]
  },
  {
   "cell_type": "code",
   "execution_count": 30,
   "metadata": {},
   "outputs": [
    {
     "name": "stdout",
     "output_type": "stream",
     "text": [
      "(1600, 1600, 848)\n",
      "(1600, 1600, 2)\n"
     ]
    }
   ],
   "source": [
    "cube_std_3d = cube_standard.reshape(cube_sub.shape[1], cube_sub.shape[2], cube_sub.shape[0])\n",
    "print(cube_std_3d.shape)\n",
    "print(xy.shape)"
   ]
  },
  {
   "cell_type": "code",
   "execution_count": 31,
   "metadata": {},
   "outputs": [
    {
     "name": "stdout",
     "output_type": "stream",
     "text": [
      "sky  (240, 848) (60, 848)\n",
      "clouds  (400, 848) (100, 848)\n",
      "vegetation  (480, 848) (120, 848)\n",
      "water  (40, 848) (10, 848)\n",
      "built  (816, 848) (204, 848)\n",
      "windows  (400, 848) (100, 848)\n",
      "roads  (24, 848) (6, 848)\n",
      "cars  (80, 848) (20, 848)\n",
      "metal  (80, 848) (20, 848)\n"
     ]
    }
   ],
   "source": [
    "cube_sky_train = cube_std_3d[sky_coords[sky_train_ind[:], 0], sky_coords[sky_train_ind[:], 1], :]\n",
    "cube_sky_test = cube_std_3d[sky_coords[sky_test_ind[:], 0], sky_coords[sky_test_ind[:], 1], :]\n",
    "sky_xy_train = xy[sky_coords[sky_train_ind[:], 0], sky_coords[sky_train_ind[:], 1], :]\n",
    "sky_xy_test = xy[sky_coords[sky_test_ind[:], 0], sky_coords[sky_test_ind[:], 1], :]\n",
    "sky_lums_train = lums_grid[sky_coords[sky_train_ind[:], 0], sky_coords[sky_train_ind[:], 1], :, :]\n",
    "sky_lums_test = lums_grid[sky_coords[sky_test_ind[:], 0], sky_coords[sky_test_ind[:], 1], :, :]\n",
    "print(\"sky \", cube_sky_train.shape, cube_sky_test.shape)\n",
    "\n",
    "cube_clouds_train = cube_std_3d[clouds_coords[clouds_train_ind[:], 0], clouds_coords[clouds_train_ind[:], 1], :]\n",
    "cube_clouds_test = cube_std_3d[clouds_coords[clouds_test_ind[:], 0], clouds_coords[clouds_test_ind[:], 1], :]\n",
    "clouds_xy_train = xy[clouds_coords[clouds_train_ind[:], 0], clouds_coords[clouds_train_ind[:], 1], :]\n",
    "clouds_xy_test = xy[clouds_coords[clouds_test_ind[:], 0], clouds_coords[clouds_test_ind[:], 1], :]\n",
    "clouds_lums_train = lums_grid[clouds_coords[clouds_train_ind[:], 0], clouds_coords[clouds_train_ind[:], 1], :, :]\n",
    "clouds_lums_test = lums_grid[clouds_coords[clouds_test_ind[:], 0], clouds_coords[clouds_test_ind[:], 1], :, :]\n",
    "print(\"clouds \", cube_clouds_train.shape, cube_clouds_test.shape)\n",
    "\n",
    "cube_veg_train = cube_std_3d[veg_coords[veg_train_ind[:], 0], veg_coords[veg_train_ind[:], 1], :]\n",
    "cube_veg_test = cube_std_3d[veg_coords[veg_test_ind[:], 0], veg_coords[veg_test_ind[:], 1], :]\n",
    "veg_xy_train = xy[veg_coords[veg_train_ind[:], 0], veg_coords[veg_train_ind[:], 1], :]\n",
    "veg_xy_test = xy[veg_coords[veg_test_ind[:], 0], veg_coords[veg_test_ind[:], 1], :]\n",
    "veg_lums_train = lums_grid[veg_coords[veg_train_ind[:], 0], veg_coords[veg_train_ind[:], 1], :, :]\n",
    "veg_lums_test = lums_grid[veg_coords[veg_test_ind[:], 0], veg_coords[veg_test_ind[:], 1], :, :]\n",
    "print(\"vegetation \", cube_veg_train.shape, cube_veg_test.shape)\n",
    "\n",
    "cube_wtr_train = cube_std_3d[wtr_coords[wtr_train_ind[:], 0], wtr_coords[wtr_train_ind[:], 1], :]\n",
    "cube_wtr_test = cube_std_3d[wtr_coords[wtr_test_ind[:], 0], wtr_coords[wtr_test_ind[:], 1], :]\n",
    "wtr_xy_train = xy[wtr_coords[wtr_train_ind[:], 0], wtr_coords[wtr_train_ind[:], 1], :]\n",
    "wtr_xy_test = xy[wtr_coords[wtr_test_ind[:], 0], wtr_coords[wtr_test_ind[:], 1], :]\n",
    "wtr_lums_train = lums_grid[wtr_coords[wtr_train_ind[:], 0], wtr_coords[wtr_train_ind[:], 1], :, :]\n",
    "wtr_lums_test = lums_grid[wtr_coords[wtr_test_ind[:], 0], wtr_coords[wtr_test_ind[:], 1], :, :]\n",
    "print(\"water \", cube_wtr_train.shape, cube_wtr_test.shape)\n",
    "\n",
    "cube_blt_train = cube_std_3d[blt_coords[blt_train_ind[:], 0], blt_coords[blt_train_ind[:], 1], :]\n",
    "cube_blt_test = cube_std_3d[blt_coords[blt_test_ind[:], 0], blt_coords[blt_test_ind[:], 1], :]\n",
    "blt_xy_train = xy[blt_coords[blt_train_ind[:], 0], blt_coords[blt_train_ind[:], 1], :]\n",
    "blt_xy_test = xy[blt_coords[blt_test_ind[:], 0], blt_coords[blt_test_ind[:], 1], :]\n",
    "blt_lums_train = lums_grid[blt_coords[blt_train_ind[:], 0], blt_coords[blt_train_ind[:], 1], :, :]\n",
    "blt_lums_test = lums_grid[blt_coords[blt_test_ind[:], 0], blt_coords[blt_test_ind[:], 1], :, :]\n",
    "print(\"built \", cube_blt_train.shape, cube_blt_test.shape)\n",
    "\n",
    "cube_windows_train = cube_std_3d[windows_coords[windows_train_ind[:],0], windows_coords[windows_train_ind[:],1],:]\n",
    "cube_windows_test = cube_std_3d[windows_coords[windows_test_ind[:], 0], windows_coords[windows_test_ind[:], 1], :]\n",
    "windows_xy_train = xy[windows_coords[windows_train_ind[:], 0], windows_coords[windows_train_ind[:], 1], :]\n",
    "windows_xy_test = xy[windows_coords[windows_test_ind[:], 0], windows_coords[windows_test_ind[:], 1], :]\n",
    "windows_lums_train = lums_grid[windows_coords[windows_train_ind[:], 0], windows_coords[windows_train_ind[:], 1], :, :]\n",
    "windows_lums_test = lums_grid[windows_coords[windows_test_ind[:], 0], windows_coords[windows_test_ind[:], 1], :, :]\n",
    "print(\"windows \", cube_windows_train.shape, cube_windows_test.shape)\n",
    "\n",
    "cube_rds_train = cube_std_3d[rds_coords[rds_train_ind[:], 0], rds_coords[rds_train_ind[:], 1], :]\n",
    "cube_rds_test = cube_std_3d[rds_coords[rds_test_ind[:], 0], rds_coords[rds_test_ind[:], 1], :]\n",
    "rds_xy_train = xy[rds_coords[rds_train_ind[:], 0], rds_coords[rds_train_ind[:], 1], :]\n",
    "rds_xy_test = xy[rds_coords[rds_test_ind[:], 0], rds_coords[rds_test_ind[:], 1], :]\n",
    "rds_lums_train = lums_grid[rds_coords[rds_train_ind[:], 0], rds_coords[rds_train_ind[:], 1], :, :]\n",
    "rds_lums_test = lums_grid[rds_coords[rds_test_ind[:], 0], rds_coords[rds_test_ind[:], 1], :, :]\n",
    "print(\"roads \", cube_rds_train.shape, cube_rds_test.shape)\n",
    "\n",
    "cube_cars_train = cube_std_3d[cars_coords[cars_train_ind[:], 0], cars_coords[cars_train_ind[:], 1], :]\n",
    "cube_cars_test = cube_std_3d[cars_coords[cars_test_ind[:], 0], cars_coords[cars_test_ind[:], 1], :]\n",
    "cars_xy_train = xy[cars_coords[cars_train_ind[:], 0], cars_coords[cars_train_ind[:], 1], :]\n",
    "cars_xy_test = xy[cars_coords[cars_test_ind[:], 0], cars_coords[cars_test_ind[:], 1], :]\n",
    "cars_lums_train = lums_grid[cars_coords[cars_train_ind[:], 0], cars_coords[cars_train_ind[:], 1], :, :]\n",
    "cars_lums_test = lums_grid[cars_coords[cars_test_ind[:], 0], cars_coords[cars_test_ind[:], 1], :, :]\n",
    "print(\"cars \", cube_cars_train.shape, cube_cars_test.shape)\n",
    "\n",
    "cube_mtl_train = cube_std_3d[mtl_coords[mtl_train_ind[:], 0], mtl_coords[mtl_train_ind[:], 1], :]\n",
    "cube_mtl_test = cube_std_3d[mtl_coords[mtl_test_ind[:], 0], mtl_coords[mtl_test_ind[:], 1], :]\n",
    "mtl_xy_train = xy[mtl_coords[mtl_train_ind[:], 0], mtl_coords[mtl_train_ind[:], 1], :]\n",
    "mtl_xy_test = xy[mtl_coords[mtl_test_ind[:], 0], mtl_coords[mtl_test_ind[:], 1], :]\n",
    "mtl_lums_train = lums_grid[mtl_coords[mtl_train_ind[:], 0], mtl_coords[mtl_train_ind[:], 1], :, :]\n",
    "mtl_lums_test = lums_grid[mtl_coords[mtl_test_ind[:], 0], mtl_coords[mtl_test_ind[:], 1], :, :]\n",
    "print(\"metal \", cube_mtl_train.shape, cube_mtl_test.shape)"
   ]
  },
  {
   "cell_type": "code",
   "execution_count": 32,
   "metadata": {},
   "outputs": [],
   "source": [
    "# concatenate training and testing sets and create index arrays\n",
    "\n",
    "cube_train = np.concatenate((cube_sky_train, cube_clouds_train, cube_veg_train, cube_wtr_train, cube_blt_train,\n",
    "                            cube_windows_train, cube_rds_train, cube_cars_train, cube_mtl_train), axis=0)\n",
    "cube_train_labels = [0]*cube_sky_train.shape[0] + [1]*cube_clouds_train.shape[0] \\\n",
    "                    + [2]*cube_veg_train.shape[0] + [3]*cube_wtr_train.shape[0] \\\n",
    "                    + [4]*cube_blt_train.shape[0] + [5]*cube_windows_train.shape[0] \\\n",
    "                    + [6]*cube_rds_train.shape[0] + [7]*cube_cars_train.shape[0] + [8]*cube_mtl_train.shape[0]\n",
    "xy_train = np.concatenate((sky_xy_train, clouds_xy_train, veg_xy_train, wtr_xy_train, blt_xy_train,\n",
    "                             windows_xy_train, rds_xy_train, cars_xy_train, mtl_xy_train), axis=0)\n",
    "lums_train = np.concatenate((sky_lums_train, clouds_lums_train, veg_lums_train, wtr_lums_train, blt_lums_train,\n",
    "                             windows_lums_train, rds_lums_train, cars_lums_train, mtl_lums_train), axis=0)\n",
    "\n",
    "cube_test = np.concatenate((cube_sky_test, cube_clouds_test, cube_veg_test, cube_wtr_test, cube_blt_test,\n",
    "                            cube_windows_test, cube_rds_test, cube_cars_test, cube_mtl_test), axis=0)\n",
    "cube_test_labels = [0]*cube_sky_test.shape[0] + [1]*cube_clouds_test.shape[0] \\\n",
    "                    + [2]*cube_veg_test.shape[0] + [3]*cube_wtr_test.shape[0] \\\n",
    "                    + [4]*cube_blt_test.shape[0] + [5]*cube_windows_test.shape[0] \\\n",
    "                    + [6]*cube_rds_test.shape[0] + [7]*cube_cars_test.shape[0] + [8]*cube_mtl_test.shape[0]\n",
    "xy_test = np.concatenate((sky_xy_test, clouds_xy_test, veg_xy_test, wtr_xy_test, blt_xy_test,\n",
    "                             windows_xy_test, rds_xy_test, cars_xy_test, mtl_xy_test), axis=0)\n",
    "lums_test = np.concatenate((sky_lums_test, clouds_lums_test, veg_lums_test, wtr_lums_test, blt_lums_test,\n",
    "                             windows_lums_test, rds_lums_test, cars_lums_test, mtl_lums_test), axis=0)"
   ]
  },
  {
   "cell_type": "code",
   "execution_count": 33,
   "metadata": {},
   "outputs": [
    {
     "name": "stdout",
     "output_type": "stream",
     "text": [
      "(2560, 848) (2560,) (2560, 2) (2560, 11, 11)\n",
      "(640, 848) (640,) (640, 2) (640, 11, 11)\n"
     ]
    }
   ],
   "source": [
    "cube_train_labels = np.array(cube_train_labels)\n",
    "cube_test_labels = np.array(cube_test_labels)\n",
    "\n",
    "print(cube_train.shape, cube_train_labels.shape, xy_train.shape, lums_train.shape)\n",
    "print(cube_test.shape, cube_test_labels.shape, xy_test.shape, lums_test.shape)"
   ]
  },
  {
   "cell_type": "code",
   "execution_count": 34,
   "metadata": {},
   "outputs": [
    {
     "name": "stdout",
     "output_type": "stream",
     "text": [
      "(2560, 121) (640, 121)\n"
     ]
    }
   ],
   "source": [
    "lums_flat_train = lums_train.reshape(lums_train.shape[0], (lums_train.shape[1]*lums_train.shape[2]))\n",
    "lums_flat_test = lums_test.reshape(lums_test.shape[0], (lums_test.shape[1]*lums_test.shape[2]))\n",
    "\n",
    "print(lums_flat_train.shape, lums_flat_test.shape)"
   ]
  },
  {
   "cell_type": "markdown",
   "metadata": {},
   "source": [
    "### Train CNN"
   ]
  },
  {
   "cell_type": "code",
   "execution_count": 35,
   "metadata": {},
   "outputs": [
    {
     "name": "stdout",
     "output_type": "stream",
     "text": [
      "WARNING:tensorflow:From /usr/local/lib/python3.6/site-packages/tensorflow/python/util/deprecation.py:497: calling conv1d (from tensorflow.python.ops.nn_ops) with data_format=NHWC is deprecated and will be removed in a future version.\n",
      "Instructions for updating:\n",
      "`NHWC` for data_format is deprecated, use `NWC` instead\n"
     ]
    }
   ],
   "source": [
    "cnn = CNN_Model(cube_std_3d.shape[2])\n",
    "cnn.compile(optimizer=\"adam\", loss=\"sparse_categorical_crossentropy\",\n",
    "             metrics=[\"accuracy\"])"
   ]
  },
  {
   "cell_type": "code",
   "execution_count": 36,
   "metadata": {},
   "outputs": [],
   "source": [
    "#keras.utils.plot_model(cnn, show_shapes=True)\n",
    "#cnn.summary()\n",
    "\n",
    "cube_train2 = cube_train.reshape(cube_train.shape[0], cube_train.shape[1], 1)\n",
    "cube_test2 = cube_test.reshape(cube_test.shape[0], cube_test.shape[1], 1)"
   ]
  },
  {
   "cell_type": "code",
   "execution_count": 37,
   "metadata": {
    "scrolled": true
   },
   "outputs": [
    {
     "name": "stdout",
     "output_type": "stream",
     "text": [
      "Train on 2560 samples, validate on 640 samples\n",
      "Epoch 1/200\n",
      "2560/2560 [==============================] - 3s 1ms/step - loss: 1.9233 - acc: 0.3641 - val_loss: 1.3978 - val_acc: 0.4969\n",
      "Epoch 2/200\n",
      "2560/2560 [==============================] - 3s 1ms/step - loss: 1.0520 - acc: 0.6512 - val_loss: 0.6856 - val_acc: 0.8094\n",
      "Epoch 3/200\n",
      "2560/2560 [==============================] - 3s 1ms/step - loss: 0.6512 - acc: 0.8148 - val_loss: 0.5358 - val_acc: 0.8281\n",
      "Epoch 4/200\n",
      "2560/2560 [==============================] - 3s 1ms/step - loss: 0.5226 - acc: 0.8387 - val_loss: 0.4671 - val_acc: 0.8672\n",
      "Epoch 5/200\n",
      "2560/2560 [==============================] - 3s 1ms/step - loss: 0.4487 - acc: 0.8594 - val_loss: 0.4126 - val_acc: 0.8516\n",
      "Epoch 6/200\n",
      "2560/2560 [==============================] - 3s 1ms/step - loss: 0.4020 - acc: 0.8742 - val_loss: 0.3702 - val_acc: 0.8922\n",
      "Epoch 7/200\n",
      "2560/2560 [==============================] - 3s 1ms/step - loss: 0.3720 - acc: 0.8871 - val_loss: 0.3464 - val_acc: 0.8906\n",
      "Epoch 8/200\n",
      "2560/2560 [==============================] - 3s 1ms/step - loss: 0.3551 - acc: 0.8816 - val_loss: 0.3400 - val_acc: 0.8922\n",
      "Epoch 9/200\n",
      "2560/2560 [==============================] - 3s 1ms/step - loss: 0.3320 - acc: 0.8937 - val_loss: 0.3079 - val_acc: 0.8953\n",
      "Epoch 10/200\n",
      "2560/2560 [==============================] - 3s 1ms/step - loss: 0.3147 - acc: 0.8969 - val_loss: 0.2932 - val_acc: 0.8984\n",
      "Epoch 11/200\n",
      "2560/2560 [==============================] - 3s 1ms/step - loss: 0.3048 - acc: 0.8984 - val_loss: 0.2704 - val_acc: 0.9031\n",
      "Epoch 12/200\n",
      "2560/2560 [==============================] - 3s 1ms/step - loss: 0.2849 - acc: 0.9059 - val_loss: 0.2820 - val_acc: 0.9172\n",
      "Epoch 13/200\n",
      "2560/2560 [==============================] - 3s 1ms/step - loss: 0.2849 - acc: 0.9035 - val_loss: 0.2538 - val_acc: 0.9062\n",
      "Epoch 14/200\n",
      "2560/2560 [==============================] - 3s 1ms/step - loss: 0.2750 - acc: 0.9102 - val_loss: 0.2651 - val_acc: 0.9062\n",
      "Epoch 15/200\n",
      "2560/2560 [==============================] - 3s 1ms/step - loss: 0.2723 - acc: 0.9070 - val_loss: 0.2792 - val_acc: 0.9016\n",
      "Epoch 16/200\n",
      "2560/2560 [==============================] - 3s 1ms/step - loss: 0.2657 - acc: 0.9059 - val_loss: 0.2604 - val_acc: 0.9094\n",
      "Epoch 17/200\n",
      "2560/2560 [==============================] - 3s 1ms/step - loss: 0.2628 - acc: 0.9098 - val_loss: 0.2548 - val_acc: 0.9094\n",
      "Epoch 18/200\n",
      "2560/2560 [==============================] - 3s 1ms/step - loss: 0.2447 - acc: 0.9172 - val_loss: 0.2361 - val_acc: 0.9094\n",
      "Epoch 19/200\n",
      "2560/2560 [==============================] - 3s 1ms/step - loss: 0.2398 - acc: 0.9160 - val_loss: 0.2233 - val_acc: 0.9219\n",
      "Epoch 20/200\n",
      "2560/2560 [==============================] - 3s 1ms/step - loss: 0.2222 - acc: 0.9195 - val_loss: 0.2191 - val_acc: 0.9203\n",
      "Epoch 21/200\n",
      "2560/2560 [==============================] - 3s 1ms/step - loss: 0.2254 - acc: 0.9176 - val_loss: 0.2122 - val_acc: 0.9375\n",
      "Epoch 22/200\n",
      "2560/2560 [==============================] - 3s 1ms/step - loss: 0.2230 - acc: 0.9219 - val_loss: 0.2162 - val_acc: 0.9203\n",
      "Epoch 23/200\n",
      "2560/2560 [==============================] - 3s 1ms/step - loss: 0.2074 - acc: 0.9301 - val_loss: 0.2039 - val_acc: 0.9297\n",
      "Epoch 24/200\n",
      "2560/2560 [==============================] - 3s 1ms/step - loss: 0.2017 - acc: 0.9281 - val_loss: 0.2161 - val_acc: 0.9219\n",
      "Epoch 25/200\n",
      "2560/2560 [==============================] - 3s 1ms/step - loss: 0.2048 - acc: 0.9293 - val_loss: 0.2029 - val_acc: 0.9328\n",
      "Epoch 26/200\n",
      "2560/2560 [==============================] - 3s 1ms/step - loss: 0.2072 - acc: 0.9293 - val_loss: 0.2073 - val_acc: 0.9359\n",
      "Epoch 27/200\n",
      "2560/2560 [==============================] - 3s 1ms/step - loss: 0.2055 - acc: 0.9273 - val_loss: 0.1906 - val_acc: 0.9266\n",
      "Epoch 28/200\n",
      "2560/2560 [==============================] - 3s 1ms/step - loss: 0.1966 - acc: 0.9242 - val_loss: 0.1856 - val_acc: 0.9375\n",
      "Epoch 29/200\n",
      "2560/2560 [==============================] - 3s 1ms/step - loss: 0.1853 - acc: 0.9313 - val_loss: 0.1956 - val_acc: 0.9359\n",
      "Epoch 30/200\n",
      "2560/2560 [==============================] - 3s 1ms/step - loss: 0.1759 - acc: 0.9375 - val_loss: 0.1817 - val_acc: 0.9281\n",
      "Epoch 31/200\n",
      "2560/2560 [==============================] - 3s 1ms/step - loss: 0.1772 - acc: 0.9332 - val_loss: 0.2038 - val_acc: 0.9422\n",
      "Epoch 32/200\n",
      "2560/2560 [==============================] - 3s 1ms/step - loss: 0.1884 - acc: 0.9352 - val_loss: 0.1932 - val_acc: 0.9406\n",
      "Epoch 33/200\n",
      "2560/2560 [==============================] - 3s 1ms/step - loss: 0.1770 - acc: 0.9320 - val_loss: 0.1705 - val_acc: 0.9453\n",
      "Epoch 34/200\n",
      "2560/2560 [==============================] - 3s 1ms/step - loss: 0.1666 - acc: 0.9395 - val_loss: 0.1831 - val_acc: 0.9406\n",
      "Epoch 35/200\n",
      "2560/2560 [==============================] - 3s 1ms/step - loss: 0.1578 - acc: 0.9469 - val_loss: 0.1601 - val_acc: 0.9422\n",
      "Epoch 36/200\n",
      "2560/2560 [==============================] - 3s 1ms/step - loss: 0.1577 - acc: 0.9418 - val_loss: 0.1714 - val_acc: 0.9437\n",
      "Epoch 37/200\n",
      "2560/2560 [==============================] - 3s 1ms/step - loss: 0.1523 - acc: 0.9441 - val_loss: 0.1668 - val_acc: 0.9437\n",
      "Epoch 38/200\n",
      "2560/2560 [==============================] - 3s 1ms/step - loss: 0.1515 - acc: 0.9473 - val_loss: 0.1556 - val_acc: 0.9484\n",
      "Epoch 39/200\n",
      "2560/2560 [==============================] - 3s 1ms/step - loss: 0.1460 - acc: 0.9410 - val_loss: 0.1602 - val_acc: 0.9547\n",
      "Epoch 40/200\n",
      "2560/2560 [==============================] - 3s 1ms/step - loss: 0.1554 - acc: 0.9453 - val_loss: 0.1531 - val_acc: 0.9469\n",
      "Epoch 41/200\n",
      "2560/2560 [==============================] - 3s 1ms/step - loss: 0.1471 - acc: 0.9496 - val_loss: 0.1685 - val_acc: 0.9359\n",
      "Epoch 42/200\n",
      "2560/2560 [==============================] - 3s 1ms/step - loss: 0.1549 - acc: 0.9441 - val_loss: 0.1513 - val_acc: 0.9469\n",
      "Epoch 43/200\n",
      "2560/2560 [==============================] - 3s 1ms/step - loss: 0.1352 - acc: 0.9523 - val_loss: 0.1528 - val_acc: 0.9484\n",
      "Epoch 44/200\n",
      "2560/2560 [==============================] - 3s 1ms/step - loss: 0.1354 - acc: 0.9531 - val_loss: 0.1417 - val_acc: 0.9500\n",
      "Epoch 45/200\n",
      "2560/2560 [==============================] - 3s 1ms/step - loss: 0.1354 - acc: 0.9527 - val_loss: 0.1487 - val_acc: 0.9516\n",
      "Epoch 46/200\n",
      "2560/2560 [==============================] - 3s 1ms/step - loss: 0.1309 - acc: 0.9504 - val_loss: 0.1492 - val_acc: 0.9500\n",
      "Epoch 47/200\n",
      "2560/2560 [==============================] - 3s 1ms/step - loss: 0.1342 - acc: 0.9531 - val_loss: 0.1381 - val_acc: 0.9516\n",
      "Epoch 48/200\n",
      "2560/2560 [==============================] - 3s 1ms/step - loss: 0.1380 - acc: 0.9520 - val_loss: 0.1343 - val_acc: 0.9578\n",
      "Epoch 49/200\n",
      "2560/2560 [==============================] - 3s 1ms/step - loss: 0.1202 - acc: 0.9586 - val_loss: 0.1399 - val_acc: 0.9578\n",
      "Epoch 50/200\n",
      "2560/2560 [==============================] - 3s 1ms/step - loss: 0.1231 - acc: 0.9570 - val_loss: 0.1348 - val_acc: 0.9563\n",
      "Epoch 51/200\n",
      "2560/2560 [==============================] - 3s 1ms/step - loss: 0.1203 - acc: 0.9602 - val_loss: 0.1291 - val_acc: 0.9563\n",
      "Epoch 52/200\n",
      "2560/2560 [==============================] - 3s 1ms/step - loss: 0.1175 - acc: 0.9602 - val_loss: 0.1263 - val_acc: 0.9594\n",
      "Epoch 53/200\n",
      "2560/2560 [==============================] - 3s 1ms/step - loss: 0.1201 - acc: 0.9605 - val_loss: 0.1308 - val_acc: 0.9578\n",
      "Epoch 54/200\n",
      "2560/2560 [==============================] - 3s 1ms/step - loss: 0.1195 - acc: 0.9570 - val_loss: 0.1344 - val_acc: 0.9578\n",
      "Epoch 55/200\n",
      "2560/2560 [==============================] - 3s 1ms/step - loss: 0.1177 - acc: 0.9621 - val_loss: 0.1400 - val_acc: 0.9563\n",
      "Epoch 56/200\n",
      "2560/2560 [==============================] - 3s 1ms/step - loss: 0.1141 - acc: 0.9621 - val_loss: 0.1422 - val_acc: 0.9547\n",
      "Epoch 57/200\n",
      "2560/2560 [==============================] - 3s 1ms/step - loss: 0.1204 - acc: 0.9602 - val_loss: 0.1247 - val_acc: 0.9594\n",
      "Epoch 58/200\n",
      "2560/2560 [==============================] - 3s 1ms/step - loss: 0.1090 - acc: 0.9613 - val_loss: 0.1205 - val_acc: 0.9625\n",
      "Epoch 59/200\n",
      "2560/2560 [==============================] - 3s 1ms/step - loss: 0.1072 - acc: 0.9625 - val_loss: 0.1299 - val_acc: 0.9547\n",
      "Epoch 60/200\n",
      "2560/2560 [==============================] - 3s 1ms/step - loss: 0.1050 - acc: 0.9633 - val_loss: 0.1275 - val_acc: 0.9609\n"
     ]
    },
    {
     "name": "stdout",
     "output_type": "stream",
     "text": [
      "Epoch 61/200\n",
      "2560/2560 [==============================] - 3s 1ms/step - loss: 0.1085 - acc: 0.9645 - val_loss: 0.1268 - val_acc: 0.9531\n",
      "Epoch 62/200\n",
      "2560/2560 [==============================] - 3s 1ms/step - loss: 0.1092 - acc: 0.9621 - val_loss: 0.1266 - val_acc: 0.9656\n",
      "Epoch 63/200\n",
      "2560/2560 [==============================] - 3s 1ms/step - loss: 0.1062 - acc: 0.9645 - val_loss: 0.1324 - val_acc: 0.9563\n",
      "Epoch 64/200\n",
      "2560/2560 [==============================] - 3s 1ms/step - loss: 0.1066 - acc: 0.9641 - val_loss: 0.1284 - val_acc: 0.9594\n",
      "Epoch 65/200\n",
      "2560/2560 [==============================] - 3s 1ms/step - loss: 0.0951 - acc: 0.9691 - val_loss: 0.1177 - val_acc: 0.9641\n",
      "Epoch 66/200\n",
      "2560/2560 [==============================] - 3s 1ms/step - loss: 0.1001 - acc: 0.9645 - val_loss: 0.1166 - val_acc: 0.9641\n",
      "Epoch 67/200\n",
      "2560/2560 [==============================] - 3s 1ms/step - loss: 0.0917 - acc: 0.9715 - val_loss: 0.1188 - val_acc: 0.9578\n",
      "Epoch 68/200\n",
      "2560/2560 [==============================] - 3s 1ms/step - loss: 0.0949 - acc: 0.9688 - val_loss: 0.1182 - val_acc: 0.9656\n",
      "Epoch 69/200\n",
      "2560/2560 [==============================] - 3s 1ms/step - loss: 0.0911 - acc: 0.9699 - val_loss: 0.1133 - val_acc: 0.9641\n",
      "Epoch 70/200\n",
      "2560/2560 [==============================] - 3s 1ms/step - loss: 0.0881 - acc: 0.9684 - val_loss: 0.1091 - val_acc: 0.9625\n",
      "Epoch 71/200\n",
      "2560/2560 [==============================] - 3s 1ms/step - loss: 0.0954 - acc: 0.9691 - val_loss: 0.1170 - val_acc: 0.9641\n",
      "Epoch 72/200\n",
      "2560/2560 [==============================] - 3s 1ms/step - loss: 0.0928 - acc: 0.9711 - val_loss: 0.1453 - val_acc: 0.9578\n",
      "Epoch 73/200\n",
      "2560/2560 [==============================] - 3s 1ms/step - loss: 0.1009 - acc: 0.9637 - val_loss: 0.1137 - val_acc: 0.9656\n",
      "Epoch 74/200\n",
      "2560/2560 [==============================] - 3s 1ms/step - loss: 0.0847 - acc: 0.9723 - val_loss: 0.1081 - val_acc: 0.9672\n",
      "Epoch 75/200\n",
      "2560/2560 [==============================] - 3s 1ms/step - loss: 0.0818 - acc: 0.9746 - val_loss: 0.1091 - val_acc: 0.9594\n",
      "Epoch 76/200\n",
      "2560/2560 [==============================] - 3s 1ms/step - loss: 0.0808 - acc: 0.9676 - val_loss: 0.0997 - val_acc: 0.9719\n",
      "Epoch 77/200\n",
      "2560/2560 [==============================] - 3s 1ms/step - loss: 0.0873 - acc: 0.9684 - val_loss: 0.1089 - val_acc: 0.9594\n",
      "Epoch 78/200\n",
      "2560/2560 [==============================] - 3s 1ms/step - loss: 0.0916 - acc: 0.9684 - val_loss: 0.1132 - val_acc: 0.9609\n",
      "Epoch 79/200\n",
      "2560/2560 [==============================] - 3s 1ms/step - loss: 0.0948 - acc: 0.9660 - val_loss: 0.1114 - val_acc: 0.9609\n",
      "Epoch 80/200\n",
      "2560/2560 [==============================] - 3s 1ms/step - loss: 0.0817 - acc: 0.9738 - val_loss: 0.1075 - val_acc: 0.9672\n",
      "Epoch 81/200\n",
      "2560/2560 [==============================] - 3s 1ms/step - loss: 0.0747 - acc: 0.9762 - val_loss: 0.1024 - val_acc: 0.9703\n",
      "Epoch 82/200\n",
      "2560/2560 [==============================] - 3s 1ms/step - loss: 0.0771 - acc: 0.9734 - val_loss: 0.1032 - val_acc: 0.9641\n",
      "Epoch 83/200\n",
      "2560/2560 [==============================] - 3s 1ms/step - loss: 0.0816 - acc: 0.9730 - val_loss: 0.1060 - val_acc: 0.9688\n",
      "Epoch 84/200\n",
      "2560/2560 [==============================] - 3s 1ms/step - loss: 0.0777 - acc: 0.9754 - val_loss: 0.1109 - val_acc: 0.9719\n",
      "Epoch 85/200\n",
      "2560/2560 [==============================] - 3s 1ms/step - loss: 0.0847 - acc: 0.9699 - val_loss: 0.1062 - val_acc: 0.9688\n",
      "Epoch 86/200\n",
      "2560/2560 [==============================] - 3s 1ms/step - loss: 0.0826 - acc: 0.9676 - val_loss: 0.1134 - val_acc: 0.9656\n",
      "Epoch 87/200\n",
      "2560/2560 [==============================] - 3s 1ms/step - loss: 0.0786 - acc: 0.9734 - val_loss: 0.1016 - val_acc: 0.9672\n",
      "Epoch 88/200\n",
      "2560/2560 [==============================] - 3s 1ms/step - loss: 0.0742 - acc: 0.9762 - val_loss: 0.0992 - val_acc: 0.9656\n",
      "Epoch 89/200\n",
      "2560/2560 [==============================] - 3s 1ms/step - loss: 0.0704 - acc: 0.9789 - val_loss: 0.1015 - val_acc: 0.9672\n",
      "Epoch 90/200\n",
      "2560/2560 [==============================] - 3s 1ms/step - loss: 0.0710 - acc: 0.9793 - val_loss: 0.0969 - val_acc: 0.9719\n",
      "Epoch 91/200\n",
      "2560/2560 [==============================] - 3s 1ms/step - loss: 0.0717 - acc: 0.9773 - val_loss: 0.0935 - val_acc: 0.9688\n",
      "Epoch 92/200\n",
      "2560/2560 [==============================] - 3s 1ms/step - loss: 0.0699 - acc: 0.9766 - val_loss: 0.0976 - val_acc: 0.9672\n",
      "Epoch 93/200\n",
      "2560/2560 [==============================] - 3s 1ms/step - loss: 0.0730 - acc: 0.9758 - val_loss: 0.1122 - val_acc: 0.9656\n",
      "Epoch 94/200\n",
      "2560/2560 [==============================] - 3s 1ms/step - loss: 0.0762 - acc: 0.9738 - val_loss: 0.0984 - val_acc: 0.9688\n",
      "Epoch 95/200\n",
      "2560/2560 [==============================] - 3s 1ms/step - loss: 0.0641 - acc: 0.9770 - val_loss: 0.0918 - val_acc: 0.9672\n",
      "Epoch 96/200\n",
      "2560/2560 [==============================] - 3s 1ms/step - loss: 0.0653 - acc: 0.9801 - val_loss: 0.1060 - val_acc: 0.9688\n",
      "Epoch 97/200\n",
      "2560/2560 [==============================] - 3s 1ms/step - loss: 0.0751 - acc: 0.9750 - val_loss: 0.1103 - val_acc: 0.9734\n",
      "Epoch 98/200\n",
      "2560/2560 [==============================] - 3s 1ms/step - loss: 0.0655 - acc: 0.9766 - val_loss: 0.1047 - val_acc: 0.9625\n",
      "Epoch 99/200\n",
      "2560/2560 [==============================] - 3s 1ms/step - loss: 0.0694 - acc: 0.9758 - val_loss: 0.1201 - val_acc: 0.9531\n",
      "Epoch 100/200\n",
      "2560/2560 [==============================] - 3s 1ms/step - loss: 0.0805 - acc: 0.9738 - val_loss: 0.1203 - val_acc: 0.9594\n",
      "Epoch 101/200\n",
      "2560/2560 [==============================] - 3s 1ms/step - loss: 0.0759 - acc: 0.9750 - val_loss: 0.1040 - val_acc: 0.9703\n",
      "Epoch 102/200\n",
      "2560/2560 [==============================] - 3s 1ms/step - loss: 0.0673 - acc: 0.9773 - val_loss: 0.0953 - val_acc: 0.9719\n",
      "Epoch 103/200\n",
      "2560/2560 [==============================] - 3s 1ms/step - loss: 0.0603 - acc: 0.9832 - val_loss: 0.0988 - val_acc: 0.9688\n",
      "Epoch 104/200\n",
      "2560/2560 [==============================] - 3s 1ms/step - loss: 0.0595 - acc: 0.9785 - val_loss: 0.1092 - val_acc: 0.9656\n",
      "Epoch 105/200\n",
      "2560/2560 [==============================] - 3s 1ms/step - loss: 0.0776 - acc: 0.9738 - val_loss: 0.1052 - val_acc: 0.9641\n",
      "Epoch 106/200\n",
      "2560/2560 [==============================] - 3s 1ms/step - loss: 0.0678 - acc: 0.9777 - val_loss: 0.0936 - val_acc: 0.9703\n",
      "Epoch 107/200\n",
      "2560/2560 [==============================] - 3s 1ms/step - loss: 0.0663 - acc: 0.9789 - val_loss: 0.1053 - val_acc: 0.9734\n",
      "Epoch 108/200\n",
      "2560/2560 [==============================] - 3s 1ms/step - loss: 0.0622 - acc: 0.9762 - val_loss: 0.0957 - val_acc: 0.9688\n",
      "Epoch 109/200\n",
      "2560/2560 [==============================] - 3s 1ms/step - loss: 0.0633 - acc: 0.9789 - val_loss: 0.0897 - val_acc: 0.9703\n",
      "Epoch 110/200\n",
      "2560/2560 [==============================] - 3s 1ms/step - loss: 0.0573 - acc: 0.9816 - val_loss: 0.0971 - val_acc: 0.9656\n",
      "Epoch 111/200\n",
      "2560/2560 [==============================] - 3s 1ms/step - loss: 0.0535 - acc: 0.9828 - val_loss: 0.0881 - val_acc: 0.9750\n",
      "Epoch 112/200\n",
      "2560/2560 [==============================] - 3s 1ms/step - loss: 0.0511 - acc: 0.9824 - val_loss: 0.0982 - val_acc: 0.9656\n",
      "Epoch 113/200\n",
      "2560/2560 [==============================] - 3s 1ms/step - loss: 0.0610 - acc: 0.9813 - val_loss: 0.1029 - val_acc: 0.9688\n",
      "Epoch 114/200\n",
      "2560/2560 [==============================] - 3s 1ms/step - loss: 0.0540 - acc: 0.9852 - val_loss: 0.0933 - val_acc: 0.9688\n",
      "Epoch 115/200\n",
      "2560/2560 [==============================] - 3s 1ms/step - loss: 0.0509 - acc: 0.9832 - val_loss: 0.0886 - val_acc: 0.9719\n",
      "Epoch 116/200\n",
      "2560/2560 [==============================] - 3s 1ms/step - loss: 0.0538 - acc: 0.9848 - val_loss: 0.0905 - val_acc: 0.9656\n",
      "Epoch 117/200\n",
      "2560/2560 [==============================] - 3s 1ms/step - loss: 0.0504 - acc: 0.9836 - val_loss: 0.0875 - val_acc: 0.9719\n",
      "Epoch 118/200\n",
      "2560/2560 [==============================] - 3s 1ms/step - loss: 0.0549 - acc: 0.9816 - val_loss: 0.1067 - val_acc: 0.9703\n",
      "Epoch 119/200\n",
      "2560/2560 [==============================] - 3s 1ms/step - loss: 0.0543 - acc: 0.9844 - val_loss: 0.1063 - val_acc: 0.9688\n",
      "Epoch 120/200\n",
      "2560/2560 [==============================] - 3s 1ms/step - loss: 0.0582 - acc: 0.9813 - val_loss: 0.1017 - val_acc: 0.9688\n",
      "Epoch 121/200\n"
     ]
    },
    {
     "name": "stdout",
     "output_type": "stream",
     "text": [
      "2560/2560 [==============================] - 3s 1ms/step - loss: 0.0537 - acc: 0.9820 - val_loss: 0.1047 - val_acc: 0.9656\n",
      "Epoch 122/200\n",
      "2560/2560 [==============================] - 3s 1ms/step - loss: 0.0506 - acc: 0.9832 - val_loss: 0.1011 - val_acc: 0.9688\n",
      "Epoch 123/200\n",
      "2560/2560 [==============================] - 3s 1ms/step - loss: 0.0485 - acc: 0.9848 - val_loss: 0.0924 - val_acc: 0.9672\n",
      "Epoch 124/200\n",
      "2560/2560 [==============================] - 3s 1ms/step - loss: 0.0486 - acc: 0.9852 - val_loss: 0.0923 - val_acc: 0.9797\n",
      "Epoch 125/200\n",
      "2560/2560 [==============================] - 3s 1ms/step - loss: 0.0471 - acc: 0.9832 - val_loss: 0.0916 - val_acc: 0.9672\n",
      "Epoch 126/200\n",
      "2560/2560 [==============================] - 3s 1ms/step - loss: 0.0486 - acc: 0.9867 - val_loss: 0.0888 - val_acc: 0.9734\n",
      "Epoch 127/200\n",
      "2560/2560 [==============================] - 3s 1ms/step - loss: 0.0467 - acc: 0.9848 - val_loss: 0.0920 - val_acc: 0.9766\n",
      "Epoch 128/200\n",
      "2560/2560 [==============================] - 3s 1ms/step - loss: 0.0414 - acc: 0.9875 - val_loss: 0.0881 - val_acc: 0.9719\n",
      "Epoch 129/200\n",
      "2560/2560 [==============================] - 3s 1ms/step - loss: 0.0429 - acc: 0.9852 - val_loss: 0.0830 - val_acc: 0.9750\n",
      "Epoch 130/200\n",
      "2560/2560 [==============================] - 3s 1ms/step - loss: 0.0443 - acc: 0.9863 - val_loss: 0.0928 - val_acc: 0.9719\n",
      "Epoch 131/200\n",
      "2560/2560 [==============================] - 3s 1ms/step - loss: 0.0422 - acc: 0.9867 - val_loss: 0.0963 - val_acc: 0.9703\n",
      "Epoch 132/200\n",
      "2560/2560 [==============================] - 3s 1ms/step - loss: 0.0530 - acc: 0.9840 - val_loss: 0.0978 - val_acc: 0.9688\n",
      "Epoch 133/200\n",
      "2560/2560 [==============================] - 3s 1ms/step - loss: 0.0489 - acc: 0.9840 - val_loss: 0.0980 - val_acc: 0.9719\n",
      "Epoch 134/200\n",
      "2560/2560 [==============================] - 3s 1ms/step - loss: 0.0436 - acc: 0.9875 - val_loss: 0.0913 - val_acc: 0.9703\n",
      "Epoch 135/200\n",
      "2560/2560 [==============================] - 3s 1ms/step - loss: 0.0445 - acc: 0.9863 - val_loss: 0.0960 - val_acc: 0.9719\n",
      "Epoch 136/200\n",
      "2560/2560 [==============================] - 3s 1ms/step - loss: 0.0477 - acc: 0.9824 - val_loss: 0.1014 - val_acc: 0.9672\n",
      "Epoch 137/200\n",
      "2560/2560 [==============================] - 3s 1ms/step - loss: 0.0468 - acc: 0.9828 - val_loss: 0.0989 - val_acc: 0.9734\n",
      "Epoch 138/200\n",
      "2560/2560 [==============================] - 3s 1ms/step - loss: 0.0454 - acc: 0.9832 - val_loss: 0.0994 - val_acc: 0.9688\n",
      "Epoch 139/200\n",
      "2560/2560 [==============================] - 3s 1ms/step - loss: 0.0430 - acc: 0.9855 - val_loss: 0.0890 - val_acc: 0.9750\n",
      "Epoch 140/200\n",
      "2560/2560 [==============================] - 3s 1ms/step - loss: 0.0397 - acc: 0.9879 - val_loss: 0.0860 - val_acc: 0.9750\n",
      "Epoch 141/200\n",
      "2560/2560 [==============================] - 3s 1ms/step - loss: 0.0362 - acc: 0.9902 - val_loss: 0.0952 - val_acc: 0.9734\n",
      "Epoch 142/200\n",
      "2560/2560 [==============================] - 3s 1ms/step - loss: 0.0352 - acc: 0.9891 - val_loss: 0.0893 - val_acc: 0.9766\n",
      "Epoch 143/200\n",
      "2560/2560 [==============================] - 3s 1ms/step - loss: 0.0366 - acc: 0.9867 - val_loss: 0.0920 - val_acc: 0.9656\n",
      "Epoch 144/200\n",
      "2560/2560 [==============================] - 3s 1ms/step - loss: 0.0311 - acc: 0.9914 - val_loss: 0.0920 - val_acc: 0.9750\n",
      "Epoch 145/200\n",
      "2560/2560 [==============================] - 3s 1ms/step - loss: 0.0335 - acc: 0.9898 - val_loss: 0.0919 - val_acc: 0.9734\n",
      "Epoch 146/200\n",
      "2560/2560 [==============================] - 3s 1ms/step - loss: 0.0366 - acc: 0.9879 - val_loss: 0.0975 - val_acc: 0.9703\n",
      "Epoch 147/200\n",
      "2560/2560 [==============================] - 3s 1ms/step - loss: 0.0362 - acc: 0.9883 - val_loss: 0.0829 - val_acc: 0.9750\n",
      "Epoch 148/200\n",
      "2560/2560 [==============================] - 3s 1ms/step - loss: 0.0334 - acc: 0.9910 - val_loss: 0.0838 - val_acc: 0.9750\n",
      "Epoch 149/200\n",
      "2560/2560 [==============================] - 3s 1ms/step - loss: 0.0354 - acc: 0.9887 - val_loss: 0.0954 - val_acc: 0.9703\n",
      "Epoch 150/200\n",
      "2560/2560 [==============================] - 3s 1ms/step - loss: 0.0322 - acc: 0.9891 - val_loss: 0.0852 - val_acc: 0.9734\n",
      "Epoch 151/200\n",
      "2560/2560 [==============================] - 3s 1ms/step - loss: 0.0357 - acc: 0.9883 - val_loss: 0.1010 - val_acc: 0.9688\n",
      "Epoch 152/200\n",
      "2560/2560 [==============================] - 3s 1ms/step - loss: 0.0345 - acc: 0.9895 - val_loss: 0.1085 - val_acc: 0.9719\n",
      "Epoch 153/200\n",
      "2560/2560 [==============================] - 3s 1ms/step - loss: 0.0413 - acc: 0.9859 - val_loss: 0.0871 - val_acc: 0.9766\n",
      "Epoch 154/200\n",
      "2560/2560 [==============================] - 3s 1ms/step - loss: 0.0392 - acc: 0.9887 - val_loss: 0.0969 - val_acc: 0.9719\n",
      "Epoch 155/200\n",
      "2560/2560 [==============================] - 3s 1ms/step - loss: 0.0316 - acc: 0.9910 - val_loss: 0.0997 - val_acc: 0.9719\n",
      "Epoch 156/200\n",
      "2560/2560 [==============================] - 3s 1ms/step - loss: 0.0301 - acc: 0.9906 - val_loss: 0.0849 - val_acc: 0.9719\n",
      "Epoch 157/200\n",
      "2560/2560 [==============================] - 3s 1ms/step - loss: 0.0311 - acc: 0.9918 - val_loss: 0.0873 - val_acc: 0.9766\n",
      "Epoch 158/200\n",
      "2560/2560 [==============================] - 3s 1ms/step - loss: 0.0271 - acc: 0.9918 - val_loss: 0.0885 - val_acc: 0.9641\n",
      "Epoch 159/200\n",
      "2560/2560 [==============================] - 3s 1ms/step - loss: 0.0314 - acc: 0.9879 - val_loss: 0.0849 - val_acc: 0.9750\n",
      "Epoch 160/200\n",
      "2560/2560 [==============================] - 3s 1ms/step - loss: 0.0229 - acc: 0.9949 - val_loss: 0.0948 - val_acc: 0.9672\n",
      "Epoch 161/200\n",
      "2560/2560 [==============================] - 3s 1ms/step - loss: 0.0284 - acc: 0.9918 - val_loss: 0.0825 - val_acc: 0.9766\n",
      "Epoch 162/200\n",
      "2560/2560 [==============================] - 3s 1ms/step - loss: 0.0278 - acc: 0.9922 - val_loss: 0.0929 - val_acc: 0.9750\n",
      "Epoch 163/200\n",
      "2560/2560 [==============================] - 3s 1ms/step - loss: 0.0268 - acc: 0.9918 - val_loss: 0.1072 - val_acc: 0.9750\n",
      "Epoch 164/200\n",
      "2560/2560 [==============================] - 3s 1ms/step - loss: 0.0315 - acc: 0.9910 - val_loss: 0.1016 - val_acc: 0.9703\n",
      "Epoch 165/200\n",
      "2560/2560 [==============================] - 3s 1ms/step - loss: 0.0340 - acc: 0.9887 - val_loss: 0.0909 - val_acc: 0.9750\n",
      "Epoch 166/200\n",
      "2560/2560 [==============================] - 3s 1ms/step - loss: 0.0251 - acc: 0.9930 - val_loss: 0.0968 - val_acc: 0.9719\n",
      "Epoch 167/200\n",
      "2560/2560 [==============================] - 3s 1ms/step - loss: 0.0309 - acc: 0.9898 - val_loss: 0.0825 - val_acc: 0.9703\n",
      "Epoch 168/200\n",
      "2560/2560 [==============================] - 3s 1ms/step - loss: 0.0282 - acc: 0.9918 - val_loss: 0.0868 - val_acc: 0.9750\n",
      "Epoch 169/200\n",
      "2560/2560 [==============================] - 3s 1ms/step - loss: 0.0283 - acc: 0.9902 - val_loss: 0.0908 - val_acc: 0.9781\n",
      "Epoch 170/200\n",
      "2560/2560 [==============================] - 3s 1ms/step - loss: 0.0285 - acc: 0.9906 - val_loss: 0.0889 - val_acc: 0.9734\n",
      "Epoch 171/200\n",
      "2560/2560 [==============================] - 3s 1ms/step - loss: 0.0269 - acc: 0.9914 - val_loss: 0.0960 - val_acc: 0.9703\n",
      "Epoch 172/200\n",
      "2560/2560 [==============================] - 3s 1ms/step - loss: 0.0268 - acc: 0.9918 - val_loss: 0.0874 - val_acc: 0.9797\n",
      "Epoch 173/200\n",
      "2560/2560 [==============================] - 3s 1ms/step - loss: 0.0289 - acc: 0.9922 - val_loss: 0.1079 - val_acc: 0.9719\n",
      "Epoch 174/200\n",
      "2560/2560 [==============================] - 3s 1ms/step - loss: 0.0305 - acc: 0.9906 - val_loss: 0.0902 - val_acc: 0.9734\n",
      "Epoch 175/200\n",
      "2560/2560 [==============================] - 3s 1ms/step - loss: 0.0292 - acc: 0.9918 - val_loss: 0.1028 - val_acc: 0.9781\n",
      "Epoch 176/200\n",
      "2560/2560 [==============================] - 3s 1ms/step - loss: 0.0301 - acc: 0.9898 - val_loss: 0.0868 - val_acc: 0.9781\n",
      "Epoch 177/200\n",
      "2560/2560 [==============================] - 3s 1ms/step - loss: 0.0257 - acc: 0.9926 - val_loss: 0.1011 - val_acc: 0.9703\n",
      "Epoch 178/200\n",
      "2560/2560 [==============================] - 3s 1ms/step - loss: 0.0267 - acc: 0.9922 - val_loss: 0.0996 - val_acc: 0.9703\n",
      "Epoch 179/200\n",
      "2560/2560 [==============================] - 3s 1ms/step - loss: 0.0261 - acc: 0.9906 - val_loss: 0.0909 - val_acc: 0.9781\n",
      "Epoch 180/200\n",
      "2560/2560 [==============================] - 3s 1ms/step - loss: 0.0260 - acc: 0.9922 - val_loss: 0.0836 - val_acc: 0.9719\n"
     ]
    },
    {
     "name": "stdout",
     "output_type": "stream",
     "text": [
      "Epoch 181/200\n",
      "2560/2560 [==============================] - 3s 1ms/step - loss: 0.0217 - acc: 0.9941 - val_loss: 0.0941 - val_acc: 0.9688\n",
      "Epoch 182/200\n",
      "2560/2560 [==============================] - 3s 1ms/step - loss: 0.0250 - acc: 0.9930 - val_loss: 0.0917 - val_acc: 0.9688\n",
      "Epoch 183/200\n",
      "2560/2560 [==============================] - 3s 1ms/step - loss: 0.0195 - acc: 0.9957 - val_loss: 0.0936 - val_acc: 0.9797\n",
      "Epoch 184/200\n",
      "2560/2560 [==============================] - 3s 1ms/step - loss: 0.0178 - acc: 0.9953 - val_loss: 0.0959 - val_acc: 0.9734\n",
      "Epoch 185/200\n",
      "2560/2560 [==============================] - 3s 1ms/step - loss: 0.0227 - acc: 0.9945 - val_loss: 0.0880 - val_acc: 0.9719\n",
      "Epoch 186/200\n",
      "2560/2560 [==============================] - 3s 1ms/step - loss: 0.0213 - acc: 0.9926 - val_loss: 0.0990 - val_acc: 0.9781\n",
      "Epoch 187/200\n",
      "2560/2560 [==============================] - 3s 1ms/step - loss: 0.0213 - acc: 0.9941 - val_loss: 0.0858 - val_acc: 0.9750\n",
      "Epoch 188/200\n",
      "2560/2560 [==============================] - 3s 1ms/step - loss: 0.0231 - acc: 0.9930 - val_loss: 0.0872 - val_acc: 0.9750\n",
      "Epoch 189/200\n",
      "2560/2560 [==============================] - 3s 1ms/step - loss: 0.0209 - acc: 0.9953 - val_loss: 0.1048 - val_acc: 0.9734\n",
      "Epoch 190/200\n",
      "2560/2560 [==============================] - 3s 1ms/step - loss: 0.0226 - acc: 0.9945 - val_loss: 0.0956 - val_acc: 0.9703\n",
      "Epoch 191/200\n",
      "2560/2560 [==============================] - 3s 1ms/step - loss: 0.0185 - acc: 0.9949 - val_loss: 0.1007 - val_acc: 0.9750\n",
      "Epoch 192/200\n",
      "2560/2560 [==============================] - 3s 1ms/step - loss: 0.0197 - acc: 0.9941 - val_loss: 0.0837 - val_acc: 0.9719\n",
      "Epoch 193/200\n",
      "2560/2560 [==============================] - 3s 1ms/step - loss: 0.0205 - acc: 0.9941 - val_loss: 0.0887 - val_acc: 0.9766\n",
      "Epoch 194/200\n",
      "2560/2560 [==============================] - 3s 1ms/step - loss: 0.0171 - acc: 0.9949 - val_loss: 0.0853 - val_acc: 0.9797\n",
      "Epoch 195/200\n",
      "2560/2560 [==============================] - 3s 1ms/step - loss: 0.0186 - acc: 0.9965 - val_loss: 0.0907 - val_acc: 0.9719\n",
      "Epoch 196/200\n",
      "2560/2560 [==============================] - 3s 1ms/step - loss: 0.0173 - acc: 0.9949 - val_loss: 0.0951 - val_acc: 0.9750\n",
      "Epoch 197/200\n",
      "2560/2560 [==============================] - 3s 1ms/step - loss: 0.0166 - acc: 0.9953 - val_loss: 0.0926 - val_acc: 0.9734\n",
      "Epoch 198/200\n",
      "2560/2560 [==============================] - 3s 1ms/step - loss: 0.0176 - acc: 0.9957 - val_loss: 0.0868 - val_acc: 0.9734\n",
      "Epoch 199/200\n",
      "2560/2560 [==============================] - 3s 1ms/step - loss: 0.0173 - acc: 0.9957 - val_loss: 0.1131 - val_acc: 0.9734\n",
      "Epoch 200/200\n",
      "2560/2560 [==============================] - 3s 1ms/step - loss: 0.0223 - acc: 0.9941 - val_loss: 0.0954 - val_acc: 0.9688\n"
     ]
    }
   ],
   "source": [
    "CNNmodel = cnn.fit({\"spectra\":cube_train2, \"spatial\":xy_train, \"lums\":lums_flat_train}, cube_train_labels, \n",
    "                     validation_data=({\"spectra\":cube_test2, \"spatial\":xy_test, \"lums\":lums_flat_test}, \n",
    "                                      cube_test_labels),\n",
    "                     epochs=200, batch_size=512)"
   ]
  },
  {
   "cell_type": "code",
   "execution_count": 38,
   "metadata": {},
   "outputs": [
    {
     "data": {
      "image/png": "[encoded data removed]",
      "text/plain": [
       "<Figure size 864x720 with 4 Axes>"
      ]
     },
     "metadata": {
      "needs_background": "light"
     },
     "output_type": "display_data"
    }
   ],
   "source": [
    "plot_loss_history(CNNmodel)"
   ]
  },
  {
   "cell_type": "code",
   "execution_count": 39,
   "metadata": {
    "scrolled": true
   },
   "outputs": [
    {
     "name": "stdout",
     "output_type": "stream",
     "text": [
      "Train on 2560 samples, validate on 640 samples\n",
      "Epoch 1/80\n",
      "2560/2560 [==============================] - 4s 1ms/step - loss: 1.6246 - acc: 0.4000 - val_loss: 0.9819 - val_acc: 0.7047\n",
      "Epoch 2/80\n",
      "2560/2560 [==============================] - 3s 1ms/step - loss: 0.8040 - acc: 0.7684 - val_loss: 0.6175 - val_acc: 0.8266\n",
      "Epoch 3/80\n",
      "2560/2560 [==============================] - 3s 1ms/step - loss: 0.5719 - acc: 0.8410 - val_loss: 0.4706 - val_acc: 0.8703\n",
      "Epoch 4/80\n",
      "2560/2560 [==============================] - 3s 1ms/step - loss: 0.4705 - acc: 0.8602 - val_loss: 0.4198 - val_acc: 0.8547\n",
      "Epoch 5/80\n",
      "2560/2560 [==============================] - 3s 1ms/step - loss: 0.4037 - acc: 0.8688 - val_loss: 0.3687 - val_acc: 0.8828\n",
      "Epoch 6/80\n",
      "2560/2560 [==============================] - 3s 1ms/step - loss: 0.3553 - acc: 0.8895 - val_loss: 0.3330 - val_acc: 0.9016\n",
      "Epoch 7/80\n",
      "2560/2560 [==============================] - 3s 1ms/step - loss: 0.3316 - acc: 0.8969 - val_loss: 0.3174 - val_acc: 0.9047\n",
      "Epoch 8/80\n",
      "2560/2560 [==============================] - 3s 1ms/step - loss: 0.3085 - acc: 0.8996 - val_loss: 0.3150 - val_acc: 0.8922\n",
      "Epoch 9/80\n",
      "2560/2560 [==============================] - 3s 1ms/step - loss: 0.3059 - acc: 0.9051 - val_loss: 0.3448 - val_acc: 0.8797\n",
      "Epoch 10/80\n",
      "2560/2560 [==============================] - 3s 1ms/step - loss: 0.3119 - acc: 0.8988 - val_loss: 0.2770 - val_acc: 0.9047\n",
      "Epoch 11/80\n",
      "2560/2560 [==============================] - 3s 1ms/step - loss: 0.2879 - acc: 0.9043 - val_loss: 0.2687 - val_acc: 0.9062\n",
      "Epoch 12/80\n",
      "2560/2560 [==============================] - 3s 1ms/step - loss: 0.2698 - acc: 0.9090 - val_loss: 0.2466 - val_acc: 0.9078\n",
      "Epoch 13/80\n",
      "2560/2560 [==============================] - 3s 1ms/step - loss: 0.2660 - acc: 0.9121 - val_loss: 0.2436 - val_acc: 0.9094\n",
      "Epoch 14/80\n",
      "2560/2560 [==============================] - 3s 1ms/step - loss: 0.2586 - acc: 0.9164 - val_loss: 0.2353 - val_acc: 0.9109\n",
      "Epoch 15/80\n",
      "2560/2560 [==============================] - 3s 1ms/step - loss: 0.2443 - acc: 0.9141 - val_loss: 0.2301 - val_acc: 0.9156\n",
      "Epoch 16/80\n",
      "2560/2560 [==============================] - 3s 1ms/step - loss: 0.2227 - acc: 0.9230 - val_loss: 0.2206 - val_acc: 0.9313\n",
      "Epoch 17/80\n",
      "2560/2560 [==============================] - 3s 1ms/step - loss: 0.2231 - acc: 0.9242 - val_loss: 0.2214 - val_acc: 0.9297\n",
      "Epoch 18/80\n",
      "2560/2560 [==============================] - 3s 1ms/step - loss: 0.2163 - acc: 0.9234 - val_loss: 0.2229 - val_acc: 0.9313\n",
      "Epoch 19/80\n",
      "2560/2560 [==============================] - 3s 1ms/step - loss: 0.2249 - acc: 0.9242 - val_loss: 0.2122 - val_acc: 0.9266\n",
      "Epoch 20/80\n",
      "2560/2560 [==============================] - 3s 1ms/step - loss: 0.2247 - acc: 0.9250 - val_loss: 0.2172 - val_acc: 0.9219\n",
      "Epoch 21/80\n",
      "2560/2560 [==============================] - 3s 1ms/step - loss: 0.1938 - acc: 0.9320 - val_loss: 0.2056 - val_acc: 0.9359\n",
      "Epoch 22/80\n",
      "2560/2560 [==============================] - 3s 1ms/step - loss: 0.1907 - acc: 0.9277 - val_loss: 0.2013 - val_acc: 0.9297\n",
      "Epoch 23/80\n",
      "2560/2560 [==============================] - 3s 1ms/step - loss: 0.1903 - acc: 0.9324 - val_loss: 0.1878 - val_acc: 0.9344\n",
      "Epoch 24/80\n",
      "2560/2560 [==============================] - 3s 1ms/step - loss: 0.1797 - acc: 0.9344 - val_loss: 0.1947 - val_acc: 0.9281\n",
      "Epoch 25/80\n",
      "2560/2560 [==============================] - 3s 1ms/step - loss: 0.1788 - acc: 0.9328 - val_loss: 0.1954 - val_acc: 0.9297\n",
      "Epoch 26/80\n",
      "2560/2560 [==============================] - 3s 1ms/step - loss: 0.1886 - acc: 0.9305 - val_loss: 0.1964 - val_acc: 0.9328\n",
      "Epoch 27/80\n",
      "2560/2560 [==============================] - 3s 1ms/step - loss: 0.1804 - acc: 0.9387 - val_loss: 0.1981 - val_acc: 0.9250\n",
      "Epoch 28/80\n",
      "2560/2560 [==============================] - 3s 1ms/step - loss: 0.1743 - acc: 0.9363 - val_loss: 0.1864 - val_acc: 0.9297\n",
      "Epoch 29/80\n",
      "2560/2560 [==============================] - 3s 1ms/step - loss: 0.1928 - acc: 0.9316 - val_loss: 0.1811 - val_acc: 0.9453\n",
      "Epoch 30/80\n",
      "2560/2560 [==============================] - 3s 1ms/step - loss: 0.2290 - acc: 0.9168 - val_loss: 0.2036 - val_acc: 0.9313\n",
      "Epoch 31/80\n",
      "2560/2560 [==============================] - 3s 1ms/step - loss: 0.1958 - acc: 0.9367 - val_loss: 0.2165 - val_acc: 0.9219\n",
      "Epoch 32/80\n",
      "2560/2560 [==============================] - 3s 1ms/step - loss: 0.1925 - acc: 0.9285 - val_loss: 0.1939 - val_acc: 0.9297\n",
      "Epoch 33/80\n",
      "2560/2560 [==============================] - 3s 1ms/step - loss: 0.1803 - acc: 0.9348 - val_loss: 0.1763 - val_acc: 0.9375\n",
      "Epoch 34/80\n",
      "2560/2560 [==============================] - 3s 1ms/step - loss: 0.1688 - acc: 0.9387 - val_loss: 0.1785 - val_acc: 0.9328\n",
      "Epoch 35/80\n",
      "2560/2560 [==============================] - 3s 1ms/step - loss: 0.1655 - acc: 0.9414 - val_loss: 0.1718 - val_acc: 0.9344\n",
      "Epoch 36/80\n",
      "2560/2560 [==============================] - 3s 1ms/step - loss: 0.1524 - acc: 0.9457 - val_loss: 0.1721 - val_acc: 0.9391\n",
      "Epoch 37/80\n",
      "2560/2560 [==============================] - 3s 1ms/step - loss: 0.1505 - acc: 0.9508 - val_loss: 0.1637 - val_acc: 0.9375\n",
      "Epoch 38/80\n",
      "2560/2560 [==============================] - 3s 1ms/step - loss: 0.1450 - acc: 0.9535 - val_loss: 0.1499 - val_acc: 0.9453\n",
      "Epoch 39/80\n",
      "2560/2560 [==============================] - 3s 1ms/step - loss: 0.1412 - acc: 0.9480 - val_loss: 0.1542 - val_acc: 0.9484\n",
      "Epoch 40/80\n",
      "2560/2560 [==============================] - 3s 1ms/step - loss: 0.1371 - acc: 0.9504 - val_loss: 0.1492 - val_acc: 0.9484\n",
      "Epoch 41/80\n",
      "2560/2560 [==============================] - 3s 1ms/step - loss: 0.1399 - acc: 0.9523 - val_loss: 0.1651 - val_acc: 0.9359\n",
      "Epoch 42/80\n",
      "2560/2560 [==============================] - 3s 1ms/step - loss: 0.1390 - acc: 0.9496 - val_loss: 0.1500 - val_acc: 0.9531\n",
      "Epoch 43/80\n",
      "2560/2560 [==============================] - 3s 1ms/step - loss: 0.1327 - acc: 0.9531 - val_loss: 0.1491 - val_acc: 0.9516\n",
      "Epoch 44/80\n",
      "2560/2560 [==============================] - 3s 1ms/step - loss: 0.1281 - acc: 0.9555 - val_loss: 0.1420 - val_acc: 0.9500\n",
      "Epoch 45/80\n",
      "2560/2560 [==============================] - 3s 1ms/step - loss: 0.1234 - acc: 0.9590 - val_loss: 0.1472 - val_acc: 0.9516\n",
      "Epoch 46/80\n",
      "2560/2560 [==============================] - 3s 1ms/step - loss: 0.1274 - acc: 0.9566 - val_loss: 0.1467 - val_acc: 0.9500\n",
      "Epoch 47/80\n",
      "2560/2560 [==============================] - 3s 1ms/step - loss: 0.1229 - acc: 0.9566 - val_loss: 0.1399 - val_acc: 0.9437\n",
      "Epoch 48/80\n",
      "2560/2560 [==============================] - 3s 1ms/step - loss: 0.1214 - acc: 0.9570 - val_loss: 0.1543 - val_acc: 0.9531\n",
      "Epoch 49/80\n",
      "2560/2560 [==============================] - 3s 1ms/step - loss: 0.1218 - acc: 0.9594 - val_loss: 0.1354 - val_acc: 0.9484\n",
      "Epoch 50/80\n",
      "2560/2560 [==============================] - 3s 1ms/step - loss: 0.1174 - acc: 0.9633 - val_loss: 0.1333 - val_acc: 0.9563\n",
      "Epoch 51/80\n",
      "2560/2560 [==============================] - 3s 1ms/step - loss: 0.1096 - acc: 0.9605 - val_loss: 0.1299 - val_acc: 0.9563\n",
      "Epoch 52/80\n",
      "2560/2560 [==============================] - 3s 1ms/step - loss: 0.1210 - acc: 0.9578 - val_loss: 0.1467 - val_acc: 0.9500\n",
      "Epoch 53/80\n",
      "2560/2560 [==============================] - 3s 1ms/step - loss: 0.1260 - acc: 0.9523 - val_loss: 0.1518 - val_acc: 0.9328\n",
      "Epoch 54/80\n",
      "2560/2560 [==============================] - 3s 1ms/step - loss: 0.1203 - acc: 0.9590 - val_loss: 0.1390 - val_acc: 0.9563\n",
      "Epoch 55/80\n",
      "2560/2560 [==============================] - 3s 1ms/step - loss: 0.1192 - acc: 0.9605 - val_loss: 0.1449 - val_acc: 0.9469\n",
      "Epoch 56/80\n",
      "2560/2560 [==============================] - 3s 1ms/step - loss: 0.1192 - acc: 0.9578 - val_loss: 0.1377 - val_acc: 0.9531\n",
      "Epoch 57/80\n",
      "2560/2560 [==============================] - 3s 1ms/step - loss: 0.1086 - acc: 0.9629 - val_loss: 0.1357 - val_acc: 0.9453\n",
      "Epoch 58/80\n",
      "2560/2560 [==============================] - 3s 1ms/step - loss: 0.1124 - acc: 0.9617 - val_loss: 0.1286 - val_acc: 0.9563\n",
      "Epoch 59/80\n",
      "2560/2560 [==============================] - 3s 1ms/step - loss: 0.1082 - acc: 0.9633 - val_loss: 0.1328 - val_acc: 0.9547\n",
      "Epoch 60/80\n",
      "2560/2560 [==============================] - 3s 1ms/step - loss: 0.1041 - acc: 0.9641 - val_loss: 0.1335 - val_acc: 0.9547\n",
      "Epoch 61/80\n",
      "2560/2560 [==============================] - 3s 1ms/step - loss: 0.1005 - acc: 0.9688 - val_loss: 0.1384 - val_acc: 0.9516\n",
      "Epoch 62/80\n",
      "2560/2560 [==============================] - 3s 1ms/step - loss: 0.1131 - acc: 0.9582 - val_loss: 0.1231 - val_acc: 0.9547\n",
      "Epoch 63/80\n",
      "2560/2560 [==============================] - 3s 1ms/step - loss: 0.0993 - acc: 0.9617 - val_loss: 0.1267 - val_acc: 0.9625\n",
      "Epoch 64/80\n",
      "2560/2560 [==============================] - 3s 1ms/step - loss: 0.0987 - acc: 0.9652 - val_loss: 0.1298 - val_acc: 0.9578\n",
      "Epoch 65/80\n",
      "2560/2560 [==============================] - 3s 1ms/step - loss: 0.0928 - acc: 0.9703 - val_loss: 0.1212 - val_acc: 0.9625\n",
      "Epoch 66/80\n",
      "2560/2560 [==============================] - 3s 1ms/step - loss: 0.0935 - acc: 0.9699 - val_loss: 0.1178 - val_acc: 0.9609\n",
      "Epoch 67/80\n",
      "2560/2560 [==============================] - 3s 1ms/step - loss: 0.0902 - acc: 0.9699 - val_loss: 0.1180 - val_acc: 0.9578\n",
      "Epoch 68/80\n",
      "2560/2560 [==============================] - 3s 1ms/step - loss: 0.0918 - acc: 0.9707 - val_loss: 0.1325 - val_acc: 0.9609\n",
      "Epoch 69/80\n",
      "2560/2560 [==============================] - 3s 1ms/step - loss: 0.0941 - acc: 0.9664 - val_loss: 0.1246 - val_acc: 0.9625\n",
      "Epoch 70/80\n",
      "2560/2560 [==============================] - 3s 1ms/step - loss: 0.0942 - acc: 0.9695 - val_loss: 0.1166 - val_acc: 0.9656\n",
      "Epoch 71/80\n",
      "2560/2560 [==============================] - 3s 1ms/step - loss: 0.0849 - acc: 0.9719 - val_loss: 0.1161 - val_acc: 0.9641\n",
      "Epoch 72/80\n",
      "2560/2560 [==============================] - 3s 1ms/step - loss: 0.0819 - acc: 0.9699 - val_loss: 0.1092 - val_acc: 0.9594\n",
      "Epoch 73/80\n",
      "2560/2560 [==============================] - 3s 1ms/step - loss: 0.0850 - acc: 0.9672 - val_loss: 0.1179 - val_acc: 0.9563\n",
      "Epoch 74/80\n",
      "2560/2560 [==============================] - 3s 1ms/step - loss: 0.0832 - acc: 0.9727 - val_loss: 0.1131 - val_acc: 0.9641\n",
      "Epoch 75/80\n",
      "2560/2560 [==============================] - 3s 1ms/step - loss: 0.0829 - acc: 0.9695 - val_loss: 0.1247 - val_acc: 0.9563\n",
      "Epoch 76/80\n",
      "2560/2560 [==============================] - 3s 1ms/step - loss: 0.0871 - acc: 0.9691 - val_loss: 0.1119 - val_acc: 0.9563\n",
      "Epoch 77/80\n",
      "2560/2560 [==============================] - 3s 1ms/step - loss: 0.0910 - acc: 0.9703 - val_loss: 0.1150 - val_acc: 0.9594\n",
      "Epoch 78/80\n",
      "2560/2560 [==============================] - 3s 1ms/step - loss: 0.0826 - acc: 0.9730 - val_loss: 0.1232 - val_acc: 0.9594\n",
      "Epoch 79/80\n",
      "2560/2560 [==============================] - 3s 1ms/step - loss: 0.0839 - acc: 0.9723 - val_loss: 0.1171 - val_acc: 0.9672\n",
      "Epoch 80/80\n",
      "2560/2560 [==============================] - 3s 1ms/step - loss: 0.0882 - acc: 0.9691 - val_loss: 0.1194 - val_acc: 0.9578\n"
     ]
    }
   ],
   "source": [
    "cnn = CNN_Model(cube_std_3d.shape[2])\n",
    "cnn.compile(optimizer=\"adam\", loss=\"sparse_categorical_crossentropy\",\n",
    "             metrics=[\"accuracy\"])\n",
    "CNNmodel = cnn.fit({\"spectra\":cube_train2, \"spatial\":xy_train, \"lums\":lums_flat_train}, cube_train_labels, \n",
    "                     validation_data=({\"spectra\":cube_test2, \"spatial\":xy_test, \"lums\":lums_flat_test}, \n",
    "                                      cube_test_labels),\n",
    "                     epochs=80, batch_size=512)"
   ]
  },
  {
   "cell_type": "code",
   "execution_count": 40,
   "metadata": {},
   "outputs": [
    {
     "name": "stdout",
     "output_type": "stream",
     "text": [
      "2560/2560 [==============================] - 2s 609us/step\n",
      "640/640 [==============================] - 0s 642us/step\n",
      "0.978515625 0.9578125\n"
     ]
    }
   ],
   "source": [
    "# model accuracy on training and testing sets\n",
    "\n",
    "train_loss, train_acc = cnn.evaluate({\"spectra\":cube_train2, \"spatial\":xy_train, \"lums\":lums_flat_train},\n",
    "                                     cube_train_labels)\n",
    "test_loss, test_acc = cnn.evaluate({\"spectra\":cube_test2, \"spatial\":xy_test, \"lums\":lums_flat_test}, \n",
    "                                   cube_test_labels)\n",
    "\n",
    "print(train_acc, test_acc)"
   ]
  },
  {
   "cell_type": "markdown",
   "metadata": {},
   "source": [
    "### Predict pixel classification on veg_00108"
   ]
  },
  {
   "cell_type": "code",
   "execution_count": 41,
   "metadata": {},
   "outputs": [
    {
     "name": "stdout",
     "output_type": "stream",
     "text": [
      "(2560000, 848, 1)\n",
      "(2560000, 2)\n"
     ]
    }
   ],
   "source": [
    "cube_standard_1 = cube_standard.reshape(cube_standard.shape[0], cube_standard.shape[1], 1)\n",
    "print(cube_standard_1.shape)\n",
    "xy_2d = xy.reshape((xy.shape[0] * xy.shape[1]), xy.shape[2])\n",
    "print(xy_2d.shape)"
   ]
  },
  {
   "cell_type": "code",
   "execution_count": 42,
   "metadata": {},
   "outputs": [
    {
     "name": "stdout",
     "output_type": "stream",
     "text": [
      "(2560000, 121)\n"
     ]
    }
   ],
   "source": [
    "lums_grid_flat = lums_grid.reshape((lums_grid.shape[0]*lums_grid.shape[1]), (lums_grid.shape[2]*lums_grid.shape[3]))\n",
    "print(lums_grid_flat.shape)"
   ]
  },
  {
   "cell_type": "code",
   "execution_count": null,
   "metadata": {},
   "outputs": [],
   "source": [
    "# classify entire binned cube\n",
    "import time\n",
    "start_time = time.time()\n",
    "\n",
    "probCube = cnn.predict({\"spectra\":cube_standard_1, \"spatial\":xy_2d, \"lums\":lums_grid_flat})\n",
    "\n",
    "elapsed_time = time.time() - start_time\n",
    "print(time.strftime(\"%H:%M:%S\", time.gmtime(elapsed_time)))"
   ]
  },
  {
   "cell_type": "code",
   "execution_count": null,
   "metadata": {},
   "outputs": [],
   "source": [
    "predictCube = probCube.argmax(axis=-1)"
   ]
  },
  {
   "cell_type": "code",
   "execution_count": null,
   "metadata": {},
   "outputs": [],
   "source": [
    "predictCube_reshape = predictCube.reshape(cube_sub.shape[1], cube_sub.shape[2])"
   ]
  },
  {
   "cell_type": "code",
   "execution_count": 47,
   "metadata": {},
   "outputs": [
    {
     "data": {
      "image/png": "[encoded data removed]",
      "text/plain": [
       "<Figure size 1080x1080 with 1 Axes>"
      ]
     },
     "metadata": {
      "needs_background": "light"
     },
     "output_type": "display_data"
    }
   ],
   "source": [
    "import matplotlib.pyplot as plt\n",
    "import matplotlib.colors as ListedColorMap\n",
    "import matplotlib.patches as mpatches\n",
    "from matplotlib.ticker import NullFormatter\n",
    "%matplotlib inline\n",
    "\n",
    "cmap = {0:[0,0.32549,0.62353,1], 1:[0.93333,0.9098,0.77255,1], 2:[0,0.61961,0.45098,1],  3:[0.33725,0.70588,0.91373,1],\n",
    "        4:[0,0,0,1], 5:[1,0.82353,0,1], 6:[0.90196,0.62353,0,1], 7:[0.83529,0.36863,0,1],\n",
    "        8:[0.8,0.47451,0.65490,1]}\n",
    "labels = {0:'sky', 1:'clouds', 2:'vegetation', 3:'water', 4:'built',\n",
    "          5:'windows', 6:'roads', 7:'cars', 8:'metal'}\n",
    "arrayShow = np.array([[cmap[i] for i in j] for j in predictCube_reshape])\n",
    "patches = [mpatches.Patch(color=cmap[i], label=labels[i]) for i in cmap]\n",
    "\n",
    "fig = plt.figure(figsize=(15,15))\n",
    "ax = fig.add_axes([0.1,0.1,0.9,0.9])\n",
    "ax.tick_params(labelsize=10)\n",
    "ax.imshow(arrayShow, aspect=0.5)\n",
    "lgd = ax.legend(handles=patches, bbox_to_anchor=(1,0.75), loc='upper left', borderaxespad=1.0, prop={'size':10}, ncol=1)\n",
    "plt.show()\n",
    "#fig.savefig(\"./plots/CNN_change_params_spatial_train_all_1_108_predict_map.png\", bbox_extra_artists=(lgd,), bbox_inches='tight')"
   ]
  },
  {
   "cell_type": "code",
   "execution_count": 48,
   "metadata": {},
   "outputs": [
    {
     "data": {
      "image/png": "[encoded data removed]",
      "text/plain": [
       "<Figure size 1080x1080 with 1 Axes>"
      ]
     },
     "metadata": {
      "needs_background": "light"
     },
     "output_type": "display_data"
    }
   ],
   "source": [
    "import matplotlib.pyplot as plt\n",
    "import matplotlib.colors as ListedColorMap\n",
    "import matplotlib.patches as mpatches\n",
    "from matplotlib.ticker import NullFormatter\n",
    "%matplotlib inline\n",
    "\n",
    "cmap = {0:[0,0.32549,0.62353,1], 1:[0.93333,0.9098,0.77255,1], 2:[0,0.61961,0.45098,1],  3:[0.33725,0.70588,0.91373,1],\n",
    "        4:[0,0,0,1], 5:[1,0.82353,0,1], 6:[0.90196,0.62353,0,1], 7:[0.83529,0.36863,0,1],\n",
    "        8:[0.8,0.47451,0.65490,1]}\n",
    "labels = {0:'sky', 1:'clouds', 2:'vegetation', 3:'water', 4:'built',\n",
    "          5:'windows', 6:'roads', 7:'cars', 8:'metal'}\n",
    "arrayShow = np.array([[cmap[i] for i in j] for j in predictCube_reshape])\n",
    "patches = [mpatches.Patch(color=cmap[i], label=labels[i]) for i in cmap]\n",
    "\n",
    "fig = plt.figure(figsize=(15,15))\n",
    "#ax = fig.add_axes([0.1,0.1,0.9,0.9])\n",
    "#ax.tick_params(labelsize=10)\n",
    "plt.imshow(arrayShow, aspect=0.5)\n",
    "#lgd = ax.legend(handles=patches, bbox_to_anchor=(1,0.75), loc='upper left', borderaxespad=1.0, prop={'size':10}, ncol=1)\n",
    "plt.axis('off')\n",
    "plt.show()\n",
    "fig.savefig(\"./plots/CNN_Model2_luminosities_train_108_test_108_predict_map.png\", bbox_inches='tight', dpi=300)"
   ]
  },
  {
   "cell_type": "code",
   "execution_count": 49,
   "metadata": {},
   "outputs": [],
   "source": [
    "import pickle\n",
    "pickle.dump(predictCube_reshape, open(\"./plots/CNN_Model2_luminosities_train_108_test_108_predict_map.pickle\", \"wb\"))"
   ]
  },
  {
   "cell_type": "markdown",
   "metadata": {},
   "source": [
    "### Evaluation Metrics (veg_00108)"
   ]
  },
  {
   "cell_type": "code",
   "execution_count": 50,
   "metadata": {},
   "outputs": [],
   "source": [
    "labels_pred_sky = predictCube_reshape[sky_coords[sky_test_ind[:], 0], sky_coords[sky_test_ind[:], 1]]\n",
    "labels_pred_clouds = predictCube_reshape[clouds_coords[clouds_test_ind[:], 0], clouds_coords[clouds_test_ind[:],1]]\n",
    "labels_pred_veg = predictCube_reshape[veg_coords[veg_test_ind[:],0], veg_coords[veg_test_ind[:],1]]\n",
    "labels_pred_wtr = predictCube_reshape[wtr_coords[wtr_test_ind[:],0], wtr_coords[wtr_test_ind[:],1]]\n",
    "labels_pred_blt = predictCube_reshape[blt_coords[blt_test_ind[:],0], blt_coords[blt_test_ind[:],1]]\n",
    "labels_pred_windows = predictCube_reshape[windows_coords[windows_test_ind[:],0], windows_coords[windows_test_ind[:],1]]\n",
    "labels_pred_rds = predictCube_reshape[rds_coords[rds_test_ind[:],0], rds_coords[rds_test_ind[:],1]]\n",
    "labels_pred_cars = predictCube_reshape[cars_coords[cars_test_ind[:],0], cars_coords[cars_test_ind[:],1]]\n",
    "labels_pred_mtl = predictCube_reshape[mtl_coords[mtl_test_ind[:],0], mtl_coords[mtl_test_ind[:],1]]\n",
    "\n",
    "labels_pred = np.concatenate((labels_pred_sky, labels_pred_clouds, labels_pred_veg, labels_pred_wtr, \n",
    "                             labels_pred_blt, labels_pred_windows, labels_pred_rds, labels_pred_cars, labels_pred_mtl))"
   ]
  },
  {
   "cell_type": "code",
   "execution_count": 51,
   "metadata": {},
   "outputs": [],
   "source": [
    "labels_true_sky = np.full(len(sky_test_ind), 0)\n",
    "labels_true_clouds = np.full(len(clouds_test_ind), 1)\n",
    "labels_true_veg = np.full(len(veg_test_ind), 2)\n",
    "labels_true_wtr = np.full(len(wtr_test_ind), 3)\n",
    "labels_true_blt = np.full(len(blt_test_ind), 4)\n",
    "labels_true_windows = np.full(len(windows_test_ind), 5)\n",
    "labels_true_rds = np.full(len(rds_test_ind), 6)\n",
    "labels_true_cars = np.full(len(cars_test_ind), 7)\n",
    "labels_true_mtl = np.full(len(mtl_test_ind), 8)\n",
    "\n",
    "labels_true = np.concatenate((labels_true_sky, labels_true_clouds, labels_true_veg, labels_true_wtr, \n",
    "                             labels_true_blt, labels_true_windows, labels_true_rds, labels_true_cars, labels_true_mtl))"
   ]
  },
  {
   "cell_type": "code",
   "execution_count": 52,
   "metadata": {},
   "outputs": [
    {
     "name": "stdout",
     "output_type": "stream",
     "text": [
      "(640,)\n",
      "(640,)\n"
     ]
    }
   ],
   "source": [
    "print(labels_pred.shape)\n",
    "print(labels_true.shape)"
   ]
  },
  {
   "cell_type": "code",
   "execution_count": 53,
   "metadata": {},
   "outputs": [
    {
     "name": "stdout",
     "output_type": "stream",
     "text": [
      "Confusion Matrix\n",
      "[[ 60   0   0   0   0   0   0   0   0]\n",
      " [  0 100   0   0   0   0   0   0   0]\n",
      " [  0   0 118   0   2   0   0   0   0]\n",
      " [  0   0   0  10   0   0   0   0   0]\n",
      " [  0   0   0   0 195   2   0   1   6]\n",
      " [  0   0   0   0   2  97   0   0   1]\n",
      " [  0   0   0   0   0   0   6   0   0]\n",
      " [  0   0   0   0   3   4   0  12   1]\n",
      " [  0   0   0   0   5   0   0   0  15]]\n",
      "\n",
      "Accuracy Score\n",
      "0.9578125\n",
      "\n",
      "Classification Report\n",
      "             precision    recall  f1-score   support\n",
      "\n",
      "        sky       1.00      1.00      1.00        60\n",
      "     clouds       1.00      1.00      1.00       100\n",
      " vegetation       1.00      0.98      0.99       120\n",
      "      water       1.00      1.00      1.00        10\n",
      "      built       0.94      0.96      0.95       204\n",
      "    windows       0.94      0.97      0.96       100\n",
      "      roads       1.00      1.00      1.00         6\n",
      "       cars       0.92      0.60      0.73        20\n",
      "      metal       0.65      0.75      0.70        20\n",
      "\n",
      "avg / total       0.96      0.96      0.96       640\n",
      "\n"
     ]
    }
   ],
   "source": [
    "from sklearn import metrics\n",
    "\n",
    "print(\"Confusion Matrix\")\n",
    "print(metrics.confusion_matrix(labels_true, labels_pred))\n",
    "\n",
    "print(\"\")\n",
    "print(\"Accuracy Score\")\n",
    "print(metrics.accuracy_score(labels_true, labels_pred))\n",
    "\n",
    "target_names = ['sky', 'clouds', 'vegetation', 'water', 'built', 'windows', 'roads', 'cars', 'metal']\n",
    "print(\"\")\n",
    "print(\"Classification Report\")\n",
    "print(metrics.classification_report(labels_true, labels_pred, target_names=target_names))"
   ]
  },
  {
   "cell_type": "code",
   "execution_count": 54,
   "metadata": {},
   "outputs": [],
   "source": [
    "f = open(\"./metrics/CNN_Model2_luminosities_train_108_test_108_metrics.txt\", \"w\")\n",
    "f.write(\"Confusion Matrix\")\n",
    "f.write('\\n')\n",
    "f.write(str(metrics.confusion_matrix(labels_true, labels_pred)))\n",
    "f.write('\\n')\n",
    "f.write('\\n')\n",
    "f.write(\"Accuracy Score\")\n",
    "f.write('\\n')\n",
    "f.write(str(metrics.accuracy_score(labels_true, labels_pred)))\n",
    "target_names = ['sky', 'clouds', 'vegetation', 'water', 'built', 'windows', 'roads', 'cars', 'metal']\n",
    "f.write('\\n')\n",
    "f.write('\\n')\n",
    "f.write(\"Classification Report\")\n",
    "f.write('\\n')\n",
    "f.write(metrics.classification_report(labels_true, labels_pred, target_names=target_names))\n",
    "f.close()"
   ]
  },
  {
   "cell_type": "code",
   "execution_count": null,
   "metadata": {},
   "outputs": [],
   "source": []
  },
  {
   "cell_type": "code",
   "execution_count": null,
   "metadata": {},
   "outputs": [],
   "source": []
  },
  {
   "cell_type": "code",
   "execution_count": null,
   "metadata": {},
   "outputs": [],
   "source": []
  },
  {
   "cell_type": "code",
   "execution_count": null,
   "metadata": {},
   "outputs": [],
   "source": []
  },
  {
   "cell_type": "code",
   "execution_count": null,
   "metadata": {},
   "outputs": [],
   "source": []
  },
  {
   "cell_type": "code",
   "execution_count": null,
   "metadata": {},
   "outputs": [],
   "source": []
  },
  {
   "cell_type": "code",
   "execution_count": null,
   "metadata": {},
   "outputs": [],
   "source": []
  },
  {
   "cell_type": "markdown",
   "metadata": {},
   "source": [
    "---\n",
    "## CNN trained on veg_00000 (Scene 1-b South Facing @ ~6pm)"
   ]
  },
  {
   "cell_type": "code",
   "execution_count": null,
   "metadata": {},
   "outputs": [],
   "source": [
    "fname0 = \"../../image_files/veg_00000.raw\"\n",
    "cube0 = read_hyper(fname0)"
   ]
  },
  {
   "cell_type": "code",
   "execution_count": null,
   "metadata": {},
   "outputs": [],
   "source": [
    "cube_sub0 = cube0.data[:, :, :].astype(float)\n",
    "print(cube_sub0.shape)"
   ]
  },
  {
   "cell_type": "code",
   "execution_count": null,
   "metadata": {},
   "outputs": [],
   "source": [
    "cube_reshaped0 = cube_sub0.transpose(1, 2, 0).reshape((cube_sub0.shape[1] * cube_sub0.shape[2]), cube_sub0.shape[0])\n",
    "print(cube_reshaped0.shape)"
   ]
  },
  {
   "cell_type": "code",
   "execution_count": null,
   "metadata": {},
   "outputs": [],
   "source": [
    "cube_norm0 = (cube_reshaped0 - cube_reshaped0.min()) / (cube_reshaped0.max() - cube_reshaped0.min())\n",
    "\n",
    "import matplotlib.pyplot as plt\n",
    "%matplotlib inline\n",
    "\n",
    "red_ind0 = (np.abs(cube0.waves - 650.0)).argmin()\n",
    "green_ind0 = (np.abs(cube0.waves - 550.0)).argmin()\n",
    "blue_ind0 = (np.abs(cube0.waves - 450.0)).argmin()\n",
    "\n",
    "cube_reshaped02 = cube_norm0.reshape(cube_sub0.shape[1], cube_sub0.shape[2], cube_sub0.shape[0])\n",
    "cube_scene0 = cube_reshaped02[:, :, [red_ind0, green_ind0, blue_ind0]]\n",
    "fig, ax = plt.subplots(figsize=(10,10))\n",
    "plt.title('veg_00000 RGB Image')\n",
    "ax.imshow(cube_scene0, aspect=0.5)\n",
    "plt.show()"
   ]
  },
  {
   "cell_type": "code",
   "execution_count": null,
   "metadata": {},
   "outputs": [],
   "source": [
    "cube_standard0 = (cube_reshaped0 - cube_reshaped0.mean(1, keepdims=True)) / cube_reshaped0.std(1, keepdims=True)\n",
    "print(cube_standard0.shape)"
   ]
  },
  {
   "cell_type": "markdown",
   "metadata": {},
   "source": [
    "#### Reading manually classified set for training and testing"
   ]
  },
  {
   "cell_type": "code",
   "execution_count": null,
   "metadata": {},
   "outputs": [],
   "source": [
    "sky_coords0 = read_labelled_coordinates(\"1_sky\", \"000\")\n",
    "clouds_coords0 = read_labelled_coordinates(\"2_clouds\", \"000\")\n",
    "veg_coords0 = read_labelled_coordinates(\"3_vegetation\", \"000\")\n",
    "wtr_coords0 = read_labelled_coordinates(\"4_water\", \"000\")\n",
    "blt_coords0 = read_labelled_coordinates(\"5_buildings\", \"000\")\n",
    "windows_coords0 = read_labelled_coordinates(\"6_windows\", \"000\")\n",
    "rds_coords0 = read_labelled_coordinates(\"7_roads\", \"000\")\n",
    "cars_coords0 = read_labelled_coordinates(\"8_cars\", \"000\")\n",
    "mtl_coords0 = read_labelled_coordinates(\"9_metal\", \"000\")"
   ]
  },
  {
   "cell_type": "code",
   "execution_count": null,
   "metadata": {},
   "outputs": [],
   "source": [
    "# create position array and normalize\n",
    "\n",
    "xy0 = coords(cube_sub0.shape[1], cube_sub0.shape[2])\n",
    "xy0 = xy0/xy0.max()"
   ]
  },
  {
   "cell_type": "markdown",
   "metadata": {},
   "source": [
    "#### split classified pixels into 80% training and 20% testing sets"
   ]
  },
  {
   "cell_type": "code",
   "execution_count": null,
   "metadata": {},
   "outputs": [],
   "source": [
    "trrat = 0.8\n",
    "sky_train_ind0, sky_test_ind0 = split_train_test_indices(sky_coords0, 10, trrat, \"sky\")\n",
    "clouds_train_ind0, clouds_test_ind0 = split_train_test_indices(clouds_coords0, 20, trrat, \"clouds\")\n",
    "veg_train_ind0, veg_test_ind0 = split_train_test_indices(veg_coords0, 30, trrat, \"veg\")\n",
    "#wtr_train_ind0, wtr_test_ind0 = split_train_test_indices(wtr_coords0, 40, trrat, \"wtr\")\n",
    "blt_train_ind0, blt_test_ind0 = split_train_test_indices(blt_coords0, 50, trrat, \"blt\")\n",
    "windows_train_ind0, windows_test_ind0 = split_train_test_indices(windows_coords0, 60, trrat, \"windows\")\n",
    "rds_train_ind0, rds_test_ind0 = split_train_test_indices(rds_coords0, 70, trrat, \"rds\")\n",
    "cars_train_ind0, cars_test_ind0 = split_train_test_indices(cars_coords0, 80, trrat, \"cars\")\n",
    "mtl_train_ind0, mtl_test_ind0 = split_train_test_indices(mtl_coords0, 90, trrat, \"mtl\")"
   ]
  },
  {
   "cell_type": "code",
   "execution_count": null,
   "metadata": {},
   "outputs": [],
   "source": [
    "cube_std0_3d = cube_standard0.reshape(cube_sub0.shape[1], cube_sub0.shape[2], cube_sub0.shape[0])\n",
    "print(cube_std0_3d.shape)\n",
    "print(xy0.shape)"
   ]
  },
  {
   "cell_type": "code",
   "execution_count": null,
   "metadata": {},
   "outputs": [],
   "source": [
    "cube_sky_train0 = cube_std0_3d[sky_coords0[sky_train_ind0[:], 0], sky_coords0[sky_train_ind0[:], 1], :]\n",
    "cube_sky_test0 = cube_std0_3d[sky_coords0[sky_test_ind0[:], 0], sky_coords0[sky_test_ind0[:], 1], :]\n",
    "sky_xy_train0 = xy0[sky_coords0[sky_train_ind0[:], 0], sky_coords0[sky_train_ind0[:], 1], :]\n",
    "sky_xy_test0 = xy0[sky_coords0[sky_test_ind0[:], 0], sky_coords0[sky_test_ind0[:], 1], :]\n",
    "print(\"sky \", cube_sky_train0.shape, cube_sky_test0.shape)\n",
    "\n",
    "cube_clouds_train0 = cube_std0_3d[clouds_coords0[clouds_train_ind0[:], 0], clouds_coords0[clouds_train_ind0[:], 1], :]\n",
    "cube_clouds_test0 = cube_std0_3d[clouds_coords0[clouds_test_ind0[:], 0], clouds_coords0[clouds_test_ind0[:], 1], :]\n",
    "clouds_xy_train0 = xy0[clouds_coords0[clouds_train_ind0[:], 0], clouds_coords0[clouds_train_ind0[:], 1], :]\n",
    "clouds_xy_test0 = xy0[clouds_coords0[clouds_test_ind0[:], 0], clouds_coords0[clouds_test_ind0[:], 1], :]\n",
    "print(\"clouds \", cube_clouds_train0.shape, cube_clouds_test0.shape)\n",
    "\n",
    "cube_veg_train0 = cube_std0_3d[veg_coords0[veg_train_ind0[:], 0], veg_coords0[veg_train_ind0[:], 1], :]\n",
    "cube_veg_test0 = cube_std0_3d[veg_coords0[veg_test_ind0[:], 0], veg_coords0[veg_test_ind0[:], 1], :]\n",
    "veg_xy_train0 = xy0[veg_coords0[veg_train_ind0[:], 0], veg_coords0[veg_train_ind0[:], 1], :]\n",
    "veg_xy_test0 = xy0[veg_coords0[veg_test_ind0[:], 0], veg_coords0[veg_test_ind0[:], 1], :]\n",
    "print(\"vegetation \", cube_veg_train0.shape, cube_veg_test0.shape)\n",
    "\n",
    "#cube_wtr_train0 = cube_std0_3d[wtr_coords0[wtr_train_ind0[:], 0], wtr_coords0[wtr_train_ind0[:], 1], :]\n",
    "#cube_wtr_test0 = cube_std0_3d[wtr_coords0[wtr_test_ind0[:], 0], wtr_coords0[wtr_test_ind0[:], 1], :]\n",
    "#wtr_xy_train0 = xy0[wtr_coords0[wtr_train_ind0[:], 0], wtr_coords0[wtr_train_ind0[:], 1], :]\n",
    "#wtr_xy_test0 = xy0[wtr_coords0[wtr_test_ind0[:], 0], wtr_coords0[wtr_test_ind0[:], 1], :]\n",
    "#print(\"water \", cube_wtr_train0.shape, cube_wtr_test0.shape)\n",
    "\n",
    "cube_blt_train0 = cube_std0_3d[blt_coords0[blt_train_ind0[:], 0], blt_coords0[blt_train_ind0[:], 1], :]\n",
    "cube_blt_test0 = cube_std0_3d[blt_coords0[blt_test_ind0[:], 0], blt_coords0[blt_test_ind0[:], 1], :]\n",
    "blt_xy_train0 = xy0[blt_coords0[blt_train_ind0[:], 0], blt_coords0[blt_train_ind0[:], 1], :]\n",
    "blt_xy_test0 = xy0[blt_coords0[blt_test_ind0[:], 0], blt_coords0[blt_test_ind0[:], 1], :]\n",
    "print(\"built \", cube_blt_train0.shape, cube_blt_test0.shape)\n",
    "\n",
    "cube_windows_train0 = cube_std0_3d[windows_coords0[windows_train_ind0[:],0], windows_coords0[windows_train_ind0[:],1],:]\n",
    "cube_windows_test0 = cube_std0_3d[windows_coords0[windows_test_ind0[:], 0], windows_coords0[windows_test_ind0[:], 1], :]\n",
    "windows_xy_train0 = xy0[windows_coords0[windows_train_ind0[:], 0], windows_coords0[windows_train_ind0[:], 1], :]\n",
    "windows_xy_test0 = xy0[windows_coords0[windows_test_ind0[:], 0], windows_coords0[windows_test_ind0[:], 1], :]\n",
    "print(\"windows \", cube_windows_train0.shape, cube_windows_test0.shape)\n",
    "\n",
    "cube_rds_train0 = cube_std0_3d[rds_coords0[rds_train_ind0[:], 0], rds_coords0[rds_train_ind0[:], 1], :]\n",
    "cube_rds_test0 = cube_std0_3d[rds_coords0[rds_test_ind0[:], 0], rds_coords0[rds_test_ind0[:], 1], :]\n",
    "rds_xy_train0 = xy0[rds_coords0[rds_train_ind0[:], 0], rds_coords0[rds_train_ind0[:], 1], :]\n",
    "rds_xy_test0 = xy0[rds_coords0[rds_test_ind0[:], 0], rds_coords0[rds_test_ind0[:], 1], :]\n",
    "print(\"roads \", cube_rds_train0.shape, cube_rds_test0.shape)\n",
    "\n",
    "cube_cars_train0 = cube_std0_3d[cars_coords0[cars_train_ind0[:], 0], cars_coords0[cars_train_ind0[:], 1], :]\n",
    "cube_cars_test0 = cube_std0_3d[cars_coords0[cars_test_ind0[:], 0], cars_coords0[cars_test_ind0[:], 1], :]\n",
    "cars_xy_train0 = xy0[cars_coords0[cars_train_ind0[:], 0], cars_coords0[cars_train_ind0[:], 1], :]\n",
    "cars_xy_test0 = xy0[cars_coords0[cars_test_ind0[:], 0], cars_coords0[cars_test_ind0[:], 1], :]\n",
    "print(\"cars \", cube_cars_train0.shape, cube_cars_test0.shape)\n",
    "\n",
    "cube_mtl_train0 = cube_std0_3d[mtl_coords0[mtl_train_ind0[:], 0], mtl_coords0[mtl_train_ind0[:], 1], :]\n",
    "cube_mtl_test0 = cube_std0_3d[mtl_coords0[mtl_test_ind0[:], 0], mtl_coords0[mtl_test_ind0[:], 1], :]\n",
    "mtl_xy_train0 = xy0[mtl_coords0[mtl_train_ind0[:], 0], mtl_coords0[mtl_train_ind0[:], 1], :]\n",
    "mtl_xy_test0 = xy0[mtl_coords0[mtl_test_ind0[:], 0], mtl_coords0[mtl_test_ind0[:], 1], :]\n",
    "print(\"metal \", cube_mtl_train0.shape, cube_mtl_test0.shape)"
   ]
  },
  {
   "cell_type": "code",
   "execution_count": null,
   "metadata": {},
   "outputs": [],
   "source": [
    "cube_train0 = np.concatenate((cube_sky_train0, cube_clouds_train0, cube_veg_train0, cube_blt_train0,\n",
    "                             cube_windows_train0, cube_rds_train0, cube_cars_train0, cube_mtl_train0), axis=0)\n",
    "cube_train_labels0 = [0]*cube_sky_train0.shape[0] + [1]*cube_clouds_train0.shape[0] \\\n",
    "                + [2]*cube_veg_train0.shape[0] + [4]*cube_blt_train0.shape[0] \\\n",
    "                + [5]*cube_windows_train0.shape[0] + [6]*cube_rds_train0.shape[0] \\\n",
    "                + [7]*cube_cars_train0.shape[0] + [8]*cube_mtl_train0.shape[0]\n",
    "xy_train0 = np.concatenate((sky_xy_train0, clouds_xy_train0, veg_xy_train0, blt_xy_train0,\n",
    "                             windows_xy_train0, rds_xy_train0, cars_xy_train0, mtl_xy_train0), axis=0)\n",
    "\n",
    "cube_test0 = np.concatenate((cube_sky_test0, cube_clouds_test0, cube_veg_test0, cube_blt_test0,\n",
    "                             cube_windows_test0, cube_rds_test0, cube_cars_test0, cube_mtl_test0), axis=0)\n",
    "cube_test_labels0 = [0]*cube_sky_test0.shape[0] + [1]*cube_clouds_test0.shape[0] \\\n",
    "                + [2]*cube_veg_test0.shape[0] + [4]*cube_blt_test0.shape[0] \\\n",
    "                + [5]*cube_windows_test0.shape[0] + [6]*cube_rds_test0.shape[0] \\\n",
    "                + [7]*cube_cars_test0.shape[0] + [8]*cube_mtl_test0.shape[0]\n",
    "xy_test0 = np.concatenate((sky_xy_test0, clouds_xy_test0, veg_xy_test0, blt_xy_test0,\n",
    "                             windows_xy_test0, rds_xy_test0, cars_xy_test0, mtl_xy_test0), axis=0)"
   ]
  },
  {
   "cell_type": "code",
   "execution_count": null,
   "metadata": {},
   "outputs": [],
   "source": [
    "cube_train_labels0 = np.array(cube_train_labels0)\n",
    "cube_test_labels0 = np.array(cube_test_labels0)\n",
    "\n",
    "print(cube_train0.shape, cube_train_labels0.shape, xy_train0.shape)\n",
    "print(cube_test0.shape, cube_test_labels0.shape, xy_test0.shape)"
   ]
  },
  {
   "cell_type": "markdown",
   "metadata": {},
   "source": [
    "### Train CNN"
   ]
  },
  {
   "cell_type": "code",
   "execution_count": null,
   "metadata": {},
   "outputs": [],
   "source": [
    "cnn0 = CNN_Model(cube_std0_3d.shape[2])\n",
    "cnn0.compile(optimizer=\"adam\", loss=\"sparse_categorical_crossentropy\",\n",
    "             metrics=[\"accuracy\"])"
   ]
  },
  {
   "cell_type": "code",
   "execution_count": null,
   "metadata": {
    "scrolled": false
   },
   "outputs": [],
   "source": [
    "#keras.utils.plot_model(cnn0, show_shapes=True)\n",
    "#cnn0.summary()\n",
    "\n",
    "cube_train02 = cube_train0.reshape(cube_train0.shape[0], cube_train0.shape[1], 1)\n",
    "cube_test02 = cube_test0.reshape(cube_test0.shape[0], cube_test0.shape[1], 1)"
   ]
  },
  {
   "cell_type": "code",
   "execution_count": null,
   "metadata": {
    "scrolled": true
   },
   "outputs": [],
   "source": [
    "CNNmodel0 = cnn0.fit({\"spectra\":cube_train02, \"spatial\":xy_train0}, cube_train_labels0, \n",
    "                     validation_data=({\"spectra\":cube_test02, \"spatial\":xy_test0}, cube_test_labels0),\n",
    "                     epochs=200, batch_size=512)"
   ]
  },
  {
   "cell_type": "code",
   "execution_count": null,
   "metadata": {},
   "outputs": [],
   "source": [
    "plot_loss_history(CNNmodel0)"
   ]
  },
  {
   "cell_type": "code",
   "execution_count": null,
   "metadata": {
    "scrolled": true
   },
   "outputs": [],
   "source": [
    "cnn0 = CNN_Model(cube_std0_3d.shape[2])\n",
    "cnn0.compile(optimizer=\"adam\", loss=\"sparse_categorical_crossentropy\",\n",
    "             metrics=[\"accuracy\"])\n",
    "CNNmodel0 = cnn0.fit({\"spectra\":cube_train02, \"spatial\":xy_train0}, cube_train_labels0, \n",
    "                     validation_data=({\"spectra\":cube_test02, \"spatial\":xy_test0}, cube_test_labels0),\n",
    "                     epochs=100, batch_size=512)"
   ]
  },
  {
   "cell_type": "code",
   "execution_count": null,
   "metadata": {},
   "outputs": [],
   "source": [
    "# model accuracy on training and testing sets\n",
    "\n",
    "train_loss, train_acc = cnn0.evaluate({\"spectra\":cube_train02, \"spatial\":xy_train0}, cube_train_labels0)\n",
    "test_loss, test_acc = cnn0.evaluate({\"spectra\":cube_test02, \"spatial\":xy_test0}, cube_test_labels0)\n",
    "\n",
    "print(train_acc, test_acc)"
   ]
  },
  {
   "cell_type": "markdown",
   "metadata": {},
   "source": [
    "### Predict pixel classification on veg_00000"
   ]
  },
  {
   "cell_type": "code",
   "execution_count": null,
   "metadata": {},
   "outputs": [],
   "source": [
    "cube_standard0_1 = cube_standard0.reshape(cube_standard0.shape[0], cube_standard0.shape[1], 1)\n",
    "print(cube_standard0_1.shape)\n",
    "xy0_2d = xy0.reshape((xy0.shape[0] * xy0.shape[1]), xy0.shape[2])\n",
    "print(xy0_2d.shape)"
   ]
  },
  {
   "cell_type": "code",
   "execution_count": null,
   "metadata": {},
   "outputs": [],
   "source": [
    "# classify entire binned cube\n",
    "import time\n",
    "start_time = time.time()\n",
    "\n",
    "probCube0 = cnn0.predict({\"spectra\":cube_standard0_1, \"spatial\":xy0_2d})\n",
    "\n",
    "elapsed_time = time.time() - start_time\n",
    "print(time.strftime(\"%H:%M:%S\", time.gmtime(elapsed_time)))"
   ]
  },
  {
   "cell_type": "code",
   "execution_count": null,
   "metadata": {},
   "outputs": [],
   "source": [
    "predictCube0 = probCube0.argmax(axis=-1)"
   ]
  },
  {
   "cell_type": "code",
   "execution_count": null,
   "metadata": {},
   "outputs": [],
   "source": [
    "predictCube_reshape0 = predictCube0.reshape(cube_sub0.shape[1], cube_sub0.shape[2])"
   ]
  },
  {
   "cell_type": "code",
   "execution_count": null,
   "metadata": {},
   "outputs": [],
   "source": [
    "import matplotlib.pyplot as plt\n",
    "import matplotlib.colors as ListedColorMap\n",
    "import matplotlib.patches as mpatches\n",
    "from matplotlib.ticker import NullFormatter\n",
    "%matplotlib inline\n",
    "\n",
    "cmap = {0:[0,0.32549,0.62353,1], 1:[0.93333,0.9098,0.77255,1], 2:[0,0.61961,0.45098,1],  3:[0.33725,0.70588,0.91373,1],\n",
    "        4:[0,0,0,1], 5:[1,0.82353,0,1], 6:[0.90196,0.62353,0,1], 7:[0.83529,0.36863,0,1],\n",
    "        8:[0.8,0.47451,0.65490,1]}\n",
    "labels = {0:'sky', 1:'clouds', 2:'vegetation', 3:'water', 4:'built',\n",
    "          5:'windows', 6:'roads', 7:'cars', 8:'metal'}\n",
    "arrayShow = np.array([[cmap[i] for i in j] for j in predictCube_reshape0])\n",
    "patches = [mpatches.Patch(color=cmap[i], label=labels[i]) for i in cmap]\n",
    "\n",
    "fig = plt.figure(figsize=(15,15))\n",
    "ax = fig.add_axes([0.1,0.1,0.9,0.9])\n",
    "ax.tick_params(labelsize=10)\n",
    "ax.imshow(arrayShow, aspect=0.5)\n",
    "lgd = ax.legend(handles=patches, bbox_to_anchor=(1,0.75), loc='upper left', borderaxespad=1.0, prop={'size':10}, ncol=1)\n",
    "plt.show()\n",
    "#fig.savefig(\"./plots/CNN_change_params_spatial_train_all_3_000_predict_map.png\", \n",
    "#bbox_extra_artists=(lgd,), bbox_inches='tight')"
   ]
  },
  {
   "cell_type": "code",
   "execution_count": null,
   "metadata": {},
   "outputs": [],
   "source": [
    "import matplotlib.pyplot as plt\n",
    "import matplotlib.colors as ListedColorMap\n",
    "import matplotlib.patches as mpatches\n",
    "from matplotlib.ticker import NullFormatter\n",
    "%matplotlib inline\n",
    "\n",
    "cmap = {0:[0,0.32549,0.62353,1], 1:[0.93333,0.9098,0.77255,1], 2:[0,0.61961,0.45098,1],  3:[0.33725,0.70588,0.91373,1],\n",
    "        4:[0,0,0,1], 5:[1,0.82353,0,1], 6:[0.90196,0.62353,0,1], 7:[0.83529,0.36863,0,1],\n",
    "        8:[0.8,0.47451,0.65490,1]}\n",
    "labels = {0:'sky', 1:'clouds', 2:'vegetation', 3:'water', 4:'built',\n",
    "          5:'windows', 6:'roads', 7:'cars', 8:'metal'}\n",
    "arrayShow = np.array([[cmap[i] for i in j] for j in predictCube_reshape0])\n",
    "patches = [mpatches.Patch(color=cmap[i], label=labels[i]) for i in cmap]\n",
    "\n",
    "fig = plt.figure(figsize=(15,15))\n",
    "#ax = fig.add_axes([0.1,0.1,0.9,0.9])\n",
    "#ax.tick_params(labelsize=10)\n",
    "plt.imshow(arrayShow, aspect=0.5)\n",
    "#lgd = ax.legend(handles=patches, bbox_to_anchor=(1,0.75), loc='upper left', borderaxespad=1.0, prop={'size':10}, ncol=1)\n",
    "plt.axis('off')\n",
    "plt.show()\n",
    "fig.savefig(\"./plots/CNN_Model2_spatial_train_000_test_000_predict_map.png\", bbox_inches='tight', dpi=300)"
   ]
  },
  {
   "cell_type": "code",
   "execution_count": null,
   "metadata": {},
   "outputs": [],
   "source": [
    "import pickle\n",
    "pickle.dump(predictCube_reshape0, open(\"./plots/CNN_Model2_spatial_train_000_test_000_predict_map.pickle\", \"wb\"))"
   ]
  },
  {
   "cell_type": "code",
   "execution_count": null,
   "metadata": {},
   "outputs": [],
   "source": [
    "wtr_coords0=np.array([[0,0]])"
   ]
  },
  {
   "cell_type": "markdown",
   "metadata": {},
   "source": [
    "### Evaluation Metrics (veg_00000)"
   ]
  },
  {
   "cell_type": "code",
   "execution_count": null,
   "metadata": {},
   "outputs": [],
   "source": [
    "labels0_pred_sky = predictCube_reshape0[sky_coords0[sky_test_ind0[:], 0], sky_coords0[sky_test_ind0[:], 1]]\n",
    "labels0_pred_clouds = predictCube_reshape0[clouds_coords0[clouds_test_ind0[:], 0], clouds_coords0[clouds_test_ind0[:],1]]\n",
    "labels0_pred_veg = predictCube_reshape0[veg_coords0[veg_test_ind0[:],0], veg_coords0[veg_test_ind0[:],1]]\n",
    "#labels0_pred_wtr = predictCube_reshape0[wtr_coords0[wtr_test_ind0[:],0], wtr_coords0[wtr_test_ind0[:],1]]\n",
    "labels0_pred_blt = predictCube_reshape0[blt_coords0[blt_test_ind0[:],0], blt_coords0[blt_test_ind0[:],1]]\n",
    "labels0_pred_windows = predictCube_reshape0[windows_coords0[windows_test_ind0[:],0], windows_coords0[windows_test_ind0[:],1]]\n",
    "labels0_pred_rds = predictCube_reshape0[rds_coords0[rds_test_ind0[:],0], rds_coords0[rds_test_ind0[:],1]]\n",
    "labels0_pred_cars = predictCube_reshape0[cars_coords0[cars_test_ind0[:],0], cars_coords0[cars_test_ind0[:],1]]\n",
    "labels0_pred_mtl = predictCube_reshape0[mtl_coords0[mtl_test_ind0[:],0], mtl_coords0[mtl_test_ind0[:],1]]\n",
    "\n",
    "labels0_pred = np.concatenate((labels0_pred_sky, labels0_pred_clouds, labels0_pred_veg, #labels0_pred_wtr, \n",
    "                             labels0_pred_blt, labels0_pred_windows, labels0_pred_rds, \n",
    "                               labels0_pred_cars, labels0_pred_mtl))"
   ]
  },
  {
   "cell_type": "code",
   "execution_count": null,
   "metadata": {},
   "outputs": [],
   "source": [
    "labels0_true_sky = np.full(len(sky_test_ind0), 0)\n",
    "labels0_true_clouds = np.full(len(clouds_test_ind0), 1)\n",
    "labels0_true_veg = np.full(len(veg_test_ind0), 2)\n",
    "#labels0_true_wtr = np.full(len(wtr_test_ind0), 3)\n",
    "labels0_true_blt = np.full(len(blt_test_ind0), 4)\n",
    "labels0_true_windows = np.full(len(windows_test_ind0), 5)\n",
    "labels0_true_rds = np.full(len(rds_test_ind0), 6)\n",
    "labels0_true_cars = np.full(len(cars_test_ind0), 7)\n",
    "labels0_true_mtl = np.full(len(mtl_test_ind0), 8)\n",
    "\n",
    "labels0_true = np.concatenate((labels0_true_sky, labels0_true_clouds, labels0_true_veg, #labels0_true_wtr, \n",
    "                             labels0_true_blt, labels0_true_windows, labels0_true_rds, labels0_true_cars, labels0_true_mtl))"
   ]
  },
  {
   "cell_type": "code",
   "execution_count": null,
   "metadata": {},
   "outputs": [],
   "source": [
    "print(labels0_pred.shape)\n",
    "print(labels0_true.shape)"
   ]
  },
  {
   "cell_type": "code",
   "execution_count": null,
   "metadata": {},
   "outputs": [],
   "source": [
    "from sklearn import metrics\n",
    "\n",
    "print(\"Confusion Matrix\")\n",
    "print(metrics.confusion_matrix(labels0_true, labels0_pred))\n",
    "\n",
    "print(\"\")\n",
    "print(\"Accuracy Score\")\n",
    "print(metrics.accuracy_score(labels0_true, labels0_pred))\n",
    "\n",
    "target_names = ['sky', 'clouds', 'vegetation', 'built', 'windows', 'roads', 'cars', 'metal']\n",
    "print(\"\")\n",
    "print(\"Classification Report\")\n",
    "print(metrics.classification_report(labels0_true, labels0_pred, target_names=target_names))"
   ]
  },
  {
   "cell_type": "code",
   "execution_count": null,
   "metadata": {},
   "outputs": [],
   "source": [
    "f = open(\"./metrics/CNN_Model2_spatial_train_000_test_000_metrics.txt\", \"w\")\n",
    "f.write(\"Confusion Matrix\")\n",
    "f.write('\\n')\n",
    "f.write(str(metrics.confusion_matrix(labels0_true, labels0_pred)))\n",
    "f.write('\\n')\n",
    "f.write('\\n')\n",
    "f.write(\"Accuracy Score\")\n",
    "f.write('\\n')\n",
    "f.write(str(metrics.accuracy_score(labels0_true, labels0_pred)))\n",
    "target_names = ['sky', 'clouds', 'vegetation', 'built', 'windows', 'roads', 'cars', 'metal']\n",
    "f.write('\\n')\n",
    "f.write('\\n')\n",
    "f.write(\"Classification Report\")\n",
    "f.write('\\n')\n",
    "f.write(metrics.classification_report(labels0_true, labels0_pred, target_names=target_names))\n",
    "f.close()"
   ]
  },
  {
   "cell_type": "markdown",
   "metadata": {},
   "source": [
    "---\n",
    "## CNN trained on North Facing Image"
   ]
  },
  {
   "cell_type": "code",
   "execution_count": null,
   "metadata": {},
   "outputs": [],
   "source": [
    "fname_north = \"../../image_files/scan1_slow_roof_VNIR.raw\"\n",
    "cube_north = read_hyper(fname_north)"
   ]
  },
  {
   "cell_type": "code",
   "execution_count": null,
   "metadata": {},
   "outputs": [],
   "source": [
    "cube_sub_north = cube_north.data[:, :, :].astype(float)\n",
    "print(cube_sub_north.shape)"
   ]
  },
  {
   "cell_type": "code",
   "execution_count": null,
   "metadata": {},
   "outputs": [],
   "source": [
    "cube_reshaped_north = cube_sub_north.transpose(1, 2, 0).reshape((cube_sub_north.shape[1] * cube_sub_north.shape[2]), cube_sub_north.shape[0])\n",
    "print(cube_reshaped_north.shape)"
   ]
  },
  {
   "cell_type": "code",
   "execution_count": null,
   "metadata": {},
   "outputs": [],
   "source": [
    "cube_norm_north = (cube_reshaped_north - cube_reshaped_north.min()) / (cube_reshaped_north.max() - cube_reshaped_north.min())\n",
    "\n",
    "import matplotlib.pyplot as plt\n",
    "%matplotlib inline\n",
    "\n",
    "red_ind_n = (np.abs(cube_north.waves - 650.0)).argmin()\n",
    "green_ind_n = (np.abs(cube_north.waves - 550.0)).argmin()\n",
    "blue_ind_n = (np.abs(cube_north.waves - 450.0)).argmin()\n",
    "\n",
    "cube_reshaped_north2 = cube_norm_north.reshape(cube_sub_north.shape[1], cube_sub_north.shape[2], cube_sub_north.shape[0])\n",
    "cube_scene_north = cube_reshaped_north2[:, :, [red_ind_n, green_ind_n, blue_ind_n]]\n",
    "fig, ax = plt.subplots(figsize=(10,10))\n",
    "plt.title('North Facing RGB Image')\n",
    "ax.imshow(cube_scene_north, aspect=0.4)\n",
    "plt.show()"
   ]
  },
  {
   "cell_type": "code",
   "execution_count": null,
   "metadata": {},
   "outputs": [],
   "source": [
    "cube_standard_north = (cube_reshaped_north - cube_reshaped_north.mean(1, keepdims=True)) / cube_reshaped_north.std(1, keepdims=True)\n",
    "print(cube_standard_north.shape)"
   ]
  },
  {
   "cell_type": "markdown",
   "metadata": {},
   "source": [
    "#### Reading manually classified set for training and testing"
   ]
  },
  {
   "cell_type": "code",
   "execution_count": null,
   "metadata": {},
   "outputs": [],
   "source": [
    "sky_coordsn = read_labelled_coordinates(\"1_sky\", \"north\")\n",
    "clouds_coordsn = read_labelled_coordinates(\"2_clouds\", \"north\")\n",
    "veg_coordsn = read_labelled_coordinates(\"3_vegetation\", \"north\")\n",
    "wtr_coordsn = read_labelled_coordinates(\"4_water\", \"north\")\n",
    "blt_coordsn = read_labelled_coordinates(\"5_buildings\", \"north\")\n",
    "windows_coordsn = read_labelled_coordinates(\"6_windows\", \"north\")\n",
    "rds_coordsn = read_labelled_coordinates(\"7_roads\", \"north\")\n",
    "cars_coordsn = read_labelled_coordinates(\"8_cars\", \"north\")\n",
    "mtl_coordsn = read_labelled_coordinates(\"9_metal\", \"north\")"
   ]
  },
  {
   "cell_type": "code",
   "execution_count": null,
   "metadata": {},
   "outputs": [],
   "source": [
    "xyn = coords(cube_sub_north.shape[1], cube_sub_north.shape[2])\n",
    "xyn = xyn/xyn.max()"
   ]
  },
  {
   "cell_type": "markdown",
   "metadata": {},
   "source": [
    "#### split classified pixels into 80% training and 20% testing sets"
   ]
  },
  {
   "cell_type": "code",
   "execution_count": null,
   "metadata": {},
   "outputs": [],
   "source": [
    "trrat = 0.8\n",
    "sky_train_indn, sky_test_indn = split_train_test_indices(sky_coordsn, 100, trrat, \"sky\")\n",
    "clouds_train_indn, clouds_test_indn = split_train_test_indices(clouds_coordsn, 200, trrat, \"clouds\")\n",
    "veg_train_indn, veg_test_indn = split_train_test_indices(veg_coordsn, 300, trrat, \"veg\")\n",
    "wtr_train_indn, wtr_test_indn = split_train_test_indices(wtr_coordsn, 400, trrat, \"wtr\")\n",
    "blt_train_indn, blt_test_indn = split_train_test_indices(blt_coordsn, 500, trrat, \"blt\")\n",
    "windows_train_indn, windows_test_indn = split_train_test_indices(windows_coordsn, 600, trrat, \"windows\")\n",
    "rds_train_indn, rds_test_indn = split_train_test_indices(rds_coordsn, 700, trrat, \"rds\")\n",
    "cars_train_indn, cars_test_indn = split_train_test_indices(cars_coordsn, 800, trrat, \"cars\")\n",
    "mtl_train_indn, mtl_test_indn = split_train_test_indices(mtl_coordsn, 900, trrat, \"mtl\")"
   ]
  },
  {
   "cell_type": "code",
   "execution_count": null,
   "metadata": {},
   "outputs": [],
   "source": [
    "cube_stdn_3d = cube_standard_north.reshape(cube_sub_north.shape[1], cube_sub_north.shape[2], cube_sub_north.shape[0])\n",
    "print(cube_stdn_3d.shape)\n",
    "print(xyn.shape)"
   ]
  },
  {
   "cell_type": "code",
   "execution_count": null,
   "metadata": {},
   "outputs": [],
   "source": [
    "cube_sky_trainn = cube_stdn_3d[sky_coordsn[sky_train_indn[:], 0], sky_coordsn[sky_train_indn[:], 1], :]\n",
    "cube_sky_testn = cube_stdn_3d[sky_coordsn[sky_test_indn[:], 0], sky_coordsn[sky_test_indn[:], 1], :]\n",
    "sky_xy_trainn = xyn[sky_coordsn[sky_train_indn[:], 0], sky_coordsn[sky_train_indn[:], 1], :]\n",
    "sky_xy_testn = xyn[sky_coordsn[sky_test_indn[:], 0], sky_coordsn[sky_test_indn[:], 1], :]\n",
    "print(\"sky \", cube_sky_trainn.shape, cube_sky_testn.shape)\n",
    "\n",
    "cube_clouds_trainn = cube_stdn_3d[clouds_coordsn[clouds_train_indn[:], 0], clouds_coordsn[clouds_train_indn[:], 1], :]\n",
    "cube_clouds_testn = cube_stdn_3d[clouds_coordsn[clouds_test_indn[:], 0], clouds_coordsn[clouds_test_indn[:], 1], :]\n",
    "clouds_xy_trainn = xyn[clouds_coordsn[clouds_train_indn[:], 0], clouds_coordsn[clouds_train_indn[:], 1], :]\n",
    "clouds_xy_testn = xyn[clouds_coordsn[clouds_test_indn[:], 0], clouds_coordsn[clouds_test_indn[:], 1], :]\n",
    "print(\"clouds \", cube_clouds_trainn.shape, cube_clouds_testn.shape)\n",
    "\n",
    "cube_veg_trainn = cube_stdn_3d[veg_coordsn[veg_train_indn[:], 0], veg_coordsn[veg_train_indn[:], 1], :]\n",
    "cube_veg_testn = cube_stdn_3d[veg_coordsn[veg_test_indn[:], 0], veg_coordsn[veg_test_indn[:], 1], :]\n",
    "veg_xy_trainn = xyn[veg_coordsn[veg_train_indn[:], 0], veg_coordsn[veg_train_indn[:], 1], :]\n",
    "veg_xy_testn = xyn[veg_coordsn[veg_test_indn[:], 0], veg_coordsn[veg_test_indn[:], 1], :]\n",
    "print(\"vegetation \", cube_veg_trainn.shape, cube_veg_testn.shape)\n",
    "\n",
    "cube_wtr_trainn = cube_stdn_3d[wtr_coordsn[wtr_train_indn[:], 0], wtr_coordsn[wtr_train_indn[:], 1], :]\n",
    "cube_wtr_testn = cube_stdn_3d[wtr_coordsn[wtr_test_indn[:], 0], wtr_coordsn[wtr_test_indn[:], 1], :]\n",
    "wtr_xy_trainn = xyn[wtr_coordsn[wtr_train_indn[:], 0], wtr_coordsn[wtr_train_indn[:], 1], :]\n",
    "wtr_xy_testn = xyn[wtr_coordsn[wtr_test_indn[:], 0], wtr_coordsn[wtr_test_indn[:], 1], :]\n",
    "print(\"water \", cube_wtr_trainn.shape, cube_wtr_testn.shape)\n",
    "\n",
    "cube_blt_trainn = cube_stdn_3d[blt_coordsn[blt_train_indn[:], 0], blt_coordsn[blt_train_indn[:], 1], :]\n",
    "cube_blt_testn = cube_stdn_3d[blt_coordsn[blt_test_indn[:], 0], blt_coordsn[blt_test_indn[:], 1], :]\n",
    "blt_xy_trainn = xyn[blt_coordsn[blt_train_indn[:], 0], blt_coordsn[blt_train_indn[:], 1], :]\n",
    "blt_xy_testn = xyn[blt_coordsn[blt_test_indn[:], 0], blt_coordsn[blt_test_indn[:], 1], :]\n",
    "print(\"built \", cube_blt_trainn.shape, cube_blt_testn.shape)\n",
    "\n",
    "cube_windows_trainn = cube_stdn_3d[windows_coordsn[windows_train_indn[:],0], windows_coordsn[windows_train_indn[:],1],:]\n",
    "cube_windows_testn = cube_stdn_3d[windows_coordsn[windows_test_indn[:], 0], windows_coordsn[windows_test_indn[:], 1], :]\n",
    "windows_xy_trainn = xyn[windows_coordsn[windows_train_indn[:], 0], windows_coordsn[windows_train_indn[:], 1], :]\n",
    "windows_xy_testn = xyn[windows_coordsn[windows_test_indn[:], 0], windows_coordsn[windows_test_indn[:], 1], :]\n",
    "print(\"windows \", cube_windows_trainn.shape, cube_windows_testn.shape)\n",
    "\n",
    "cube_rds_trainn = cube_stdn_3d[rds_coordsn[rds_train_indn[:], 0], rds_coordsn[rds_train_indn[:], 1], :]\n",
    "cube_rds_testn = cube_stdn_3d[rds_coordsn[rds_test_indn[:], 0], rds_coordsn[rds_test_indn[:], 1], :]\n",
    "rds_xy_trainn = xyn[rds_coordsn[rds_train_indn[:], 0], rds_coordsn[rds_train_indn[:], 1], :]\n",
    "rds_xy_testn = xyn[rds_coordsn[rds_test_indn[:], 0], rds_coordsn[rds_test_indn[:], 1], :]\n",
    "print(\"roads \", cube_rds_trainn.shape, cube_rds_testn.shape)\n",
    "\n",
    "cube_cars_trainn = cube_stdn_3d[cars_coordsn[cars_train_indn[:], 0], cars_coordsn[cars_train_indn[:], 1], :]\n",
    "cube_cars_testn = cube_stdn_3d[cars_coordsn[cars_test_indn[:], 0], cars_coordsn[cars_test_indn[:], 1], :]\n",
    "cars_xy_trainn = xyn[cars_coordsn[cars_train_indn[:], 0], cars_coordsn[cars_train_indn[:], 1], :]\n",
    "cars_xy_testn = xyn[cars_coordsn[cars_test_indn[:], 0], cars_coordsn[cars_test_indn[:], 1], :]\n",
    "print(\"cars \", cube_cars_trainn.shape, cube_cars_testn.shape)\n",
    "\n",
    "cube_mtl_trainn = cube_stdn_3d[mtl_coordsn[mtl_train_indn[:], 0], mtl_coordsn[mtl_train_indn[:], 1], :]\n",
    "cube_mtl_testn = cube_stdn_3d[mtl_coordsn[mtl_test_indn[:], 0], mtl_coordsn[mtl_test_indn[:], 1], :]\n",
    "mtl_xy_trainn = xyn[mtl_coordsn[mtl_train_indn[:], 0], mtl_coordsn[mtl_train_indn[:], 1], :]\n",
    "mtl_xy_testn = xyn[mtl_coordsn[mtl_test_indn[:], 0], mtl_coordsn[mtl_test_indn[:], 1], :]\n",
    "print(\"metal \", cube_mtl_trainn.shape, cube_mtl_testn.shape)"
   ]
  },
  {
   "cell_type": "code",
   "execution_count": null,
   "metadata": {},
   "outputs": [],
   "source": [
    "# concatenate training and testing sets and create index arrays\n",
    "\n",
    "cube_trainn = np.concatenate((cube_sky_trainn, cube_clouds_trainn, cube_veg_trainn, cube_wtr_trainn, cube_blt_trainn, \n",
    "                            cube_windows_trainn, cube_rds_trainn, cube_cars_trainn, cube_mtl_trainn), axis=0)\n",
    "cube_train_labelsn = [0]*cube_sky_trainn.shape[0] + [1]*cube_clouds_trainn.shape[0] \\\n",
    "                    + [2]*cube_veg_trainn.shape[0] + [3]*cube_wtr_trainn.shape[0] + [4]*cube_blt_trainn.shape[0] \\\n",
    "                    + [5]*cube_windows_trainn.shape[0] + [6]*cube_rds_trainn.shape[0] \\\n",
    "                    + [7]*cube_cars_trainn.shape[0] + [8]*cube_mtl_trainn.shape[0]\n",
    "xy_trainn = np.concatenate((sky_xy_trainn, clouds_xy_trainn, veg_xy_trainn, wtr_xy_trainn, blt_xy_trainn,\n",
    "                             windows_xy_trainn, rds_xy_trainn, cars_xy_trainn, mtl_xy_trainn), axis=0)\n",
    "\n",
    "cube_testn = np.concatenate((cube_sky_testn, cube_clouds_testn, cube_veg_testn, cube_wtr_testn, cube_blt_testn, \n",
    "                            cube_windows_testn, cube_rds_testn, cube_cars_testn, cube_mtl_testn), axis=0)\n",
    "cube_test_labelsn = [0]*cube_sky_testn.shape[0] + [1]*cube_clouds_testn.shape[0] \\\n",
    "                    + [2]*cube_veg_testn.shape[0] + [3]*cube_wtr_testn.shape[0] + [4]*cube_blt_testn.shape[0] \\\n",
    "                    + [5]*cube_windows_testn.shape[0] + [6]*cube_rds_testn.shape[0] \\\n",
    "                    + [7]*cube_cars_testn.shape[0] + [8]*cube_mtl_testn.shape[0]\n",
    "xy_testn = np.concatenate((sky_xy_testn, clouds_xy_testn, veg_xy_testn, wtr_xy_testn, blt_xy_testn, \n",
    "                             windows_xy_testn, rds_xy_testn, cars_xy_testn, mtl_xy_testn), axis=0)"
   ]
  },
  {
   "cell_type": "code",
   "execution_count": null,
   "metadata": {},
   "outputs": [],
   "source": [
    "cube_train_labelsn = np.array(cube_train_labelsn)\n",
    "cube_test_labelsn = np.array(cube_test_labelsn)\n",
    "\n",
    "print(cube_trainn.shape, cube_train_labelsn.shape, xy_trainn.shape)\n",
    "print(cube_testn.shape, cube_test_labelsn.shape, xy_testn.shape)"
   ]
  },
  {
   "cell_type": "markdown",
   "metadata": {},
   "source": [
    "#### Train CNN"
   ]
  },
  {
   "cell_type": "code",
   "execution_count": null,
   "metadata": {},
   "outputs": [],
   "source": [
    "cnnn = CNN_Model(cube_stdn_3d.shape[2])\n",
    "cnnn.compile(optimizer=\"adam\", loss=\"sparse_categorical_crossentropy\",\n",
    "             metrics=[\"accuracy\"])"
   ]
  },
  {
   "cell_type": "code",
   "execution_count": null,
   "metadata": {},
   "outputs": [],
   "source": [
    "#keras.utils.plot_model(cnnn, show_shapes=True)\n",
    "#cnnn.summary()\n",
    "\n",
    "cube_trainn2 = cube_trainn.reshape(cube_trainn.shape[0], cube_trainn.shape[1], 1)\n",
    "cube_testn2 = cube_testn.reshape(cube_testn.shape[0], cube_testn.shape[1], 1)"
   ]
  },
  {
   "cell_type": "code",
   "execution_count": null,
   "metadata": {
    "scrolled": true
   },
   "outputs": [],
   "source": [
    "CNNmodeln = cnnn.fit({\"spectra\":cube_trainn2, \"spatial\":xy_trainn}, cube_train_labelsn, \n",
    "                     validation_data=({\"spectra\":cube_testn2, \"spatial\":xy_testn}, cube_test_labelsn),\n",
    "                     epochs=200, batch_size=512)"
   ]
  },
  {
   "cell_type": "code",
   "execution_count": null,
   "metadata": {},
   "outputs": [],
   "source": [
    "plot_loss_history(CNNmodeln)"
   ]
  },
  {
   "cell_type": "code",
   "execution_count": null,
   "metadata": {
    "scrolled": true
   },
   "outputs": [],
   "source": [
    "cnnn = CNN_Model(cube_stdn_3d.shape[2])\n",
    "cnnn.compile(optimizer=\"adam\", loss=\"sparse_categorical_crossentropy\",\n",
    "             metrics=[\"accuracy\"])\n",
    "CNNmodeln = cnnn.fit({\"spectra\":cube_trainn2, \"spatial\":xy_trainn}, cube_train_labelsn, \n",
    "                     validation_data=({\"spectra\":cube_testn2, \"spatial\":xy_testn}, cube_test_labelsn),\n",
    "                     epochs=70, batch_size=512)"
   ]
  },
  {
   "cell_type": "code",
   "execution_count": null,
   "metadata": {},
   "outputs": [],
   "source": [
    "# model accuracy on training and testing sets\n",
    "\n",
    "train_loss, train_acc = cnnn.evaluate({\"spectra\":cube_trainn2, \"spatial\":xy_trainn}, cube_train_labelsn)\n",
    "test_loss, test_acc = cnnn.evaluate({\"spectra\":cube_testn2, \"spatial\":xy_testn}, cube_test_labelsn)\n",
    "\n",
    "print(train_acc, test_acc)"
   ]
  },
  {
   "cell_type": "markdown",
   "metadata": {},
   "source": [
    "### Predict pixel classification on north facing image"
   ]
  },
  {
   "cell_type": "code",
   "execution_count": null,
   "metadata": {},
   "outputs": [],
   "source": [
    "cube_standardn_1 = cube_standard_north.reshape(cube_standard_north.shape[0], cube_standard_north.shape[1], 1)\n",
    "print(cube_standardn_1.shape)\n",
    "xyn_2d = xyn.reshape((xyn.shape[0] * xyn.shape[1]), xyn.shape[2])\n",
    "print(xyn_2d.shape)"
   ]
  },
  {
   "cell_type": "code",
   "execution_count": null,
   "metadata": {},
   "outputs": [],
   "source": [
    "# classify entire binned cube\n",
    "import time\n",
    "start_time = time.time()\n",
    "\n",
    "probCuben = cnnn.predict({\"spectra\":cube_standardn_1, \"spatial\":xyn_2d})\n",
    "\n",
    "elapsed_time = time.time() - start_time\n",
    "print(time.strftime(\"%H:%M:%S\", time.gmtime(elapsed_time)))"
   ]
  },
  {
   "cell_type": "code",
   "execution_count": null,
   "metadata": {},
   "outputs": [],
   "source": [
    "predictCuben = probCuben.argmax(axis=-1)"
   ]
  },
  {
   "cell_type": "code",
   "execution_count": null,
   "metadata": {},
   "outputs": [],
   "source": [
    "predictCube_reshapen = predictCuben.reshape(cube_sub_north.shape[1], cube_sub_north.shape[2])"
   ]
  },
  {
   "cell_type": "code",
   "execution_count": null,
   "metadata": {},
   "outputs": [],
   "source": [
    "import matplotlib.pyplot as plt\n",
    "import matplotlib.colors as ListedColorMap\n",
    "import matplotlib.patches as mpatches\n",
    "from matplotlib.ticker import NullFormatter\n",
    "%matplotlib inline\n",
    "\n",
    "cmap = {0:[0,0.32549,0.62353,1], 1:[0.93333,0.9098,0.77255,1], 2:[0,0.61961,0.45098,1],  3:[0.33725,0.70588,0.91373,1],\n",
    "        4:[0,0,0,1], 5:[1,0.82353,0,1], 6:[0.90196,0.62353,0,1], 7:[0.83529,0.36863,0,1],\n",
    "        8:[0.8,0.47451,0.65490,1]}\n",
    "labels = {0:'sky', 1:'clouds', 2:'vegetation', 3:'water', 4:'built',\n",
    "          5:'windows', 6:'roads', 7:'cars', 8:'metal'}\n",
    "arrayShow = np.array([[cmap[i] for i in j] for j in predictCube_reshapen])\n",
    "patches = [mpatches.Patch(color=cmap[i], label=labels[i]) for i in cmap]\n",
    "\n",
    "fig = plt.figure(figsize=(15,15))\n",
    "ax = fig.add_axes([0.1,0.1,0.9,0.9])\n",
    "ax.tick_params(labelsize=10)\n",
    "ax.imshow(arrayShow, aspect=0.4)\n",
    "lgd = ax.legend(handles=patches, bbox_to_anchor=(1,0.75), loc='upper left', borderaxespad=1.0, prop={'size':10}, ncol=1)\n",
    "plt.show()\n",
    "#fig.savefig(\"./plots/CNN_change_params_spatial_train_all_5_north_predict_map.png\", bbox_extra_artists=(lgd,), bbox_inches='tight')"
   ]
  },
  {
   "cell_type": "code",
   "execution_count": null,
   "metadata": {},
   "outputs": [],
   "source": [
    "import matplotlib.pyplot as plt\n",
    "import matplotlib.colors as ListedColorMap\n",
    "import matplotlib.patches as mpatches\n",
    "from matplotlib.ticker import NullFormatter\n",
    "%matplotlib inline\n",
    "\n",
    "cmap = {0:[0,0.32549,0.62353,1], 1:[0.93333,0.9098,0.77255,1], 2:[0,0.61961,0.45098,1],  3:[0.33725,0.70588,0.91373,1],\n",
    "        4:[0,0,0,1], 5:[1,0.82353,0,1], 6:[0.90196,0.62353,0,1], 7:[0.83529,0.36863,0,1],\n",
    "        8:[0.8,0.47451,0.65490,1]}\n",
    "labels = {0:'sky', 1:'clouds', 2:'vegetation', 3:'water', 4:'built',\n",
    "          5:'windows', 6:'roads', 7:'cars', 8:'metal'}\n",
    "arrayShow = np.array([[cmap[i] for i in j] for j in predictCube_reshapen])\n",
    "patches = [mpatches.Patch(color=cmap[i], label=labels[i]) for i in cmap]\n",
    "\n",
    "fig = plt.figure(figsize=(15,15))\n",
    "#ax = fig.add_axes([0.1,0.1,0.9,0.9])\n",
    "#ax.tick_params(labelsize=10)\n",
    "plt.imshow(arrayShow, aspect=0.4)\n",
    "#lgd = ax.legend(handles=patches, bbox_to_anchor=(1,0.75), loc='upper left', borderaxespad=1.0, prop={'size':10}, ncol=1)\n",
    "plt.axis('off')\n",
    "plt.show()\n",
    "fig.savefig(\"./plots/CNN_Model2_spatial_train_north_test_north_predict_map.png\", bbox_inches='tight', dpi=300)"
   ]
  },
  {
   "cell_type": "code",
   "execution_count": null,
   "metadata": {},
   "outputs": [],
   "source": [
    "import pickle\n",
    "pickle.dump(predictCube_reshapen, open(\"./plots/CNN_Model2_spatial_train_north_test_north_predict_map.pickle\", \"wb\"))"
   ]
  },
  {
   "cell_type": "markdown",
   "metadata": {},
   "source": [
    "### Evaluation Metrics (north facing)"
   ]
  },
  {
   "cell_type": "code",
   "execution_count": null,
   "metadata": {},
   "outputs": [],
   "source": [
    "labelsn_pred_sky = predictCube_reshapen[sky_coordsn[sky_test_indn[:], 0], sky_coordsn[sky_test_indn[:], 1]]\n",
    "labelsn_pred_clouds = predictCube_reshapen[clouds_coordsn[clouds_test_indn[:], 0], clouds_coordsn[clouds_test_indn[:],1]]\n",
    "labelsn_pred_veg = predictCube_reshapen[veg_coordsn[veg_test_indn[:],0], veg_coordsn[veg_test_indn[:],1]]\n",
    "labelsn_pred_wtr = predictCube_reshapen[wtr_coordsn[wtr_test_indn[:],0], wtr_coordsn[wtr_test_indn[:],1]]\n",
    "labelsn_pred_blt = predictCube_reshapen[blt_coordsn[blt_test_indn[:],0], blt_coordsn[blt_test_indn[:],1]]\n",
    "labelsn_pred_windows = predictCube_reshapen[windows_coordsn[windows_test_indn[:],0], windows_coordsn[windows_test_indn[:],1]]\n",
    "labelsn_pred_rds = predictCube_reshapen[rds_coordsn[rds_test_indn[:],0], rds_coordsn[rds_test_indn[:],1]]\n",
    "labelsn_pred_cars = predictCube_reshapen[cars_coordsn[cars_test_indn[:],0], cars_coordsn[cars_test_indn[:],1]]\n",
    "labelsn_pred_mtl = predictCube_reshapen[mtl_coordsn[mtl_test_indn[:],0], mtl_coordsn[mtl_test_indn[:],1]]\n",
    "\n",
    "labelsn_pred = np.concatenate((labelsn_pred_sky, labelsn_pred_clouds, labelsn_pred_veg, labelsn_pred_wtr, \n",
    "                             labelsn_pred_blt, labelsn_pred_windows, labelsn_pred_rds, labelsn_pred_cars, labelsn_pred_mtl))"
   ]
  },
  {
   "cell_type": "code",
   "execution_count": null,
   "metadata": {},
   "outputs": [],
   "source": [
    "labelsn_true_sky = np.full(len(sky_test_indn), 0)\n",
    "labelsn_true_clouds = np.full(len(clouds_test_indn), 1)\n",
    "labelsn_true_veg = np.full(len(veg_test_indn), 2)\n",
    "labelsn_true_wtr = np.full(len(wtr_test_indn), 3)\n",
    "labelsn_true_blt = np.full(len(blt_test_indn), 4)\n",
    "labelsn_true_windows = np.full(len(windows_test_indn), 5)\n",
    "labelsn_true_rds = np.full(len(rds_test_indn), 6)\n",
    "labelsn_true_cars = np.full(len(cars_test_indn), 7)\n",
    "labelsn_true_mtl = np.full(len(mtl_test_indn), 8)\n",
    "\n",
    "labelsn_true = np.concatenate((labelsn_true_sky, labelsn_true_clouds, labelsn_true_veg, labelsn_true_wtr, \n",
    "                             labelsn_true_blt, labelsn_true_windows, labelsn_true_rds, labelsn_true_cars, labelsn_true_mtl))"
   ]
  },
  {
   "cell_type": "code",
   "execution_count": null,
   "metadata": {},
   "outputs": [],
   "source": [
    "print(labelsn_pred.shape)\n",
    "print(labelsn_true.shape)"
   ]
  },
  {
   "cell_type": "code",
   "execution_count": null,
   "metadata": {},
   "outputs": [],
   "source": [
    "from sklearn import metrics\n",
    "\n",
    "print(\"Confusion Matrix\")\n",
    "print(metrics.confusion_matrix(labelsn_true, labelsn_pred))\n",
    "\n",
    "print(\"\")\n",
    "print(\"Accuracy Score\")\n",
    "print(metrics.accuracy_score(labelsn_true, labelsn_pred))\n",
    "\n",
    "target_names = ['sky', 'clouds', 'vegetation', 'water', 'built', 'windows', 'roads', 'cars', 'metal']\n",
    "print(\"\")\n",
    "print(\"Classification Report\")\n",
    "print(metrics.classification_report(labelsn_true, labelsn_pred, target_names=target_names))"
   ]
  },
  {
   "cell_type": "code",
   "execution_count": null,
   "metadata": {},
   "outputs": [],
   "source": [
    "f = open(\"./metrics/CNN_Model2_spatial_train_north_test_north_metrics.txt\", \"w\")\n",
    "f.write(\"Confusion Matrix\")\n",
    "f.write('\\n')\n",
    "f.write(str(metrics.confusion_matrix(labelsn_true, labelsn_pred)))\n",
    "f.write('\\n')\n",
    "f.write('\\n')\n",
    "f.write(\"Accuracy Score\")\n",
    "f.write('\\n')\n",
    "f.write(str(metrics.accuracy_score(labelsn_true, labelsn_pred)))\n",
    "target_names = ['sky', 'clouds', 'vegetation', 'water', 'built', 'windows', 'roads', 'cars', 'metal']\n",
    "f.write('\\n')\n",
    "f.write('\\n')\n",
    "f.write(\"Classification Report\")\n",
    "f.write('\\n')\n",
    "f.write(metrics.classification_report(labelsn_true, labelsn_pred, target_names=target_names))\n",
    "f.close()"
   ]
  },
  {
   "cell_type": "code",
   "execution_count": null,
   "metadata": {},
   "outputs": [],
   "source": []
  },
  {
   "cell_type": "markdown",
   "metadata": {},
   "source": [
    "### CNN Features"
   ]
  },
  {
   "cell_type": "code",
   "execution_count": null,
   "metadata": {},
   "outputs": [],
   "source": [
    "cnn.summary()"
   ]
  },
  {
   "cell_type": "code",
   "execution_count": null,
   "metadata": {},
   "outputs": [],
   "source": [
    "# save filter shapes of convolutional layers to files\n",
    "filterfiles = ['./CNN_features/CNN_Model2_1a_Conv1D_1_filters.npy',\n",
    "               './CNN_features/CNN_Model2_1a_Conv1D_2_filters.npy']\n",
    "biasfiles = ['./CNN_features/CNN_Model2_1a_Conv1D_1_biases.npy',\n",
    "             './CNN_features/CNN_Model2_1a_Conv1D_2_biases.npy']\n",
    "\n",
    "i = 0\n",
    "for layer in cnn.layers:\n",
    "    if 'conv' in layer.name:\n",
    "        filters, biases = layer.get_weights()\n",
    "        print(layer.name, filters.shape, biases.shape)\n",
    "        np.save(filterfiles[i], filters)\n",
    "        np.save(biasfiles[i], biases)\n",
    "        i += 1"
   ]
  },
  {
   "cell_type": "code",
   "execution_count": null,
   "metadata": {},
   "outputs": [],
   "source": [
    "print(biases)"
   ]
  },
  {
   "cell_type": "code",
   "execution_count": null,
   "metadata": {},
   "outputs": [],
   "source": [
    "plt.plot(cube_std_3d[1100,800,:])"
   ]
  },
  {
   "cell_type": "code",
   "execution_count": null,
   "metadata": {},
   "outputs": [],
   "source": [
    "# write vegetation spectrum example to file\n",
    "np.save('./CNN_features/1a_vegetation_spectrum_example.npy', cube_std_3d[1100,800,:])"
   ]
  },
  {
   "cell_type": "code",
   "execution_count": null,
   "metadata": {},
   "outputs": [],
   "source": [
    "output1 = [cnn.layers[1].output]\n",
    "submodel1 = keras.Model(inputs=cnn.inputs, outputs=output1)"
   ]
  },
  {
   "cell_type": "code",
   "execution_count": null,
   "metadata": {},
   "outputs": [],
   "source": [
    "x1 = 1100\n",
    "y1 = 800\n",
    "specinput = cube_std_3d[x1,y1,:].reshape(1, cube_std_3d[x1,y1,:].shape[0], 1)\n",
    "xyinput = np.array([[1100/1600, 800/1600]])\n",
    "featuremap1 = submodel1.predict({\"spectra\":specinput, \"spatial\":xyinput})\n",
    "print(featuremap1.shape)\n",
    "np.save('./CNN_features/CNN_Model2_1a_Conv1D_1_veg_output.npy', featuremap1)"
   ]
  },
  {
   "cell_type": "code",
   "execution_count": null,
   "metadata": {},
   "outputs": [],
   "source": [
    "output2 = [cnn.layers[3].output]\n",
    "submodel2 = keras.Model(inputs=cnn.inputs, outputs=output2)"
   ]
  },
  {
   "cell_type": "code",
   "execution_count": null,
   "metadata": {},
   "outputs": [],
   "source": [
    "x1 = 1100\n",
    "y1 = 800\n",
    "specinput = cube_std_3d[x1,y1,:].reshape(1, cube_std_3d[x1,y1,:].shape[0], 1)\n",
    "xyinput = np.array([[1100/1600, 800/1600]])\n",
    "featuremap2 = submodel2.predict({\"spectra\":specinput, \"spatial\":xyinput})\n",
    "print(featuremap2.shape)\n",
    "np.save('./CNN_features/CNN_Model2_1a_Conv1D_2_veg_output.npy', featuremap2)"
   ]
  },
  {
   "cell_type": "code",
   "execution_count": null,
   "metadata": {},
   "outputs": [],
   "source": [
    "plt.plot(cube_std_3d[1200,1400,:])"
   ]
  },
  {
   "cell_type": "code",
   "execution_count": null,
   "metadata": {},
   "outputs": [],
   "source": [
    "# write building spectrum example to file\n",
    "np.save('./CNN_features/1a_building_spectrum_example.npy', cube_std_3d[1200,1400,:])"
   ]
  },
  {
   "cell_type": "code",
   "execution_count": null,
   "metadata": {},
   "outputs": [],
   "source": [
    "output1 = [cnn.layers[1].output]\n",
    "submodel1 = keras.Model(inputs=cnn.inputs, outputs=output1)"
   ]
  },
  {
   "cell_type": "code",
   "execution_count": null,
   "metadata": {},
   "outputs": [],
   "source": [
    "x1 = 1200\n",
    "y1 = 1400\n",
    "specinput = cube_std_3d[x1,y1,:].reshape(1, cube_std_3d[x1,y1,:].shape[0], 1)\n",
    "xyinput = np.array([[x1/1600, y1/1600]])\n",
    "featuremap1 = submodel1.predict({\"spectra\":specinput, \"spatial\":xyinput})\n",
    "print(featuremap1.shape)\n",
    "np.save('./CNN_features/CNN_Model2_1a_Conv1D_1_bld_output.npy', featuremap1)"
   ]
  },
  {
   "cell_type": "code",
   "execution_count": null,
   "metadata": {},
   "outputs": [],
   "source": [
    "output2 = [cnn.layers[3].output]\n",
    "submodel2 = keras.Model(inputs=cnn.inputs, outputs=output2)"
   ]
  },
  {
   "cell_type": "code",
   "execution_count": null,
   "metadata": {},
   "outputs": [],
   "source": [
    "specinput = cube_std_3d[x1,y1,:].reshape(1, cube_std_3d[x1,y1,:].shape[0], 1)\n",
    "xyinput = np.array([[x1/1600, y1/1600]])\n",
    "featuremap2 = submodel2.predict({\"spectra\":specinput, \"spatial\":xyinput})\n",
    "print(featuremap2.shape)\n",
    "np.save('./CNN_features/CNN_Model2_1a_Conv1D_2_bld_output.npy', featuremap2)"
   ]
  },
  {
   "cell_type": "code",
   "execution_count": null,
   "metadata": {},
   "outputs": [],
   "source": [
    "plt.plot(cube_std_3d[353,1266,:])"
   ]
  },
  {
   "cell_type": "code",
   "execution_count": null,
   "metadata": {},
   "outputs": [],
   "source": [
    "np.save('./CNN_features/1a_sky_spectrum_example.npy', cube_std_3d[353,1266,:])"
   ]
  },
  {
   "cell_type": "code",
   "execution_count": null,
   "metadata": {},
   "outputs": [],
   "source": [
    "x1 = 353\n",
    "y1 = 1266\n",
    "specinput = cube_std_3d[x1,y1,:].reshape(1, cube_std_3d[x1,y1,:].shape[0], 1)\n",
    "xyinput = np.array([[x1/1600, y1/1600]])\n",
    "featuremap1 = submodel1.predict({\"spectra\":specinput, \"spatial\":xyinput})\n",
    "print(featuremap1.shape)\n",
    "np.save('./CNN_features/CNN_Model2_1a_Conv1D_1_sky_output.npy', featuremap1)"
   ]
  },
  {
   "cell_type": "code",
   "execution_count": null,
   "metadata": {},
   "outputs": [],
   "source": [
    "specinput = cube_std_3d[x1,y1,:].reshape(1, cube_std_3d[x1,y1,:].shape[0], 1)\n",
    "xyinput = np.array([[x1/1600, y1/1600]])\n",
    "featuremap2 = submodel2.predict({\"spectra\":specinput, \"spatial\":xyinput})\n",
    "print(featuremap2.shape)\n",
    "np.save('./CNN_features/CNN_Model2_1a_Conv1D_2_sky_output.npy', featuremap2)"
   ]
  },
  {
   "cell_type": "code",
   "execution_count": null,
   "metadata": {},
   "outputs": [],
   "source": [
    "plt.plot(cube_std_3d[230,1172,:])"
   ]
  },
  {
   "cell_type": "code",
   "execution_count": null,
   "metadata": {},
   "outputs": [],
   "source": [
    "np.save('./CNN_features/1a_cloud_spectrum_example.npy', cube_std_3d[230,1172,:])"
   ]
  },
  {
   "cell_type": "code",
   "execution_count": null,
   "metadata": {},
   "outputs": [],
   "source": [
    "x1 = 230\n",
    "y1 = 1172\n",
    "specinput = cube_std_3d[x1,y1,:].reshape(1, cube_std_3d[x1,y1,:].shape[0], 1)\n",
    "xyinput = np.array([[x1/1600, y1/1600]])\n",
    "featuremap1 = submodel1.predict({\"spectra\":specinput, \"spatial\":xyinput})\n",
    "print(featuremap1.shape)\n",
    "np.save('./CNN_features/CNN_Model2_1a_Conv1D_1_cloud_output.npy', featuremap1)\n",
    "\n",
    "specinput = cube_std_3d[x1,y1,:].reshape(1, cube_std_3d[x1,y1,:].shape[0], 1)\n",
    "xyinput = np.array([[x1/1600, y1/1600]])\n",
    "featuremap2 = submodel2.predict({\"spectra\":specinput, \"spatial\":xyinput})\n",
    "print(featuremap2.shape)\n",
    "np.save('./CNN_features/CNN_Model2_1a_Conv1D_2_cloud_output.npy', featuremap2)"
   ]
  },
  {
   "cell_type": "code",
   "execution_count": null,
   "metadata": {},
   "outputs": [],
   "source": [
    "plt.plot(cube_std_3d[837,1453,:])"
   ]
  },
  {
   "cell_type": "code",
   "execution_count": null,
   "metadata": {},
   "outputs": [],
   "source": [
    "np.save('./CNN_features/1a_water_spectrum_example.npy', cube_std_3d[837,1453,:])"
   ]
  },
  {
   "cell_type": "code",
   "execution_count": null,
   "metadata": {},
   "outputs": [],
   "source": [
    "x1 = 837\n",
    "y1 = 1453\n",
    "specinput = cube_std_3d[x1,y1,:].reshape(1, cube_std_3d[x1,y1,:].shape[0], 1)\n",
    "xyinput = np.array([[x1/1600, y1/1600]])\n",
    "featuremap1 = submodel1.predict({\"spectra\":specinput, \"spatial\":xyinput})\n",
    "print(featuremap1.shape)\n",
    "np.save('./CNN_features/CNN_Model2_1a_Conv1D_1_water_output.npy', featuremap1)\n",
    "\n",
    "specinput = cube_std_3d[x1,y1,:].reshape(1, cube_std_3d[x1,y1,:].shape[0], 1)\n",
    "xyinput = np.array([[x1/1600, y1/1600]])\n",
    "featuremap2 = submodel2.predict({\"spectra\":specinput, \"spatial\":xyinput})\n",
    "print(featuremap2.shape)\n",
    "np.save('./CNN_features/CNN_Model2_1a_Conv1D_2_water_output.npy', featuremap2)"
   ]
  },
  {
   "cell_type": "code",
   "execution_count": null,
   "metadata": {},
   "outputs": [],
   "source": [
    "plt.plot(cube_std_3d[1271,1203,:])"
   ]
  },
  {
   "cell_type": "code",
   "execution_count": null,
   "metadata": {},
   "outputs": [],
   "source": [
    "np.save('./CNN_features/1a_window_spectrum_example.npy', cube_std_3d[1271,1203,:])"
   ]
  },
  {
   "cell_type": "code",
   "execution_count": null,
   "metadata": {},
   "outputs": [],
   "source": [
    "x1 = 1271\n",
    "y1 = 1203\n",
    "specinput = cube_std_3d[x1,y1,:].reshape(1, cube_std_3d[x1,y1,:].shape[0], 1)\n",
    "xyinput = np.array([[x1/1600, y1/1600]])\n",
    "featuremap1 = submodel1.predict({\"spectra\":specinput, \"spatial\":xyinput})\n",
    "print(featuremap1.shape)\n",
    "np.save('./CNN_features/CNN_Model2_1a_Conv1D_1_window_output.npy', featuremap1)\n",
    "\n",
    "specinput = cube_std_3d[x1,y1,:].reshape(1, cube_std_3d[x1,y1,:].shape[0], 1)\n",
    "xyinput = np.array([[x1/1600, y1/1600]])\n",
    "featuremap2 = submodel2.predict({\"spectra\":specinput, \"spatial\":xyinput})\n",
    "print(featuremap2.shape)\n",
    "np.save('./CNN_features/CNN_Model2_1a_Conv1D_2_window_output.npy', featuremap2)"
   ]
  },
  {
   "cell_type": "code",
   "execution_count": null,
   "metadata": {},
   "outputs": [],
   "source": [
    "plt.plot(cube_std_3d[1522,1288,:])"
   ]
  },
  {
   "cell_type": "code",
   "execution_count": null,
   "metadata": {},
   "outputs": [],
   "source": [
    "np.save('./CNN_features/1a_road_spectrum_example.npy', cube_std_3d[1522,1288,:])"
   ]
  },
  {
   "cell_type": "code",
   "execution_count": null,
   "metadata": {},
   "outputs": [],
   "source": [
    "x1 = 1522\n",
    "y1 = 1288\n",
    "specinput = cube_std_3d[x1,y1,:].reshape(1, cube_std_3d[x1,y1,:].shape[0], 1)\n",
    "xyinput = np.array([[x1/1600, y1/1600]])\n",
    "featuremap1 = submodel1.predict({\"spectra\":specinput, \"spatial\":xyinput})\n",
    "print(featuremap1.shape)\n",
    "np.save('./CNN_features/CNN_Model2_1a_Conv1D_1_road_output.npy', featuremap1)\n",
    "\n",
    "specinput = cube_std_3d[x1,y1,:].reshape(1, cube_std_3d[x1,y1,:].shape[0], 1)\n",
    "xyinput = np.array([[x1/1600, y1/1600]])\n",
    "featuremap2 = submodel2.predict({\"spectra\":specinput, \"spatial\":xyinput})\n",
    "print(featuremap2.shape)\n",
    "np.save('./CNN_features/CNN_Model2_1a_Conv1D_2_road_output.npy', featuremap2)"
   ]
  },
  {
   "cell_type": "code",
   "execution_count": null,
   "metadata": {},
   "outputs": [],
   "source": [
    "plt.plot(cube_std_3d[1591,1250,:])"
   ]
  },
  {
   "cell_type": "code",
   "execution_count": null,
   "metadata": {},
   "outputs": [],
   "source": [
    "np.save('./CNN_features/1a_car_spectrum_example.npy', cube_std_3d[1591,1250,:])"
   ]
  },
  {
   "cell_type": "code",
   "execution_count": null,
   "metadata": {},
   "outputs": [],
   "source": [
    "x1 = 1591\n",
    "y1 = 1250\n",
    "specinput = cube_std_3d[x1,y1,:].reshape(1, cube_std_3d[x1,y1,:].shape[0], 1)\n",
    "xyinput = np.array([[x1/1600, y1/1600]])\n",
    "featuremap1 = submodel1.predict({\"spectra\":specinput, \"spatial\":xyinput})\n",
    "print(featuremap1.shape)\n",
    "np.save('./CNN_features/CNN_Model2_1a_Conv1D_1_car_output.npy', featuremap1)\n",
    "\n",
    "specinput = cube_std_3d[x1,y1,:].reshape(1, cube_std_3d[x1,y1,:].shape[0], 1)\n",
    "xyinput = np.array([[x1/1600, y1/1600]])\n",
    "featuremap2 = submodel2.predict({\"spectra\":specinput, \"spatial\":xyinput})\n",
    "print(featuremap2.shape)\n",
    "np.save('./CNN_features/CNN_Model2_1a_Conv1D_2_car_output.npy', featuremap2)"
   ]
  },
  {
   "cell_type": "code",
   "execution_count": null,
   "metadata": {},
   "outputs": [],
   "source": [
    "plt.plot(cube_std_3d[1322,710,:])"
   ]
  },
  {
   "cell_type": "code",
   "execution_count": null,
   "metadata": {},
   "outputs": [],
   "source": [
    "np.save('./CNN_features/1a_metal_spectrum_example.npy', cube_std_3d[1322,710,:])"
   ]
  },
  {
   "cell_type": "code",
   "execution_count": null,
   "metadata": {},
   "outputs": [],
   "source": [
    "x1 = 1322\n",
    "y1 = 710\n",
    "specinput = cube_std_3d[x1,y1,:].reshape(1, cube_std_3d[x1,y1,:].shape[0], 1)\n",
    "xyinput = np.array([[x1/1600, y1/1600]])\n",
    "featuremap1 = submodel1.predict({\"spectra\":specinput, \"spatial\":xyinput})\n",
    "print(featuremap1.shape)\n",
    "np.save('./CNN_features/CNN_Model2_1a_Conv1D_1_metal_output.npy', featuremap1)\n",
    "\n",
    "specinput = cube_std_3d[x1,y1,:].reshape(1, cube_std_3d[x1,y1,:].shape[0], 1)\n",
    "xyinput = np.array([[x1/1600, y1/1600]])\n",
    "featuremap2 = submodel2.predict({\"spectra\":specinput, \"spatial\":xyinput})\n",
    "print(featuremap2.shape)\n",
    "np.save('./CNN_features/CNN_Model2_1a_Conv1D_2_metal_output.npy', featuremap2)"
   ]
  },
  {
   "cell_type": "code",
   "execution_count": null,
   "metadata": {},
   "outputs": [],
   "source": []
  },
  {
   "cell_type": "code",
   "execution_count": null,
   "metadata": {},
   "outputs": [],
   "source": []
  },
  {
   "cell_type": "code",
   "execution_count": null,
   "metadata": {},
   "outputs": [],
   "source": [
    "# plot mean spectra for testing set separately\n",
    "\n",
    "import matplotlib.pyplot as plt\n",
    "import matplotlib\n",
    "from matplotlib.patches import Patch\n",
    "from matplotlib.lines import Line2D\n",
    "%matplotlib inline\n",
    "\n",
    "plt.style.use('ggplot')\n",
    "plt.rcParams['font.family'] = 'DejaVu Sans'\n",
    "plt.rcParams['font.size'] = 15\n",
    "plt.rcParams['axes.labelsize'] = 15\n",
    "plt.rcParams['axes.labelweight'] = 'normal'\n",
    "plt.rcParams['xtick.labelsize'] = 15\n",
    "plt.rcParams['ytick.labelsize'] = 15\n",
    "plt.rcParams['legend.fontsize'] = 15\n",
    "plt.rcParams['figure.titlesize'] = 15\n",
    "plt.rcParams['text.color'] = 'black'\n",
    "plt.rcParams['axes.labelcolor'] = 'black'\n",
    "plt.rcParams['xtick.color'] = 'black'\n",
    "plt.rcParams['ytick.color'] = 'black'\n",
    "\n",
    "f, ((ax1, ax2, ax3), (ax4, ax5, ax6), (ax7, ax8, ax9)) = plt.subplots(3, 3, figsize=(14, 10))\n",
    "ax1.plot(cube.waves, cube_standard[np.where(predictCube == 0)].T, color=[0,0,0,1], lw=0.001)\n",
    "ax1.plot(cube.waves, cube_sky_train.mean(0), color=[1,0.82353,0,1], lw=3, ls='dashed')\n",
    "ax1.plot(cube.waves, cube_sky_test.mean(0), color=[0.33725,0.70588,0.91373,1], lw=1)\n",
    "ax1.text(900, 2, 'sky')\n",
    "ax1.set_ylabel('amplitude')\n",
    "ax1.set_ylim(-2, 3)\n",
    "\n",
    "ax2.plot(cube.waves, cube_standard[np.where(predictCube == 1)].T, color=[0,0,0,1], lw=0.001)\n",
    "ax2.plot(cube.waves, cube_clouds_train.mean(0), color=[1,0.82353,0,1], lw=3, ls='dashed')\n",
    "ax2.plot(cube.waves, cube_clouds_test.mean(0), color=[0.33725,0.70588,0.91373,1], lw=1)\n",
    "ax2.text(850, 2, 'clouds')\n",
    "ax2.set_ylim(-2, 3)\n",
    "\n",
    "ax3.plot(cube.waves, cube_standard[np.where(predictCube == 2)].T, color=[0,0,0,1], lw=0.001)\n",
    "ax3.plot(cube.waves, cube_veg_train.mean(0), color=[1,0.82353,0,1], lw=3, ls='dashed')\n",
    "ax3.plot(cube.waves, cube_veg_test.mean(0), color=[0.33725,0.70588,0.91373,1], lw=1)\n",
    "ax3.text(800, 2, 'vegetation')\n",
    "ax3.set_ylim(-2, 3)\n",
    "\n",
    "ax4.plot(cube.waves, cube_standard[np.where(predictCube == 3)].T, color=[0,0,0,1], lw=0.001)\n",
    "ax4.plot(cube.waves, cube_wtr_train.mean(0), color=[1,0.82353,0,1], lw=3, ls='dashed')\n",
    "ax4.plot(cube.waves, cube_wtr_test.mean(0), color=[0.33725,0.70588,0.91373,1], lw=1)\n",
    "ax4.text(850, 2, 'water')\n",
    "ax4.set_ylabel('amplitude')\n",
    "ax4.set_ylim(-2, 3)\n",
    "\n",
    "ax5.plot(cube.waves, cube_standard[np.where(predictCube == 4)].T, color=[0,0,0,1], lw=0.001)\n",
    "ax5.plot(cube.waves, cube_blt_train.mean(0), color=[1,0.82353,0,1], lw=3, ls='dashed')\n",
    "ax5.plot(cube.waves, cube_blt_test.mean(0), color=[0.33725,0.70588,0.91373,1], lw=1)\n",
    "ax5.text(870, 2, 'built')\n",
    "ax5.set_ylim(-2, 3)\n",
    "\n",
    "ax6.plot(cube.waves, cube_standard[np.where(predictCube == 5)].T, color=[0,0,0,1], lw=0.001)\n",
    "ax6.plot(cube.waves, cube_windows_train.mean(0), color=[1,0.82353,0,1], lw=3, ls='dashed')\n",
    "ax6.plot(cube.waves, cube_windows_test.mean(0), color=[0.33725,0.70588,0.91373,1], lw=1)\n",
    "ax6.text(800, 2, 'windows')\n",
    "ax6.set_ylim(-2, 3)\n",
    "\n",
    "ax7.plot(cube.waves, cube_standard[np.where(predictCube == 6)].T, color=[0,0,0,1], lw=0.1)\n",
    "ax7.plot(cube.waves, cube_rds_train.mean(0), color=[1,0.82353,0,1], lw=3, ls='dashed')\n",
    "ax7.plot(cube.waves, cube_rds_test.mean(0), color=[0.33725,0.70588,0.91373,1], lw=1)\n",
    "ax7.text(850, 2, 'roads')\n",
    "ax7.set_xlabel('wavelength (nm)')\n",
    "ax7.set_ylabel('amplitude')\n",
    "ax7.set_ylim(-2, 3)\n",
    "\n",
    "ax8.plot(cube.waves, cube_standard[np.where(predictCube == 7)].T, color=[0,0,0,1], lw=0.001)\n",
    "ax8.plot(cube.waves, cube_cars_train.mean(0), color=[1,0.82353,0,1], lw=3, ls='dashed')\n",
    "ax8.plot(cube.waves, cube_cars_test.mean(0), color=[0.33725,0.70588,0.91373,1], lw=1)\n",
    "ax8.set_xlabel('wavelength (nm)')\n",
    "ax8.text(900, 2, 'cars')\n",
    "ax8.set_ylim(-2, 3)\n",
    "\n",
    "ax9.plot(cube.waves, cube_standard[np.where(predictCube == 8)].T, color=[0,0,0,1], lw=0.001)\n",
    "ax9.plot(cube.waves, cube_mtl_train.mean(0), color=[1,0.82353,0,1], lw=3, ls='dashed')\n",
    "ax9.plot(cube.waves, cube_mtl_test.mean(0), color=[0.33725,0.70588,0.91373,1], lw=1)\n",
    "ax9.set_xlabel('wavelength (nm)')\n",
    "ax9.text(850, 2, 'metal')\n",
    "ax9.set_ylim(-2, 3)\n",
    "\n",
    "legend_elements = [Line2D([0], [0], color=[1,0.82353,0,1], lw=3, ls='dashed', label='mean training set'),\n",
    "                  Line2D([0], [0], color=[0.33725,0.70588,0.91373,1], lw=2, label='mean testing set'),\n",
    "                  Line2D([0], [0], color=[0,0,0,1], lw=1, label='labelled by model')]\n",
    "ax6.legend(handles=legend_elements, loc='center right', borderaxespad=-13, facecolor='white'\n",
    "           ,edgecolor='black', framealpha=1)\n",
    "plt.show()\n",
    "#f.savefig(\"./plots/CNN_change_params_spatial_train_108_7_108_spectra_train_test_predict_3x3.png\", bbox_inches='tight',\n",
    "#         dpi=300)"
   ]
  },
  {
   "cell_type": "code",
   "execution_count": null,
   "metadata": {},
   "outputs": [],
   "source": [
    "f.savefig(\"./plots/CNN_Model2_spatial_train_108_test_108_spectra_train_test_predict_3x3.png\", \n",
    "          bbox_inches='tight', dpi=300)"
   ]
  },
  {
   "cell_type": "code",
   "execution_count": null,
   "metadata": {},
   "outputs": [],
   "source": []
  }
 ],
 "metadata": {
  "kernelspec": {
   "display_name": "Python 3",
   "language": "python",
   "name": "python3"
  },
  "language_info": {
   "codemirror_mode": {
    "name": "ipython",
    "version": 3
   },
   "file_extension": ".py",
   "mimetype": "text/x-python",
   "name": "python",
   "nbconvert_exporter": "python",
   "pygments_lexer": "ipython3",
   "version": "3.6.8"
  }
 },
 "nbformat": 4,
 "nbformat_minor": 2
}
