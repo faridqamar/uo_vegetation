{
 "cells": [
  {
   "cell_type": "code",
   "execution_count": 1,
   "metadata": {},
   "outputs": [],
   "source": [
    "import numpy as np"
   ]
  },
  {
   "cell_type": "code",
   "execution_count": 12,
   "metadata": {},
   "outputs": [],
   "source": [
    "# -- smarts defaults \n",
    "epsiln=1e-3\n",
    "epsilm=1e-6\n",
    "pinb=3.14159265\n",
    "pi2=pinb/2.\n",
    "pix4=pinb*4.\n",
    "RPD=pinb/180.\n",
    "# Fundamental physical constants (CODATA, 1998)\n",
    "#       h=6.62606876(52)E-34 J*s (Planck constant)\n",
    "#       c=2.99792458E+08 m*s-1 (speed of light)\n",
    "#       Avogad= Avogadro number=6.02214199(47)E+23 mol-1\n",
    "#       NLosch=Loschmidt number=Avogad/Vm (m-3)\n",
    "#       Vm=22.413996(39)E-03 m3*mol-1\n",
    "#       NLosch converted here to cm-3\n",
    "#       evolt=energy of a photon (J)\n",
    "#       PHOT=1/(h*c)  [J-1*m-1]\n",
    "PHOT=5.03411762D+24\n",
    "evolt=1.602176463D-19\n",
    "Avogad=6.02214199D+23\n",
    "NLosch=2.6867775D+19\n",
    "\n",
    "EOF = 0"
   ]
  },
  {
   "cell_type": "code",
   "execution_count": 2,
   "metadata": {},
   "outputs": [],
   "source": [
    "# -- my parameters\n",
    "ISPR   = 2\n",
    "iAtmos = 1\n",
    "Atmos  = 'USSA' ## IREF = 1\n",
    "IH2O   = 0\n",
    "IALT   = 0\n",
    "IO3    = 1\n",
    "IGAS   = 0\n",
    "iLoad  = 0"
   ]
  },
  {
   "cell_type": "code",
   "execution_count": 19,
   "metadata": {},
   "outputs": [],
   "source": [
    "Latit  = 40.69442\n",
    "Altit  = 0.011458\n",
    "Height = 0.122\n",
    "Zalt   = Altit + Height\n",
    "alati  = abs(Latit)\n",
    "PCOR   = 1.\n",
    "PHI2   = Latit * Latit\n",
    "PCOR1  = .993 + 2.0783E-04 * alati - 1.1589E-06 * PHI2\n",
    "PCOR2  = 8.855E-03 - 1.5236E-04 * alati - 9.2907E-07 * PHI2\n",
    "PCOR   = PCOR1 + Zalt * PCOR2\n",
    "SPR    = 1013.25 * PCOR * np.exp(.00177 - .11963 * Zalt - .00136 * Zalt * Zalt)\n",
    "pp0    = SPR / 1013.25\n",
    "qp     = 1. - pp0"
   ]
  },
  {
   "cell_type": "code",
   "execution_count": 24,
   "metadata": {},
   "outputs": [],
   "source": [
    "## AVERAGE STRATOSPHERIC TEMPERATURE AND REFERENCE ATMOSPHERIC CONDITIONS\n",
    "\n",
    "# IF iAtmos = 1 :\n",
    "    # Call RefAtm(Zalt,Pref,TK,TempA,O3ref,RH,Wref,TO3ini,Iref)\n",
    "    # i.e.: Call RefAtm(0.133458,Pref,TK,TempA,O3ref,RH,Wref,TO3ini,1)\n",
    "    # SPR = PREF (because ISPR = 2)\n",
    "    # TAIR=TK-273.15\n",
    "    # TKair=TK\n",
    "    # Tavg=TK\n",
    "    # TT0=Tk/273.15\n",
    "    # Season='SUMMER'\n",
    "    # Call Ozon2(Zalt,Ozmin,Ozmax)\n",
    "\n",
    "\n",
    "# IF iAtmos = 0 : (TAIR, TDAY, RH, SEASON inputted by user)\n",
    "    # Atmos='USER'\n",
    "    # IREF=11\n",
    "    # wref=1.4164\n",
    "    # TKair = TAIR+273.15\n",
    "    # TK=TKair\n",
    "    # Tavg=TDAY+273.15\n",
    "    # TK=Tavg\n",
    "    # TT0=Tk/273.15\n",
    "    #\n",
    "    # -- Estimate ozone temperature at sea level\n",
    "    # TO3ini=230.87\n",
    "    # \n",
    "    # -- Converts Temperature at given altitude to ozone temperature\n",
    "    # Call Ozon(Zalt,TK,Tempa,Tmin,Tmax,Ozmin,Ozmax)\n",
    "Seasn2 = 'SPRING/SUMMER'\n",
    "w      = wref\n",
    "w      = myW\n",
    "\n",
    "TEMPO  = TEMPA # from Ozon function\n",
    "TEMPN  = TEMPA\n"
   ]
  },
  {
   "cell_type": "code",
   "execution_count": null,
   "metadata": {},
   "outputs": [],
   "source": [
    "Thick = 1.\n",
    "\n",
    "# Do below if IO3 = 1\n",
    "    # IF iAtmos = 0: Call RefAtm(Zalt,dum1,dum2,dum3,O3ref,dum5,dum6,dum7,1)\n",
    "    # AbO3 = O3REF # from RefAtm function\n",
    "    # UOC  = AbO3\n",
    "\n",
    "# IF IO3 = 0\n",
    "    # IALT = 0\n",
    "    # AbO3 = myAbO3  [UNITS ??]\n",
    "\n",
    "UOC = AbO3 * Thick\n",
    "ApO3 = 0."
   ]
  },
  {
   "cell_type": "code",
   "execution_count": null,
   "metadata": {},
   "outputs": [],
   "source": [
    "Load = 'STANDARD'\n",
    "\n",
    "Load = 'USER-DEFINED'\n",
    "ApCH2O = -.003\n",
    "ApCH4  = 0.\n",
    "ApCO   = -.1\n",
    "ApHNO2 = -.00099\n",
    "ApHNO3 = 0.\n",
    "ApNO   = 0.\n",
    "ApNO2  = 0.\n",
    "ApNO3  = -.00049\n",
    "ApO3   = -.007\n",
    "ApSO2  = 0.\n",
    "\n",
    "ApCH2O = myApCH2O\n",
    "ApCH4  = myApCH4\n",
    "ApCO   = myApCO\n",
    "ApHNO2 = myApHNO2\n",
    "ApHNO3 = myApHNO3\n",
    "ApNO   = myApNO\n",
    "ApNO2  = myApNO2\n",
    "ApNO3  = myApNO3\n",
    "ApO3   = myApO3\n",
    "ApSO2  = myApSO2 "
   ]
  },
  {
   "cell_type": "code",
   "execution_count": null,
   "metadata": {},
   "outputs": [],
   "source": [
    "# -- Conversion from ppmv to atm-cm\n",
    "ApCH2O = ApCH2O * .1\n",
    "ApCH4  = ApCH4 * .1\n",
    "ApCO   = ApCO * .1\n",
    "ApHNO2 = ApHNO2 * .1\n",
    "##      ApHNO3=.012*.1   FQ: this should not be hardcoded\n",
    "ApHNO3 = ApHNO3 * .1\n",
    "ApNO   = ApNO * .1\n",
    "ApNO2  = ApNO2 * .1\n",
    "ApNO3  = ApNO3 * .1\n",
    "ApO3   = ApO3 * .1\n",
    "ApSO2  = ApSO2 * .1"
   ]
  },
  {
   "cell_type": "code",
   "execution_count": null,
   "metadata": {},
   "outputs": [],
   "source": [
    "qCO2 = myqCO2\n",
    "\n",
    "Ispctr = 0\n",
    "UNIT=systime\n",
    "FILE='Solar/Spctrm_0.dat'"
   ]
  },
  {
   "cell_type": "code",
   "execution_count": null,
   "metadata": {},
   "outputs": [],
   "source": [
    "AEROS = 'S&F_URBAN'\n",
    "IAER  = 2\n",
    "\n",
    "## -- Angstrom's alpha =f(RH) for Shettle & Fenn aerosols\n",
    "XRH  = COS(0.9 * RH * RPD)\n",
    "xrh2 = XRH * XRH\n",
    "xrh3 = xrh2 * XRH\n",
    "ALPHA1 = (C1(IAER)+C2(IAER)*XRH+C3(IAER)*XRH2+c4(IAER)*xrh3)/(1.+C5(IAER)*XRH+c6(iaer)*xrh2)\n",
    "ALPHA2 = (D1(IAER)+D2(IAER)*XRH+D3(IAER)*XRH2+d4(iaer)*xrh3)/(1.+D5(IAER)*XRH+d6(iaer)*xrh2)\n",
    "RHC    = np.max(50.,RH)\n",
    "RHC2   = RHC * RHC\n",
    "# COEFFICIENTS FOR OMEGL (SINGLE SCATTERING ALBEDO) L929-935\n",
    "# COEFFICIENTS FOR GG (ASYMMETRY FACTOR) L939-943"
   ]
  },
  {
   "cell_type": "code",
   "execution_count": null,
   "metadata": {},
   "outputs": [],
   "source": [
    "ITURB  = 0 # read TAU5\n",
    "TAU5   = myTAU5\n",
    "tau550 = TAU5 / (1.1**alpha2)\n",
    "beta   = Tau5 * (.5**alpha2)\n",
    "# tau550 must be < 5.0\n",
    "\n",
    "# - FUNCTION RANGE=F(BETA,ALPHA) FROM NEW FIT \n",
    "RANGE = 999.\n",
    "Visi  = 764.9\n",
    "# if tau5 >= 0.001: \n",
    "    # Call VISTAU(Season,Range,Tau550,0)\n",
    "    # VISI=RANGE/1.306\n",
    "ALPHA = (ALPHA1 + ALPHA2) / 2.\n"
   ]
  },
  {
   "cell_type": "code",
   "execution_count": null,
   "metadata": {},
   "outputs": [],
   "source": [
    "Ialbdx = myIALBDX # = 1\n",
    "Filen1 = 'USER_DEFINED'\n",
    "Lambr1 = 'NON_LAMBERTIAN'\n",
    "Rhox   = 0.2\n",
    "\n",
    "Itilt = 1\n",
    "Tilt  = 0.\n",
    "Rhog  = 0.\n",
    "Wazim = 0."
   ]
  },
  {
   "cell_type": "code",
   "execution_count": null,
   "metadata": {},
   "outputs": [],
   "source": [
    "Ialbdg = myIalbdg # = 1\n",
    "TILT   = 90.\n",
    "WAZIM  = 180.\n",
    "\n",
    "Rhog   = Rhox\n",
    "Filen2 = Filen1\n",
    "Lambr2 = Lambr1\n",
    "\n",
    "WLMN = 390.\n",
    "WLMX = 870.\n",
    "Suncor = 1.0\n",
    "SolarC = 1366.10\n",
    "# Call Albchk(Nwal1,Filen1,Wvla1,Albdo1,.001*wlmn,.001*wlmx)"
   ]
  },
  {
   "cell_type": "code",
   "execution_count": null,
   "metadata": {},
   "outputs": [],
   "source": [
    "IPRT  = 2\n",
    "WPMN  = 390.\n",
    "WPMX  = 1015.\n",
    "INTVL = 0.5\n",
    "\n",
    "IOTOT = 13\n",
    "myOUT  = [1,2,3,4,5,6,7,8,9,10,11,33,34]\n",
    "for myi in range(1, IOTOT):\n",
    "    IOUT(myi) = myOUT(myi)"
   ]
  },
  {
   "cell_type": "code",
   "execution_count": null,
   "metadata": {},
   "outputs": [],
   "source": [
    "Out(1) ='Extraterrestrial_spectrm'\n",
    "Out(2) ='Direct_normal_irradiance'\n",
    "Out(3) ='Difuse_horizn_irradiance'\n",
    "Out(4) ='Global_horizn_irradiance'\n",
    "Out(5) ='Direct_horizn_irradiance'\n",
    "Out(6) ='Direct_tilted_irradiance'\n",
    "Out(7) ='Difuse_tilted_irradiance'\n",
    "Out(8) ='Global_tilted_irradiance'\n",
    "Out(9) ='Beam_normal_+circumsolar'\n",
    "Out(10)='Difuse_horiz-circumsolar'\n",
    "Out(11)='Circumsolar___irradiance'\n",
    "Out(12)='Global_tilt_photon_irrad'\n",
    "Out(13)='Beam_normal_photon_irrad'\n",
    "Out(14)='Difuse_horiz_photn_irrad'\n",
    "Out(15)='RayleighScat_trnsmittnce'\n",
    "Out(16)='Ozone_totl_transmittance'\n",
    "Out(17)='Trace_gas__transmittance'\n",
    "Out(18)='WaterVapor_transmittance'\n",
    "Out(19)='Mixed_gas__transmittance'\n",
    "Out(20)='Aerosol_tot_transmittnce'\n",
    "Out(21)='Direct_rad_transmittance'\n",
    "Out(22)='RayleighScat_optic_depth'\n",
    "Out(23)='Ozone_totl_optical_depth'\n",
    "Out(24)='Trace_gas__optical_depth'\n",
    "Out(25)='WaterVapor_optical_depth'\n",
    "Out(26)='Mixed_gas__optical_depth'\n",
    "Out(27)='Aeros_spctrl_optic_depth'\n",
    "Out(28)='Single_scattering_albedo'\n",
    "Out(29)='Aerosol_asymmetry_factor'\n",
    "Out(30)='Zonal_ground_reflectance'\n",
    "Out(31)='Local_ground_reflectance'\n",
    "Out(32)='Atmosph_back_reflectance'\n",
    "Out(33)='Global_tilt_reflectd_rad'\n",
    "Out(34)='Upward_reflctd_radiation'\n",
    "Out(35)='Glob_horiz_PAR_phot_flux'\n",
    "Out(36)='Dir_norml_PAR_photn_flux'\n",
    "Out(37)='Dif_horiz_PAR_photn_flux'\n",
    "Out(38)='Glob_tilt_PAR_photn_flux'\n",
    "Out(39)='Spectral_photonic_energy'\n",
    "Out(40)='Globl_horizn_photon_flux'\n",
    "Out(41)='Dirct_normal_photon_flux'\n",
    "Out(42)='Dif_horizntl_photon_flux'\n",
    "Out(43)='Global_tiltd_photon_flux'    \n",
    "Out(46)='DRay'\n",
    "Out(47)='Daer'\n",
    "Out(48)='Dif0'\n",
    "Out(49)='Fda00'\n",
    "Out(50)='Fdazt'\n",
    "Out(51)='Rhoa'"
   ]
  },
  {
   "cell_type": "code",
   "execution_count": null,
   "metadata": {},
   "outputs": [],
   "source": [
    "for i in range(1,IOTOT):\n",
    "    j=IOUT(i)"
   ]
  },
  {
   "cell_type": "code",
   "execution_count": null,
   "metadata": {},
   "outputs": [],
   "source": [
    "ICIRC = 0\n",
    "\n",
    "ISCAN = 1\n",
    "FWHM = 0.\n",
    "IFILT = 1\n",
    "WV1 = 395.46\n",
    "WV2 =  858.69\n",
    "step = 0.72\n",
    "FWHM = 2.0\n",
    "\n",
    "ILLUM = 0\n",
    "IUV   = 0\n",
    "\n",
    "Area = 'ZONAL'\n",
    "Area = 'LOCAL'"
   ]
  },
  {
   "cell_type": "code",
   "execution_count": null,
   "metadata": {},
   "outputs": [],
   "source": [
    "# -- PRELIMINARY CALCULATIONS FOR SPECTRAL FUNCTIONS\n",
    "BETAC  = BETA*(2.**(ALPHA2-ALPHA1))\n",
    "EPSIRP = 0.1686"
   ]
  },
  {
   "cell_type": "code",
   "execution_count": null,
   "metadata": {},
   "outputs": [],
   "source": [
    "IMASS = 3\n",
    "\n",
    "nread=0\n",
    "jday=0"
   ]
  },
  {
   "cell_type": "markdown",
   "metadata": {},
   "source": [
    "## 898 - SOLAR POSITION LONG DO-LOOP"
   ]
  },
  {
   "cell_type": "code",
   "execution_count": null,
   "metadata": {},
   "outputs": [],
   "source": [
    "nread = nread + 1\n",
    "iday  = 1"
   ]
  },
  {
   "cell_type": "code",
   "execution_count": null,
   "metadata": {},
   "outputs": [],
   "source": []
  },
  {
   "cell_type": "code",
   "execution_count": null,
   "metadata": {},
   "outputs": [],
   "source": []
  },
  {
   "cell_type": "code",
   "execution_count": null,
   "metadata": {},
   "outputs": [],
   "source": []
  }
 ],
 "metadata": {
  "kernelspec": {
   "display_name": "Python 3",
   "language": "python",
   "name": "python3"
  },
  "language_info": {
   "codemirror_mode": {
    "name": "ipython",
    "version": 3
   },
   "file_extension": ".py",
   "mimetype": "text/x-python",
   "name": "python",
   "nbconvert_exporter": "python",
   "pygments_lexer": "ipython3",
   "version": "3.6.8"
  }
 },
 "nbformat": 4,
 "nbformat_minor": 2
}
