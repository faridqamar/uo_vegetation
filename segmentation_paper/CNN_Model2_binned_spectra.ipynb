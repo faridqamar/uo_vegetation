{
 "cells": [
  {
   "cell_type": "markdown",
   "metadata": {},
   "source": [
    "## Hyperspectral Image Segmentation by Convolutional Neural Network \n",
    "\n",
    "### Binned spectra (424, 283, 212, 170, 142, 122, 106, 85, 53, 22, 15)\n",
    "### with spatial dimension included\n",
    "\n",
    "### training on each image separately\n",
    "\n",
    "---"
   ]
  },
  {
   "cell_type": "code",
   "execution_count": 1,
   "metadata": {},
   "outputs": [],
   "source": [
    "# -- here are functions that generate a class that memory maps the raw data \n",
    "#    cube.  After executing this cell, the syntax is:\n",
    "#    fname = \"[path to data]/foo.raw\"\n",
    "#    cube = read_hyper(fname)\n",
    "\n",
    "import os\n",
    "import numpy as np\n",
    "\n",
    "def read_header(hdrfile, verbose=True):\n",
    "    \"\"\"\n",
    "    Read a Middleton header file.\n",
    "\n",
    "    Parameters\n",
    "    ----------\n",
    "    hdrfile : str\n",
    "        Name of header file.\n",
    "    verbose : bool, optional\n",
    "        If True, alert the user.\n",
    "\n",
    "    Returns\n",
    "    -------\n",
    "    dict : dict\n",
    "        A dictionary continaing the number of rows, columns, and wavelengths\n",
    "        as well as an array of band centers.\n",
    "    \"\"\"\n",
    "\n",
    "    # -- alert\n",
    "    if verbose:\n",
    "        print(\"reading and parsing {0}...\".format(hdrfile))\n",
    "\n",
    "    # -- open the file and read in the records\n",
    "    recs = [rec for rec in open(hdrfile)]\n",
    "\n",
    "    # -- parse for samples, lines, bands, and the start of the wavelengths\n",
    "    for irec, rec in enumerate(recs):\n",
    "        if 'samples' in rec:\n",
    "            samples = int(rec.split(\"=\")[1])\n",
    "        elif 'lines' in rec:\n",
    "            lines = int(rec.split(\"=\")[1])\n",
    "        elif 'bands' in rec:\n",
    "            bands = int(rec.split(\"=\")[1])\n",
    "        elif \"Wavelength\" in rec:\n",
    "            w0ind = irec+1\n",
    "\n",
    "    # -- parse for the wavelengths\n",
    "    waves = np.array([float(rec.split(\",\")[0]) for rec in \n",
    "                      recs[w0ind:w0ind+bands]])\n",
    "\n",
    "    # -- return a dictionary\n",
    "    return {\"nrow\":samples, \"ncol\":lines, \"nwav\":bands, \"waves\":waves}\n",
    "\n",
    "\n",
    "def read_raw(rawfile, shape, hyper=False, verbose=True):\n",
    "    \"\"\"\n",
    "    Read a Middleton raw file.\n",
    "\n",
    "    Parameters\n",
    "    ----------\n",
    "    rawfile : str\n",
    "        The name of the raw file.\n",
    "    shape : tuple\n",
    "        The output shape of the data cube (nwav, nrow, ncol).\n",
    "    hyper : bool, optional\n",
    "        Set this flag to read a hyperspectral image.\n",
    "    verbose : bool, optional\n",
    "        Alert the user.\n",
    "\n",
    "    Returns\n",
    "    -------\n",
    "    memmap : memmap\n",
    "        A numpy memmap of the datacube.\n",
    "    \"\"\"\n",
    "\n",
    "    # -- alert\n",
    "    if verbose:\n",
    "        print(\"reading {0}...\".format(rawfile))\n",
    "\n",
    "    # -- read either broadband or hyperspectral image\n",
    "    if hyper:\n",
    "        return np.memmap(rawfile, np.uint16, mode=\"r\") \\\n",
    "            .reshape(shape[2], shape[0], shape[1])[:, :, ::-1] \\\n",
    "            .transpose(1, 2, 0)\n",
    "    else:\n",
    "        return np.memmap(rawfile, np.uint8, mode=\"r\") \\\n",
    "            .reshape(shape[1], shape[2], shape[0])[:, :, ::-1]\n",
    "\n",
    "\n",
    "def read_hyper(fpath, fname=None, full=True):\n",
    "    \"\"\"\n",
    "    Read a full hyperspectral scan (raw and header file).\n",
    "\n",
    "    Parameters\n",
    "    ----------\n",
    "    fpath : str\n",
    "        Either the full name+path of the raw file or the path of the raw file.\n",
    "        If the latter, fname must be supplied.\n",
    "    fname : str, optional\n",
    "        The name of the raw file (required if fpath is set to a path).\n",
    "    full : bool, optional\n",
    "        If True, output a class containing data and supplementary information.\n",
    "        If False, output only the data.\n",
    "\n",
    "    Returns\n",
    "    -------\n",
    "    output or memmap : class or memmap\n",
    "        If full is True, a class containing data plus supplementary \n",
    "        information.  If full is False, a memmap array of the data.\n",
    "    \"\"\"\n",
    "\n",
    "    # -- set up the file names\n",
    "    if fname is not None:\n",
    "        fpath = os.path.join(fpath, fname)\n",
    "\n",
    "    # -- read the header\n",
    "    hdr = read_header(fpath.replace(\"raw\", \"hdr\"))\n",
    "    sh  = (hdr[\"nwav\"], hdr[\"nrow\"], hdr[\"ncol\"])\n",
    "\n",
    "    # -- if desired, only output data cube\n",
    "    if not full:\n",
    "        return read_raw(fpath, sh, hyper=True)\n",
    "\n",
    "    # -- output full structure\n",
    "    class output():\n",
    "        def __init__(self, fpath):\n",
    "            self.filename = fpath\n",
    "            self.data     = read_raw(fpath, sh, hyper=True)\n",
    "            self.waves    = hdr[\"waves\"]\n",
    "            self.nwav     = sh[0]\n",
    "            self.nrow     = sh[1]\n",
    "            self.ncol     = sh[2]\n",
    "\n",
    "    return output(fpath)"
   ]
  },
  {
   "cell_type": "code",
   "execution_count": 2,
   "metadata": {},
   "outputs": [],
   "source": [
    "def kmeans_test_dictionary(labels, test, k):\n",
    "    import collections, numpy\n",
    "    \n",
    "    unique_test, counts_test = numpy.unique(labels[test[:,0], test[:,1]], return_counts=True)\n",
    "    counts_test_norm = (counts_test/test.shape[0])*100\n",
    "    test_dict = dict(zip(unique_test, counts_test))\n",
    "    test_dict_norm = dict(zip(unique_test, counts_test_norm))\n",
    "    \n",
    "    for i in range(0, k):\n",
    "        if test_dict.get(i) is None: test_dict[i] = 0\n",
    "        if test_dict_norm.get(i) is None: test_dict_norm[i] = 0\n",
    "    \n",
    "    return test_dict, test_dict_norm"
   ]
  },
  {
   "cell_type": "code",
   "execution_count": 3,
   "metadata": {},
   "outputs": [],
   "source": [
    "def kmeans_test_dataframe(sky_dict,\n",
    "                          clouds_dict,\n",
    "                          veg_dict,\n",
    "                          wtr_dict,\n",
    "                          blt_dict,\n",
    "                          windows_dict,\n",
    "                          rds_dict,\n",
    "                          cars_dict,\n",
    "                          mtl_dict\n",
    "                         ):\n",
    "    import pandas as pd\n",
    "    \n",
    "    pixel_names = ['sky', 'clouds', 'vegetation', 'water', 'built',\n",
    "                  'windows', 'roads', 'cars', 'metal']\n",
    "    df_test = pd.DataFrame([sky_dict,\n",
    "                            clouds_dict,\n",
    "                            veg_dict,\n",
    "                            wtr_dict,\n",
    "                            blt_dict,\n",
    "                            windows_dict,\n",
    "                            rds_dict,\n",
    "                            cars_dict,\n",
    "                            mtl_dict], index=pixel_names)\n",
    "    df_test = df_test.transpose()\n",
    "    \n",
    "    return df_test"
   ]
  },
  {
   "cell_type": "code",
   "execution_count": 4,
   "metadata": {},
   "outputs": [],
   "source": [
    "def plot_confusion_matrix(df_test, norm=True):\n",
    "    import numpy as np\n",
    "    import matplotlib.pyplot as plt\n",
    "    %matplotlib inline\n",
    "    \n",
    "    cm = np.array([df_test['sky'].values,\n",
    "                   df_test['clouds'].values,\n",
    "                   df_test['vegetation'].values,\n",
    "                   df_test['water'].values,\n",
    "                   df_test['built'].values,\n",
    "                   df_test['windows'].values,\n",
    "                   df_test['roads'].values,\n",
    "                   df_test['cars'].values,\n",
    "                   df_test['metal'].values])\n",
    "    classes = ['sky', 'clouds', 'vegetation', 'water', 'built', 'windows', 'roads', \n",
    "              'cars', 'metal']\n",
    "    \n",
    "    fig, ax = plt.subplots()\n",
    "    im = ax.imshow(cm, interpolation='nearest', cmap=plt.cm.Blues)\n",
    "    ax.figure.colorbar(im, ax=ax)\n",
    "    if norm:\n",
    "        title='Normalized Confusion Matrix'\n",
    "        fmt='.2f'\n",
    "    else:\n",
    "        title='Confusion Matrix'\n",
    "        fmt='d'\n",
    "    ax.set(xticks=np.arange(cm.shape[1]),\n",
    "          yticks=np.arange(cm.shape[0]),\n",
    "          xticklabels=np.arange(0,cm.shape[1]).astype(str), \n",
    "          yticklabels=classes,\n",
    "          title=title,\n",
    "          ylabel='True Label',\n",
    "          xlabel='Predicted Label')\n",
    "    #plt.setp(ax.get_xticklabels(), rotation=45, ha=\"right\",\n",
    "    #        rotation_mode=\"anchor\")\n",
    "    thresh = cm.max()/2\n",
    "    for i in range(cm.shape[0]):\n",
    "        for j in range(cm.shape[1]):\n",
    "            ax.text(j, i, format(cm[i,j], fmt),\n",
    "                   ha=\"center\", va=\"center\",\n",
    "                   color=\"white\" if cm[i,j] > thresh else \"black\")\n",
    "    fig.tight_layout()\n",
    "    plt.show()"
   ]
  },
  {
   "cell_type": "code",
   "execution_count": 5,
   "metadata": {},
   "outputs": [],
   "source": [
    "def plot_test_result(df_Test):\n",
    "    import matplotlib.pyplot as plt\n",
    "    %matplotlib inline\n",
    "    \n",
    "    df_test = df_Test.transpose()\n",
    "    ax = df_test.plot.bar(rot=0, stacked=True, colormap='tab20b')\n",
    "                          #color=['tab:blue', 'tab:green', 'tab:gray'])\n",
    "    plt.xlabel('Actual Class')\n",
    "    plt.ylabel('%of Test Pixels')\n",
    "    plt.title('Error in Prediction')\n",
    "    plt.legend(bbox_to_anchor=(1,1), loc=2, borderaxespad=1.0, prop={'size':11})\n",
    "    plt.show()"
   ]
  },
  {
   "cell_type": "code",
   "execution_count": 6,
   "metadata": {},
   "outputs": [],
   "source": [
    "def point_from_string(text):\n",
    "    \n",
    "    items = text.strip(\"\\n\").split(\" \")\n",
    "    rind = int(items[0])\n",
    "    cind = int(items[1])\n",
    "    \n",
    "    return rind, cind"
   ]
  },
  {
   "cell_type": "code",
   "execution_count": 7,
   "metadata": {},
   "outputs": [],
   "source": [
    "def coords(row, col):\n",
    "    return np.array(list(np.ndindex((row, col)))).reshape(row, col, 2)"
   ]
  },
  {
   "cell_type": "code",
   "execution_count": 8,
   "metadata": {},
   "outputs": [],
   "source": [
    "def read_labelled_coordinates(kind, scan):\n",
    "    file = open(\"../manual_classified_pixels/{0}_coordinates_{1}.txt\".format(kind, scan), \"r\")\n",
    "    coords = file.readlines()\n",
    "    file.close()\n",
    "    coords = np.array([point_from_string(line) for line in coords])\n",
    "    print(\"{0}: {1}\".format(kind,coords.shape))\n",
    "    \n",
    "    return coords"
   ]
  },
  {
   "cell_type": "code",
   "execution_count": 9,
   "metadata": {},
   "outputs": [],
   "source": [
    "import random\n",
    "\n",
    "def split_train_test_indices(coords, seed, trrat, kind):\n",
    "    ind = np.arange(coords.shape[0])\n",
    "    random.Random(seed).shuffle(ind)\n",
    "    lim_ind = int(len(ind)*trrat)\n",
    "    train_ind = ind[:lim_ind]\n",
    "    test_ind = ind[lim_ind:]\n",
    "    \n",
    "    print(\"{0}: {1} {2}\".format(kind, len(train_ind), len(test_ind)))\n",
    "    \n",
    "    return train_ind, test_ind"
   ]
  },
  {
   "cell_type": "code",
   "execution_count": 10,
   "metadata": {},
   "outputs": [],
   "source": [
    "import tensorflow as tf\n",
    "from tensorflow import keras\n",
    "from tensorflow.keras import layers\n",
    "\n",
    "def CNN_Model(nwaves):\n",
    "    Inputs_1 = keras.Input(shape=(nwaves, 1), name=\"spectra\")\n",
    "    Conv1D_1 = layers.Conv1D(16, kernel_size=(50), padding=\"same\", activation=\"relu\")(Inputs_1)\n",
    "    MaxPool_1 = layers.MaxPooling1D((2), strides=2)(Conv1D_1)\n",
    "    Conv1D_2 = layers.Conv1D(32, kernel_size=(50), padding=\"same\", activation=\"relu\")(MaxPool_1)\n",
    "    MaxPool_2 = layers.MaxPooling1D((2), strides=2)(Conv1D_2)\n",
    "    Dropout_1 = layers.Dropout(0.5)(MaxPool_2)\n",
    "    Flatten_1 = layers.Flatten()(Dropout_1)\n",
    "\n",
    "    Inputs_2 = keras.Input(shape=(2,), name=\"spatial\")\n",
    "    Concat = layers.concatenate([Flatten_1, Inputs_2])\n",
    "    Dense_1 = layers.Dense(512, activation=\"relu\")(Concat)\n",
    "    Output = layers.Dense(9, activation=\"softmax\")(Dense_1)\n",
    "\n",
    "    model = keras.Model(inputs=[Inputs_1, Inputs_2],\n",
    "                        outputs=[Output],)\n",
    "    \n",
    "    return model"
   ]
  },
  {
   "cell_type": "code",
   "execution_count": 11,
   "metadata": {},
   "outputs": [],
   "source": [
    "import matplotlib.pyplot as plt\n",
    "%matplotlib inline\n",
    "\n",
    "def plot_loss_history(model):\n",
    "    f, ((ax1, ax2), (ax3, ax4)) = plt.subplots(2,2, figsize=(12, 10))\n",
    "    ax1.plot(model.history['loss'])\n",
    "    ax1.plot(model.history['val_loss'])\n",
    "    ax1.set_title('CNN Model Loss')\n",
    "    ax1.set_ylabel('loss')\n",
    "    ax1.set_xlabel('epoch')\n",
    "    ax1.locator_params(nbins=13, axis='x')\n",
    "    ax1.legend(['train', 'test'], loc='center right')\n",
    "    ax2.plot(model.history['accuracy'])\n",
    "    ax2.plot(model.history['val_accuracy'])\n",
    "    ax2.set_title('CNN Model Accuracy')\n",
    "    ax2.set_ylabel('accuracy')\n",
    "    ax2.set_xlabel('epoch')\n",
    "    ax2.locator_params(nbins=12, axis='x')\n",
    "    ax2.legend(['train', 'test'], loc='center right')\n",
    "    ax3.plot(model.history['loss'])\n",
    "    ax3.plot(model.history['val_loss'])\n",
    "    ax3.set_ylabel('log(loss)')\n",
    "    ax3.set_xlabel('epoch')\n",
    "    ax3.locator_params(nbins=13, axis='x')\n",
    "    ax3.legend(['train', 'test'], loc='center right')\n",
    "    ax3.set_yscale('log')\n",
    "    ax4.plot(model.history['accuracy'])\n",
    "    ax4.plot(model.history['val_accuracy'])\n",
    "    ax4.set_ylabel('log(accuracy)')\n",
    "    ax4.set_xlabel('epoch')\n",
    "    ax4.locator_params(nbins=12, axis='x')\n",
    "    ax4.legend(['train', 'test'], loc='center right')\n",
    "    ax4.set_yscale('log')\n",
    "    plt.show()"
   ]
  },
  {
   "cell_type": "markdown",
   "metadata": {},
   "source": [
    "---\n",
    "### Classes:\n",
    "1. Sky\n",
    "2. Clouds\n",
    "3. Water\n",
    "4. Vegetation\n",
    "5. Buildings (concrete structures)\n",
    "6. Windows\n",
    "7. Roads\n",
    "8. Cars\n",
    "9. Metal Structures\n",
    "---\n"
   ]
  },
  {
   "cell_type": "markdown",
   "metadata": {},
   "source": [
    "## CNN on veg_00108 (South Facing @ ~2pm)"
   ]
  },
  {
   "cell_type": "code",
   "execution_count": 12,
   "metadata": {},
   "outputs": [
    {
     "name": "stdout",
     "output_type": "stream",
     "text": [
      "reading and parsing ../../image_files/veg_00108.hdr...\n",
      "reading ../../image_files/veg_00108.raw...\n"
     ]
    }
   ],
   "source": [
    "fname = \"../../image_files/veg_00108.raw\"\n",
    "cube = read_hyper(fname)"
   ]
  },
  {
   "cell_type": "code",
   "execution_count": 13,
   "metadata": {},
   "outputs": [
    {
     "name": "stdout",
     "output_type": "stream",
     "text": [
      "(848, 1600, 1600)\n"
     ]
    }
   ],
   "source": [
    "cube_sub = cube.data[:, :, :].astype(float)\n",
    "print(cube_sub.shape)"
   ]
  },
  {
   "cell_type": "code",
   "execution_count": 14,
   "metadata": {},
   "outputs": [
    {
     "name": "stdout",
     "output_type": "stream",
     "text": [
      "(2560000, 848)\n"
     ]
    }
   ],
   "source": [
    "cube_reshaped = cube_sub.transpose(1, 2, 0).reshape((cube_sub.shape[1] * cube_sub.shape[2]), cube_sub.shape[0])\n",
    "print(cube_reshaped.shape)"
   ]
  },
  {
   "cell_type": "code",
   "execution_count": 15,
   "metadata": {},
   "outputs": [
    {
     "name": "stdout",
     "output_type": "stream",
     "text": [
      "(2560000, 848)\n"
     ]
    }
   ],
   "source": [
    "cube_standard = (cube_reshaped - cube_reshaped.mean(1, keepdims=True)) / cube_reshaped.std(1, keepdims=True)\n",
    "print(cube_standard.shape)"
   ]
  },
  {
   "cell_type": "markdown",
   "metadata": {},
   "source": [
    "#### Reading manually classified set for training and testing"
   ]
  },
  {
   "cell_type": "code",
   "execution_count": 16,
   "metadata": {},
   "outputs": [
    {
     "name": "stdout",
     "output_type": "stream",
     "text": [
      "1_sky: (300, 2)\n",
      "2_clouds: (500, 2)\n",
      "3_vegetation: (600, 2)\n",
      "4_water: (50, 2)\n",
      "5_buildings: (1020, 2)\n",
      "6_windows: (500, 2)\n",
      "7_roads: (30, 2)\n",
      "8_cars: (100, 2)\n",
      "9_metal: (100, 2)\n"
     ]
    }
   ],
   "source": [
    "sky_coords = read_labelled_coordinates(\"1_sky\", \"108\")\n",
    "clouds_coords = read_labelled_coordinates(\"2_clouds\", \"108\")\n",
    "veg_coords = read_labelled_coordinates(\"3_vegetation\", \"108\")\n",
    "wtr_coords = read_labelled_coordinates(\"4_water\", \"108\")\n",
    "blt_coords = read_labelled_coordinates(\"5_buildings\", \"108\")\n",
    "windows_coords = read_labelled_coordinates(\"6_windows\", \"108\")\n",
    "rds_coords = read_labelled_coordinates(\"7_roads\", \"108\")\n",
    "cars_coords = read_labelled_coordinates(\"8_cars\", \"108\")\n",
    "mtl_coords = read_labelled_coordinates(\"9_metal\", \"108\")"
   ]
  },
  {
   "cell_type": "code",
   "execution_count": 17,
   "metadata": {},
   "outputs": [],
   "source": [
    "# create position array and normalize\n",
    "\n",
    "xy = coords(cube_sub.shape[1], cube_sub.shape[2])\n",
    "xy = xy/xy.max()"
   ]
  },
  {
   "cell_type": "markdown",
   "metadata": {},
   "source": [
    "### Bin Spectra"
   ]
  },
  {
   "cell_type": "code",
   "execution_count": 18,
   "metadata": {},
   "outputs": [
    {
     "name": "stdout",
     "output_type": "stream",
     "text": [
      "424\n",
      "[[0, 2], [2, 4], [4, 6], [6, 8], [8, 10], [10, 12], [12, 14], [14, 16], [16, 18], [18, 20], [20, 22], [22, 24], [24, 26], [26, 28], [28, 30], [30, 32], [32, 34], [34, 36], [36, 38], [38, 40], [40, 42], [42, 44], [44, 46], [46, 48], [48, 50], [50, 52], [52, 54], [54, 56], [56, 58], [58, 60], [60, 62], [62, 64], [64, 66], [66, 68], [68, 70], [70, 72], [72, 74], [74, 76], [76, 78], [78, 80], [80, 82], [82, 84], [84, 86], [86, 88], [88, 90], [90, 92], [92, 94], [94, 96], [96, 98], [98, 100], [100, 102], [102, 104], [104, 106], [106, 108], [108, 110], [110, 112], [112, 114], [114, 116], [116, 118], [118, 120], [120, 122], [122, 124], [124, 126], [126, 128], [128, 130], [130, 132], [132, 134], [134, 136], [136, 138], [138, 140], [140, 142], [142, 144], [144, 146], [146, 148], [148, 150], [150, 152], [152, 154], [154, 156], [156, 158], [158, 160], [160, 162], [162, 164], [164, 166], [166, 168], [168, 170], [170, 172], [172, 174], [174, 176], [176, 178], [178, 180], [180, 182], [182, 184], [184, 186], [186, 188], [188, 190], [190, 192], [192, 194], [194, 196], [196, 198], [198, 200], [200, 202], [202, 204], [204, 206], [206, 208], [208, 210], [210, 212], [212, 214], [214, 216], [216, 218], [218, 220], [220, 222], [222, 224], [224, 226], [226, 228], [228, 230], [230, 232], [232, 234], [234, 236], [236, 238], [238, 240], [240, 242], [242, 244], [244, 246], [246, 248], [248, 250], [250, 252], [252, 254], [254, 256], [256, 258], [258, 260], [260, 262], [262, 264], [264, 266], [266, 268], [268, 270], [270, 272], [272, 274], [274, 276], [276, 278], [278, 280], [280, 282], [282, 284], [284, 286], [286, 288], [288, 290], [290, 292], [292, 294], [294, 296], [296, 298], [298, 300], [300, 302], [302, 304], [304, 306], [306, 308], [308, 310], [310, 312], [312, 314], [314, 316], [316, 318], [318, 320], [320, 322], [322, 324], [324, 326], [326, 328], [328, 330], [330, 332], [332, 334], [334, 336], [336, 338], [338, 340], [340, 342], [342, 344], [344, 346], [346, 348], [348, 350], [350, 352], [352, 354], [354, 356], [356, 358], [358, 360], [360, 362], [362, 364], [364, 366], [366, 368], [368, 370], [370, 372], [372, 374], [374, 376], [376, 378], [378, 380], [380, 382], [382, 384], [384, 386], [386, 388], [388, 390], [390, 392], [392, 394], [394, 396], [396, 398], [398, 400], [400, 402], [402, 404], [404, 406], [406, 408], [408, 410], [410, 412], [412, 414], [414, 416], [416, 418], [418, 420], [420, 422], [422, 424], [424, 426], [426, 428], [428, 430], [430, 432], [432, 434], [434, 436], [436, 438], [438, 440], [440, 442], [442, 444], [444, 446], [446, 448], [448, 450], [450, 452], [452, 454], [454, 456], [456, 458], [458, 460], [460, 462], [462, 464], [464, 466], [466, 468], [468, 470], [470, 472], [472, 474], [474, 476], [476, 478], [478, 480], [480, 482], [482, 484], [484, 486], [486, 488], [488, 490], [490, 492], [492, 494], [494, 496], [496, 498], [498, 500], [500, 502], [502, 504], [504, 506], [506, 508], [508, 510], [510, 512], [512, 514], [514, 516], [516, 518], [518, 520], [520, 522], [522, 524], [524, 526], [526, 528], [528, 530], [530, 532], [532, 534], [534, 536], [536, 538], [538, 540], [540, 542], [542, 544], [544, 546], [546, 548], [548, 550], [550, 552], [552, 554], [554, 556], [556, 558], [558, 560], [560, 562], [562, 564], [564, 566], [566, 568], [568, 570], [570, 572], [572, 574], [574, 576], [576, 578], [578, 580], [580, 582], [582, 584], [584, 586], [586, 588], [588, 590], [590, 592], [592, 594], [594, 596], [596, 598], [598, 600], [600, 602], [602, 604], [604, 606], [606, 608], [608, 610], [610, 612], [612, 614], [614, 616], [616, 618], [618, 620], [620, 622], [622, 624], [624, 626], [626, 628], [628, 630], [630, 632], [632, 634], [634, 636], [636, 638], [638, 640], [640, 642], [642, 644], [644, 646], [646, 648], [648, 650], [650, 652], [652, 654], [654, 656], [656, 658], [658, 660], [660, 662], [662, 664], [664, 666], [666, 668], [668, 670], [670, 672], [672, 674], [674, 676], [676, 678], [678, 680], [680, 682], [682, 684], [684, 686], [686, 688], [688, 690], [690, 692], [692, 694], [694, 696], [696, 698], [698, 700], [700, 702], [702, 704], [704, 706], [706, 708], [708, 710], [710, 712], [712, 714], [714, 716], [716, 718], [718, 720], [720, 722], [722, 724], [724, 726], [726, 728], [728, 730], [730, 732], [732, 734], [734, 736], [736, 738], [738, 740], [740, 742], [742, 744], [744, 746], [746, 748], [748, 750], [750, 752], [752, 754], [754, 756], [756, 758], [758, 760], [760, 762], [762, 764], [764, 766], [766, 768], [768, 770], [770, 772], [772, 774], [774, 776], [776, 778], [778, 780], [780, 782], [782, 784], [784, 786], [786, 788], [788, 790], [790, 792], [792, 794], [794, 796], [796, 798], [798, 800], [800, 802], [802, 804], [804, 806], [806, 808], [808, 810], [810, 812], [812, 814], [814, 816], [816, 818], [818, 820], [820, 822], [822, 824], [824, 826], [826, 828], [828, 830], [830, 832], [832, 834], [834, 836], [836, 838], [838, 840], [840, 842], [842, 844], [844, 846], [846, 848]]\n"
     ]
    }
   ],
   "source": [
    "num_of_bins = 424\n",
    "bin_ind = []\n",
    "\n",
    "for i in range(0, num_of_bins):\n",
    "    low_ind = int(i*int(cube_sub.shape[0]/num_of_bins))\n",
    "    upp_ind = int(low_ind + int(cube_sub.shape[0]/num_of_bins))\n",
    "    bin_ind.append([low_ind, upp_ind])\n",
    "bin_ind[-1][-1] = cube_sub.shape[0]\n",
    "\n",
    "print(len(bin_ind))\n",
    "print(bin_ind)"
   ]
  },
  {
   "cell_type": "code",
   "execution_count": 19,
   "metadata": {},
   "outputs": [
    {
     "name": "stdout",
     "output_type": "stream",
     "text": [
      "(2560000, 424)\n"
     ]
    }
   ],
   "source": [
    "cube_binned = np.zeros(shape=(cube_standard.shape[0], num_of_bins))\n",
    "\n",
    "for i in range(num_of_bins):\n",
    "    cube_binned[:, i] = cube_standard[:, bin_ind[i][0]:bin_ind[i][1]].mean(1)\n",
    "\n",
    "print(cube_binned.shape)"
   ]
  },
  {
   "cell_type": "code",
   "execution_count": 20,
   "metadata": {},
   "outputs": [
    {
     "name": "stdout",
     "output_type": "stream",
     "text": [
      "(2560000, 424)\n"
     ]
    }
   ],
   "source": [
    "cube_standard = cube_binned\n",
    "print(cube_standard.shape)"
   ]
  },
  {
   "cell_type": "markdown",
   "metadata": {},
   "source": [
    "#### split classified pixels into 80% training and 20% testing sets"
   ]
  },
  {
   "cell_type": "code",
   "execution_count": 21,
   "metadata": {},
   "outputs": [
    {
     "name": "stdout",
     "output_type": "stream",
     "text": [
      "sky: 240 60\n",
      "clouds: 400 100\n",
      "veg: 480 120\n",
      "wtr: 40 10\n",
      "blt: 816 204\n",
      "windows: 400 100\n",
      "rds: 24 6\n",
      "cars: 80 20\n",
      "mtl: 80 20\n"
     ]
    }
   ],
   "source": [
    "trrat = 0.8\n",
    "sky_train_ind, sky_test_ind = split_train_test_indices(sky_coords, 0, trrat, \"sky\")\n",
    "clouds_train_ind, clouds_test_ind = split_train_test_indices(clouds_coords, 1, trrat, \"clouds\")\n",
    "veg_train_ind, veg_test_ind = split_train_test_indices(veg_coords, 2, trrat, \"veg\")\n",
    "wtr_train_ind, wtr_test_ind = split_train_test_indices(wtr_coords, 3, trrat, \"wtr\")\n",
    "blt_train_ind, blt_test_ind = split_train_test_indices(blt_coords, 4, trrat, \"blt\")\n",
    "windows_train_ind, windows_test_ind = split_train_test_indices(windows_coords, 5, trrat, \"windows\")\n",
    "rds_train_ind, rds_test_ind = split_train_test_indices(rds_coords, 6, trrat, \"rds\")\n",
    "cars_train_ind, cars_test_ind = split_train_test_indices(cars_coords, 7, trrat, \"cars\")\n",
    "mtl_train_ind, mtl_test_ind = split_train_test_indices(mtl_coords, 8, trrat, \"mtl\")"
   ]
  },
  {
   "cell_type": "code",
   "execution_count": 22,
   "metadata": {},
   "outputs": [
    {
     "name": "stdout",
     "output_type": "stream",
     "text": [
      "(1600, 1600, 424)\n",
      "(1600, 1600, 2)\n"
     ]
    }
   ],
   "source": [
    "cube_std_3d = cube_standard.reshape(cube_sub.shape[1], cube_sub.shape[2], num_of_bins)\n",
    "print(cube_std_3d.shape)\n",
    "print(xy.shape)"
   ]
  },
  {
   "cell_type": "code",
   "execution_count": 23,
   "metadata": {},
   "outputs": [
    {
     "name": "stdout",
     "output_type": "stream",
     "text": [
      "sky  (240, 424) (60, 424)\n",
      "clouds  (400, 424) (100, 424)\n",
      "vegetation  (480, 424) (120, 424)\n",
      "water  (40, 424) (10, 424)\n",
      "built  (816, 424) (204, 424)\n",
      "windows  (400, 424) (100, 424)\n",
      "roads  (24, 424) (6, 424)\n",
      "cars  (80, 424) (20, 424)\n",
      "metal  (80, 424) (20, 424)\n"
     ]
    }
   ],
   "source": [
    "cube_sky_train = cube_std_3d[sky_coords[sky_train_ind[:], 0], sky_coords[sky_train_ind[:], 1], :]\n",
    "cube_sky_test = cube_std_3d[sky_coords[sky_test_ind[:], 0], sky_coords[sky_test_ind[:], 1], :]\n",
    "sky_xy_train = xy[sky_coords[sky_train_ind[:], 0], sky_coords[sky_train_ind[:], 1], :]\n",
    "sky_xy_test = xy[sky_coords[sky_test_ind[:], 0], sky_coords[sky_test_ind[:], 1], :]\n",
    "print(\"sky \", cube_sky_train.shape, cube_sky_test.shape)\n",
    "\n",
    "cube_clouds_train = cube_std_3d[clouds_coords[clouds_train_ind[:], 0], clouds_coords[clouds_train_ind[:], 1], :]\n",
    "cube_clouds_test = cube_std_3d[clouds_coords[clouds_test_ind[:], 0], clouds_coords[clouds_test_ind[:], 1], :]\n",
    "clouds_xy_train = xy[clouds_coords[clouds_train_ind[:], 0], clouds_coords[clouds_train_ind[:], 1], :]\n",
    "clouds_xy_test = xy[clouds_coords[clouds_test_ind[:], 0], clouds_coords[clouds_test_ind[:], 1], :]\n",
    "print(\"clouds \", cube_clouds_train.shape, cube_clouds_test.shape)\n",
    "\n",
    "cube_veg_train = cube_std_3d[veg_coords[veg_train_ind[:], 0], veg_coords[veg_train_ind[:], 1], :]\n",
    "cube_veg_test = cube_std_3d[veg_coords[veg_test_ind[:], 0], veg_coords[veg_test_ind[:], 1], :]\n",
    "veg_xy_train = xy[veg_coords[veg_train_ind[:], 0], veg_coords[veg_train_ind[:], 1], :]\n",
    "veg_xy_test = xy[veg_coords[veg_test_ind[:], 0], veg_coords[veg_test_ind[:], 1], :]\n",
    "print(\"vegetation \", cube_veg_train.shape, cube_veg_test.shape)\n",
    "\n",
    "cube_wtr_train = cube_std_3d[wtr_coords[wtr_train_ind[:], 0], wtr_coords[wtr_train_ind[:], 1], :]\n",
    "cube_wtr_test = cube_std_3d[wtr_coords[wtr_test_ind[:], 0], wtr_coords[wtr_test_ind[:], 1], :]\n",
    "wtr_xy_train = xy[wtr_coords[wtr_train_ind[:], 0], wtr_coords[wtr_train_ind[:], 1], :]\n",
    "wtr_xy_test = xy[wtr_coords[wtr_test_ind[:], 0], wtr_coords[wtr_test_ind[:], 1], :]\n",
    "print(\"water \", cube_wtr_train.shape, cube_wtr_test.shape)\n",
    "\n",
    "cube_blt_train = cube_std_3d[blt_coords[blt_train_ind[:], 0], blt_coords[blt_train_ind[:], 1], :]\n",
    "cube_blt_test = cube_std_3d[blt_coords[blt_test_ind[:], 0], blt_coords[blt_test_ind[:], 1], :]\n",
    "blt_xy_train = xy[blt_coords[blt_train_ind[:], 0], blt_coords[blt_train_ind[:], 1], :]\n",
    "blt_xy_test = xy[blt_coords[blt_test_ind[:], 0], blt_coords[blt_test_ind[:], 1], :]\n",
    "print(\"built \", cube_blt_train.shape, cube_blt_test.shape)\n",
    "\n",
    "cube_windows_train = cube_std_3d[windows_coords[windows_train_ind[:],0], windows_coords[windows_train_ind[:],1],:]\n",
    "cube_windows_test = cube_std_3d[windows_coords[windows_test_ind[:], 0], windows_coords[windows_test_ind[:], 1], :]\n",
    "windows_xy_train = xy[windows_coords[windows_train_ind[:], 0], windows_coords[windows_train_ind[:], 1], :]\n",
    "windows_xy_test = xy[windows_coords[windows_test_ind[:], 0], windows_coords[windows_test_ind[:], 1], :]\n",
    "print(\"windows \", cube_windows_train.shape, cube_windows_test.shape)\n",
    "\n",
    "cube_rds_train = cube_std_3d[rds_coords[rds_train_ind[:], 0], rds_coords[rds_train_ind[:], 1], :]\n",
    "cube_rds_test = cube_std_3d[rds_coords[rds_test_ind[:], 0], rds_coords[rds_test_ind[:], 1], :]\n",
    "rds_xy_train = xy[rds_coords[rds_train_ind[:], 0], rds_coords[rds_train_ind[:], 1], :]\n",
    "rds_xy_test = xy[rds_coords[rds_test_ind[:], 0], rds_coords[rds_test_ind[:], 1], :]\n",
    "print(\"roads \", cube_rds_train.shape, cube_rds_test.shape)\n",
    "\n",
    "cube_cars_train = cube_std_3d[cars_coords[cars_train_ind[:], 0], cars_coords[cars_train_ind[:], 1], :]\n",
    "cube_cars_test = cube_std_3d[cars_coords[cars_test_ind[:], 0], cars_coords[cars_test_ind[:], 1], :]\n",
    "cars_xy_train = xy[cars_coords[cars_train_ind[:], 0], cars_coords[cars_train_ind[:], 1], :]\n",
    "cars_xy_test = xy[cars_coords[cars_test_ind[:], 0], cars_coords[cars_test_ind[:], 1], :]\n",
    "print(\"cars \", cube_cars_train.shape, cube_cars_test.shape)\n",
    "\n",
    "cube_mtl_train = cube_std_3d[mtl_coords[mtl_train_ind[:], 0], mtl_coords[mtl_train_ind[:], 1], :]\n",
    "cube_mtl_test = cube_std_3d[mtl_coords[mtl_test_ind[:], 0], mtl_coords[mtl_test_ind[:], 1], :]\n",
    "mtl_xy_train = xy[mtl_coords[mtl_train_ind[:], 0], mtl_coords[mtl_train_ind[:], 1], :]\n",
    "mtl_xy_test = xy[mtl_coords[mtl_test_ind[:], 0], mtl_coords[mtl_test_ind[:], 1], :]\n",
    "print(\"metal \", cube_mtl_train.shape, cube_mtl_test.shape)"
   ]
  },
  {
   "cell_type": "code",
   "execution_count": 24,
   "metadata": {},
   "outputs": [],
   "source": [
    "# concatenate training and testing sets and create index arrays\n",
    "\n",
    "cube_train = np.concatenate((cube_sky_train, cube_clouds_train, cube_veg_train, cube_wtr_train, cube_blt_train,\n",
    "                            cube_windows_train, cube_rds_train, cube_cars_train, cube_mtl_train), axis=0)\n",
    "cube_train_labels = [0]*cube_sky_train.shape[0] + [1]*cube_clouds_train.shape[0] \\\n",
    "                    + [2]*cube_veg_train.shape[0] + [3]*cube_wtr_train.shape[0] \\\n",
    "                    + [4]*cube_blt_train.shape[0] + [5]*cube_windows_train.shape[0] \\\n",
    "                    + [6]*cube_rds_train.shape[0] + [7]*cube_cars_train.shape[0] + [8]*cube_mtl_train.shape[0]\n",
    "xy_train = np.concatenate((sky_xy_train, clouds_xy_train, veg_xy_train, wtr_xy_train, blt_xy_train,\n",
    "                             windows_xy_train, rds_xy_train, cars_xy_train, mtl_xy_train), axis=0)\n",
    "\n",
    "cube_test = np.concatenate((cube_sky_test, cube_clouds_test, cube_veg_test, cube_wtr_test, cube_blt_test,\n",
    "                            cube_windows_test, cube_rds_test, cube_cars_test, cube_mtl_test), axis=0)\n",
    "cube_test_labels = [0]*cube_sky_test.shape[0] + [1]*cube_clouds_test.shape[0] \\\n",
    "                    + [2]*cube_veg_test.shape[0] + [3]*cube_wtr_test.shape[0] \\\n",
    "                    + [4]*cube_blt_test.shape[0] + [5]*cube_windows_test.shape[0] \\\n",
    "                    + [6]*cube_rds_test.shape[0] + [7]*cube_cars_test.shape[0] + [8]*cube_mtl_test.shape[0]\n",
    "xy_test = np.concatenate((sky_xy_test, clouds_xy_test, veg_xy_test, wtr_xy_test, blt_xy_test,\n",
    "                             windows_xy_test, rds_xy_test, cars_xy_test, mtl_xy_test), axis=0)"
   ]
  },
  {
   "cell_type": "code",
   "execution_count": 25,
   "metadata": {},
   "outputs": [
    {
     "name": "stdout",
     "output_type": "stream",
     "text": [
      "(2560, 424) (2560,) (2560, 2)\n",
      "(640, 424) (640,) (640, 2)\n"
     ]
    }
   ],
   "source": [
    "cube_train_labels = np.array(cube_train_labels)\n",
    "cube_test_labels = np.array(cube_test_labels)\n",
    "\n",
    "print(cube_train.shape, cube_train_labels.shape, xy_train.shape)\n",
    "print(cube_test.shape, cube_test_labels.shape, xy_test.shape)"
   ]
  },
  {
   "cell_type": "markdown",
   "metadata": {},
   "source": [
    "### Train CNN"
   ]
  },
  {
   "cell_type": "code",
   "execution_count": 26,
   "metadata": {},
   "outputs": [],
   "source": [
    "cnn = CNN_Model(cube_std_3d.shape[2])\n",
    "cnn.compile(optimizer=\"adam\", loss=\"sparse_categorical_crossentropy\",\n",
    "             metrics=[\"accuracy\"])"
   ]
  },
  {
   "cell_type": "code",
   "execution_count": 27,
   "metadata": {},
   "outputs": [],
   "source": [
    "#keras.utils.plot_model(cnn, show_shapes=True)\n",
    "#cnn.summary()\n",
    "\n",
    "cube_train2 = cube_train.reshape(cube_train.shape[0], cube_train.shape[1], 1)\n",
    "cube_test2 = cube_test.reshape(cube_test.shape[0], cube_test.shape[1], 1)"
   ]
  },
  {
   "cell_type": "code",
   "execution_count": null,
   "metadata": {
    "scrolled": true
   },
   "outputs": [
    {
     "name": "stdout",
     "output_type": "stream",
     "text": [
      "Epoch 1/200\n",
      "5/5 [==============================] - 1s 154ms/step - loss: 1.6394 - accuracy: 0.4523 - val_loss: 1.0375 - val_accuracy: 0.6516\n",
      "Epoch 2/200\n",
      "5/5 [==============================] - 0s 88ms/step - loss: 0.9479 - accuracy: 0.7023 - val_loss: 0.7780 - val_accuracy: 0.7406\n",
      "Epoch 3/200\n",
      "5/5 [==============================] - 0s 86ms/step - loss: 0.7706 - accuracy: 0.7422 - val_loss: 0.7065 - val_accuracy: 0.8016\n",
      "Epoch 4/200\n",
      "5/5 [==============================] - 0s 88ms/step - loss: 0.6887 - accuracy: 0.7789 - val_loss: 0.5845 - val_accuracy: 0.8156\n",
      "Epoch 5/200\n",
      "5/5 [==============================] - 0s 84ms/step - loss: 0.6212 - accuracy: 0.8035 - val_loss: 0.5228 - val_accuracy: 0.8500\n",
      "Epoch 6/200\n",
      "5/5 [==============================] - 0s 91ms/step - loss: 0.5290 - accuracy: 0.8375 - val_loss: 0.4529 - val_accuracy: 0.8422\n",
      "Epoch 7/200\n",
      "5/5 [==============================] - 0s 90ms/step - loss: 0.4711 - accuracy: 0.8562 - val_loss: 0.4017 - val_accuracy: 0.8797\n",
      "Epoch 8/200\n",
      "5/5 [==============================] - 0s 89ms/step - loss: 0.4370 - accuracy: 0.8664 - val_loss: 0.3782 - val_accuracy: 0.9016\n",
      "Epoch 9/200\n",
      "5/5 [==============================] - 0s 81ms/step - loss: 0.4024 - accuracy: 0.8754 - val_loss: 0.3419 - val_accuracy: 0.9078\n",
      "Epoch 10/200\n",
      "5/5 [==============================] - 0s 84ms/step - loss: 0.4006 - accuracy: 0.8746 - val_loss: 0.3284 - val_accuracy: 0.9062\n",
      "Epoch 11/200\n",
      "5/5 [==============================] - 0s 90ms/step - loss: 0.3882 - accuracy: 0.8773 - val_loss: 0.3653 - val_accuracy: 0.8750\n",
      "Epoch 12/200\n",
      "5/5 [==============================] - 0s 88ms/step - loss: 0.3709 - accuracy: 0.8832 - val_loss: 0.3110 - val_accuracy: 0.9109\n",
      "Epoch 13/200\n",
      "5/5 [==============================] - 0s 89ms/step - loss: 0.3497 - accuracy: 0.8938 - val_loss: 0.2978 - val_accuracy: 0.9156\n",
      "Epoch 14/200\n",
      "5/5 [==============================] - 1s 122ms/step - loss: 0.3241 - accuracy: 0.9031 - val_loss: 0.2766 - val_accuracy: 0.9109\n",
      "Epoch 15/200\n",
      "5/5 [==============================] - 1s 121ms/step - loss: 0.3246 - accuracy: 0.9023 - val_loss: 0.2928 - val_accuracy: 0.9094\n",
      "Epoch 16/200\n",
      "5/5 [==============================] - 1s 105ms/step - loss: 0.3586 - accuracy: 0.8883 - val_loss: 0.3436 - val_accuracy: 0.9016\n",
      "Epoch 17/200\n",
      "5/5 [==============================] - 0s 99ms/step - loss: 0.3391 - accuracy: 0.8922 - val_loss: 0.2862 - val_accuracy: 0.9062\n",
      "Epoch 18/200\n",
      "5/5 [==============================] - 0s 93ms/step - loss: 0.3065 - accuracy: 0.9086 - val_loss: 0.2764 - val_accuracy: 0.9094\n",
      "Epoch 19/200\n",
      "5/5 [==============================] - 1s 108ms/step - loss: 0.3132 - accuracy: 0.9043 - val_loss: 0.2544 - val_accuracy: 0.9141\n",
      "Epoch 20/200\n",
      "5/5 [==============================] - 0s 94ms/step - loss: 0.2967 - accuracy: 0.9051 - val_loss: 0.2696 - val_accuracy: 0.9297\n",
      "Epoch 21/200\n",
      "5/5 [==============================] - 0s 95ms/step - loss: 0.2946 - accuracy: 0.9062 - val_loss: 0.2795 - val_accuracy: 0.9219\n",
      "Epoch 22/200\n",
      "5/5 [==============================] - 1s 112ms/step - loss: 0.2945 - accuracy: 0.9051 - val_loss: 0.2399 - val_accuracy: 0.9234\n",
      "Epoch 23/200\n",
      "5/5 [==============================] - 0s 93ms/step - loss: 0.2739 - accuracy: 0.9129 - val_loss: 0.2412 - val_accuracy: 0.9203\n",
      "Epoch 24/200\n",
      "5/5 [==============================] - 0s 93ms/step - loss: 0.2672 - accuracy: 0.9207 - val_loss: 0.2248 - val_accuracy: 0.9266\n",
      "Epoch 25/200\n",
      "5/5 [==============================] - 0s 100ms/step - loss: 0.2597 - accuracy: 0.9199 - val_loss: 0.2782 - val_accuracy: 0.8922\n",
      "Epoch 26/200\n",
      "5/5 [==============================] - 0s 92ms/step - loss: 0.2755 - accuracy: 0.9113 - val_loss: 0.2201 - val_accuracy: 0.9156\n",
      "Epoch 27/200\n",
      "5/5 [==============================] - 0s 93ms/step - loss: 0.2778 - accuracy: 0.9090 - val_loss: 0.2234 - val_accuracy: 0.9281\n",
      "Epoch 28/200\n",
      "5/5 [==============================] - 0s 100ms/step - loss: 0.2635 - accuracy: 0.9172 - val_loss: 0.2301 - val_accuracy: 0.9281\n",
      "Epoch 29/200\n",
      "5/5 [==============================] - 0s 98ms/step - loss: 0.2496 - accuracy: 0.9219 - val_loss: 0.2141 - val_accuracy: 0.9312\n",
      "Epoch 30/200\n",
      "5/5 [==============================] - 0s 97ms/step - loss: 0.2380 - accuracy: 0.9227 - val_loss: 0.2116 - val_accuracy: 0.9281\n",
      "Epoch 31/200\n",
      "5/5 [==============================] - 1s 100ms/step - loss: 0.2373 - accuracy: 0.9262 - val_loss: 0.1961 - val_accuracy: 0.9266\n",
      "Epoch 32/200\n",
      "5/5 [==============================] - 0s 84ms/step - loss: 0.2199 - accuracy: 0.9289 - val_loss: 0.1921 - val_accuracy: 0.9266\n",
      "Epoch 33/200\n",
      "5/5 [==============================] - 0s 90ms/step - loss: 0.2253 - accuracy: 0.9301 - val_loss: 0.1975 - val_accuracy: 0.9359\n",
      "Epoch 34/200\n",
      "5/5 [==============================] - 0s 91ms/step - loss: 0.2215 - accuracy: 0.9277 - val_loss: 0.2178 - val_accuracy: 0.9187\n",
      "Epoch 35/200\n",
      "5/5 [==============================] - 0s 93ms/step - loss: 0.2633 - accuracy: 0.9145 - val_loss: 0.3056 - val_accuracy: 0.9062\n",
      "Epoch 36/200\n",
      "5/5 [==============================] - 1s 102ms/step - loss: 0.2534 - accuracy: 0.9152 - val_loss: 0.2184 - val_accuracy: 0.9281\n",
      "Epoch 37/200\n",
      "5/5 [==============================] - 0s 98ms/step - loss: 0.2405 - accuracy: 0.9266 - val_loss: 0.2247 - val_accuracy: 0.9234\n",
      "Epoch 38/200\n",
      "5/5 [==============================] - 1s 101ms/step - loss: 0.2294 - accuracy: 0.9270 - val_loss: 0.2058 - val_accuracy: 0.9281\n",
      "Epoch 39/200\n",
      "5/5 [==============================] - 0s 90ms/step - loss: 0.2213 - accuracy: 0.9293 - val_loss: 0.1840 - val_accuracy: 0.9359\n",
      "Epoch 40/200\n",
      "5/5 [==============================] - 0s 85ms/step - loss: 0.2164 - accuracy: 0.9301 - val_loss: 0.2037 - val_accuracy: 0.9312\n",
      "Epoch 41/200\n",
      "5/5 [==============================] - 0s 92ms/step - loss: 0.2126 - accuracy: 0.9301 - val_loss: 0.1805 - val_accuracy: 0.9391\n",
      "Epoch 42/200\n",
      "5/5 [==============================] - 0s 96ms/step - loss: 0.2019 - accuracy: 0.9340 - val_loss: 0.1824 - val_accuracy: 0.9281\n",
      "Epoch 43/200\n",
      "5/5 [==============================] - 0s 96ms/step - loss: 0.2089 - accuracy: 0.9309 - val_loss: 0.1759 - val_accuracy: 0.9359\n",
      "Epoch 44/200\n",
      "5/5 [==============================] - 0s 99ms/step - loss: 0.2001 - accuracy: 0.9328 - val_loss: 0.1988 - val_accuracy: 0.9297\n",
      "Epoch 45/200\n",
      "5/5 [==============================] - 0s 93ms/step - loss: 0.2052 - accuracy: 0.9316 - val_loss: 0.2047 - val_accuracy: 0.9250\n",
      "Epoch 46/200\n",
      "5/5 [==============================] - 1s 107ms/step - loss: 0.2096 - accuracy: 0.9301 - val_loss: 0.1784 - val_accuracy: 0.9375\n",
      "Epoch 47/200\n",
      "5/5 [==============================] - 0s 85ms/step - loss: 0.1915 - accuracy: 0.9340 - val_loss: 0.1911 - val_accuracy: 0.9250\n",
      "Epoch 48/200\n",
      "5/5 [==============================] - 0s 83ms/step - loss: 0.1947 - accuracy: 0.9355 - val_loss: 0.1900 - val_accuracy: 0.9312\n",
      "Epoch 49/200\n",
      "5/5 [==============================] - 0s 93ms/step - loss: 0.1885 - accuracy: 0.9367 - val_loss: 0.1656 - val_accuracy: 0.9328\n",
      "Epoch 50/200\n",
      "5/5 [==============================] - 0s 94ms/step - loss: 0.1809 - accuracy: 0.9379 - val_loss: 0.1637 - val_accuracy: 0.9500\n",
      "Epoch 51/200\n",
      "5/5 [==============================] - 0s 95ms/step - loss: 0.1769 - accuracy: 0.9402 - val_loss: 0.1629 - val_accuracy: 0.9516\n",
      "Epoch 52/200\n",
      "5/5 [==============================] - 0s 88ms/step - loss: 0.1678 - accuracy: 0.9422 - val_loss: 0.1554 - val_accuracy: 0.9359\n",
      "Epoch 53/200\n",
      "5/5 [==============================] - 0s 92ms/step - loss: 0.1719 - accuracy: 0.9438 - val_loss: 0.1537 - val_accuracy: 0.9438\n",
      "Epoch 54/200\n",
      "5/5 [==============================] - 0s 85ms/step - loss: 0.1635 - accuracy: 0.9445 - val_loss: 0.1896 - val_accuracy: 0.9391\n",
      "Epoch 55/200\n",
      "5/5 [==============================] - 0s 93ms/step - loss: 0.1984 - accuracy: 0.9328 - val_loss: 0.1695 - val_accuracy: 0.9344\n",
      "Epoch 56/200\n",
      "5/5 [==============================] - 0s 90ms/step - loss: 0.1870 - accuracy: 0.9434 - val_loss: 0.1767 - val_accuracy: 0.9422\n",
      "Epoch 57/200\n",
      "5/5 [==============================] - 1s 110ms/step - loss: 0.2337 - accuracy: 0.9211 - val_loss: 0.1683 - val_accuracy: 0.9375\n",
      "Epoch 58/200\n",
      "5/5 [==============================] - 0s 99ms/step - loss: 0.2022 - accuracy: 0.9352 - val_loss: 0.1706 - val_accuracy: 0.9328\n",
      "Epoch 59/200\n"
     ]
    },
    {
     "name": "stdout",
     "output_type": "stream",
     "text": [
      "5/5 [==============================] - 0s 88ms/step - loss: 0.1930 - accuracy: 0.9332 - val_loss: 0.1702 - val_accuracy: 0.9531\n",
      "Epoch 60/200\n",
      "5/5 [==============================] - 1s 100ms/step - loss: 0.1709 - accuracy: 0.9438 - val_loss: 0.1616 - val_accuracy: 0.9453\n",
      "Epoch 61/200\n",
      "5/5 [==============================] - 0s 87ms/step - loss: 0.1800 - accuracy: 0.9414 - val_loss: 0.1475 - val_accuracy: 0.9469\n",
      "Epoch 62/200\n",
      "5/5 [==============================] - 0s 84ms/step - loss: 0.1728 - accuracy: 0.9391 - val_loss: 0.1638 - val_accuracy: 0.9328\n",
      "Epoch 63/200\n",
      "5/5 [==============================] - 0s 90ms/step - loss: 0.1840 - accuracy: 0.9379 - val_loss: 0.1513 - val_accuracy: 0.9516\n",
      "Epoch 64/200\n",
      "5/5 [==============================] - 0s 96ms/step - loss: 0.1626 - accuracy: 0.9438 - val_loss: 0.1566 - val_accuracy: 0.9406\n",
      "Epoch 65/200\n",
      "5/5 [==============================] - 0s 98ms/step - loss: 0.1586 - accuracy: 0.9480 - val_loss: 0.1344 - val_accuracy: 0.9422\n",
      "Epoch 66/200\n",
      "5/5 [==============================] - 0s 95ms/step - loss: 0.1491 - accuracy: 0.9512 - val_loss: 0.1408 - val_accuracy: 0.9547\n",
      "Epoch 67/200\n",
      "5/5 [==============================] - 1s 104ms/step - loss: 0.1551 - accuracy: 0.9449 - val_loss: 0.1530 - val_accuracy: 0.9516\n",
      "Epoch 68/200\n",
      "5/5 [==============================] - 0s 89ms/step - loss: 0.1522 - accuracy: 0.9496 - val_loss: 0.1525 - val_accuracy: 0.9469\n",
      "Epoch 69/200\n",
      "5/5 [==============================] - 0s 89ms/step - loss: 0.1524 - accuracy: 0.9473 - val_loss: 0.1429 - val_accuracy: 0.9500\n",
      "Epoch 70/200\n",
      "5/5 [==============================] - 0s 92ms/step - loss: 0.1403 - accuracy: 0.9512 - val_loss: 0.1389 - val_accuracy: 0.9484\n",
      "Epoch 71/200\n",
      "5/5 [==============================] - 0s 96ms/step - loss: 0.1359 - accuracy: 0.9566 - val_loss: 0.1419 - val_accuracy: 0.9531\n",
      "Epoch 72/200\n",
      "5/5 [==============================] - 0s 91ms/step - loss: 0.1409 - accuracy: 0.9508 - val_loss: 0.1391 - val_accuracy: 0.9500\n",
      "Epoch 73/200\n",
      "5/5 [==============================] - 0s 96ms/step - loss: 0.1358 - accuracy: 0.9563 - val_loss: 0.1322 - val_accuracy: 0.9516\n",
      "Epoch 74/200\n",
      "5/5 [==============================] - 1s 100ms/step - loss: 0.1456 - accuracy: 0.9500 - val_loss: 0.1495 - val_accuracy: 0.9453\n",
      "Epoch 75/200\n",
      "5/5 [==============================] - 0s 88ms/step - loss: 0.1514 - accuracy: 0.9477 - val_loss: 0.1412 - val_accuracy: 0.9438\n",
      "Epoch 76/200\n",
      "5/5 [==============================] - 0s 87ms/step - loss: 0.1470 - accuracy: 0.9477 - val_loss: 0.1290 - val_accuracy: 0.9469\n",
      "Epoch 77/200\n",
      "5/5 [==============================] - 0s 85ms/step - loss: 0.1340 - accuracy: 0.9551 - val_loss: 0.1494 - val_accuracy: 0.9594\n",
      "Epoch 78/200\n",
      "5/5 [==============================] - 0s 98ms/step - loss: 0.1324 - accuracy: 0.9563 - val_loss: 0.1221 - val_accuracy: 0.9531\n",
      "Epoch 79/200\n",
      "5/5 [==============================] - 0s 94ms/step - loss: 0.1398 - accuracy: 0.9496 - val_loss: 0.1648 - val_accuracy: 0.9438\n",
      "Epoch 80/200\n",
      "5/5 [==============================] - 0s 87ms/step - loss: 0.1489 - accuracy: 0.9516 - val_loss: 0.1394 - val_accuracy: 0.9578\n",
      "Epoch 81/200\n",
      "5/5 [==============================] - 1s 100ms/step - loss: 0.1391 - accuracy: 0.9508 - val_loss: 0.1295 - val_accuracy: 0.9625\n",
      "Epoch 82/200\n",
      "5/5 [==============================] - 0s 85ms/step - loss: 0.1379 - accuracy: 0.9547 - val_loss: 0.1256 - val_accuracy: 0.9578\n",
      "Epoch 83/200\n",
      "5/5 [==============================] - 0s 87ms/step - loss: 0.1325 - accuracy: 0.9523 - val_loss: 0.1336 - val_accuracy: 0.9609\n",
      "Epoch 84/200\n",
      "5/5 [==============================] - 0s 89ms/step - loss: 0.1282 - accuracy: 0.9566 - val_loss: 0.1229 - val_accuracy: 0.9469\n",
      "Epoch 85/200\n",
      "5/5 [==============================] - 0s 97ms/step - loss: 0.1273 - accuracy: 0.9570 - val_loss: 0.1402 - val_accuracy: 0.9531\n",
      "Epoch 86/200\n",
      "5/5 [==============================] - 1s 107ms/step - loss: 0.1243 - accuracy: 0.9590 - val_loss: 0.1238 - val_accuracy: 0.9516\n",
      "Epoch 87/200\n",
      "5/5 [==============================] - 0s 97ms/step - loss: 0.1180 - accuracy: 0.9590 - val_loss: 0.1339 - val_accuracy: 0.9625\n",
      "Epoch 88/200\n",
      "5/5 [==============================] - 1s 259ms/step - loss: 0.1272 - accuracy: 0.9574 - val_loss: 0.1295 - val_accuracy: 0.9547\n",
      "Epoch 89/200\n",
      "5/5 [==============================] - 0s 91ms/step - loss: 0.1186 - accuracy: 0.9621 - val_loss: 0.1206 - val_accuracy: 0.9531\n",
      "Epoch 90/200\n",
      "5/5 [==============================] - 0s 91ms/step - loss: 0.1232 - accuracy: 0.9566 - val_loss: 0.1145 - val_accuracy: 0.9563\n",
      "Epoch 91/200\n",
      "5/5 [==============================] - 1s 100ms/step - loss: 0.1144 - accuracy: 0.9594 - val_loss: 0.1213 - val_accuracy: 0.9594\n",
      "Epoch 92/200\n",
      "5/5 [==============================] - 0s 99ms/step - loss: 0.1097 - accuracy: 0.9602 - val_loss: 0.1101 - val_accuracy: 0.9625\n",
      "Epoch 93/200\n",
      "5/5 [==============================] - 0s 88ms/step - loss: 0.1078 - accuracy: 0.9672 - val_loss: 0.1085 - val_accuracy: 0.9578\n",
      "Epoch 94/200\n",
      "5/5 [==============================] - 1s 100ms/step - loss: 0.1124 - accuracy: 0.9555 - val_loss: 0.1169 - val_accuracy: 0.9594\n",
      "Epoch 95/200\n",
      "5/5 [==============================] - 0s 85ms/step - loss: 0.1093 - accuracy: 0.9641 - val_loss: 0.1133 - val_accuracy: 0.9625\n",
      "Epoch 96/200\n",
      "5/5 [==============================] - 0s 91ms/step - loss: 0.1026 - accuracy: 0.9664 - val_loss: 0.1086 - val_accuracy: 0.9563\n",
      "Epoch 97/200\n",
      "5/5 [==============================] - 0s 87ms/step - loss: 0.1115 - accuracy: 0.9602 - val_loss: 0.1257 - val_accuracy: 0.9578\n",
      "Epoch 98/200\n",
      "5/5 [==============================] - 0s 96ms/step - loss: 0.1071 - accuracy: 0.9641 - val_loss: 0.1031 - val_accuracy: 0.9641\n",
      "Epoch 99/200\n",
      "5/5 [==============================] - 0s 96ms/step - loss: 0.1069 - accuracy: 0.9637 - val_loss: 0.1043 - val_accuracy: 0.9609\n",
      "Epoch 100/200\n",
      "5/5 [==============================] - 0s 93ms/step - loss: 0.1035 - accuracy: 0.9641 - val_loss: 0.1076 - val_accuracy: 0.9578\n",
      "Epoch 101/200\n",
      "5/5 [==============================] - 1s 101ms/step - loss: 0.1050 - accuracy: 0.9629 - val_loss: 0.1168 - val_accuracy: 0.9547\n",
      "Epoch 102/200\n",
      "5/5 [==============================] - 0s 87ms/step - loss: 0.1071 - accuracy: 0.9633 - val_loss: 0.1193 - val_accuracy: 0.9609\n",
      "Epoch 103/200\n",
      "5/5 [==============================] - 0s 89ms/step - loss: 0.1407 - accuracy: 0.9504 - val_loss: 0.1059 - val_accuracy: 0.9594\n",
      "Epoch 104/200\n",
      "5/5 [==============================] - 0s 96ms/step - loss: 0.1304 - accuracy: 0.9563 - val_loss: 0.1076 - val_accuracy: 0.9578\n",
      "Epoch 105/200\n",
      "5/5 [==============================] - 1s 101ms/step - loss: 0.1174 - accuracy: 0.9605 - val_loss: 0.1148 - val_accuracy: 0.9547\n",
      "Epoch 106/200\n",
      "5/5 [==============================] - 1s 102ms/step - loss: 0.1223 - accuracy: 0.9559 - val_loss: 0.1320 - val_accuracy: 0.9609\n",
      "Epoch 107/200\n",
      "5/5 [==============================] - 0s 88ms/step - loss: 0.1240 - accuracy: 0.9590 - val_loss: 0.1298 - val_accuracy: 0.9609\n",
      "Epoch 108/200\n",
      "5/5 [==============================] - 0s 100ms/step - loss: 0.1072 - accuracy: 0.9652 - val_loss: 0.1011 - val_accuracy: 0.9625\n",
      "Epoch 109/200\n",
      "5/5 [==============================] - 0s 88ms/step - loss: 0.1017 - accuracy: 0.9641 - val_loss: 0.1139 - val_accuracy: 0.9578\n",
      "Epoch 110/200\n",
      "5/5 [==============================] - 0s 88ms/step - loss: 0.0958 - accuracy: 0.9695 - val_loss: 0.0948 - val_accuracy: 0.9672\n",
      "Epoch 111/200\n",
      "5/5 [==============================] - 0s 96ms/step - loss: 0.0984 - accuracy: 0.9699 - val_loss: 0.1117 - val_accuracy: 0.9625\n",
      "Epoch 112/200\n",
      "5/5 [==============================] - 0s 98ms/step - loss: 0.0869 - accuracy: 0.9707 - val_loss: 0.0884 - val_accuracy: 0.9656\n",
      "Epoch 113/200\n",
      "5/5 [==============================] - 0s 94ms/step - loss: 0.0927 - accuracy: 0.9660 - val_loss: 0.0990 - val_accuracy: 0.9578\n",
      "Epoch 114/200\n",
      "5/5 [==============================] - 0s 93ms/step - loss: 0.0918 - accuracy: 0.9656 - val_loss: 0.0988 - val_accuracy: 0.9703\n",
      "Epoch 115/200\n",
      "5/5 [==============================] - 0s 91ms/step - loss: 0.0947 - accuracy: 0.9668 - val_loss: 0.0970 - val_accuracy: 0.9641\n",
      "Epoch 116/200\n",
      "5/5 [==============================] - 0s 87ms/step - loss: 0.0831 - accuracy: 0.9723 - val_loss: 0.0929 - val_accuracy: 0.9656\n"
     ]
    },
    {
     "name": "stdout",
     "output_type": "stream",
     "text": [
      "Epoch 117/200\n",
      "5/5 [==============================] - 0s 84ms/step - loss: 0.0826 - accuracy: 0.9727 - val_loss: 0.0930 - val_accuracy: 0.9672\n",
      "Epoch 118/200\n",
      "5/5 [==============================] - 0s 93ms/step - loss: 0.0870 - accuracy: 0.9754 - val_loss: 0.0907 - val_accuracy: 0.9688\n",
      "Epoch 119/200\n",
      "5/5 [==============================] - 0s 99ms/step - loss: 0.1197 - accuracy: 0.9582 - val_loss: 0.3744 - val_accuracy: 0.8500\n",
      "Epoch 120/200\n",
      "5/5 [==============================] - 0s 98ms/step - loss: 0.4141 - accuracy: 0.8699 - val_loss: 0.1564 - val_accuracy: 0.9391\n",
      "Epoch 121/200\n",
      "5/5 [==============================] - 1s 107ms/step - loss: 0.2231 - accuracy: 0.9223 - val_loss: 0.1957 - val_accuracy: 0.9344\n",
      "Epoch 122/200\n",
      "5/5 [==============================] - 0s 96ms/step - loss: 0.2179 - accuracy: 0.9266 - val_loss: 0.1581 - val_accuracy: 0.9359\n",
      "Epoch 123/200\n",
      "5/5 [==============================] - 0s 88ms/step - loss: 0.1862 - accuracy: 0.9367 - val_loss: 0.1624 - val_accuracy: 0.9406\n",
      "Epoch 124/200\n",
      "5/5 [==============================] - 0s 92ms/step - loss: 0.1577 - accuracy: 0.9461 - val_loss: 0.1269 - val_accuracy: 0.9594\n",
      "Epoch 125/200\n",
      "5/5 [==============================] - 1s 102ms/step - loss: 0.1489 - accuracy: 0.9492 - val_loss: 0.1340 - val_accuracy: 0.9500\n",
      "Epoch 126/200\n",
      "5/5 [==============================] - 0s 92ms/step - loss: 0.1451 - accuracy: 0.9512 - val_loss: 0.1263 - val_accuracy: 0.9563\n",
      "Epoch 127/200\n",
      "5/5 [==============================] - 1s 101ms/step - loss: 0.1322 - accuracy: 0.9547 - val_loss: 0.1298 - val_accuracy: 0.9547\n",
      "Epoch 128/200\n",
      "5/5 [==============================] - 0s 95ms/step - loss: 0.1206 - accuracy: 0.9570 - val_loss: 0.1111 - val_accuracy: 0.9641\n",
      "Epoch 129/200\n",
      "5/5 [==============================] - 0s 88ms/step - loss: 0.1110 - accuracy: 0.9629 - val_loss: 0.1093 - val_accuracy: 0.9625\n",
      "Epoch 130/200\n",
      "5/5 [==============================] - 0s 83ms/step - loss: 0.1111 - accuracy: 0.9637 - val_loss: 0.1004 - val_accuracy: 0.9625\n",
      "Epoch 131/200\n",
      "5/5 [==============================] - 0s 91ms/step - loss: 0.1149 - accuracy: 0.9590 - val_loss: 0.1151 - val_accuracy: 0.9594\n",
      "Epoch 132/200\n",
      "5/5 [==============================] - 0s 99ms/step - loss: 0.1291 - accuracy: 0.9566 - val_loss: 0.1192 - val_accuracy: 0.9563\n",
      "Epoch 133/200\n",
      "5/5 [==============================] - 1s 104ms/step - loss: 0.1203 - accuracy: 0.9590 - val_loss: 0.1206 - val_accuracy: 0.9594\n",
      "Epoch 134/200\n",
      "5/5 [==============================] - 0s 100ms/step - loss: 0.1111 - accuracy: 0.9621 - val_loss: 0.1167 - val_accuracy: 0.9656\n",
      "Epoch 135/200\n",
      "5/5 [==============================] - 0s 98ms/step - loss: 0.1166 - accuracy: 0.9602 - val_loss: 0.1044 - val_accuracy: 0.9688\n",
      "Epoch 136/200\n",
      "5/5 [==============================] - 0s 94ms/step - loss: 0.0961 - accuracy: 0.9652 - val_loss: 0.1074 - val_accuracy: 0.9641\n",
      "Epoch 137/200\n",
      "5/5 [==============================] - 0s 86ms/step - loss: 0.1093 - accuracy: 0.9648 - val_loss: 0.1096 - val_accuracy: 0.9656\n",
      "Epoch 138/200\n",
      "5/5 [==============================] - 0s 88ms/step - loss: 0.0991 - accuracy: 0.9688 - val_loss: 0.0977 - val_accuracy: 0.9656\n",
      "Epoch 139/200\n",
      "5/5 [==============================] - 0s 99ms/step - loss: 0.1008 - accuracy: 0.9684 - val_loss: 0.1071 - val_accuracy: 0.9688\n",
      "Epoch 140/200\n",
      "5/5 [==============================] - 1s 102ms/step - loss: 0.0900 - accuracy: 0.9730 - val_loss: 0.1016 - val_accuracy: 0.9609\n",
      "Epoch 141/200\n",
      "5/5 [==============================] - 0s 96ms/step - loss: 0.0994 - accuracy: 0.9656 - val_loss: 0.0911 - val_accuracy: 0.9641\n",
      "Epoch 142/200\n",
      "5/5 [==============================] - 1s 102ms/step - loss: 0.0839 - accuracy: 0.9719 - val_loss: 0.0917 - val_accuracy: 0.9672\n",
      "Epoch 143/200\n",
      "5/5 [==============================] - 0s 90ms/step - loss: 0.0892 - accuracy: 0.9762 - val_loss: 0.0854 - val_accuracy: 0.9734\n",
      "Epoch 144/200\n",
      "5/5 [==============================] - 0s 94ms/step - loss: 0.0841 - accuracy: 0.9727 - val_loss: 0.0981 - val_accuracy: 0.9656\n",
      "Epoch 145/200\n",
      "5/5 [==============================] - 0s 89ms/step - loss: 0.0843 - accuracy: 0.9719 - val_loss: 0.1072 - val_accuracy: 0.9641\n",
      "Epoch 146/200\n",
      "5/5 [==============================] - 1s 103ms/step - loss: 0.0876 - accuracy: 0.9723 - val_loss: 0.0976 - val_accuracy: 0.9672\n",
      "Epoch 147/200\n",
      "5/5 [==============================] - 0s 88ms/step - loss: 0.0900 - accuracy: 0.9707 - val_loss: 0.0988 - val_accuracy: 0.9688\n",
      "Epoch 148/200\n",
      "5/5 [==============================] - 0s 90ms/step - loss: 0.0867 - accuracy: 0.9734 - val_loss: 0.0918 - val_accuracy: 0.9719\n",
      "Epoch 149/200\n",
      "5/5 [==============================] - 1s 107ms/step - loss: 0.0826 - accuracy: 0.9750 - val_loss: 0.0886 - val_accuracy: 0.9688\n",
      "Epoch 150/200\n",
      "5/5 [==============================] - 0s 91ms/step - loss: 0.0880 - accuracy: 0.9699 - val_loss: 0.0998 - val_accuracy: 0.9656\n",
      "Epoch 151/200\n",
      "5/5 [==============================] - 0s 97ms/step - loss: 0.0926 - accuracy: 0.9688 - val_loss: 0.0956 - val_accuracy: 0.9672\n",
      "Epoch 152/200\n",
      "5/5 [==============================] - 0s 99ms/step - loss: 0.0882 - accuracy: 0.9711 - val_loss: 0.0995 - val_accuracy: 0.9688\n",
      "Epoch 153/200\n",
      "5/5 [==============================] - 0s 98ms/step - loss: 0.0834 - accuracy: 0.9746 - val_loss: 0.1002 - val_accuracy: 0.9672\n",
      "Epoch 154/200\n",
      "5/5 [==============================] - 0s 92ms/step - loss: 0.0864 - accuracy: 0.9711 - val_loss: 0.0889 - val_accuracy: 0.9688\n",
      "Epoch 155/200\n",
      "5/5 [==============================] - 0s 92ms/step - loss: 0.0789 - accuracy: 0.9742 - val_loss: 0.0927 - val_accuracy: 0.9688\n",
      "Epoch 156/200\n",
      "5/5 [==============================] - 0s 98ms/step - loss: 0.0715 - accuracy: 0.9770 - val_loss: 0.0962 - val_accuracy: 0.9688\n",
      "Epoch 157/200\n",
      "5/5 [==============================] - 0s 92ms/step - loss: 0.0800 - accuracy: 0.9727 - val_loss: 0.0849 - val_accuracy: 0.9672\n",
      "Epoch 158/200\n",
      "5/5 [==============================] - 0s 91ms/step - loss: 0.0821 - accuracy: 0.9715 - val_loss: 0.0877 - val_accuracy: 0.9688\n",
      "Epoch 159/200\n",
      "5/5 [==============================] - 0s 91ms/step - loss: 0.0780 - accuracy: 0.9754 - val_loss: 0.0915 - val_accuracy: 0.9641\n",
      "Epoch 160/200\n",
      "5/5 [==============================] - 1s 104ms/step - loss: 0.0744 - accuracy: 0.9773 - val_loss: 0.0810 - val_accuracy: 0.9750\n",
      "Epoch 161/200\n",
      "5/5 [==============================] - 1s 100ms/step - loss: 0.0782 - accuracy: 0.9754 - val_loss: 0.0839 - val_accuracy: 0.9719\n",
      "Epoch 162/200\n",
      "5/5 [==============================] - 1s 105ms/step - loss: 0.0746 - accuracy: 0.9750 - val_loss: 0.0854 - val_accuracy: 0.9703\n",
      "Epoch 163/200\n",
      "5/5 [==============================] - 0s 98ms/step - loss: 0.0768 - accuracy: 0.9754 - val_loss: 0.0838 - val_accuracy: 0.9719\n",
      "Epoch 164/200\n",
      "5/5 [==============================] - 0s 92ms/step - loss: 0.0696 - accuracy: 0.9785 - val_loss: 0.0813 - val_accuracy: 0.9719\n",
      "Epoch 165/200\n",
      "5/5 [==============================] - 0s 93ms/step - loss: 0.0685 - accuracy: 0.9801 - val_loss: 0.0882 - val_accuracy: 0.9688\n",
      "Epoch 166/200\n",
      "5/5 [==============================] - 1s 103ms/step - loss: 0.0675 - accuracy: 0.9766 - val_loss: 0.0834 - val_accuracy: 0.9719\n",
      "Epoch 167/200\n",
      "5/5 [==============================] - 1s 107ms/step - loss: 0.0732 - accuracy: 0.9730 - val_loss: 0.0954 - val_accuracy: 0.9672\n",
      "Epoch 168/200\n",
      "5/5 [==============================] - 0s 99ms/step - loss: 0.0880 - accuracy: 0.9719 - val_loss: 0.0858 - val_accuracy: 0.9688\n",
      "Epoch 169/200\n",
      "5/5 [==============================] - 1s 103ms/step - loss: 0.0731 - accuracy: 0.9758 - val_loss: 0.0768 - val_accuracy: 0.9750\n",
      "Epoch 170/200\n",
      "5/5 [==============================] - 0s 92ms/step - loss: 0.0740 - accuracy: 0.9746 - val_loss: 0.0784 - val_accuracy: 0.9781\n",
      "Epoch 171/200\n",
      "5/5 [==============================] - 0s 87ms/step - loss: 0.0704 - accuracy: 0.9785 - val_loss: 0.0844 - val_accuracy: 0.9734\n",
      "Epoch 172/200\n",
      "5/5 [==============================] - 0s 91ms/step - loss: 0.0654 - accuracy: 0.9797 - val_loss: 0.0778 - val_accuracy: 0.9688\n",
      "Epoch 173/200\n",
      "5/5 [==============================] - 0s 94ms/step - loss: 0.0728 - accuracy: 0.9766 - val_loss: 0.0812 - val_accuracy: 0.9719\n",
      "Epoch 174/200\n"
     ]
    },
    {
     "name": "stdout",
     "output_type": "stream",
     "text": [
      "5/5 [==============================] - 1s 103ms/step - loss: 0.0714 - accuracy: 0.9750 - val_loss: 0.0776 - val_accuracy: 0.9719\n",
      "Epoch 175/200\n",
      "5/5 [==============================] - 0s 93ms/step - loss: 0.0628 - accuracy: 0.9820 - val_loss: 0.0868 - val_accuracy: 0.9703\n",
      "Epoch 176/200\n",
      "5/5 [==============================] - 1s 107ms/step - loss: 0.0749 - accuracy: 0.9730 - val_loss: 0.0796 - val_accuracy: 0.9688\n",
      "Epoch 177/200\n",
      "5/5 [==============================] - 0s 86ms/step - loss: 0.0794 - accuracy: 0.9758 - val_loss: 0.0864 - val_accuracy: 0.9703\n",
      "Epoch 178/200\n",
      "5/5 [==============================] - 0s 91ms/step - loss: 0.0780 - accuracy: 0.9730 - val_loss: 0.0798 - val_accuracy: 0.9703\n",
      "Epoch 179/200\n",
      "5/5 [==============================] - 0s 88ms/step - loss: 0.0715 - accuracy: 0.9742 - val_loss: 0.0839 - val_accuracy: 0.9734\n",
      "Epoch 180/200\n",
      "5/5 [==============================] - 1s 103ms/step - loss: 0.0693 - accuracy: 0.9762 - val_loss: 0.0777 - val_accuracy: 0.9656\n",
      "Epoch 181/200\n",
      "5/5 [==============================] - 1s 101ms/step - loss: 0.0607 - accuracy: 0.9793 - val_loss: 0.0827 - val_accuracy: 0.9781\n",
      "Epoch 182/200\n",
      "5/5 [==============================] - 0s 96ms/step - loss: 0.0642 - accuracy: 0.9820 - val_loss: 0.0798 - val_accuracy: 0.9703\n",
      "Epoch 183/200\n",
      "5/5 [==============================] - 1s 107ms/step - loss: 0.0598 - accuracy: 0.9836 - val_loss: 0.0871 - val_accuracy: 0.9719\n",
      "Epoch 184/200\n",
      "5/5 [==============================] - 0s 91ms/step - loss: 0.0652 - accuracy: 0.9805 - val_loss: 0.0921 - val_accuracy: 0.9656\n",
      "Epoch 185/200\n",
      "5/5 [==============================] - 0s 89ms/step - loss: 0.0732 - accuracy: 0.9746 - val_loss: 0.0924 - val_accuracy: 0.9734\n",
      "Epoch 186/200\n",
      "5/5 [==============================] - 0s 94ms/step - loss: 0.0648 - accuracy: 0.9809 - val_loss: 0.0953 - val_accuracy: 0.9641\n",
      "Epoch 187/200\n",
      "5/5 [==============================] - 0s 99ms/step - loss: 0.0642 - accuracy: 0.9793 - val_loss: 0.0847 - val_accuracy: 0.9719\n",
      "Epoch 188/200\n",
      "5/5 [==============================] - 1s 114ms/step - loss: 0.0658 - accuracy: 0.9793 - val_loss: 0.0731 - val_accuracy: 0.9734\n",
      "Epoch 189/200\n",
      "5/5 [==============================] - 0s 95ms/step - loss: 0.0594 - accuracy: 0.9820 - val_loss: 0.0897 - val_accuracy: 0.9672\n",
      "Epoch 190/200\n"
     ]
    }
   ],
   "source": [
    "CNNmodel = cnn.fit({\"spectra\":cube_train2, \"spatial\":xy_train}, cube_train_labels, \n",
    "                     validation_data=({\"spectra\":cube_test2, \"spatial\":xy_test}, cube_test_labels),\n",
    "                     epochs=200, batch_size=512)"
   ]
  },
  {
   "cell_type": "code",
   "execution_count": null,
   "metadata": {},
   "outputs": [],
   "source": [
    "plot_loss_history(CNNmodel)"
   ]
  },
  {
   "cell_type": "code",
   "execution_count": null,
   "metadata": {
    "scrolled": true
   },
   "outputs": [],
   "source": [
    "cnn = CNN_Model(cube_std_3d.shape[2])\n",
    "cnn.compile(optimizer=\"adam\", loss=\"sparse_categorical_crossentropy\",\n",
    "             metrics=[\"accuracy\"])\n",
    "CNNmodel = cnn.fit({\"spectra\":cube_train2, \"spatial\":xy_train}, cube_train_labels, \n",
    "                     validation_data=({\"spectra\":cube_test2, \"spatial\":xy_test}, cube_test_labels),\n",
    "                     epochs=110, batch_size=512)"
   ]
  },
  {
   "cell_type": "code",
   "execution_count": null,
   "metadata": {},
   "outputs": [],
   "source": [
    "# model accuracy on training and testing sets\n",
    "\n",
    "train_loss, train_acc = cnn.evaluate({\"spectra\":cube_train2, \"spatial\":xy_train}, cube_train_labels)\n",
    "test_loss, test_acc = cnn.evaluate({\"spectra\":cube_test2, \"spatial\":xy_test}, cube_test_labels)\n",
    "\n",
    "print(train_acc, test_acc)"
   ]
  },
  {
   "cell_type": "markdown",
   "metadata": {},
   "source": [
    "### Predict pixel classification on veg_00108"
   ]
  },
  {
   "cell_type": "code",
   "execution_count": null,
   "metadata": {},
   "outputs": [],
   "source": [
    "cube_standard_1 = cube_standard.reshape(cube_standard.shape[0], cube_standard.shape[1], 1)\n",
    "print(cube_standard_1.shape)\n",
    "xy_2d = xy.reshape((xy.shape[0] * xy.shape[1]), xy.shape[2])\n",
    "print(xy_2d.shape)"
   ]
  },
  {
   "cell_type": "code",
   "execution_count": null,
   "metadata": {},
   "outputs": [],
   "source": [
    "# classify entire binned cube\n",
    "import time\n",
    "start_time = time.time()\n",
    "\n",
    "probCube = cnn.predict({\"spectra\":cube_standard_1, \"spatial\":xy_2d})\n",
    "\n",
    "elapsed_time = time.time() - start_time\n",
    "print(time.strftime(\"%H:%M:%S\", time.gmtime(elapsed_time)))"
   ]
  },
  {
   "cell_type": "code",
   "execution_count": null,
   "metadata": {},
   "outputs": [],
   "source": [
    "predictCube = probCube.argmax(axis=-1)"
   ]
  },
  {
   "cell_type": "code",
   "execution_count": null,
   "metadata": {},
   "outputs": [],
   "source": [
    "predictCube_reshape = predictCube.reshape(cube_sub.shape[1], cube_sub.shape[2])"
   ]
  },
  {
   "cell_type": "code",
   "execution_count": null,
   "metadata": {},
   "outputs": [],
   "source": [
    "import matplotlib.pyplot as plt\n",
    "import matplotlib.colors as ListedColorMap\n",
    "import matplotlib.patches as mpatches\n",
    "from matplotlib.ticker import NullFormatter\n",
    "%matplotlib inline\n",
    "\n",
    "cmap = {0:[0,0.32549,0.62353,1], 1:[0.93333,0.9098,0.77255,1], 2:[0,0.61961,0.45098,1],  3:[0.33725,0.70588,0.91373,1],\n",
    "        4:[0,0,0,1], 5:[1,0.82353,0,1], 6:[0.90196,0.62353,0,1], 7:[0.83529,0.36863,0,1],\n",
    "        8:[0.8,0.47451,0.65490,1]}\n",
    "labels = {0:'sky', 1:'clouds', 2:'vegetation', 3:'water', 4:'built',\n",
    "          5:'windows', 6:'roads', 7:'cars', 8:'metal'}\n",
    "arrayShow = np.array([[cmap[i] for i in j] for j in predictCube_reshape])\n",
    "patches = [mpatches.Patch(color=cmap[i], label=labels[i]) for i in cmap]\n",
    "\n",
    "fig = plt.figure(figsize=(15,15))\n",
    "ax = fig.add_axes([0.1,0.1,0.9,0.9])\n",
    "ax.tick_params(labelsize=10)\n",
    "ax.imshow(arrayShow, aspect=0.5)\n",
    "lgd = ax.legend(handles=patches, bbox_to_anchor=(1,0.75), loc='upper left', borderaxespad=1.0, prop={'size':10}, ncol=1)\n",
    "plt.show()\n",
    "#fig.savefig(\"./plots/CNN_change_params_spatial_train_all_1_108_predict_map.png\", bbox_extra_artists=(lgd,), bbox_inches='tight')"
   ]
  },
  {
   "cell_type": "code",
   "execution_count": null,
   "metadata": {},
   "outputs": [],
   "source": [
    "import matplotlib.pyplot as plt\n",
    "import matplotlib.colors as ListedColorMap\n",
    "import matplotlib.patches as mpatches\n",
    "from matplotlib.ticker import NullFormatter\n",
    "%matplotlib inline\n",
    "\n",
    "cmap = {0:[0,0.32549,0.62353,1], 1:[0.93333,0.9098,0.77255,1], 2:[0,0.61961,0.45098,1],  3:[0.33725,0.70588,0.91373,1],\n",
    "        4:[0,0,0,1], 5:[1,0.82353,0,1], 6:[0.90196,0.62353,0,1], 7:[0.83529,0.36863,0,1],\n",
    "        8:[0.8,0.47451,0.65490,1]}\n",
    "labels = {0:'sky', 1:'clouds', 2:'vegetation', 3:'water', 4:'built',\n",
    "          5:'windows', 6:'roads', 7:'cars', 8:'metal'}\n",
    "arrayShow = np.array([[cmap[i] for i in j] for j in predictCube_reshape])\n",
    "patches = [mpatches.Patch(color=cmap[i], label=labels[i]) for i in cmap]\n",
    "\n",
    "fig = plt.figure(figsize=(15,15))\n",
    "#ax = fig.add_axes([0.1,0.1,0.9,0.9])\n",
    "#ax.tick_params(labelsize=10)\n",
    "plt.imshow(arrayShow, aspect=0.5)\n",
    "#lgd = ax.legend(handles=patches, bbox_to_anchor=(1,0.75), loc='upper left', borderaxespad=1.0, prop={'size':10}, ncol=1)\n",
    "plt.axis('off')\n",
    "plt.show()\n",
    "fig.savefig(\"./plots/CNN_Model2_spatial_train_108_binned_{0)_test_108_predict_map.png\".format(num_of_bins),\n",
    "            bbox_inches='tight')"
   ]
  },
  {
   "cell_type": "code",
   "execution_count": null,
   "metadata": {},
   "outputs": [],
   "source": [
    "import pickle\n",
    "pickle.dump(predictCube_reshape,\n",
    "            open(\"./plots/CNN_Model2_spatial_train_108_binned_{0)_test_108_predict_map.pickle\".format(num_of_bins), \"wb\"))"
   ]
  },
  {
   "cell_type": "markdown",
   "metadata": {},
   "source": [
    "### Evaluation Metrics (veg_00108)"
   ]
  },
  {
   "cell_type": "code",
   "execution_count": null,
   "metadata": {},
   "outputs": [],
   "source": [
    "labels_pred_sky = predictCube_reshape[sky_coords[sky_test_ind[:], 0], sky_coords[sky_test_ind[:], 1]]\n",
    "labels_pred_clouds = predictCube_reshape[clouds_coords[clouds_test_ind[:], 0], clouds_coords[clouds_test_ind[:],1]]\n",
    "labels_pred_veg = predictCube_reshape[veg_coords[veg_test_ind[:],0], veg_coords[veg_test_ind[:],1]]\n",
    "labels_pred_wtr = predictCube_reshape[wtr_coords[wtr_test_ind[:],0], wtr_coords[wtr_test_ind[:],1]]\n",
    "labels_pred_blt = predictCube_reshape[blt_coords[blt_test_ind[:],0], blt_coords[blt_test_ind[:],1]]\n",
    "labels_pred_windows = predictCube_reshape[windows_coords[windows_test_ind[:],0], windows_coords[windows_test_ind[:],1]]\n",
    "labels_pred_rds = predictCube_reshape[rds_coords[rds_test_ind[:],0], rds_coords[rds_test_ind[:],1]]\n",
    "labels_pred_cars = predictCube_reshape[cars_coords[cars_test_ind[:],0], cars_coords[cars_test_ind[:],1]]\n",
    "labels_pred_mtl = predictCube_reshape[mtl_coords[mtl_test_ind[:],0], mtl_coords[mtl_test_ind[:],1]]\n",
    "\n",
    "labels_pred = np.concatenate((labels_pred_sky, labels_pred_clouds, labels_pred_veg, labels_pred_wtr, \n",
    "                             labels_pred_blt, labels_pred_windows, labels_pred_rds, labels_pred_cars, labels_pred_mtl))"
   ]
  },
  {
   "cell_type": "code",
   "execution_count": null,
   "metadata": {},
   "outputs": [],
   "source": [
    "labels_true_sky = np.full(len(sky_test_ind), 0)\n",
    "labels_true_clouds = np.full(len(clouds_test_ind), 1)\n",
    "labels_true_veg = np.full(len(veg_test_ind), 2)\n",
    "labels_true_wtr = np.full(len(wtr_test_ind), 3)\n",
    "labels_true_blt = np.full(len(blt_test_ind), 4)\n",
    "labels_true_windows = np.full(len(windows_test_ind), 5)\n",
    "labels_true_rds = np.full(len(rds_test_ind), 6)\n",
    "labels_true_cars = np.full(len(cars_test_ind), 7)\n",
    "labels_true_mtl = np.full(len(mtl_test_ind), 8)\n",
    "\n",
    "labels_true = np.concatenate((labels_true_sky, labels_true_clouds, labels_true_veg, labels_true_wtr, \n",
    "                             labels_true_blt, labels_true_windows, labels_true_rds, labels_true_cars, labels_true_mtl))"
   ]
  },
  {
   "cell_type": "code",
   "execution_count": null,
   "metadata": {},
   "outputs": [],
   "source": [
    "print(labels_pred.shape)\n",
    "print(labels_true.shape)"
   ]
  },
  {
   "cell_type": "code",
   "execution_count": null,
   "metadata": {},
   "outputs": [],
   "source": [
    "from sklearn import metrics\n",
    "\n",
    "print(\"Confusion Matrix\")\n",
    "print(metrics.confusion_matrix(labels_true, labels_pred))\n",
    "\n",
    "print(\"\")\n",
    "print(\"Accuracy Score\")\n",
    "print(metrics.accuracy_score(labels_true, labels_pred))\n",
    "\n",
    "target_names = ['sky', 'clouds', 'vegetation', 'water', 'built', 'windows', 'roads', 'cars', 'metal']\n",
    "print(\"\")\n",
    "print(\"Classification Report\")\n",
    "print(metrics.classification_report(labels_true, labels_pred, target_names=target_names))"
   ]
  },
  {
   "cell_type": "code",
   "execution_count": null,
   "metadata": {},
   "outputs": [],
   "source": [
    "f = open(\"./metrics/CNN_Model2_spatial_train_108_binned_{0)_test_108_metrics.txt\".format(num_of_bins), \"w\")\n",
    "f.write(\"Confusion Matrix\")\n",
    "f.write('\\n')\n",
    "f.write(str(metrics.confusion_matrix(labels_true, labels_pred)))\n",
    "f.write('\\n')\n",
    "f.write('\\n')\n",
    "f.write(\"Accuracy Score\")\n",
    "f.write('\\n')\n",
    "f.write(str(metrics.accuracy_score(labels_true, labels_pred)))\n",
    "target_names = ['sky', 'clouds', 'vegetation', 'water', 'built', 'windows', 'roads', 'cars', 'metal']\n",
    "f.write('\\n')\n",
    "f.write('\\n')\n",
    "f.write(\"Classification Report\")\n",
    "f.write('\\n')\n",
    "f.write(metrics.classification_report(labels_true, labels_pred, target_names=target_names))\n",
    "f.close()"
   ]
  },
  {
   "cell_type": "markdown",
   "metadata": {},
   "source": [
    "---\n",
    "## CNN trained on veg_00000 (Scene 1-b South Facing @ ~6pm)"
   ]
  },
  {
   "cell_type": "code",
   "execution_count": null,
   "metadata": {},
   "outputs": [],
   "source": [
    "fname0 = \"../../image_files/veg_00000.raw\"\n",
    "cube0 = read_hyper(fname0)"
   ]
  },
  {
   "cell_type": "code",
   "execution_count": null,
   "metadata": {},
   "outputs": [],
   "source": [
    "cube_sub0 = cube0.data[:, :, :].astype(float)\n",
    "print(cube_sub0.shape)"
   ]
  },
  {
   "cell_type": "code",
   "execution_count": null,
   "metadata": {},
   "outputs": [],
   "source": [
    "cube_reshaped0 = cube_sub0.transpose(1, 2, 0).reshape((cube_sub0.shape[1] * cube_sub0.shape[2]), cube_sub0.shape[0])\n",
    "print(cube_reshaped0.shape)"
   ]
  },
  {
   "cell_type": "code",
   "execution_count": null,
   "metadata": {},
   "outputs": [],
   "source": [
    "cube_norm0 = (cube_reshaped0 - cube_reshaped0.min()) / (cube_reshaped0.max() - cube_reshaped0.min())\n",
    "\n",
    "import matplotlib.pyplot as plt\n",
    "%matplotlib inline\n",
    "\n",
    "red_ind0 = (np.abs(cube0.waves - 650.0)).argmin()\n",
    "green_ind0 = (np.abs(cube0.waves - 550.0)).argmin()\n",
    "blue_ind0 = (np.abs(cube0.waves - 450.0)).argmin()\n",
    "\n",
    "cube_reshaped02 = cube_norm0.reshape(cube_sub0.shape[1], cube_sub0.shape[2], cube_sub0.shape[0])\n",
    "cube_scene0 = cube_reshaped02[:, :, [red_ind0, green_ind0, blue_ind0]]\n",
    "fig, ax = plt.subplots(figsize=(10,10))\n",
    "plt.title('veg_00000 RGB Image')\n",
    "ax.imshow(cube_scene0, aspect=0.5)\n",
    "plt.show()"
   ]
  },
  {
   "cell_type": "code",
   "execution_count": null,
   "metadata": {},
   "outputs": [],
   "source": [
    "cube_standard0 = (cube_reshaped0 - cube_reshaped0.mean(1, keepdims=True)) / cube_reshaped0.std(1, keepdims=True)\n",
    "print(cube_standard0.shape)"
   ]
  },
  {
   "cell_type": "markdown",
   "metadata": {},
   "source": [
    "#### Reading manually classified set for training and testing"
   ]
  },
  {
   "cell_type": "code",
   "execution_count": null,
   "metadata": {},
   "outputs": [],
   "source": [
    "sky_coords0 = read_labelled_coordinates(\"1_sky\", \"000\")\n",
    "clouds_coords0 = read_labelled_coordinates(\"2_clouds\", \"000\")\n",
    "veg_coords0 = read_labelled_coordinates(\"3_vegetation\", \"000\")\n",
    "wtr_coords0 = read_labelled_coordinates(\"4_water\", \"000\")\n",
    "blt_coords0 = read_labelled_coordinates(\"5_buildings\", \"000\")\n",
    "windows_coords0 = read_labelled_coordinates(\"6_windows\", \"000\")\n",
    "rds_coords0 = read_labelled_coordinates(\"7_roads\", \"000\")\n",
    "cars_coords0 = read_labelled_coordinates(\"8_cars\", \"000\")\n",
    "mtl_coords0 = read_labelled_coordinates(\"9_metal\", \"000\")"
   ]
  },
  {
   "cell_type": "code",
   "execution_count": null,
   "metadata": {},
   "outputs": [],
   "source": [
    "# create position array and normalize\n",
    "\n",
    "xy0 = coords(cube_sub0.shape[1], cube_sub0.shape[2])\n",
    "xy0 = xy0/xy0.max()"
   ]
  },
  {
   "cell_type": "markdown",
   "metadata": {},
   "source": [
    "### Bin Spectra"
   ]
  },
  {
   "cell_type": "code",
   "execution_count": null,
   "metadata": {},
   "outputs": [],
   "source": [
    "cube_binned0 = np.zeros(shape=(cube_standard0.shape[0], num_of_bins))\n",
    "\n",
    "for i in range(num_of_bins):\n",
    "    cube_binned0[:, i] = cube_standard0[:, bin_ind[i][0]:bin_ind[i][1]].mean(1)\n",
    "\n",
    "print(cube_binned0.shape)"
   ]
  },
  {
   "cell_type": "code",
   "execution_count": null,
   "metadata": {},
   "outputs": [],
   "source": [
    "cube_standard0 = cube_binned0\n",
    "print(cube_standard0.shape)"
   ]
  },
  {
   "cell_type": "markdown",
   "metadata": {},
   "source": [
    "#### split classified pixels into 80% training and 20% testing sets"
   ]
  },
  {
   "cell_type": "code",
   "execution_count": null,
   "metadata": {},
   "outputs": [],
   "source": [
    "trrat = 0.8\n",
    "sky_train_ind0, sky_test_ind0 = split_train_test_indices(sky_coords0, 10, trrat, \"sky\")\n",
    "clouds_train_ind0, clouds_test_ind0 = split_train_test_indices(clouds_coords0, 20, trrat, \"clouds\")\n",
    "veg_train_ind0, veg_test_ind0 = split_train_test_indices(veg_coords0, 30, trrat, \"veg\")\n",
    "#wtr_train_ind0, wtr_test_ind0 = split_train_test_indices(wtr_coords0, 40, trrat, \"wtr\")\n",
    "blt_train_ind0, blt_test_ind0 = split_train_test_indices(blt_coords0, 50, trrat, \"blt\")\n",
    "windows_train_ind0, windows_test_ind0 = split_train_test_indices(windows_coords0, 60, trrat, \"windows\")\n",
    "rds_train_ind0, rds_test_ind0 = split_train_test_indices(rds_coords0, 70, trrat, \"rds\")\n",
    "cars_train_ind0, cars_test_ind0 = split_train_test_indices(cars_coords0, 80, trrat, \"cars\")\n",
    "mtl_train_ind0, mtl_test_ind0 = split_train_test_indices(mtl_coords0, 90, trrat, \"mtl\")"
   ]
  },
  {
   "cell_type": "code",
   "execution_count": null,
   "metadata": {},
   "outputs": [],
   "source": [
    "cube_std0_3d = cube_standard0.reshape(cube_sub0.shape[1], cube_sub0.shape[2], num_of_bins)\n",
    "print(cube_std0_3d.shape)\n",
    "print(xy0.shape)"
   ]
  },
  {
   "cell_type": "code",
   "execution_count": null,
   "metadata": {},
   "outputs": [],
   "source": [
    "cube_sky_train0 = cube_std0_3d[sky_coords0[sky_train_ind0[:], 0], sky_coords0[sky_train_ind0[:], 1], :]\n",
    "cube_sky_test0 = cube_std0_3d[sky_coords0[sky_test_ind0[:], 0], sky_coords0[sky_test_ind0[:], 1], :]\n",
    "sky_xy_train0 = xy0[sky_coords0[sky_train_ind0[:], 0], sky_coords0[sky_train_ind0[:], 1], :]\n",
    "sky_xy_test0 = xy0[sky_coords0[sky_test_ind0[:], 0], sky_coords0[sky_test_ind0[:], 1], :]\n",
    "print(\"sky \", cube_sky_train0.shape, cube_sky_test0.shape)\n",
    "\n",
    "cube_clouds_train0 = cube_std0_3d[clouds_coords0[clouds_train_ind0[:], 0], clouds_coords0[clouds_train_ind0[:], 1], :]\n",
    "cube_clouds_test0 = cube_std0_3d[clouds_coords0[clouds_test_ind0[:], 0], clouds_coords0[clouds_test_ind0[:], 1], :]\n",
    "clouds_xy_train0 = xy0[clouds_coords0[clouds_train_ind0[:], 0], clouds_coords0[clouds_train_ind0[:], 1], :]\n",
    "clouds_xy_test0 = xy0[clouds_coords0[clouds_test_ind0[:], 0], clouds_coords0[clouds_test_ind0[:], 1], :]\n",
    "print(\"clouds \", cube_clouds_train0.shape, cube_clouds_test0.shape)\n",
    "\n",
    "cube_veg_train0 = cube_std0_3d[veg_coords0[veg_train_ind0[:], 0], veg_coords0[veg_train_ind0[:], 1], :]\n",
    "cube_veg_test0 = cube_std0_3d[veg_coords0[veg_test_ind0[:], 0], veg_coords0[veg_test_ind0[:], 1], :]\n",
    "veg_xy_train0 = xy0[veg_coords0[veg_train_ind0[:], 0], veg_coords0[veg_train_ind0[:], 1], :]\n",
    "veg_xy_test0 = xy0[veg_coords0[veg_test_ind0[:], 0], veg_coords0[veg_test_ind0[:], 1], :]\n",
    "print(\"vegetation \", cube_veg_train0.shape, cube_veg_test0.shape)\n",
    "\n",
    "#cube_wtr_train0 = cube_std0_3d[wtr_coords0[wtr_train_ind0[:], 0], wtr_coords0[wtr_train_ind0[:], 1], :]\n",
    "#cube_wtr_test0 = cube_std0_3d[wtr_coords0[wtr_test_ind0[:], 0], wtr_coords0[wtr_test_ind0[:], 1], :]\n",
    "#wtr_xy_train0 = xy0[wtr_coords0[wtr_train_ind0[:], 0], wtr_coords0[wtr_train_ind0[:], 1], :]\n",
    "#wtr_xy_test0 = xy0[wtr_coords0[wtr_test_ind0[:], 0], wtr_coords0[wtr_test_ind0[:], 1], :]\n",
    "#print(\"water \", cube_wtr_train0.shape, cube_wtr_test0.shape)\n",
    "\n",
    "cube_blt_train0 = cube_std0_3d[blt_coords0[blt_train_ind0[:], 0], blt_coords0[blt_train_ind0[:], 1], :]\n",
    "cube_blt_test0 = cube_std0_3d[blt_coords0[blt_test_ind0[:], 0], blt_coords0[blt_test_ind0[:], 1], :]\n",
    "blt_xy_train0 = xy0[blt_coords0[blt_train_ind0[:], 0], blt_coords0[blt_train_ind0[:], 1], :]\n",
    "blt_xy_test0 = xy0[blt_coords0[blt_test_ind0[:], 0], blt_coords0[blt_test_ind0[:], 1], :]\n",
    "print(\"built \", cube_blt_train0.shape, cube_blt_test0.shape)\n",
    "\n",
    "cube_windows_train0 = cube_std0_3d[windows_coords0[windows_train_ind0[:],0], windows_coords0[windows_train_ind0[:],1],:]\n",
    "cube_windows_test0 = cube_std0_3d[windows_coords0[windows_test_ind0[:], 0], windows_coords0[windows_test_ind0[:], 1], :]\n",
    "windows_xy_train0 = xy0[windows_coords0[windows_train_ind0[:], 0], windows_coords0[windows_train_ind0[:], 1], :]\n",
    "windows_xy_test0 = xy0[windows_coords0[windows_test_ind0[:], 0], windows_coords0[windows_test_ind0[:], 1], :]\n",
    "print(\"windows \", cube_windows_train0.shape, cube_windows_test0.shape)\n",
    "\n",
    "cube_rds_train0 = cube_std0_3d[rds_coords0[rds_train_ind0[:], 0], rds_coords0[rds_train_ind0[:], 1], :]\n",
    "cube_rds_test0 = cube_std0_3d[rds_coords0[rds_test_ind0[:], 0], rds_coords0[rds_test_ind0[:], 1], :]\n",
    "rds_xy_train0 = xy0[rds_coords0[rds_train_ind0[:], 0], rds_coords0[rds_train_ind0[:], 1], :]\n",
    "rds_xy_test0 = xy0[rds_coords0[rds_test_ind0[:], 0], rds_coords0[rds_test_ind0[:], 1], :]\n",
    "print(\"roads \", cube_rds_train0.shape, cube_rds_test0.shape)\n",
    "\n",
    "cube_cars_train0 = cube_std0_3d[cars_coords0[cars_train_ind0[:], 0], cars_coords0[cars_train_ind0[:], 1], :]\n",
    "cube_cars_test0 = cube_std0_3d[cars_coords0[cars_test_ind0[:], 0], cars_coords0[cars_test_ind0[:], 1], :]\n",
    "cars_xy_train0 = xy0[cars_coords0[cars_train_ind0[:], 0], cars_coords0[cars_train_ind0[:], 1], :]\n",
    "cars_xy_test0 = xy0[cars_coords0[cars_test_ind0[:], 0], cars_coords0[cars_test_ind0[:], 1], :]\n",
    "print(\"cars \", cube_cars_train0.shape, cube_cars_test0.shape)\n",
    "\n",
    "cube_mtl_train0 = cube_std0_3d[mtl_coords0[mtl_train_ind0[:], 0], mtl_coords0[mtl_train_ind0[:], 1], :]\n",
    "cube_mtl_test0 = cube_std0_3d[mtl_coords0[mtl_test_ind0[:], 0], mtl_coords0[mtl_test_ind0[:], 1], :]\n",
    "mtl_xy_train0 = xy0[mtl_coords0[mtl_train_ind0[:], 0], mtl_coords0[mtl_train_ind0[:], 1], :]\n",
    "mtl_xy_test0 = xy0[mtl_coords0[mtl_test_ind0[:], 0], mtl_coords0[mtl_test_ind0[:], 1], :]\n",
    "print(\"metal \", cube_mtl_train0.shape, cube_mtl_test0.shape)"
   ]
  },
  {
   "cell_type": "code",
   "execution_count": null,
   "metadata": {},
   "outputs": [],
   "source": [
    "cube_train0 = np.concatenate((cube_sky_train0, cube_clouds_train0, cube_veg_train0, cube_blt_train0,\n",
    "                             cube_windows_train0, cube_rds_train0, cube_cars_train0, cube_mtl_train0), axis=0)\n",
    "cube_train_labels0 = [0]*cube_sky_train0.shape[0] + [1]*cube_clouds_train0.shape[0] \\\n",
    "                + [2]*cube_veg_train0.shape[0] + [4]*cube_blt_train0.shape[0] \\\n",
    "                + [5]*cube_windows_train0.shape[0] + [6]*cube_rds_train0.shape[0] \\\n",
    "                + [7]*cube_cars_train0.shape[0] + [8]*cube_mtl_train0.shape[0]\n",
    "xy_train0 = np.concatenate((sky_xy_train0, clouds_xy_train0, veg_xy_train0, blt_xy_train0,\n",
    "                             windows_xy_train0, rds_xy_train0, cars_xy_train0, mtl_xy_train0), axis=0)\n",
    "\n",
    "cube_test0 = np.concatenate((cube_sky_test0, cube_clouds_test0, cube_veg_test0, cube_blt_test0,\n",
    "                             cube_windows_test0, cube_rds_test0, cube_cars_test0, cube_mtl_test0), axis=0)\n",
    "cube_test_labels0 = [0]*cube_sky_test0.shape[0] + [1]*cube_clouds_test0.shape[0] \\\n",
    "                + [2]*cube_veg_test0.shape[0] + [4]*cube_blt_test0.shape[0] \\\n",
    "                + [5]*cube_windows_test0.shape[0] + [6]*cube_rds_test0.shape[0] \\\n",
    "                + [7]*cube_cars_test0.shape[0] + [8]*cube_mtl_test0.shape[0]\n",
    "xy_test0 = np.concatenate((sky_xy_test0, clouds_xy_test0, veg_xy_test0, blt_xy_test0,\n",
    "                             windows_xy_test0, rds_xy_test0, cars_xy_test0, mtl_xy_test0), axis=0)"
   ]
  },
  {
   "cell_type": "code",
   "execution_count": null,
   "metadata": {},
   "outputs": [],
   "source": [
    "cube_train_labels0 = np.array(cube_train_labels0)\n",
    "cube_test_labels0 = np.array(cube_test_labels0)\n",
    "\n",
    "print(cube_train0.shape, cube_train_labels0.shape, xy_train0.shape)\n",
    "print(cube_test0.shape, cube_test_labels0.shape, xy_test0.shape)"
   ]
  },
  {
   "cell_type": "markdown",
   "metadata": {},
   "source": [
    "### Train CNN"
   ]
  },
  {
   "cell_type": "code",
   "execution_count": null,
   "metadata": {},
   "outputs": [],
   "source": [
    "cnn0 = CNN_Model(cube_std0_3d.shape[2])\n",
    "cnn0.compile(optimizer=\"adam\", loss=\"sparse_categorical_crossentropy\",\n",
    "             metrics=[\"accuracy\"])"
   ]
  },
  {
   "cell_type": "code",
   "execution_count": null,
   "metadata": {
    "scrolled": false
   },
   "outputs": [],
   "source": [
    "#keras.utils.plot_model(cnn0, show_shapes=True)\n",
    "#cnn0.summary()\n",
    "\n",
    "cube_train02 = cube_train0.reshape(cube_train0.shape[0], cube_train0.shape[1], 1)\n",
    "cube_test02 = cube_test0.reshape(cube_test0.shape[0], cube_test0.shape[1], 1)"
   ]
  },
  {
   "cell_type": "code",
   "execution_count": null,
   "metadata": {
    "scrolled": true
   },
   "outputs": [],
   "source": [
    "CNNmodel0 = cnn0.fit({\"spectra\":cube_train02, \"spatial\":xy_train0}, cube_train_labels0, \n",
    "                     validation_data=({\"spectra\":cube_test02, \"spatial\":xy_test0}, cube_test_labels0),\n",
    "                     epochs=200, batch_size=512)"
   ]
  },
  {
   "cell_type": "code",
   "execution_count": null,
   "metadata": {},
   "outputs": [],
   "source": [
    "plot_loss_history(CNNmodel0)"
   ]
  },
  {
   "cell_type": "code",
   "execution_count": null,
   "metadata": {
    "scrolled": true
   },
   "outputs": [],
   "source": [
    "cnn0 = CNN_Model(cube_std0_3d.shape[2])\n",
    "cnn0.compile(optimizer=\"adam\", loss=\"sparse_categorical_crossentropy\",\n",
    "             metrics=[\"accuracy\"])\n",
    "CNNmodel0 = cnn0.fit({\"spectra\":cube_train02, \"spatial\":xy_train0}, cube_train_labels0, \n",
    "                     validation_data=({\"spectra\":cube_test02, \"spatial\":xy_test0}, cube_test_labels0),\n",
    "                     epochs=100, batch_size=512)"
   ]
  },
  {
   "cell_type": "code",
   "execution_count": null,
   "metadata": {},
   "outputs": [],
   "source": [
    "# model accuracy on training and testing sets\n",
    "\n",
    "train_loss, train_acc = cnn0.evaluate({\"spectra\":cube_train02, \"spatial\":xy_train0}, cube_train_labels0)\n",
    "test_loss, test_acc = cnn0.evaluate({\"spectra\":cube_test02, \"spatial\":xy_test0}, cube_test_labels0)\n",
    "\n",
    "print(train_acc, test_acc)"
   ]
  },
  {
   "cell_type": "markdown",
   "metadata": {},
   "source": [
    "### Predict pixel classification on veg_00000"
   ]
  },
  {
   "cell_type": "code",
   "execution_count": null,
   "metadata": {},
   "outputs": [],
   "source": [
    "cube_standard0_1 = cube_standard0.reshape(cube_standard0.shape[0], cube_standard0.shape[1], 1)\n",
    "print(cube_standard0_1.shape)\n",
    "xy0_2d = xy0.reshape((xy0.shape[0] * xy0.shape[1]), xy0.shape[2])\n",
    "print(xy0_2d.shape)"
   ]
  },
  {
   "cell_type": "code",
   "execution_count": null,
   "metadata": {},
   "outputs": [],
   "source": [
    "# classify entire binned cube\n",
    "import time\n",
    "start_time = time.time()\n",
    "\n",
    "probCube0 = cnn0.predict({\"spectra\":cube_standard0_1, \"spatial\":xy0_2d})\n",
    "\n",
    "elapsed_time = time.time() - start_time\n",
    "print(time.strftime(\"%H:%M:%S\", time.gmtime(elapsed_time)))"
   ]
  },
  {
   "cell_type": "code",
   "execution_count": null,
   "metadata": {},
   "outputs": [],
   "source": [
    "predictCube0 = probCube0.argmax(axis=-1)"
   ]
  },
  {
   "cell_type": "code",
   "execution_count": null,
   "metadata": {},
   "outputs": [],
   "source": [
    "predictCube_reshape0 = predictCube0.reshape(cube_sub0.shape[1], cube_sub0.shape[2])"
   ]
  },
  {
   "cell_type": "code",
   "execution_count": null,
   "metadata": {},
   "outputs": [],
   "source": [
    "import matplotlib.pyplot as plt\n",
    "import matplotlib.colors as ListedColorMap\n",
    "import matplotlib.patches as mpatches\n",
    "from matplotlib.ticker import NullFormatter\n",
    "%matplotlib inline\n",
    "\n",
    "cmap = {0:[0,0.32549,0.62353,1], 1:[0.93333,0.9098,0.77255,1], 2:[0,0.61961,0.45098,1],  3:[0.33725,0.70588,0.91373,1],\n",
    "        4:[0,0,0,1], 5:[1,0.82353,0,1], 6:[0.90196,0.62353,0,1], 7:[0.83529,0.36863,0,1],\n",
    "        8:[0.8,0.47451,0.65490,1]}\n",
    "labels = {0:'sky', 1:'clouds', 2:'vegetation', 3:'water', 4:'built',\n",
    "          5:'windows', 6:'roads', 7:'cars', 8:'metal'}\n",
    "arrayShow = np.array([[cmap[i] for i in j] for j in predictCube_reshape0])\n",
    "patches = [mpatches.Patch(color=cmap[i], label=labels[i]) for i in cmap]\n",
    "\n",
    "fig = plt.figure(figsize=(15,15))\n",
    "ax = fig.add_axes([0.1,0.1,0.9,0.9])\n",
    "ax.tick_params(labelsize=10)\n",
    "ax.imshow(arrayShow, aspect=0.5)\n",
    "lgd = ax.legend(handles=patches, bbox_to_anchor=(1,0.75), loc='upper left', borderaxespad=1.0, prop={'size':10}, ncol=1)\n",
    "plt.show()\n",
    "#fig.savefig(\"./plots/CNN_change_params_spatial_train_all_3_000_predict_map.png\", \n",
    "#bbox_extra_artists=(lgd,), bbox_inches='tight')"
   ]
  },
  {
   "cell_type": "code",
   "execution_count": null,
   "metadata": {},
   "outputs": [],
   "source": [
    "import matplotlib.pyplot as plt\n",
    "import matplotlib.colors as ListedColorMap\n",
    "import matplotlib.patches as mpatches\n",
    "from matplotlib.ticker import NullFormatter\n",
    "%matplotlib inline\n",
    "\n",
    "cmap = {0:[0,0.32549,0.62353,1], 1:[0.93333,0.9098,0.77255,1], 2:[0,0.61961,0.45098,1],  3:[0.33725,0.70588,0.91373,1],\n",
    "        4:[0,0,0,1], 5:[1,0.82353,0,1], 6:[0.90196,0.62353,0,1], 7:[0.83529,0.36863,0,1],\n",
    "        8:[0.8,0.47451,0.65490,1]}\n",
    "labels = {0:'sky', 1:'clouds', 2:'vegetation', 3:'water', 4:'built',\n",
    "          5:'windows', 6:'roads', 7:'cars', 8:'metal'}\n",
    "arrayShow = np.array([[cmap[i] for i in j] for j in predictCube_reshape0])\n",
    "patches = [mpatches.Patch(color=cmap[i], label=labels[i]) for i in cmap]\n",
    "\n",
    "fig = plt.figure(figsize=(15,15))\n",
    "#ax = fig.add_axes([0.1,0.1,0.9,0.9])\n",
    "#ax.tick_params(labelsize=10)\n",
    "plt.imshow(arrayShow, aspect=0.5)\n",
    "#lgd = ax.legend(handles=patches, bbox_to_anchor=(1,0.75), loc='upper left', borderaxespad=1.0, prop={'size':10}, ncol=1)\n",
    "plt.axis('off')\n",
    "plt.show()\n",
    "fig.savefig(\"./plots/CNN_Model2_spatial_train_000_binned_{0)_test_000_predict_map.png\".format(num_of_bins),\n",
    "            bbox_inches='tight', dpi=300)"
   ]
  },
  {
   "cell_type": "code",
   "execution_count": null,
   "metadata": {},
   "outputs": [],
   "source": [
    "import pickle\n",
    "pickle.dump(predictCube_reshape0, \n",
    "            open(\"./plots/CNN_Model2_spatial_train_000_binned_{0)_test_000_predict_map.pickle\".format(num_of_bins), \"wb\"))"
   ]
  },
  {
   "cell_type": "code",
   "execution_count": null,
   "metadata": {},
   "outputs": [],
   "source": [
    "wtr_coords0=np.array([[0,0]])"
   ]
  },
  {
   "cell_type": "markdown",
   "metadata": {},
   "source": [
    "### Evaluation Metrics (veg_00000)"
   ]
  },
  {
   "cell_type": "code",
   "execution_count": null,
   "metadata": {},
   "outputs": [],
   "source": [
    "labels0_pred_sky = predictCube_reshape0[sky_coords0[sky_test_ind0[:], 0], sky_coords0[sky_test_ind0[:], 1]]\n",
    "labels0_pred_clouds = predictCube_reshape0[clouds_coords0[clouds_test_ind0[:], 0], clouds_coords0[clouds_test_ind0[:],1]]\n",
    "labels0_pred_veg = predictCube_reshape0[veg_coords0[veg_test_ind0[:],0], veg_coords0[veg_test_ind0[:],1]]\n",
    "#labels0_pred_wtr = predictCube_reshape0[wtr_coords0[wtr_test_ind0[:],0], wtr_coords0[wtr_test_ind0[:],1]]\n",
    "labels0_pred_blt = predictCube_reshape0[blt_coords0[blt_test_ind0[:],0], blt_coords0[blt_test_ind0[:],1]]\n",
    "labels0_pred_windows = predictCube_reshape0[windows_coords0[windows_test_ind0[:],0], windows_coords0[windows_test_ind0[:],1]]\n",
    "labels0_pred_rds = predictCube_reshape0[rds_coords0[rds_test_ind0[:],0], rds_coords0[rds_test_ind0[:],1]]\n",
    "labels0_pred_cars = predictCube_reshape0[cars_coords0[cars_test_ind0[:],0], cars_coords0[cars_test_ind0[:],1]]\n",
    "labels0_pred_mtl = predictCube_reshape0[mtl_coords0[mtl_test_ind0[:],0], mtl_coords0[mtl_test_ind0[:],1]]\n",
    "\n",
    "labels0_pred = np.concatenate((labels0_pred_sky, labels0_pred_clouds, labels0_pred_veg, #labels0_pred_wtr, \n",
    "                             labels0_pred_blt, labels0_pred_windows, labels0_pred_rds, \n",
    "                               labels0_pred_cars, labels0_pred_mtl))"
   ]
  },
  {
   "cell_type": "code",
   "execution_count": null,
   "metadata": {},
   "outputs": [],
   "source": [
    "labels0_true_sky = np.full(len(sky_test_ind0), 0)\n",
    "labels0_true_clouds = np.full(len(clouds_test_ind0), 1)\n",
    "labels0_true_veg = np.full(len(veg_test_ind0), 2)\n",
    "#labels0_true_wtr = np.full(len(wtr_test_ind0), 3)\n",
    "labels0_true_blt = np.full(len(blt_test_ind0), 4)\n",
    "labels0_true_windows = np.full(len(windows_test_ind0), 5)\n",
    "labels0_true_rds = np.full(len(rds_test_ind0), 6)\n",
    "labels0_true_cars = np.full(len(cars_test_ind0), 7)\n",
    "labels0_true_mtl = np.full(len(mtl_test_ind0), 8)\n",
    "\n",
    "labels0_true = np.concatenate((labels0_true_sky, labels0_true_clouds, labels0_true_veg, #labels0_true_wtr, \n",
    "                             labels0_true_blt, labels0_true_windows, labels0_true_rds, labels0_true_cars, labels0_true_mtl))"
   ]
  },
  {
   "cell_type": "code",
   "execution_count": null,
   "metadata": {},
   "outputs": [],
   "source": [
    "print(labels0_pred.shape)\n",
    "print(labels0_true.shape)"
   ]
  },
  {
   "cell_type": "code",
   "execution_count": null,
   "metadata": {},
   "outputs": [],
   "source": [
    "from sklearn import metrics\n",
    "\n",
    "print(\"Confusion Matrix\")\n",
    "print(metrics.confusion_matrix(labels0_true, labels0_pred))\n",
    "\n",
    "print(\"\")\n",
    "print(\"Accuracy Score\")\n",
    "print(metrics.accuracy_score(labels0_true, labels0_pred))\n",
    "\n",
    "target_names = ['sky', 'clouds', 'vegetation', 'built', 'windows', 'roads', 'cars', 'metal']\n",
    "print(\"\")\n",
    "print(\"Classification Report\")\n",
    "print(metrics.classification_report(labels0_true, labels0_pred, target_names=target_names))"
   ]
  },
  {
   "cell_type": "code",
   "execution_count": null,
   "metadata": {},
   "outputs": [],
   "source": [
    "f = open(\"./metrics/CNN_Model2_spatial_train_000_binned_{0)_test_000_metrics.txt\".format(num_of_bins), \"w\")\n",
    "f.write(\"Confusion Matrix\")\n",
    "f.write('\\n')\n",
    "f.write(str(metrics.confusion_matrix(labels0_true, labels0_pred)))\n",
    "f.write('\\n')\n",
    "f.write('\\n')\n",
    "f.write(\"Accuracy Score\")\n",
    "f.write('\\n')\n",
    "f.write(str(metrics.accuracy_score(labels0_true, labels0_pred)))\n",
    "target_names = ['sky', 'clouds', 'vegetation', 'built', 'windows', 'roads', 'cars', 'metal']\n",
    "f.write('\\n')\n",
    "f.write('\\n')\n",
    "f.write(\"Classification Report\")\n",
    "f.write('\\n')\n",
    "f.write(metrics.classification_report(labels0_true, labels0_pred, target_names=target_names))\n",
    "f.close()"
   ]
  },
  {
   "cell_type": "markdown",
   "metadata": {},
   "source": [
    "---\n",
    "## CNN trained on North Facing Image"
   ]
  },
  {
   "cell_type": "code",
   "execution_count": null,
   "metadata": {},
   "outputs": [],
   "source": [
    "fname_north = \"../../image_files/scan1_slow_roof_VNIR.raw\"\n",
    "cube_north = read_hyper(fname_north)"
   ]
  },
  {
   "cell_type": "code",
   "execution_count": null,
   "metadata": {},
   "outputs": [],
   "source": [
    "cube_sub_north = cube_north.data[:, :, :].astype(float)\n",
    "print(cube_sub_north.shape)"
   ]
  },
  {
   "cell_type": "code",
   "execution_count": null,
   "metadata": {},
   "outputs": [],
   "source": [
    "cube_reshaped_north = cube_sub_north.transpose(1, 2, 0).reshape((cube_sub_north.shape[1] * cube_sub_north.shape[2]), cube_sub_north.shape[0])\n",
    "print(cube_reshaped_north.shape)"
   ]
  },
  {
   "cell_type": "code",
   "execution_count": null,
   "metadata": {},
   "outputs": [],
   "source": [
    "cube_norm_north = (cube_reshaped_north - cube_reshaped_north.min()) / (cube_reshaped_north.max() - cube_reshaped_north.min())\n",
    "\n",
    "import matplotlib.pyplot as plt\n",
    "%matplotlib inline\n",
    "\n",
    "red_ind_n = (np.abs(cube_north.waves - 650.0)).argmin()\n",
    "green_ind_n = (np.abs(cube_north.waves - 550.0)).argmin()\n",
    "blue_ind_n = (np.abs(cube_north.waves - 450.0)).argmin()\n",
    "\n",
    "cube_reshaped_north2 = cube_norm_north.reshape(cube_sub_north.shape[1], cube_sub_north.shape[2], cube_sub_north.shape[0])\n",
    "cube_scene_north = cube_reshaped_north2[:, :, [red_ind_n, green_ind_n, blue_ind_n]]\n",
    "fig, ax = plt.subplots(figsize=(10,10))\n",
    "plt.title('North Facing RGB Image')\n",
    "ax.imshow(cube_scene_north, aspect=0.4)\n",
    "plt.show()"
   ]
  },
  {
   "cell_type": "code",
   "execution_count": null,
   "metadata": {},
   "outputs": [],
   "source": [
    "cube_standard_north = (cube_reshaped_north - cube_reshaped_north.mean(1, keepdims=True)) / cube_reshaped_north.std(1, keepdims=True)\n",
    "print(cube_standard_north.shape)"
   ]
  },
  {
   "cell_type": "markdown",
   "metadata": {},
   "source": [
    "#### Reading manually classified set for training and testing"
   ]
  },
  {
   "cell_type": "code",
   "execution_count": null,
   "metadata": {},
   "outputs": [],
   "source": [
    "sky_coordsn = read_labelled_coordinates(\"1_sky\", \"north\")\n",
    "clouds_coordsn = read_labelled_coordinates(\"2_clouds\", \"north\")\n",
    "veg_coordsn = read_labelled_coordinates(\"3_vegetation\", \"north\")\n",
    "wtr_coordsn = read_labelled_coordinates(\"4_water\", \"north\")\n",
    "blt_coordsn = read_labelled_coordinates(\"5_buildings\", \"north\")\n",
    "windows_coordsn = read_labelled_coordinates(\"6_windows\", \"north\")\n",
    "rds_coordsn = read_labelled_coordinates(\"7_roads\", \"north\")\n",
    "cars_coordsn = read_labelled_coordinates(\"8_cars\", \"north\")\n",
    "mtl_coordsn = read_labelled_coordinates(\"9_metal\", \"north\")"
   ]
  },
  {
   "cell_type": "code",
   "execution_count": null,
   "metadata": {},
   "outputs": [],
   "source": [
    "xyn = coords(cube_sub_north.shape[1], cube_sub_north.shape[2])\n",
    "xyn = xyn/xyn.max()"
   ]
  },
  {
   "cell_type": "markdown",
   "metadata": {},
   "source": [
    "### Bin Spectra"
   ]
  },
  {
   "cell_type": "code",
   "execution_count": null,
   "metadata": {},
   "outputs": [],
   "source": [
    "bin_ind = []\n",
    "\n",
    "for i in range(0, num_of_bins):\n",
    "    low_ind = int(i*int(cube_sub_north.shape[0]/num_of_bins))\n",
    "    upp_ind = int(low_ind + int(cube_sub_north.shape[0]/num_of_bins))\n",
    "    bin_ind.append([low_ind, upp_ind])\n",
    "bin_ind[-1][-1] = cube_sub_north.shape[0]\n",
    "\n",
    "print(len(bin_ind))\n",
    "print(bin_ind)"
   ]
  },
  {
   "cell_type": "code",
   "execution_count": null,
   "metadata": {},
   "outputs": [],
   "source": [
    "cube_binnedn = np.zeros(shape=(cube_standard_north.shape[0], num_of_bins))\n",
    "\n",
    "for i in range(num_of_bins):\n",
    "    cube_binnedn[:, i] = cube_standard_north[:, bin_ind[i][0]:bin_ind[i][1]].mean(1)\n",
    "\n",
    "print(cube_binnedn.shape)"
   ]
  },
  {
   "cell_type": "code",
   "execution_count": null,
   "metadata": {},
   "outputs": [],
   "source": [
    "cube_standard_north = cube_binnedn\n",
    "print(cube_standard_north.shape)"
   ]
  },
  {
   "cell_type": "markdown",
   "metadata": {},
   "source": [
    "#### split classified pixels into 80% training and 20% testing sets"
   ]
  },
  {
   "cell_type": "code",
   "execution_count": null,
   "metadata": {},
   "outputs": [],
   "source": [
    "trrat = 0.8\n",
    "sky_train_indn, sky_test_indn = split_train_test_indices(sky_coordsn, 100, trrat, \"sky\")\n",
    "clouds_train_indn, clouds_test_indn = split_train_test_indices(clouds_coordsn, 200, trrat, \"clouds\")\n",
    "veg_train_indn, veg_test_indn = split_train_test_indices(veg_coordsn, 300, trrat, \"veg\")\n",
    "wtr_train_indn, wtr_test_indn = split_train_test_indices(wtr_coordsn, 400, trrat, \"wtr\")\n",
    "blt_train_indn, blt_test_indn = split_train_test_indices(blt_coordsn, 500, trrat, \"blt\")\n",
    "windows_train_indn, windows_test_indn = split_train_test_indices(windows_coordsn, 600, trrat, \"windows\")\n",
    "rds_train_indn, rds_test_indn = split_train_test_indices(rds_coordsn, 700, trrat, \"rds\")\n",
    "cars_train_indn, cars_test_indn = split_train_test_indices(cars_coordsn, 800, trrat, \"cars\")\n",
    "mtl_train_indn, mtl_test_indn = split_train_test_indices(mtl_coordsn, 900, trrat, \"mtl\")"
   ]
  },
  {
   "cell_type": "code",
   "execution_count": null,
   "metadata": {},
   "outputs": [],
   "source": [
    "cube_stdn_3d = cube_standard_north.reshape(cube_sub_north.shape[1], cube_sub_north.shape[2], num_of_bins)\n",
    "print(cube_stdn_3d.shape)\n",
    "print(xyn.shape)"
   ]
  },
  {
   "cell_type": "code",
   "execution_count": null,
   "metadata": {},
   "outputs": [],
   "source": [
    "cube_sky_trainn = cube_stdn_3d[sky_coordsn[sky_train_indn[:], 0], sky_coordsn[sky_train_indn[:], 1], :]\n",
    "cube_sky_testn = cube_stdn_3d[sky_coordsn[sky_test_indn[:], 0], sky_coordsn[sky_test_indn[:], 1], :]\n",
    "sky_xy_trainn = xyn[sky_coordsn[sky_train_indn[:], 0], sky_coordsn[sky_train_indn[:], 1], :]\n",
    "sky_xy_testn = xyn[sky_coordsn[sky_test_indn[:], 0], sky_coordsn[sky_test_indn[:], 1], :]\n",
    "print(\"sky \", cube_sky_trainn.shape, cube_sky_testn.shape)\n",
    "\n",
    "cube_clouds_trainn = cube_stdn_3d[clouds_coordsn[clouds_train_indn[:], 0], clouds_coordsn[clouds_train_indn[:], 1], :]\n",
    "cube_clouds_testn = cube_stdn_3d[clouds_coordsn[clouds_test_indn[:], 0], clouds_coordsn[clouds_test_indn[:], 1], :]\n",
    "clouds_xy_trainn = xyn[clouds_coordsn[clouds_train_indn[:], 0], clouds_coordsn[clouds_train_indn[:], 1], :]\n",
    "clouds_xy_testn = xyn[clouds_coordsn[clouds_test_indn[:], 0], clouds_coordsn[clouds_test_indn[:], 1], :]\n",
    "print(\"clouds \", cube_clouds_trainn.shape, cube_clouds_testn.shape)\n",
    "\n",
    "cube_veg_trainn = cube_stdn_3d[veg_coordsn[veg_train_indn[:], 0], veg_coordsn[veg_train_indn[:], 1], :]\n",
    "cube_veg_testn = cube_stdn_3d[veg_coordsn[veg_test_indn[:], 0], veg_coordsn[veg_test_indn[:], 1], :]\n",
    "veg_xy_trainn = xyn[veg_coordsn[veg_train_indn[:], 0], veg_coordsn[veg_train_indn[:], 1], :]\n",
    "veg_xy_testn = xyn[veg_coordsn[veg_test_indn[:], 0], veg_coordsn[veg_test_indn[:], 1], :]\n",
    "print(\"vegetation \", cube_veg_trainn.shape, cube_veg_testn.shape)\n",
    "\n",
    "cube_wtr_trainn = cube_stdn_3d[wtr_coordsn[wtr_train_indn[:], 0], wtr_coordsn[wtr_train_indn[:], 1], :]\n",
    "cube_wtr_testn = cube_stdn_3d[wtr_coordsn[wtr_test_indn[:], 0], wtr_coordsn[wtr_test_indn[:], 1], :]\n",
    "wtr_xy_trainn = xyn[wtr_coordsn[wtr_train_indn[:], 0], wtr_coordsn[wtr_train_indn[:], 1], :]\n",
    "wtr_xy_testn = xyn[wtr_coordsn[wtr_test_indn[:], 0], wtr_coordsn[wtr_test_indn[:], 1], :]\n",
    "print(\"water \", cube_wtr_trainn.shape, cube_wtr_testn.shape)\n",
    "\n",
    "cube_blt_trainn = cube_stdn_3d[blt_coordsn[blt_train_indn[:], 0], blt_coordsn[blt_train_indn[:], 1], :]\n",
    "cube_blt_testn = cube_stdn_3d[blt_coordsn[blt_test_indn[:], 0], blt_coordsn[blt_test_indn[:], 1], :]\n",
    "blt_xy_trainn = xyn[blt_coordsn[blt_train_indn[:], 0], blt_coordsn[blt_train_indn[:], 1], :]\n",
    "blt_xy_testn = xyn[blt_coordsn[blt_test_indn[:], 0], blt_coordsn[blt_test_indn[:], 1], :]\n",
    "print(\"built \", cube_blt_trainn.shape, cube_blt_testn.shape)\n",
    "\n",
    "cube_windows_trainn = cube_stdn_3d[windows_coordsn[windows_train_indn[:],0], windows_coordsn[windows_train_indn[:],1],:]\n",
    "cube_windows_testn = cube_stdn_3d[windows_coordsn[windows_test_indn[:], 0], windows_coordsn[windows_test_indn[:], 1], :]\n",
    "windows_xy_trainn = xyn[windows_coordsn[windows_train_indn[:], 0], windows_coordsn[windows_train_indn[:], 1], :]\n",
    "windows_xy_testn = xyn[windows_coordsn[windows_test_indn[:], 0], windows_coordsn[windows_test_indn[:], 1], :]\n",
    "print(\"windows \", cube_windows_trainn.shape, cube_windows_testn.shape)\n",
    "\n",
    "cube_rds_trainn = cube_stdn_3d[rds_coordsn[rds_train_indn[:], 0], rds_coordsn[rds_train_indn[:], 1], :]\n",
    "cube_rds_testn = cube_stdn_3d[rds_coordsn[rds_test_indn[:], 0], rds_coordsn[rds_test_indn[:], 1], :]\n",
    "rds_xy_trainn = xyn[rds_coordsn[rds_train_indn[:], 0], rds_coordsn[rds_train_indn[:], 1], :]\n",
    "rds_xy_testn = xyn[rds_coordsn[rds_test_indn[:], 0], rds_coordsn[rds_test_indn[:], 1], :]\n",
    "print(\"roads \", cube_rds_trainn.shape, cube_rds_testn.shape)\n",
    "\n",
    "cube_cars_trainn = cube_stdn_3d[cars_coordsn[cars_train_indn[:], 0], cars_coordsn[cars_train_indn[:], 1], :]\n",
    "cube_cars_testn = cube_stdn_3d[cars_coordsn[cars_test_indn[:], 0], cars_coordsn[cars_test_indn[:], 1], :]\n",
    "cars_xy_trainn = xyn[cars_coordsn[cars_train_indn[:], 0], cars_coordsn[cars_train_indn[:], 1], :]\n",
    "cars_xy_testn = xyn[cars_coordsn[cars_test_indn[:], 0], cars_coordsn[cars_test_indn[:], 1], :]\n",
    "print(\"cars \", cube_cars_trainn.shape, cube_cars_testn.shape)\n",
    "\n",
    "cube_mtl_trainn = cube_stdn_3d[mtl_coordsn[mtl_train_indn[:], 0], mtl_coordsn[mtl_train_indn[:], 1], :]\n",
    "cube_mtl_testn = cube_stdn_3d[mtl_coordsn[mtl_test_indn[:], 0], mtl_coordsn[mtl_test_indn[:], 1], :]\n",
    "mtl_xy_trainn = xyn[mtl_coordsn[mtl_train_indn[:], 0], mtl_coordsn[mtl_train_indn[:], 1], :]\n",
    "mtl_xy_testn = xyn[mtl_coordsn[mtl_test_indn[:], 0], mtl_coordsn[mtl_test_indn[:], 1], :]\n",
    "print(\"metal \", cube_mtl_trainn.shape, cube_mtl_testn.shape)"
   ]
  },
  {
   "cell_type": "code",
   "execution_count": null,
   "metadata": {},
   "outputs": [],
   "source": [
    "# concatenate training and testing sets and create index arrays\n",
    "\n",
    "cube_trainn = np.concatenate((cube_sky_trainn, cube_clouds_trainn, cube_veg_trainn, cube_wtr_trainn, cube_blt_trainn, \n",
    "                            cube_windows_trainn, cube_rds_trainn, cube_cars_trainn, cube_mtl_trainn), axis=0)\n",
    "cube_train_labelsn = [0]*cube_sky_trainn.shape[0] + [1]*cube_clouds_trainn.shape[0] \\\n",
    "                    + [2]*cube_veg_trainn.shape[0] + [3]*cube_wtr_trainn.shape[0] + [4]*cube_blt_trainn.shape[0] \\\n",
    "                    + [5]*cube_windows_trainn.shape[0] + [6]*cube_rds_trainn.shape[0] \\\n",
    "                    + [7]*cube_cars_trainn.shape[0] + [8]*cube_mtl_trainn.shape[0]\n",
    "xy_trainn = np.concatenate((sky_xy_trainn, clouds_xy_trainn, veg_xy_trainn, wtr_xy_trainn, blt_xy_trainn,\n",
    "                             windows_xy_trainn, rds_xy_trainn, cars_xy_trainn, mtl_xy_trainn), axis=0)\n",
    "\n",
    "cube_testn = np.concatenate((cube_sky_testn, cube_clouds_testn, cube_veg_testn, cube_wtr_testn, cube_blt_testn, \n",
    "                            cube_windows_testn, cube_rds_testn, cube_cars_testn, cube_mtl_testn), axis=0)\n",
    "cube_test_labelsn = [0]*cube_sky_testn.shape[0] + [1]*cube_clouds_testn.shape[0] \\\n",
    "                    + [2]*cube_veg_testn.shape[0] + [3]*cube_wtr_testn.shape[0] + [4]*cube_blt_testn.shape[0] \\\n",
    "                    + [5]*cube_windows_testn.shape[0] + [6]*cube_rds_testn.shape[0] \\\n",
    "                    + [7]*cube_cars_testn.shape[0] + [8]*cube_mtl_testn.shape[0]\n",
    "xy_testn = np.concatenate((sky_xy_testn, clouds_xy_testn, veg_xy_testn, wtr_xy_testn, blt_xy_testn, \n",
    "                             windows_xy_testn, rds_xy_testn, cars_xy_testn, mtl_xy_testn), axis=0)"
   ]
  },
  {
   "cell_type": "code",
   "execution_count": null,
   "metadata": {},
   "outputs": [],
   "source": [
    "cube_train_labelsn = np.array(cube_train_labelsn)\n",
    "cube_test_labelsn = np.array(cube_test_labelsn)\n",
    "\n",
    "print(cube_trainn.shape, cube_train_labelsn.shape, xy_trainn.shape)\n",
    "print(cube_testn.shape, cube_test_labelsn.shape, xy_testn.shape)"
   ]
  },
  {
   "cell_type": "markdown",
   "metadata": {},
   "source": [
    "#### Train CNN"
   ]
  },
  {
   "cell_type": "code",
   "execution_count": null,
   "metadata": {},
   "outputs": [],
   "source": [
    "cnnn = CNN_Model(cube_stdn_3d.shape[2])\n",
    "cnnn.compile(optimizer=\"adam\", loss=\"sparse_categorical_crossentropy\",\n",
    "             metrics=[\"accuracy\"])"
   ]
  },
  {
   "cell_type": "code",
   "execution_count": null,
   "metadata": {},
   "outputs": [],
   "source": [
    "#keras.utils.plot_model(cnnn, show_shapes=True)\n",
    "#cnnn.summary()\n",
    "\n",
    "cube_trainn2 = cube_trainn.reshape(cube_trainn.shape[0], cube_trainn.shape[1], 1)\n",
    "cube_testn2 = cube_testn.reshape(cube_testn.shape[0], cube_testn.shape[1], 1)"
   ]
  },
  {
   "cell_type": "code",
   "execution_count": null,
   "metadata": {
    "scrolled": true
   },
   "outputs": [],
   "source": [
    "CNNmodeln = cnnn.fit({\"spectra\":cube_trainn2, \"spatial\":xy_trainn}, cube_train_labelsn, \n",
    "                     validation_data=({\"spectra\":cube_testn2, \"spatial\":xy_testn}, cube_test_labelsn),\n",
    "                     epochs=200, batch_size=512)"
   ]
  },
  {
   "cell_type": "code",
   "execution_count": null,
   "metadata": {},
   "outputs": [],
   "source": [
    "plot_loss_history(CNNmodeln)"
   ]
  },
  {
   "cell_type": "code",
   "execution_count": null,
   "metadata": {
    "scrolled": true
   },
   "outputs": [],
   "source": [
    "cnnn = CNN_Model(cube_stdn_3d.shape[2])\n",
    "cnnn.compile(optimizer=\"adam\", loss=\"sparse_categorical_crossentropy\",\n",
    "             metrics=[\"accuracy\"])\n",
    "CNNmodeln = cnnn.fit({\"spectra\":cube_trainn2, \"spatial\":xy_trainn}, cube_train_labelsn, \n",
    "                     validation_data=({\"spectra\":cube_testn2, \"spatial\":xy_testn}, cube_test_labelsn),\n",
    "                     epochs=70, batch_size=512)"
   ]
  },
  {
   "cell_type": "code",
   "execution_count": null,
   "metadata": {},
   "outputs": [],
   "source": [
    "# model accuracy on training and testing sets\n",
    "\n",
    "train_loss, train_acc = cnnn.evaluate({\"spectra\":cube_trainn2, \"spatial\":xy_trainn}, cube_train_labelsn)\n",
    "test_loss, test_acc = cnnn.evaluate({\"spectra\":cube_testn2, \"spatial\":xy_testn}, cube_test_labelsn)\n",
    "\n",
    "print(train_acc, test_acc)"
   ]
  },
  {
   "cell_type": "markdown",
   "metadata": {},
   "source": [
    "### Predict pixel classification on north facing image"
   ]
  },
  {
   "cell_type": "code",
   "execution_count": null,
   "metadata": {},
   "outputs": [],
   "source": [
    "cube_standardn_1 = cube_standard_north.reshape(cube_standard_north.shape[0], cube_standard_north.shape[1], 1)\n",
    "print(cube_standardn_1.shape)\n",
    "xyn_2d = xyn.reshape((xyn.shape[0] * xyn.shape[1]), xyn.shape[2])\n",
    "print(xyn_2d.shape)"
   ]
  },
  {
   "cell_type": "code",
   "execution_count": null,
   "metadata": {},
   "outputs": [],
   "source": [
    "# classify entire binned cube\n",
    "import time\n",
    "start_time = time.time()\n",
    "\n",
    "probCuben = cnnn.predict({\"spectra\":cube_standardn_1, \"spatial\":xyn_2d})\n",
    "\n",
    "elapsed_time = time.time() - start_time\n",
    "print(time.strftime(\"%H:%M:%S\", time.gmtime(elapsed_time)))"
   ]
  },
  {
   "cell_type": "code",
   "execution_count": null,
   "metadata": {},
   "outputs": [],
   "source": [
    "predictCuben = probCuben.argmax(axis=-1)"
   ]
  },
  {
   "cell_type": "code",
   "execution_count": null,
   "metadata": {},
   "outputs": [],
   "source": [
    "predictCube_reshapen = predictCuben.reshape(cube_sub_north.shape[1], cube_sub_north.shape[2])"
   ]
  },
  {
   "cell_type": "code",
   "execution_count": null,
   "metadata": {},
   "outputs": [],
   "source": [
    "import matplotlib.pyplot as plt\n",
    "import matplotlib.colors as ListedColorMap\n",
    "import matplotlib.patches as mpatches\n",
    "from matplotlib.ticker import NullFormatter\n",
    "%matplotlib inline\n",
    "\n",
    "cmap = {0:[0,0.32549,0.62353,1], 1:[0.93333,0.9098,0.77255,1], 2:[0,0.61961,0.45098,1],  3:[0.33725,0.70588,0.91373,1],\n",
    "        4:[0,0,0,1], 5:[1,0.82353,0,1], 6:[0.90196,0.62353,0,1], 7:[0.83529,0.36863,0,1],\n",
    "        8:[0.8,0.47451,0.65490,1]}\n",
    "labels = {0:'sky', 1:'clouds', 2:'vegetation', 3:'water', 4:'built',\n",
    "          5:'windows', 6:'roads', 7:'cars', 8:'metal'}\n",
    "arrayShow = np.array([[cmap[i] for i in j] for j in predictCube_reshapen])\n",
    "patches = [mpatches.Patch(color=cmap[i], label=labels[i]) for i in cmap]\n",
    "\n",
    "fig = plt.figure(figsize=(15,15))\n",
    "ax = fig.add_axes([0.1,0.1,0.9,0.9])\n",
    "ax.tick_params(labelsize=10)\n",
    "ax.imshow(arrayShow, aspect=0.4)\n",
    "lgd = ax.legend(handles=patches, bbox_to_anchor=(1,0.75), loc='upper left', borderaxespad=1.0, prop={'size':10}, ncol=1)\n",
    "plt.show()\n",
    "#fig.savefig(\"./plots/CNN_change_params_spatial_train_all_5_north_predict_map.png\", bbox_extra_artists=(lgd,), bbox_inches='tight')"
   ]
  },
  {
   "cell_type": "code",
   "execution_count": null,
   "metadata": {},
   "outputs": [],
   "source": [
    "import matplotlib.pyplot as plt\n",
    "import matplotlib.colors as ListedColorMap\n",
    "import matplotlib.patches as mpatches\n",
    "from matplotlib.ticker import NullFormatter\n",
    "%matplotlib inline\n",
    "\n",
    "cmap = {0:[0,0.32549,0.62353,1], 1:[0.93333,0.9098,0.77255,1], 2:[0,0.61961,0.45098,1],  3:[0.33725,0.70588,0.91373,1],\n",
    "        4:[0,0,0,1], 5:[1,0.82353,0,1], 6:[0.90196,0.62353,0,1], 7:[0.83529,0.36863,0,1],\n",
    "        8:[0.8,0.47451,0.65490,1]}\n",
    "labels = {0:'sky', 1:'clouds', 2:'vegetation', 3:'water', 4:'built',\n",
    "          5:'windows', 6:'roads', 7:'cars', 8:'metal'}\n",
    "arrayShow = np.array([[cmap[i] for i in j] for j in predictCube_reshapen])\n",
    "patches = [mpatches.Patch(color=cmap[i], label=labels[i]) for i in cmap]\n",
    "\n",
    "fig = plt.figure(figsize=(15,15))\n",
    "#ax = fig.add_axes([0.1,0.1,0.9,0.9])\n",
    "#ax.tick_params(labelsize=10)\n",
    "plt.imshow(arrayShow, aspect=0.4)\n",
    "#lgd = ax.legend(handles=patches, bbox_to_anchor=(1,0.75), loc='upper left', borderaxespad=1.0, prop={'size':10}, ncol=1)\n",
    "plt.axis('off')\n",
    "plt.show()\n",
    "fig.savefig(\"./plots/CNN_Model2_spatial_train_north_binned_{0}_test_north_predict_map.png\".format(num_of_bins),\n",
    "            bbox_inches='tight', dpi=300)"
   ]
  },
  {
   "cell_type": "code",
   "execution_count": null,
   "metadata": {},
   "outputs": [],
   "source": [
    "import pickle\n",
    "pickle.dump(predictCube_reshapen,\n",
    "            open(\"./plots/CNN_Model2_spatial_train_north_binned_{0)_test_north_predict_map.pickle\".format(num_of_bins),\n",
    "                 \"wb\"))"
   ]
  },
  {
   "cell_type": "markdown",
   "metadata": {},
   "source": [
    "### Evaluation Metrics (north facing)"
   ]
  },
  {
   "cell_type": "code",
   "execution_count": null,
   "metadata": {},
   "outputs": [],
   "source": [
    "labelsn_pred_sky = predictCube_reshapen[sky_coordsn[sky_test_indn[:], 0], sky_coordsn[sky_test_indn[:], 1]]\n",
    "labelsn_pred_clouds = predictCube_reshapen[clouds_coordsn[clouds_test_indn[:], 0], clouds_coordsn[clouds_test_indn[:],1]]\n",
    "labelsn_pred_veg = predictCube_reshapen[veg_coordsn[veg_test_indn[:],0], veg_coordsn[veg_test_indn[:],1]]\n",
    "labelsn_pred_wtr = predictCube_reshapen[wtr_coordsn[wtr_test_indn[:],0], wtr_coordsn[wtr_test_indn[:],1]]\n",
    "labelsn_pred_blt = predictCube_reshapen[blt_coordsn[blt_test_indn[:],0], blt_coordsn[blt_test_indn[:],1]]\n",
    "labelsn_pred_windows = predictCube_reshapen[windows_coordsn[windows_test_indn[:],0], windows_coordsn[windows_test_indn[:],1]]\n",
    "labelsn_pred_rds = predictCube_reshapen[rds_coordsn[rds_test_indn[:],0], rds_coordsn[rds_test_indn[:],1]]\n",
    "labelsn_pred_cars = predictCube_reshapen[cars_coordsn[cars_test_indn[:],0], cars_coordsn[cars_test_indn[:],1]]\n",
    "labelsn_pred_mtl = predictCube_reshapen[mtl_coordsn[mtl_test_indn[:],0], mtl_coordsn[mtl_test_indn[:],1]]\n",
    "\n",
    "labelsn_pred = np.concatenate((labelsn_pred_sky, labelsn_pred_clouds, labelsn_pred_veg, labelsn_pred_wtr, \n",
    "                             labelsn_pred_blt, labelsn_pred_windows, labelsn_pred_rds, labelsn_pred_cars, labelsn_pred_mtl))"
   ]
  },
  {
   "cell_type": "code",
   "execution_count": null,
   "metadata": {},
   "outputs": [],
   "source": [
    "labelsn_true_sky = np.full(len(sky_test_indn), 0)\n",
    "labelsn_true_clouds = np.full(len(clouds_test_indn), 1)\n",
    "labelsn_true_veg = np.full(len(veg_test_indn), 2)\n",
    "labelsn_true_wtr = np.full(len(wtr_test_indn), 3)\n",
    "labelsn_true_blt = np.full(len(blt_test_indn), 4)\n",
    "labelsn_true_windows = np.full(len(windows_test_indn), 5)\n",
    "labelsn_true_rds = np.full(len(rds_test_indn), 6)\n",
    "labelsn_true_cars = np.full(len(cars_test_indn), 7)\n",
    "labelsn_true_mtl = np.full(len(mtl_test_indn), 8)\n",
    "\n",
    "labelsn_true = np.concatenate((labelsn_true_sky, labelsn_true_clouds, labelsn_true_veg, labelsn_true_wtr, \n",
    "                             labelsn_true_blt, labelsn_true_windows, labelsn_true_rds, labelsn_true_cars, labelsn_true_mtl))"
   ]
  },
  {
   "cell_type": "code",
   "execution_count": null,
   "metadata": {},
   "outputs": [],
   "source": [
    "print(labelsn_pred.shape)\n",
    "print(labelsn_true.shape)"
   ]
  },
  {
   "cell_type": "code",
   "execution_count": null,
   "metadata": {},
   "outputs": [],
   "source": [
    "from sklearn import metrics\n",
    "\n",
    "print(\"Confusion Matrix\")\n",
    "print(metrics.confusion_matrix(labelsn_true, labelsn_pred))\n",
    "\n",
    "print(\"\")\n",
    "print(\"Accuracy Score\")\n",
    "print(metrics.accuracy_score(labelsn_true, labelsn_pred))\n",
    "\n",
    "target_names = ['sky', 'clouds', 'vegetation', 'water', 'built', 'windows', 'roads', 'cars', 'metal']\n",
    "print(\"\")\n",
    "print(\"Classification Report\")\n",
    "print(metrics.classification_report(labelsn_true, labelsn_pred, target_names=target_names))"
   ]
  },
  {
   "cell_type": "code",
   "execution_count": null,
   "metadata": {},
   "outputs": [],
   "source": [
    "f = open(\"./metrics/CNN_Model2_spatial_train_north_binned_{0)_test_north_metrics.txt\".format(num_of_bins), \"w\")\n",
    "f.write(\"Confusion Matrix\")\n",
    "f.write('\\n')\n",
    "f.write(str(metrics.confusion_matrix(labelsn_true, labelsn_pred)))\n",
    "f.write('\\n')\n",
    "f.write('\\n')\n",
    "f.write(\"Accuracy Score\")\n",
    "f.write('\\n')\n",
    "f.write(str(metrics.accuracy_score(labelsn_true, labelsn_pred)))\n",
    "target_names = ['sky', 'clouds', 'vegetation', 'water', 'built', 'windows', 'roads', 'cars', 'metal']\n",
    "f.write('\\n')\n",
    "f.write('\\n')\n",
    "f.write(\"Classification Report\")\n",
    "f.write('\\n')\n",
    "f.write(metrics.classification_report(labelsn_true, labelsn_pred, target_names=target_names))\n",
    "f.close()"
   ]
  },
  {
   "cell_type": "code",
   "execution_count": null,
   "metadata": {},
   "outputs": [],
   "source": []
  }
 ],
 "metadata": {
  "kernelspec": {
   "display_name": "Python 3",
   "language": "python",
   "name": "python3"
  },
  "language_info": {
   "codemirror_mode": {
    "name": "ipython",
    "version": 3
   },
   "file_extension": ".py",
   "mimetype": "text/x-python",
   "name": "python",
   "nbconvert_exporter": "python",
   "pygments_lexer": "ipython3",
   "version": "3.6.8"
  }
 },
 "nbformat": 4,
 "nbformat_minor": 2
}
