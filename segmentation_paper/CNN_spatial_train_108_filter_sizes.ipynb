{
 "cells": [
  {
   "cell_type": "markdown",
   "metadata": {},
   "source": [
    "## Hyperspectral Image Segmentation by Convolutional Neural Network \n",
    "\n",
    "### standardized spectra at full resolution with spatial dimension included\n",
    "\n",
    "---\n",
    "\n",
    "#### Testing changing CNN filter sizes on the accuracy and mF1 of veg_00108"
   ]
  },
  {
   "cell_type": "code",
   "execution_count": 1,
   "metadata": {},
   "outputs": [],
   "source": [
    "# -- here are functions that generate a class that memory maps the raw data \n",
    "#    cube.  After executing this cell, the syntax is:\n",
    "#    fname = \"[path to data]/foo.raw\"\n",
    "#    cube = read_hyper(fname)\n",
    "\n",
    "import os\n",
    "import numpy as np\n",
    "\n",
    "def read_header(hdrfile, verbose=True):\n",
    "    \"\"\"\n",
    "    Read a Middleton header file.\n",
    "\n",
    "    Parameters\n",
    "    ----------\n",
    "    hdrfile : str\n",
    "        Name of header file.\n",
    "    verbose : bool, optional\n",
    "        If True, alert the user.\n",
    "\n",
    "    Returns\n",
    "    -------\n",
    "    dict : dict\n",
    "        A dictionary continaing the number of rows, columns, and wavelengths\n",
    "        as well as an array of band centers.\n",
    "    \"\"\"\n",
    "\n",
    "    # -- alert\n",
    "    if verbose:\n",
    "        print(\"reading and parsing {0}...\".format(hdrfile))\n",
    "\n",
    "    # -- open the file and read in the records\n",
    "    recs = [rec for rec in open(hdrfile)]\n",
    "\n",
    "    # -- parse for samples, lines, bands, and the start of the wavelengths\n",
    "    for irec, rec in enumerate(recs):\n",
    "        if 'samples' in rec:\n",
    "            samples = int(rec.split(\"=\")[1])\n",
    "        elif 'lines' in rec:\n",
    "            lines = int(rec.split(\"=\")[1])\n",
    "        elif 'bands' in rec:\n",
    "            bands = int(rec.split(\"=\")[1])\n",
    "        elif \"Wavelength\" in rec:\n",
    "            w0ind = irec+1\n",
    "\n",
    "    # -- parse for the wavelengths\n",
    "    waves = np.array([float(rec.split(\",\")[0]) for rec in \n",
    "                      recs[w0ind:w0ind+bands]])\n",
    "\n",
    "    # -- return a dictionary\n",
    "    return {\"nrow\":samples, \"ncol\":lines, \"nwav\":bands, \"waves\":waves}\n",
    "\n",
    "\n",
    "def read_raw(rawfile, shape, hyper=False, verbose=True):\n",
    "    \"\"\"\n",
    "    Read a Middleton raw file.\n",
    "\n",
    "    Parameters\n",
    "    ----------\n",
    "    rawfile : str\n",
    "        The name of the raw file.\n",
    "    shape : tuple\n",
    "        The output shape of the data cube (nwav, nrow, ncol).\n",
    "    hyper : bool, optional\n",
    "        Set this flag to read a hyperspectral image.\n",
    "    verbose : bool, optional\n",
    "        Alert the user.\n",
    "\n",
    "    Returns\n",
    "    -------\n",
    "    memmap : memmap\n",
    "        A numpy memmap of the datacube.\n",
    "    \"\"\"\n",
    "\n",
    "    # -- alert\n",
    "    if verbose:\n",
    "        print(\"reading {0}...\".format(rawfile))\n",
    "\n",
    "    # -- read either broadband or hyperspectral image\n",
    "    if hyper:\n",
    "        return np.memmap(rawfile, np.uint16, mode=\"r\") \\\n",
    "            .reshape(shape[2], shape[0], shape[1])[:, :, ::-1] \\\n",
    "            .transpose(1, 2, 0)\n",
    "    else:\n",
    "        return np.memmap(rawfile, np.uint8, mode=\"r\") \\\n",
    "            .reshape(shape[1], shape[2], shape[0])[:, :, ::-1]\n",
    "\n",
    "\n",
    "def read_hyper(fpath, fname=None, full=True):\n",
    "    \"\"\"\n",
    "    Read a full hyperspectral scan (raw and header file).\n",
    "\n",
    "    Parameters\n",
    "    ----------\n",
    "    fpath : str\n",
    "        Either the full name+path of the raw file or the path of the raw file.\n",
    "        If the latter, fname must be supplied.\n",
    "    fname : str, optional\n",
    "        The name of the raw file (required if fpath is set to a path).\n",
    "    full : bool, optional\n",
    "        If True, output a class containing data and supplementary information.\n",
    "        If False, output only the data.\n",
    "\n",
    "    Returns\n",
    "    -------\n",
    "    output or memmap : class or memmap\n",
    "        If full is True, a class containing data plus supplementary \n",
    "        information.  If full is False, a memmap array of the data.\n",
    "    \"\"\"\n",
    "\n",
    "    # -- set up the file names\n",
    "    if fname is not None:\n",
    "        fpath = os.path.join(fpath, fname)\n",
    "\n",
    "    # -- read the header\n",
    "    hdr = read_header(fpath.replace(\"raw\", \"hdr\"))\n",
    "    sh  = (hdr[\"nwav\"], hdr[\"nrow\"], hdr[\"ncol\"])\n",
    "\n",
    "    # -- if desired, only output data cube\n",
    "    if not full:\n",
    "        return read_raw(fpath, sh, hyper=True)\n",
    "\n",
    "    # -- output full structure\n",
    "    class output():\n",
    "        def __init__(self, fpath):\n",
    "            self.filename = fpath\n",
    "            self.data     = read_raw(fpath, sh, hyper=True)\n",
    "            self.waves    = hdr[\"waves\"]\n",
    "            self.nwav     = sh[0]\n",
    "            self.nrow     = sh[1]\n",
    "            self.ncol     = sh[2]\n",
    "\n",
    "    return output(fpath)"
   ]
  },
  {
   "cell_type": "code",
   "execution_count": 2,
   "metadata": {},
   "outputs": [],
   "source": [
    "def kmeans_test_dictionary(labels, test, k):\n",
    "    import collections, numpy\n",
    "    \n",
    "    unique_test, counts_test = numpy.unique(labels[test[:,0], test[:,1]], return_counts=True)\n",
    "    counts_test_norm = (counts_test/test.shape[0])*100\n",
    "    test_dict = dict(zip(unique_test, counts_test))\n",
    "    test_dict_norm = dict(zip(unique_test, counts_test_norm))\n",
    "    \n",
    "    for i in range(0, k):\n",
    "        if test_dict.get(i) is None: test_dict[i] = 0\n",
    "        if test_dict_norm.get(i) is None: test_dict_norm[i] = 0\n",
    "    \n",
    "    return test_dict, test_dict_norm"
   ]
  },
  {
   "cell_type": "code",
   "execution_count": 3,
   "metadata": {},
   "outputs": [],
   "source": [
    "def kmeans_test_dataframe(sky_dict,\n",
    "                          clouds_dict,\n",
    "                          veg_dict,\n",
    "                          wtr_dict,\n",
    "                          blt_dict,\n",
    "                          windows_dict,\n",
    "                          rds_dict,\n",
    "                          cars_dict,\n",
    "                          mtl_dict\n",
    "                         ):\n",
    "    import pandas as pd\n",
    "    \n",
    "    pixel_names = ['sky', 'clouds', 'vegetation', 'water', 'built',\n",
    "                  'windows', 'roads', 'cars', 'metal']\n",
    "    df_test = pd.DataFrame([sky_dict,\n",
    "                            clouds_dict,\n",
    "                            veg_dict,\n",
    "                            wtr_dict,\n",
    "                            blt_dict,\n",
    "                            windows_dict,\n",
    "                            rds_dict,\n",
    "                            cars_dict,\n",
    "                            mtl_dict], index=pixel_names)\n",
    "    df_test = df_test.transpose()\n",
    "    \n",
    "    return df_test"
   ]
  },
  {
   "cell_type": "code",
   "execution_count": 4,
   "metadata": {},
   "outputs": [],
   "source": [
    "def plot_confusion_matrix(df_test, norm=True):\n",
    "    import numpy as np\n",
    "    import matplotlib.pyplot as plt\n",
    "    %matplotlib inline\n",
    "    \n",
    "    cm = np.array([df_test['sky'].values,\n",
    "                   df_test['clouds'].values,\n",
    "                   df_test['vegetation'].values,\n",
    "                   df_test['water'].values,\n",
    "                   df_test['built'].values,\n",
    "                   df_test['windows'].values,\n",
    "                   df_test['roads'].values,\n",
    "                   df_test['cars'].values,\n",
    "                   df_test['metal'].values])\n",
    "    classes = ['sky', 'clouds', 'vegetation', 'water', 'built', 'windows', 'roads', \n",
    "              'cars', 'metal']\n",
    "    \n",
    "    fig, ax = plt.subplots()\n",
    "    im = ax.imshow(cm, interpolation='nearest', cmap=plt.cm.Blues)\n",
    "    ax.figure.colorbar(im, ax=ax)\n",
    "    if norm:\n",
    "        title='Normalized Confusion Matrix'\n",
    "        fmt='.2f'\n",
    "    else:\n",
    "        title='Confusion Matrix'\n",
    "        fmt='d'\n",
    "    ax.set(xticks=np.arange(cm.shape[1]),\n",
    "          yticks=np.arange(cm.shape[0]),\n",
    "          xticklabels=np.arange(0,cm.shape[1]).astype(str), \n",
    "          yticklabels=classes,\n",
    "          title=title,\n",
    "          ylabel='True Label',\n",
    "          xlabel='Predicted Label')\n",
    "    #plt.setp(ax.get_xticklabels(), rotation=45, ha=\"right\",\n",
    "    #        rotation_mode=\"anchor\")\n",
    "    thresh = cm.max()/2\n",
    "    for i in range(cm.shape[0]):\n",
    "        for j in range(cm.shape[1]):\n",
    "            ax.text(j, i, format(cm[i,j], fmt),\n",
    "                   ha=\"center\", va=\"center\",\n",
    "                   color=\"white\" if cm[i,j] > thresh else \"black\")\n",
    "    fig.tight_layout()\n",
    "    plt.show()"
   ]
  },
  {
   "cell_type": "code",
   "execution_count": 5,
   "metadata": {},
   "outputs": [],
   "source": [
    "def plot_test_result(df_Test):\n",
    "    import matplotlib.pyplot as plt\n",
    "    %matplotlib inline\n",
    "    \n",
    "    df_test = df_Test.transpose()\n",
    "    ax = df_test.plot.bar(rot=0, stacked=True, colormap='tab20b')\n",
    "                          #color=['tab:blue', 'tab:green', 'tab:gray'])\n",
    "    plt.xlabel('Actual Class')\n",
    "    plt.ylabel('%of Test Pixels')\n",
    "    plt.title('Error in Kmeans Prediction')\n",
    "    plt.legend(bbox_to_anchor=(1,1), loc=2, borderaxespad=1.0, prop={'size':11})\n",
    "    plt.show()"
   ]
  },
  {
   "cell_type": "code",
   "execution_count": 6,
   "metadata": {},
   "outputs": [],
   "source": [
    "def point_from_string(text):\n",
    "    \n",
    "    items = text.strip(\"\\n\").split(\" \")\n",
    "    rind = int(items[0])\n",
    "    cind = int(items[1])\n",
    "    \n",
    "    return rind, cind"
   ]
  },
  {
   "cell_type": "code",
   "execution_count": 7,
   "metadata": {},
   "outputs": [],
   "source": [
    "def coords(row, col):\n",
    "    return np.array(list(np.ndindex((row, col)))).reshape(row, col, 2)"
   ]
  },
  {
   "cell_type": "markdown",
   "metadata": {},
   "source": [
    "---\n",
    "### Classes:\n",
    "1. Sky\n",
    "2. Clouds\n",
    "3. Water\n",
    "4. Vegetation\n",
    "5. Buildings (concrete structures)\n",
    "6. Windows\n",
    "7. Roads\n",
    "8. Cars\n",
    "9. Metal Structures\n",
    "---\n"
   ]
  },
  {
   "cell_type": "markdown",
   "metadata": {},
   "source": [
    "## CNN on veg_00108 (South Facing @ ~2pm)"
   ]
  },
  {
   "cell_type": "code",
   "execution_count": 8,
   "metadata": {},
   "outputs": [
    {
     "name": "stdout",
     "output_type": "stream",
     "text": [
      "reading and parsing ../../image_files/veg_00108.hdr...\n",
      "reading ../../image_files/veg_00108.raw...\n"
     ]
    }
   ],
   "source": [
    "fname = \"../../image_files/veg_00108.raw\"\n",
    "cube = read_hyper(fname)"
   ]
  },
  {
   "cell_type": "code",
   "execution_count": 9,
   "metadata": {},
   "outputs": [
    {
     "name": "stdout",
     "output_type": "stream",
     "text": [
      "(848, 1600, 1600)\n"
     ]
    }
   ],
   "source": [
    "cube_sub = cube.data[:, :, :].astype(float)\n",
    "print(cube_sub.shape)"
   ]
  },
  {
   "cell_type": "code",
   "execution_count": 10,
   "metadata": {},
   "outputs": [
    {
     "name": "stdout",
     "output_type": "stream",
     "text": [
      "(2560000, 848)\n"
     ]
    }
   ],
   "source": [
    "cube_reshaped = cube_sub.transpose(1, 2, 0).reshape((cube_sub.shape[1] * cube_sub.shape[2]), cube_sub.shape[0])\n",
    "print(cube_reshaped.shape)"
   ]
  },
  {
   "cell_type": "code",
   "execution_count": 11,
   "metadata": {},
   "outputs": [],
   "source": [
    "cube_standard = (cube_reshaped - cube_reshaped.mean(1, keepdims=True)) / cube_reshaped.std(1, keepdims=True)"
   ]
  },
  {
   "cell_type": "code",
   "execution_count": 12,
   "metadata": {},
   "outputs": [],
   "source": [
    "# create position array and normalize\n",
    "\n",
    "xycoords = coords(cube_sub.shape[1], cube_sub.shape[2])\n",
    "xycoords = xycoords/xycoords.max()"
   ]
  },
  {
   "cell_type": "code",
   "execution_count": 13,
   "metadata": {},
   "outputs": [],
   "source": [
    "# append row, col position matrix to spectral data\n",
    "\n",
    "cube_temp = cube_standard.reshape(cube_sub.shape[1], cube_sub.shape[2], cube_sub.shape[0])\n",
    "cube_specxy = np.append(cube_temp, xycoords, axis=2)"
   ]
  },
  {
   "cell_type": "code",
   "execution_count": 14,
   "metadata": {},
   "outputs": [
    {
     "name": "stdout",
     "output_type": "stream",
     "text": [
      "(2560000, 850)\n"
     ]
    }
   ],
   "source": [
    "# reshape spectral and spatial cube for clustering\n",
    "cube_specxy_2d = cube_specxy.reshape((cube_specxy.shape[0] * cube_specxy.shape[1]), cube_specxy.shape[2])\n",
    "print(cube_specxy_2d.shape)"
   ]
  },
  {
   "cell_type": "markdown",
   "metadata": {},
   "source": [
    "#### Reading manually classified set for training and testing"
   ]
  },
  {
   "cell_type": "code",
   "execution_count": 15,
   "metadata": {},
   "outputs": [
    {
     "name": "stdout",
     "output_type": "stream",
     "text": [
      "sky:         (300, 2)\n",
      "clouds:      (500, 2)\n",
      "vegetation:  (600, 2)\n",
      "water:       (50, 2)\n",
      "buildings:   (1020, 2)\n",
      "windows:     (500, 2)\n",
      "road:        (30, 2)\n",
      "cars:        (100, 2)\n",
      "metal:       (100, 2)\n"
     ]
    }
   ],
   "source": [
    "# read manually selected coordinates files\n",
    "\n",
    "#sky coordinates\n",
    "sky_file = open(\"../manual_classified_pixels/1_sky_coordinates_108.txt\", \"r\")\n",
    "sky_coords = sky_file.readlines()\n",
    "sky_file.close()\n",
    "sky_coords = np.array([point_from_string(line) for line in sky_coords])\n",
    "print(\"sky:        \", sky_coords.shape)\n",
    "\n",
    "#clouds coordinates\n",
    "clouds_file = open(\"../manual_classified_pixels/2_clouds_coordinates_108.txt\", \"r\")\n",
    "clouds_coords = clouds_file.readlines()\n",
    "clouds_file.close()\n",
    "clouds_coords = np.array([point_from_string(line) for line in clouds_coords])\n",
    "print(\"clouds:     \", clouds_coords.shape)\n",
    "\n",
    "#vegetation coordinates\n",
    "veg_file = open(\"../manual_classified_pixels/3_vegetation_coordinates_108.txt\", \"r\")\n",
    "veg_coords = veg_file.readlines()\n",
    "veg_file.close()\n",
    "veg_coords = np.array([point_from_string(line) for line in veg_coords])\n",
    "print(\"vegetation: \", veg_coords.shape)\n",
    "\n",
    "#water coordinates\n",
    "wtr_file = open(\"../manual_classified_pixels/4_water_coordinates_108.txt\", \"r\")\n",
    "wtr_coords = wtr_file.readlines()\n",
    "wtr_file.close()\n",
    "wtr_coords = np.array([point_from_string(line) for line in wtr_coords])\n",
    "print(\"water:      \", wtr_coords.shape)\n",
    "\n",
    "#buildings coordinates\n",
    "blt_file = open(\"../manual_classified_pixels/5_buildings_coordinates_108.txt\", \"r\")\n",
    "blt_coords = blt_file.readlines()\n",
    "blt_file.close()\n",
    "blt_coords = np.array([point_from_string(line) for line in blt_coords])\n",
    "print(\"buildings:  \", blt_coords.shape)\n",
    "\n",
    "#windows coordinates\n",
    "windows_file = open(\"../manual_classified_pixels/6_windows_coordinates_108.txt\", \"r\")\n",
    "windows_coords = windows_file.readlines()\n",
    "windows_file.close()\n",
    "windows_coords = np.array([point_from_string(line) for line in windows_coords])\n",
    "print(\"windows:    \", windows_coords.shape)\n",
    "\n",
    "#roads coordinates\n",
    "rds_file = open(\"../manual_classified_pixels/7_roads_coordinates_108.txt\", \"r\")\n",
    "rds_coords = rds_file.readlines()\n",
    "rds_file.close()\n",
    "rds_coords = np.array([point_from_string(line) for line in rds_coords])\n",
    "print(\"road:       \", rds_coords.shape)\n",
    "\n",
    "#cars coordinates\n",
    "cars_file = open(\"../manual_classified_pixels/8_cars_coordinates_108.txt\", \"r\")\n",
    "cars_coords = cars_file.readlines()\n",
    "cars_file.close()\n",
    "cars_coords = np.array([point_from_string(line) for line in cars_coords])\n",
    "print(\"cars:       \", cars_coords.shape)\n",
    "\n",
    "#metal coordinates\n",
    "mtl_file = open(\"../manual_classified_pixels/9_metal_coordinates_108.txt\", \"r\")\n",
    "mtl_coords = mtl_file.readlines()\n",
    "mtl_file.close()\n",
    "mtl_coords = np.array([point_from_string(line) for line in mtl_coords])\n",
    "print(\"metal:      \", mtl_coords.shape)"
   ]
  },
  {
   "cell_type": "markdown",
   "metadata": {},
   "source": [
    "#### split classified pixels into 80% training and 20% testing sets"
   ]
  },
  {
   "cell_type": "code",
   "execution_count": 16,
   "metadata": {},
   "outputs": [
    {
     "name": "stdout",
     "output_type": "stream",
     "text": [
      "sky 240 60\n",
      "clouds 400 100\n",
      "vegetation 480 120\n",
      "water 40 10\n",
      "built 816 204\n",
      "windows 400 100\n",
      "roads 24 6\n",
      "cars 80 20\n",
      "metal 80 20\n"
     ]
    }
   ],
   "source": [
    "import random\n",
    "\n",
    "# sky coordinates\n",
    "sky_ind = np.arange(sky_coords.shape[0])\n",
    "random.Random(3).shuffle(sky_ind)\n",
    "lim_ind = int(len(sky_ind)*0.8)\n",
    "sky_train_ind = sky_ind[:lim_ind]\n",
    "sky_test_ind = sky_ind[lim_ind:]\n",
    "print(\"sky %d %d\" % (len(sky_train_ind), len(sky_test_ind)))\n",
    "\n",
    "# clouds coordinates\n",
    "clouds_ind = np.arange(clouds_coords.shape[0])\n",
    "random.Random(3).shuffle(clouds_ind)\n",
    "lim_ind = int(len(clouds_ind)*0.8)\n",
    "clouds_train_ind = clouds_ind[:lim_ind]\n",
    "clouds_test_ind = clouds_ind[lim_ind:]\n",
    "print(\"clouds %d %d\" % (len(clouds_train_ind), len(clouds_test_ind)))\n",
    "\n",
    "# vegetation coordinates\n",
    "veg_ind = np.arange(veg_coords.shape[0])\n",
    "random.Random(3).shuffle(veg_ind)\n",
    "lim_ind = int(len(veg_ind)*0.8)\n",
    "veg_train_ind = veg_ind[:lim_ind]\n",
    "veg_test_ind = veg_ind[lim_ind:]\n",
    "print(\"vegetation %d %d\" % (len(veg_train_ind), len(veg_test_ind)))\n",
    "\n",
    "# water coordinates\n",
    "wtr_ind = np.arange(wtr_coords.shape[0])\n",
    "random.Random(3).shuffle(wtr_ind)\n",
    "lim_ind = int(len(wtr_ind)*0.8)\n",
    "wtr_train_ind = wtr_ind[:lim_ind]\n",
    "wtr_test_ind = wtr_ind[lim_ind:]\n",
    "print(\"water %d %d\" % (len(wtr_train_ind), len(wtr_test_ind)))\n",
    "\n",
    "# built coordinates\n",
    "blt_ind = np.arange(blt_coords.shape[0])\n",
    "random.Random(3).shuffle(blt_ind)\n",
    "lim_ind = int(len(blt_ind)*0.8)\n",
    "blt_train_ind = blt_ind[:lim_ind]\n",
    "blt_test_ind = blt_ind[lim_ind:]\n",
    "print(\"built %d %d\" % (len(blt_train_ind), len(blt_test_ind)))\n",
    "\n",
    "# windows coordinates\n",
    "windows_ind = np.arange(windows_coords.shape[0])\n",
    "random.Random(3).shuffle(windows_ind)\n",
    "lim_ind = int(len(windows_ind)*0.8)\n",
    "windows_train_ind = windows_ind[:lim_ind]\n",
    "windows_test_ind = windows_ind[lim_ind:]\n",
    "print(\"windows %d %d\" % (len(windows_train_ind), len(windows_test_ind)))\n",
    "\n",
    "# roads coordinates\n",
    "rds_ind = np.arange(rds_coords.shape[0])\n",
    "random.Random(3).shuffle(rds_ind)\n",
    "lim_ind = int(len(rds_ind)*0.8)\n",
    "rds_train_ind = rds_ind[:lim_ind]\n",
    "rds_test_ind = rds_ind[lim_ind:]\n",
    "print(\"roads %d %d\" % (len(rds_train_ind), len(rds_test_ind)))\n",
    "\n",
    "# cars coordinates\n",
    "cars_ind = np.arange(cars_coords.shape[0])\n",
    "random.Random(3).shuffle(cars_ind)\n",
    "lim_ind = int(len(cars_ind)*0.8)\n",
    "cars_train_ind = cars_ind[:lim_ind]\n",
    "cars_test_ind = cars_ind[lim_ind:]\n",
    "print(\"cars %d %d\" % (len(cars_train_ind), len(cars_test_ind)))\n",
    "\n",
    "# metal coordinates\n",
    "mtl_ind = np.arange(mtl_coords.shape[0])\n",
    "random.Random(3).shuffle(mtl_ind)\n",
    "lim_ind = int(len(mtl_ind)*0.8)\n",
    "mtl_train_ind = mtl_ind[:lim_ind]\n",
    "mtl_test_ind = mtl_ind[lim_ind:]\n",
    "print(\"metal %d %d\" % (len(mtl_train_ind), len(mtl_test_ind)))"
   ]
  },
  {
   "cell_type": "code",
   "execution_count": 17,
   "metadata": {},
   "outputs": [
    {
     "name": "stdout",
     "output_type": "stream",
     "text": [
      "sky  (240, 850) (60, 850)\n",
      "clouds  (400, 850) (100, 850)\n",
      "vegetation  (480, 850) (120, 850)\n",
      "water  (40, 850) (10, 850)\n",
      "built  (816, 850) (204, 850)\n",
      "windows  (400, 850) (100, 850)\n",
      "roads  (24, 850) (6, 850)\n",
      "cars  (80, 850) (20, 850)\n",
      "metal  (80, 850) (20, 850)\n"
     ]
    }
   ],
   "source": [
    "cube_sky_train = cube_specxy[sky_coords[sky_train_ind[:], 0], sky_coords[sky_train_ind[:], 1], :]\n",
    "cube_sky_test = cube_specxy[sky_coords[sky_test_ind[:], 0], sky_coords[sky_test_ind[:], 1], :]\n",
    "print(\"sky \", cube_sky_train.shape, cube_sky_test.shape)\n",
    "\n",
    "cube_clouds_train = cube_specxy[clouds_coords[clouds_train_ind[:], 0], clouds_coords[clouds_train_ind[:], 1], :]\n",
    "cube_clouds_test = cube_specxy[clouds_coords[clouds_test_ind[:], 0], clouds_coords[clouds_test_ind[:], 1], :]\n",
    "print(\"clouds \", cube_clouds_train.shape, cube_clouds_test.shape)\n",
    "\n",
    "cube_veg_train = cube_specxy[veg_coords[veg_train_ind[:], 0], veg_coords[veg_train_ind[:], 1], :]\n",
    "cube_veg_test = cube_specxy[veg_coords[veg_test_ind[:], 0], veg_coords[veg_test_ind[:], 1], :]\n",
    "print(\"vegetation \", cube_veg_train.shape, cube_veg_test.shape)\n",
    "\n",
    "cube_wtr_train = cube_specxy[wtr_coords[wtr_train_ind[:], 0], wtr_coords[wtr_train_ind[:], 1], :]\n",
    "cube_wtr_test = cube_specxy[wtr_coords[wtr_test_ind[:], 0], wtr_coords[wtr_test_ind[:], 1], :]\n",
    "print(\"water \", cube_wtr_train.shape, cube_wtr_test.shape)\n",
    "\n",
    "cube_blt_train = cube_specxy[blt_coords[blt_train_ind[:], 0], blt_coords[blt_train_ind[:], 1], :]\n",
    "cube_blt_test = cube_specxy[blt_coords[blt_test_ind[:], 0], blt_coords[blt_test_ind[:], 1], :]\n",
    "print(\"built \", cube_blt_train.shape, cube_blt_test.shape)\n",
    "\n",
    "cube_windows_train = cube_specxy[windows_coords[windows_train_ind[:], 0], windows_coords[windows_train_ind[:], 1], :]\n",
    "cube_windows_test = cube_specxy[windows_coords[windows_test_ind[:], 0], windows_coords[windows_test_ind[:], 1], :]\n",
    "print(\"windows \", cube_windows_train.shape, cube_windows_test.shape)\n",
    "\n",
    "cube_rds_train = cube_specxy[rds_coords[rds_train_ind[:], 0], rds_coords[rds_train_ind[:], 1], :]\n",
    "cube_rds_test = cube_specxy[rds_coords[rds_test_ind[:], 0], rds_coords[rds_test_ind[:], 1], :]\n",
    "print(\"roads \", cube_rds_train.shape, cube_rds_test.shape)\n",
    "\n",
    "cube_cars_train = cube_specxy[cars_coords[cars_train_ind[:], 0], cars_coords[cars_train_ind[:], 1], :]\n",
    "cube_cars_test = cube_specxy[cars_coords[cars_test_ind[:], 0], cars_coords[cars_test_ind[:], 1], :]\n",
    "print(\"cars \", cube_cars_train.shape, cube_cars_test.shape)\n",
    "\n",
    "cube_mtl_train = cube_specxy[mtl_coords[mtl_train_ind[:], 0], mtl_coords[mtl_train_ind[:], 1], :]\n",
    "cube_mtl_test = cube_specxy[mtl_coords[mtl_test_ind[:], 0], mtl_coords[mtl_test_ind[:], 1], :]\n",
    "print(\"metal \", cube_mtl_train.shape, cube_mtl_test.shape)"
   ]
  },
  {
   "cell_type": "code",
   "execution_count": 18,
   "metadata": {},
   "outputs": [
    {
     "name": "stdout",
     "output_type": "stream",
     "text": [
      "(2560, 850)\n",
      "(640, 850)\n"
     ]
    }
   ],
   "source": [
    "# concatenate training and testing sets and create index arrays\n",
    "\n",
    "cube_train = np.concatenate((cube_sky_train, cube_clouds_train, cube_veg_train, cube_wtr_train, cube_blt_train,\n",
    "                            cube_windows_train, cube_rds_train, cube_cars_train, cube_mtl_train), axis=0)\n",
    "cube_train_labels = [0]*cube_sky_train.shape[0] + [1]*cube_clouds_train.shape[0] \\\n",
    "                    + [2]*cube_veg_train.shape[0] + [3]*cube_wtr_train.shape[0] \\\n",
    "                    + [4]*cube_blt_train.shape[0] + [5]*cube_windows_train.shape[0] \\\n",
    "                    + [6]*cube_rds_train.shape[0] + [7]*cube_cars_train.shape[0] + [8]*cube_mtl_train.shape[0]\n",
    "\n",
    "print(cube_train.shape)\n",
    "\n",
    "cube_test = np.concatenate((cube_sky_test, cube_clouds_test, cube_veg_test, cube_wtr_test, cube_blt_test,\n",
    "                            cube_windows_test, cube_rds_test, cube_cars_test, cube_mtl_test), axis=0)\n",
    "cube_test_labels = [0]*cube_sky_test.shape[0] + [1]*cube_clouds_test.shape[0] \\\n",
    "                    + [2]*cube_veg_test.shape[0] + [3]*cube_wtr_test.shape[0] \\\n",
    "                    + [4]*cube_blt_test.shape[0] + [5]*cube_windows_test.shape[0] \\\n",
    "                    + [6]*cube_rds_test.shape[0] + [7]*cube_cars_test.shape[0] + [8]*cube_mtl_test.shape[0]\n",
    "\n",
    "print(cube_test.shape)"
   ]
  },
  {
   "cell_type": "markdown",
   "metadata": {},
   "source": [
    "___\n",
    "## Train CNN\n",
    "### Filter size = 2\n",
    "#### number fo filters = 16, 32"
   ]
  },
  {
   "cell_type": "code",
   "execution_count": 19,
   "metadata": {},
   "outputs": [],
   "source": [
    "cube_train_labels = np.array(cube_train_labels)\n",
    "cube_test_labels = np.array(cube_test_labels)"
   ]
  },
  {
   "cell_type": "code",
   "execution_count": 78,
   "metadata": {
    "scrolled": true
   },
   "outputs": [
    {
     "name": "stdout",
     "output_type": "stream",
     "text": [
      "Epoch 1/100\n",
      "5/5 [==============================] - 1s 228ms/step - loss: 2.0278 - accuracy: 0.3625 - val_loss: 1.6059 - val_accuracy: 0.4969\n",
      "Epoch 2/100\n",
      "5/5 [==============================] - 1s 219ms/step - loss: 1.3086 - accuracy: 0.5590 - val_loss: 1.0327 - val_accuracy: 0.6922\n",
      "Epoch 3/100\n",
      "5/5 [==============================] - 1s 197ms/step - loss: 0.9172 - accuracy: 0.7402 - val_loss: 0.7774 - val_accuracy: 0.7594\n",
      "Epoch 4/100\n",
      "5/5 [==============================] - 2s 340ms/step - loss: 0.7255 - accuracy: 0.7805 - val_loss: 0.6454 - val_accuracy: 0.7969\n",
      "Epoch 5/100\n",
      "5/5 [==============================] - 1s 173ms/step - loss: 0.6121 - accuracy: 0.8301 - val_loss: 0.5482 - val_accuracy: 0.8703\n",
      "Epoch 6/100\n",
      "5/5 [==============================] - 1s 152ms/step - loss: 0.5145 - accuracy: 0.8578 - val_loss: 0.5050 - val_accuracy: 0.8266\n",
      "Epoch 7/100\n",
      "5/5 [==============================] - 1s 176ms/step - loss: 0.4647 - accuracy: 0.8590 - val_loss: 0.4455 - val_accuracy: 0.8797\n",
      "Epoch 8/100\n",
      "5/5 [==============================] - 1s 156ms/step - loss: 0.4219 - accuracy: 0.8742 - val_loss: 0.4030 - val_accuracy: 0.8844\n",
      "Epoch 9/100\n",
      "5/5 [==============================] - 1s 155ms/step - loss: 0.3930 - accuracy: 0.8793 - val_loss: 0.3495 - val_accuracy: 0.8891\n",
      "Epoch 10/100\n",
      "5/5 [==============================] - 1s 171ms/step - loss: 0.3730 - accuracy: 0.8879 - val_loss: 0.3609 - val_accuracy: 0.8828\n",
      "Epoch 11/100\n",
      "5/5 [==============================] - 1s 185ms/step - loss: 0.3525 - accuracy: 0.8957 - val_loss: 0.3520 - val_accuracy: 0.8906\n",
      "Epoch 12/100\n",
      "5/5 [==============================] - 1s 170ms/step - loss: 0.3454 - accuracy: 0.9000 - val_loss: 0.3301 - val_accuracy: 0.9062\n",
      "Epoch 13/100\n",
      "5/5 [==============================] - 1s 158ms/step - loss: 0.3184 - accuracy: 0.9094 - val_loss: 0.3116 - val_accuracy: 0.8984\n",
      "Epoch 14/100\n",
      "5/5 [==============================] - 1s 161ms/step - loss: 0.3209 - accuracy: 0.9047 - val_loss: 0.2935 - val_accuracy: 0.9062\n",
      "Epoch 15/100\n",
      "5/5 [==============================] - 1s 153ms/step - loss: 0.2901 - accuracy: 0.9109 - val_loss: 0.2890 - val_accuracy: 0.9000\n",
      "Epoch 16/100\n",
      "5/5 [==============================] - 1s 155ms/step - loss: 0.2872 - accuracy: 0.9168 - val_loss: 0.3083 - val_accuracy: 0.8953\n",
      "Epoch 17/100\n",
      "5/5 [==============================] - 1s 172ms/step - loss: 0.2927 - accuracy: 0.9094 - val_loss: 0.2638 - val_accuracy: 0.9031\n",
      "Epoch 18/100\n",
      "5/5 [==============================] - 1s 160ms/step - loss: 0.3659 - accuracy: 0.8785 - val_loss: 0.2859 - val_accuracy: 0.9062\n",
      "Epoch 19/100\n",
      "5/5 [==============================] - 1s 162ms/step - loss: 0.2836 - accuracy: 0.9168 - val_loss: 0.2716 - val_accuracy: 0.9016\n",
      "Epoch 20/100\n",
      "5/5 [==============================] - 1s 172ms/step - loss: 0.2791 - accuracy: 0.9113 - val_loss: 0.2664 - val_accuracy: 0.9094\n",
      "Epoch 21/100\n",
      "5/5 [==============================] - 1s 167ms/step - loss: 0.2993 - accuracy: 0.9102 - val_loss: 0.3061 - val_accuracy: 0.9031\n",
      "Epoch 22/100\n",
      "5/5 [==============================] - 1s 165ms/step - loss: 0.3037 - accuracy: 0.9027 - val_loss: 0.2734 - val_accuracy: 0.9062\n",
      "Epoch 23/100\n",
      "5/5 [==============================] - 1s 156ms/step - loss: 0.2727 - accuracy: 0.9141 - val_loss: 0.2594 - val_accuracy: 0.9078\n",
      "Epoch 24/100\n",
      "5/5 [==============================] - 1s 163ms/step - loss: 0.2562 - accuracy: 0.9125 - val_loss: 0.2599 - val_accuracy: 0.9156\n",
      "Epoch 25/100\n",
      "5/5 [==============================] - 1s 152ms/step - loss: 0.2404 - accuracy: 0.9262 - val_loss: 0.2437 - val_accuracy: 0.9062\n",
      "Epoch 26/100\n",
      "5/5 [==============================] - 1s 145ms/step - loss: 0.2416 - accuracy: 0.9273 - val_loss: 0.2429 - val_accuracy: 0.9125\n",
      "Epoch 27/100\n",
      "5/5 [==============================] - 1s 164ms/step - loss: 0.2331 - accuracy: 0.9246 - val_loss: 0.2265 - val_accuracy: 0.9156\n",
      "Epoch 28/100\n",
      "5/5 [==============================] - 1s 161ms/step - loss: 0.2274 - accuracy: 0.9273 - val_loss: 0.2181 - val_accuracy: 0.9234\n",
      "Epoch 29/100\n",
      "5/5 [==============================] - 1s 176ms/step - loss: 0.2184 - accuracy: 0.9328 - val_loss: 0.2446 - val_accuracy: 0.9125\n",
      "Epoch 30/100\n",
      "5/5 [==============================] - 1s 160ms/step - loss: 0.2223 - accuracy: 0.9254 - val_loss: 0.2238 - val_accuracy: 0.9156\n",
      "Epoch 31/100\n",
      "5/5 [==============================] - 1s 174ms/step - loss: 0.2322 - accuracy: 0.9246 - val_loss: 0.2212 - val_accuracy: 0.9266\n",
      "Epoch 32/100\n",
      "5/5 [==============================] - 1s 154ms/step - loss: 0.2039 - accuracy: 0.9332 - val_loss: 0.2170 - val_accuracy: 0.9219\n",
      "Epoch 33/100\n",
      "5/5 [==============================] - 1s 157ms/step - loss: 0.2090 - accuracy: 0.9332 - val_loss: 0.2074 - val_accuracy: 0.9219\n",
      "Epoch 34/100\n",
      "5/5 [==============================] - 1s 170ms/step - loss: 0.1996 - accuracy: 0.9336 - val_loss: 0.2031 - val_accuracy: 0.9234\n",
      "Epoch 35/100\n",
      "5/5 [==============================] - 1s 152ms/step - loss: 0.2313 - accuracy: 0.9242 - val_loss: 0.2430 - val_accuracy: 0.9141\n",
      "Epoch 36/100\n",
      "5/5 [==============================] - 1s 169ms/step - loss: 0.2426 - accuracy: 0.9191 - val_loss: 0.2534 - val_accuracy: 0.9266\n",
      "Epoch 37/100\n",
      "5/5 [==============================] - 1s 177ms/step - loss: 0.2376 - accuracy: 0.9234 - val_loss: 0.2083 - val_accuracy: 0.9234\n",
      "Epoch 38/100\n",
      "5/5 [==============================] - 1s 166ms/step - loss: 0.2057 - accuracy: 0.9352 - val_loss: 0.2121 - val_accuracy: 0.9156\n",
      "Epoch 39/100\n",
      "5/5 [==============================] - 1s 176ms/step - loss: 0.2002 - accuracy: 0.9324 - val_loss: 0.2034 - val_accuracy: 0.9219\n",
      "Epoch 40/100\n",
      "5/5 [==============================] - 1s 172ms/step - loss: 0.2142 - accuracy: 0.9262 - val_loss: 0.2336 - val_accuracy: 0.9422\n",
      "Epoch 41/100\n",
      "5/5 [==============================] - 1s 175ms/step - loss: 0.2084 - accuracy: 0.9344 - val_loss: 0.2134 - val_accuracy: 0.9281\n",
      "Epoch 42/100\n",
      "5/5 [==============================] - 1s 158ms/step - loss: 0.2099 - accuracy: 0.9352 - val_loss: 0.2058 - val_accuracy: 0.9312\n",
      "Epoch 43/100\n",
      "5/5 [==============================] - 1s 163ms/step - loss: 0.1978 - accuracy: 0.9359 - val_loss: 0.2025 - val_accuracy: 0.9234\n",
      "Epoch 44/100\n",
      "5/5 [==============================] - 1s 148ms/step - loss: 0.1876 - accuracy: 0.9348 - val_loss: 0.1987 - val_accuracy: 0.9234\n",
      "Epoch 45/100\n",
      "5/5 [==============================] - 1s 156ms/step - loss: 0.1772 - accuracy: 0.9398 - val_loss: 0.1993 - val_accuracy: 0.9312\n",
      "Epoch 46/100\n",
      "5/5 [==============================] - 1s 172ms/step - loss: 0.1749 - accuracy: 0.9434 - val_loss: 0.1916 - val_accuracy: 0.9266\n",
      "Epoch 47/100\n",
      "5/5 [==============================] - 1s 172ms/step - loss: 0.1681 - accuracy: 0.9434 - val_loss: 0.1948 - val_accuracy: 0.9328\n",
      "Epoch 48/100\n",
      "5/5 [==============================] - 1s 153ms/step - loss: 0.1729 - accuracy: 0.9406 - val_loss: 0.1838 - val_accuracy: 0.9266\n",
      "Epoch 49/100\n",
      "5/5 [==============================] - 1s 163ms/step - loss: 0.1701 - accuracy: 0.9434 - val_loss: 0.1928 - val_accuracy: 0.9297\n",
      "Epoch 50/100\n",
      "5/5 [==============================] - 1s 173ms/step - loss: 0.1588 - accuracy: 0.9480 - val_loss: 0.1747 - val_accuracy: 0.9359\n",
      "Epoch 51/100\n",
      "5/5 [==============================] - 1s 164ms/step - loss: 0.1595 - accuracy: 0.9453 - val_loss: 0.1785 - val_accuracy: 0.9406\n",
      "Epoch 52/100\n",
      "5/5 [==============================] - 1s 160ms/step - loss: 0.1635 - accuracy: 0.9477 - val_loss: 0.1815 - val_accuracy: 0.9328\n",
      "Epoch 53/100\n",
      "5/5 [==============================] - 1s 158ms/step - loss: 0.1547 - accuracy: 0.9461 - val_loss: 0.1737 - val_accuracy: 0.9438\n",
      "Epoch 54/100\n",
      "5/5 [==============================] - 1s 152ms/step - loss: 0.1472 - accuracy: 0.9516 - val_loss: 0.1642 - val_accuracy: 0.9484\n",
      "Epoch 55/100\n",
      "5/5 [==============================] - 1s 146ms/step - loss: 0.1435 - accuracy: 0.9504 - val_loss: 0.1694 - val_accuracy: 0.9484\n",
      "Epoch 56/100\n",
      "5/5 [==============================] - 1s 176ms/step - loss: 0.1570 - accuracy: 0.9492 - val_loss: 0.1741 - val_accuracy: 0.9375\n",
      "Epoch 57/100\n",
      "5/5 [==============================] - 1s 151ms/step - loss: 0.1538 - accuracy: 0.9480 - val_loss: 0.1995 - val_accuracy: 0.9250\n",
      "Epoch 58/100\n",
      "5/5 [==============================] - 1s 173ms/step - loss: 0.1652 - accuracy: 0.9453 - val_loss: 0.1787 - val_accuracy: 0.9516\n"
     ]
    },
    {
     "name": "stdout",
     "output_type": "stream",
     "text": [
      "Epoch 59/100\n",
      "5/5 [==============================] - 1s 170ms/step - loss: 0.1556 - accuracy: 0.9477 - val_loss: 0.1685 - val_accuracy: 0.9469\n",
      "Epoch 60/100\n",
      "5/5 [==============================] - 1s 192ms/step - loss: 0.1466 - accuracy: 0.9508 - val_loss: 0.1628 - val_accuracy: 0.9516\n",
      "Epoch 61/100\n",
      "5/5 [==============================] - 1s 153ms/step - loss: 0.1421 - accuracy: 0.9512 - val_loss: 0.1633 - val_accuracy: 0.9453\n",
      "Epoch 62/100\n",
      "5/5 [==============================] - 1s 165ms/step - loss: 0.1381 - accuracy: 0.9520 - val_loss: 0.1603 - val_accuracy: 0.9438\n",
      "Epoch 63/100\n",
      "5/5 [==============================] - 1s 164ms/step - loss: 0.1321 - accuracy: 0.9559 - val_loss: 0.1721 - val_accuracy: 0.9406\n",
      "Epoch 64/100\n",
      "5/5 [==============================] - 1s 148ms/step - loss: 0.1266 - accuracy: 0.9559 - val_loss: 0.1618 - val_accuracy: 0.9469\n",
      "Epoch 65/100\n",
      "5/5 [==============================] - 1s 166ms/step - loss: 0.1326 - accuracy: 0.9574 - val_loss: 0.1581 - val_accuracy: 0.9422\n",
      "Epoch 66/100\n",
      "5/5 [==============================] - 1s 163ms/step - loss: 0.1201 - accuracy: 0.9570 - val_loss: 0.1715 - val_accuracy: 0.9391\n",
      "Epoch 67/100\n",
      "5/5 [==============================] - 1s 153ms/step - loss: 0.1290 - accuracy: 0.9594 - val_loss: 0.1494 - val_accuracy: 0.9484\n",
      "Epoch 68/100\n",
      "5/5 [==============================] - 1s 171ms/step - loss: 0.1212 - accuracy: 0.9570 - val_loss: 0.1552 - val_accuracy: 0.9500\n",
      "Epoch 69/100\n",
      "5/5 [==============================] - 1s 201ms/step - loss: 0.1160 - accuracy: 0.9637 - val_loss: 0.1561 - val_accuracy: 0.9453\n",
      "Epoch 70/100\n",
      "5/5 [==============================] - 1s 166ms/step - loss: 0.1122 - accuracy: 0.9582 - val_loss: 0.1708 - val_accuracy: 0.9438\n",
      "Epoch 71/100\n",
      "5/5 [==============================] - 1s 157ms/step - loss: 0.1335 - accuracy: 0.9539 - val_loss: 0.1650 - val_accuracy: 0.9453\n",
      "Epoch 72/100\n",
      "5/5 [==============================] - 1s 155ms/step - loss: 0.1504 - accuracy: 0.9477 - val_loss: 0.1463 - val_accuracy: 0.9531\n",
      "Epoch 73/100\n",
      "5/5 [==============================] - 1s 154ms/step - loss: 0.1321 - accuracy: 0.9547 - val_loss: 0.1844 - val_accuracy: 0.9438\n",
      "Epoch 74/100\n",
      "5/5 [==============================] - 1s 152ms/step - loss: 0.1453 - accuracy: 0.9531 - val_loss: 0.1697 - val_accuracy: 0.9406\n",
      "Epoch 75/100\n",
      "5/5 [==============================] - 1s 172ms/step - loss: 0.1398 - accuracy: 0.9547 - val_loss: 0.1750 - val_accuracy: 0.9344\n",
      "Epoch 76/100\n",
      "5/5 [==============================] - 1s 151ms/step - loss: 0.1231 - accuracy: 0.9543 - val_loss: 0.1478 - val_accuracy: 0.9500\n",
      "Epoch 77/100\n",
      "5/5 [==============================] - 1s 179ms/step - loss: 0.1220 - accuracy: 0.9602 - val_loss: 0.1626 - val_accuracy: 0.9406\n",
      "Epoch 78/100\n",
      "5/5 [==============================] - 1s 184ms/step - loss: 0.1151 - accuracy: 0.9582 - val_loss: 0.1671 - val_accuracy: 0.9438\n",
      "Epoch 79/100\n",
      "5/5 [==============================] - 1s 160ms/step - loss: 0.1303 - accuracy: 0.9555 - val_loss: 0.1487 - val_accuracy: 0.9563\n",
      "Epoch 80/100\n",
      "5/5 [==============================] - 1s 163ms/step - loss: 0.1167 - accuracy: 0.9578 - val_loss: 0.1568 - val_accuracy: 0.9625\n",
      "Epoch 81/100\n",
      "5/5 [==============================] - 1s 161ms/step - loss: 0.1394 - accuracy: 0.9539 - val_loss: 0.1725 - val_accuracy: 0.9359\n",
      "Epoch 82/100\n",
      "5/5 [==============================] - 1s 147ms/step - loss: 0.1526 - accuracy: 0.9473 - val_loss: 0.1988 - val_accuracy: 0.9453\n",
      "Epoch 83/100\n",
      "5/5 [==============================] - 1s 148ms/step - loss: 0.1618 - accuracy: 0.9418 - val_loss: 0.1979 - val_accuracy: 0.9359\n",
      "Epoch 84/100\n",
      "5/5 [==============================] - 1s 156ms/step - loss: 0.3655 - accuracy: 0.8770 - val_loss: 0.6565 - val_accuracy: 0.8578\n",
      "Epoch 85/100\n",
      "5/5 [==============================] - 1s 160ms/step - loss: 0.4327 - accuracy: 0.8746 - val_loss: 0.2775 - val_accuracy: 0.9203\n",
      "Epoch 86/100\n",
      "5/5 [==============================] - 1s 150ms/step - loss: 0.2334 - accuracy: 0.9285 - val_loss: 0.2244 - val_accuracy: 0.9234\n",
      "Epoch 87/100\n",
      "5/5 [==============================] - 1s 163ms/step - loss: 0.2181 - accuracy: 0.9312 - val_loss: 0.2077 - val_accuracy: 0.9359\n",
      "Epoch 88/100\n",
      "5/5 [==============================] - 1s 162ms/step - loss: 0.1814 - accuracy: 0.9414 - val_loss: 0.1856 - val_accuracy: 0.9391\n",
      "Epoch 89/100\n",
      "5/5 [==============================] - 1s 177ms/step - loss: 0.1724 - accuracy: 0.9434 - val_loss: 0.1768 - val_accuracy: 0.9484\n",
      "Epoch 90/100\n",
      "5/5 [==============================] - 1s 153ms/step - loss: 0.1530 - accuracy: 0.9535 - val_loss: 0.1652 - val_accuracy: 0.9359\n",
      "Epoch 91/100\n",
      "5/5 [==============================] - 1s 159ms/step - loss: 0.1425 - accuracy: 0.9504 - val_loss: 0.1706 - val_accuracy: 0.9422\n",
      "Epoch 92/100\n",
      "5/5 [==============================] - 1s 150ms/step - loss: 0.1463 - accuracy: 0.9477 - val_loss: 0.1569 - val_accuracy: 0.9391\n",
      "Epoch 93/100\n",
      "5/5 [==============================] - 1s 157ms/step - loss: 0.1314 - accuracy: 0.9531 - val_loss: 0.1590 - val_accuracy: 0.9469\n",
      "Epoch 94/100\n",
      "5/5 [==============================] - 1s 171ms/step - loss: 0.1229 - accuracy: 0.9594 - val_loss: 0.1538 - val_accuracy: 0.9406\n",
      "Epoch 95/100\n",
      "5/5 [==============================] - 1s 157ms/step - loss: 0.1253 - accuracy: 0.9547 - val_loss: 0.1570 - val_accuracy: 0.9469\n",
      "Epoch 96/100\n",
      "5/5 [==============================] - 1s 151ms/step - loss: 0.1247 - accuracy: 0.9586 - val_loss: 0.1521 - val_accuracy: 0.9578\n",
      "Epoch 97/100\n",
      "5/5 [==============================] - 1s 185ms/step - loss: 0.1216 - accuracy: 0.9613 - val_loss: 0.1460 - val_accuracy: 0.9563\n",
      "Epoch 98/100\n",
      "5/5 [==============================] - 1s 185ms/step - loss: 0.1071 - accuracy: 0.9652 - val_loss: 0.1432 - val_accuracy: 0.9500\n",
      "Epoch 99/100\n",
      "5/5 [==============================] - 1s 151ms/step - loss: 0.1064 - accuracy: 0.9648 - val_loss: 0.1438 - val_accuracy: 0.9500\n",
      "Epoch 100/100\n",
      "5/5 [==============================] - 1s 146ms/step - loss: 0.1066 - accuracy: 0.9609 - val_loss: 0.1536 - val_accuracy: 0.9500\n"
     ]
    }
   ],
   "source": [
    "import tensorflow as tf\n",
    "from tensorflow import keras\n",
    "\n",
    "cnn = keras.Sequential([keras.layers.Conv1D(16, kernel_size=(2), padding=\"same\", \n",
    "                                            activation=\"relu\", input_shape=(cube_specxy.shape[2], 1)),\n",
    "                       keras.layers.MaxPooling1D((2), strides=2),\n",
    "                        keras.layers.Conv1D(32, kernel_size=(2), padding=\"same\", activation=\"relu\"),\n",
    "                        keras.layers.MaxPooling1D((2), strides=2),\n",
    "                        keras.layers.Dropout(0.5),\n",
    "                        keras.layers.Flatten(),\n",
    "                        keras.layers.Dense(512, activation=\"relu\"),\n",
    "                        keras.layers.Dense(9, activation=\"softmax\")])\n",
    "\n",
    "cnn.compile(optimizer=\"adam\", loss=[\"sparse_categorical_crossentropy\"], metrics=['accuracy'])\n",
    "\n",
    "cube_train2 = cube_train.reshape(cube_train.shape[0], cube_train.shape[1], 1)\n",
    "cube_test2 = cube_test.reshape(cube_test.shape[0], cube_test.shape[1], 1)\n",
    "\n",
    "CNNmodel = cnn.fit(cube_train2, cube_train_labels, validation_data=(cube_test2, cube_test_labels), \n",
    "                   epochs=100, batch_size=512)"
   ]
  },
  {
   "cell_type": "code",
   "execution_count": 79,
   "metadata": {},
   "outputs": [
    {
     "data": {
      "image/png": "[encoded data removed]",
      "text/plain": [
       "<Figure size 864x720 with 4 Axes>"
      ]
     },
     "metadata": {
      "needs_background": "light"
     },
     "output_type": "display_data"
    }
   ],
   "source": [
    "# summarize history of loss\n",
    "import matplotlib.pyplot as plt\n",
    "%matplotlib inline\n",
    "\n",
    "f, ((ax1, ax2), (ax3, ax4)) = plt.subplots(2,2, figsize=(12, 10))\n",
    "ax1.plot(CNNmodel.history['loss'])\n",
    "ax1.plot(CNNmodel.history['val_loss'])\n",
    "ax1.set_title('CNN Model Loss')\n",
    "ax1.set_ylabel('loss')\n",
    "ax1.set_xlabel('epoch')\n",
    "ax1.locator_params(nbins=13, axis='x')\n",
    "ax1.legend(['train', 'test'], loc='center right')\n",
    "ax2.plot(CNNmodel.history['accuracy'])\n",
    "ax2.plot(CNNmodel.history['val_accuracy'])\n",
    "ax2.set_title('CNN Model Accuracy')\n",
    "ax2.set_ylabel('accuracy')\n",
    "ax2.set_xlabel('epoch')\n",
    "ax2.locator_params(nbins=12, axis='x')\n",
    "ax2.legend(['train', 'test'], loc='center right')\n",
    "ax3.plot(CNNmodel.history['loss'])\n",
    "ax3.plot(CNNmodel.history['val_loss'])\n",
    "ax3.set_ylabel('log(loss)')\n",
    "ax3.set_xlabel('epoch')\n",
    "ax3.locator_params(nbins=13, axis='x')\n",
    "ax3.legend(['train', 'test'], loc='center right')\n",
    "ax3.set_yscale('log')\n",
    "ax4.plot(CNNmodel.history['accuracy'])\n",
    "ax4.plot(CNNmodel.history['val_accuracy'])\n",
    "ax4.set_ylabel('log(accuracy)')\n",
    "ax4.set_xlabel('epoch')\n",
    "ax4.locator_params(nbins=12, axis='x')\n",
    "ax4.legend(['train', 'test'], loc='center right')\n",
    "ax4.set_yscale('log')\n",
    "plt.show\n",
    "#f.savefig(\"./plots/CNN_change_params_spatial_train_108_5_CNN_loss_accuracy_vs_epoch.png\")"
   ]
  },
  {
   "cell_type": "code",
   "execution_count": 80,
   "metadata": {
    "scrolled": true
   },
   "outputs": [
    {
     "name": "stdout",
     "output_type": "stream",
     "text": [
      "Epoch 1/40\n",
      "2/5 [===========>..................] - ETA: 0s - loss: 2.2968 - accuracy: 0.1943"
     ]
    },
    {
     "name": "stderr",
     "output_type": "stream",
     "text": [
      "W0423 14:41:54.432615 140049804813824 callbacks.py:316] Callbacks method `on_train_batch_end` is slow compared to the batch time. Check your callbacks.\n"
     ]
    },
    {
     "name": "stdout",
     "output_type": "stream",
     "text": [
      "5/5 [==============================] - 1s 242ms/step - loss: 2.0050 - accuracy: 0.3434 - val_loss: 1.6043 - val_accuracy: 0.4984\n",
      "Epoch 2/40\n",
      "5/5 [==============================] - 1s 169ms/step - loss: 1.2883 - accuracy: 0.6047 - val_loss: 0.9911 - val_accuracy: 0.7047\n",
      "Epoch 3/40\n",
      "5/5 [==============================] - 1s 150ms/step - loss: 0.8861 - accuracy: 0.7250 - val_loss: 0.7610 - val_accuracy: 0.8156\n",
      "Epoch 4/40\n",
      "5/5 [==============================] - 1s 171ms/step - loss: 0.7057 - accuracy: 0.8035 - val_loss: 0.6178 - val_accuracy: 0.8422\n",
      "Epoch 5/40\n",
      "5/5 [==============================] - 1s 186ms/step - loss: 0.6111 - accuracy: 0.8234 - val_loss: 0.5353 - val_accuracy: 0.8203\n",
      "Epoch 6/40\n",
      "5/5 [==============================] - 1s 173ms/step - loss: 0.5286 - accuracy: 0.8395 - val_loss: 0.4726 - val_accuracy: 0.8297\n",
      "Epoch 7/40\n",
      "5/5 [==============================] - 1s 172ms/step - loss: 0.4808 - accuracy: 0.8574 - val_loss: 0.4551 - val_accuracy: 0.8672\n",
      "Epoch 8/40\n",
      "5/5 [==============================] - 1s 176ms/step - loss: 0.4853 - accuracy: 0.8359 - val_loss: 0.4012 - val_accuracy: 0.8672\n",
      "Epoch 9/40\n",
      "5/5 [==============================] - 1s 169ms/step - loss: 0.4350 - accuracy: 0.8594 - val_loss: 0.4201 - val_accuracy: 0.8359\n",
      "Epoch 10/40\n",
      "5/5 [==============================] - 1s 160ms/step - loss: 0.4073 - accuracy: 0.8754 - val_loss: 0.3893 - val_accuracy: 0.8578\n",
      "Epoch 11/40\n",
      "5/5 [==============================] - 1s 183ms/step - loss: 0.3864 - accuracy: 0.8797 - val_loss: 0.3479 - val_accuracy: 0.9047\n",
      "Epoch 12/40\n",
      "5/5 [==============================] - 1s 173ms/step - loss: 0.3454 - accuracy: 0.8973 - val_loss: 0.3309 - val_accuracy: 0.8969\n",
      "Epoch 13/40\n",
      "5/5 [==============================] - 1s 177ms/step - loss: 0.3267 - accuracy: 0.9000 - val_loss: 0.3119 - val_accuracy: 0.8984\n",
      "Epoch 14/40\n",
      "5/5 [==============================] - 1s 183ms/step - loss: 0.3228 - accuracy: 0.9047 - val_loss: 0.2927 - val_accuracy: 0.9047\n",
      "Epoch 15/40\n",
      "5/5 [==============================] - 1s 175ms/step - loss: 0.2997 - accuracy: 0.9074 - val_loss: 0.2817 - val_accuracy: 0.9031\n",
      "Epoch 16/40\n",
      "5/5 [==============================] - 1s 164ms/step - loss: 0.3006 - accuracy: 0.9082 - val_loss: 0.2777 - val_accuracy: 0.9125\n",
      "Epoch 17/40\n",
      "5/5 [==============================] - 1s 184ms/step - loss: 0.2891 - accuracy: 0.9094 - val_loss: 0.2987 - val_accuracy: 0.9109\n",
      "Epoch 18/40\n",
      "5/5 [==============================] - 1s 170ms/step - loss: 0.3026 - accuracy: 0.9105 - val_loss: 0.3000 - val_accuracy: 0.9172\n",
      "Epoch 19/40\n",
      "5/5 [==============================] - 1s 163ms/step - loss: 0.2904 - accuracy: 0.9121 - val_loss: 0.3009 - val_accuracy: 0.9062\n",
      "Epoch 20/40\n",
      "5/5 [==============================] - 1s 199ms/step - loss: 0.2834 - accuracy: 0.9145 - val_loss: 0.2692 - val_accuracy: 0.9031\n",
      "Epoch 21/40\n",
      "5/5 [==============================] - 1s 174ms/step - loss: 0.2726 - accuracy: 0.9176 - val_loss: 0.2493 - val_accuracy: 0.9172\n",
      "Epoch 22/40\n",
      "5/5 [==============================] - 1s 174ms/step - loss: 0.2607 - accuracy: 0.9203 - val_loss: 0.2789 - val_accuracy: 0.9250\n",
      "Epoch 23/40\n",
      "5/5 [==============================] - 1s 187ms/step - loss: 0.2756 - accuracy: 0.9180 - val_loss: 0.2850 - val_accuracy: 0.9062\n",
      "Epoch 24/40\n",
      "5/5 [==============================] - 1s 186ms/step - loss: 0.2691 - accuracy: 0.9180 - val_loss: 0.2620 - val_accuracy: 0.9203\n",
      "Epoch 25/40\n",
      "5/5 [==============================] - 1s 157ms/step - loss: 0.2521 - accuracy: 0.9234 - val_loss: 0.2558 - val_accuracy: 0.9203\n",
      "Epoch 26/40\n",
      "5/5 [==============================] - 1s 177ms/step - loss: 0.2404 - accuracy: 0.9246 - val_loss: 0.2529 - val_accuracy: 0.9094\n",
      "Epoch 27/40\n",
      "5/5 [==============================] - 1s 168ms/step - loss: 0.2576 - accuracy: 0.9187 - val_loss: 0.3106 - val_accuracy: 0.9094\n",
      "Epoch 28/40\n",
      "5/5 [==============================] - 1s 163ms/step - loss: 0.2726 - accuracy: 0.9145 - val_loss: 0.2634 - val_accuracy: 0.9359\n",
      "Epoch 29/40\n",
      "5/5 [==============================] - 1s 172ms/step - loss: 0.2596 - accuracy: 0.9211 - val_loss: 0.2386 - val_accuracy: 0.9187\n",
      "Epoch 30/40\n",
      "5/5 [==============================] - 1s 164ms/step - loss: 0.2315 - accuracy: 0.9277 - val_loss: 0.2160 - val_accuracy: 0.9281\n",
      "Epoch 31/40\n",
      "5/5 [==============================] - 1s 157ms/step - loss: 0.2271 - accuracy: 0.9289 - val_loss: 0.2244 - val_accuracy: 0.9250\n",
      "Epoch 32/40\n",
      "5/5 [==============================] - 1s 168ms/step - loss: 0.2203 - accuracy: 0.9355 - val_loss: 0.2261 - val_accuracy: 0.9094\n",
      "Epoch 33/40\n",
      "5/5 [==============================] - 1s 205ms/step - loss: 0.2145 - accuracy: 0.9320 - val_loss: 0.2270 - val_accuracy: 0.9266\n",
      "Epoch 34/40\n",
      "5/5 [==============================] - 1s 159ms/step - loss: 0.2101 - accuracy: 0.9277 - val_loss: 0.2201 - val_accuracy: 0.9281\n",
      "Epoch 35/40\n",
      "5/5 [==============================] - 1s 176ms/step - loss: 0.2162 - accuracy: 0.9316 - val_loss: 0.2025 - val_accuracy: 0.9266\n",
      "Epoch 36/40\n",
      "5/5 [==============================] - 1s 164ms/step - loss: 0.2039 - accuracy: 0.9320 - val_loss: 0.2084 - val_accuracy: 0.9203\n",
      "Epoch 37/40\n",
      "5/5 [==============================] - 1s 158ms/step - loss: 0.1958 - accuracy: 0.9371 - val_loss: 0.2032 - val_accuracy: 0.9250\n",
      "Epoch 38/40\n",
      "5/5 [==============================] - 1s 168ms/step - loss: 0.1955 - accuracy: 0.9375 - val_loss: 0.1930 - val_accuracy: 0.9250\n",
      "Epoch 39/40\n",
      "5/5 [==============================] - 1s 170ms/step - loss: 0.1972 - accuracy: 0.9344 - val_loss: 0.2241 - val_accuracy: 0.9234\n",
      "Epoch 40/40\n",
      "5/5 [==============================] - 1s 174ms/step - loss: 0.1958 - accuracy: 0.9363 - val_loss: 0.2215 - val_accuracy: 0.9312\n"
     ]
    }
   ],
   "source": [
    "import tensorflow as tf\n",
    "from tensorflow import keras\n",
    "from datetime import datetime\n",
    "\n",
    "cnn = keras.Sequential([keras.layers.Conv1D(16, kernel_size=(2), padding=\"same\", \n",
    "                                            activation=\"relu\", input_shape=(cube_specxy.shape[2], 1)),\n",
    "                       keras.layers.MaxPooling1D((2), strides=2),\n",
    "                        keras.layers.Conv1D(32, kernel_size=(2), padding=\"same\", activation=\"relu\"),\n",
    "                        keras.layers.MaxPooling1D((2), strides=2),\n",
    "                        keras.layers.Dropout(0.5),\n",
    "                        keras.layers.Flatten(),\n",
    "                        keras.layers.Dense(512, activation=\"relu\"),\n",
    "                        keras.layers.Dense(9, activation=\"softmax\")])\n",
    "\n",
    "cnn.compile(optimizer=\"adam\", loss=[\"sparse_categorical_crossentropy\"], metrics=['accuracy'])\n",
    "\n",
    "cube_train2 = cube_train.reshape(cube_train.shape[0], cube_train.shape[1], 1)\n",
    "cube_test2 = cube_test.reshape(cube_test.shape[0], cube_test.shape[1], 1)\n",
    "\n",
    "!rm -rf ./logs/\n",
    "logdir = \"./logs/fit/\" + datetime.now().strftime(\"%Y%m%d-%H%M%S\")\n",
    "tensorboard_callback = keras.callbacks.TensorBoard(log_dir=logdir)\n",
    "\n",
    "CNNmodel = cnn.fit(cube_train2, cube_train_labels, validation_data=(cube_test2, cube_test_labels), \n",
    "                   epochs=40, batch_size=512, callbacks=[tensorboard_callback])"
   ]
  },
  {
   "cell_type": "code",
   "execution_count": 81,
   "metadata": {},
   "outputs": [
    {
     "name": "stdout",
     "output_type": "stream",
     "text": [
      "80/80 [==============================] - 1s 8ms/step - loss: 0.1841 - accuracy: 0.9426\n",
      "20/20 [==============================] - 0s 7ms/step - loss: 0.2215 - accuracy: 0.9312\n",
      "0.942578136920929 0.9312499761581421\n"
     ]
    }
   ],
   "source": [
    "# model accuracy on training and testing sets\n",
    "\n",
    "train_loss_2, train_acc_2 = cnn.evaluate(cube_train2, cube_train_labels)\n",
    "test_loss_2, test_acc_2 = cnn.evaluate(cube_test2, cube_test_labels)\n",
    "\n",
    "print(train_acc, test_acc)"
   ]
  },
  {
   "cell_type": "code",
   "execution_count": 82,
   "metadata": {},
   "outputs": [
    {
     "name": "stdout",
     "output_type": "stream",
     "text": [
      "(2560,)\n",
      "(640,)\n"
     ]
    }
   ],
   "source": [
    "print(cube_train_labels.shape)\n",
    "print(cube_test_labels.shape)"
   ]
  },
  {
   "cell_type": "code",
   "execution_count": null,
   "metadata": {},
   "outputs": [],
   "source": [
    "#%load_ext tensorboard\n",
    "#%tensorboard --logdir logs"
   ]
  },
  {
   "cell_type": "code",
   "execution_count": null,
   "metadata": {},
   "outputs": [],
   "source": [
    "import pydot\n",
    "import graphviz\n",
    "from tensorflow.keras.utils import plot_model\n",
    "#plot_model(cnn, to_file='./plots/model_CNN_change_params.png', show_shapes=True,\n",
    "#                      show_layer_names=True, rankdir='LR', expand_nested=True, dpi=300)"
   ]
  },
  {
   "cell_type": "code",
   "execution_count": 84,
   "metadata": {},
   "outputs": [
    {
     "name": "stdout",
     "output_type": "stream",
     "text": [
      "           OPERATION           DATA DIMENSIONS   WEIGHTS(N)   WEIGHTS(%)\n",
      "\n",
      "               Input   #####    850    1\n",
      "              Conv1D    \\|/  -------------------       816     0.0%\n",
      "                relu   #####    850   16\n",
      "        MaxPooling1D   Y max -------------------         0     0.0%\n",
      "                       #####    425   16\n",
      "              Conv1D    \\|/  -------------------     25632     0.7%\n",
      "                relu   #####    425   32\n",
      "        MaxPooling1D   Y max -------------------         0     0.0%\n",
      "                       #####    212   32\n",
      "             Dropout    | || -------------------         0     0.0%\n",
      "                       #####    212   32\n",
      "             Flatten   ||||| -------------------         0     0.0%\n",
      "                       #####        6784\n",
      "               Dense   XXXXX -------------------   3473920    99.1%\n",
      "                relu   #####         512\n",
      "               Dense   XXXXX -------------------      4617     0.1%\n",
      "             softmax   #####           9\n"
     ]
    }
   ],
   "source": [
    "from keras_sequential_ascii import keras2ascii\n",
    "keras2ascii(cnn)"
   ]
  },
  {
   "cell_type": "code",
   "execution_count": 69,
   "metadata": {},
   "outputs": [
    {
     "name": "stdout",
     "output_type": "stream",
     "text": [
      "Model: \"sequential_3\"\n",
      "_________________________________________________________________\n",
      "Layer (type)                 Output Shape              Param #   \n",
      "=================================================================\n",
      "conv1d_6 (Conv1D)            (None, 850, 16)           816       \n",
      "_________________________________________________________________\n",
      "max_pooling1d_6 (MaxPooling1 (None, 425, 16)           0         \n",
      "_________________________________________________________________\n",
      "conv1d_7 (Conv1D)            (None, 425, 32)           25632     \n",
      "_________________________________________________________________\n",
      "max_pooling1d_7 (MaxPooling1 (None, 212, 32)           0         \n",
      "_________________________________________________________________\n",
      "dropout_2 (Dropout)          (None, 212, 32)           0         \n",
      "_________________________________________________________________\n",
      "flatten_3 (Flatten)          (None, 6784)              0         \n",
      "_________________________________________________________________\n",
      "dense_6 (Dense)              (None, 512)               3473920   \n",
      "_________________________________________________________________\n",
      "dense_7 (Dense)              (None, 10)                5130      \n",
      "=================================================================\n",
      "Total params: 3,505,498\n",
      "Trainable params: 3,505,498\n",
      "Non-trainable params: 0\n",
      "_________________________________________________________________\n"
     ]
    }
   ],
   "source": [
    "cnn.summary()"
   ]
  },
  {
   "cell_type": "markdown",
   "metadata": {},
   "source": [
    "### Predict pixel classification on veg_00108"
   ]
  },
  {
   "cell_type": "code",
   "execution_count": null,
   "metadata": {},
   "outputs": [],
   "source": [
    "# classify entire binned cube\n",
    "import time\n",
    "start_time = time.time()\n",
    "\n",
    "cube_specxy_2d_1 = cube_specxy_2d.reshape(cube_specxy_2d.shape[0], cube_specxy_2d.shape[1], 1)\n",
    "predictCube = cnn.predict_classes(cube_specxy_2d_1)\n",
    "\n",
    "elapsed_time = time.time() - start_time\n",
    "print(time.strftime(\"%H:%M:%S\", time.gmtime(elapsed_time)))"
   ]
  },
  {
   "cell_type": "code",
   "execution_count": null,
   "metadata": {},
   "outputs": [],
   "source": [
    "predictCube_reshape = predictCube.reshape(cube_specxy.shape[0], cube_specxy.shape[1])"
   ]
  },
  {
   "cell_type": "code",
   "execution_count": 88,
   "metadata": {},
   "outputs": [
    {
     "data": {
      "image/png": "[encoded data removed]",
      "text/plain": [
       "<Figure size 1080x1080 with 1 Axes>"
      ]
     },
     "metadata": {
      "needs_background": "light"
     },
     "output_type": "display_data"
    }
   ],
   "source": [
    "import matplotlib.pyplot as plt\n",
    "import matplotlib.colors as ListedColorMap\n",
    "import matplotlib.patches as mpatches\n",
    "from matplotlib.ticker import NullFormatter\n",
    "%matplotlib inline\n",
    "\n",
    "cmap = {0:[0,0.32549,0.62353,1], 1:[0.93333,0.9098,0.77255,1], 2:[0,0.61961,0.45098,1],  3:[0.33725,0.70588,0.91373,1],\n",
    "        4:[0,0,0,1], 5:[1,0.82353,0,1], 6:[0.90196,0.62353,0,1], 7:[0.83529,0.36863,0,1],\n",
    "        8:[0.8,0.47451,0.65490,1]}\n",
    "labels = {0:'sky', 1:'clouds', 2:'vegetation', 3:'water', 4:'built',\n",
    "          5:'windows', 6:'roads', 7:'cars', 8:'metal'}\n",
    "arrayShow = np.array([[cmap[i] for i in j] for j in predictCube_reshape])\n",
    "patches = [mpatches.Patch(color=cmap[i], label=labels[i]) for i in cmap]\n",
    "\n",
    "fig = plt.figure(figsize=(15,15))\n",
    "ax = fig.add_axes([0.1,0.1,0.9,0.9])\n",
    "ax.tick_params(labelsize=10)\n",
    "ax.imshow(arrayShow, aspect=0.5)\n",
    "lgd = ax.legend(handles=patches, bbox_to_anchor=(1,0.75), loc='upper left', borderaxespad=1.0, prop={'size':10}, ncol=1)\n",
    "plt.show()\n",
    "#fig.savefig(\"./plots/CNN_change_params_spatial_train_108_6_108_predict_map.png\", bbox_extra_artists=(lgd,), bbox_inches='tight')"
   ]
  },
  {
   "cell_type": "code",
   "execution_count": 89,
   "metadata": {},
   "outputs": [
    {
     "data": {
      "image/png": "[encoded data removed]",
      "text/plain": [
       "<Figure size 1080x1080 with 1 Axes>"
      ]
     },
     "metadata": {
      "needs_background": "light"
     },
     "output_type": "display_data"
    }
   ],
   "source": [
    "import matplotlib.pyplot as plt\n",
    "import matplotlib.colors as ListedColorMap\n",
    "import matplotlib.patches as mpatches\n",
    "from matplotlib.ticker import NullFormatter\n",
    "%matplotlib inline\n",
    "\n",
    "cmap = {0:[0,0.32549,0.62353,1], 1:[0.93333,0.9098,0.77255,1], 2:[0,0.61961,0.45098,1],  3:[0.33725,0.70588,0.91373,1],\n",
    "        4:[0,0,0,1], 5:[1,0.82353,0,1], 6:[0.90196,0.62353,0,1], 7:[0.83529,0.36863,0,1],\n",
    "        8:[0.8,0.47451,0.65490,1]}\n",
    "labels = {0:'sky', 1:'clouds', 2:'vegetation', 3:'water', 4:'built',\n",
    "          5:'windows', 6:'roads', 7:'cars', 8:'metal'}\n",
    "arrayShow = np.array([[cmap[i] for i in j] for j in predictCube_reshape])\n",
    "patches = [mpatches.Patch(color=cmap[i], label=labels[i]) for i in cmap]\n",
    "\n",
    "fig = plt.figure(figsize=(15,15))\n",
    "#ax = fig.add_axes([0.1,0.1,0.9,0.9])\n",
    "#ax.tick_params(labelsize=10)\n",
    "plt.imshow(arrayShow, aspect=0.5)\n",
    "#lgd = ax.legend(handles=patches, bbox_to_anchor=(1,0.75), loc='upper left', borderaxespad=1.0, prop={'size':10}, ncol=1)\n",
    "plt.axis('off')\n",
    "plt.show()\n",
    "fig.savefig(\"./plots/CNN_spatial_train_108_filter_size_2_predict_map.png\", bbox_inches='tight', dpi=300)"
   ]
  },
  {
   "cell_type": "code",
   "execution_count": 90,
   "metadata": {},
   "outputs": [],
   "source": [
    "import pickle\n",
    "pickle.dump(predictCube_reshape, open(\"./plots/CNN_spatial_train_108_filter_size_2_predict_map.pickle\", \"wb\"))"
   ]
  },
  {
   "cell_type": "code",
   "execution_count": 19,
   "metadata": {},
   "outputs": [],
   "source": [
    "#import pickle\n",
    "#file = open(\"./plots/CNN_change_params_spatial_train_108_6_108_predict_map.pickle\", \"rb\")\n",
    "#predictCube_reshape = pickle.load(file)"
   ]
  },
  {
   "cell_type": "code",
   "execution_count": 20,
   "metadata": {},
   "outputs": [],
   "source": [
    "#predictCube = predictCube_reshape.reshape(cube_specxy.shape[0]*cube_specxy.shape[1])"
   ]
  },
  {
   "cell_type": "markdown",
   "metadata": {},
   "source": [
    "### Evaluation Metrics (veg_00108)"
   ]
  },
  {
   "cell_type": "code",
   "execution_count": 91,
   "metadata": {},
   "outputs": [],
   "source": [
    "labels_pred_sky = predictCube_reshape[sky_coords[sky_test_ind[:], 0], sky_coords[sky_test_ind[:], 1]]\n",
    "labels_pred_clouds = predictCube_reshape[clouds_coords[clouds_test_ind[:], 0], clouds_coords[clouds_test_ind[:],1]]\n",
    "labels_pred_veg = predictCube_reshape[veg_coords[veg_test_ind[:],0], veg_coords[veg_test_ind[:],1]]\n",
    "labels_pred_wtr = predictCube_reshape[wtr_coords[wtr_test_ind[:],0], wtr_coords[wtr_test_ind[:],1]]\n",
    "labels_pred_blt = predictCube_reshape[blt_coords[blt_test_ind[:],0], blt_coords[blt_test_ind[:],1]]\n",
    "labels_pred_windows = predictCube_reshape[windows_coords[windows_test_ind[:],0], windows_coords[windows_test_ind[:],1]]\n",
    "labels_pred_rds = predictCube_reshape[rds_coords[rds_test_ind[:],0], rds_coords[rds_test_ind[:],1]]\n",
    "labels_pred_cars = predictCube_reshape[cars_coords[cars_test_ind[:],0], cars_coords[cars_test_ind[:],1]]\n",
    "labels_pred_mtl = predictCube_reshape[mtl_coords[mtl_test_ind[:],0], mtl_coords[mtl_test_ind[:],1]]\n",
    "\n",
    "labels_pred = np.concatenate((labels_pred_sky, labels_pred_clouds, labels_pred_veg, labels_pred_wtr, \n",
    "                             labels_pred_blt, labels_pred_windows, labels_pred_rds, labels_pred_cars, labels_pred_mtl))"
   ]
  },
  {
   "cell_type": "code",
   "execution_count": 92,
   "metadata": {},
   "outputs": [],
   "source": [
    "labels_true_sky = np.full(len(sky_test_ind), 0)\n",
    "labels_true_clouds = np.full(len(clouds_test_ind), 1)\n",
    "labels_true_veg = np.full(len(veg_test_ind), 2)\n",
    "labels_true_wtr = np.full(len(wtr_test_ind), 3)\n",
    "labels_true_blt = np.full(len(blt_test_ind), 4)\n",
    "labels_true_windows = np.full(len(windows_test_ind), 5)\n",
    "labels_true_rds = np.full(len(rds_test_ind), 6)\n",
    "labels_true_cars = np.full(len(cars_test_ind), 7)\n",
    "labels_true_mtl = np.full(len(mtl_test_ind), 8)\n",
    "\n",
    "labels_true = np.concatenate((labels_true_sky, labels_true_clouds, labels_true_veg, labels_true_wtr, \n",
    "                             labels_true_blt, labels_true_windows, labels_true_rds, labels_true_cars, labels_true_mtl))"
   ]
  },
  {
   "cell_type": "code",
   "execution_count": 93,
   "metadata": {},
   "outputs": [
    {
     "name": "stdout",
     "output_type": "stream",
     "text": [
      "(640,)\n",
      "(640,)\n"
     ]
    }
   ],
   "source": [
    "print(labels_pred.shape)\n",
    "print(labels_true.shape)"
   ]
  },
  {
   "cell_type": "code",
   "execution_count": 94,
   "metadata": {},
   "outputs": [
    {
     "name": "stdout",
     "output_type": "stream",
     "text": [
      "Confusion Matrix\n",
      "[[ 60   0   0   0   0   0   0   0   0]\n",
      " [  0 100   0   0   0   0   0   0   0]\n",
      " [  0   0 119   0   1   0   0   0   0]\n",
      " [  0   0   0  10   0   0   0   0   0]\n",
      " [  0   0   0   0 199   1   0   4   0]\n",
      " [  0   0   0   0  14  83   0   2   1]\n",
      " [  0   0   0   0   6   0   0   0   0]\n",
      " [  0   0   0   0   0   0   0  20   0]\n",
      " [  0   0   0   0  10   2   0   3   5]]\n",
      "\n",
      "Accuracy Score\n",
      "0.93125\n",
      "\n",
      "Classification Report\n",
      "             precision    recall  f1-score   support\n",
      "\n",
      "        sky       1.00      1.00      1.00        60\n",
      "     clouds       1.00      1.00      1.00       100\n",
      " vegetation       1.00      0.99      1.00       120\n",
      "      water       1.00      1.00      1.00        10\n",
      "      built       0.87      0.98      0.92       204\n",
      "    windows       0.97      0.83      0.89       100\n",
      "      roads       0.00      0.00      0.00         6\n",
      "       cars       0.69      1.00      0.82        20\n",
      "      metal       0.83      0.25      0.38        20\n",
      "\n",
      "avg / total       0.93      0.93      0.92       640\n",
      "\n"
     ]
    },
    {
     "name": "stderr",
     "output_type": "stream",
     "text": [
      "/usr/local/lib/python3.6/site-packages/sklearn/metrics/classification.py:1135: UndefinedMetricWarning: Precision and F-score are ill-defined and being set to 0.0 in labels with no predicted samples.\n",
      "  'precision', 'predicted', average, warn_for)\n"
     ]
    }
   ],
   "source": [
    "from sklearn import metrics\n",
    "\n",
    "print(\"Confusion Matrix\")\n",
    "print(metrics.confusion_matrix(labels_true, labels_pred))\n",
    "\n",
    "print(\"\")\n",
    "print(\"Accuracy Score\")\n",
    "print(metrics.accuracy_score(labels_true, labels_pred))\n",
    "\n",
    "target_names = ['sky', 'clouds', 'vegetation', 'water', 'built', 'windows', 'roads', 'cars', 'metal']\n",
    "print(\"\")\n",
    "print(\"Classification Report\")\n",
    "print(metrics.classification_report(labels_true, labels_pred, target_names=target_names))"
   ]
  },
  {
   "cell_type": "code",
   "execution_count": 44,
   "metadata": {},
   "outputs": [],
   "source": [
    "f = open(\"./metrics/CNN_spatial_train_108_filter_size_2_metrics.txt\", \"w\")\n",
    "f.write(\"Confusion Matrix\")\n",
    "f.write('\\n')\n",
    "f.write(str(metrics.confusion_matrix(labels_true, labels_pred)))\n",
    "f.write('\\n')\n",
    "f.write('\\n')\n",
    "f.write(\"Accuracy Score\")\n",
    "f.write('\\n')\n",
    "f.write(str(metrics.accuracy_score(labels_true, labels_pred)))\n",
    "target_names = ['sky', 'clouds', 'vegetation', 'water', 'built', 'windows', 'roads', 'cars', 'metal']\n",
    "f.write('\\n')\n",
    "f.write('\\n')\n",
    "f.write(\"Classification Report\")\n",
    "f.write('\\n')\n",
    "f.write(metrics.classification_report(labels_true, labels_pred, target_names=target_names))\n",
    "f.close()"
   ]
  },
  {
   "cell_type": "code",
   "execution_count": 45,
   "metadata": {},
   "outputs": [
    {
     "name": "stdout",
     "output_type": "stream",
     "text": [
      "              0    1    2   3    4    5   6   7   8\n",
      "sky         300    0    0   0    0    0   0   0   0\n",
      "clouds        1  499    0   0    0    0   0   0   0\n",
      "vegetation    0    0  598   0    2    0   0   0   0\n",
      "water         0    0    0  50    0    0   0   0   0\n",
      "built         0    0    1   0  974   19   1  19   6\n",
      "windows       0    0    0   0    9  484   0   7   0\n",
      "roads         0    0    0   0    0    4  20   5   1\n",
      "cars          0    0    0   0    1    7   0  92   0\n",
      "metal         0    0    0   0   19   24   0  12  45\n"
     ]
    }
   ],
   "source": [
    "sky_dict, sky_dict_norm = kmeans_test_dictionary(predictCube_reshape, sky_coords, 9)\n",
    "clouds_dict, cloud_dict_norm = kmeans_test_dictionary(predictCube_reshape, clouds_coords, 9)\n",
    "veg_dict, veg_dict_norm = kmeans_test_dictionary(predictCube_reshape, veg_coords, 9)\n",
    "wtr_dict, wtr_dict_norm = kmeans_test_dictionary(predictCube_reshape, wtr_coords, 9)\n",
    "blt_dict, blt_dict_norm = kmeans_test_dictionary(predictCube_reshape, blt_coords, 9)\n",
    "windows_dict, windows_dict_norm = kmeans_test_dictionary(predictCube_reshape, windows_coords, 9)\n",
    "rds_dict, rds_dict_norm = kmeans_test_dictionary(predictCube_reshape, rds_coords, 9)\n",
    "cars_dict, cars_dict_norm = kmeans_test_dictionary(predictCube_reshape, cars_coords, 9)\n",
    "mtl_dict, mtl_dict_norm = kmeans_test_dictionary(predictCube_reshape, mtl_coords, 9)\n",
    "\n",
    "df_test = kmeans_test_dataframe(sky_dict, clouds_dict, veg_dict, wtr_dict,\n",
    "                                blt_dict, windows_dict, rds_dict, cars_dict, mtl_dict)\n",
    "print(df_test.transpose())\n",
    "df_test_norm = kmeans_test_dataframe(sky_dict, clouds_dict, veg_dict, wtr_dict,\n",
    "                                     blt_dict, windows_dict, rds_dict, cars_dict, mtl_dict)\n",
    "#print(\"\")\n",
    "#print(df_test_norm.transpose())"
   ]
  },
  {
   "cell_type": "code",
   "execution_count": 46,
   "metadata": {},
   "outputs": [
    {
     "data": {
      "image/png": "[encoded data removed]",
      "text/plain": [
       "<Figure size 432x288 with 2 Axes>"
      ]
     },
     "metadata": {
      "needs_background": "light"
     },
     "output_type": "display_data"
    },
    {
     "data": {
      "image/png": "[encoded data removed]",
      "text/plain": [
       "<Figure size 432x288 with 1 Axes>"
      ]
     },
     "metadata": {
      "needs_background": "light"
     },
     "output_type": "display_data"
    }
   ],
   "source": [
    "plot_confusion_matrix(df_test, norm=False)\n",
    "#plot_confusion_matrix(df_test_norm, norm=True)\n",
    "plot_test_result(df_test_norm)"
   ]
  },
  {
   "cell_type": "code",
   "execution_count": null,
   "metadata": {},
   "outputs": [],
   "source": []
  },
  {
   "cell_type": "code",
   "execution_count": null,
   "metadata": {},
   "outputs": [],
   "source": []
  },
  {
   "cell_type": "code",
   "execution_count": null,
   "metadata": {},
   "outputs": [],
   "source": []
  },
  {
   "cell_type": "code",
   "execution_count": null,
   "metadata": {},
   "outputs": [],
   "source": []
  },
  {
   "cell_type": "code",
   "execution_count": null,
   "metadata": {},
   "outputs": [],
   "source": []
  },
  {
   "cell_type": "code",
   "execution_count": null,
   "metadata": {},
   "outputs": [],
   "source": []
  },
  {
   "cell_type": "code",
   "execution_count": null,
   "metadata": {},
   "outputs": [],
   "source": []
  },
  {
   "cell_type": "code",
   "execution_count": null,
   "metadata": {},
   "outputs": [],
   "source": []
  },
  {
   "cell_type": "code",
   "execution_count": null,
   "metadata": {},
   "outputs": [],
   "source": []
  },
  {
   "cell_type": "code",
   "execution_count": null,
   "metadata": {},
   "outputs": [],
   "source": []
  },
  {
   "cell_type": "code",
   "execution_count": null,
   "metadata": {},
   "outputs": [],
   "source": []
  },
  {
   "cell_type": "code",
   "execution_count": null,
   "metadata": {},
   "outputs": [],
   "source": []
  },
  {
   "cell_type": "code",
   "execution_count": null,
   "metadata": {},
   "outputs": [],
   "source": []
  },
  {
   "cell_type": "code",
   "execution_count": null,
   "metadata": {},
   "outputs": [],
   "source": []
  },
  {
   "cell_type": "code",
   "execution_count": null,
   "metadata": {},
   "outputs": [],
   "source": []
  },
  {
   "cell_type": "code",
   "execution_count": null,
   "metadata": {},
   "outputs": [],
   "source": []
  },
  {
   "cell_type": "code",
   "execution_count": null,
   "metadata": {},
   "outputs": [],
   "source": []
  },
  {
   "cell_type": "code",
   "execution_count": null,
   "metadata": {},
   "outputs": [],
   "source": []
  },
  {
   "cell_type": "code",
   "execution_count": null,
   "metadata": {},
   "outputs": [],
   "source": []
  },
  {
   "cell_type": "code",
   "execution_count": null,
   "metadata": {},
   "outputs": [],
   "source": []
  },
  {
   "cell_type": "code",
   "execution_count": null,
   "metadata": {},
   "outputs": [],
   "source": []
  },
  {
   "cell_type": "code",
   "execution_count": null,
   "metadata": {},
   "outputs": [],
   "source": []
  },
  {
   "cell_type": "code",
   "execution_count": null,
   "metadata": {},
   "outputs": [],
   "source": []
  },
  {
   "cell_type": "code",
   "execution_count": null,
   "metadata": {},
   "outputs": [],
   "source": []
  },
  {
   "cell_type": "code",
   "execution_count": null,
   "metadata": {},
   "outputs": [],
   "source": []
  },
  {
   "cell_type": "code",
   "execution_count": null,
   "metadata": {},
   "outputs": [],
   "source": []
  },
  {
   "cell_type": "code",
   "execution_count": null,
   "metadata": {},
   "outputs": [],
   "source": []
  },
  {
   "cell_type": "code",
   "execution_count": null,
   "metadata": {},
   "outputs": [],
   "source": []
  },
  {
   "cell_type": "code",
   "execution_count": null,
   "metadata": {},
   "outputs": [],
   "source": []
  },
  {
   "cell_type": "code",
   "execution_count": null,
   "metadata": {},
   "outputs": [],
   "source": []
  },
  {
   "cell_type": "code",
   "execution_count": null,
   "metadata": {},
   "outputs": [],
   "source": []
  },
  {
   "cell_type": "code",
   "execution_count": null,
   "metadata": {},
   "outputs": [],
   "source": []
  },
  {
   "cell_type": "code",
   "execution_count": null,
   "metadata": {},
   "outputs": [],
   "source": []
  },
  {
   "cell_type": "code",
   "execution_count": null,
   "metadata": {},
   "outputs": [],
   "source": []
  },
  {
   "cell_type": "code",
   "execution_count": null,
   "metadata": {},
   "outputs": [],
   "source": []
  },
  {
   "cell_type": "code",
   "execution_count": null,
   "metadata": {},
   "outputs": [],
   "source": []
  },
  {
   "cell_type": "code",
   "execution_count": null,
   "metadata": {},
   "outputs": [],
   "source": []
  },
  {
   "cell_type": "code",
   "execution_count": null,
   "metadata": {},
   "outputs": [],
   "source": []
  },
  {
   "cell_type": "code",
   "execution_count": null,
   "metadata": {},
   "outputs": [],
   "source": []
  },
  {
   "cell_type": "code",
   "execution_count": null,
   "metadata": {},
   "outputs": [],
   "source": []
  },
  {
   "cell_type": "code",
   "execution_count": null,
   "metadata": {},
   "outputs": [],
   "source": []
  },
  {
   "cell_type": "code",
   "execution_count": null,
   "metadata": {},
   "outputs": [],
   "source": []
  },
  {
   "cell_type": "code",
   "execution_count": null,
   "metadata": {},
   "outputs": [],
   "source": []
  },
  {
   "cell_type": "code",
   "execution_count": null,
   "metadata": {},
   "outputs": [],
   "source": []
  },
  {
   "cell_type": "code",
   "execution_count": null,
   "metadata": {},
   "outputs": [],
   "source": []
  },
  {
   "cell_type": "code",
   "execution_count": null,
   "metadata": {},
   "outputs": [],
   "source": []
  },
  {
   "cell_type": "code",
   "execution_count": null,
   "metadata": {},
   "outputs": [],
   "source": []
  },
  {
   "cell_type": "code",
   "execution_count": null,
   "metadata": {},
   "outputs": [],
   "source": []
  },
  {
   "cell_type": "code",
   "execution_count": null,
   "metadata": {},
   "outputs": [],
   "source": []
  },
  {
   "cell_type": "code",
   "execution_count": null,
   "metadata": {},
   "outputs": [],
   "source": []
  },
  {
   "cell_type": "code",
   "execution_count": null,
   "metadata": {},
   "outputs": [],
   "source": []
  },
  {
   "cell_type": "code",
   "execution_count": null,
   "metadata": {},
   "outputs": [],
   "source": []
  },
  {
   "cell_type": "code",
   "execution_count": null,
   "metadata": {},
   "outputs": [],
   "source": []
  },
  {
   "cell_type": "code",
   "execution_count": null,
   "metadata": {},
   "outputs": [],
   "source": []
  },
  {
   "cell_type": "code",
   "execution_count": null,
   "metadata": {},
   "outputs": [],
   "source": []
  },
  {
   "cell_type": "code",
   "execution_count": null,
   "metadata": {},
   "outputs": [],
   "source": []
  },
  {
   "cell_type": "code",
   "execution_count": null,
   "metadata": {},
   "outputs": [],
   "source": []
  },
  {
   "cell_type": "code",
   "execution_count": null,
   "metadata": {},
   "outputs": [],
   "source": []
  },
  {
   "cell_type": "code",
   "execution_count": null,
   "metadata": {},
   "outputs": [],
   "source": []
  },
  {
   "cell_type": "code",
   "execution_count": null,
   "metadata": {},
   "outputs": [],
   "source": []
  },
  {
   "cell_type": "code",
   "execution_count": null,
   "metadata": {},
   "outputs": [],
   "source": []
  },
  {
   "cell_type": "code",
   "execution_count": null,
   "metadata": {},
   "outputs": [],
   "source": []
  },
  {
   "cell_type": "code",
   "execution_count": null,
   "metadata": {},
   "outputs": [],
   "source": []
  },
  {
   "cell_type": "code",
   "execution_count": null,
   "metadata": {},
   "outputs": [],
   "source": []
  },
  {
   "cell_type": "code",
   "execution_count": null,
   "metadata": {},
   "outputs": [],
   "source": []
  }
 ],
 "metadata": {
  "kernelspec": {
   "display_name": "Python 3",
   "language": "python",
   "name": "python3"
  },
  "language_info": {
   "codemirror_mode": {
    "name": "ipython",
    "version": 3
   },
   "file_extension": ".py",
   "mimetype": "text/x-python",
   "name": "python",
   "nbconvert_exporter": "python",
   "pygments_lexer": "ipython3",
   "version": "3.7.4"
  }
 },
 "nbformat": 4,
 "nbformat_minor": 2
}
