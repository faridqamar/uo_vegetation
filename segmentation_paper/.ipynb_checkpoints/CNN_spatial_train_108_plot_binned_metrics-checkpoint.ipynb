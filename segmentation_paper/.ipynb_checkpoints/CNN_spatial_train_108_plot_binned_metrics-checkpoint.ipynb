{
 "cells": [
  {
   "cell_type": "markdown",
   "metadata": {},
   "source": [
    "## Read and Plot the metrics from the testing of the CNN\n",
    "\n",
    "### CNN ran with spatial component added, with the spectra binned into various channels/bin values & the metrics saved in ./metrics/ directory as .txt files\n",
    "\n",
    "---"
   ]
  },
  {
   "cell_type": "code",
   "execution_count": 1,
   "metadata": {},
   "outputs": [],
   "source": [
    "import numpy as np\n",
    "import matplotlib.pyplot as plt"
   ]
  },
  {
   "cell_type": "code",
   "execution_count": 2,
   "metadata": {},
   "outputs": [],
   "source": [
    "# setup array with the total number of channels (each bin contains 848/#channels)\n",
    "\n",
    "channels = np.array([848, 424, 283, 212, 170, 142, 122, 106, 85, 53, 22])"
   ]
  },
  {
   "cell_type": "code",
   "execution_count": 3,
   "metadata": {},
   "outputs": [],
   "source": [
    "testimage = ['108', '000', 'north']"
   ]
  },
  {
   "cell_type": "code",
   "execution_count": 4,
   "metadata": {},
   "outputs": [],
   "source": [
    "accuracy = {'108':[], '000':[], 'north':[]}\n",
    "avg_prec = {'108':[], '000':[], 'north':[]}\n",
    "avg_recall = {'108':[], '000':[], 'north':[]}\n",
    "veg_prec = {'108':[], '000':[], 'north':[]}\n",
    "veg_recall = {'108':[], '000':[], 'north':[]}"
   ]
  },
  {
   "cell_type": "code",
   "execution_count": 5,
   "metadata": {},
   "outputs": [],
   "source": [
    "# loop through files reading:\n",
    "# accuracy, avg precision and recall, and vegetation precision and recall\n",
    "\n",
    "for testim in testimage:\n",
    "    for channel in channels:\n",
    "        filename = \"./metrics/CNN_spatial_train_108_test_\" + testim + \\\n",
    "                    \"_binned_\" + str(channel) + \"_metrics.txt\"\n",
    "        f = open(filename, \"r\")\n",
    "        f1 = f.readlines()\n",
    "\n",
    "        # read accuracy from 13th line\n",
    "        accuracy[testim].append(float(f1[12]))\n",
    "\n",
    "        # read avg_prec and avg_recall from 28th line\n",
    "        Nums = []\n",
    "        for num in f1[27].split():\n",
    "            try:\n",
    "                Nums.append(float(num))\n",
    "            except ValueError:\n",
    "                pass\n",
    "        avg_prec[testim].append(Nums[0])\n",
    "        avg_recall[testim].append(Nums[1])        \n",
    "        \n",
    "        # read veg_prec and veg_recall from 20th line\n",
    "        Nums = []\n",
    "        for num in f1[19].split():\n",
    "            try:\n",
    "                Nums.append(float(num))\n",
    "            except ValueError:\n",
    "                pass\n",
    "        veg_prec[testim].append(Nums[0])\n",
    "        veg_recall[testim].append(Nums[1])  \n",
    "        f.close()"
   ]
  },
  {
   "cell_type": "code",
   "execution_count": 6,
   "metadata": {},
   "outputs": [
    {
     "name": "stdout",
     "output_type": "stream",
     "text": [
      "{'108': [0.93625, 0.92375, 0.916875, 0.9315625, 0.915625, 0.9321875, 0.92625, 0.9196875, 0.9175, 0.895625, 0.923125], '000': [0.5500562429696289, 0.547806524184477, 0.5444319460067492, 0.5601799775028121, 0.546962879640045, 0.5489313835770528, 0.5551181102362205, 0.5596175478065242, 0.5565241844769404, 0.5213723284589427, 0.562429696287964], 'north': [0.3759829968119022, 0.3851222104144527, 0.4529224229543039, 0.4493092454835282, 0.50201912858661, 0.48905419766206165, 0.4873538788522848, 0.4875664187035069, 0.46057385759829966, 0.45419766206163653, 0.4733262486716259]}\n"
     ]
    }
   ],
   "source": [
    "print(accuracy)"
   ]
  },
  {
   "cell_type": "code",
   "execution_count": 7,
   "metadata": {},
   "outputs": [
    {
     "name": "stdout",
     "output_type": "stream",
     "text": [
      "{'108': [0.93, 0.93, 0.92, 0.92, 0.9, 0.92, 0.92, 0.91, 0.91, 0.9, 0.92], '000': [0.69, 0.68, 0.65, 0.68, 0.65, 0.55, 0.68, 0.68, 0.67, 0.5, 0.65], 'north': [0.27, 0.31, 0.37, 0.29, 0.35, 0.38, 0.39, 0.37, 0.34, 0.25, 0.28]}\n"
     ]
    }
   ],
   "source": [
    "print(avg_prec)"
   ]
  },
  {
   "cell_type": "code",
   "execution_count": 8,
   "metadata": {},
   "outputs": [
    {
     "name": "stdout",
     "output_type": "stream",
     "text": [
      "{'108': [0.94, 0.92, 0.92, 0.93, 0.92, 0.93, 0.93, 0.92, 0.92, 0.9, 0.92], '000': [0.55, 0.55, 0.54, 0.56, 0.55, 0.55, 0.56, 0.56, 0.56, 0.52, 0.56], 'north': [0.38, 0.39, 0.45, 0.45, 0.5, 0.49, 0.49, 0.49, 0.46, 0.45, 0.47]}\n"
     ]
    }
   ],
   "source": [
    "print(avg_recall)"
   ]
  },
  {
   "cell_type": "code",
   "execution_count": 10,
   "metadata": {},
   "outputs": [
    {
     "name": "stdout",
     "output_type": "stream",
     "text": [
      "{'108': [1.0, 1.0, 1.0, 1.0, 1.0, 1.0, 1.0, 1.0, 1.0, 1.0, 1.0], '000': [0.96, 0.95, 0.96, 0.94, 0.96, 0.97, 0.95, 0.96, 0.96, 0.98, 0.99], 'north': [0.85, 0.81, 0.98, 0.67, 0.91, 0.95, 0.94, 0.94, 0.74, 0.76, 0.96]}\n"
     ]
    }
   ],
   "source": [
    "print(veg_prec)"
   ]
  },
  {
   "cell_type": "code",
   "execution_count": 11,
   "metadata": {},
   "outputs": [
    {
     "name": "stdout",
     "output_type": "stream",
     "text": [
      "{'108': [0.99, 0.99, 0.99, 0.99, 0.99, 0.99, 0.99, 0.99, 0.99, 0.99, 0.99], '000': [0.92, 0.94, 0.98, 0.95, 0.95, 0.94, 0.95, 0.93, 0.96, 0.92, 0.91], 'north': [1.0, 0.99, 0.86, 1.0, 1.0, 1.0, 1.0, 1.0, 1.0, 1.0, 1.0]}\n"
     ]
    }
   ],
   "source": [
    "print(veg_recall)"
   ]
  },
  {
   "cell_type": "code",
   "execution_count": null,
   "metadata": {},
   "outputs": [],
   "source": []
  },
  {
   "cell_type": "code",
   "execution_count": null,
   "metadata": {},
   "outputs": [],
   "source": []
  },
  {
   "cell_type": "code",
   "execution_count": null,
   "metadata": {},
   "outputs": [],
   "source": []
  },
  {
   "cell_type": "code",
   "execution_count": null,
   "metadata": {},
   "outputs": [],
   "source": []
  }
 ],
 "metadata": {
  "kernelspec": {
   "display_name": "Python 3",
   "language": "python",
   "name": "python3"
  },
  "language_info": {
   "codemirror_mode": {
    "name": "ipython",
    "version": 3
   },
   "file_extension": ".py",
   "mimetype": "text/x-python",
   "name": "python",
   "nbconvert_exporter": "python",
   "pygments_lexer": "ipython3",
   "version": "3.6.8"
  }
 },
 "nbformat": 4,
 "nbformat_minor": 2
}
